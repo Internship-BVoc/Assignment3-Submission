{
  "nbformat": 4,
  "nbformat_minor": 0,
  "metadata": {
    "colab": {
      "name": "Assignment3_Anuarg.ipynb",
      "provenance": [],
      "collapsed_sections": []
    },
    "kernelspec": {
      "name": "python3",
      "display_name": "Python 3"
    }
  },
  "cells": [
    {
      "cell_type": "markdown",
      "metadata": {
        "id": "zCR_aMoZAwQB",
        "colab_type": "text"
      },
      "source": [
        "# **ANURAG**\n",
        "\n",
        "*DATA DESCRIPTION*"
      ]
    },
    {
      "cell_type": "code",
      "metadata": {
        "id": "t4ts1J6x8Orr",
        "colab_type": "code",
        "outputId": "9581216c-b081-4cc1-bbdf-6d737a606636",
        "colab": {
          "base_uri": "https://localhost:8080/",
          "height": 347
        }
      },
      "source": [
        "import pandas as pd\n",
        "df=pd.read_csv('/content/dataset_model.csv')\n",
        "df.head(10)\n"
      ],
      "execution_count": 0,
      "outputs": [
        {
          "output_type": "execute_result",
          "data": {
            "text/html": [
              "<div>\n",
              "<style scoped>\n",
              "    .dataframe tbody tr th:only-of-type {\n",
              "        vertical-align: middle;\n",
              "    }\n",
              "\n",
              "    .dataframe tbody tr th {\n",
              "        vertical-align: top;\n",
              "    }\n",
              "\n",
              "    .dataframe thead th {\n",
              "        text-align: right;\n",
              "    }\n",
              "</style>\n",
              "<table border=\"1\" class=\"dataframe\">\n",
              "  <thead>\n",
              "    <tr style=\"text-align: right;\">\n",
              "      <th></th>\n",
              "      <th>Loan_ID</th>\n",
              "      <th>Gender</th>\n",
              "      <th>Married</th>\n",
              "      <th>Dependents</th>\n",
              "      <th>Education</th>\n",
              "      <th>Self_Employed</th>\n",
              "      <th>ApplicantIncome</th>\n",
              "      <th>CoapplicantIncome</th>\n",
              "      <th>LoanAmount</th>\n",
              "      <th>Loan_Amount_Term</th>\n",
              "      <th>Credit_History</th>\n",
              "      <th>Property_Area</th>\n",
              "      <th>Loan_Status</th>\n",
              "    </tr>\n",
              "  </thead>\n",
              "  <tbody>\n",
              "    <tr>\n",
              "      <th>0</th>\n",
              "      <td>LP001002</td>\n",
              "      <td>Male</td>\n",
              "      <td>No</td>\n",
              "      <td>0</td>\n",
              "      <td>Graduate</td>\n",
              "      <td>No</td>\n",
              "      <td>5849</td>\n",
              "      <td>0.0</td>\n",
              "      <td>NaN</td>\n",
              "      <td>360.0</td>\n",
              "      <td>1.0</td>\n",
              "      <td>Urban</td>\n",
              "      <td>Y</td>\n",
              "    </tr>\n",
              "    <tr>\n",
              "      <th>1</th>\n",
              "      <td>LP001003</td>\n",
              "      <td>Male</td>\n",
              "      <td>Yes</td>\n",
              "      <td>1</td>\n",
              "      <td>Graduate</td>\n",
              "      <td>No</td>\n",
              "      <td>4583</td>\n",
              "      <td>1508.0</td>\n",
              "      <td>128.0</td>\n",
              "      <td>360.0</td>\n",
              "      <td>1.0</td>\n",
              "      <td>Rural</td>\n",
              "      <td>N</td>\n",
              "    </tr>\n",
              "    <tr>\n",
              "      <th>2</th>\n",
              "      <td>LP001005</td>\n",
              "      <td>Male</td>\n",
              "      <td>Yes</td>\n",
              "      <td>0</td>\n",
              "      <td>Graduate</td>\n",
              "      <td>Yes</td>\n",
              "      <td>3000</td>\n",
              "      <td>0.0</td>\n",
              "      <td>66.0</td>\n",
              "      <td>360.0</td>\n",
              "      <td>1.0</td>\n",
              "      <td>Urban</td>\n",
              "      <td>Y</td>\n",
              "    </tr>\n",
              "    <tr>\n",
              "      <th>3</th>\n",
              "      <td>LP001006</td>\n",
              "      <td>Male</td>\n",
              "      <td>Yes</td>\n",
              "      <td>0</td>\n",
              "      <td>Not Graduate</td>\n",
              "      <td>No</td>\n",
              "      <td>2583</td>\n",
              "      <td>2358.0</td>\n",
              "      <td>120.0</td>\n",
              "      <td>360.0</td>\n",
              "      <td>1.0</td>\n",
              "      <td>Urban</td>\n",
              "      <td>Y</td>\n",
              "    </tr>\n",
              "    <tr>\n",
              "      <th>4</th>\n",
              "      <td>LP001008</td>\n",
              "      <td>Male</td>\n",
              "      <td>No</td>\n",
              "      <td>0</td>\n",
              "      <td>Graduate</td>\n",
              "      <td>No</td>\n",
              "      <td>6000</td>\n",
              "      <td>0.0</td>\n",
              "      <td>141.0</td>\n",
              "      <td>360.0</td>\n",
              "      <td>1.0</td>\n",
              "      <td>Urban</td>\n",
              "      <td>Y</td>\n",
              "    </tr>\n",
              "    <tr>\n",
              "      <th>5</th>\n",
              "      <td>LP001011</td>\n",
              "      <td>Male</td>\n",
              "      <td>Yes</td>\n",
              "      <td>2</td>\n",
              "      <td>Graduate</td>\n",
              "      <td>Yes</td>\n",
              "      <td>5417</td>\n",
              "      <td>4196.0</td>\n",
              "      <td>267.0</td>\n",
              "      <td>360.0</td>\n",
              "      <td>1.0</td>\n",
              "      <td>Urban</td>\n",
              "      <td>Y</td>\n",
              "    </tr>\n",
              "    <tr>\n",
              "      <th>6</th>\n",
              "      <td>LP001013</td>\n",
              "      <td>Male</td>\n",
              "      <td>Yes</td>\n",
              "      <td>0</td>\n",
              "      <td>Not Graduate</td>\n",
              "      <td>No</td>\n",
              "      <td>2333</td>\n",
              "      <td>1516.0</td>\n",
              "      <td>95.0</td>\n",
              "      <td>360.0</td>\n",
              "      <td>1.0</td>\n",
              "      <td>Urban</td>\n",
              "      <td>Y</td>\n",
              "    </tr>\n",
              "    <tr>\n",
              "      <th>7</th>\n",
              "      <td>LP001014</td>\n",
              "      <td>Male</td>\n",
              "      <td>Yes</td>\n",
              "      <td>3+</td>\n",
              "      <td>Graduate</td>\n",
              "      <td>No</td>\n",
              "      <td>3036</td>\n",
              "      <td>2504.0</td>\n",
              "      <td>158.0</td>\n",
              "      <td>360.0</td>\n",
              "      <td>0.0</td>\n",
              "      <td>Semiurban</td>\n",
              "      <td>N</td>\n",
              "    </tr>\n",
              "    <tr>\n",
              "      <th>8</th>\n",
              "      <td>LP001018</td>\n",
              "      <td>Male</td>\n",
              "      <td>Yes</td>\n",
              "      <td>2</td>\n",
              "      <td>Graduate</td>\n",
              "      <td>No</td>\n",
              "      <td>4006</td>\n",
              "      <td>1526.0</td>\n",
              "      <td>168.0</td>\n",
              "      <td>360.0</td>\n",
              "      <td>1.0</td>\n",
              "      <td>Urban</td>\n",
              "      <td>Y</td>\n",
              "    </tr>\n",
              "    <tr>\n",
              "      <th>9</th>\n",
              "      <td>LP001020</td>\n",
              "      <td>Male</td>\n",
              "      <td>Yes</td>\n",
              "      <td>1</td>\n",
              "      <td>Graduate</td>\n",
              "      <td>No</td>\n",
              "      <td>12841</td>\n",
              "      <td>10968.0</td>\n",
              "      <td>349.0</td>\n",
              "      <td>360.0</td>\n",
              "      <td>1.0</td>\n",
              "      <td>Semiurban</td>\n",
              "      <td>N</td>\n",
              "    </tr>\n",
              "  </tbody>\n",
              "</table>\n",
              "</div>"
            ],
            "text/plain": [
              "    Loan_ID Gender Married  ... Credit_History Property_Area Loan_Status\n",
              "0  LP001002   Male      No  ...            1.0         Urban           Y\n",
              "1  LP001003   Male     Yes  ...            1.0         Rural           N\n",
              "2  LP001005   Male     Yes  ...            1.0         Urban           Y\n",
              "3  LP001006   Male     Yes  ...            1.0         Urban           Y\n",
              "4  LP001008   Male      No  ...            1.0         Urban           Y\n",
              "5  LP001011   Male     Yes  ...            1.0         Urban           Y\n",
              "6  LP001013   Male     Yes  ...            1.0         Urban           Y\n",
              "7  LP001014   Male     Yes  ...            0.0     Semiurban           N\n",
              "8  LP001018   Male     Yes  ...            1.0         Urban           Y\n",
              "9  LP001020   Male     Yes  ...            1.0     Semiurban           N\n",
              "\n",
              "[10 rows x 13 columns]"
            ]
          },
          "metadata": {
            "tags": []
          },
          "execution_count": 6
        }
      ]
    },
    {
      "cell_type": "code",
      "metadata": {
        "id": "Ba1ZdqmK9iro",
        "colab_type": "code",
        "outputId": "1c626fee-4e99-4c26-fd26-153eeca07708",
        "colab": {
          "base_uri": "https://localhost:8080/",
          "height": 87
        }
      },
      "source": [
        "df.columns"
      ],
      "execution_count": 0,
      "outputs": [
        {
          "output_type": "execute_result",
          "data": {
            "text/plain": [
              "Index(['Loan_ID', 'Gender', 'Married', 'Dependents', 'Education',\n",
              "       'Self_Employed', 'ApplicantIncome', 'CoapplicantIncome', 'LoanAmount',\n",
              "       'Loan_Amount_Term', 'Credit_History', 'Property_Area', 'Loan_Status'],\n",
              "      dtype='object')"
            ]
          },
          "metadata": {
            "tags": []
          },
          "execution_count": 2
        }
      ]
    },
    {
      "cell_type": "code",
      "metadata": {
        "id": "1IgGi_4Mjs5n",
        "colab_type": "code",
        "outputId": "cc16326c-33e3-461b-83e4-000a4bfcd3af",
        "colab": {
          "base_uri": "https://localhost:8080/",
          "height": 34
        }
      },
      "source": [
        "df.shape"
      ],
      "execution_count": 0,
      "outputs": [
        {
          "output_type": "execute_result",
          "data": {
            "text/plain": [
              "(614, 13)"
            ]
          },
          "metadata": {
            "tags": []
          },
          "execution_count": 5
        }
      ]
    },
    {
      "cell_type": "markdown",
      "metadata": {
        "id": "8LopJTp9Q2Px",
        "colab_type": "text"
      },
      "source": [
        "**** Idenitfy & Remove the field that is providing only unique information about records .Capture it in another dataframe***\n",
        "\n",
        "\n",
        "\n",
        "---\n",
        "\n",
        "\n"
      ]
    },
    {
      "cell_type": "code",
      "metadata": {
        "id": "7yr0AmEBjAOc",
        "colab_type": "code",
        "outputId": "5b604c2a-f2c3-4b0a-8af2-a906ba30a451",
        "colab": {
          "base_uri": "https://localhost:8080/",
          "height": 197
        }
      },
      "source": [
        "dfc=df.copy()\n",
        "df2=dfc.drop(columns=['Loan_ID'])\n",
        "df2.head()"
      ],
      "execution_count": 0,
      "outputs": [
        {
          "output_type": "execute_result",
          "data": {
            "text/html": [
              "<div>\n",
              "<style scoped>\n",
              "    .dataframe tbody tr th:only-of-type {\n",
              "        vertical-align: middle;\n",
              "    }\n",
              "\n",
              "    .dataframe tbody tr th {\n",
              "        vertical-align: top;\n",
              "    }\n",
              "\n",
              "    .dataframe thead th {\n",
              "        text-align: right;\n",
              "    }\n",
              "</style>\n",
              "<table border=\"1\" class=\"dataframe\">\n",
              "  <thead>\n",
              "    <tr style=\"text-align: right;\">\n",
              "      <th></th>\n",
              "      <th>Gender</th>\n",
              "      <th>Married</th>\n",
              "      <th>Dependents</th>\n",
              "      <th>Education</th>\n",
              "      <th>Self_Employed</th>\n",
              "      <th>ApplicantIncome</th>\n",
              "      <th>CoapplicantIncome</th>\n",
              "      <th>LoanAmount</th>\n",
              "      <th>Loan_Amount_Term</th>\n",
              "      <th>Credit_History</th>\n",
              "      <th>Property_Area</th>\n",
              "      <th>Loan_Status</th>\n",
              "    </tr>\n",
              "  </thead>\n",
              "  <tbody>\n",
              "    <tr>\n",
              "      <th>0</th>\n",
              "      <td>Male</td>\n",
              "      <td>No</td>\n",
              "      <td>0</td>\n",
              "      <td>Graduate</td>\n",
              "      <td>No</td>\n",
              "      <td>5849</td>\n",
              "      <td>0.0</td>\n",
              "      <td>NaN</td>\n",
              "      <td>360.0</td>\n",
              "      <td>1.0</td>\n",
              "      <td>Urban</td>\n",
              "      <td>Y</td>\n",
              "    </tr>\n",
              "    <tr>\n",
              "      <th>1</th>\n",
              "      <td>Male</td>\n",
              "      <td>Yes</td>\n",
              "      <td>1</td>\n",
              "      <td>Graduate</td>\n",
              "      <td>No</td>\n",
              "      <td>4583</td>\n",
              "      <td>1508.0</td>\n",
              "      <td>128.0</td>\n",
              "      <td>360.0</td>\n",
              "      <td>1.0</td>\n",
              "      <td>Rural</td>\n",
              "      <td>N</td>\n",
              "    </tr>\n",
              "    <tr>\n",
              "      <th>2</th>\n",
              "      <td>Male</td>\n",
              "      <td>Yes</td>\n",
              "      <td>0</td>\n",
              "      <td>Graduate</td>\n",
              "      <td>Yes</td>\n",
              "      <td>3000</td>\n",
              "      <td>0.0</td>\n",
              "      <td>66.0</td>\n",
              "      <td>360.0</td>\n",
              "      <td>1.0</td>\n",
              "      <td>Urban</td>\n",
              "      <td>Y</td>\n",
              "    </tr>\n",
              "    <tr>\n",
              "      <th>3</th>\n",
              "      <td>Male</td>\n",
              "      <td>Yes</td>\n",
              "      <td>0</td>\n",
              "      <td>Not Graduate</td>\n",
              "      <td>No</td>\n",
              "      <td>2583</td>\n",
              "      <td>2358.0</td>\n",
              "      <td>120.0</td>\n",
              "      <td>360.0</td>\n",
              "      <td>1.0</td>\n",
              "      <td>Urban</td>\n",
              "      <td>Y</td>\n",
              "    </tr>\n",
              "    <tr>\n",
              "      <th>4</th>\n",
              "      <td>Male</td>\n",
              "      <td>No</td>\n",
              "      <td>0</td>\n",
              "      <td>Graduate</td>\n",
              "      <td>No</td>\n",
              "      <td>6000</td>\n",
              "      <td>0.0</td>\n",
              "      <td>141.0</td>\n",
              "      <td>360.0</td>\n",
              "      <td>1.0</td>\n",
              "      <td>Urban</td>\n",
              "      <td>Y</td>\n",
              "    </tr>\n",
              "  </tbody>\n",
              "</table>\n",
              "</div>"
            ],
            "text/plain": [
              "  Gender Married Dependents  ... Credit_History Property_Area  Loan_Status\n",
              "0   Male      No          0  ...            1.0         Urban            Y\n",
              "1   Male     Yes          1  ...            1.0         Rural            N\n",
              "2   Male     Yes          0  ...            1.0         Urban            Y\n",
              "3   Male     Yes          0  ...            1.0         Urban            Y\n",
              "4   Male      No          0  ...            1.0         Urban            Y\n",
              "\n",
              "[5 rows x 12 columns]"
            ]
          },
          "metadata": {
            "tags": []
          },
          "execution_count": 24
        }
      ]
    },
    {
      "cell_type": "code",
      "metadata": {
        "id": "cwOZ5_hjl4di",
        "colab_type": "code",
        "outputId": "b4c3b0f6-116c-4880-a39a-86feb8305ee3",
        "colab": {
          "base_uri": "https://localhost:8080/",
          "height": 34
        }
      },
      "source": [
        "df2.shape"
      ],
      "execution_count": 0,
      "outputs": [
        {
          "output_type": "execute_result",
          "data": {
            "text/plain": [
              "(614, 12)"
            ]
          },
          "metadata": {
            "tags": []
          },
          "execution_count": 8
        }
      ]
    },
    {
      "cell_type": "code",
      "metadata": {
        "id": "Y5bbXrn7ju5y",
        "colab_type": "code",
        "outputId": "d8f0935d-9f58-4217-d44f-f7c24c0267ce",
        "colab": {
          "base_uri": "https://localhost:8080/",
          "height": 123
        }
      },
      "source": [
        "continuousColumns = [i for i in df2 if len(df2[i].unique())>3]\n",
        "categoricalColumns = [i for i in df2 if len(df2[i].unique())<5]\n",
        "print(\"List of continuous Columns\\n{}\\n\\nList of Categorical Columns\\n{}\\n\".format(continuousColumns,categoricalColumns))"
      ],
      "execution_count": 0,
      "outputs": [
        {
          "output_type": "stream",
          "text": [
            "List of continuous Columns\n",
            "['Dependents', 'ApplicantIncome', 'CoapplicantIncome', 'LoanAmount', 'Loan_Amount_Term']\n",
            "\n",
            "List of Categorical Columns\n",
            "['Gender', 'Married', 'Education', 'Self_Employed', 'Credit_History', 'Property_Area', 'Loan_Status']\n",
            "\n"
          ],
          "name": "stdout"
        }
      ]
    },
    {
      "cell_type": "code",
      "metadata": {
        "id": "CvzYfSVuDDoV",
        "colab_type": "code",
        "outputId": "8e283f28-6f44-4b73-f7c1-ab3b13a17d2c",
        "colab": {
          "base_uri": "https://localhost:8080/",
          "height": 1000
        }
      },
      "source": [
        "b=[]\n",
        "a=df4.columns\n",
        "for i in a:\n",
        "  b.append(i)\n",
        "  for k in b:\n",
        "   \n",
        "    d=df4[k].unique()\n",
        "  print('\\n','Variable Name : ',k)\n",
        "  print('Total values in' ,k,'is = ',len(d))\n",
        "  print(d)\n"
      ],
      "execution_count": 0,
      "outputs": [
        {
          "output_type": "stream",
          "text": [
            "\n",
            " Variable Name :  Gender\n",
            "Total values in Gender is =  2\n",
            "['Male' 'Female']\n",
            "\n",
            " Variable Name :  Married\n",
            "Total values in Married is =  2\n",
            "['No' 'Yes']\n",
            "\n",
            " Variable Name :  Dependents\n",
            "Total values in Dependents is =  4\n",
            "['0' '1' '2' '3+']\n",
            "\n",
            " Variable Name :  Education\n",
            "Total values in Education is =  2\n",
            "['Graduate' 'Not Graduate']\n",
            "\n",
            " Variable Name :  Self_Employed\n",
            "Total values in Self_Employed is =  2\n",
            "['No' 'Yes']\n",
            "\n",
            " Variable Name :  ApplicantIncome\n",
            "Total values in ApplicantIncome is =  505\n",
            "[ 5849  4583  3000  2583  6000  5417  2333  3036  4006 12841  3200  2500\n",
            "  3073  1853  1299  4950  3596  3510  4887  2600  7660  5955  3365  3717\n",
            "  9560  2799  4226  1442  3750  4166  3167  4692  3500 12500  2275  1828\n",
            "  3667  3748  3600  1800  2400  3941  4695  3410  5649  5821  2645  4000\n",
            "  1928  3086  4230  4616 11500  2708  2132  3366  8080  3357  3029  2609\n",
            "  4945  5726 10750  7100  4300  3208  1875  4755  5266  1000  3333  3846\n",
            "  2395  1378  3988  2366  8566  5695  2958  6250  3273  4133  3620  6782\n",
            "  2484  1977  4188  1759  4288  4843 13650  4652  3816  3052 11417  7333\n",
            "  3800  2071  5316  2929  3572  7451  5050 14583  2214  5568 10408  5667\n",
            "  2137  2957  3692 23803  3865 10513  6080 20166  2014  2718  3459  4895\n",
            "  3316 14999  4200  5042  6950  2698 11757  2330 14866  1538 10000  4860\n",
            "  6277  2577  9166  2281  3254 39999  9538  2980  1863  7933  3089  4167\n",
            "  9323  3707  2439  2237  8000  1820 51763  3522  5708  4344  3497  2045\n",
            "  5516  6400  1916  4600 33846  3625 39147  2178  2383   674  9328  4885\n",
            " 12000  6033  3858  4191  3125  8333  1907  3416 11000  4923  3992  3917\n",
            "  4408  3244  3975  2479  3418  3430  7787  5703  3173  3850   150  3727\n",
            "  5000  4283  2221  4009  2971  7578  3250  4735  4758  2491  3716  3189\n",
            "  3155  5500  5746  3463  3812  3315  5819  2510  2965  3406  6050  9703\n",
            "  6608  2882  1809  1668  3427  2661 16250  3083  6045  5250 14683  4931\n",
            "  6083  2060  3481  7200  5166  4095  4708  4333  2876  3237 11146  2833\n",
            "  2620  3900  2750  3993  3103  4100  4053  3927  2301  1811 20667  3158\n",
            "  3704  4124  9508  3075  4400  3153  4416  6875  4666  2875  1625  2000\n",
            "  3762 20233  7667  2917  2927  2507  2473  3399  2058  3541  4342  3601\n",
            "  3166 15000  8666  4917  5818  4384  2935 63337  9833  5503  1830  4160\n",
            "  2647  2378  4554  2499  3523  6333  2625  9083  8750  2666  2423  3813\n",
            "  3875  5167  4723  4750  3013  6822  6216  5124  6325 19730 15759  5185\n",
            "  3062  2764  4817  4310  3069  5391  5941  7167  4566  2346  3010  5488\n",
            "  9167  9504  1993  3100  3276  3180  3033  3902  1500  2889  2755  1963\n",
            "  7441  4547  2167  2213  8300 81000  3867  6256  6096  2253  2149  2995\n",
            "  1600  1025  3246  5829  2720  7250 14880  4606  5935  2920  2717  8624\n",
            "  6500 12876  2425 10047  1926 10416  7142  3660  7901  4707 37719  3466\n",
            "  3539  3340  2769  2309  1958  3948  2483  7085  3859  4301  3708  4354\n",
            "  8334  2083  7740  3015  5191  2947 16692   210  3450  2653  4691  5532\n",
            " 16525  6700  2873 16667  4350  3095 10833  3547 18333  2435  2699  5333\n",
            "  3691 17263  3597  3326  4625  2895  6283   645  3159  4865  4050  3814\n",
            " 20833  3583 13262  3598  6065  3283  2130  5815  2031  3074  4683  3400\n",
            "  2192  5677  7948  4680 17500  3775  5285  2679  6783  4281  3588 11250\n",
            " 18165  2550  6133  3617  6417  4608  2138  3652  2239  3017  2768  3358\n",
            "  2526  2785  6633  2492  2454  3593  5468  2667 10139  3887  4180  3675\n",
            " 19484  5923  5800  8799  4467  3417  5116 16666  6125  6406  3087  3229\n",
            "  1782  3182  6540  1836  1880  2787  2297  2165  2726  9357 16120  3833\n",
            "  6383  2987  9963  5780   416  2894  3676  3987  3232  2900  4106  8072\n",
            "  7583]\n",
            "\n",
            " Variable Name :  CoapplicantIncome\n",
            "Total values in CoapplicantIncome is =  287\n",
            "[0.00000000e+00 1.50800000e+03 2.35800000e+03 4.19600000e+03\n",
            " 1.51600000e+03 2.50400000e+03 1.52600000e+03 1.09680000e+04\n",
            " 7.00000000e+02 1.84000000e+03 8.10600000e+03 2.84000000e+03\n",
            " 1.08600000e+03 3.50000000e+03 5.62500000e+03 1.91100000e+03\n",
            " 1.91700000e+03 2.92500000e+03 2.25300000e+03 1.04000000e+03\n",
            " 2.08300000e+03 3.36900000e+03 1.66700000e+03 3.00000000e+03\n",
            " 2.06700000e+03 1.33000000e+03 1.45900000e+03 7.21000000e+03\n",
            " 1.66800000e+03 1.21300000e+03 2.33600000e+03 3.44000000e+03\n",
            " 2.27500000e+03 1.64400000e+03 1.16700000e+03 1.59100000e+03\n",
            " 2.20000000e+03 2.25000000e+03 2.85900000e+03 3.79600000e+03\n",
            " 3.44900000e+03 4.59500000e+03 2.25400000e+03 3.06600000e+03\n",
            " 1.87500000e+03 1.77400000e+03 4.75000000e+03 3.02200000e+03\n",
            " 4.00000000e+03 2.16600000e+03 1.88100000e+03 2.53100000e+03\n",
            " 2.00000000e+03 2.11800000e+03 4.16700000e+03 2.90000000e+03\n",
            " 5.65400000e+03 1.82000000e+03 2.30200000e+03 9.97000000e+02\n",
            " 3.54100000e+03 3.26300000e+03 3.80600000e+03 3.58300000e+03\n",
            " 7.54000000e+02 1.03000000e+03 1.12600000e+03 3.60000000e+03\n",
            " 2.33300000e+03 4.11400000e+03 2.28300000e+03 1.39800000e+03\n",
            " 2.14200000e+03 2.66700000e+03 8.98000000e+03 2.01400000e+03\n",
            " 1.64000000e+03 3.85000000e+03 2.56900000e+03 1.92900000e+03\n",
            " 7.75000000e+03 1.43000000e+03 2.03400000e+03 4.48600000e+03\n",
            " 1.42500000e+03 1.66600000e+03 8.30000000e+02 3.75000000e+03\n",
            " 1.04100000e+03 1.28000000e+03 1.44700000e+03 3.16600000e+03\n",
            " 3.33300000e+03 1.76900000e+03 7.36000000e+02 1.96400000e+03\n",
            " 1.61900000e+03 1.13000000e+04 1.45100000e+03 7.25000000e+03\n",
            " 5.06300000e+03 2.13800000e+03 5.29600000e+03 2.58300000e+03\n",
            " 2.36500000e+03 2.81600000e+03 2.50000000e+03 1.08300000e+03\n",
            " 1.25000000e+03 3.02100000e+03 9.83000000e+02 1.80000000e+03\n",
            " 1.77500000e+03 2.38300000e+03 1.71700000e+03 2.79100000e+03\n",
            " 1.01000000e+03 1.69500000e+03 2.05400000e+03 2.59800000e+03\n",
            " 1.77900000e+03 1.26000000e+03 5.00000000e+03 1.98300000e+03\n",
            " 5.70100000e+03 1.30000000e+03 4.41700000e+03 4.33300000e+03\n",
            " 1.84300000e+03 1.86800000e+03 3.89000000e+03 2.16700000e+03\n",
            " 7.10100000e+03 2.10000000e+03 4.25000000e+03 2.20900000e+03\n",
            " 3.44700000e+03 1.38700000e+03 1.81100000e+03 1.56000000e+03\n",
            " 1.85700000e+03 2.22300000e+03 1.84200000e+03 3.27400000e+03\n",
            " 2.42600000e+03 8.00000000e+02 9.85799988e+02 3.05300000e+03\n",
            " 2.41600000e+03 3.33400000e+03 2.54100000e+03 2.93400000e+03\n",
            " 1.75000000e+03 1.80300000e+03 1.86300000e+03 2.40500000e+03\n",
            " 2.13400000e+03 1.89000000e+02 1.59000000e+03 2.98500000e+03\n",
            " 4.98300000e+03 2.16000000e+03 2.45100000e+03 1.79300000e+03\n",
            " 1.83300000e+03 4.49000000e+03 6.88000000e+02 4.60000000e+03\n",
            " 1.58700000e+03 1.22900000e+03 2.33000000e+03 2.45800000e+03\n",
            " 3.23000000e+03 2.16800000e+03 4.58300000e+03 6.25000000e+03\n",
            " 5.05000000e+02 3.16700000e+03 3.66700000e+03 3.03300000e+03\n",
            " 5.26600000e+03 7.87300000e+03 1.98700000e+03 9.23000000e+02\n",
            " 4.99600000e+03 4.23200000e+03 1.60000000e+03 3.13600000e+03\n",
            " 2.41700000e+03 2.11500000e+03 1.62500000e+03 1.40000000e+03\n",
            " 4.84000000e+02 2.00000000e+04 2.40000000e+03 2.03300000e+03\n",
            " 3.23700000e+03 2.77300000e+03 1.41700000e+03 1.71900000e+03\n",
            " 4.30000000e+03 1.61200008e+01 2.34000000e+03 1.85100000e+03\n",
            " 1.12500000e+03 5.06400000e+03 1.99300000e+03 8.33300000e+03\n",
            " 1.21000000e+03 1.37600000e+03 1.71000000e+03 1.54200000e+03\n",
            " 1.25500000e+03 1.45600000e+03 1.73300000e+03 2.46600000e+03\n",
            " 4.08300000e+03 2.18800000e+03 1.66400000e+03 2.91700000e+03\n",
            " 2.07900000e+03 1.50000000e+03 4.64800000e+03 1.01400000e+03\n",
            " 1.87200000e+03 1.60300000e+03 3.15000000e+03 2.43600000e+03\n",
            " 2.78500000e+03 1.13100000e+03 2.15700000e+03 9.13000000e+02\n",
            " 1.70000000e+03 2.85700000e+03 4.41600000e+03 3.68300000e+03\n",
            " 5.62400000e+03 5.30200000e+03 1.48300000e+03 6.66700000e+03\n",
            " 3.01300000e+03 1.28700000e+03 2.00400000e+03 2.03500000e+03\n",
            " 6.66600000e+03 3.66600000e+03 3.42800000e+03 1.63200000e+03\n",
            " 1.91500000e+03 1.74200000e+03 1.42400000e+03 7.16600000e+03\n",
            " 2.08700000e+03 1.30200000e+03 5.50000000e+03 2.04200000e+03\n",
            " 3.90600000e+03 5.36000000e+02 2.84500000e+03 2.52400000e+03\n",
            " 6.63000000e+02 1.95000000e+03 1.78300000e+03 2.01600000e+03\n",
            " 2.37500000e+03 3.25000000e+03 4.26600000e+03 1.03200000e+03\n",
            " 2.66900000e+03 2.30600000e+03 2.42000000e+02 2.06400000e+03\n",
            " 4.61000000e+02 2.21000000e+03 2.73900000e+03 2.23200000e+03\n",
            " 3.38370000e+04 1.52200000e+03 3.41600000e+03 3.30000000e+03\n",
            " 1.00000000e+03 4.16670000e+04 2.79200000e+03 4.30100000e+03\n",
            " 3.80000000e+03 1.41100000e+03 2.40000000e+02]\n",
            "\n",
            " Variable Name :  LoanAmount\n",
            "Total values in LoanAmount is =  203\n",
            "[128.  66. 120. 141. 267.  95. 158. 168. 349.  70. 109. 200. 114.  17.\n",
            " 125. 100.  76. 133. 115. 104. 315. 116. 112. 151. 191. 122. 110.  35.\n",
            " 201.  74. 106. 320. 144. 184.  80.  47.  75. 134.  96.  88.  44. 286.\n",
            "  97. 135. 180.  99. 165. 258. 126. 312. 136. 172.  81. 187. 113. 176.\n",
            " 130. 111. 167. 265.  50. 210. 175. 131. 188.  25. 137. 160. 225. 216.\n",
            "  94. 139. 152. 118. 185. 154.  85. 259. 194.  93. 370. 182. 650. 102.\n",
            " 290.  84. 242. 129.  30. 244. 600. 255.  98. 275. 121.  63. 700.  87.\n",
            " 101. 495.  67.  73. 260. 108.  58.  48. 164. 170.  83.  90. 166. 124.\n",
            "  55.  59. 127. 214. 240.  72.  60. 138.  42. 280. 140. 155. 123. 279.\n",
            " 192. 304. 330. 150. 207. 436.  78.  54.  89. 143. 105. 132. 480.  56.\n",
            " 159. 300. 376. 117.  71. 490. 173.  46. 228. 308. 236. 570. 380. 296.\n",
            " 156. 103.  45.  65.  53. 360.  62. 218. 178. 239. 405. 148. 190. 149.\n",
            " 153. 162. 230.  86. 234. 246. 500. 186. 119. 107. 209. 208. 243.  40.\n",
            " 250. 311. 400. 161. 196. 324. 157. 145. 181.  26. 211.   9. 205.  36.\n",
            "  61. 146. 292. 142. 350. 496. 253.]\n",
            "\n",
            " Variable Name :  Loan_Amount_Term\n",
            "Total values in Loan_Amount_Term is =  10\n",
            "[360. 120. 240. 180.  60. 300. 480.  36.  84.  12.]\n",
            "\n",
            " Variable Name :  Credit_History\n",
            "Total values in Credit_History is =  2\n",
            "[1. 0.]\n",
            "\n",
            " Variable Name :  Property_Area\n",
            "Total values in Property_Area is =  3\n",
            "['Urban' 'Rural' 'Semiurban']\n",
            "\n",
            " Variable Name :  Loan_Status\n",
            "Total values in Loan_Status is =  2\n",
            "['Y' 'N']\n"
          ],
          "name": "stdout"
        }
      ]
    },
    {
      "cell_type": "markdown",
      "metadata": {
        "id": "enBb4IeiSbMw",
        "colab_type": "text"
      },
      "source": [
        "***PROBLEM #2 - * Performing Uni-variate Analysis with Plots.Record your Observations***\n",
        "\n",
        "---\n",
        "\n"
      ]
    },
    {
      "cell_type": "code",
      "metadata": {
        "id": "SW5_tQLiVAwj",
        "colab_type": "code",
        "outputId": "2903078f-06e5-411b-afd0-b0fcde7a629c",
        "colab": {
          "base_uri": "https://localhost:8080/",
          "height": 623
        }
      },
      "source": [
        "df2.hist(figsize=[15,8]) #to show histogram for Continuous variables"
      ],
      "execution_count": 0,
      "outputs": [
        {
          "output_type": "execute_result",
          "data": {
            "text/plain": [
              "array([[<matplotlib.axes._subplots.AxesSubplot object at 0x7f780a3102e8>,\n",
              "        <matplotlib.axes._subplots.AxesSubplot object at 0x7f7809e7abe0>],\n",
              "       [<matplotlib.axes._subplots.AxesSubplot object at 0x7f7809ea7e48>,\n",
              "        <matplotlib.axes._subplots.AxesSubplot object at 0x7f7809e670f0>],\n",
              "       [<matplotlib.axes._subplots.AxesSubplot object at 0x7f7809e1a358>,\n",
              "        <matplotlib.axes._subplots.AxesSubplot object at 0x7f7809dce5c0>]],\n",
              "      dtype=object)"
            ]
          },
          "metadata": {
            "tags": []
          },
          "execution_count": 13
        },
        {
          "output_type": "display_data",
          "data": {
            "image/png": "[encoded data removed]",
            "text/plain": [
              "<Figure size 1080x576 with 6 Axes>"
            ]
          },
          "metadata": {
            "tags": [],
            "needs_background": "light"
          }
        }
      ]
    },
    {
      "cell_type": "markdown",
      "metadata": {
        "id": "HLle8DDtnTYi",
        "colab_type": "text"
      },
      "source": [
        "***INFRENCES :***\n",
        "*   ApplicantIncome: more then 500 applicant incocome lies between 0-10000\n",
        "*   Credit_History: it shows there is more then 400 apllicant whoese credit history as 1.0 \n",
        "\n",
        "\n"
      ]
    },
    {
      "cell_type": "markdown",
      "metadata": {
        "id": "TNh9Ldo6SsHW",
        "colab_type": "text"
      },
      "source": [
        "***PROBLEM #4 -\t* Perform Bi-variate Analysis among all Independent variables.Draw appropriate Plots , mention observations***  \n",
        "\n",
        "---\n",
        "\n"
      ]
    },
    {
      "cell_type": "code",
      "metadata": {
        "id": "aWyBnJa0HgoQ",
        "colab_type": "code",
        "colab": {}
      },
      "source": [
        "df2.plot.scatter(x='Loan_Status', y='Gender')"
      ],
      "execution_count": 0,
      "outputs": []
    },
    {
      "cell_type": "code",
      "metadata": {
        "id": "w7gwFR1VwHaN",
        "colab_type": "code",
        "outputId": "69174394-6e0f-42cf-bd3e-da5e9d31eff7",
        "colab": {
          "base_uri": "https://localhost:8080/",
          "height": 34
        }
      },
      "source": [
        "df2['Gender'].unique()"
      ],
      "execution_count": 0,
      "outputs": [
        {
          "output_type": "execute_result",
          "data": {
            "text/plain": [
              "array(['Male', 'Female', nan], dtype=object)"
            ]
          },
          "metadata": {
            "tags": []
          },
          "execution_count": 26
        }
      ]
    },
    {
      "cell_type": "markdown",
      "metadata": {
        "id": "roHMIKP-S7G7",
        "colab_type": "text"
      },
      "source": [
        "\n",
        "\n",
        "***PROBLEM #5 -* Perform Bi-variate Analysis between Target Variable and each Independent variable. Use suitable plot , mention observations,trends etc***\n",
        "\n",
        "---\n",
        "\n",
        "\n"
      ]
    },
    {
      "cell_type": "code",
      "metadata": {
        "id": "VDQdV9Uqnlkz",
        "colab_type": "code",
        "colab": {
          "base_uri": "https://localhost:8080/",
          "height": 526
        },
        "outputId": "3510eb40-1841-4fff-9805-5ce84b1cac0c"
      },
      "source": [
        "import seaborn as sns\n",
        "import matplotlib.pyplot as plt\n",
        "sns.set(style=\"whitegrid\", color_codes=True)\n",
        "sns.set(rc={'figure.figsize':(11.7,8.27)})\n",
        "sns.countplot('Gender',data=df,hue = 'Loan_Status')\n",
        "sns.despine(offset=10, trim=True)"
      ],
      "execution_count": 359,
      "outputs": [
        {
          "output_type": "display_data",
          "data": {
            "image/png": "[encoded data removed]",
            "text/plain": [
              "<Figure size 842.4x595.44 with 1 Axes>"
            ]
          },
          "metadata": {
            "tags": []
          }
        }
      ]
    },
    {
      "cell_type": "markdown",
      "metadata": {
        "id": "oZthOc6n8-uH",
        "colab_type": "text"
      },
      "source": [
        "\n",
        "\n",
        "*   there is most of male applicant whose loan status as **Y**\n",
        "*   approx in all of applicant half, apllicant loan status is y \n",
        "\n"
      ]
    },
    {
      "cell_type": "code",
      "metadata": {
        "id": "EpQ9Qqz2yf1w",
        "colab_type": "code",
        "colab": {
          "base_uri": "https://localhost:8080/",
          "height": 526
        },
        "outputId": "7dcd44e2-cdb0-480f-9ee9-a5eba51147ee"
      },
      "source": [
        "sns.set(style=\"whitegrid\", color_codes=True)\n",
        "sns.set(rc={'figure.figsize':(11.7,8.27)})\n",
        "sns.countplot('Dependents',data=df,hue = 'Loan_Status')\n",
        "sns.despine(offset=10, trim=True)"
      ],
      "execution_count": 363,
      "outputs": [
        {
          "output_type": "display_data",
          "data": {
            "image/png": "[encoded data removed]",
            "text/plain": [
              "<Figure size 842.4x595.44 with 1 Axes>"
            ]
          },
          "metadata": {
            "tags": []
          }
        }
      ]
    },
    {
      "cell_type": "code",
      "metadata": {
        "id": "uTRTOxRZ1dwm",
        "colab_type": "code",
        "colab": {
          "base_uri": "https://localhost:8080/",
          "height": 338
        },
        "outputId": "79dd6d38-45b8-4d81-86e4-720390c8303b"
      },
      "source": [
        "sns.set(rc={'figure.figsize':(10,5)})\n",
        "sns.violinplot(x=\"Loan_Status\",y=\"LoanAmount\", hue=\"Loan_Status\",data= df)\n",
        "plt.show()"
      ],
      "execution_count": 377,
      "outputs": [
        {
          "output_type": "display_data",
          "data": {
            "image/png": "[encoded data removed]",
            "text/plain": [
              "<Figure size 720x360 with 1 Axes>"
            ]
          },
          "metadata": {
            "tags": []
          }
        }
      ]
    },
    {
      "cell_type": "code",
      "metadata": {
        "id": "506Z9lRwoj8I",
        "colab_type": "code",
        "outputId": "8e0c5724-c5b5-4c6e-bc03-42f1a180b811",
        "colab": {
          "base_uri": "https://localhost:8080/",
          "height": 1000
        }
      },
      "source": [
        "for i in df2.drop('Loan_Status',axis=1).columns:\n",
        "  f= sns.FacetGrid(df,col='Loan_Status',height=4, aspect=0.8)\n",
        "  f.map(plt.hist,i)"
      ],
      "execution_count": 316,
      "outputs": [
        {
          "output_type": "display_data",
          "data": {
            "image/png": "[encoded data removed]",
            "text/plain": [
              "<Figure size 460.8x288 with 2 Axes>"
            ]
          },
          "metadata": {
            "tags": [],
            "needs_background": "light"
          }
        },
        {
          "output_type": "display_data",
          "data": {
            "image/png": "[encoded data removed]",
            "text/plain": [
              "<Figure size 460.8x288 with 2 Axes>"
            ]
          },
          "metadata": {
            "tags": [],
            "needs_background": "light"
          }
        },
        {
          "output_type": "display_data",
          "data": {
            "image/png": "[encoded data removed]",
            "text/plain": [
              "<Figure size 460.8x288 with 2 Axes>"
            ]
          },
          "metadata": {
            "tags": [],
            "needs_background": "light"
          }
        },
        {
          "output_type": "display_data",
          "data": {
            "image/png": "[encoded data removed]",
            "text/plain": [
              "<Figure size 460.8x288 with 2 Axes>"
            ]
          },
          "metadata": {
            "tags": [],
            "needs_background": "light"
          }
        },
        {
          "output_type": "display_data",
          "data": {
            "image/png": "[encoded data removed]",
            "text/plain": [
              "<Figure size 460.8x288 with 2 Axes>"
            ]
          },
          "metadata": {
            "tags": [],
            "needs_background": "light"
          }
        },
        {
          "output_type": "display_data",
          "data": {
            "image/png": "[encoded data removed]",
            "text/plain": [
              "<Figure size 460.8x288 with 2 Axes>"
            ]
          },
          "metadata": {
            "tags": [],
            "needs_background": "light"
          }
        },
        {
          "output_type": "display_data",
          "data": {
            "image/png": "[encoded data removed]",
            "text/plain": [
              "<Figure size 460.8x288 with 2 Axes>"
            ]
          },
          "metadata": {
            "tags": [],
            "needs_background": "light"
          }
        },
        {
          "output_type": "display_data",
          "data": {
            "image/png": "[encoded data removed]",
            "text/plain": [
              "<Figure size 460.8x288 with 2 Axes>"
            ]
          },
          "metadata": {
            "tags": [],
            "needs_background": "light"
          }
        },
        {
          "output_type": "display_data",
          "data": {
            "image/png": "[encoded data removed]",
            "text/plain": [
              "<Figure size 460.8x288 with 2 Axes>"
            ]
          },
          "metadata": {
            "tags": [],
            "needs_background": "light"
          }
        },
        {
          "output_type": "display_data",
          "data": {
            "image/png": "[encoded data removed]",
            "text/plain": [
              "<Figure size 460.8x288 with 2 Axes>"
            ]
          },
          "metadata": {
            "tags": [],
            "needs_background": "light"
          }
        },
        {
          "output_type": "display_data",
          "data": {
            "image/png": "[encoded data removed]",
            "text/plain": [
              "<Figure size 460.8x288 with 2 Axes>"
            ]
          },
          "metadata": {
            "tags": [],
            "needs_background": "light"
          }
        }
      ]
    },
    {
      "cell_type": "markdown",
      "metadata": {
        "id": "d-KYQCMITBUP",
        "colab_type": "text"
      },
      "source": [
        "***PROBLEM #5 -* How is the class distribution (Y/N) in Label(Target) Variable ?***\n",
        "\n",
        "---\n",
        "\n"
      ]
    },
    {
      "cell_type": "markdown",
      "metadata": {
        "id": "LJsZNyEBTGM7",
        "colab_type": "text"
      },
      "source": [
        "***PROBLEM #6 - Identify the Independent Variables that have missing values.***\n"
      ]
    },
    {
      "cell_type": "code",
      "metadata": {
        "id": "geUn0-k1yVNl",
        "colab_type": "code",
        "outputId": "b258c7da-710d-4ec5-9e5f-99a4116d1e6e",
        "colab": {
          "base_uri": "https://localhost:8080/",
          "height": 230
        }
      },
      "source": [
        "#Missing data percentage list\n",
        "for col in df2.columns:\n",
        "    pct_missing = np.mean(df2[col].isnull())\n",
        "    print('{} - {}%'.format(col, round(pct_missing*100)))"
      ],
      "execution_count": 0,
      "outputs": [
        {
          "output_type": "stream",
          "text": [
            "Gender - 2.0%\n",
            "Married - 0.0%\n",
            "Dependents - 2.0%\n",
            "Education - 0.0%\n",
            "Self_Employed - 5.0%\n",
            "ApplicantIncome - 0.0%\n",
            "CoapplicantIncome - 0.0%\n",
            "LoanAmount - 4.0%\n",
            "Loan_Amount_Term - 2.0%\n",
            "Credit_History - 8.0%\n",
            "Property_Area - 0.0%\n",
            "Loan_Status - 0.0%\n"
          ],
          "name": "stdout"
        }
      ]
    },
    {
      "cell_type": "code",
      "metadata": {
        "id": "DYrr8hAbf7ZQ",
        "colab_type": "code",
        "outputId": "61513b16-1e20-4031-a616-691d51497bd8",
        "colab": {
          "base_uri": "https://localhost:8080/",
          "height": 247
        }
      },
      "source": [
        "a=df2.isnull().sum().sort_values(ascending=False)\n",
        "a"
      ],
      "execution_count": 0,
      "outputs": [
        {
          "output_type": "execute_result",
          "data": {
            "text/plain": [
              "Credit_History       50\n",
              "Self_Employed        32\n",
              "LoanAmount           22\n",
              "Dependents           15\n",
              "Loan_Amount_Term     14\n",
              "Gender               13\n",
              "Married               3\n",
              "Loan_Status           0\n",
              "Property_Area         0\n",
              "CoapplicantIncome     0\n",
              "ApplicantIncome       0\n",
              "Education             0\n",
              "dtype: int64"
            ]
          },
          "metadata": {
            "tags": []
          },
          "execution_count": 30
        }
      ]
    },
    {
      "cell_type": "markdown",
      "metadata": {
        "id": "DAoNeTmFTIQl",
        "colab_type": "text"
      },
      "source": [
        "***PROBLEM #7 *Handle missing values appropriately , explain the technique applied for each case***\n",
        "\n",
        "\n",
        "---\n",
        "\n",
        "\n",
        "\n"
      ]
    },
    {
      "cell_type": "code",
      "metadata": {
        "id": "C1FE04uj_GZQ",
        "colab_type": "code",
        "colab": {}
      },
      "source": [
        "df2['Credit_History'].hist()\n"
      ],
      "execution_count": 0,
      "outputs": []
    },
    {
      "cell_type": "code",
      "metadata": {
        "id": "vayTCRjz0cdW",
        "colab_type": "code",
        "outputId": "5d182eb2-e6ef-4385-989d-90f8d5efbff9",
        "colab": {
          "base_uri": "https://localhost:8080/",
          "height": 34
        }
      },
      "source": [
        "df2['Self_Employed'].unique()"
      ],
      "execution_count": 0,
      "outputs": [
        {
          "output_type": "execute_result",
          "data": {
            "text/plain": [
              "array(['No', 'Yes', nan], dtype=object)"
            ]
          },
          "metadata": {
            "tags": []
          },
          "execution_count": 48
        }
      ]
    },
    {
      "cell_type": "code",
      "metadata": {
        "id": "LSdLEQqz0oSw",
        "colab_type": "code",
        "colab": {}
      },
      "source": [
        "df2['LoanAmount'].unique()"
      ],
      "execution_count": 0,
      "outputs": []
    },
    {
      "cell_type": "code",
      "metadata": {
        "id": "4V8nLUTg1KSC",
        "colab_type": "code",
        "outputId": "2816cdcd-2985-409e-af8a-71dbd14da853",
        "colab": {
          "base_uri": "https://localhost:8080/",
          "height": 34
        }
      },
      "source": [
        "df2['Dependents'].unique()"
      ],
      "execution_count": 0,
      "outputs": [
        {
          "output_type": "execute_result",
          "data": {
            "text/plain": [
              "array(['0', '1', '2', '3+', nan], dtype=object)"
            ]
          },
          "metadata": {
            "tags": []
          },
          "execution_count": 50
        }
      ]
    },
    {
      "cell_type": "code",
      "metadata": {
        "id": "ajUeoskr1Vr-",
        "colab_type": "code",
        "colab": {}
      },
      "source": [
        "print(df2['Loan_Amount_Term'].unique())\n",
        "df2['Loan_Amount_Term'].hist()"
      ],
      "execution_count": 0,
      "outputs": []
    },
    {
      "cell_type": "code",
      "metadata": {
        "id": "9j6eTEJ51ldc",
        "colab_type": "code",
        "colab": {}
      },
      "source": [
        "df2['Gender'].unique()\n",
        "df2['Gender'].hist()"
      ],
      "execution_count": 0,
      "outputs": []
    },
    {
      "cell_type": "code",
      "metadata": {
        "id": "k24AhbQ71tkW",
        "colab_type": "code",
        "colab": {}
      },
      "source": [
        "df2['Married'].unique()\n",
        "df2['Married'].hist()"
      ],
      "execution_count": 0,
      "outputs": []
    },
    {
      "cell_type": "code",
      "metadata": {
        "id": "cEx85Dx8eSX5",
        "colab_type": "code",
        "outputId": "851224cc-2321-41a1-c2ba-1b1deebc32eb",
        "colab": {
          "base_uri": "https://localhost:8080/",
          "height": 247
        }
      },
      "source": [
        "#here we replace the null value In LoanAmount with the median \n",
        "df3=df2.copy()\n",
        "df3.head()\n",
        "df3['LoanAmount'] = df3['LoanAmount'].fillna(df3['LoanAmount'].median()) \n",
        "a=df3.isnull().sum().sort_values(ascending=False)\n",
        "a"
      ],
      "execution_count": 259,
      "outputs": [
        {
          "output_type": "execute_result",
          "data": {
            "text/plain": [
              "Credit_History       50\n",
              "Self_Employed        32\n",
              "Dependents           15\n",
              "Loan_Amount_Term     14\n",
              "Gender               13\n",
              "Married               3\n",
              "Loan_Status           0\n",
              "Property_Area         0\n",
              "LoanAmount            0\n",
              "CoapplicantIncome     0\n",
              "ApplicantIncome       0\n",
              "Education             0\n",
              "dtype: int64"
            ]
          },
          "metadata": {
            "tags": []
          },
          "execution_count": 259
        }
      ]
    },
    {
      "cell_type": "code",
      "metadata": {
        "id": "AVNxnG8zChag",
        "colab_type": "code",
        "outputId": "38a4f961-ddb4-46a9-c3ed-e586614a1f2a",
        "colab": {
          "base_uri": "https://localhost:8080/",
          "height": 247
        }
      },
      "source": [
        "df4= df3.apply(lambda x: x.fillna(x.value_counts().index[0])) #it replace the null value with max occure value in that variable\n",
        "a=df4.isnull().sum().sort_values(ascending=False)\n",
        "\n",
        "df4.head(10)\n",
        "df4.shape\n",
        "df4=df3.copy()\n",
        "a"
      ],
      "execution_count": 311,
      "outputs": [
        {
          "output_type": "execute_result",
          "data": {
            "text/plain": [
              "Loan_Status          0\n",
              "Property_Area        0\n",
              "Credit_History       0\n",
              "Loan_Amount_Term     0\n",
              "LoanAmount           0\n",
              "CoapplicantIncome    0\n",
              "ApplicantIncome      0\n",
              "Self_Employed        0\n",
              "Education            0\n",
              "Dependents           0\n",
              "Married              0\n",
              "Gender               0\n",
              "dtype: int64"
            ]
          },
          "metadata": {
            "tags": []
          },
          "execution_count": 311
        }
      ]
    },
    {
      "cell_type": "markdown",
      "metadata": {
        "id": "-UQag-_-IXBN",
        "colab_type": "text"
      },
      "source": [
        "*** *Identify the Outliers in each Independent Variable.Distribute the data in each field using Quartile bins (0-25%,25%-50%,50%-75%,75%-100% iles)***"
      ]
    },
    {
      "cell_type": "code",
      "metadata": {
        "id": "ZlyGvoq9RIh4",
        "colab_type": "code",
        "outputId": "45020e1e-ae5d-4b98-c9b1-7667b9c3115c",
        "colab": {
          "base_uri": "https://localhost:8080/",
          "height": 287
        }
      },
      "source": [
        "df4.describe()"
      ],
      "execution_count": 0,
      "outputs": [
        {
          "output_type": "execute_result",
          "data": {
            "text/html": [
              "<div>\n",
              "<style scoped>\n",
              "    .dataframe tbody tr th:only-of-type {\n",
              "        vertical-align: middle;\n",
              "    }\n",
              "\n",
              "    .dataframe tbody tr th {\n",
              "        vertical-align: top;\n",
              "    }\n",
              "\n",
              "    .dataframe thead th {\n",
              "        text-align: right;\n",
              "    }\n",
              "</style>\n",
              "<table border=\"1\" class=\"dataframe\">\n",
              "  <thead>\n",
              "    <tr style=\"text-align: right;\">\n",
              "      <th></th>\n",
              "      <th>ApplicantIncome</th>\n",
              "      <th>CoapplicantIncome</th>\n",
              "      <th>LoanAmount</th>\n",
              "      <th>Loan_Amount_Term</th>\n",
              "      <th>Credit_History</th>\n",
              "    </tr>\n",
              "  </thead>\n",
              "  <tbody>\n",
              "    <tr>\n",
              "      <th>count</th>\n",
              "      <td>614.000000</td>\n",
              "      <td>614.000000</td>\n",
              "      <td>614.000000</td>\n",
              "      <td>614.000000</td>\n",
              "      <td>614.000000</td>\n",
              "    </tr>\n",
              "    <tr>\n",
              "      <th>mean</th>\n",
              "      <td>5403.459283</td>\n",
              "      <td>1621.245798</td>\n",
              "      <td>145.752443</td>\n",
              "      <td>342.410423</td>\n",
              "      <td>0.855049</td>\n",
              "    </tr>\n",
              "    <tr>\n",
              "      <th>std</th>\n",
              "      <td>6109.041673</td>\n",
              "      <td>2926.248369</td>\n",
              "      <td>84.107233</td>\n",
              "      <td>64.428629</td>\n",
              "      <td>0.352339</td>\n",
              "    </tr>\n",
              "    <tr>\n",
              "      <th>min</th>\n",
              "      <td>150.000000</td>\n",
              "      <td>0.000000</td>\n",
              "      <td>9.000000</td>\n",
              "      <td>12.000000</td>\n",
              "      <td>0.000000</td>\n",
              "    </tr>\n",
              "    <tr>\n",
              "      <th>25%</th>\n",
              "      <td>2877.500000</td>\n",
              "      <td>0.000000</td>\n",
              "      <td>100.250000</td>\n",
              "      <td>360.000000</td>\n",
              "      <td>1.000000</td>\n",
              "    </tr>\n",
              "    <tr>\n",
              "      <th>50%</th>\n",
              "      <td>3812.500000</td>\n",
              "      <td>1188.500000</td>\n",
              "      <td>128.000000</td>\n",
              "      <td>360.000000</td>\n",
              "      <td>1.000000</td>\n",
              "    </tr>\n",
              "    <tr>\n",
              "      <th>75%</th>\n",
              "      <td>5795.000000</td>\n",
              "      <td>2297.250000</td>\n",
              "      <td>164.750000</td>\n",
              "      <td>360.000000</td>\n",
              "      <td>1.000000</td>\n",
              "    </tr>\n",
              "    <tr>\n",
              "      <th>max</th>\n",
              "      <td>81000.000000</td>\n",
              "      <td>41667.000000</td>\n",
              "      <td>700.000000</td>\n",
              "      <td>480.000000</td>\n",
              "      <td>1.000000</td>\n",
              "    </tr>\n",
              "  </tbody>\n",
              "</table>\n",
              "</div>"
            ],
            "text/plain": [
              "       ApplicantIncome  CoapplicantIncome  ...  Loan_Amount_Term  Credit_History\n",
              "count       614.000000         614.000000  ...        614.000000      614.000000\n",
              "mean       5403.459283        1621.245798  ...        342.410423        0.855049\n",
              "std        6109.041673        2926.248369  ...         64.428629        0.352339\n",
              "min         150.000000           0.000000  ...         12.000000        0.000000\n",
              "25%        2877.500000           0.000000  ...        360.000000        1.000000\n",
              "50%        3812.500000        1188.500000  ...        360.000000        1.000000\n",
              "75%        5795.000000        2297.250000  ...        360.000000        1.000000\n",
              "max       81000.000000       41667.000000  ...        480.000000        1.000000\n",
              "\n",
              "[8 rows x 5 columns]"
            ]
          },
          "metadata": {
            "tags": []
          },
          "execution_count": 84
        }
      ]
    },
    {
      "cell_type": "markdown",
      "metadata": {
        "id": "pH6WdQ8s86M4",
        "colab_type": "text"
      },
      "source": [
        "***Use Box-Plot chart to represent the Outliers for each Independent Variable***\n",
        "\n",
        "---\n",
        "\n",
        "\n"
      ]
    },
    {
      "cell_type": "code",
      "metadata": {
        "id": "yzJ3l47PnbIX",
        "colab_type": "code",
        "outputId": "9ca6462f-378f-4afe-bde5-36a8876ada63",
        "colab": {
          "base_uri": "https://localhost:8080/",
          "height": 296
        }
      },
      "source": [
        "import seaborn as sns\n",
        "sns.boxplot(x=df4['ApplicantIncome'])"
      ],
      "execution_count": 0,
      "outputs": [
        {
          "output_type": "execute_result",
          "data": {
            "text/plain": [
              "<matplotlib.axes._subplots.AxesSubplot at 0x7f38de1f3400>"
            ]
          },
          "metadata": {
            "tags": []
          },
          "execution_count": 99
        },
        {
          "output_type": "display_data",
          "data": {
            "image/png": "[encoded data removed]",
            "text/plain": [
              "<Figure size 432x288 with 1 Axes>"
            ]
          },
          "metadata": {
            "tags": [],
            "needs_background": "light"
          }
        }
      ]
    },
    {
      "cell_type": "code",
      "metadata": {
        "id": "2yPz6mw2n2X_",
        "colab_type": "code",
        "outputId": "854114f7-d241-4ed6-dba7-f662e6dd56b0",
        "colab": {
          "base_uri": "https://localhost:8080/",
          "height": 296
        }
      },
      "source": [
        "sns.boxplot(x=df4['CoapplicantIncome'])"
      ],
      "execution_count": 0,
      "outputs": [
        {
          "output_type": "execute_result",
          "data": {
            "text/plain": [
              "<matplotlib.axes._subplots.AxesSubplot at 0x7f38de647908>"
            ]
          },
          "metadata": {
            "tags": []
          },
          "execution_count": 98
        },
        {
          "output_type": "display_data",
          "data": {
            "image/png": "[encoded data removed]",
            "text/plain": [
              "<Figure size 432x288 with 1 Axes>"
            ]
          },
          "metadata": {
            "tags": [],
            "needs_background": "light"
          }
        }
      ]
    },
    {
      "cell_type": "code",
      "metadata": {
        "id": "8vtfKyStoPvB",
        "colab_type": "code",
        "outputId": "13a67dfb-2ca0-40a7-af37-ce8239bd44f9",
        "colab": {
          "base_uri": "https://localhost:8080/",
          "height": 297
        }
      },
      "source": [
        "sns.boxplot(x=df4['Credit_History'])"
      ],
      "execution_count": 0,
      "outputs": [
        {
          "output_type": "execute_result",
          "data": {
            "text/plain": [
              "<matplotlib.axes._subplots.AxesSubplot at 0x7f38de2a7f28>"
            ]
          },
          "metadata": {
            "tags": []
          },
          "execution_count": 101
        },
        {
          "output_type": "display_data",
          "data": {
            "image/png": "[encoded data removed]",
            "text/plain": [
              "<Figure size 432x288 with 1 Axes>"
            ]
          },
          "metadata": {
            "tags": [],
            "needs_background": "light"
          }
        }
      ]
    },
    {
      "cell_type": "code",
      "metadata": {
        "id": "E0H3p43Ooec0",
        "colab_type": "code",
        "outputId": "b710ce4e-f8dd-40d9-c3cd-c84f3d5e3740",
        "colab": {
          "base_uri": "https://localhost:8080/",
          "height": 297
        }
      },
      "source": [
        "sns.boxplot(x=df4['Loan_Amount_Term'])"
      ],
      "execution_count": 0,
      "outputs": [
        {
          "output_type": "execute_result",
          "data": {
            "text/plain": [
              "<matplotlib.axes._subplots.AxesSubplot at 0x7f38de0a59b0>"
            ]
          },
          "metadata": {
            "tags": []
          },
          "execution_count": 103
        },
        {
          "output_type": "display_data",
          "data": {
            "image/png": "[encoded data removed]",
            "text/plain": [
              "<Figure size 432x288 with 1 Axes>"
            ]
          },
          "metadata": {
            "tags": [],
            "needs_background": "light"
          }
        }
      ]
    },
    {
      "cell_type": "code",
      "metadata": {
        "id": "GVu9UUhOoqFR",
        "colab_type": "code",
        "outputId": "7883b6d2-b479-4e1c-ae06-0c86af2dadd3",
        "colab": {
          "base_uri": "https://localhost:8080/",
          "height": 296
        }
      },
      "source": [
        "sns.boxplot(x=df4['LoanAmount'])\n"
      ],
      "execution_count": 0,
      "outputs": [
        {
          "output_type": "execute_result",
          "data": {
            "text/plain": [
              "<matplotlib.axes._subplots.AxesSubplot at 0x7f38ddfdf4a8>"
            ]
          },
          "metadata": {
            "tags": []
          },
          "execution_count": 104
        },
        {
          "output_type": "display_data",
          "data": {
            "image/png": "[encoded data removed]",
            "text/plain": [
              "<Figure size 432x288 with 1 Axes>"
            ]
          },
          "metadata": {
            "tags": [],
            "needs_background": "light"
          }
        }
      ]
    },
    {
      "cell_type": "code",
      "metadata": {
        "id": "7fFJrJJHWdol",
        "colab_type": "code",
        "outputId": "39ccb4b5-ce65-4817-b721-a12684b50ebe",
        "colab": {
          "base_uri": "https://localhost:8080/",
          "height": 70
        }
      },
      "source": [
        "num_cols = df4._get_numeric_data().columns\n",
        "num_cols"
      ],
      "execution_count": 257,
      "outputs": [
        {
          "output_type": "execute_result",
          "data": {
            "text/plain": [
              "Index(['ApplicantIncome', 'CoapplicantIncome', 'LoanAmount',\n",
              "       'Loan_Amount_Term', 'Credit_History'],\n",
              "      dtype='object')"
            ]
          },
          "metadata": {
            "tags": []
          },
          "execution_count": 257
        }
      ]
    },
    {
      "cell_type": "markdown",
      "metadata": {
        "id": "FaA4pd6n9FLV",
        "colab_type": "text"
      },
      "source": [
        "*** Perform treatment of these Outliers using appropriate techniqies.Explain your approach***\n"
      ]
    },
    {
      "cell_type": "code",
      "metadata": {
        "id": "nFSjP8Mk7Ana",
        "colab_type": "code",
        "outputId": "0d9a1e2f-b484-4c4b-ecd4-249672061f63",
        "colab": {
          "base_uri": "https://localhost:8080/",
          "height": 247
        }
      },
      "source": [
        "\n",
        "Q1=df3.quantile(0.1)\n",
        "Q3=df3.quantile(0.9) \n",
        "IQR=Q3-Q1\n",
        "((df3 < (Q1 - 1.5 * IQR)) |(df3 > (Q3 + 1.5 * IQR))).sum()"
      ],
      "execution_count": 0,
      "outputs": [
        {
          "output_type": "execute_result",
          "data": {
            "text/plain": [
              "ApplicantIncome       1\n",
              "CoapplicantIncome     1\n",
              "Credit_History        0\n",
              "Dependents            0\n",
              "Education             0\n",
              "Gender                0\n",
              "LoanAmount            1\n",
              "Loan_Amount_Term     16\n",
              "Loan_Status           0\n",
              "Married               0\n",
              "Property_Area         0\n",
              "Self_Employed         0\n",
              "dtype: int64"
            ]
          },
          "metadata": {
            "tags": []
          },
          "execution_count": 177
        }
      ]
    },
    {
      "cell_type": "code",
      "metadata": {
        "id": "zlZHiuMF7Z2H",
        "colab_type": "code",
        "outputId": "09276334-895f-464e-887b-0984a8a9c4b3",
        "colab": {
          "base_uri": "https://localhost:8080/",
          "height": 52
        }
      },
      "source": [
        "df3=df3[~((df3 < (Q1 - 1.5 * IQR)) |(df3 > (Q3 + 1.5 * IQR))).any(axis=1)] #to remove outliers in dataset\n",
        "print(df2.shape) #shape before removing \n",
        "print(df3.shape) #shape after removing\n"
      ],
      "execution_count": 0,
      "outputs": [
        {
          "output_type": "stream",
          "text": [
            "(614, 12)\n",
            "(524, 12)\n"
          ],
          "name": "stdout"
        }
      ]
    },
    {
      "cell_type": "code",
      "metadata": {
        "id": "RpzhF_iKvTr1",
        "colab_type": "code",
        "outputId": "019b51b5-1c47-4504-81f7-18babdf34524",
        "colab": {
          "base_uri": "https://localhost:8080/",
          "height": 314
        }
      },
      "source": [
        "print(sns.boxplot(x=df2['ApplicantIncome']))\n"
      ],
      "execution_count": 0,
      "outputs": [
        {
          "output_type": "stream",
          "text": [
            "AxesSubplot(0.125,0.125;0.775x0.755)\n",
            "AxesSubplot(0.125,0.125;0.775x0.755)\n"
          ],
          "name": "stdout"
        },
        {
          "output_type": "display_data",
          "data": {
            "image/png": "[encoded data removed]",
            "text/plain": [
              "<Figure size 432x288 with 1 Axes>"
            ]
          },
          "metadata": {
            "tags": [],
            "needs_background": "light"
          }
        }
      ]
    },
    {
      "cell_type": "code",
      "metadata": {
        "id": "Nry9mgI28ht1",
        "colab_type": "code",
        "outputId": "b2bf542d-21c4-4302-e30b-348fc7627dca",
        "colab": {
          "base_uri": "https://localhost:8080/",
          "height": 296
        }
      },
      "source": [
        "print(sns.boxplot(x=df3['ApplicantIncome']))\n"
      ],
      "execution_count": 0,
      "outputs": [
        {
          "output_type": "stream",
          "text": [
            "AxesSubplot(0.125,0.125;0.775x0.755)\n"
          ],
          "name": "stdout"
        },
        {
          "output_type": "display_data",
          "data": {
            "image/png": "[encoded data removed]",
            "text/plain": [
              "<Figure size 432x288 with 1 Axes>"
            ]
          },
          "metadata": {
            "tags": [],
            "needs_background": "light"
          }
        }
      ]
    },
    {
      "cell_type": "markdown",
      "metadata": {
        "id": "TVMOvnp_9Nfr",
        "colab_type": "text"
      },
      "source": [
        "***Step 1 -***\n",
        "***Perform Label Encoding on Target Variable (Loan_Status).***"
      ]
    },
    {
      "cell_type": "code",
      "metadata": {
        "id": "cPcd8_kpZAqF",
        "colab_type": "code",
        "outputId": "cd816a02-859e-433b-d3c5-fabf196bb5a8",
        "colab": {
          "base_uri": "https://localhost:8080/",
          "height": 234
        }
      },
      "source": [
        "from sklearn.preprocessing import LabelEncoder\n",
        "le = LabelEncoder()\n",
        "dfc['e_Loan_Status'] = le.fit_transform(dfc['Loan_Status'])\n",
        "dfc.head()"
      ],
      "execution_count": 0,
      "outputs": [
        {
          "output_type": "execute_result",
          "data": {
            "text/html": [
              "<div>\n",
              "<style scoped>\n",
              "    .dataframe tbody tr th:only-of-type {\n",
              "        vertical-align: middle;\n",
              "    }\n",
              "\n",
              "    .dataframe tbody tr th {\n",
              "        vertical-align: top;\n",
              "    }\n",
              "\n",
              "    .dataframe thead th {\n",
              "        text-align: right;\n",
              "    }\n",
              "</style>\n",
              "<table border=\"1\" class=\"dataframe\">\n",
              "  <thead>\n",
              "    <tr style=\"text-align: right;\">\n",
              "      <th></th>\n",
              "      <th>Loan_ID</th>\n",
              "      <th>Gender</th>\n",
              "      <th>Married</th>\n",
              "      <th>Dependents</th>\n",
              "      <th>Education</th>\n",
              "      <th>Self_Employed</th>\n",
              "      <th>ApplicantIncome</th>\n",
              "      <th>CoapplicantIncome</th>\n",
              "      <th>LoanAmount</th>\n",
              "      <th>Loan_Amount_Term</th>\n",
              "      <th>Credit_History</th>\n",
              "      <th>Property_Area</th>\n",
              "      <th>Loan_Status</th>\n",
              "      <th>e_Loan_Status</th>\n",
              "    </tr>\n",
              "  </thead>\n",
              "  <tbody>\n",
              "    <tr>\n",
              "      <th>0</th>\n",
              "      <td>LP001002</td>\n",
              "      <td>Male</td>\n",
              "      <td>No</td>\n",
              "      <td>0</td>\n",
              "      <td>Graduate</td>\n",
              "      <td>No</td>\n",
              "      <td>5849</td>\n",
              "      <td>0.0</td>\n",
              "      <td>NaN</td>\n",
              "      <td>360.0</td>\n",
              "      <td>1.0</td>\n",
              "      <td>Urban</td>\n",
              "      <td>Y</td>\n",
              "      <td>1</td>\n",
              "    </tr>\n",
              "    <tr>\n",
              "      <th>1</th>\n",
              "      <td>LP001003</td>\n",
              "      <td>Male</td>\n",
              "      <td>Yes</td>\n",
              "      <td>1</td>\n",
              "      <td>Graduate</td>\n",
              "      <td>No</td>\n",
              "      <td>4583</td>\n",
              "      <td>1508.0</td>\n",
              "      <td>128.0</td>\n",
              "      <td>360.0</td>\n",
              "      <td>1.0</td>\n",
              "      <td>Rural</td>\n",
              "      <td>N</td>\n",
              "      <td>0</td>\n",
              "    </tr>\n",
              "    <tr>\n",
              "      <th>2</th>\n",
              "      <td>LP001005</td>\n",
              "      <td>Male</td>\n",
              "      <td>Yes</td>\n",
              "      <td>0</td>\n",
              "      <td>Graduate</td>\n",
              "      <td>Yes</td>\n",
              "      <td>3000</td>\n",
              "      <td>0.0</td>\n",
              "      <td>66.0</td>\n",
              "      <td>360.0</td>\n",
              "      <td>1.0</td>\n",
              "      <td>Urban</td>\n",
              "      <td>Y</td>\n",
              "      <td>1</td>\n",
              "    </tr>\n",
              "    <tr>\n",
              "      <th>3</th>\n",
              "      <td>LP001006</td>\n",
              "      <td>Male</td>\n",
              "      <td>Yes</td>\n",
              "      <td>0</td>\n",
              "      <td>Not Graduate</td>\n",
              "      <td>No</td>\n",
              "      <td>2583</td>\n",
              "      <td>2358.0</td>\n",
              "      <td>120.0</td>\n",
              "      <td>360.0</td>\n",
              "      <td>1.0</td>\n",
              "      <td>Urban</td>\n",
              "      <td>Y</td>\n",
              "      <td>1</td>\n",
              "    </tr>\n",
              "    <tr>\n",
              "      <th>4</th>\n",
              "      <td>LP001008</td>\n",
              "      <td>Male</td>\n",
              "      <td>No</td>\n",
              "      <td>0</td>\n",
              "      <td>Graduate</td>\n",
              "      <td>No</td>\n",
              "      <td>6000</td>\n",
              "      <td>0.0</td>\n",
              "      <td>141.0</td>\n",
              "      <td>360.0</td>\n",
              "      <td>1.0</td>\n",
              "      <td>Urban</td>\n",
              "      <td>Y</td>\n",
              "      <td>1</td>\n",
              "    </tr>\n",
              "  </tbody>\n",
              "</table>\n",
              "</div>"
            ],
            "text/plain": [
              "    Loan_ID Gender Married  ... Property_Area Loan_Status e_Loan_Status\n",
              "0  LP001002   Male      No  ...         Urban           Y             1\n",
              "1  LP001003   Male     Yes  ...         Rural           N             0\n",
              "2  LP001005   Male     Yes  ...         Urban           Y             1\n",
              "3  LP001006   Male     Yes  ...         Urban           Y             1\n",
              "4  LP001008   Male      No  ...         Urban           Y             1\n",
              "\n",
              "[5 rows x 14 columns]"
            ]
          },
          "metadata": {
            "tags": []
          },
          "execution_count": 19
        }
      ]
    },
    {
      "cell_type": "code",
      "metadata": {
        "id": "82zzgGzDa--e",
        "colab_type": "code",
        "outputId": "d85e5414-5767-47c3-ed07-d8115fefd917",
        "colab": {
          "base_uri": "https://localhost:8080/",
          "height": 107
        }
      },
      "source": [
        "dfc.groupby(['Loan_Status','e_Loan_Status']).size().reset_index().rename(columns={0:'count'})"
      ],
      "execution_count": 0,
      "outputs": [
        {
          "output_type": "execute_result",
          "data": {
            "text/html": [
              "<div>\n",
              "<style scoped>\n",
              "    .dataframe tbody tr th:only-of-type {\n",
              "        vertical-align: middle;\n",
              "    }\n",
              "\n",
              "    .dataframe tbody tr th {\n",
              "        vertical-align: top;\n",
              "    }\n",
              "\n",
              "    .dataframe thead th {\n",
              "        text-align: right;\n",
              "    }\n",
              "</style>\n",
              "<table border=\"1\" class=\"dataframe\">\n",
              "  <thead>\n",
              "    <tr style=\"text-align: right;\">\n",
              "      <th></th>\n",
              "      <th>Loan_Status</th>\n",
              "      <th>e_Loan_Status</th>\n",
              "      <th>count</th>\n",
              "    </tr>\n",
              "  </thead>\n",
              "  <tbody>\n",
              "    <tr>\n",
              "      <th>0</th>\n",
              "      <td>N</td>\n",
              "      <td>0</td>\n",
              "      <td>192</td>\n",
              "    </tr>\n",
              "    <tr>\n",
              "      <th>1</th>\n",
              "      <td>Y</td>\n",
              "      <td>1</td>\n",
              "      <td>422</td>\n",
              "    </tr>\n",
              "  </tbody>\n",
              "</table>\n",
              "</div>"
            ],
            "text/plain": [
              "  Loan_Status  e_Loan_Status  count\n",
              "0           N              0    192\n",
              "1           Y              1    422"
            ]
          },
          "metadata": {
            "tags": []
          },
          "execution_count": 23
        }
      ]
    },
    {
      "cell_type": "markdown",
      "metadata": {
        "id": "dOc0TkbF9YV9",
        "colab_type": "text"
      },
      "source": [
        "\n",
        "***Step 2-***\n",
        "\n",
        "Using dataframe from Step 1:\n",
        "* Perform Label Encoding on Categorical Independent Variables.\n",
        "* What is the shape of dataframe post Categorical Encoding ?\n",
        "* Carry out Correlation analysis on this dataframe. Plot using HeatMap\n",
        "* Identify the variables that have strong correlation using Label Encoding( Correlation Coefficient > 0.5 or <0.5)"
      ]
    },
    {
      "cell_type": "code",
      "metadata": {
        "id": "8YDgBpnCMkQV",
        "colab_type": "code",
        "colab": {}
      },
      "source": [
        "from sklearn.preprocessing import LabelEncoder\n",
        "from sklearn.preprocessing import OneHotEncoder"
      ],
      "execution_count": 0,
      "outputs": []
    },
    {
      "cell_type": "code",
      "metadata": {
        "id": "Sumnjw3W1TQE",
        "colab_type": "code",
        "colab": {}
      },
      "source": [
        "ledf=df3.copy()\n",
        "le = LabelEncoder()\n",
        "catrgorical=['Gender', 'Married', 'Dependents', 'Education', 'Self_Employed', 'Credit_History', 'Property_Area', 'Loan_Status']"
      ],
      "execution_count": 0,
      "outputs": []
    },
    {
      "cell_type": "code",
      "metadata": {
        "id": "ySYU1Vf_dDw8",
        "colab_type": "code",
        "colab": {}
      },
      "source": [
        "ledf['Gender']=ledf['Gender'].fillna(df4[\"Gender\"].value_counts().nlargest(n=1).index[0])\n",
        "ledf.Gender.isnull().sum()\n",
        "ledf = ledf.fillna(0)"
      ],
      "execution_count": 0,
      "outputs": []
    },
    {
      "cell_type": "code",
      "metadata": {
        "id": "xX0TcQNRHs6l",
        "colab_type": "code",
        "colab": {}
      },
      "source": [
        "ledf['Self_Employed'].replace({0:\"No\"},inplace=True)\n",
        "ledf['Married'].replace({0:\"No\"},inplace=True)\n",
        "ledf['Dependents'].replace({\"3+\":'3',0:'0'},inplace=True)\n",
        "dd=ledf.copy()\n"
      ],
      "execution_count": 0,
      "outputs": []
    },
    {
      "cell_type": "code",
      "metadata": {
        "id": "uunVayccIJwv",
        "colab_type": "code",
        "outputId": "8d70d8a4-ecd5-4950-a4bb-ecc107b6b0f8",
        "colab": {
          "base_uri": "https://localhost:8080/",
          "height": 158
        }
      },
      "source": [
        "#1 Perform Label Encoding on Categorical Independent Variables.\n",
        "\n",
        "for i in catrgorical:\n",
        "  print(i,\"encoded\",sep=\"-\")\n",
        "  ledf[i+\"_enc\"] = le.fit_transform(ledf[i])\n",
        "  ledf = ledf.drop(i,axis=1)"
      ],
      "execution_count": 305,
      "outputs": [
        {
          "output_type": "stream",
          "text": [
            "Gender-encoded\n",
            "Married-encoded\n",
            "Dependents-encoded\n",
            "Education-encoded\n",
            "Self_Employed-encoded\n",
            "Credit_History-encoded\n",
            "Property_Area-encoded\n",
            "Loan_Status-encoded\n"
          ],
          "name": "stdout"
        }
      ]
    },
    {
      "cell_type": "code",
      "metadata": {
        "id": "NkiPBHqbJSKf",
        "colab_type": "code",
        "colab": {
          "base_uri": "https://localhost:8080/",
          "height": 52
        },
        "outputId": "33419a6c-4fa2-44a7-ce09-ad5a2160e066"
      },
      "source": [
        "#2 What is the shape of dataframe post Categorical Encoding ?\n",
        "\n",
        "ledf.head()\n",
        "ledf.shape\n",
        "#shape of dataframe post OHE Encoding\n",
        "print('before Performing OHE size of data',df3.shape)\n",
        "print(\"Size of dataset after dropping the columns : \",ledf.shape)"
      ],
      "execution_count": 308,
      "outputs": [
        {
          "output_type": "stream",
          "text": [
            "before Performing OHE size of data (614, 12)\n",
            "Size of dataset after dropping the columns :  (614, 12)\n"
          ],
          "name": "stdout"
        }
      ]
    },
    {
      "cell_type": "code",
      "metadata": {
        "id": "wTN9ZIXQb1Z_",
        "colab_type": "code",
        "colab": {
          "base_uri": "https://localhost:8080/",
          "height": 217
        },
        "outputId": "fa6aa8dd-b712-4f5b-dc00-0b3aecaa04f8"
      },
      "source": [
        "ledf.head()"
      ],
      "execution_count": 307,
      "outputs": [
        {
          "output_type": "execute_result",
          "data": {
            "text/html": [
              "<div>\n",
              "<style scoped>\n",
              "    .dataframe tbody tr th:only-of-type {\n",
              "        vertical-align: middle;\n",
              "    }\n",
              "\n",
              "    .dataframe tbody tr th {\n",
              "        vertical-align: top;\n",
              "    }\n",
              "\n",
              "    .dataframe thead th {\n",
              "        text-align: right;\n",
              "    }\n",
              "</style>\n",
              "<table border=\"1\" class=\"dataframe\">\n",
              "  <thead>\n",
              "    <tr style=\"text-align: right;\">\n",
              "      <th></th>\n",
              "      <th>ApplicantIncome</th>\n",
              "      <th>CoapplicantIncome</th>\n",
              "      <th>LoanAmount</th>\n",
              "      <th>Loan_Amount_Term</th>\n",
              "      <th>Gender_enc</th>\n",
              "      <th>Married_enc</th>\n",
              "      <th>Dependents_enc</th>\n",
              "      <th>Education_enc</th>\n",
              "      <th>Self_Employed_enc</th>\n",
              "      <th>Credit_History_enc</th>\n",
              "      <th>Property_Area_enc</th>\n",
              "      <th>Loan_Status_enc</th>\n",
              "    </tr>\n",
              "  </thead>\n",
              "  <tbody>\n",
              "    <tr>\n",
              "      <th>0</th>\n",
              "      <td>5849</td>\n",
              "      <td>0.0</td>\n",
              "      <td>128.0</td>\n",
              "      <td>360.0</td>\n",
              "      <td>1</td>\n",
              "      <td>0</td>\n",
              "      <td>0</td>\n",
              "      <td>0</td>\n",
              "      <td>0</td>\n",
              "      <td>1</td>\n",
              "      <td>2</td>\n",
              "      <td>1</td>\n",
              "    </tr>\n",
              "    <tr>\n",
              "      <th>1</th>\n",
              "      <td>4583</td>\n",
              "      <td>1508.0</td>\n",
              "      <td>128.0</td>\n",
              "      <td>360.0</td>\n",
              "      <td>1</td>\n",
              "      <td>1</td>\n",
              "      <td>1</td>\n",
              "      <td>0</td>\n",
              "      <td>0</td>\n",
              "      <td>1</td>\n",
              "      <td>0</td>\n",
              "      <td>0</td>\n",
              "    </tr>\n",
              "    <tr>\n",
              "      <th>2</th>\n",
              "      <td>3000</td>\n",
              "      <td>0.0</td>\n",
              "      <td>66.0</td>\n",
              "      <td>360.0</td>\n",
              "      <td>1</td>\n",
              "      <td>1</td>\n",
              "      <td>0</td>\n",
              "      <td>0</td>\n",
              "      <td>1</td>\n",
              "      <td>1</td>\n",
              "      <td>2</td>\n",
              "      <td>1</td>\n",
              "    </tr>\n",
              "    <tr>\n",
              "      <th>3</th>\n",
              "      <td>2583</td>\n",
              "      <td>2358.0</td>\n",
              "      <td>120.0</td>\n",
              "      <td>360.0</td>\n",
              "      <td>1</td>\n",
              "      <td>1</td>\n",
              "      <td>0</td>\n",
              "      <td>1</td>\n",
              "      <td>0</td>\n",
              "      <td>1</td>\n",
              "      <td>2</td>\n",
              "      <td>1</td>\n",
              "    </tr>\n",
              "    <tr>\n",
              "      <th>4</th>\n",
              "      <td>6000</td>\n",
              "      <td>0.0</td>\n",
              "      <td>141.0</td>\n",
              "      <td>360.0</td>\n",
              "      <td>1</td>\n",
              "      <td>0</td>\n",
              "      <td>0</td>\n",
              "      <td>0</td>\n",
              "      <td>0</td>\n",
              "      <td>1</td>\n",
              "      <td>2</td>\n",
              "      <td>1</td>\n",
              "    </tr>\n",
              "  </tbody>\n",
              "</table>\n",
              "</div>"
            ],
            "text/plain": [
              "   ApplicantIncome  CoapplicantIncome  ...  Property_Area_enc  Loan_Status_enc\n",
              "0             5849                0.0  ...                  2                1\n",
              "1             4583             1508.0  ...                  0                0\n",
              "2             3000                0.0  ...                  2                1\n",
              "3             2583             2358.0  ...                  2                1\n",
              "4             6000                0.0  ...                  2                1\n",
              "\n",
              "[5 rows x 12 columns]"
            ]
          },
          "metadata": {
            "tags": []
          },
          "execution_count": 307
        }
      ]
    },
    {
      "cell_type": "code",
      "metadata": {
        "id": "eSSw-H6OaTSj",
        "colab_type": "code",
        "colab": {
          "base_uri": "https://localhost:8080/",
          "height": 217
        },
        "outputId": "69cbe273-29d9-45b5-80e9-7efeb42bf367"
      },
      "source": [
        "#3Correlation analysis on this dataframe. Plot using HeatMap\n",
        "cor = ledf.corr()\n",
        "cor.head()"
      ],
      "execution_count": 309,
      "outputs": [
        {
          "output_type": "execute_result",
          "data": {
            "text/html": [
              "<div>\n",
              "<style scoped>\n",
              "    .dataframe tbody tr th:only-of-type {\n",
              "        vertical-align: middle;\n",
              "    }\n",
              "\n",
              "    .dataframe tbody tr th {\n",
              "        vertical-align: top;\n",
              "    }\n",
              "\n",
              "    .dataframe thead th {\n",
              "        text-align: right;\n",
              "    }\n",
              "</style>\n",
              "<table border=\"1\" class=\"dataframe\">\n",
              "  <thead>\n",
              "    <tr style=\"text-align: right;\">\n",
              "      <th></th>\n",
              "      <th>ApplicantIncome</th>\n",
              "      <th>CoapplicantIncome</th>\n",
              "      <th>LoanAmount</th>\n",
              "      <th>Loan_Amount_Term</th>\n",
              "      <th>Gender_enc</th>\n",
              "      <th>Married_enc</th>\n",
              "      <th>Dependents_enc</th>\n",
              "      <th>Education_enc</th>\n",
              "      <th>Self_Employed_enc</th>\n",
              "      <th>Credit_History_enc</th>\n",
              "      <th>Property_Area_enc</th>\n",
              "      <th>Loan_Status_enc</th>\n",
              "    </tr>\n",
              "  </thead>\n",
              "  <tbody>\n",
              "    <tr>\n",
              "      <th>ApplicantIncome</th>\n",
              "      <td>1.000000</td>\n",
              "      <td>-0.116605</td>\n",
              "      <td>0.565181</td>\n",
              "      <td>-0.015645</td>\n",
              "      <td>0.058809</td>\n",
              "      <td>0.050194</td>\n",
              "      <td>0.118202</td>\n",
              "      <td>-0.140760</td>\n",
              "      <td>0.127180</td>\n",
              "      <td>0.006986</td>\n",
              "      <td>-0.009500</td>\n",
              "      <td>-0.004710</td>\n",
              "    </tr>\n",
              "    <tr>\n",
              "      <th>CoapplicantIncome</th>\n",
              "      <td>-0.116605</td>\n",
              "      <td>1.000000</td>\n",
              "      <td>0.189218</td>\n",
              "      <td>-0.050321</td>\n",
              "      <td>0.082912</td>\n",
              "      <td>0.080496</td>\n",
              "      <td>0.030430</td>\n",
              "      <td>-0.062290</td>\n",
              "      <td>-0.016100</td>\n",
              "      <td>-0.058795</td>\n",
              "      <td>0.010522</td>\n",
              "      <td>-0.059187</td>\n",
              "    </tr>\n",
              "    <tr>\n",
              "      <th>LoanAmount</th>\n",
              "      <td>0.565181</td>\n",
              "      <td>0.189218</td>\n",
              "      <td>1.000000</td>\n",
              "      <td>0.064110</td>\n",
              "      <td>0.106904</td>\n",
              "      <td>0.145717</td>\n",
              "      <td>0.163103</td>\n",
              "      <td>-0.168759</td>\n",
              "      <td>0.115100</td>\n",
              "      <td>-0.034473</td>\n",
              "      <td>-0.046632</td>\n",
              "      <td>-0.033214</td>\n",
              "    </tr>\n",
              "    <tr>\n",
              "      <th>Loan_Amount_Term</th>\n",
              "      <td>-0.015645</td>\n",
              "      <td>-0.050321</td>\n",
              "      <td>0.064110</td>\n",
              "      <td>1.000000</td>\n",
              "      <td>-0.049785</td>\n",
              "      <td>-0.079926</td>\n",
              "      <td>-0.035984</td>\n",
              "      <td>-0.108857</td>\n",
              "      <td>-0.029185</td>\n",
              "      <td>0.050145</td>\n",
              "      <td>-0.082139</td>\n",
              "      <td>0.007306</td>\n",
              "    </tr>\n",
              "    <tr>\n",
              "      <th>Gender_enc</th>\n",
              "      <td>0.058809</td>\n",
              "      <td>0.082912</td>\n",
              "      <td>0.106904</td>\n",
              "      <td>-0.049785</td>\n",
              "      <td>1.000000</td>\n",
              "      <td>0.367389</td>\n",
              "      <td>0.172914</td>\n",
              "      <td>0.045364</td>\n",
              "      <td>-0.000525</td>\n",
              "      <td>0.026655</td>\n",
              "      <td>-0.025752</td>\n",
              "      <td>0.017987</td>\n",
              "    </tr>\n",
              "  </tbody>\n",
              "</table>\n",
              "</div>"
            ],
            "text/plain": [
              "                   ApplicantIncome  ...  Loan_Status_enc\n",
              "ApplicantIncome           1.000000  ...        -0.004710\n",
              "CoapplicantIncome        -0.116605  ...        -0.059187\n",
              "LoanAmount                0.565181  ...        -0.033214\n",
              "Loan_Amount_Term         -0.015645  ...         0.007306\n",
              "Gender_enc                0.058809  ...         0.017987\n",
              "\n",
              "[5 rows x 12 columns]"
            ]
          },
          "metadata": {
            "tags": []
          },
          "execution_count": 309
        }
      ]
    },
    {
      "cell_type": "code",
      "metadata": {
        "id": "Dh8Aofn-aKkl",
        "colab_type": "code",
        "colab": {
          "base_uri": "https://localhost:8080/",
          "height": 624
        },
        "outputId": "e065ac68-76f0-4deb-ebe6-a79f0c749c90"
      },
      "source": [
        "#4 Identify the variables that have strong correlation using Label Encoding( Correlation Coefficient > 0.5 or <0.5)\n",
        "\n",
        "mask = np.zeros_like(cor, dtype=np.bool)\n",
        "mask[np.triu_indices_from(mask)] = True\n",
        "f, ax = plt.subplots(figsize=(11, 9))\n",
        "cmap = sns.diverging_palette(220, 10, as_cmap=True)\n",
        "svm = sns.heatmap(cor, mask=mask, cmap=cmap, center=0,square=True, linewidths=.5, cbar_kws={\"shrink\": .5})"
      ],
      "execution_count": 310,
      "outputs": [
        {
          "output_type": "display_data",
          "data": {
            "image/png": "[encoded data removed]",
            "text/plain": [
              "<Figure size 792x648 with 2 Axes>"
            ]
          },
          "metadata": {
            "tags": [],
            "needs_background": "light"
          }
        }
      ]
    },
    {
      "cell_type": "markdown",
      "metadata": {
        "id": "kpFi7X1B9fzJ",
        "colab_type": "text"
      },
      "source": [
        "Step 3 -\n",
        "Using dataframe from Step 1:\n",
        "* Perform One Hot Encoding on Categorical Independent Variables.\n",
        "* What is the shape of dataframe post OHE Encoding ?\n",
        "* Carry out Correlation analysis on this dataframe. Plot using HeatMap\n",
        "* Identify the variables that have strong correlation using OHE ( Correlation Coefficient > 0.5 or <0.5) \n",
        "\n",
        "\n"
      ]
    },
    {
      "cell_type": "code",
      "metadata": {
        "id": "7sBInxNQQa2S",
        "colab_type": "code",
        "colab": {}
      },
      "source": [
        "#perform OHE\n",
        "df_ohe = df_ohe = dd.copy()\n",
        "for j in list(set(dd.columns) - set(num_cols)):\n",
        "  enc_rel = pd.DataFrame(ohe.fit_transform(df_ohe[[j]]).toarray())\n",
        "  enc_rel = enc_rel.add_prefix(str(j)+'_')\n",
        "  df_ohe = df_ohe.join(enc_rel)"
      ],
      "execution_count": 0,
      "outputs": []
    },
    {
      "cell_type": "code",
      "metadata": {
        "id": "-FNSMbXxRt03",
        "colab_type": "code",
        "colab": {
          "base_uri": "https://localhost:8080/",
          "height": 70
        },
        "outputId": "b2e40d12-9621-47f9-d3f6-3673d2779666"
      },
      "source": [
        "#shape of dataframe post OHE Encoding\n",
        "print('before Performing OHE size of data',dd.shape)\n",
        "\n",
        "print('done OHE bt not remove columnns',df_ohe.shape)\n",
        "df_ohe.shape\n",
        "df_ohe = df_ohe.drop(columns = catrgorical)\n",
        "print(\"Size of dataset after dropping the columns : \",df_ohe.shape)"
      ],
      "execution_count": 286,
      "outputs": [
        {
          "output_type": "stream",
          "text": [
            "before Performing OHE size of data (614, 12)\n",
            "done OHE bt not remove columnns (614, 29)\n",
            "Size of dataset after dropping the columns :  (614, 21)\n"
          ],
          "name": "stdout"
        }
      ]
    },
    {
      "cell_type": "code",
      "metadata": {
        "id": "LOnkgqnRX2ld",
        "colab_type": "code",
        "colab": {
          "base_uri": "https://localhost:8080/",
          "height": 217
        },
        "outputId": "1e943c37-f0ae-4382-8c72-68b4a0540499"
      },
      "source": [
        "df_ohe.head()"
      ],
      "execution_count": 288,
      "outputs": [
        {
          "output_type": "execute_result",
          "data": {
            "text/html": [
              "<div>\n",
              "<style scoped>\n",
              "    .dataframe tbody tr th:only-of-type {\n",
              "        vertical-align: middle;\n",
              "    }\n",
              "\n",
              "    .dataframe tbody tr th {\n",
              "        vertical-align: top;\n",
              "    }\n",
              "\n",
              "    .dataframe thead th {\n",
              "        text-align: right;\n",
              "    }\n",
              "</style>\n",
              "<table border=\"1\" class=\"dataframe\">\n",
              "  <thead>\n",
              "    <tr style=\"text-align: right;\">\n",
              "      <th></th>\n",
              "      <th>ApplicantIncome</th>\n",
              "      <th>CoapplicantIncome</th>\n",
              "      <th>LoanAmount</th>\n",
              "      <th>Loan_Amount_Term</th>\n",
              "      <th>Dependents_0</th>\n",
              "      <th>Dependents_1</th>\n",
              "      <th>Dependents_2</th>\n",
              "      <th>Dependents_3</th>\n",
              "      <th>Married_0</th>\n",
              "      <th>Married_1</th>\n",
              "      <th>Education_0</th>\n",
              "      <th>Education_1</th>\n",
              "      <th>Loan_Status_0</th>\n",
              "      <th>Loan_Status_1</th>\n",
              "      <th>Property_Area_0</th>\n",
              "      <th>Property_Area_1</th>\n",
              "      <th>Property_Area_2</th>\n",
              "      <th>Gender_0</th>\n",
              "      <th>Gender_1</th>\n",
              "      <th>Self_Employed_0</th>\n",
              "      <th>Self_Employed_1</th>\n",
              "    </tr>\n",
              "  </thead>\n",
              "  <tbody>\n",
              "    <tr>\n",
              "      <th>0</th>\n",
              "      <td>5849</td>\n",
              "      <td>0.0</td>\n",
              "      <td>128.0</td>\n",
              "      <td>360.0</td>\n",
              "      <td>1.0</td>\n",
              "      <td>0.0</td>\n",
              "      <td>0.0</td>\n",
              "      <td>0.0</td>\n",
              "      <td>1.0</td>\n",
              "      <td>0.0</td>\n",
              "      <td>1.0</td>\n",
              "      <td>0.0</td>\n",
              "      <td>0.0</td>\n",
              "      <td>1.0</td>\n",
              "      <td>0.0</td>\n",
              "      <td>0.0</td>\n",
              "      <td>1.0</td>\n",
              "      <td>0.0</td>\n",
              "      <td>1.0</td>\n",
              "      <td>1.0</td>\n",
              "      <td>0.0</td>\n",
              "    </tr>\n",
              "    <tr>\n",
              "      <th>1</th>\n",
              "      <td>4583</td>\n",
              "      <td>1508.0</td>\n",
              "      <td>128.0</td>\n",
              "      <td>360.0</td>\n",
              "      <td>0.0</td>\n",
              "      <td>1.0</td>\n",
              "      <td>0.0</td>\n",
              "      <td>0.0</td>\n",
              "      <td>0.0</td>\n",
              "      <td>1.0</td>\n",
              "      <td>1.0</td>\n",
              "      <td>0.0</td>\n",
              "      <td>1.0</td>\n",
              "      <td>0.0</td>\n",
              "      <td>1.0</td>\n",
              "      <td>0.0</td>\n",
              "      <td>0.0</td>\n",
              "      <td>0.0</td>\n",
              "      <td>1.0</td>\n",
              "      <td>1.0</td>\n",
              "      <td>0.0</td>\n",
              "    </tr>\n",
              "    <tr>\n",
              "      <th>2</th>\n",
              "      <td>3000</td>\n",
              "      <td>0.0</td>\n",
              "      <td>66.0</td>\n",
              "      <td>360.0</td>\n",
              "      <td>1.0</td>\n",
              "      <td>0.0</td>\n",
              "      <td>0.0</td>\n",
              "      <td>0.0</td>\n",
              "      <td>0.0</td>\n",
              "      <td>1.0</td>\n",
              "      <td>1.0</td>\n",
              "      <td>0.0</td>\n",
              "      <td>0.0</td>\n",
              "      <td>1.0</td>\n",
              "      <td>0.0</td>\n",
              "      <td>0.0</td>\n",
              "      <td>1.0</td>\n",
              "      <td>0.0</td>\n",
              "      <td>1.0</td>\n",
              "      <td>0.0</td>\n",
              "      <td>1.0</td>\n",
              "    </tr>\n",
              "    <tr>\n",
              "      <th>3</th>\n",
              "      <td>2583</td>\n",
              "      <td>2358.0</td>\n",
              "      <td>120.0</td>\n",
              "      <td>360.0</td>\n",
              "      <td>1.0</td>\n",
              "      <td>0.0</td>\n",
              "      <td>0.0</td>\n",
              "      <td>0.0</td>\n",
              "      <td>0.0</td>\n",
              "      <td>1.0</td>\n",
              "      <td>0.0</td>\n",
              "      <td>1.0</td>\n",
              "      <td>0.0</td>\n",
              "      <td>1.0</td>\n",
              "      <td>0.0</td>\n",
              "      <td>0.0</td>\n",
              "      <td>1.0</td>\n",
              "      <td>0.0</td>\n",
              "      <td>1.0</td>\n",
              "      <td>1.0</td>\n",
              "      <td>0.0</td>\n",
              "    </tr>\n",
              "    <tr>\n",
              "      <th>4</th>\n",
              "      <td>6000</td>\n",
              "      <td>0.0</td>\n",
              "      <td>141.0</td>\n",
              "      <td>360.0</td>\n",
              "      <td>1.0</td>\n",
              "      <td>0.0</td>\n",
              "      <td>0.0</td>\n",
              "      <td>0.0</td>\n",
              "      <td>1.0</td>\n",
              "      <td>0.0</td>\n",
              "      <td>1.0</td>\n",
              "      <td>0.0</td>\n",
              "      <td>0.0</td>\n",
              "      <td>1.0</td>\n",
              "      <td>0.0</td>\n",
              "      <td>0.0</td>\n",
              "      <td>1.0</td>\n",
              "      <td>0.0</td>\n",
              "      <td>1.0</td>\n",
              "      <td>1.0</td>\n",
              "      <td>0.0</td>\n",
              "    </tr>\n",
              "  </tbody>\n",
              "</table>\n",
              "</div>"
            ],
            "text/plain": [
              "   ApplicantIncome  CoapplicantIncome  ...  Self_Employed_0  Self_Employed_1\n",
              "0             5849                0.0  ...              1.0              0.0\n",
              "1             4583             1508.0  ...              1.0              0.0\n",
              "2             3000                0.0  ...              0.0              1.0\n",
              "3             2583             2358.0  ...              1.0              0.0\n",
              "4             6000                0.0  ...              1.0              0.0\n",
              "\n",
              "[5 rows x 21 columns]"
            ]
          },
          "metadata": {
            "tags": []
          },
          "execution_count": 288
        }
      ]
    },
    {
      "cell_type": "code",
      "metadata": {
        "id": "E02ZDbWBXXQe",
        "colab_type": "code",
        "colab": {
          "base_uri": "https://localhost:8080/",
          "height": 217
        },
        "outputId": "8e836912-7f58-4efa-852d-0e9d46dc389a"
      },
      "source": [
        "#3 Carry out Correlation analysis on this dataframe. Plot using HeatMap\n",
        "ohe_cor=df_ohe.corr()\n",
        "ohe_cor.head()"
      ],
      "execution_count": 287,
      "outputs": [
        {
          "output_type": "execute_result",
          "data": {
            "text/html": [
              "<div>\n",
              "<style scoped>\n",
              "    .dataframe tbody tr th:only-of-type {\n",
              "        vertical-align: middle;\n",
              "    }\n",
              "\n",
              "    .dataframe tbody tr th {\n",
              "        vertical-align: top;\n",
              "    }\n",
              "\n",
              "    .dataframe thead th {\n",
              "        text-align: right;\n",
              "    }\n",
              "</style>\n",
              "<table border=\"1\" class=\"dataframe\">\n",
              "  <thead>\n",
              "    <tr style=\"text-align: right;\">\n",
              "      <th></th>\n",
              "      <th>ApplicantIncome</th>\n",
              "      <th>CoapplicantIncome</th>\n",
              "      <th>LoanAmount</th>\n",
              "      <th>Loan_Amount_Term</th>\n",
              "      <th>Dependents_0</th>\n",
              "      <th>Dependents_1</th>\n",
              "      <th>Dependents_2</th>\n",
              "      <th>Dependents_3</th>\n",
              "      <th>Married_0</th>\n",
              "      <th>Married_1</th>\n",
              "      <th>Education_0</th>\n",
              "      <th>Education_1</th>\n",
              "      <th>Loan_Status_0</th>\n",
              "      <th>Loan_Status_1</th>\n",
              "      <th>Property_Area_0</th>\n",
              "      <th>Property_Area_1</th>\n",
              "      <th>Property_Area_2</th>\n",
              "      <th>Gender_0</th>\n",
              "      <th>Gender_1</th>\n",
              "      <th>Self_Employed_0</th>\n",
              "      <th>Self_Employed_1</th>\n",
              "    </tr>\n",
              "  </thead>\n",
              "  <tbody>\n",
              "    <tr>\n",
              "      <th>ApplicantIncome</th>\n",
              "      <td>1.000000</td>\n",
              "      <td>-0.116605</td>\n",
              "      <td>0.565181</td>\n",
              "      <td>-0.015645</td>\n",
              "      <td>-0.092599</td>\n",
              "      <td>0.040861</td>\n",
              "      <td>-0.034650</td>\n",
              "      <td>0.156687</td>\n",
              "      <td>-0.050194</td>\n",
              "      <td>0.050194</td>\n",
              "      <td>0.140760</td>\n",
              "      <td>-0.140760</td>\n",
              "      <td>0.004710</td>\n",
              "      <td>-0.004710</td>\n",
              "      <td>0.015829</td>\n",
              "      <td>-0.014246</td>\n",
              "      <td>-0.000598</td>\n",
              "      <td>-0.058809</td>\n",
              "      <td>0.058809</td>\n",
              "      <td>-0.127180</td>\n",
              "      <td>0.127180</td>\n",
              "    </tr>\n",
              "    <tr>\n",
              "      <th>CoapplicantIncome</th>\n",
              "      <td>-0.116605</td>\n",
              "      <td>1.000000</td>\n",
              "      <td>0.189218</td>\n",
              "      <td>-0.050321</td>\n",
              "      <td>-0.008292</td>\n",
              "      <td>-0.029769</td>\n",
              "      <td>0.010016</td>\n",
              "      <td>0.041491</td>\n",
              "      <td>-0.080496</td>\n",
              "      <td>0.080496</td>\n",
              "      <td>0.062290</td>\n",
              "      <td>-0.062290</td>\n",
              "      <td>0.059187</td>\n",
              "      <td>-0.059187</td>\n",
              "      <td>0.005329</td>\n",
              "      <td>-0.027044</td>\n",
              "      <td>0.022776</td>\n",
              "      <td>-0.082912</td>\n",
              "      <td>0.082912</td>\n",
              "      <td>0.016100</td>\n",
              "      <td>-0.016100</td>\n",
              "    </tr>\n",
              "    <tr>\n",
              "      <th>LoanAmount</th>\n",
              "      <td>0.565181</td>\n",
              "      <td>0.189218</td>\n",
              "      <td>1.000000</td>\n",
              "      <td>0.064110</td>\n",
              "      <td>-0.147639</td>\n",
              "      <td>0.061976</td>\n",
              "      <td>0.020126</td>\n",
              "      <td>0.152850</td>\n",
              "      <td>-0.145717</td>\n",
              "      <td>0.145717</td>\n",
              "      <td>0.168759</td>\n",
              "      <td>-0.168759</td>\n",
              "      <td>0.033214</td>\n",
              "      <td>-0.033214</td>\n",
              "      <td>0.043467</td>\n",
              "      <td>-0.005804</td>\n",
              "      <td>-0.036050</td>\n",
              "      <td>-0.106904</td>\n",
              "      <td>0.106904</td>\n",
              "      <td>-0.115100</td>\n",
              "      <td>0.115100</td>\n",
              "    </tr>\n",
              "    <tr>\n",
              "      <th>Loan_Amount_Term</th>\n",
              "      <td>-0.015645</td>\n",
              "      <td>-0.050321</td>\n",
              "      <td>0.064110</td>\n",
              "      <td>1.000000</td>\n",
              "      <td>0.037666</td>\n",
              "      <td>-0.043942</td>\n",
              "      <td>0.036037</td>\n",
              "      <td>-0.056365</td>\n",
              "      <td>0.079926</td>\n",
              "      <td>-0.079926</td>\n",
              "      <td>0.108857</td>\n",
              "      <td>-0.108857</td>\n",
              "      <td>-0.007306</td>\n",
              "      <td>0.007306</td>\n",
              "      <td>0.028186</td>\n",
              "      <td>0.080393</td>\n",
              "      <td>-0.110293</td>\n",
              "      <td>0.049785</td>\n",
              "      <td>-0.049785</td>\n",
              "      <td>0.029185</td>\n",
              "      <td>-0.029185</td>\n",
              "    </tr>\n",
              "    <tr>\n",
              "      <th>Dependents_0</th>\n",
              "      <td>-0.092599</td>\n",
              "      <td>-0.008292</td>\n",
              "      <td>-0.147639</td>\n",
              "      <td>0.037666</td>\n",
              "      <td>1.000000</td>\n",
              "      <td>-0.531373</td>\n",
              "      <td>-0.528246</td>\n",
              "      <td>-0.358315</td>\n",
              "      <td>0.355644</td>\n",
              "      <td>-0.355644</td>\n",
              "      <td>0.036563</td>\n",
              "      <td>-0.036563</td>\n",
              "      <td>0.003044</td>\n",
              "      <td>-0.003044</td>\n",
              "      <td>0.044015</td>\n",
              "      <td>-0.004173</td>\n",
              "      <td>-0.038264</td>\n",
              "      <td>0.148421</td>\n",
              "      <td>-0.148421</td>\n",
              "      <td>0.088254</td>\n",
              "      <td>-0.088254</td>\n",
              "    </tr>\n",
              "  </tbody>\n",
              "</table>\n",
              "</div>"
            ],
            "text/plain": [
              "                   ApplicantIncome  ...  Self_Employed_1\n",
              "ApplicantIncome           1.000000  ...         0.127180\n",
              "CoapplicantIncome        -0.116605  ...        -0.016100\n",
              "LoanAmount                0.565181  ...         0.115100\n",
              "Loan_Amount_Term         -0.015645  ...        -0.029185\n",
              "Dependents_0             -0.092599  ...        -0.088254\n",
              "\n",
              "[5 rows x 21 columns]"
            ]
          },
          "metadata": {
            "tags": []
          },
          "execution_count": 287
        }
      ]
    },
    {
      "cell_type": "code",
      "metadata": {
        "id": "Q6aDDJxDZD4A",
        "colab_type": "code",
        "colab": {
          "base_uri": "https://localhost:8080/",
          "height": 786
        },
        "outputId": "2570a753-6cae-4e87-f747-bae06bb8fbb1"
      },
      "source": [
        "#strong correlation using OHE ( Correlation Coefficient > 0.5 or <0.5) \n",
        "\n",
        "mask = np.zeros_like(ohe_cor, dtype=np.bool)\n",
        "mask[np.triu_indices_from(mask)] = True\n",
        "f, ax = plt.subplots(figsize=(15, 12))\n",
        "cmap = sns.diverging_palette(220, 10, as_cmap=True)\n",
        "svm = sns.heatmap(ohe_cor, mask=mask, cmap=cmap, center=0,square=True, linewidths=.5, cbar_kws={\"shrink\": .5})"
      ],
      "execution_count": 297,
      "outputs": [
        {
          "output_type": "display_data",
          "data": {
            "image/png": "[encoded data removed]",
            "text/plain": [
              "<Figure size 1080x864 with 2 Axes>"
            ]
          },
          "metadata": {
            "tags": [],
            "needs_background": "light"
          }
        }
      ]
    }
  ]
}