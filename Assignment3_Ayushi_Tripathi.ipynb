{
  "nbformat": 4,
  "nbformat_minor": 0,
  "metadata": {
    "colab": {
      "name": "Assignment3_Ayushi Tripathi",
      "provenance": [],
      "collapsed_sections": []
    },
    "kernelspec": {
      "name": "python3",
      "display_name": "Python 3"
    }
  },
  "cells": [
    {
      "cell_type": "markdown",
      "metadata": {
        "id": "hTMxdyLCzt1b",
        "colab_type": "text"
      },
      "source": [
        "#Perform Exploratory Data Analysis , Data Cleaning & Feature Engg on the Training dataset"
      ]
    },
    {
      "cell_type": "code",
      "metadata": {
        "id": "Y0voxk_I0b2t",
        "colab_type": "code",
        "outputId": "c965f34f-93b6-4af9-ec5d-702269a563d1",
        "colab": {
          "base_uri": "https://localhost:8080/",
          "height": 255
        }
      },
      "source": [
        "import numpy as np\n",
        "import pandas as pd\n",
        "import matplotlib.pyplot as plt\n",
        "import seaborn as sns\n",
        "from sklearn.preprocessing import LabelEncoder\n",
        "from sklearn.preprocessing import OneHotEncoder\n",
        "from numpy.random import seed\n",
        "from numpy.random import randn\n",
        "from numpy import percentile\n",
        "\n",
        "\n",
        "df_model=pd.read_csv(\"/content/dataset_model.csv\")\n",
        "print(df_model)"
      ],
      "execution_count": 0,
      "outputs": [
        {
          "output_type": "stream",
          "text": [
            "      Loan_ID  Gender Married  ... Credit_History Property_Area Loan_Status\n",
            "0    LP001002    Male      No  ...            1.0         Urban           Y\n",
            "1    LP001003    Male     Yes  ...            1.0         Rural           N\n",
            "2    LP001005    Male     Yes  ...            1.0         Urban           Y\n",
            "3    LP001006    Male     Yes  ...            1.0         Urban           Y\n",
            "4    LP001008    Male      No  ...            1.0         Urban           Y\n",
            "..        ...     ...     ...  ...            ...           ...         ...\n",
            "609  LP002978  Female      No  ...            1.0         Rural           Y\n",
            "610  LP002979    Male     Yes  ...            1.0         Rural           Y\n",
            "611  LP002983    Male     Yes  ...            1.0         Urban           Y\n",
            "612  LP002984    Male     Yes  ...            1.0         Urban           Y\n",
            "613  LP002990  Female      No  ...            0.0     Semiurban           N\n",
            "\n",
            "[614 rows x 13 columns]\n"
          ],
          "name": "stdout"
        }
      ]
    },
    {
      "cell_type": "code",
      "metadata": {
        "id": "U08I1X9y851t",
        "colab_type": "code",
        "outputId": "94e4c131-d5d6-42ea-99bb-92d6c1fd2a4b",
        "colab": {
          "base_uri": "https://localhost:8080/",
          "height": 85
        }
      },
      "source": [
        "df_model.columns"
      ],
      "execution_count": 0,
      "outputs": [
        {
          "output_type": "execute_result",
          "data": {
            "text/plain": [
              "Index(['Loan_ID', 'Gender', 'Married', 'Dependents', 'Education',\n",
              "       'Self_Employed', 'ApplicantIncome', 'CoapplicantIncome', 'LoanAmount',\n",
              "       'Loan_Amount_Term', 'Credit_History', 'Property_Area', 'Loan_Status'],\n",
              "      dtype='object')"
            ]
          },
          "metadata": {
            "tags": []
          },
          "execution_count": 71
        }
      ]
    },
    {
      "cell_type": "code",
      "metadata": {
        "id": "BG0SpiKZ9ypZ",
        "colab_type": "code",
        "outputId": "294bf2d6-ded1-4380-e07a-3223fd669198",
        "colab": {
          "base_uri": "https://localhost:8080/",
          "height": 241
        }
      },
      "source": [
        "df_model.head()"
      ],
      "execution_count": 0,
      "outputs": [
        {
          "output_type": "execute_result",
          "data": {
            "text/html": [
              "<div>\n",
              "<style scoped>\n",
              "    .dataframe tbody tr th:only-of-type {\n",
              "        vertical-align: middle;\n",
              "    }\n",
              "\n",
              "    .dataframe tbody tr th {\n",
              "        vertical-align: top;\n",
              "    }\n",
              "\n",
              "    .dataframe thead th {\n",
              "        text-align: right;\n",
              "    }\n",
              "</style>\n",
              "<table border=\"1\" class=\"dataframe\">\n",
              "  <thead>\n",
              "    <tr style=\"text-align: right;\">\n",
              "      <th></th>\n",
              "      <th>Loan_ID</th>\n",
              "      <th>Gender</th>\n",
              "      <th>Married</th>\n",
              "      <th>Dependents</th>\n",
              "      <th>Education</th>\n",
              "      <th>Self_Employed</th>\n",
              "      <th>ApplicantIncome</th>\n",
              "      <th>CoapplicantIncome</th>\n",
              "      <th>LoanAmount</th>\n",
              "      <th>Loan_Amount_Term</th>\n",
              "      <th>Credit_History</th>\n",
              "      <th>Property_Area</th>\n",
              "      <th>Loan_Status</th>\n",
              "    </tr>\n",
              "  </thead>\n",
              "  <tbody>\n",
              "    <tr>\n",
              "      <th>0</th>\n",
              "      <td>LP001002</td>\n",
              "      <td>Male</td>\n",
              "      <td>No</td>\n",
              "      <td>0</td>\n",
              "      <td>Graduate</td>\n",
              "      <td>No</td>\n",
              "      <td>5849</td>\n",
              "      <td>0.0</td>\n",
              "      <td>NaN</td>\n",
              "      <td>360.0</td>\n",
              "      <td>1.0</td>\n",
              "      <td>Urban</td>\n",
              "      <td>Y</td>\n",
              "    </tr>\n",
              "    <tr>\n",
              "      <th>1</th>\n",
              "      <td>LP001003</td>\n",
              "      <td>Male</td>\n",
              "      <td>Yes</td>\n",
              "      <td>1</td>\n",
              "      <td>Graduate</td>\n",
              "      <td>No</td>\n",
              "      <td>4583</td>\n",
              "      <td>1508.0</td>\n",
              "      <td>128.0</td>\n",
              "      <td>360.0</td>\n",
              "      <td>1.0</td>\n",
              "      <td>Rural</td>\n",
              "      <td>N</td>\n",
              "    </tr>\n",
              "    <tr>\n",
              "      <th>2</th>\n",
              "      <td>LP001005</td>\n",
              "      <td>Male</td>\n",
              "      <td>Yes</td>\n",
              "      <td>0</td>\n",
              "      <td>Graduate</td>\n",
              "      <td>Yes</td>\n",
              "      <td>3000</td>\n",
              "      <td>0.0</td>\n",
              "      <td>66.0</td>\n",
              "      <td>360.0</td>\n",
              "      <td>1.0</td>\n",
              "      <td>Urban</td>\n",
              "      <td>Y</td>\n",
              "    </tr>\n",
              "    <tr>\n",
              "      <th>3</th>\n",
              "      <td>LP001006</td>\n",
              "      <td>Male</td>\n",
              "      <td>Yes</td>\n",
              "      <td>0</td>\n",
              "      <td>Not Graduate</td>\n",
              "      <td>No</td>\n",
              "      <td>2583</td>\n",
              "      <td>2358.0</td>\n",
              "      <td>120.0</td>\n",
              "      <td>360.0</td>\n",
              "      <td>1.0</td>\n",
              "      <td>Urban</td>\n",
              "      <td>Y</td>\n",
              "    </tr>\n",
              "    <tr>\n",
              "      <th>4</th>\n",
              "      <td>LP001008</td>\n",
              "      <td>Male</td>\n",
              "      <td>No</td>\n",
              "      <td>0</td>\n",
              "      <td>Graduate</td>\n",
              "      <td>No</td>\n",
              "      <td>6000</td>\n",
              "      <td>0.0</td>\n",
              "      <td>141.0</td>\n",
              "      <td>360.0</td>\n",
              "      <td>1.0</td>\n",
              "      <td>Urban</td>\n",
              "      <td>Y</td>\n",
              "    </tr>\n",
              "  </tbody>\n",
              "</table>\n",
              "</div>"
            ],
            "text/plain": [
              "    Loan_ID Gender Married  ... Credit_History Property_Area Loan_Status\n",
              "0  LP001002   Male      No  ...            1.0         Urban           Y\n",
              "1  LP001003   Male     Yes  ...            1.0         Rural           N\n",
              "2  LP001005   Male     Yes  ...            1.0         Urban           Y\n",
              "3  LP001006   Male     Yes  ...            1.0         Urban           Y\n",
              "4  LP001008   Male      No  ...            1.0         Urban           Y\n",
              "\n",
              "[5 rows x 13 columns]"
            ]
          },
          "metadata": {
            "tags": []
          },
          "execution_count": 3
        }
      ]
    },
    {
      "cell_type": "code",
      "metadata": {
        "id": "8-mFkDxl91n9",
        "colab_type": "code",
        "outputId": "fbe4ab06-293f-41d5-af94-7f3a1f68e6db",
        "colab": {
          "base_uri": "https://localhost:8080/",
          "height": 34
        }
      },
      "source": [
        "df_model.shape"
      ],
      "execution_count": 0,
      "outputs": [
        {
          "output_type": "execute_result",
          "data": {
            "text/plain": [
              "(614, 13)"
            ]
          },
          "metadata": {
            "tags": []
          },
          "execution_count": 72
        }
      ]
    },
    {
      "cell_type": "code",
      "metadata": {
        "id": "meD8i2SVA2xf",
        "colab_type": "code",
        "outputId": "693585ae-010a-45d3-a459-85cd0828c000",
        "colab": {
          "base_uri": "https://localhost:8080/",
          "height": 34
        }
      },
      "source": [
        "print(len(df_model))"
      ],
      "execution_count": 0,
      "outputs": [
        {
          "output_type": "stream",
          "text": [
            "614\n"
          ],
          "name": "stdout"
        }
      ]
    },
    {
      "cell_type": "code",
      "metadata": {
        "id": "NX2E2SNhBOok",
        "colab_type": "code",
        "outputId": "6f6d132b-9057-4fcc-9c01-d400ade6a208",
        "colab": {
          "base_uri": "https://localhost:8080/",
          "height": 34
        }
      },
      "source": [
        "print(df_model.index)"
      ],
      "execution_count": 0,
      "outputs": [
        {
          "output_type": "stream",
          "text": [
            "RangeIndex(start=0, stop=614, step=1)\n"
          ],
          "name": "stdout"
        }
      ]
    },
    {
      "cell_type": "code",
      "metadata": {
        "id": "0qz53Ys1Bdxe",
        "colab_type": "code",
        "outputId": "645802a1-eedd-4236-9084-3e0f15f02a97",
        "colab": {
          "base_uri": "https://localhost:8080/",
          "height": 255
        }
      },
      "source": [
        "print(df_model.dtypes)"
      ],
      "execution_count": 0,
      "outputs": [
        {
          "output_type": "stream",
          "text": [
            "Loan_ID               object\n",
            "Gender                object\n",
            "Married               object\n",
            "Dependents            object\n",
            "Education             object\n",
            "Self_Employed         object\n",
            "ApplicantIncome        int64\n",
            "CoapplicantIncome    float64\n",
            "LoanAmount           float64\n",
            "Loan_Amount_Term     float64\n",
            "Credit_History       float64\n",
            "Property_Area         object\n",
            "Loan_Status           object\n",
            "dtype: object\n"
          ],
          "name": "stdout"
        }
      ]
    },
    {
      "cell_type": "markdown",
      "metadata": {
        "id": "Oxib2pj0_A8Q",
        "colab_type": "text"
      },
      "source": [
        "Idenitfy & Remove the field that is providing only unique information about records .Capture it in another dataframe"
      ]
    },
    {
      "cell_type": "code",
      "metadata": {
        "id": "4RCVtJS2GaL1",
        "colab_type": "code",
        "outputId": "f74d779a-a5b2-4847-b1b9-00e06b261e42",
        "colab": {
          "base_uri": "https://localhost:8080/",
          "height": 459
        }
      },
      "source": [
        "for i in df_model:\n",
        "  print(i)\n",
        "  print(df_model[i].is_unique)\n"
      ],
      "execution_count": 0,
      "outputs": [
        {
          "output_type": "stream",
          "text": [
            "Loan_ID\n",
            "True\n",
            "Gender\n",
            "False\n",
            "Married\n",
            "False\n",
            "Dependents\n",
            "False\n",
            "Education\n",
            "False\n",
            "Self_Employed\n",
            "False\n",
            "ApplicantIncome\n",
            "False\n",
            "CoapplicantIncome\n",
            "False\n",
            "LoanAmount\n",
            "False\n",
            "Loan_Amount_Term\n",
            "False\n",
            "Credit_History\n",
            "False\n",
            "Property_Area\n",
            "False\n",
            "Loan_Status\n",
            "False\n"
          ],
          "name": "stdout"
        }
      ]
    },
    {
      "cell_type": "markdown",
      "metadata": {
        "id": "VUHMjqn1PvFb",
        "colab_type": "text"
      },
      "source": [
        "#Hence from above we conclude that only Loan_ID is unique column. "
      ]
    },
    {
      "cell_type": "code",
      "metadata": {
        "id": "J3aiBVzhQVjG",
        "colab_type": "code",
        "outputId": "bce92bb5-9478-4413-e0dc-0f6aa5bed295",
        "colab": {
          "base_uri": "https://localhost:8080/",
          "height": 221
        }
      },
      "source": [
        "# appending unique column in new dataframe\n",
        "uni_df=[]\n",
        "uni_df.append(df_model['Loan_ID'])\n",
        "print(uni_df)\n",
        "#In this we are storing unique column Loan_ID in new dataframe"
      ],
      "execution_count": 0,
      "outputs": [
        {
          "output_type": "stream",
          "text": [
            "[0      LP001002\n",
            "1      LP001003\n",
            "2      LP001005\n",
            "3      LP001006\n",
            "4      LP001008\n",
            "         ...   \n",
            "609    LP002978\n",
            "610    LP002979\n",
            "611    LP002983\n",
            "612    LP002984\n",
            "613    LP002990\n",
            "Name: Loan_ID, Length: 614, dtype: object]\n"
          ],
          "name": "stdout"
        }
      ]
    },
    {
      "cell_type": "code",
      "metadata": {
        "id": "wn68M1ThJNh8",
        "colab_type": "code",
        "colab": {}
      },
      "source": [
        "df_model=df_model.drop(\"Loan_ID\",axis=1)"
      ],
      "execution_count": 0,
      "outputs": []
    },
    {
      "cell_type": "code",
      "metadata": {
        "id": "cAxnFuhKSTkF",
        "colab_type": "code",
        "outputId": "3aa99808-f690-43d4-c6bd-6d87c3027bc1",
        "colab": {
          "base_uri": "https://localhost:8080/",
          "height": 241
        }
      },
      "source": [
        "df_model.head(5)\n",
        "#In the table shown below we have seen that unique column name Loan_ID get removed"
      ],
      "execution_count": 0,
      "outputs": [
        {
          "output_type": "execute_result",
          "data": {
            "text/html": [
              "<div>\n",
              "<style scoped>\n",
              "    .dataframe tbody tr th:only-of-type {\n",
              "        vertical-align: middle;\n",
              "    }\n",
              "\n",
              "    .dataframe tbody tr th {\n",
              "        vertical-align: top;\n",
              "    }\n",
              "\n",
              "    .dataframe thead th {\n",
              "        text-align: right;\n",
              "    }\n",
              "</style>\n",
              "<table border=\"1\" class=\"dataframe\">\n",
              "  <thead>\n",
              "    <tr style=\"text-align: right;\">\n",
              "      <th></th>\n",
              "      <th>Gender</th>\n",
              "      <th>Married</th>\n",
              "      <th>Dependents</th>\n",
              "      <th>Education</th>\n",
              "      <th>Self_Employed</th>\n",
              "      <th>ApplicantIncome</th>\n",
              "      <th>CoapplicantIncome</th>\n",
              "      <th>LoanAmount</th>\n",
              "      <th>Loan_Amount_Term</th>\n",
              "      <th>Credit_History</th>\n",
              "      <th>Property_Area</th>\n",
              "      <th>Loan_Status</th>\n",
              "    </tr>\n",
              "  </thead>\n",
              "  <tbody>\n",
              "    <tr>\n",
              "      <th>0</th>\n",
              "      <td>Male</td>\n",
              "      <td>No</td>\n",
              "      <td>0</td>\n",
              "      <td>Graduate</td>\n",
              "      <td>No</td>\n",
              "      <td>5849</td>\n",
              "      <td>0.0</td>\n",
              "      <td>NaN</td>\n",
              "      <td>360.0</td>\n",
              "      <td>1.0</td>\n",
              "      <td>Urban</td>\n",
              "      <td>Y</td>\n",
              "    </tr>\n",
              "    <tr>\n",
              "      <th>1</th>\n",
              "      <td>Male</td>\n",
              "      <td>Yes</td>\n",
              "      <td>1</td>\n",
              "      <td>Graduate</td>\n",
              "      <td>No</td>\n",
              "      <td>4583</td>\n",
              "      <td>1508.0</td>\n",
              "      <td>128.0</td>\n",
              "      <td>360.0</td>\n",
              "      <td>1.0</td>\n",
              "      <td>Rural</td>\n",
              "      <td>N</td>\n",
              "    </tr>\n",
              "    <tr>\n",
              "      <th>2</th>\n",
              "      <td>Male</td>\n",
              "      <td>Yes</td>\n",
              "      <td>0</td>\n",
              "      <td>Graduate</td>\n",
              "      <td>Yes</td>\n",
              "      <td>3000</td>\n",
              "      <td>0.0</td>\n",
              "      <td>66.0</td>\n",
              "      <td>360.0</td>\n",
              "      <td>1.0</td>\n",
              "      <td>Urban</td>\n",
              "      <td>Y</td>\n",
              "    </tr>\n",
              "    <tr>\n",
              "      <th>3</th>\n",
              "      <td>Male</td>\n",
              "      <td>Yes</td>\n",
              "      <td>0</td>\n",
              "      <td>Not Graduate</td>\n",
              "      <td>No</td>\n",
              "      <td>2583</td>\n",
              "      <td>2358.0</td>\n",
              "      <td>120.0</td>\n",
              "      <td>360.0</td>\n",
              "      <td>1.0</td>\n",
              "      <td>Urban</td>\n",
              "      <td>Y</td>\n",
              "    </tr>\n",
              "    <tr>\n",
              "      <th>4</th>\n",
              "      <td>Male</td>\n",
              "      <td>No</td>\n",
              "      <td>0</td>\n",
              "      <td>Graduate</td>\n",
              "      <td>No</td>\n",
              "      <td>6000</td>\n",
              "      <td>0.0</td>\n",
              "      <td>141.0</td>\n",
              "      <td>360.0</td>\n",
              "      <td>1.0</td>\n",
              "      <td>Urban</td>\n",
              "      <td>Y</td>\n",
              "    </tr>\n",
              "  </tbody>\n",
              "</table>\n",
              "</div>"
            ],
            "text/plain": [
              "  Gender Married Dependents  ... Credit_History Property_Area  Loan_Status\n",
              "0   Male      No          0  ...            1.0         Urban            Y\n",
              "1   Male     Yes          1  ...            1.0         Rural            N\n",
              "2   Male     Yes          0  ...            1.0         Urban            Y\n",
              "3   Male     Yes          0  ...            1.0         Urban            Y\n",
              "4   Male      No          0  ...            1.0         Urban            Y\n",
              "\n",
              "[5 rows x 12 columns]"
            ]
          },
          "metadata": {
            "tags": []
          },
          "execution_count": 79
        }
      ]
    },
    {
      "cell_type": "markdown",
      "metadata": {
        "id": "KJ_CsDttT852",
        "colab_type": "text"
      },
      "source": [
        ""
      ]
    },
    {
      "cell_type": "markdown",
      "metadata": {
        "id": "uRpBg75GTvOa",
        "colab_type": "text"
      },
      "source": [
        "Identifying Continous & Categorical Columns"
      ]
    },
    {
      "cell_type": "code",
      "metadata": {
        "id": "Qm5-tx3aelO8",
        "colab_type": "code",
        "outputId": "3699171b-70c1-4c9a-d928-41fd2ed35acb",
        "colab": {
          "base_uri": "https://localhost:8080/",
          "height": 68
        }
      },
      "source": [
        "#for continuous columns\n",
        "num_cols = df_model._get_numeric_data().columns\n",
        "num_cols"
      ],
      "execution_count": 0,
      "outputs": [
        {
          "output_type": "execute_result",
          "data": {
            "text/plain": [
              "Index(['ApplicantIncome', 'CoapplicantIncome', 'LoanAmount',\n",
              "       'Loan_Amount_Term', 'Credit_History'],\n",
              "      dtype='object')"
            ]
          },
          "metadata": {
            "tags": []
          },
          "execution_count": 80
        }
      ]
    },
    {
      "cell_type": "code",
      "metadata": {
        "id": "2S7bymeTSrXM",
        "colab_type": "code",
        "outputId": "c9046f06-c8c4-47f4-fa3e-f4cae2164d6b",
        "colab": {
          "base_uri": "https://localhost:8080/",
          "height": 102
        }
      },
      "source": [
        "#Continuous\n",
        "for i in num_cols:\n",
        "  print(str(i)+'\\t'+str(len(df_model[i].unique())))"
      ],
      "execution_count": 0,
      "outputs": [
        {
          "output_type": "stream",
          "text": [
            "ApplicantIncome\t505\n",
            "CoapplicantIncome\t287\n",
            "LoanAmount\t204\n",
            "Loan_Amount_Term\t11\n",
            "Credit_History\t3\n"
          ],
          "name": "stdout"
        }
      ]
    },
    {
      "cell_type": "markdown",
      "metadata": {
        "id": "MrBm_mzTe8Ds",
        "colab_type": "text"
      },
      "source": [
        "#categorial columns"
      ]
    },
    {
      "cell_type": "code",
      "metadata": {
        "id": "blbUNfmWeKFv",
        "colab_type": "code",
        "outputId": "0bb2032f-8429-42d0-bd1e-12a5303dbe73",
        "colab": {
          "base_uri": "https://localhost:8080/",
          "height": 136
        }
      },
      "source": [
        "\n",
        "for j in list(set(df_model.columns) - set(num_cols)):\n",
        "  print(str(j)+'\\t'+str(len(df_model[j].unique())))"
      ],
      "execution_count": 0,
      "outputs": [
        {
          "output_type": "stream",
          "text": [
            "Loan_Status\t2\n",
            "Dependents\t5\n",
            "Self_Employed\t3\n",
            "Gender\t3\n",
            "Property_Area\t3\n",
            "Married\t3\n",
            "Education\t2\n"
          ],
          "name": "stdout"
        }
      ]
    },
    {
      "cell_type": "code",
      "metadata": {
        "id": "N1BIRdEkfXu6",
        "colab_type": "code",
        "outputId": "aca9f5b3-85fc-4729-ac33-1505c19d06fe",
        "colab": {
          "base_uri": "https://localhost:8080/",
          "height": 34
        }
      },
      "source": [
        "df_model['Education'].unique()"
      ],
      "execution_count": 0,
      "outputs": [
        {
          "output_type": "execute_result",
          "data": {
            "text/plain": [
              "array(['Graduate', 'Not Graduate'], dtype=object)"
            ]
          },
          "metadata": {
            "tags": []
          },
          "execution_count": 83
        }
      ]
    },
    {
      "cell_type": "code",
      "metadata": {
        "id": "ONqxO5TvfguY",
        "colab_type": "code",
        "outputId": "d2714dff-4b29-45a8-f61c-a2ce44ee58c8",
        "colab": {
          "base_uri": "https://localhost:8080/",
          "height": 34
        }
      },
      "source": [
        "df_model['Property_Area'].unique()"
      ],
      "execution_count": 0,
      "outputs": [
        {
          "output_type": "execute_result",
          "data": {
            "text/plain": [
              "array(['Urban', 'Rural', 'Semiurban'], dtype=object)"
            ]
          },
          "metadata": {
            "tags": []
          },
          "execution_count": 84
        }
      ]
    },
    {
      "cell_type": "code",
      "metadata": {
        "id": "TmHxyFEQfzRU",
        "colab_type": "code",
        "outputId": "3848eecb-c7cf-48cc-f1b0-6d664131f6a2",
        "colab": {
          "base_uri": "https://localhost:8080/",
          "height": 34
        }
      },
      "source": [
        "df_model['Loan_Status'].unique()"
      ],
      "execution_count": 0,
      "outputs": [
        {
          "output_type": "execute_result",
          "data": {
            "text/plain": [
              "array(['Y', 'N'], dtype=object)"
            ]
          },
          "metadata": {
            "tags": []
          },
          "execution_count": 85
        }
      ]
    },
    {
      "cell_type": "code",
      "metadata": {
        "id": "YImGA8Abf76n",
        "colab_type": "code",
        "outputId": "5f5c788d-5da5-4e61-dd04-4ca5eff9e7dd",
        "colab": {
          "base_uri": "https://localhost:8080/",
          "height": 34
        }
      },
      "source": [
        "df_model['Dependents'].unique()"
      ],
      "execution_count": 0,
      "outputs": [
        {
          "output_type": "execute_result",
          "data": {
            "text/plain": [
              "array(['0', '1', '2', '3+', nan], dtype=object)"
            ]
          },
          "metadata": {
            "tags": []
          },
          "execution_count": 86
        }
      ]
    },
    {
      "cell_type": "code",
      "metadata": {
        "id": "53dx9_SFhZxE",
        "colab_type": "code",
        "outputId": "13f6a903-1f5b-4fcf-b5e1-37d02d7dd3f8",
        "colab": {
          "base_uri": "https://localhost:8080/",
          "height": 34
        }
      },
      "source": [
        "df_model['Married'].unique()"
      ],
      "execution_count": 0,
      "outputs": [
        {
          "output_type": "execute_result",
          "data": {
            "text/plain": [
              "array(['No', 'Yes', nan], dtype=object)"
            ]
          },
          "metadata": {
            "tags": []
          },
          "execution_count": 87
        }
      ]
    },
    {
      "cell_type": "code",
      "metadata": {
        "id": "ko-_RMKkhxKD",
        "colab_type": "code",
        "outputId": "97794d42-8798-4817-d190-cfdb2a46876b",
        "colab": {
          "base_uri": "https://localhost:8080/",
          "height": 34
        }
      },
      "source": [
        "df_model['Self_Employed'].unique()"
      ],
      "execution_count": 0,
      "outputs": [
        {
          "output_type": "execute_result",
          "data": {
            "text/plain": [
              "array(['No', 'Yes', nan], dtype=object)"
            ]
          },
          "metadata": {
            "tags": []
          },
          "execution_count": 88
        }
      ]
    },
    {
      "cell_type": "code",
      "metadata": {
        "id": "ww7lYsHRiBW9",
        "colab_type": "code",
        "outputId": "88ac56b0-373b-4173-e7e8-e007179bcf4d",
        "colab": {
          "base_uri": "https://localhost:8080/",
          "height": 34
        }
      },
      "source": [
        "df_model['Gender'].unique()"
      ],
      "execution_count": 0,
      "outputs": [
        {
          "output_type": "execute_result",
          "data": {
            "text/plain": [
              "array(['Male', 'Female', nan], dtype=object)"
            ]
          },
          "metadata": {
            "tags": []
          },
          "execution_count": 90
        }
      ]
    },
    {
      "cell_type": "markdown",
      "metadata": {
        "id": "SHv7R7BciZmc",
        "colab_type": "text"
      },
      "source": [
        "Performing Uni-variate Analysis with Plots.Record your Observations"
      ]
    },
    {
      "cell_type": "code",
      "metadata": {
        "id": "WcI4aNYZiK9Z",
        "colab_type": "code",
        "outputId": "1994a018-87ba-49de-f069-b7b5d378923c",
        "colab": {
          "base_uri": "https://localhost:8080/",
          "height": 509
        }
      },
      "source": [
        "#Takes all numerical data (continous or categorical) and plots\n",
        "df_model.hist(figsize=[12,6])"
      ],
      "execution_count": 0,
      "outputs": [
        {
          "output_type": "execute_result",
          "data": {
            "text/plain": [
              "array([[<matplotlib.axes._subplots.AxesSubplot object at 0x7fc174f43160>,\n",
              "        <matplotlib.axes._subplots.AxesSubplot object at 0x7fc1750bc240>],\n",
              "       [<matplotlib.axes._subplots.AxesSubplot object at 0x7fc1750ea5c0>,\n",
              "        <matplotlib.axes._subplots.AxesSubplot object at 0x7fc175083f60>],\n",
              "       [<matplotlib.axes._subplots.AxesSubplot object at 0x7fc173742240>,\n",
              "        <matplotlib.axes._subplots.AxesSubplot object at 0x7fc1737705c0>]],\n",
              "      dtype=object)"
            ]
          },
          "metadata": {
            "tags": []
          },
          "execution_count": 91
        },
        {
          "output_type": "display_data",
          "data": {
            "image/png": "[encoded data removed]",
            "text/plain": [
              "<Figure size 864x432 with 6 Axes>"
            ]
          },
          "metadata": {
            "tags": [],
            "needs_background": "light"
          }
        }
      ]
    },
    {
      "cell_type": "markdown",
      "metadata": {
        "id": "kkqUM5ZYcYGV",
        "colab_type": "text"
      },
      "source": [
        "observation\n",
        "\n",
        "1.)The Applicant income lies between 0-10000 is highest so these applicants have higher chance of getting a lone\n",
        "\n",
        "2.)Highest loan amount received by applicants is lies between 90-150 and and after that the loan amount is decreases\n",
        "\n",
        "3.)Credit_History of applicants is maximum from 0.7-1.0\n",
        "\n",
        "4.)Term To pay the loan amount is maximum from approx(310-390)"
      ]
    },
    {
      "cell_type": "markdown",
      "metadata": {
        "id": "h0k-t50ZkMpq",
        "colab_type": "text"
      },
      "source": [
        "categorial univariate analysis"
      ]
    },
    {
      "cell_type": "code",
      "metadata": {
        "id": "AGrOyZ57iSDr",
        "colab_type": "code",
        "outputId": "0e111c37-cbb2-47a6-c820-192c96875e22",
        "colab": {
          "base_uri": "https://localhost:8080/",
          "height": 342
        }
      },
      "source": [
        "df_model['Education'].value_counts().plot.bar()"
      ],
      "execution_count": 0,
      "outputs": [
        {
          "output_type": "execute_result",
          "data": {
            "text/plain": [
              "<matplotlib.axes._subplots.AxesSubplot at 0x7fc1784d8fd0>"
            ]
          },
          "metadata": {
            "tags": []
          },
          "execution_count": 23
        },
        {
          "output_type": "display_data",
          "data": {
            "image/png": "[encoded data removed]",
            "text/plain": [
              "<Figure size 432x288 with 1 Axes>"
            ]
          },
          "metadata": {
            "tags": [],
            "needs_background": "light"
          }
        }
      ]
    },
    {
      "cell_type": "markdown",
      "metadata": {
        "id": "tI7pU18Rf7ks",
        "colab_type": "text"
      },
      "source": [
        "observation\n",
        "1.) Graduates have Higher education Than Not Graduate"
      ]
    },
    {
      "cell_type": "code",
      "metadata": {
        "id": "F5KFoysdkyeG",
        "colab_type": "code",
        "outputId": "7e13f868-2d00-4c82-eace-a9d0a023ed20",
        "colab": {
          "base_uri": "https://localhost:8080/",
          "height": 326
        }
      },
      "source": [
        "df_model['Property_Area'].value_counts().plot.bar()"
      ],
      "execution_count": 0,
      "outputs": [
        {
          "output_type": "execute_result",
          "data": {
            "text/plain": [
              "<matplotlib.axes._subplots.AxesSubplot at 0x7fc177f992b0>"
            ]
          },
          "metadata": {
            "tags": []
          },
          "execution_count": 24
        },
        {
          "output_type": "display_data",
          "data": {
            "image/png": "[encoded data removed]",
            "text/plain": [
              "<Figure size 432x288 with 1 Axes>"
            ]
          },
          "metadata": {
            "tags": [],
            "needs_background": "light"
          }
        }
      ]
    },
    {
      "cell_type": "markdown",
      "metadata": {
        "id": "XWq8xLNIgNYk",
        "colab_type": "text"
      },
      "source": [
        "obsrvation\n",
        "\n",
        "1.)Property_Area is maximum for Semiurban then it decreases for urban rural"
      ]
    },
    {
      "cell_type": "code",
      "metadata": {
        "id": "J22DRuO4lE5I",
        "colab_type": "code",
        "outputId": "f1c93798-e2f2-4c40-8413-8d0292b8f79c",
        "colab": {
          "base_uri": "https://localhost:8080/",
          "height": 280
        }
      },
      "source": [
        "df_model['Loan_Status'].value_counts().plot.bar()"
      ],
      "execution_count": 0,
      "outputs": [
        {
          "output_type": "execute_result",
          "data": {
            "text/plain": [
              "<matplotlib.axes._subplots.AxesSubplot at 0x7fc1736c4160>"
            ]
          },
          "metadata": {
            "tags": []
          },
          "execution_count": 92
        },
        {
          "output_type": "display_data",
          "data": {
            "image/png": "[encoded data removed]",
            "text/plain": [
              "<Figure size 432x288 with 1 Axes>"
            ]
          },
          "metadata": {
            "tags": [],
            "needs_background": "light"
          }
        }
      ]
    },
    {
      "cell_type": "markdown",
      "metadata": {
        "id": "LOu_F_AVgwsi",
        "colab_type": "text"
      },
      "source": [
        "1.) Chances of Getting a loan by Applicants is higher thats why it is yes than no"
      ]
    },
    {
      "cell_type": "code",
      "metadata": {
        "id": "pPgdb-gdlUvH",
        "colab_type": "code",
        "outputId": "a649a343-0944-4e89-f21c-39d36181604b",
        "colab": {
          "base_uri": "https://localhost:8080/",
          "height": 287
        }
      },
      "source": [
        "df_model['Dependents'].value_counts().plot.bar()"
      ],
      "execution_count": 0,
      "outputs": [
        {
          "output_type": "execute_result",
          "data": {
            "text/plain": [
              "<matplotlib.axes._subplots.AxesSubplot at 0x7fc177ef2780>"
            ]
          },
          "metadata": {
            "tags": []
          },
          "execution_count": 26
        },
        {
          "output_type": "display_data",
          "data": {
            "image/png": "[encoded data removed]",
            "text/plain": [
              "<Figure size 432x288 with 1 Axes>"
            ]
          },
          "metadata": {
            "tags": [],
            "needs_background": "light"
          }
        }
      ]
    },
    {
      "cell_type": "markdown",
      "metadata": {
        "id": "sYUBzlIvg9hB",
        "colab_type": "text"
      },
      "source": [
        "observation\n",
        "Dependents 0 have highest bar"
      ]
    },
    {
      "cell_type": "code",
      "metadata": {
        "id": "Q4zxy_Azld13",
        "colab_type": "code",
        "outputId": "750cb983-119e-4e76-dda4-981ed2421235",
        "colab": {
          "base_uri": "https://localhost:8080/",
          "height": 288
        }
      },
      "source": [
        "df_model['Married'].value_counts().plot.bar()"
      ],
      "execution_count": 0,
      "outputs": [
        {
          "output_type": "execute_result",
          "data": {
            "text/plain": [
              "<matplotlib.axes._subplots.AxesSubplot at 0x7fc177e5dda0>"
            ]
          },
          "metadata": {
            "tags": []
          },
          "execution_count": 27
        },
        {
          "output_type": "display_data",
          "data": {
            "image/png": "[encoded data removed]",
            "text/plain": [
              "<Figure size 432x288 with 1 Axes>"
            ]
          },
          "metadata": {
            "tags": [],
            "needs_background": "light"
          }
        }
      ]
    },
    {
      "cell_type": "markdown",
      "metadata": {
        "id": "7XTp6xT9hTNs",
        "colab_type": "text"
      },
      "source": [
        "observation \n",
        "chances of getting a loan are higher for married"
      ]
    },
    {
      "cell_type": "code",
      "metadata": {
        "id": "IjSr_m9lluxs",
        "colab_type": "code",
        "outputId": "a83566b1-1cd9-4ada-e6c6-94f5dd3b0f9f",
        "colab": {
          "base_uri": "https://localhost:8080/",
          "height": 288
        }
      },
      "source": [
        "df_model['Self_Employed'].value_counts().plot.bar()"
      ],
      "execution_count": 0,
      "outputs": [
        {
          "output_type": "execute_result",
          "data": {
            "text/plain": [
              "<matplotlib.axes._subplots.AxesSubplot at 0x7fc177e0be10>"
            ]
          },
          "metadata": {
            "tags": []
          },
          "execution_count": 28
        },
        {
          "output_type": "display_data",
          "data": {
            "image/png": "[encoded data removed]",
            "text/plain": [
              "<Figure size 432x288 with 1 Axes>"
            ]
          },
          "metadata": {
            "tags": [],
            "needs_background": "light"
          }
        }
      ]
    },
    {
      "cell_type": "markdown",
      "metadata": {
        "id": "PiycjMfLhoMI",
        "colab_type": "text"
      },
      "source": [
        "Self_Employed have less chances of getting loan."
      ]
    },
    {
      "cell_type": "code",
      "metadata": {
        "id": "hjB_VekFl7xm",
        "colab_type": "code",
        "outputId": "1306ec8e-a1ba-4403-b9b9-2a56d4c4d6b4",
        "colab": {
          "base_uri": "https://localhost:8080/",
          "height": 308
        }
      },
      "source": [
        "df_model['Gender'].value_counts().plot.bar()"
      ],
      "execution_count": 0,
      "outputs": [
        {
          "output_type": "execute_result",
          "data": {
            "text/plain": [
              "<matplotlib.axes._subplots.AxesSubplot at 0x7fc177db89b0>"
            ]
          },
          "metadata": {
            "tags": []
          },
          "execution_count": 30
        },
        {
          "output_type": "display_data",
          "data": {
            "image/png": "[encoded data removed]",
            "text/plain": [
              "<Figure size 432x288 with 1 Axes>"
            ]
          },
          "metadata": {
            "tags": [],
            "needs_background": "light"
          }
        }
      ]
    },
    {
      "cell_type": "code",
      "metadata": {
        "id": "fmBIL_6vh1cw",
        "colab_type": "code",
        "colab": {}
      },
      "source": [
        "Observation \n",
        "Gender male have more chances of getting a loan than female"
      ],
      "execution_count": 0,
      "outputs": []
    },
    {
      "cell_type": "markdown",
      "metadata": {
        "id": "p9C42Js7mHKo",
        "colab_type": "text"
      },
      "source": [
        "Perform Bi-variate Analysis among all Independent variables.Draw appropriate Plots , mention observations\n",
        "\n"
      ]
    },
    {
      "cell_type": "code",
      "metadata": {
        "id": "o74a9fP4mB5n",
        "colab_type": "code",
        "outputId": "61ccc2b4-4fae-447c-c0f3-19e42ae41962",
        "colab": {
          "base_uri": "https://localhost:8080/",
          "height": 297
        }
      },
      "source": [
        "fn=sns.FacetGrid(df_model,col='Married',height=4,aspect=1)\n",
        "fn=fn.map(plt.hist,\"ApplicantIncome\")"
      ],
      "execution_count": 0,
      "outputs": [
        {
          "output_type": "display_data",
          "data": {
            "image/png": "[encoded data removed]",
            "text/plain": [
              "<Figure size 576x288 with 2 Axes>"
            ]
          },
          "metadata": {
            "tags": [],
            "needs_background": "light"
          }
        }
      ]
    },
    {
      "cell_type": "markdown",
      "metadata": {
        "id": "JrupBufwsWvz",
        "colab_type": "text"
      },
      "source": [
        "Observations\n",
        "\n",
        "1)Applicant Income is more in case when they are married but less in case when they are not married"
      ]
    },
    {
      "cell_type": "code",
      "metadata": {
        "id": "5IYBqUQWy970",
        "colab_type": "code",
        "outputId": "197b78fc-e152-4769-8dbe-58421e47423a",
        "colab": {
          "base_uri": "https://localhost:8080/",
          "height": 297
        }
      },
      "source": [
        "fn=sns.FacetGrid(df_model,col='Gender',height=4,aspect=1)\n",
        "fn=fn.map(plt.hist,\"ApplicantIncome\")"
      ],
      "execution_count": 0,
      "outputs": [
        {
          "output_type": "display_data",
          "data": {
            "image/png": "[encoded data removed]",
            "text/plain": [
              "<Figure size 576x288 with 2 Axes>"
            ]
          },
          "metadata": {
            "tags": [],
            "needs_background": "light"
          }
        }
      ]
    },
    {
      "cell_type": "markdown",
      "metadata": {
        "id": "zntxRbxxtrgs",
        "colab_type": "text"
      },
      "source": [
        "Observation\n",
        "\n",
        "Applicant is more in case when the gender is male while it is less in case when the gender is female."
      ]
    },
    {
      "cell_type": "code",
      "metadata": {
        "id": "RhmR-cLFnnVJ",
        "colab_type": "code",
        "outputId": "071661e9-5c84-4df3-f2e7-c3a7091eff4a",
        "colab": {
          "base_uri": "https://localhost:8080/",
          "height": 248
        }
      },
      "source": [
        "fn=sns.FacetGrid(df_model,col='Dependents',height=4,aspect=1)\n",
        "fn=fn.map(plt.hist,\"ApplicantIncome\")"
      ],
      "execution_count": 0,
      "outputs": [
        {
          "output_type": "display_data",
          "data": {
            "image/png": "[encoded data removed]",
            "text/plain": [
              "<Figure size 1152x288 with 4 Axes>"
            ]
          },
          "metadata": {
            "tags": [],
            "needs_background": "light"
          }
        }
      ]
    },
    {
      "cell_type": "markdown",
      "metadata": {
        "id": "3R823AwauHFw",
        "colab_type": "text"
      },
      "source": [
        "Observation\n",
        "\n",
        "1.)ApplicantIncome is maximum or highest when the dependent is 0\n",
        "\n",
        "2.)ApplicantIncome is approximately same for dependent 2 and 3+\n",
        "\n",
        "3.)ApplicantIncome  is slightly more than when Depentdents are 2 and 3+\n",
        "\n",
        "4) One more Thing that i am observing in every plot for dependents V ApplicantIncome that  applicants income is decreases after 20000 as we move along x-axis i,e it is slightly greater than 0 along y-axis for Dependent 0 at points 40000 and 60000 and it is greater than 0 along y-axis for Dependent 1 in ApplicantIncome between 250000- 30000\n",
        "while it is zero for Dependent 3 but it is slightly greater than 0 for Dependent 0 along y-axis."
      ]
    },
    {
      "cell_type": "code",
      "metadata": {
        "id": "Z31qsgVHn3eS",
        "colab_type": "code",
        "outputId": "5684a588-7bb5-438b-9ab2-32fd1ab9b0b8",
        "colab": {
          "base_uri": "https://localhost:8080/",
          "height": 873
        }
      },
      "source": [
        "fn=sns.FacetGrid(df_model,col='Self_Employed',row='Property_Area',height=4,aspect=1)\n",
        "fn=fn.map(plt.hist,\"ApplicantIncome\")"
      ],
      "execution_count": 0,
      "outputs": [
        {
          "output_type": "display_data",
          "data": {
            "image/png": "[encoded data removed]",
            "text/plain": [
              "<Figure size 576x864 with 6 Axes>"
            ]
          },
          "metadata": {
            "tags": [],
            "needs_background": "light"
          }
        }
      ]
    },
    {
      "cell_type": "code",
      "metadata": {
        "id": "7BRBsHmHy03O",
        "colab_type": "code",
        "colab": {}
      },
      "source": [
        "#Observations\n",
        "\n",
        "#1.)ApplicantIncome  is More for Self_Employed=No Than for Self_Employed=Yes\n",
        "#2.)ApplicantIncome is Highest when Property_Area is Semiurban and Self_Employed=No height of bar is greater than 140 along y-axis \n",
        "#3.)ApplicantIncome is more when Property_Area=Semiurban And Self_Employed=Yes as compared to other  Self_Employed=Yes and Property_Area combinations "
      ],
      "execution_count": 0,
      "outputs": []
    },
    {
      "cell_type": "markdown",
      "metadata": {
        "id": "1MLm7b2NwvTY",
        "colab_type": "text"
      },
      "source": [
        "Perform Bi-variate Analysis between Target Variable and each Independent variable. Use suitable plot , mention observations,trends etc"
      ]
    },
    {
      "cell_type": "code",
      "metadata": {
        "id": "yuKMYy5K3c2D",
        "colab_type": "code",
        "outputId": "049c6a31-a1e3-4df0-e1a2-4ad85078761b",
        "colab": {
          "base_uri": "https://localhost:8080/",
          "height": 189
        }
      },
      "source": [
        "import pandas as pd\n",
        "import matplotlib.pyplot as plt\n",
        "import seaborn as sns\n",
        "fn =sns.FacetGrid(df_model,col='Gender',palette=\"GnBu_d\",gridspec_kws={\"width_ratios\": [4, 4]}, height=2.5,aspect=2)\n",
        "fn = fn.map(plt.hist,\"Loan_Status\")"
      ],
      "execution_count": 0,
      "outputs": [
        {
          "output_type": "display_data",
          "data": {
            "image/png": "[encoded data removed]",
            "text/plain": [
              "<Figure size 720x180 with 2 Axes>"
            ]
          },
          "metadata": {
            "tags": [],
            "needs_background": "light"
          }
        }
      ]
    },
    {
      "cell_type": "markdown",
      "metadata": {
        "id": "EW-EFHj2iQT6",
        "colab_type": "text"
      },
      "source": [
        "observation\n",
        "\n",
        "1.)There are higher chances of getting loan for male than female\n",
        "\n",
        "2.)But No for female are less than for male"
      ]
    },
    {
      "cell_type": "code",
      "metadata": {
        "id": "AXQEDoeW6GiN",
        "colab_type": "code",
        "outputId": "4c4540d5-611b-46cb-929e-d9e87b3e011d",
        "colab": {
          "base_uri": "https://localhost:8080/",
          "height": 189
        }
      },
      "source": [
        "fn =sns.FacetGrid(df_model,col='Married',palette=\"GnBu_d\",gridspec_kws={\"width_ratios\": [4, 4]}, height=2.5,aspect=2)\n",
        "fn = fn.map(plt.hist,\"Loan_Status\")"
      ],
      "execution_count": 0,
      "outputs": [
        {
          "output_type": "display_data",
          "data": {
            "image/png": "[encoded data removed]",
            "text/plain": [
              "<Figure size 720x180 with 2 Axes>"
            ]
          },
          "metadata": {
            "tags": [],
            "needs_background": "light"
          }
        }
      ]
    },
    {
      "cell_type": "markdown",
      "metadata": {
        "id": "PdNArOh8jR88",
        "colab_type": "text"
      },
      "source": [
        "observation\n",
        "\n",
        "1.)Married have higher chances of getting loan ."
      ]
    },
    {
      "cell_type": "code",
      "metadata": {
        "id": "ySdg2OPq6btE",
        "colab_type": "code",
        "outputId": "4c9d52e6-8a44-4232-b89f-091e3855d784",
        "colab": {
          "base_uri": "https://localhost:8080/",
          "height": 585
        }
      },
      "source": [
        "fn = sns.FacetGrid(df_model,col='Dependents',col_wrap=3,height=4, aspect=1)\n",
        "fn = fn.map(plt.hist,\"Loan_Status\")\n"
      ],
      "execution_count": 0,
      "outputs": [
        {
          "output_type": "display_data",
          "data": {
            "image/png": "[encoded data removed]",
            "text/plain": [
              "<Figure size 864x576 with 4 Axes>"
            ]
          },
          "metadata": {
            "tags": [],
            "needs_background": "light"
          }
        }
      ]
    },
    {
      "cell_type": "markdown",
      "metadata": {
        "id": "A8zQ6YFRjp73",
        "colab_type": "text"
      },
      "source": [
        "observationn\n",
        "\n",
        "1. Dependents 0 have higher chances of getting a loan while Dependent 3+ have lowest."
      ]
    },
    {
      "cell_type": "code",
      "metadata": {
        "id": "panr23nMjfKa",
        "colab_type": "code",
        "colab": {}
      },
      "source": [
        ""
      ],
      "execution_count": 0,
      "outputs": []
    },
    {
      "cell_type": "code",
      "metadata": {
        "id": "ETYVpWnxCP-_",
        "colab_type": "code",
        "outputId": "8c3ea40f-46ef-4dd6-e456-7c7890bef6ca",
        "colab": {
          "base_uri": "https://localhost:8080/",
          "height": 297
        }
      },
      "source": [
        "fn = sns.FacetGrid(df_model,col='Education',col_wrap=3,height=4, aspect=1)\n",
        "fn = fn.map(plt.hist,\"Loan_Status\")\n"
      ],
      "execution_count": 0,
      "outputs": [
        {
          "output_type": "display_data",
          "data": {
            "image/png": "[encoded data removed]",
            "text/plain": [
              "<Figure size 864x288 with 2 Axes>"
            ]
          },
          "metadata": {
            "tags": [],
            "needs_background": "light"
          }
        }
      ]
    },
    {
      "cell_type": "markdown",
      "metadata": {
        "id": "zQeyECuVkPQC",
        "colab_type": "text"
      },
      "source": [
        "obseravtion\n",
        "Graduate have higher chances of getting loan than Not Graduate. "
      ]
    },
    {
      "cell_type": "code",
      "metadata": {
        "id": "7r3OuDis8B3q",
        "colab_type": "code",
        "outputId": "70de5d72-5ba5-4218-d63f-3fc20925332a",
        "colab": {
          "base_uri": "https://localhost:8080/",
          "height": 297
        }
      },
      "source": [
        "fn = sns.FacetGrid(df_model,col='Self_Employed',col_wrap=3,height=4, aspect=1)\n",
        "fn = fn.map(plt.hist,\"Loan_Status\")\n"
      ],
      "execution_count": 0,
      "outputs": [
        {
          "output_type": "display_data",
          "data": {
            "image/png": "[encoded data removed]",
            "text/plain": [
              "<Figure size 864x288 with 2 Axes>"
            ]
          },
          "metadata": {
            "tags": [],
            "needs_background": "light"
          }
        }
      ]
    },
    {
      "cell_type": "code",
      "metadata": {
        "id": "gCtQ-Edj8Y8z",
        "colab_type": "code",
        "outputId": "95a4a5c6-aa1b-4f0d-feeb-ab6b9b15b67c",
        "colab": {
          "base_uri": "https://localhost:8080/",
          "height": 282
        }
      },
      "source": [
        "df_model.plot.hist(x='Loan_Status', y='ApplicantIncome')"
      ],
      "execution_count": 0,
      "outputs": [
        {
          "output_type": "execute_result",
          "data": {
            "text/plain": [
              "<matplotlib.axes._subplots.AxesSubplot at 0x7fc174df97b8>"
            ]
          },
          "metadata": {
            "tags": []
          },
          "execution_count": 39
        },
        {
          "output_type": "display_data",
          "data": {
            "image/png": "[encoded data removed]",
            "text/plain": [
              "<Figure size 432x288 with 1 Axes>"
            ]
          },
          "metadata": {
            "tags": [],
            "needs_background": "light"
          }
        }
      ]
    },
    {
      "cell_type": "code",
      "metadata": {
        "id": "m-5cOxv_8Pgl",
        "colab_type": "code",
        "outputId": "748400fc-c286-42e4-f9d9-431ebc4d1072",
        "colab": {
          "base_uri": "https://localhost:8080/",
          "height": 282
        }
      },
      "source": [
        "df_model.plot.hist(x='Loan_Status', y='CoapplicantIncome')"
      ],
      "execution_count": 0,
      "outputs": [
        {
          "output_type": "execute_result",
          "data": {
            "text/plain": [
              "<matplotlib.axes._subplots.AxesSubplot at 0x7fc174d41710>"
            ]
          },
          "metadata": {
            "tags": []
          },
          "execution_count": 40
        },
        {
          "output_type": "display_data",
          "data": {
            "image/png": "[encoded data removed]",
            "text/plain": [
              "<Figure size 432x288 with 1 Axes>"
            ]
          },
          "metadata": {
            "tags": [],
            "needs_background": "light"
          }
        }
      ]
    },
    {
      "cell_type": "code",
      "metadata": {
        "id": "KXKYDxAi_og7",
        "colab_type": "code",
        "outputId": "b2231875-2e71-4e76-9cae-b7a9888c6c0f",
        "colab": {
          "base_uri": "https://localhost:8080/",
          "height": 282
        }
      },
      "source": [
        "df_model.plot.hist(x='Loan_Status', y='LoanAmount')"
      ],
      "execution_count": 0,
      "outputs": [
        {
          "output_type": "execute_result",
          "data": {
            "text/plain": [
              "<matplotlib.axes._subplots.AxesSubplot at 0x7fc174d32128>"
            ]
          },
          "metadata": {
            "tags": []
          },
          "execution_count": 41
        },
        {
          "output_type": "display_data",
          "data": {
            "image/png": "[encoded data removed]",
            "text/plain": [
              "<Figure size 432x288 with 1 Axes>"
            ]
          },
          "metadata": {
            "tags": [],
            "needs_background": "light"
          }
        }
      ]
    },
    {
      "cell_type": "markdown",
      "metadata": {
        "id": "TsPWCIVZkwxs",
        "colab_type": "text"
      },
      "source": [
        "LoanAmount is highest for Loan_status 100-150 "
      ]
    },
    {
      "cell_type": "code",
      "metadata": {
        "id": "GogW_08_kmEJ",
        "colab_type": "code",
        "colab": {}
      },
      "source": [
        ""
      ],
      "execution_count": 0,
      "outputs": []
    },
    {
      "cell_type": "code",
      "metadata": {
        "id": "f0ddpOOPAONY",
        "colab_type": "code",
        "outputId": "f83dfd68-f55f-4fef-8c50-4f7f7c170163",
        "colab": {
          "base_uri": "https://localhost:8080/",
          "height": 282
        }
      },
      "source": [
        "df_model.plot.hist(x='Loan_Status', y='Loan_Amount_Term')"
      ],
      "execution_count": 0,
      "outputs": [
        {
          "output_type": "execute_result",
          "data": {
            "text/plain": [
              "<matplotlib.axes._subplots.AxesSubplot at 0x7fc174c84b38>"
            ]
          },
          "metadata": {
            "tags": []
          },
          "execution_count": 42
        },
        {
          "output_type": "display_data",
          "data": {
            "image/png": "[encoded data removed]",
            "text/plain": [
              "<Figure size 432x288 with 1 Axes>"
            ]
          },
          "metadata": {
            "tags": [],
            "needs_background": "light"
          }
        }
      ]
    },
    {
      "cell_type": "code",
      "metadata": {
        "id": "TFwdHQ-zA6QU",
        "colab_type": "code",
        "outputId": "acd06eee-3235-4ee2-be47-83ba255a5728",
        "colab": {
          "base_uri": "https://localhost:8080/",
          "height": 297
        }
      },
      "source": [
        "fn = sns.FacetGrid(df_model,col='Credit_History',col_wrap=3,height=4, aspect=1)\n",
        "fn = fn.map(plt.hist,\"Loan_Status\")\n"
      ],
      "execution_count": 0,
      "outputs": [
        {
          "output_type": "display_data",
          "data": {
            "image/png": "[encoded data removed]",
            "text/plain": [
              "<Figure size 864x288 with 2 Axes>"
            ]
          },
          "metadata": {
            "tags": [],
            "needs_background": "light"
          }
        }
      ]
    },
    {
      "cell_type": "markdown",
      "metadata": {
        "id": "TFBPGn0alFJi",
        "colab_type": "text"
      },
      "source": [
        "observation\n",
        "credit_History=1 have highest chances of getting loan"
      ]
    },
    {
      "cell_type": "code",
      "metadata": {
        "id": "3QB9bq1cBVF5",
        "colab_type": "code",
        "outputId": "c1c460cc-9710-4763-fd6b-fac3b95f7c5c",
        "colab": {
          "base_uri": "https://localhost:8080/",
          "height": 297
        }
      },
      "source": [
        "fn = sns.FacetGrid(df_model,col='Property_Area',col_wrap=3,height=4, aspect=1)\n",
        "fn = fn.map(plt.hist,\"Loan_Status\")\n"
      ],
      "execution_count": 0,
      "outputs": [
        {
          "output_type": "display_data",
          "data": {
            "image/png": "[encoded data removed]",
            "text/plain": [
              "<Figure size 864x288 with 3 Axes>"
            ]
          },
          "metadata": {
            "tags": [],
            "needs_background": "light"
          }
        }
      ]
    },
    {
      "cell_type": "markdown",
      "metadata": {
        "id": "Rmu5QRz_lTQ8",
        "colab_type": "text"
      },
      "source": [
        "observation\n",
        "Proprty_Area= Semiurban have Highest area and also have highest Loan_status.\n",
        "While it is approx same for Propert_Area =Urban  and Rural."
      ]
    },
    {
      "cell_type": "markdown",
      "metadata": {
        "id": "2KXMhT9uybFr",
        "colab_type": "text"
      },
      "source": [
        "How is the class distribution (Y/N) in Label(Target) Variable ?"
      ]
    },
    {
      "cell_type": "code",
      "metadata": {
        "id": "ovKwwXJRBq_-",
        "colab_type": "code",
        "outputId": "d4a56ac2-e43e-4aeb-eb12-46bba1216665",
        "colab": {
          "base_uri": "https://localhost:8080/",
          "height": 85
        }
      },
      "source": [
        "# it is a binary class distribution\n",
        "df_model.groupby(['Loan_Status']).size()"
      ],
      "execution_count": 0,
      "outputs": [
        {
          "output_type": "execute_result",
          "data": {
            "text/plain": [
              "Loan_Status\n",
              "N    192\n",
              "Y    422\n",
              "dtype: int64"
            ]
          },
          "metadata": {
            "tags": []
          },
          "execution_count": 93
        }
      ]
    },
    {
      "cell_type": "markdown",
      "metadata": {
        "id": "G4gPA4_Uyci_",
        "colab_type": "text"
      },
      "source": [
        "Identify the Independent Variables that have missing values."
      ]
    },
    {
      "cell_type": "code",
      "metadata": {
        "id": "GKNPvC1fCygi",
        "colab_type": "code",
        "outputId": "e1d184b2-92b3-41d1-eaa4-004d89b3e16e",
        "colab": {
          "base_uri": "https://localhost:8080/",
          "height": 373
        }
      },
      "source": [
        "#missing data heatmap\n",
        "colun=df_model.columns[:12]#take 12 columns\n",
        "colours=['#800000','#ffff00']\n",
        "#specify the colours-yellow is missing value ,maroon is not missing\n",
        "sns.heatmap(df_model[colun].isnull(),cmap=sns.color_palette(colours))"
      ],
      "execution_count": 0,
      "outputs": [
        {
          "output_type": "execute_result",
          "data": {
            "text/plain": [
              "<matplotlib.axes._subplots.AxesSubplot at 0x7fc173388b00>"
            ]
          },
          "metadata": {
            "tags": []
          },
          "execution_count": 95
        },
        {
          "output_type": "display_data",
          "data": {
            "image/png": "[encoded data removed]",
            "text/plain": [
              "<Figure size 432x288 with 2 Axes>"
            ]
          },
          "metadata": {
            "tags": [],
            "needs_background": "light"
          }
        }
      ]
    },
    {
      "cell_type": "markdown",
      "metadata": {
        "id": "ivcWCma0yiAP",
        "colab_type": "text"
      },
      "source": [
        "Handle missing values appropriately , explain the technique applied for each case"
      ]
    },
    {
      "cell_type": "code",
      "metadata": {
        "id": "yiDrstttS9fH",
        "colab_type": "code",
        "outputId": "495ef361-1633-4644-ebeb-ea94db8e1f60",
        "colab": {
          "base_uri": "https://localhost:8080/",
          "height": 439
        }
      },
      "source": [
        "df_model.isna()  #This function is used to detect missing valus. If the values are NA ,NA values get mapped to True Values.Everything get mapped to False values"
      ],
      "execution_count": 0,
      "outputs": [
        {
          "output_type": "execute_result",
          "data": {
            "text/html": [
              "<div>\n",
              "<style scoped>\n",
              "    .dataframe tbody tr th:only-of-type {\n",
              "        vertical-align: middle;\n",
              "    }\n",
              "\n",
              "    .dataframe tbody tr th {\n",
              "        vertical-align: top;\n",
              "    }\n",
              "\n",
              "    .dataframe thead th {\n",
              "        text-align: right;\n",
              "    }\n",
              "</style>\n",
              "<table border=\"1\" class=\"dataframe\">\n",
              "  <thead>\n",
              "    <tr style=\"text-align: right;\">\n",
              "      <th></th>\n",
              "      <th>Gender</th>\n",
              "      <th>Married</th>\n",
              "      <th>Dependents</th>\n",
              "      <th>Education</th>\n",
              "      <th>Self_Employed</th>\n",
              "      <th>ApplicantIncome</th>\n",
              "      <th>CoapplicantIncome</th>\n",
              "      <th>LoanAmount</th>\n",
              "      <th>Loan_Amount_Term</th>\n",
              "      <th>Credit_History</th>\n",
              "      <th>Property_Area</th>\n",
              "      <th>Loan_Status</th>\n",
              "    </tr>\n",
              "  </thead>\n",
              "  <tbody>\n",
              "    <tr>\n",
              "      <th>0</th>\n",
              "      <td>False</td>\n",
              "      <td>False</td>\n",
              "      <td>False</td>\n",
              "      <td>False</td>\n",
              "      <td>False</td>\n",
              "      <td>False</td>\n",
              "      <td>False</td>\n",
              "      <td>True</td>\n",
              "      <td>False</td>\n",
              "      <td>False</td>\n",
              "      <td>False</td>\n",
              "      <td>False</td>\n",
              "    </tr>\n",
              "    <tr>\n",
              "      <th>1</th>\n",
              "      <td>False</td>\n",
              "      <td>False</td>\n",
              "      <td>False</td>\n",
              "      <td>False</td>\n",
              "      <td>False</td>\n",
              "      <td>False</td>\n",
              "      <td>False</td>\n",
              "      <td>False</td>\n",
              "      <td>False</td>\n",
              "      <td>False</td>\n",
              "      <td>False</td>\n",
              "      <td>False</td>\n",
              "    </tr>\n",
              "    <tr>\n",
              "      <th>2</th>\n",
              "      <td>False</td>\n",
              "      <td>False</td>\n",
              "      <td>False</td>\n",
              "      <td>False</td>\n",
              "      <td>False</td>\n",
              "      <td>False</td>\n",
              "      <td>False</td>\n",
              "      <td>False</td>\n",
              "      <td>False</td>\n",
              "      <td>False</td>\n",
              "      <td>False</td>\n",
              "      <td>False</td>\n",
              "    </tr>\n",
              "    <tr>\n",
              "      <th>3</th>\n",
              "      <td>False</td>\n",
              "      <td>False</td>\n",
              "      <td>False</td>\n",
              "      <td>False</td>\n",
              "      <td>False</td>\n",
              "      <td>False</td>\n",
              "      <td>False</td>\n",
              "      <td>False</td>\n",
              "      <td>False</td>\n",
              "      <td>False</td>\n",
              "      <td>False</td>\n",
              "      <td>False</td>\n",
              "    </tr>\n",
              "    <tr>\n",
              "      <th>4</th>\n",
              "      <td>False</td>\n",
              "      <td>False</td>\n",
              "      <td>False</td>\n",
              "      <td>False</td>\n",
              "      <td>False</td>\n",
              "      <td>False</td>\n",
              "      <td>False</td>\n",
              "      <td>False</td>\n",
              "      <td>False</td>\n",
              "      <td>False</td>\n",
              "      <td>False</td>\n",
              "      <td>False</td>\n",
              "    </tr>\n",
              "    <tr>\n",
              "      <th>...</th>\n",
              "      <td>...</td>\n",
              "      <td>...</td>\n",
              "      <td>...</td>\n",
              "      <td>...</td>\n",
              "      <td>...</td>\n",
              "      <td>...</td>\n",
              "      <td>...</td>\n",
              "      <td>...</td>\n",
              "      <td>...</td>\n",
              "      <td>...</td>\n",
              "      <td>...</td>\n",
              "      <td>...</td>\n",
              "    </tr>\n",
              "    <tr>\n",
              "      <th>609</th>\n",
              "      <td>False</td>\n",
              "      <td>False</td>\n",
              "      <td>False</td>\n",
              "      <td>False</td>\n",
              "      <td>False</td>\n",
              "      <td>False</td>\n",
              "      <td>False</td>\n",
              "      <td>False</td>\n",
              "      <td>False</td>\n",
              "      <td>False</td>\n",
              "      <td>False</td>\n",
              "      <td>False</td>\n",
              "    </tr>\n",
              "    <tr>\n",
              "      <th>610</th>\n",
              "      <td>False</td>\n",
              "      <td>False</td>\n",
              "      <td>False</td>\n",
              "      <td>False</td>\n",
              "      <td>False</td>\n",
              "      <td>False</td>\n",
              "      <td>False</td>\n",
              "      <td>False</td>\n",
              "      <td>False</td>\n",
              "      <td>False</td>\n",
              "      <td>False</td>\n",
              "      <td>False</td>\n",
              "    </tr>\n",
              "    <tr>\n",
              "      <th>611</th>\n",
              "      <td>False</td>\n",
              "      <td>False</td>\n",
              "      <td>False</td>\n",
              "      <td>False</td>\n",
              "      <td>False</td>\n",
              "      <td>False</td>\n",
              "      <td>False</td>\n",
              "      <td>False</td>\n",
              "      <td>False</td>\n",
              "      <td>False</td>\n",
              "      <td>False</td>\n",
              "      <td>False</td>\n",
              "    </tr>\n",
              "    <tr>\n",
              "      <th>612</th>\n",
              "      <td>False</td>\n",
              "      <td>False</td>\n",
              "      <td>False</td>\n",
              "      <td>False</td>\n",
              "      <td>False</td>\n",
              "      <td>False</td>\n",
              "      <td>False</td>\n",
              "      <td>False</td>\n",
              "      <td>False</td>\n",
              "      <td>False</td>\n",
              "      <td>False</td>\n",
              "      <td>False</td>\n",
              "    </tr>\n",
              "    <tr>\n",
              "      <th>613</th>\n",
              "      <td>False</td>\n",
              "      <td>False</td>\n",
              "      <td>False</td>\n",
              "      <td>False</td>\n",
              "      <td>False</td>\n",
              "      <td>False</td>\n",
              "      <td>False</td>\n",
              "      <td>False</td>\n",
              "      <td>False</td>\n",
              "      <td>False</td>\n",
              "      <td>False</td>\n",
              "      <td>False</td>\n",
              "    </tr>\n",
              "  </tbody>\n",
              "</table>\n",
              "<p>614 rows × 12 columns</p>\n",
              "</div>"
            ],
            "text/plain": [
              "     Gender  Married  Dependents  ...  Credit_History  Property_Area  Loan_Status\n",
              "0     False    False       False  ...           False          False        False\n",
              "1     False    False       False  ...           False          False        False\n",
              "2     False    False       False  ...           False          False        False\n",
              "3     False    False       False  ...           False          False        False\n",
              "4     False    False       False  ...           False          False        False\n",
              "..      ...      ...         ...  ...             ...            ...          ...\n",
              "609   False    False       False  ...           False          False        False\n",
              "610   False    False       False  ...           False          False        False\n",
              "611   False    False       False  ...           False          False        False\n",
              "612   False    False       False  ...           False          False        False\n",
              "613   False    False       False  ...           False          False        False\n",
              "\n",
              "[614 rows x 12 columns]"
            ]
          },
          "metadata": {
            "tags": []
          },
          "execution_count": 96
        }
      ]
    },
    {
      "cell_type": "code",
      "metadata": {
        "id": "Sp68UrjYTNXX",
        "colab_type": "code",
        "outputId": "ad802932-ec9d-427c-e962-707519a2ccf1",
        "colab": {
          "base_uri": "https://localhost:8080/",
          "height": 238
        }
      },
      "source": [
        "df_model.isna().any() # return a boolean value for each column .If There is atleast one missing value in that column,the result is True"
      ],
      "execution_count": 0,
      "outputs": [
        {
          "output_type": "execute_result",
          "data": {
            "text/plain": [
              "Gender                True\n",
              "Married               True\n",
              "Dependents            True\n",
              "Education            False\n",
              "Self_Employed         True\n",
              "ApplicantIncome      False\n",
              "CoapplicantIncome    False\n",
              "LoanAmount            True\n",
              "Loan_Amount_Term      True\n",
              "Credit_History        True\n",
              "Property_Area        False\n",
              "Loan_Status          False\n",
              "dtype: bool"
            ]
          },
          "metadata": {
            "tags": []
          },
          "execution_count": 50
        }
      ]
    },
    {
      "cell_type": "code",
      "metadata": {
        "id": "7j6oBBjOTYN-",
        "colab_type": "code",
        "outputId": "6aadd509-9bbe-4ecc-c204-c5d697c1ae38",
        "colab": {
          "base_uri": "https://localhost:8080/",
          "height": 238
        }
      },
      "source": [
        "df_model.isna().sum() #returns the number of missing values in each column"
      ],
      "execution_count": 0,
      "outputs": [
        {
          "output_type": "execute_result",
          "data": {
            "text/plain": [
              "Gender               13\n",
              "Married               3\n",
              "Dependents           15\n",
              "Education             0\n",
              "Self_Employed        32\n",
              "ApplicantIncome       0\n",
              "CoapplicantIncome     0\n",
              "LoanAmount           22\n",
              "Loan_Amount_Term     14\n",
              "Credit_History       50\n",
              "Property_Area         0\n",
              "Loan_Status           0\n",
              "dtype: int64"
            ]
          },
          "metadata": {
            "tags": []
          },
          "execution_count": 51
        }
      ]
    },
    {
      "cell_type": "code",
      "metadata": {
        "id": "ZY3tasojKLeC",
        "colab_type": "code",
        "outputId": "eb2f3006-e4b3-4dcf-ee19-269f08d47b7c",
        "colab": {
          "base_uri": "https://localhost:8080/",
          "height": 51
        }
      },
      "source": [
        "#There are many of methods of handling missing values\n",
        "#some of the are\n",
        "#Drop the observation \n",
        "#Drop rows with a lot of missing values\n",
        "m_missing=df_model[df_model['Credit_History']>40].index\n",
        "df_less_missing_rows=df_model.drop(m_missing,axis=0)\n",
        "print(df_model.shape)\n",
        "print(df_less_missing_rows.shape)"
      ],
      "execution_count": 0,
      "outputs": [
        {
          "output_type": "stream",
          "text": [
            "(614, 12)\n",
            "(614, 12)\n"
          ],
          "name": "stdout"
        }
      ]
    },
    {
      "cell_type": "code",
      "metadata": {
        "id": "2vcM2tQXQF6X",
        "colab_type": "code",
        "outputId": "691faf1e-6ca2-4431-e5b5-57db440824cf",
        "colab": {
          "base_uri": "https://localhost:8080/",
          "height": 51
        }
      },
      "source": [
        "#drop the feature \n",
        "#In This we are replacing the feature self_employed with tolal sum of missing values is 32\n",
        "col_to_drop=['Self_Employed']\n",
        "df_less_self_employese=df_model.drop(col_to_drop,axis=1)\n",
        "print(df_model.shape)\n",
        "print(df_less_self_employese.shape)"
      ],
      "execution_count": 0,
      "outputs": [
        {
          "output_type": "stream",
          "text": [
            "(614, 12)\n",
            "(614, 11)\n"
          ],
          "name": "stdout"
        }
      ]
    },
    {
      "cell_type": "code",
      "metadata": {
        "id": "olOwJk0-me3k",
        "colab_type": "code",
        "colab": {}
      },
      "source": [
        "df_model['LoanAmount']=df_model['LoanAmount'].fillna(df_model['LoanAmount'].mean())\n",
        "df_model['Loan_Amount_Term']=df_model['Loan_Amount_Term'].fillna(df_model['Loan_Amount_Term'].mean())\n",
        "df_model['Credit_History']=df_model['Credit_History'].fillna(df_model['Credit_History'].mean())\n",
        "df_model['Self_Employed']=df_model['Self_Employed'].fillna(method='ffill')\n",
        "df_model['Dependents']=df_model['Dependents'].fillna(method='ffill')\n",
        "df_model['Married']=df_model['Married'].fillna(method='ffill')\n",
        "df_model['Gender']=df_model['Gender'].fillna(method='ffill')"
      ],
      "execution_count": 0,
      "outputs": []
    },
    {
      "cell_type": "code",
      "metadata": {
        "id": "espm06o3T-12",
        "colab_type": "code",
        "outputId": "1bbc0933-6585-4a16-dcb4-d0b76539f1e8",
        "colab": {
          "base_uri": "https://localhost:8080/",
          "height": 456
        }
      },
      "source": [
        "#replacing missing values\n",
        "df_model.fillna(0)"
      ],
      "execution_count": 0,
      "outputs": [
        {
          "output_type": "execute_result",
          "data": {
            "text/html": [
              "<div>\n",
              "<style scoped>\n",
              "    .dataframe tbody tr th:only-of-type {\n",
              "        vertical-align: middle;\n",
              "    }\n",
              "\n",
              "    .dataframe tbody tr th {\n",
              "        vertical-align: top;\n",
              "    }\n",
              "\n",
              "    .dataframe thead th {\n",
              "        text-align: right;\n",
              "    }\n",
              "</style>\n",
              "<table border=\"1\" class=\"dataframe\">\n",
              "  <thead>\n",
              "    <tr style=\"text-align: right;\">\n",
              "      <th></th>\n",
              "      <th>Gender</th>\n",
              "      <th>Married</th>\n",
              "      <th>Dependents</th>\n",
              "      <th>Education</th>\n",
              "      <th>Self_Employed</th>\n",
              "      <th>ApplicantIncome</th>\n",
              "      <th>CoapplicantIncome</th>\n",
              "      <th>LoanAmount</th>\n",
              "      <th>Loan_Amount_Term</th>\n",
              "      <th>Credit_History</th>\n",
              "      <th>Property_Area</th>\n",
              "      <th>Loan_Status</th>\n",
              "    </tr>\n",
              "  </thead>\n",
              "  <tbody>\n",
              "    <tr>\n",
              "      <th>0</th>\n",
              "      <td>Male</td>\n",
              "      <td>No</td>\n",
              "      <td>0</td>\n",
              "      <td>Graduate</td>\n",
              "      <td>No</td>\n",
              "      <td>5849</td>\n",
              "      <td>0.0</td>\n",
              "      <td>0.0</td>\n",
              "      <td>360.0</td>\n",
              "      <td>1.0</td>\n",
              "      <td>Urban</td>\n",
              "      <td>Y</td>\n",
              "    </tr>\n",
              "    <tr>\n",
              "      <th>1</th>\n",
              "      <td>Male</td>\n",
              "      <td>Yes</td>\n",
              "      <td>1</td>\n",
              "      <td>Graduate</td>\n",
              "      <td>No</td>\n",
              "      <td>4583</td>\n",
              "      <td>1508.0</td>\n",
              "      <td>128.0</td>\n",
              "      <td>360.0</td>\n",
              "      <td>1.0</td>\n",
              "      <td>Rural</td>\n",
              "      <td>N</td>\n",
              "    </tr>\n",
              "    <tr>\n",
              "      <th>2</th>\n",
              "      <td>Male</td>\n",
              "      <td>Yes</td>\n",
              "      <td>0</td>\n",
              "      <td>Graduate</td>\n",
              "      <td>Yes</td>\n",
              "      <td>3000</td>\n",
              "      <td>0.0</td>\n",
              "      <td>66.0</td>\n",
              "      <td>360.0</td>\n",
              "      <td>1.0</td>\n",
              "      <td>Urban</td>\n",
              "      <td>Y</td>\n",
              "    </tr>\n",
              "    <tr>\n",
              "      <th>3</th>\n",
              "      <td>Male</td>\n",
              "      <td>Yes</td>\n",
              "      <td>0</td>\n",
              "      <td>Not Graduate</td>\n",
              "      <td>No</td>\n",
              "      <td>2583</td>\n",
              "      <td>2358.0</td>\n",
              "      <td>120.0</td>\n",
              "      <td>360.0</td>\n",
              "      <td>1.0</td>\n",
              "      <td>Urban</td>\n",
              "      <td>Y</td>\n",
              "    </tr>\n",
              "    <tr>\n",
              "      <th>4</th>\n",
              "      <td>Male</td>\n",
              "      <td>No</td>\n",
              "      <td>0</td>\n",
              "      <td>Graduate</td>\n",
              "      <td>No</td>\n",
              "      <td>6000</td>\n",
              "      <td>0.0</td>\n",
              "      <td>141.0</td>\n",
              "      <td>360.0</td>\n",
              "      <td>1.0</td>\n",
              "      <td>Urban</td>\n",
              "      <td>Y</td>\n",
              "    </tr>\n",
              "    <tr>\n",
              "      <th>...</th>\n",
              "      <td>...</td>\n",
              "      <td>...</td>\n",
              "      <td>...</td>\n",
              "      <td>...</td>\n",
              "      <td>...</td>\n",
              "      <td>...</td>\n",
              "      <td>...</td>\n",
              "      <td>...</td>\n",
              "      <td>...</td>\n",
              "      <td>...</td>\n",
              "      <td>...</td>\n",
              "      <td>...</td>\n",
              "    </tr>\n",
              "    <tr>\n",
              "      <th>609</th>\n",
              "      <td>Female</td>\n",
              "      <td>No</td>\n",
              "      <td>0</td>\n",
              "      <td>Graduate</td>\n",
              "      <td>No</td>\n",
              "      <td>2900</td>\n",
              "      <td>0.0</td>\n",
              "      <td>71.0</td>\n",
              "      <td>360.0</td>\n",
              "      <td>1.0</td>\n",
              "      <td>Rural</td>\n",
              "      <td>Y</td>\n",
              "    </tr>\n",
              "    <tr>\n",
              "      <th>610</th>\n",
              "      <td>Male</td>\n",
              "      <td>Yes</td>\n",
              "      <td>3+</td>\n",
              "      <td>Graduate</td>\n",
              "      <td>No</td>\n",
              "      <td>4106</td>\n",
              "      <td>0.0</td>\n",
              "      <td>40.0</td>\n",
              "      <td>180.0</td>\n",
              "      <td>1.0</td>\n",
              "      <td>Rural</td>\n",
              "      <td>Y</td>\n",
              "    </tr>\n",
              "    <tr>\n",
              "      <th>611</th>\n",
              "      <td>Male</td>\n",
              "      <td>Yes</td>\n",
              "      <td>1</td>\n",
              "      <td>Graduate</td>\n",
              "      <td>No</td>\n",
              "      <td>8072</td>\n",
              "      <td>240.0</td>\n",
              "      <td>253.0</td>\n",
              "      <td>360.0</td>\n",
              "      <td>1.0</td>\n",
              "      <td>Urban</td>\n",
              "      <td>Y</td>\n",
              "    </tr>\n",
              "    <tr>\n",
              "      <th>612</th>\n",
              "      <td>Male</td>\n",
              "      <td>Yes</td>\n",
              "      <td>2</td>\n",
              "      <td>Graduate</td>\n",
              "      <td>No</td>\n",
              "      <td>7583</td>\n",
              "      <td>0.0</td>\n",
              "      <td>187.0</td>\n",
              "      <td>360.0</td>\n",
              "      <td>1.0</td>\n",
              "      <td>Urban</td>\n",
              "      <td>Y</td>\n",
              "    </tr>\n",
              "    <tr>\n",
              "      <th>613</th>\n",
              "      <td>Female</td>\n",
              "      <td>No</td>\n",
              "      <td>0</td>\n",
              "      <td>Graduate</td>\n",
              "      <td>Yes</td>\n",
              "      <td>4583</td>\n",
              "      <td>0.0</td>\n",
              "      <td>133.0</td>\n",
              "      <td>360.0</td>\n",
              "      <td>0.0</td>\n",
              "      <td>Semiurban</td>\n",
              "      <td>N</td>\n",
              "    </tr>\n",
              "  </tbody>\n",
              "</table>\n",
              "<p>614 rows × 12 columns</p>\n",
              "</div>"
            ],
            "text/plain": [
              "     Gender Married Dependents  ... Credit_History Property_Area  Loan_Status\n",
              "0      Male      No          0  ...            1.0         Urban            Y\n",
              "1      Male     Yes          1  ...            1.0         Rural            N\n",
              "2      Male     Yes          0  ...            1.0         Urban            Y\n",
              "3      Male     Yes          0  ...            1.0         Urban            Y\n",
              "4      Male      No          0  ...            1.0         Urban            Y\n",
              "..      ...     ...        ...  ...            ...           ...          ...\n",
              "609  Female      No          0  ...            1.0         Rural            Y\n",
              "610    Male     Yes         3+  ...            1.0         Rural            Y\n",
              "611    Male     Yes          1  ...            1.0         Urban            Y\n",
              "612    Male     Yes          2  ...            1.0         Urban            Y\n",
              "613  Female      No          0  ...            0.0     Semiurban            N\n",
              "\n",
              "[614 rows x 12 columns]"
            ]
          },
          "metadata": {
            "tags": []
          },
          "execution_count": 54
        }
      ]
    },
    {
      "cell_type": "code",
      "metadata": {
        "id": "ANvpOWUuUyeR",
        "colab_type": "code",
        "outputId": "ff3b0262-63ca-4f96-b6bd-27a321227aae",
        "colab": {
          "base_uri": "https://localhost:8080/",
          "height": 221
        }
      },
      "source": [
        "#Replacing missing values with mean\n",
        "mean=df_model['LoanAmount'].mean()\n",
        "df_model['LoanAmount'].fillna(mean)"
      ],
      "execution_count": 0,
      "outputs": [
        {
          "output_type": "execute_result",
          "data": {
            "text/plain": [
              "0      146.412162\n",
              "1      128.000000\n",
              "2       66.000000\n",
              "3      120.000000\n",
              "4      141.000000\n",
              "          ...    \n",
              "609     71.000000\n",
              "610     40.000000\n",
              "611    253.000000\n",
              "612    187.000000\n",
              "613    133.000000\n",
              "Name: LoanAmount, Length: 614, dtype: float64"
            ]
          },
          "metadata": {
            "tags": []
          },
          "execution_count": 55
        }
      ]
    },
    {
      "cell_type": "markdown",
      "metadata": {
        "id": "8BANzzyBypWc",
        "colab_type": "text"
      },
      "source": [
        "Identify the Outliers in each Independent Variable.Distribute the data in each field using Quartile bins (0-25%,25%-50%,50%-75%,75%-100% iles)"
      ]
    },
    {
      "cell_type": "code",
      "metadata": {
        "id": "Y_MAlKdlIaSV",
        "colab_type": "code",
        "outputId": "c89245ba-6617-44a4-e9ca-b49ff4c636f7",
        "colab": {
          "base_uri": "https://localhost:8080/",
          "height": 297
        }
      },
      "source": [
        "df_model.describe()"
      ],
      "execution_count": 0,
      "outputs": [
        {
          "output_type": "execute_result",
          "data": {
            "text/html": [
              "<div>\n",
              "<style scoped>\n",
              "    .dataframe tbody tr th:only-of-type {\n",
              "        vertical-align: middle;\n",
              "    }\n",
              "\n",
              "    .dataframe tbody tr th {\n",
              "        vertical-align: top;\n",
              "    }\n",
              "\n",
              "    .dataframe thead th {\n",
              "        text-align: right;\n",
              "    }\n",
              "</style>\n",
              "<table border=\"1\" class=\"dataframe\">\n",
              "  <thead>\n",
              "    <tr style=\"text-align: right;\">\n",
              "      <th></th>\n",
              "      <th>ApplicantIncome</th>\n",
              "      <th>CoapplicantIncome</th>\n",
              "      <th>LoanAmount</th>\n",
              "      <th>Loan_Amount_Term</th>\n",
              "      <th>Credit_History</th>\n",
              "    </tr>\n",
              "  </thead>\n",
              "  <tbody>\n",
              "    <tr>\n",
              "      <th>count</th>\n",
              "      <td>614.000000</td>\n",
              "      <td>614.000000</td>\n",
              "      <td>592.000000</td>\n",
              "      <td>600.00000</td>\n",
              "      <td>564.000000</td>\n",
              "    </tr>\n",
              "    <tr>\n",
              "      <th>mean</th>\n",
              "      <td>5403.459283</td>\n",
              "      <td>1621.245798</td>\n",
              "      <td>146.412162</td>\n",
              "      <td>342.00000</td>\n",
              "      <td>0.842199</td>\n",
              "    </tr>\n",
              "    <tr>\n",
              "      <th>std</th>\n",
              "      <td>6109.041673</td>\n",
              "      <td>2926.248369</td>\n",
              "      <td>85.587325</td>\n",
              "      <td>65.12041</td>\n",
              "      <td>0.364878</td>\n",
              "    </tr>\n",
              "    <tr>\n",
              "      <th>min</th>\n",
              "      <td>150.000000</td>\n",
              "      <td>0.000000</td>\n",
              "      <td>9.000000</td>\n",
              "      <td>12.00000</td>\n",
              "      <td>0.000000</td>\n",
              "    </tr>\n",
              "    <tr>\n",
              "      <th>25%</th>\n",
              "      <td>2877.500000</td>\n",
              "      <td>0.000000</td>\n",
              "      <td>100.000000</td>\n",
              "      <td>360.00000</td>\n",
              "      <td>1.000000</td>\n",
              "    </tr>\n",
              "    <tr>\n",
              "      <th>50%</th>\n",
              "      <td>3812.500000</td>\n",
              "      <td>1188.500000</td>\n",
              "      <td>128.000000</td>\n",
              "      <td>360.00000</td>\n",
              "      <td>1.000000</td>\n",
              "    </tr>\n",
              "    <tr>\n",
              "      <th>75%</th>\n",
              "      <td>5795.000000</td>\n",
              "      <td>2297.250000</td>\n",
              "      <td>168.000000</td>\n",
              "      <td>360.00000</td>\n",
              "      <td>1.000000</td>\n",
              "    </tr>\n",
              "    <tr>\n",
              "      <th>max</th>\n",
              "      <td>81000.000000</td>\n",
              "      <td>41667.000000</td>\n",
              "      <td>700.000000</td>\n",
              "      <td>480.00000</td>\n",
              "      <td>1.000000</td>\n",
              "    </tr>\n",
              "  </tbody>\n",
              "</table>\n",
              "</div>"
            ],
            "text/plain": [
              "       ApplicantIncome  CoapplicantIncome  ...  Loan_Amount_Term  Credit_History\n",
              "count       614.000000         614.000000  ...         600.00000      564.000000\n",
              "mean       5403.459283        1621.245798  ...         342.00000        0.842199\n",
              "std        6109.041673        2926.248369  ...          65.12041        0.364878\n",
              "min         150.000000           0.000000  ...          12.00000        0.000000\n",
              "25%        2877.500000           0.000000  ...         360.00000        1.000000\n",
              "50%        3812.500000        1188.500000  ...         360.00000        1.000000\n",
              "75%        5795.000000        2297.250000  ...         360.00000        1.000000\n",
              "max       81000.000000       41667.000000  ...         480.00000        1.000000\n",
              "\n",
              "[8 rows x 5 columns]"
            ]
          },
          "metadata": {
            "tags": []
          },
          "execution_count": 56
        }
      ]
    },
    {
      "cell_type": "code",
      "metadata": {
        "id": "8vZ8onnLJvZ5",
        "colab_type": "code",
        "outputId": "fc750bd8-3eed-407b-d2d8-dd12cf80da30",
        "colab": {
          "base_uri": "https://localhost:8080/",
          "height": 68
        }
      },
      "source": [
        "#identify outliers with interquartile range\n",
        "import numpy as np\n",
        "import pandas as pd\n",
        "\n",
        "\n",
        "# seed the random number generator\n",
        "seed(1)\n",
        "# generate univariate observations\n",
        "df_model = 5 * randn(10000) + 50\n",
        "# calculate interquartile range\n",
        "q0, q25 = percentile(df_model, 0), percentile(df_model, 25)\n",
        "iqr = q25 - q0\n",
        "print('Percentiles: 00th=%.3f, 25th=%.3f, IQR=%.3f' % (q0, q25, iqr))\n",
        "# calculate the outlier cutoff\n",
        "cut_off = iqr * 1.5\n",
        "lower, upper = q0 - cut_off, q25 + cut_off\n",
        "# identify outliers\n",
        "outliers = [x for x in df_model if x < lower or x > upper]\n",
        "print('Identified outliers: %d' % len(outliers))\n",
        "# remove outliers\n",
        "outliers_removed = [x for x in df_model if x >= lower and x <= upper]\n",
        "print('Non-outlier observations: %d' % len(outliers_removed))\n"
      ],
      "execution_count": 0,
      "outputs": [
        {
          "output_type": "stream",
          "text": [
            "Percentiles: 00th=31.718, 25th=46.685, IQR=14.968\n",
            "Identified outliers: 2\n",
            "Non-outlier observations: 9998\n"
          ],
          "name": "stdout"
        }
      ]
    },
    {
      "cell_type": "markdown",
      "metadata": {
        "id": "9wLxoIGNNNRQ",
        "colab_type": "text"
      },
      "source": [
        "on Running the above code first prints the identified 0th and 25th percentiles and the calculated IQR .The number of outliers identified is printed followed by the number of non-outlier observation"
      ]
    },
    {
      "cell_type": "code",
      "metadata": {
        "id": "UwshrrvqKW4U",
        "colab_type": "code",
        "outputId": "c247d7b1-b0a7-4eef-a721-110e10ab54c0",
        "colab": {
          "base_uri": "https://localhost:8080/",
          "height": 68
        }
      },
      "source": [
        "#identify outliers with interquartile range\n",
        "\n",
        "# seed the random number generator\n",
        "seed(1)\n",
        "# generate univariate observations\n",
        "df_model = 5 * randn(10000) + 50\n",
        "# calculate interquartile range\n",
        "q25, q50 = percentile(df_model, 25), percentile(df_model, 50)\n",
        "iqr = q50 - q25\n",
        "print('Percentiles: 25th=%.3f, 50th=%.3f, IQR=%.3f' % (q25, q50, iqr))\n",
        "# calculate the outlier cutoff\n",
        "cut_off = iqr * 1.5\n",
        "lower, upper = q25 - cut_off, q50 + cut_off\n",
        "# identify outliers\n",
        "outliers = [x for x in df_model if x < lower or x > upper]\n",
        "print('Identified outliers: %d' % len(outliers))\n",
        "# remove outliers\n",
        "outliers_removed = [x for x in df_model if x >= lower and x <= upper]\n",
        "print('Non-outlier observations: %d' % len(outliers_removed))\n"
      ],
      "execution_count": 0,
      "outputs": [
        {
          "output_type": "stream",
          "text": [
            "Percentiles: 25th=46.685, 50th=50.042, IQR=3.357\n",
            "Identified outliers: 1999\n",
            "Non-outlier observations: 8001\n"
          ],
          "name": "stdout"
        }
      ]
    },
    {
      "cell_type": "code",
      "metadata": {
        "id": "tF1xWDsxRxUZ",
        "colab_type": "code",
        "outputId": "923c61ef-399a-471c-fb48-104045b804ba",
        "colab": {
          "base_uri": "https://localhost:8080/",
          "height": 68
        }
      },
      "source": [
        "#identify outliers with interquartile range\n",
        "\n",
        "# seed the random number generator\n",
        "seed(1)\n",
        "# generate univariate observations\n",
        "df_model = 5 * randn(10000) + 50\n",
        "# calculate interquartile range\n",
        "q50, q75 = percentile(df_model, 25), percentile(df_model, 50)\n",
        "iqr = q75 - q50\n",
        "print('Percentiles: 50th=%.3f, 75th=%.3f, IQR=%.3f' % (q50, q75, iqr))\n",
        "# calculate the outlier cutoff\n",
        "cut_off = iqr * 1.5\n",
        "lower, upper = q50 - cut_off, q75 + cut_off\n",
        "# identify outliers\n",
        "outliers = [x for x in df_model if x < lower or x > upper]\n",
        "print('Identified outliers: %d' % len(outliers))\n",
        "# remove outliers\n",
        "outliers_removed = [x for x in df_model if x >= lower and x <= upper]\n",
        "print('Non-outlier observations: %d' % len(outliers_removed))\n"
      ],
      "execution_count": 0,
      "outputs": [
        {
          "output_type": "stream",
          "text": [
            "Percentiles: 50th=46.685, 75th=50.042, IQR=3.357\n",
            "Identified outliers: 1999\n",
            "Non-outlier observations: 8001\n"
          ],
          "name": "stdout"
        }
      ]
    },
    {
      "cell_type": "code",
      "metadata": {
        "id": "BzxysxuHRgZw",
        "colab_type": "code",
        "outputId": "65453117-46bb-415d-c2de-0b68c6f579a4",
        "colab": {
          "base_uri": "https://localhost:8080/",
          "height": 68
        }
      },
      "source": [
        "#identify outliers with interquartile range\n",
        "\n",
        "# seed the random number generator\n",
        "seed(1)\n",
        "# generate univariate observations\n",
        "df_model = 5 * randn(10000) + 50\n",
        "# calculate interquartile range\n",
        "q75, q100 = percentile(df_model, 75), percentile(df_model, 100)\n",
        "iqr = q50 - q25\n",
        "print('Percentiles: 75th=%.3f, 100th=%.3f, IQR=%.3f' % (q75, q100, iqr))\n",
        "# calculate the outlier cutoff\n",
        "cut_off = iqr * 1.5\n",
        "lower, upper = q75 - cut_off, q100 + cut_off\n",
        "# identify outliers\n",
        "outliers = [x for x in df_model if x < lower or x > upper]\n",
        "print('Identified outliers: %d' % len(outliers))\n",
        "# remove outliers\n",
        "outliers_removed = [x for x in df_model if x >= lower and x <= upper]\n",
        "print('Non-outlier observations: %d' % len(outliers_removed))\n"
      ],
      "execution_count": 0,
      "outputs": [
        {
          "output_type": "stream",
          "text": [
            "Percentiles: 75th=53.359, 100th=70.134, IQR=0.000\n",
            "Identified outliers: 7500\n",
            "Non-outlier observations: 2500\n"
          ],
          "name": "stdout"
        }
      ]
    },
    {
      "cell_type": "code",
      "metadata": {
        "id": "0Zf4QEM8Zv0C",
        "colab_type": "code",
        "colab": {}
      },
      "source": [
        "import numpy as np\n",
        "import pandas as pd"
      ],
      "execution_count": 0,
      "outputs": []
    },
    {
      "cell_type": "code",
      "metadata": {
        "id": "pa3nzLjvTUoF",
        "colab_type": "code",
        "outputId": "0285ab8a-d1f0-4915-ed82-108b29e5bc95",
        "colab": {
          "base_uri": "https://localhost:8080/",
          "height": 119
        }
      },
      "source": [
        "#identifying at which place in data there are outliers in dataset\n",
        "#The lines of code below calculate and print the interquartile range for each of the variables in a dataset\n",
        "Q1=df_model.quantile(0)\n",
        "Q3=df_model.quantile(0.25)\n",
        "IQR=Q3-Q1\n",
        "print(IQR)"
      ],
      "execution_count": 101,
      "outputs": [
        {
          "output_type": "stream",
          "text": [
            "ApplicantIncome      2727.50\n",
            "CoapplicantIncome       0.00\n",
            "LoanAmount             91.25\n",
            "Loan_Amount_Term      348.00\n",
            "Credit_History          1.00\n",
            "dtype: float64\n"
          ],
          "name": "stdout"
        }
      ]
    },
    {
      "cell_type": "markdown",
      "metadata": {
        "id": "bToktAW3bZfm",
        "colab_type": "text"
      },
      "source": [
        "The code below generates an output with the 'True' and 'False' values. Points where the values are 'True' represent the presence of the outlier."
      ]
    },
    {
      "cell_type": "code",
      "metadata": {
        "id": "1OXwNq0NbkB7",
        "colab_type": "code",
        "outputId": "7239a298-0748-402a-e669-6f4a91006297",
        "colab": {
          "base_uri": "https://localhost:8080/",
          "height": 255
        }
      },
      "source": [
        "print((df_model < (Q1 - 1.5 * IQR)) |(df_model > (Q3 + 1.5 * IQR)))"
      ],
      "execution_count": 102,
      "outputs": [
        {
          "output_type": "stream",
          "text": [
            "     ApplicantIncome  CoapplicantIncome  ...  Property_Area  Self_Employed\n",
            "0              False              False  ...          False          False\n",
            "1              False               True  ...          False          False\n",
            "2              False              False  ...          False          False\n",
            "3              False               True  ...          False          False\n",
            "4              False              False  ...          False          False\n",
            "..               ...                ...  ...            ...            ...\n",
            "609            False              False  ...          False          False\n",
            "610            False              False  ...          False          False\n",
            "611             True               True  ...          False          False\n",
            "612             True              False  ...          False          False\n",
            "613            False              False  ...          False          False\n",
            "\n",
            "[614 rows x 12 columns]\n"
          ],
          "name": "stdout"
        }
      ]
    },
    {
      "cell_type": "code",
      "metadata": {
        "id": "orzNWPfHadXr",
        "colab_type": "code",
        "outputId": "e52fd0df-46c2-4b4a-cf25-6a8ee6be9fae",
        "colab": {
          "base_uri": "https://localhost:8080/",
          "height": 119
        }
      },
      "source": [
        "#identifying at which place in data there are outliers in dataset\n",
        "#The lines of code below calculate and print the interquartile range for each of the variables in a dataset\n",
        "Q1=df_model.quantile(0.25)\n",
        "Q3=df_model.quantile(0.50)\n",
        "IQR=Q3-Q1\n",
        "print(IQR)"
      ],
      "execution_count": 103,
      "outputs": [
        {
          "output_type": "stream",
          "text": [
            "ApplicantIncome       935.00\n",
            "CoapplicantIncome    1188.50\n",
            "LoanAmount             27.75\n",
            "Loan_Amount_Term        0.00\n",
            "Credit_History          0.00\n",
            "dtype: float64\n"
          ],
          "name": "stdout"
        }
      ]
    },
    {
      "cell_type": "markdown",
      "metadata": {
        "id": "Q91ZxefpeMeN",
        "colab_type": "text"
      },
      "source": [
        "The code below generates an output with the 'True' and 'False' values. Points where the values are 'True' represent the presence of the outlier."
      ]
    },
    {
      "cell_type": "code",
      "metadata": {
        "id": "_W1hnXp9cIZB",
        "colab_type": "code",
        "outputId": "e317d461-e65f-4f92-9de2-84db4d5d7452",
        "colab": {
          "base_uri": "https://localhost:8080/",
          "height": 255
        }
      },
      "source": [
        "print((df_model < (Q1 - 1.5 * IQR)) |(df_model > (Q3 + 1.5 * IQR)))"
      ],
      "execution_count": 104,
      "outputs": [
        {
          "output_type": "stream",
          "text": [
            "     ApplicantIncome  CoapplicantIncome  ...  Property_Area  Self_Employed\n",
            "0               True              False  ...          False          False\n",
            "1              False              False  ...          False          False\n",
            "2              False              False  ...          False          False\n",
            "3              False              False  ...          False          False\n",
            "4               True              False  ...          False          False\n",
            "..               ...                ...  ...            ...            ...\n",
            "609            False              False  ...          False          False\n",
            "610            False              False  ...          False          False\n",
            "611             True              False  ...          False          False\n",
            "612             True              False  ...          False          False\n",
            "613            False              False  ...          False          False\n",
            "\n",
            "[614 rows x 12 columns]\n"
          ],
          "name": "stdout"
        }
      ]
    },
    {
      "cell_type": "code",
      "metadata": {
        "id": "1-w2lse_ah7y",
        "colab_type": "code",
        "outputId": "a9298922-cef8-4973-8793-96cfaf669668",
        "colab": {
          "base_uri": "https://localhost:8080/",
          "height": 119
        }
      },
      "source": [
        "#identifying at which place in data there are outliers in dataset\n",
        "#The lines of code below calculate and print the interquartile range for each of the variables in a dataset\n",
        "Q1=df_model.quantile(0.50)\n",
        "Q3=df_model.quantile(0.75)\n",
        "IQR=Q3-Q1\n",
        "print(IQR)"
      ],
      "execution_count": 105,
      "outputs": [
        {
          "output_type": "stream",
          "text": [
            "ApplicantIncome      1982.50\n",
            "CoapplicantIncome    1108.75\n",
            "LoanAmount             36.75\n",
            "Loan_Amount_Term        0.00\n",
            "Credit_History          0.00\n",
            "dtype: float64\n"
          ],
          "name": "stdout"
        }
      ]
    },
    {
      "cell_type": "markdown",
      "metadata": {
        "id": "CWgYbga8eTZ5",
        "colab_type": "text"
      },
      "source": [
        "The code below generates an output with the 'True' and 'False' values. Points where the values are 'True' represent the presence of the outlier."
      ]
    },
    {
      "cell_type": "code",
      "metadata": {
        "id": "BKiKBFh9c3eq",
        "colab_type": "code",
        "outputId": "595b33bb-f4fd-4dbd-d1b2-3d35e3cbf273",
        "colab": {
          "base_uri": "https://localhost:8080/",
          "height": 255
        }
      },
      "source": [
        "print((df_model < (Q1 - 1.5 * IQR)) |(df_model > (Q3 + 1.5 * IQR)))"
      ],
      "execution_count": 106,
      "outputs": [
        {
          "output_type": "stream",
          "text": [
            "     ApplicantIncome  CoapplicantIncome  ...  Property_Area  Self_Employed\n",
            "0              False              False  ...          False          False\n",
            "1              False              False  ...          False          False\n",
            "2              False              False  ...          False          False\n",
            "3              False              False  ...          False          False\n",
            "4              False              False  ...          False          False\n",
            "..               ...                ...  ...            ...            ...\n",
            "609            False              False  ...          False          False\n",
            "610            False              False  ...          False          False\n",
            "611            False              False  ...          False          False\n",
            "612            False              False  ...          False          False\n",
            "613            False              False  ...          False          False\n",
            "\n",
            "[614 rows x 12 columns]\n"
          ],
          "name": "stdout"
        }
      ]
    },
    {
      "cell_type": "code",
      "metadata": {
        "id": "iz6Q1jmObBeF",
        "colab_type": "code",
        "outputId": "2fed1ad9-8302-49fa-c3d0-655af9aa5125",
        "colab": {
          "base_uri": "https://localhost:8080/",
          "height": 119
        }
      },
      "source": [
        "#identifying at which place in data there are outliers in dataset\n",
        "#The lines of code below calculate and print the interquartile range for each of the variables in a dataset\n",
        "Q1=df_model.quantile(0.75)\n",
        "Q3=df_model.quantile(0.1)\n",
        "IQR=Q3-Q1\n",
        "print(IQR)"
      ],
      "execution_count": 107,
      "outputs": [
        {
          "output_type": "stream",
          "text": [
            "ApplicantIncome     -3578.90\n",
            "CoapplicantIncome   -2297.25\n",
            "LoanAmount            -92.45\n",
            "Loan_Amount_Term      -60.00\n",
            "Credit_History         -1.00\n",
            "dtype: float64\n"
          ],
          "name": "stdout"
        }
      ]
    },
    {
      "cell_type": "markdown",
      "metadata": {
        "id": "FSnDZHeKe4sy",
        "colab_type": "text"
      },
      "source": [
        "The code below generates an output with the 'True' and 'False' values. Points where the values are 'True' represent the presence of the outlier."
      ]
    },
    {
      "cell_type": "code",
      "metadata": {
        "id": "sN96h1rVdQ1W",
        "colab_type": "code",
        "outputId": "ba20ce30-33cc-41da-df07-b8c802441390",
        "colab": {
          "base_uri": "https://localhost:8080/",
          "height": 255
        }
      },
      "source": [
        "print((df_model < (Q1 - 1.5 * IQR)) |(df_model > (Q3 + 1.5 * IQR)))"
      ],
      "execution_count": 108,
      "outputs": [
        {
          "output_type": "stream",
          "text": [
            "     ApplicantIncome  CoapplicantIncome  ...  Property_Area  Self_Employed\n",
            "0               True               True  ...          False          False\n",
            "1               True               True  ...          False          False\n",
            "2               True               True  ...          False          False\n",
            "3               True               True  ...          False          False\n",
            "4               True               True  ...          False          False\n",
            "..               ...                ...  ...            ...            ...\n",
            "609             True               True  ...          False          False\n",
            "610             True               True  ...          False          False\n",
            "611             True               True  ...          False          False\n",
            "612             True               True  ...          False          False\n",
            "613             True               True  ...          False          False\n",
            "\n",
            "[614 rows x 12 columns]\n"
          ],
          "name": "stdout"
        }
      ]
    },
    {
      "cell_type": "markdown",
      "metadata": {
        "id": "xIF0ur2sywTe",
        "colab_type": "text"
      },
      "source": [
        "Use Box-Plot chart to represent the Outliers for each Independent Variable\n",
        "\n"
      ]
    },
    {
      "cell_type": "code",
      "metadata": {
        "id": "23OIZ5Y0VsIX",
        "colab_type": "code",
        "outputId": "d7145ab4-5f90-4ebe-cefb-6ffbb979ee0e",
        "colab": {
          "base_uri": "https://localhost:8080/",
          "height": 283
        }
      },
      "source": [
        "#box plot\n",
        "df_model.boxplot(column=['ApplicantIncome', 'CoapplicantIncome', 'LoanAmount',\n",
        "       'Loan_Amount_Term','Credit_History'])"
      ],
      "execution_count": 109,
      "outputs": [
        {
          "output_type": "execute_result",
          "data": {
            "text/plain": [
              "<matplotlib.axes._subplots.AxesSubplot at 0x7fc1730cf278>"
            ]
          },
          "metadata": {
            "tags": []
          },
          "execution_count": 109
        },
        {
          "output_type": "display_data",
          "data": {
            "image/png": "[encoded data removed]",
            "text/plain": [
              "<Figure size 432x288 with 1 Axes>"
            ]
          },
          "metadata": {
            "tags": [],
            "needs_background": "light"
          }
        }
      ]
    },
    {
      "cell_type": "markdown",
      "metadata": {
        "id": "p5JoxB_3y3F_",
        "colab_type": "text"
      },
      "source": [
        "Perform treatment of these Outliers using appropriate techniqies.Explain your approach"
      ]
    },
    {
      "cell_type": "code",
      "metadata": {
        "id": "J6ngqahZp8He",
        "colab_type": "code",
        "colab": {}
      },
      "source": [
        "#There are Different methods for the treatment of outliers \n",
        "# 1.)"
      ],
      "execution_count": 0,
      "outputs": []
    },
    {
      "cell_type": "code",
      "metadata": {
        "id": "YAclwElyIW3j",
        "colab_type": "code",
        "colab": {}
      },
      "source": [
        ""
      ],
      "execution_count": 0,
      "outputs": []
    },
    {
      "cell_type": "markdown",
      "metadata": {
        "id": "S3XeM3dU09nw",
        "colab_type": "text"
      },
      "source": [
        "Step 1 -\n",
        "Perform Label Encoding on Target Variable (Loan_Status)."
      ]
    },
    {
      "cell_type": "code",
      "metadata": {
        "id": "QEuFmqenIaqI",
        "colab_type": "code",
        "outputId": "5f1b5f47-14b3-47e9-a1ae-5f99caed0812",
        "colab": {
          "base_uri": "https://localhost:8080/",
          "height": 85
        }
      },
      "source": [
        "num_cols = df_model._get_numeric_data().columns\n",
        "num_cols"
      ],
      "execution_count": 0,
      "outputs": [
        {
          "output_type": "execute_result",
          "data": {
            "text/plain": [
              "Index(['ApplicantIncome', 'CoapplicantIncome', 'LoanAmount',\n",
              "       'Loan_Amount_Term', 'Credit_History', 'enc_Loan_status',\n",
              "       'nc_Loan_status', 'enc_Education', 'enc_Property_Area'],\n",
              "      dtype='object')"
            ]
          },
          "metadata": {
            "tags": []
          },
          "execution_count": 222
        }
      ]
    },
    {
      "cell_type": "code",
      "metadata": {
        "id": "ciZzc1jUIplI",
        "colab_type": "code",
        "outputId": "d1c77975-696f-40c9-b864-6bafcade3895",
        "colab": {
          "base_uri": "https://localhost:8080/",
          "height": 170
        }
      },
      "source": [
        "#Continous\n",
        "for i in num_cols:\n",
        "  print(str(i)+'\\t'+str(len(df_model[i].unique())))"
      ],
      "execution_count": 0,
      "outputs": [
        {
          "output_type": "stream",
          "text": [
            "ApplicantIncome\t505\n",
            "CoapplicantIncome\t287\n",
            "LoanAmount\t204\n",
            "Loan_Amount_Term\t11\n",
            "Credit_History\t3\n",
            "enc_Loan_status\t2\n",
            "nc_Loan_status\t2\n",
            "enc_Education\t2\n",
            "enc_Property_Area\t3\n"
          ],
          "name": "stdout"
        }
      ]
    },
    {
      "cell_type": "code",
      "metadata": {
        "id": "Fd4apBHw08O8",
        "colab_type": "code",
        "colab": {}
      },
      "source": [
        "#Fit- Transform is followed for each method in scikit Learn where fit implies fitting the data into the method \n",
        "# and then transforming it based on method functionality\n",
        "\n",
        "df_cat = df_model.copy()\n"
      ],
      "execution_count": 0,
      "outputs": []
    },
    {
      "cell_type": "code",
      "metadata": {
        "id": "5cVD3cJ64q7U",
        "colab_type": "code",
        "colab": {}
      },
      "source": [
        "#Fit- Transform is followed for each method in scikit Learn where fit implies fitting the data into the method \n",
        "# and then transforming it based on method functionality\n",
        "\n",
        "le = LabelEncoder()\n",
        "df_cat['enc_Loan_Status'] = le.fit_transform(df_cat['Loan_Status'])"
      ],
      "execution_count": 0,
      "outputs": []
    },
    {
      "cell_type": "code",
      "metadata": {
        "id": "viVKexNK9X8r",
        "colab_type": "code",
        "outputId": "c67eea07-fe8d-494b-e3f8-59e0374cf098",
        "colab": {
          "base_uri": "https://localhost:8080/",
          "height": 111
        }
      },
      "source": [
        "df_cat.groupby(['Loan_Status','enc_Loan_Status']).size().reset_index().rename(columns={0:'count'})"
      ],
      "execution_count": 118,
      "outputs": [
        {
          "output_type": "execute_result",
          "data": {
            "text/html": [
              "<div>\n",
              "<style scoped>\n",
              "    .dataframe tbody tr th:only-of-type {\n",
              "        vertical-align: middle;\n",
              "    }\n",
              "\n",
              "    .dataframe tbody tr th {\n",
              "        vertical-align: top;\n",
              "    }\n",
              "\n",
              "    .dataframe thead th {\n",
              "        text-align: right;\n",
              "    }\n",
              "</style>\n",
              "<table border=\"1\" class=\"dataframe\">\n",
              "  <thead>\n",
              "    <tr style=\"text-align: right;\">\n",
              "      <th></th>\n",
              "      <th>Loan_Status</th>\n",
              "      <th>enc_Loan_Status</th>\n",
              "      <th>count</th>\n",
              "    </tr>\n",
              "  </thead>\n",
              "  <tbody>\n",
              "    <tr>\n",
              "      <th>0</th>\n",
              "      <td>N</td>\n",
              "      <td>0</td>\n",
              "      <td>192</td>\n",
              "    </tr>\n",
              "    <tr>\n",
              "      <th>1</th>\n",
              "      <td>Y</td>\n",
              "      <td>1</td>\n",
              "      <td>422</td>\n",
              "    </tr>\n",
              "  </tbody>\n",
              "</table>\n",
              "</div>"
            ],
            "text/plain": [
              "  Loan_Status  enc_Loan_Status  count\n",
              "0           N                0    192\n",
              "1           Y                1    422"
            ]
          },
          "metadata": {
            "tags": []
          },
          "execution_count": 118
        }
      ]
    },
    {
      "cell_type": "markdown",
      "metadata": {
        "id": "ODI0i6aYAt5M",
        "colab_type": "text"
      },
      "source": [
        "Step 2- Using dataframe from Step 1:\n",
        "\n",
        "\n"
      ]
    },
    {
      "cell_type": "markdown",
      "metadata": {
        "id": "GDvNUTS6BK8t",
        "colab_type": "text"
      },
      "source": [
        "Perform Label Encoding on Categorical Independent Variables."
      ]
    },
    {
      "cell_type": "code",
      "metadata": {
        "id": "4cSeTkp4smIJ",
        "colab_type": "code",
        "colab": {
          "base_uri": "https://localhost:8080/",
          "height": 456
        },
        "outputId": "ccb9a79a-5393-4b19-fc10-c47712456f67"
      },
      "source": [
        "df_model.copy()"
      ],
      "execution_count": 119,
      "outputs": [
        {
          "output_type": "execute_result",
          "data": {
            "text/html": [
              "<div>\n",
              "<style scoped>\n",
              "    .dataframe tbody tr th:only-of-type {\n",
              "        vertical-align: middle;\n",
              "    }\n",
              "\n",
              "    .dataframe tbody tr th {\n",
              "        vertical-align: top;\n",
              "    }\n",
              "\n",
              "    .dataframe thead th {\n",
              "        text-align: right;\n",
              "    }\n",
              "</style>\n",
              "<table border=\"1\" class=\"dataframe\">\n",
              "  <thead>\n",
              "    <tr style=\"text-align: right;\">\n",
              "      <th></th>\n",
              "      <th>Gender</th>\n",
              "      <th>Married</th>\n",
              "      <th>Dependents</th>\n",
              "      <th>Education</th>\n",
              "      <th>Self_Employed</th>\n",
              "      <th>ApplicantIncome</th>\n",
              "      <th>CoapplicantIncome</th>\n",
              "      <th>LoanAmount</th>\n",
              "      <th>Loan_Amount_Term</th>\n",
              "      <th>Credit_History</th>\n",
              "      <th>Property_Area</th>\n",
              "      <th>Loan_Status</th>\n",
              "    </tr>\n",
              "  </thead>\n",
              "  <tbody>\n",
              "    <tr>\n",
              "      <th>0</th>\n",
              "      <td>Male</td>\n",
              "      <td>No</td>\n",
              "      <td>0</td>\n",
              "      <td>Graduate</td>\n",
              "      <td>No</td>\n",
              "      <td>5849</td>\n",
              "      <td>0.0</td>\n",
              "      <td>128.0</td>\n",
              "      <td>360.0</td>\n",
              "      <td>1.0</td>\n",
              "      <td>Urban</td>\n",
              "      <td>Y</td>\n",
              "    </tr>\n",
              "    <tr>\n",
              "      <th>1</th>\n",
              "      <td>Male</td>\n",
              "      <td>Yes</td>\n",
              "      <td>1</td>\n",
              "      <td>Graduate</td>\n",
              "      <td>No</td>\n",
              "      <td>4583</td>\n",
              "      <td>1508.0</td>\n",
              "      <td>128.0</td>\n",
              "      <td>360.0</td>\n",
              "      <td>1.0</td>\n",
              "      <td>Rural</td>\n",
              "      <td>N</td>\n",
              "    </tr>\n",
              "    <tr>\n",
              "      <th>2</th>\n",
              "      <td>Male</td>\n",
              "      <td>Yes</td>\n",
              "      <td>0</td>\n",
              "      <td>Graduate</td>\n",
              "      <td>Yes</td>\n",
              "      <td>3000</td>\n",
              "      <td>0.0</td>\n",
              "      <td>66.0</td>\n",
              "      <td>360.0</td>\n",
              "      <td>1.0</td>\n",
              "      <td>Urban</td>\n",
              "      <td>Y</td>\n",
              "    </tr>\n",
              "    <tr>\n",
              "      <th>3</th>\n",
              "      <td>Male</td>\n",
              "      <td>Yes</td>\n",
              "      <td>0</td>\n",
              "      <td>Not Graduate</td>\n",
              "      <td>No</td>\n",
              "      <td>2583</td>\n",
              "      <td>2358.0</td>\n",
              "      <td>120.0</td>\n",
              "      <td>360.0</td>\n",
              "      <td>1.0</td>\n",
              "      <td>Urban</td>\n",
              "      <td>Y</td>\n",
              "    </tr>\n",
              "    <tr>\n",
              "      <th>4</th>\n",
              "      <td>Male</td>\n",
              "      <td>No</td>\n",
              "      <td>0</td>\n",
              "      <td>Graduate</td>\n",
              "      <td>No</td>\n",
              "      <td>6000</td>\n",
              "      <td>0.0</td>\n",
              "      <td>141.0</td>\n",
              "      <td>360.0</td>\n",
              "      <td>1.0</td>\n",
              "      <td>Urban</td>\n",
              "      <td>Y</td>\n",
              "    </tr>\n",
              "    <tr>\n",
              "      <th>...</th>\n",
              "      <td>...</td>\n",
              "      <td>...</td>\n",
              "      <td>...</td>\n",
              "      <td>...</td>\n",
              "      <td>...</td>\n",
              "      <td>...</td>\n",
              "      <td>...</td>\n",
              "      <td>...</td>\n",
              "      <td>...</td>\n",
              "      <td>...</td>\n",
              "      <td>...</td>\n",
              "      <td>...</td>\n",
              "    </tr>\n",
              "    <tr>\n",
              "      <th>609</th>\n",
              "      <td>Female</td>\n",
              "      <td>No</td>\n",
              "      <td>0</td>\n",
              "      <td>Graduate</td>\n",
              "      <td>No</td>\n",
              "      <td>2900</td>\n",
              "      <td>0.0</td>\n",
              "      <td>71.0</td>\n",
              "      <td>360.0</td>\n",
              "      <td>1.0</td>\n",
              "      <td>Rural</td>\n",
              "      <td>Y</td>\n",
              "    </tr>\n",
              "    <tr>\n",
              "      <th>610</th>\n",
              "      <td>Male</td>\n",
              "      <td>Yes</td>\n",
              "      <td>3+</td>\n",
              "      <td>Graduate</td>\n",
              "      <td>No</td>\n",
              "      <td>4106</td>\n",
              "      <td>0.0</td>\n",
              "      <td>40.0</td>\n",
              "      <td>180.0</td>\n",
              "      <td>1.0</td>\n",
              "      <td>Rural</td>\n",
              "      <td>Y</td>\n",
              "    </tr>\n",
              "    <tr>\n",
              "      <th>611</th>\n",
              "      <td>Male</td>\n",
              "      <td>Yes</td>\n",
              "      <td>1</td>\n",
              "      <td>Graduate</td>\n",
              "      <td>No</td>\n",
              "      <td>8072</td>\n",
              "      <td>240.0</td>\n",
              "      <td>253.0</td>\n",
              "      <td>360.0</td>\n",
              "      <td>1.0</td>\n",
              "      <td>Urban</td>\n",
              "      <td>Y</td>\n",
              "    </tr>\n",
              "    <tr>\n",
              "      <th>612</th>\n",
              "      <td>Male</td>\n",
              "      <td>Yes</td>\n",
              "      <td>2</td>\n",
              "      <td>Graduate</td>\n",
              "      <td>No</td>\n",
              "      <td>7583</td>\n",
              "      <td>0.0</td>\n",
              "      <td>187.0</td>\n",
              "      <td>360.0</td>\n",
              "      <td>1.0</td>\n",
              "      <td>Urban</td>\n",
              "      <td>Y</td>\n",
              "    </tr>\n",
              "    <tr>\n",
              "      <th>613</th>\n",
              "      <td>Female</td>\n",
              "      <td>No</td>\n",
              "      <td>0</td>\n",
              "      <td>Graduate</td>\n",
              "      <td>Yes</td>\n",
              "      <td>4583</td>\n",
              "      <td>0.0</td>\n",
              "      <td>133.0</td>\n",
              "      <td>360.0</td>\n",
              "      <td>0.0</td>\n",
              "      <td>Semiurban</td>\n",
              "      <td>N</td>\n",
              "    </tr>\n",
              "  </tbody>\n",
              "</table>\n",
              "<p>614 rows × 12 columns</p>\n",
              "</div>"
            ],
            "text/plain": [
              "     Gender Married Dependents  ... Credit_History Property_Area  Loan_Status\n",
              "0      Male      No          0  ...            1.0         Urban            Y\n",
              "1      Male     Yes          1  ...            1.0         Rural            N\n",
              "2      Male     Yes          0  ...            1.0         Urban            Y\n",
              "3      Male     Yes          0  ...            1.0         Urban            Y\n",
              "4      Male      No          0  ...            1.0         Urban            Y\n",
              "..      ...     ...        ...  ...            ...           ...          ...\n",
              "609  Female      No          0  ...            1.0         Rural            Y\n",
              "610    Male     Yes         3+  ...            1.0         Rural            Y\n",
              "611    Male     Yes          1  ...            1.0         Urban            Y\n",
              "612    Male     Yes          2  ...            1.0         Urban            Y\n",
              "613  Female      No          0  ...            0.0     Semiurban            N\n",
              "\n",
              "[614 rows x 12 columns]"
            ]
          },
          "metadata": {
            "tags": []
          },
          "execution_count": 119
        }
      ]
    },
    {
      "cell_type": "code",
      "metadata": {
        "id": "es9gVTAQ-Xd7",
        "colab_type": "code",
        "colab": {}
      },
      "source": [
        "\n",
        "for j in list(set(df_model.columns) - set(num_cols)):\n",
        "  df_model['enc_'+str(j)] = le.fit_transform(df_model[j])"
      ],
      "execution_count": 0,
      "outputs": []
    },
    {
      "cell_type": "code",
      "metadata": {
        "id": "koGBN_c3Jpr6",
        "colab_type": "code",
        "outputId": "f7f17832-a5e0-4577-df0f-ba49189c6bce",
        "colab": {
          "base_uri": "https://localhost:8080/",
          "height": 119
        }
      },
      "source": [
        "df_model.columns"
      ],
      "execution_count": 121,
      "outputs": [
        {
          "output_type": "execute_result",
          "data": {
            "text/plain": [
              "Index(['Gender', 'Married', 'Dependents', 'Education', 'Self_Employed',\n",
              "       'ApplicantIncome', 'CoapplicantIncome', 'LoanAmount',\n",
              "       'Loan_Amount_Term', 'Credit_History', 'Property_Area', 'Loan_Status',\n",
              "       'enc_Loan_Status', 'enc_Dependents', 'enc_Self_Employed', 'enc_Gender',\n",
              "       'enc_Property_Area', 'enc_Married', 'enc_Education'],\n",
              "      dtype='object')"
            ]
          },
          "metadata": {
            "tags": []
          },
          "execution_count": 121
        }
      ]
    },
    {
      "cell_type": "code",
      "metadata": {
        "id": "hx8kZEZoMV1L",
        "colab_type": "code",
        "outputId": "8b8d28e7-6293-4cf5-f629-688d7e867c30",
        "colab": {
          "base_uri": "https://localhost:8080/",
          "height": 241
        }
      },
      "source": [
        "df_model.head() #viewing the columns present in the dataser"
      ],
      "execution_count": 122,
      "outputs": [
        {
          "output_type": "execute_result",
          "data": {
            "text/html": [
              "<div>\n",
              "<style scoped>\n",
              "    .dataframe tbody tr th:only-of-type {\n",
              "        vertical-align: middle;\n",
              "    }\n",
              "\n",
              "    .dataframe tbody tr th {\n",
              "        vertical-align: top;\n",
              "    }\n",
              "\n",
              "    .dataframe thead th {\n",
              "        text-align: right;\n",
              "    }\n",
              "</style>\n",
              "<table border=\"1\" class=\"dataframe\">\n",
              "  <thead>\n",
              "    <tr style=\"text-align: right;\">\n",
              "      <th></th>\n",
              "      <th>Gender</th>\n",
              "      <th>Married</th>\n",
              "      <th>Dependents</th>\n",
              "      <th>Education</th>\n",
              "      <th>Self_Employed</th>\n",
              "      <th>ApplicantIncome</th>\n",
              "      <th>CoapplicantIncome</th>\n",
              "      <th>LoanAmount</th>\n",
              "      <th>Loan_Amount_Term</th>\n",
              "      <th>Credit_History</th>\n",
              "      <th>Property_Area</th>\n",
              "      <th>Loan_Status</th>\n",
              "      <th>enc_Loan_Status</th>\n",
              "      <th>enc_Dependents</th>\n",
              "      <th>enc_Self_Employed</th>\n",
              "      <th>enc_Gender</th>\n",
              "      <th>enc_Property_Area</th>\n",
              "      <th>enc_Married</th>\n",
              "      <th>enc_Education</th>\n",
              "    </tr>\n",
              "  </thead>\n",
              "  <tbody>\n",
              "    <tr>\n",
              "      <th>0</th>\n",
              "      <td>Male</td>\n",
              "      <td>No</td>\n",
              "      <td>0</td>\n",
              "      <td>Graduate</td>\n",
              "      <td>No</td>\n",
              "      <td>5849</td>\n",
              "      <td>0.0</td>\n",
              "      <td>128.0</td>\n",
              "      <td>360.0</td>\n",
              "      <td>1.0</td>\n",
              "      <td>Urban</td>\n",
              "      <td>Y</td>\n",
              "      <td>1</td>\n",
              "      <td>0</td>\n",
              "      <td>0</td>\n",
              "      <td>1</td>\n",
              "      <td>2</td>\n",
              "      <td>0</td>\n",
              "      <td>0</td>\n",
              "    </tr>\n",
              "    <tr>\n",
              "      <th>1</th>\n",
              "      <td>Male</td>\n",
              "      <td>Yes</td>\n",
              "      <td>1</td>\n",
              "      <td>Graduate</td>\n",
              "      <td>No</td>\n",
              "      <td>4583</td>\n",
              "      <td>1508.0</td>\n",
              "      <td>128.0</td>\n",
              "      <td>360.0</td>\n",
              "      <td>1.0</td>\n",
              "      <td>Rural</td>\n",
              "      <td>N</td>\n",
              "      <td>0</td>\n",
              "      <td>1</td>\n",
              "      <td>0</td>\n",
              "      <td>1</td>\n",
              "      <td>0</td>\n",
              "      <td>1</td>\n",
              "      <td>0</td>\n",
              "    </tr>\n",
              "    <tr>\n",
              "      <th>2</th>\n",
              "      <td>Male</td>\n",
              "      <td>Yes</td>\n",
              "      <td>0</td>\n",
              "      <td>Graduate</td>\n",
              "      <td>Yes</td>\n",
              "      <td>3000</td>\n",
              "      <td>0.0</td>\n",
              "      <td>66.0</td>\n",
              "      <td>360.0</td>\n",
              "      <td>1.0</td>\n",
              "      <td>Urban</td>\n",
              "      <td>Y</td>\n",
              "      <td>1</td>\n",
              "      <td>0</td>\n",
              "      <td>1</td>\n",
              "      <td>1</td>\n",
              "      <td>2</td>\n",
              "      <td>1</td>\n",
              "      <td>0</td>\n",
              "    </tr>\n",
              "    <tr>\n",
              "      <th>3</th>\n",
              "      <td>Male</td>\n",
              "      <td>Yes</td>\n",
              "      <td>0</td>\n",
              "      <td>Not Graduate</td>\n",
              "      <td>No</td>\n",
              "      <td>2583</td>\n",
              "      <td>2358.0</td>\n",
              "      <td>120.0</td>\n",
              "      <td>360.0</td>\n",
              "      <td>1.0</td>\n",
              "      <td>Urban</td>\n",
              "      <td>Y</td>\n",
              "      <td>1</td>\n",
              "      <td>0</td>\n",
              "      <td>0</td>\n",
              "      <td>1</td>\n",
              "      <td>2</td>\n",
              "      <td>1</td>\n",
              "      <td>1</td>\n",
              "    </tr>\n",
              "    <tr>\n",
              "      <th>4</th>\n",
              "      <td>Male</td>\n",
              "      <td>No</td>\n",
              "      <td>0</td>\n",
              "      <td>Graduate</td>\n",
              "      <td>No</td>\n",
              "      <td>6000</td>\n",
              "      <td>0.0</td>\n",
              "      <td>141.0</td>\n",
              "      <td>360.0</td>\n",
              "      <td>1.0</td>\n",
              "      <td>Urban</td>\n",
              "      <td>Y</td>\n",
              "      <td>1</td>\n",
              "      <td>0</td>\n",
              "      <td>0</td>\n",
              "      <td>1</td>\n",
              "      <td>2</td>\n",
              "      <td>0</td>\n",
              "      <td>0</td>\n",
              "    </tr>\n",
              "  </tbody>\n",
              "</table>\n",
              "</div>"
            ],
            "text/plain": [
              "  Gender Married Dependents  ... enc_Property_Area enc_Married  enc_Education\n",
              "0   Male      No          0  ...                 2           0              0\n",
              "1   Male     Yes          1  ...                 0           1              0\n",
              "2   Male     Yes          0  ...                 2           1              0\n",
              "3   Male     Yes          0  ...                 2           1              1\n",
              "4   Male      No          0  ...                 2           0              0\n",
              "\n",
              "[5 rows x 19 columns]"
            ]
          },
          "metadata": {
            "tags": []
          },
          "execution_count": 122
        }
      ]
    },
    {
      "cell_type": "code",
      "metadata": {
        "id": "bV0VBopvPyYw",
        "colab_type": "code",
        "colab": {}
      },
      "source": [
        ""
      ],
      "execution_count": 0,
      "outputs": []
    },
    {
      "cell_type": "markdown",
      "metadata": {
        "id": "iKfZ_Kx2HbyB",
        "colab_type": "text"
      },
      "source": [
        "What is the shape of dataframe post Categorical Encoding ?"
      ]
    },
    {
      "cell_type": "code",
      "metadata": {
        "id": "VTvXFCkFuh9u",
        "colab_type": "code",
        "colab": {
          "base_uri": "https://localhost:8080/",
          "height": 34
        },
        "outputId": "01108e2d-bd55-4335-d124-edd2a1e99291"
      },
      "source": [
        "df_model.shape"
      ],
      "execution_count": 123,
      "outputs": [
        {
          "output_type": "execute_result",
          "data": {
            "text/plain": [
              "(614, 19)"
            ]
          },
          "metadata": {
            "tags": []
          },
          "execution_count": 123
        }
      ]
    },
    {
      "cell_type": "markdown",
      "metadata": {
        "id": "b1VQQDsoQZiY",
        "colab_type": "text"
      },
      "source": [
        "Carry out Correlation analysis on this dataframe. Plot using HeatMap"
      ]
    },
    {
      "cell_type": "code",
      "metadata": {
        "id": "kEh4TjJLSjx7",
        "colab_type": "code",
        "outputId": "37b37271-9449-4222-d467-ec63b697caed",
        "colab": {
          "base_uri": "https://localhost:8080/",
          "height": 224
        }
      },
      "source": [
        "corr=df_model.corr()\n",
        "corr.head()"
      ],
      "execution_count": 124,
      "outputs": [
        {
          "output_type": "execute_result",
          "data": {
            "text/html": [
              "<div>\n",
              "<style scoped>\n",
              "    .dataframe tbody tr th:only-of-type {\n",
              "        vertical-align: middle;\n",
              "    }\n",
              "\n",
              "    .dataframe tbody tr th {\n",
              "        vertical-align: top;\n",
              "    }\n",
              "\n",
              "    .dataframe thead th {\n",
              "        text-align: right;\n",
              "    }\n",
              "</style>\n",
              "<table border=\"1\" class=\"dataframe\">\n",
              "  <thead>\n",
              "    <tr style=\"text-align: right;\">\n",
              "      <th></th>\n",
              "      <th>ApplicantIncome</th>\n",
              "      <th>CoapplicantIncome</th>\n",
              "      <th>LoanAmount</th>\n",
              "      <th>Loan_Amount_Term</th>\n",
              "      <th>Credit_History</th>\n",
              "      <th>enc_Loan_Status</th>\n",
              "      <th>enc_Dependents</th>\n",
              "      <th>enc_Self_Employed</th>\n",
              "      <th>enc_Gender</th>\n",
              "      <th>enc_Property_Area</th>\n",
              "      <th>enc_Married</th>\n",
              "      <th>enc_Education</th>\n",
              "    </tr>\n",
              "  </thead>\n",
              "  <tbody>\n",
              "    <tr>\n",
              "      <th>ApplicantIncome</th>\n",
              "      <td>1.000000</td>\n",
              "      <td>-0.116605</td>\n",
              "      <td>0.565181</td>\n",
              "      <td>-0.045242</td>\n",
              "      <td>-0.018615</td>\n",
              "      <td>-0.004710</td>\n",
              "      <td>0.115036</td>\n",
              "      <td>0.122728</td>\n",
              "      <td>0.046230</td>\n",
              "      <td>-0.009500</td>\n",
              "      <td>0.049052</td>\n",
              "      <td>-0.140760</td>\n",
              "    </tr>\n",
              "    <tr>\n",
              "      <th>CoapplicantIncome</th>\n",
              "      <td>-0.116605</td>\n",
              "      <td>1.000000</td>\n",
              "      <td>0.189218</td>\n",
              "      <td>-0.059675</td>\n",
              "      <td>0.011134</td>\n",
              "      <td>-0.059187</td>\n",
              "      <td>0.026683</td>\n",
              "      <td>-0.021807</td>\n",
              "      <td>0.086991</td>\n",
              "      <td>0.010522</td>\n",
              "      <td>0.077760</td>\n",
              "      <td>-0.062290</td>\n",
              "    </tr>\n",
              "    <tr>\n",
              "      <th>LoanAmount</th>\n",
              "      <td>0.565181</td>\n",
              "      <td>0.189218</td>\n",
              "      <td>1.000000</td>\n",
              "      <td>0.039235</td>\n",
              "      <td>-0.000607</td>\n",
              "      <td>-0.033214</td>\n",
              "      <td>0.158914</td>\n",
              "      <td>0.111754</td>\n",
              "      <td>0.097577</td>\n",
              "      <td>-0.046632</td>\n",
              "      <td>0.147108</td>\n",
              "      <td>-0.168759</td>\n",
              "    </tr>\n",
              "    <tr>\n",
              "      <th>Loan_Amount_Term</th>\n",
              "      <td>-0.045242</td>\n",
              "      <td>-0.059675</td>\n",
              "      <td>0.039235</td>\n",
              "      <td>1.000000</td>\n",
              "      <td>0.000432</td>\n",
              "      <td>-0.020974</td>\n",
              "      <td>-0.084740</td>\n",
              "      <td>-0.028017</td>\n",
              "      <td>-0.075409</td>\n",
              "      <td>-0.077620</td>\n",
              "      <td>-0.095332</td>\n",
              "      <td>-0.077242</td>\n",
              "    </tr>\n",
              "    <tr>\n",
              "      <th>Credit_History</th>\n",
              "      <td>-0.018615</td>\n",
              "      <td>0.011134</td>\n",
              "      <td>-0.000607</td>\n",
              "      <td>0.000432</td>\n",
              "      <td>1.000000</td>\n",
              "      <td>0.540556</td>\n",
              "      <td>-0.065459</td>\n",
              "      <td>0.006209</td>\n",
              "      <td>0.005658</td>\n",
              "      <td>0.001963</td>\n",
              "      <td>0.009519</td>\n",
              "      <td>-0.073658</td>\n",
              "    </tr>\n",
              "  </tbody>\n",
              "</table>\n",
              "</div>"
            ],
            "text/plain": [
              "                   ApplicantIncome  ...  enc_Education\n",
              "ApplicantIncome           1.000000  ...      -0.140760\n",
              "CoapplicantIncome        -0.116605  ...      -0.062290\n",
              "LoanAmount                0.565181  ...      -0.168759\n",
              "Loan_Amount_Term         -0.045242  ...      -0.077242\n",
              "Credit_History           -0.018615  ...      -0.073658\n",
              "\n",
              "[5 rows x 12 columns]"
            ]
          },
          "metadata": {
            "tags": []
          },
          "execution_count": 124
        }
      ]
    },
    {
      "cell_type": "code",
      "metadata": {
        "id": "2eHAaKnJQhrG",
        "colab_type": "code",
        "outputId": "36a175e8-b1a8-4540-cdf9-4200f3e222dd",
        "colab": {
          "base_uri": "https://localhost:8080/",
          "height": 461
        }
      },
      "source": [
        "# Generate a mask for the upper triangle\n",
        "mask = np.zeros_like(corr, dtype=np.bool)\n",
        "mask[np.triu_indices_from(mask)] = True\n",
        "f, ax = plt.subplots(figsize=(11, 6))\n",
        "# Generate a sadsfdgfg diverging colormap\n",
        "cmap = sns.diverging_palette(220, 10, as_cmap=True)\n",
        "# Draw the heatmap with the mask.\n",
        "svm = sns.heatmap(corr, mask=mask, cmap=cmap, center=0,square=True, linewidths=.5, cbar_kws={\"shrink\": .5})\n",
        "figure = svm.get_figure()"
      ],
      "execution_count": 125,
      "outputs": [
        {
          "output_type": "display_data",
          "data": {
            "image/png": "[encoded data removed]",
            "text/plain": [
              "<Figure size 792x432 with 2 Axes>"
            ]
          },
          "metadata": {
            "tags": [],
            "needs_background": "light"
          }
        }
      ]
    },
    {
      "cell_type": "markdown",
      "metadata": {
        "id": "bfeOUXH_T7VX",
        "colab_type": "text"
      },
      "source": [
        "Identify the variables that have strong correlation using Label Encoding( Correlation Coefficient > 0.5 or <0.5).**"
      ]
    },
    {
      "cell_type": "markdown",
      "metadata": {
        "id": "T9BMA24pvMsN",
        "colab_type": "text"
      },
      "source": [
        "variables that have strong correlation using Label Encoding( Correlation Coefficient > 0.5 or <0.5) are:\n",
        "\n",
        "1.) LoanAmount and ApplicantIncome\n",
        "2.)enc_Loan_status and Credit_History"
      ]
    },
    {
      "cell_type": "markdown",
      "metadata": {
        "id": "lpOTUTNWv72Z",
        "colab_type": "text"
      },
      "source": [
        "step3 :\n",
        "**1.Perform One Hot Encoding on Categorical Independent Variables.**"
      ]
    },
    {
      "cell_type": "code",
      "metadata": {
        "id": "6FmYUBfgTx3N",
        "colab_type": "code",
        "colab": {
          "base_uri": "https://localhost:8080/",
          "height": 241
        },
        "outputId": "7a86f1af-07b0-4ac8-ed32-d335e54f715f"
      },
      "source": [
        "ohe = OneHotEncoder(handle_unknown='ignore')\n",
        "df_model_ohe = df_model.copy()\n",
        "df_model_ohe.head()"
      ],
      "execution_count": 127,
      "outputs": [
        {
          "output_type": "execute_result",
          "data": {
            "text/html": [
              "<div>\n",
              "<style scoped>\n",
              "    .dataframe tbody tr th:only-of-type {\n",
              "        vertical-align: middle;\n",
              "    }\n",
              "\n",
              "    .dataframe tbody tr th {\n",
              "        vertical-align: top;\n",
              "    }\n",
              "\n",
              "    .dataframe thead th {\n",
              "        text-align: right;\n",
              "    }\n",
              "</style>\n",
              "<table border=\"1\" class=\"dataframe\">\n",
              "  <thead>\n",
              "    <tr style=\"text-align: right;\">\n",
              "      <th></th>\n",
              "      <th>Gender</th>\n",
              "      <th>Married</th>\n",
              "      <th>Dependents</th>\n",
              "      <th>Education</th>\n",
              "      <th>Self_Employed</th>\n",
              "      <th>ApplicantIncome</th>\n",
              "      <th>CoapplicantIncome</th>\n",
              "      <th>LoanAmount</th>\n",
              "      <th>Loan_Amount_Term</th>\n",
              "      <th>Credit_History</th>\n",
              "      <th>Property_Area</th>\n",
              "      <th>Loan_Status</th>\n",
              "      <th>enc_Loan_Status</th>\n",
              "      <th>enc_Dependents</th>\n",
              "      <th>enc_Self_Employed</th>\n",
              "      <th>enc_Gender</th>\n",
              "      <th>enc_Property_Area</th>\n",
              "      <th>enc_Married</th>\n",
              "      <th>enc_Education</th>\n",
              "    </tr>\n",
              "  </thead>\n",
              "  <tbody>\n",
              "    <tr>\n",
              "      <th>0</th>\n",
              "      <td>Male</td>\n",
              "      <td>No</td>\n",
              "      <td>0</td>\n",
              "      <td>Graduate</td>\n",
              "      <td>No</td>\n",
              "      <td>5849</td>\n",
              "      <td>0.0</td>\n",
              "      <td>128.0</td>\n",
              "      <td>360.0</td>\n",
              "      <td>1.0</td>\n",
              "      <td>Urban</td>\n",
              "      <td>Y</td>\n",
              "      <td>1</td>\n",
              "      <td>0</td>\n",
              "      <td>0</td>\n",
              "      <td>1</td>\n",
              "      <td>2</td>\n",
              "      <td>0</td>\n",
              "      <td>0</td>\n",
              "    </tr>\n",
              "    <tr>\n",
              "      <th>1</th>\n",
              "      <td>Male</td>\n",
              "      <td>Yes</td>\n",
              "      <td>1</td>\n",
              "      <td>Graduate</td>\n",
              "      <td>No</td>\n",
              "      <td>4583</td>\n",
              "      <td>1508.0</td>\n",
              "      <td>128.0</td>\n",
              "      <td>360.0</td>\n",
              "      <td>1.0</td>\n",
              "      <td>Rural</td>\n",
              "      <td>N</td>\n",
              "      <td>0</td>\n",
              "      <td>1</td>\n",
              "      <td>0</td>\n",
              "      <td>1</td>\n",
              "      <td>0</td>\n",
              "      <td>1</td>\n",
              "      <td>0</td>\n",
              "    </tr>\n",
              "    <tr>\n",
              "      <th>2</th>\n",
              "      <td>Male</td>\n",
              "      <td>Yes</td>\n",
              "      <td>0</td>\n",
              "      <td>Graduate</td>\n",
              "      <td>Yes</td>\n",
              "      <td>3000</td>\n",
              "      <td>0.0</td>\n",
              "      <td>66.0</td>\n",
              "      <td>360.0</td>\n",
              "      <td>1.0</td>\n",
              "      <td>Urban</td>\n",
              "      <td>Y</td>\n",
              "      <td>1</td>\n",
              "      <td>0</td>\n",
              "      <td>1</td>\n",
              "      <td>1</td>\n",
              "      <td>2</td>\n",
              "      <td>1</td>\n",
              "      <td>0</td>\n",
              "    </tr>\n",
              "    <tr>\n",
              "      <th>3</th>\n",
              "      <td>Male</td>\n",
              "      <td>Yes</td>\n",
              "      <td>0</td>\n",
              "      <td>Not Graduate</td>\n",
              "      <td>No</td>\n",
              "      <td>2583</td>\n",
              "      <td>2358.0</td>\n",
              "      <td>120.0</td>\n",
              "      <td>360.0</td>\n",
              "      <td>1.0</td>\n",
              "      <td>Urban</td>\n",
              "      <td>Y</td>\n",
              "      <td>1</td>\n",
              "      <td>0</td>\n",
              "      <td>0</td>\n",
              "      <td>1</td>\n",
              "      <td>2</td>\n",
              "      <td>1</td>\n",
              "      <td>1</td>\n",
              "    </tr>\n",
              "    <tr>\n",
              "      <th>4</th>\n",
              "      <td>Male</td>\n",
              "      <td>No</td>\n",
              "      <td>0</td>\n",
              "      <td>Graduate</td>\n",
              "      <td>No</td>\n",
              "      <td>6000</td>\n",
              "      <td>0.0</td>\n",
              "      <td>141.0</td>\n",
              "      <td>360.0</td>\n",
              "      <td>1.0</td>\n",
              "      <td>Urban</td>\n",
              "      <td>Y</td>\n",
              "      <td>1</td>\n",
              "      <td>0</td>\n",
              "      <td>0</td>\n",
              "      <td>1</td>\n",
              "      <td>2</td>\n",
              "      <td>0</td>\n",
              "      <td>0</td>\n",
              "    </tr>\n",
              "  </tbody>\n",
              "</table>\n",
              "</div>"
            ],
            "text/plain": [
              "  Gender Married Dependents  ... enc_Property_Area enc_Married  enc_Education\n",
              "0   Male      No          0  ...                 2           0              0\n",
              "1   Male     Yes          1  ...                 0           1              0\n",
              "2   Male     Yes          0  ...                 2           1              0\n",
              "3   Male     Yes          0  ...                 2           1              1\n",
              "4   Male      No          0  ...                 2           0              0\n",
              "\n",
              "[5 rows x 19 columns]"
            ]
          },
          "metadata": {
            "tags": []
          },
          "execution_count": 127
        }
      ]
    },
    {
      "cell_type": "markdown",
      "metadata": {
        "id": "tsmRdfxOw0jI",
        "colab_type": "text"
      },
      "source": [
        "2.What is the shape of dataframe post OHE Encoding ?"
      ]
    },
    {
      "cell_type": "code",
      "metadata": {
        "id": "mxVCl9qKQXaK",
        "colab_type": "code",
        "colab": {
          "base_uri": "https://localhost:8080/",
          "height": 34
        },
        "outputId": "d8eaa999-8591-4b65-cfad-951f3870f0ac"
      },
      "source": [
        "df_model_ohe.shape"
      ],
      "execution_count": 128,
      "outputs": [
        {
          "output_type": "execute_result",
          "data": {
            "text/plain": [
              "(614, 19)"
            ]
          },
          "metadata": {
            "tags": []
          },
          "execution_count": 128
        }
      ]
    },
    {
      "cell_type": "markdown",
      "metadata": {
        "id": "z6m_qZBBw_e6",
        "colab_type": "text"
      },
      "source": [
        "3**.Carry out Correlation analysis on this dataframe. Plot using HeatMap**"
      ]
    },
    {
      "cell_type": "code",
      "metadata": {
        "id": "ETQBYOW8G8Xs",
        "colab_type": "code",
        "colab": {
          "base_uri": "https://localhost:8080/",
          "height": 441
        },
        "outputId": "dee74608-a463-4469-a021-feee49f85455"
      },
      "source": [
        "oheCorr= df_model_ohe.corr()\n",
        "oheCorr"
      ],
      "execution_count": 129,
      "outputs": [
        {
          "output_type": "execute_result",
          "data": {
            "text/html": [
              "<div>\n",
              "<style scoped>\n",
              "    .dataframe tbody tr th:only-of-type {\n",
              "        vertical-align: middle;\n",
              "    }\n",
              "\n",
              "    .dataframe tbody tr th {\n",
              "        vertical-align: top;\n",
              "    }\n",
              "\n",
              "    .dataframe thead th {\n",
              "        text-align: right;\n",
              "    }\n",
              "</style>\n",
              "<table border=\"1\" class=\"dataframe\">\n",
              "  <thead>\n",
              "    <tr style=\"text-align: right;\">\n",
              "      <th></th>\n",
              "      <th>ApplicantIncome</th>\n",
              "      <th>CoapplicantIncome</th>\n",
              "      <th>LoanAmount</th>\n",
              "      <th>Loan_Amount_Term</th>\n",
              "      <th>Credit_History</th>\n",
              "      <th>enc_Loan_Status</th>\n",
              "      <th>enc_Dependents</th>\n",
              "      <th>enc_Self_Employed</th>\n",
              "      <th>enc_Gender</th>\n",
              "      <th>enc_Property_Area</th>\n",
              "      <th>enc_Married</th>\n",
              "      <th>enc_Education</th>\n",
              "    </tr>\n",
              "  </thead>\n",
              "  <tbody>\n",
              "    <tr>\n",
              "      <th>ApplicantIncome</th>\n",
              "      <td>1.000000</td>\n",
              "      <td>-0.116605</td>\n",
              "      <td>0.565181</td>\n",
              "      <td>-0.045242</td>\n",
              "      <td>-0.018615</td>\n",
              "      <td>-0.004710</td>\n",
              "      <td>0.115036</td>\n",
              "      <td>0.122728</td>\n",
              "      <td>0.046230</td>\n",
              "      <td>-0.009500</td>\n",
              "      <td>0.049052</td>\n",
              "      <td>-0.140760</td>\n",
              "    </tr>\n",
              "    <tr>\n",
              "      <th>CoapplicantIncome</th>\n",
              "      <td>-0.116605</td>\n",
              "      <td>1.000000</td>\n",
              "      <td>0.189218</td>\n",
              "      <td>-0.059675</td>\n",
              "      <td>0.011134</td>\n",
              "      <td>-0.059187</td>\n",
              "      <td>0.026683</td>\n",
              "      <td>-0.021807</td>\n",
              "      <td>0.086991</td>\n",
              "      <td>0.010522</td>\n",
              "      <td>0.077760</td>\n",
              "      <td>-0.062290</td>\n",
              "    </tr>\n",
              "    <tr>\n",
              "      <th>LoanAmount</th>\n",
              "      <td>0.565181</td>\n",
              "      <td>0.189218</td>\n",
              "      <td>1.000000</td>\n",
              "      <td>0.039235</td>\n",
              "      <td>-0.000607</td>\n",
              "      <td>-0.033214</td>\n",
              "      <td>0.158914</td>\n",
              "      <td>0.111754</td>\n",
              "      <td>0.097577</td>\n",
              "      <td>-0.046632</td>\n",
              "      <td>0.147108</td>\n",
              "      <td>-0.168759</td>\n",
              "    </tr>\n",
              "    <tr>\n",
              "      <th>Loan_Amount_Term</th>\n",
              "      <td>-0.045242</td>\n",
              "      <td>-0.059675</td>\n",
              "      <td>0.039235</td>\n",
              "      <td>1.000000</td>\n",
              "      <td>0.000432</td>\n",
              "      <td>-0.020974</td>\n",
              "      <td>-0.084740</td>\n",
              "      <td>-0.028017</td>\n",
              "      <td>-0.075409</td>\n",
              "      <td>-0.077620</td>\n",
              "      <td>-0.095332</td>\n",
              "      <td>-0.077242</td>\n",
              "    </tr>\n",
              "    <tr>\n",
              "      <th>Credit_History</th>\n",
              "      <td>-0.018615</td>\n",
              "      <td>0.011134</td>\n",
              "      <td>-0.000607</td>\n",
              "      <td>0.000432</td>\n",
              "      <td>1.000000</td>\n",
              "      <td>0.540556</td>\n",
              "      <td>-0.065459</td>\n",
              "      <td>0.006209</td>\n",
              "      <td>0.005658</td>\n",
              "      <td>0.001963</td>\n",
              "      <td>0.009519</td>\n",
              "      <td>-0.073658</td>\n",
              "    </tr>\n",
              "    <tr>\n",
              "      <th>enc_Loan_Status</th>\n",
              "      <td>-0.004710</td>\n",
              "      <td>-0.059187</td>\n",
              "      <td>-0.033214</td>\n",
              "      <td>-0.020974</td>\n",
              "      <td>0.540556</td>\n",
              "      <td>1.000000</td>\n",
              "      <td>-0.003361</td>\n",
              "      <td>0.009035</td>\n",
              "      <td>0.012213</td>\n",
              "      <td>0.032112</td>\n",
              "      <td>0.089072</td>\n",
              "      <td>-0.085884</td>\n",
              "    </tr>\n",
              "    <tr>\n",
              "      <th>enc_Dependents</th>\n",
              "      <td>0.115036</td>\n",
              "      <td>0.026683</td>\n",
              "      <td>0.158914</td>\n",
              "      <td>-0.084740</td>\n",
              "      <td>-0.065459</td>\n",
              "      <td>-0.003361</td>\n",
              "      <td>1.000000</td>\n",
              "      <td>0.044505</td>\n",
              "      <td>0.164475</td>\n",
              "      <td>0.005131</td>\n",
              "      <td>0.333841</td>\n",
              "      <td>0.054909</td>\n",
              "    </tr>\n",
              "    <tr>\n",
              "      <th>enc_Self_Employed</th>\n",
              "      <td>0.122728</td>\n",
              "      <td>-0.021807</td>\n",
              "      <td>0.111754</td>\n",
              "      <td>-0.028017</td>\n",
              "      <td>0.006209</td>\n",
              "      <td>0.009035</td>\n",
              "      <td>0.044505</td>\n",
              "      <td>1.000000</td>\n",
              "      <td>0.011676</td>\n",
              "      <td>-0.037106</td>\n",
              "      <td>-0.000257</td>\n",
              "      <td>-0.008734</td>\n",
              "    </tr>\n",
              "    <tr>\n",
              "      <th>enc_Gender</th>\n",
              "      <td>0.046230</td>\n",
              "      <td>0.086991</td>\n",
              "      <td>0.097577</td>\n",
              "      <td>-0.075409</td>\n",
              "      <td>0.005658</td>\n",
              "      <td>0.012213</td>\n",
              "      <td>0.164475</td>\n",
              "      <td>0.011676</td>\n",
              "      <td>1.000000</td>\n",
              "      <td>-0.019854</td>\n",
              "      <td>0.371532</td>\n",
              "      <td>0.049480</td>\n",
              "    </tr>\n",
              "    <tr>\n",
              "      <th>enc_Property_Area</th>\n",
              "      <td>-0.009500</td>\n",
              "      <td>0.010522</td>\n",
              "      <td>-0.046632</td>\n",
              "      <td>-0.077620</td>\n",
              "      <td>0.001963</td>\n",
              "      <td>0.032112</td>\n",
              "      <td>0.005131</td>\n",
              "      <td>-0.037106</td>\n",
              "      <td>-0.019854</td>\n",
              "      <td>1.000000</td>\n",
              "      <td>0.004415</td>\n",
              "      <td>-0.065243</td>\n",
              "    </tr>\n",
              "    <tr>\n",
              "      <th>enc_Married</th>\n",
              "      <td>0.049052</td>\n",
              "      <td>0.077760</td>\n",
              "      <td>0.147108</td>\n",
              "      <td>-0.095332</td>\n",
              "      <td>0.009519</td>\n",
              "      <td>0.089072</td>\n",
              "      <td>0.333841</td>\n",
              "      <td>-0.000257</td>\n",
              "      <td>0.371532</td>\n",
              "      <td>0.004415</td>\n",
              "      <td>1.000000</td>\n",
              "      <td>0.014097</td>\n",
              "    </tr>\n",
              "    <tr>\n",
              "      <th>enc_Education</th>\n",
              "      <td>-0.140760</td>\n",
              "      <td>-0.062290</td>\n",
              "      <td>-0.168759</td>\n",
              "      <td>-0.077242</td>\n",
              "      <td>-0.073658</td>\n",
              "      <td>-0.085884</td>\n",
              "      <td>0.054909</td>\n",
              "      <td>-0.008734</td>\n",
              "      <td>0.049480</td>\n",
              "      <td>-0.065243</td>\n",
              "      <td>0.014097</td>\n",
              "      <td>1.000000</td>\n",
              "    </tr>\n",
              "  </tbody>\n",
              "</table>\n",
              "</div>"
            ],
            "text/plain": [
              "                   ApplicantIncome  ...  enc_Education\n",
              "ApplicantIncome           1.000000  ...      -0.140760\n",
              "CoapplicantIncome        -0.116605  ...      -0.062290\n",
              "LoanAmount                0.565181  ...      -0.168759\n",
              "Loan_Amount_Term         -0.045242  ...      -0.077242\n",
              "Credit_History           -0.018615  ...      -0.073658\n",
              "enc_Loan_Status          -0.004710  ...      -0.085884\n",
              "enc_Dependents            0.115036  ...       0.054909\n",
              "enc_Self_Employed         0.122728  ...      -0.008734\n",
              "enc_Gender                0.046230  ...       0.049480\n",
              "enc_Property_Area        -0.009500  ...      -0.065243\n",
              "enc_Married               0.049052  ...       0.014097\n",
              "enc_Education            -0.140760  ...       1.000000\n",
              "\n",
              "[12 rows x 12 columns]"
            ]
          },
          "metadata": {
            "tags": []
          },
          "execution_count": 129
        }
      ]
    },
    {
      "cell_type": "code",
      "metadata": {
        "id": "Rko1_uBKG0F-",
        "colab_type": "code",
        "colab": {
          "base_uri": "https://localhost:8080/",
          "height": 407
        },
        "outputId": "4dfa4b2e-90fd-474f-f873-37bf487d0daa"
      },
      "source": [
        "mask = np.zeros_like(oheCorr, dtype=bool)\n",
        "mask[np.triu_indices_from(mask)] = True\n",
        "\n",
        "f, ax = plt.subplots(figsize=(9, 5))\n",
        "\n",
        "cmap = sns.diverging_palette(220, 10, as_cmap=True)\n",
        "\n",
        "svm = sns.heatmap(oheCorr, mask=mask, cmap=cmap, center=0,\n",
        "            square=True, linewidths=.5, cbar_kws={\"shrink\": .5})\n",
        "figure = svm.get_figure()"
      ],
      "execution_count": 130,
      "outputs": [
        {
          "output_type": "display_data",
          "data": {
            "image/png": "[encoded data removed]",
            "text/plain": [
              "<Figure size 648x360 with 2 Axes>"
            ]
          },
          "metadata": {
            "tags": [],
            "needs_background": "light"
          }
        }
      ]
    },
    {
      "cell_type": "markdown",
      "metadata": {
        "id": "w7qfyVVoxkir",
        "colab_type": "text"
      },
      "source": [
        "**4.Identify the variables that have strong correlation using OHE ( Correlation Coefficient > 0.5 or <0.5)**"
      ]
    },
    {
      "cell_type": "markdown",
      "metadata": {
        "id": "gC8ctVKix6S1",
        "colab_type": "text"
      },
      "source": [
        "\n",
        " the variables that have strong correlation using OHE ( Correlation Coefficient > 0.5 or <0.5) are:\n",
        "---\n",
        "\n",
        "\n",
        "1.LoanAmount and Applicationincome are strongly correlated.\n",
        "\n",
        "2.enc_loan_Status and credit_History"
      ]
    },
    {
      "cell_type": "code",
      "metadata": {
        "id": "pw-47lTgxt3c",
        "colab_type": "code",
        "colab": {}
      },
      "source": [
        ""
      ],
      "execution_count": 0,
      "outputs": []
    }
  ]
}