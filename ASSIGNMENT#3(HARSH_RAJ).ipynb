{
  "nbformat": 4,
  "nbformat_minor": 0,
  "metadata": {
    "colab": {
      "name": "Untitled10.ipynb",
      "provenance": []
    },
    "kernelspec": {
      "name": "python3",
      "display_name": "Python 3"
    }
  },
  "cells": [
    {
      "cell_type": "code",
      "metadata": {
        "id": "WZSbcaFSzYWw",
        "colab_type": "code",
        "colab": {}
      },
      "source": [
        "import numpy as np\n",
        "import pandas as pd\n",
        "import matplotlib.pyplot as plt\n",
        "import seaborn as sns\n"
      ],
      "execution_count": 0,
      "outputs": []
    },
    {
      "cell_type": "code",
      "metadata": {
        "id": "woKQ7wKo1zpJ",
        "colab_type": "code",
        "outputId": "018e2d1a-69ee-4f74-80b2-3ebd64fa0842",
        "colab": {
          "base_uri": "https://localhost:8080/",
          "height": 197
        }
      },
      "source": [
        "df=pd.read_csv('dataset_model.csv')\n",
        "df.head()\n"
      ],
      "execution_count": 154,
      "outputs": [
        {
          "output_type": "execute_result",
          "data": {
            "text/html": [
              "<div>\n",
              "<style scoped>\n",
              "    .dataframe tbody tr th:only-of-type {\n",
              "        vertical-align: middle;\n",
              "    }\n",
              "\n",
              "    .dataframe tbody tr th {\n",
              "        vertical-align: top;\n",
              "    }\n",
              "\n",
              "    .dataframe thead th {\n",
              "        text-align: right;\n",
              "    }\n",
              "</style>\n",
              "<table border=\"1\" class=\"dataframe\">\n",
              "  <thead>\n",
              "    <tr style=\"text-align: right;\">\n",
              "      <th></th>\n",
              "      <th>Loan_ID</th>\n",
              "      <th>Gender</th>\n",
              "      <th>Married</th>\n",
              "      <th>Dependents</th>\n",
              "      <th>Education</th>\n",
              "      <th>Self_Employed</th>\n",
              "      <th>ApplicantIncome</th>\n",
              "      <th>CoapplicantIncome</th>\n",
              "      <th>LoanAmount</th>\n",
              "      <th>Loan_Amount_Term</th>\n",
              "      <th>Credit_History</th>\n",
              "      <th>Property_Area</th>\n",
              "      <th>Loan_Status</th>\n",
              "    </tr>\n",
              "  </thead>\n",
              "  <tbody>\n",
              "    <tr>\n",
              "      <th>0</th>\n",
              "      <td>LP001002</td>\n",
              "      <td>Male</td>\n",
              "      <td>No</td>\n",
              "      <td>0</td>\n",
              "      <td>Graduate</td>\n",
              "      <td>No</td>\n",
              "      <td>5849</td>\n",
              "      <td>0.0</td>\n",
              "      <td>NaN</td>\n",
              "      <td>360.0</td>\n",
              "      <td>1.0</td>\n",
              "      <td>Urban</td>\n",
              "      <td>Y</td>\n",
              "    </tr>\n",
              "    <tr>\n",
              "      <th>1</th>\n",
              "      <td>LP001003</td>\n",
              "      <td>Male</td>\n",
              "      <td>Yes</td>\n",
              "      <td>1</td>\n",
              "      <td>Graduate</td>\n",
              "      <td>No</td>\n",
              "      <td>4583</td>\n",
              "      <td>1508.0</td>\n",
              "      <td>128.0</td>\n",
              "      <td>360.0</td>\n",
              "      <td>1.0</td>\n",
              "      <td>Rural</td>\n",
              "      <td>N</td>\n",
              "    </tr>\n",
              "    <tr>\n",
              "      <th>2</th>\n",
              "      <td>LP001005</td>\n",
              "      <td>Male</td>\n",
              "      <td>Yes</td>\n",
              "      <td>0</td>\n",
              "      <td>Graduate</td>\n",
              "      <td>Yes</td>\n",
              "      <td>3000</td>\n",
              "      <td>0.0</td>\n",
              "      <td>66.0</td>\n",
              "      <td>360.0</td>\n",
              "      <td>1.0</td>\n",
              "      <td>Urban</td>\n",
              "      <td>Y</td>\n",
              "    </tr>\n",
              "    <tr>\n",
              "      <th>3</th>\n",
              "      <td>LP001006</td>\n",
              "      <td>Male</td>\n",
              "      <td>Yes</td>\n",
              "      <td>0</td>\n",
              "      <td>Not Graduate</td>\n",
              "      <td>No</td>\n",
              "      <td>2583</td>\n",
              "      <td>2358.0</td>\n",
              "      <td>120.0</td>\n",
              "      <td>360.0</td>\n",
              "      <td>1.0</td>\n",
              "      <td>Urban</td>\n",
              "      <td>Y</td>\n",
              "    </tr>\n",
              "    <tr>\n",
              "      <th>4</th>\n",
              "      <td>LP001008</td>\n",
              "      <td>Male</td>\n",
              "      <td>No</td>\n",
              "      <td>0</td>\n",
              "      <td>Graduate</td>\n",
              "      <td>No</td>\n",
              "      <td>6000</td>\n",
              "      <td>0.0</td>\n",
              "      <td>141.0</td>\n",
              "      <td>360.0</td>\n",
              "      <td>1.0</td>\n",
              "      <td>Urban</td>\n",
              "      <td>Y</td>\n",
              "    </tr>\n",
              "  </tbody>\n",
              "</table>\n",
              "</div>"
            ],
            "text/plain": [
              "    Loan_ID Gender Married  ... Credit_History Property_Area Loan_Status\n",
              "0  LP001002   Male      No  ...            1.0         Urban           Y\n",
              "1  LP001003   Male     Yes  ...            1.0         Rural           N\n",
              "2  LP001005   Male     Yes  ...            1.0         Urban           Y\n",
              "3  LP001006   Male     Yes  ...            1.0         Urban           Y\n",
              "4  LP001008   Male      No  ...            1.0         Urban           Y\n",
              "\n",
              "[5 rows x 13 columns]"
            ]
          },
          "metadata": {
            "tags": []
          },
          "execution_count": 154
        }
      ]
    },
    {
      "cell_type": "markdown",
      "metadata": {
        "id": "Nig1B8AeA2wr",
        "colab_type": "text"
      },
      "source": [
        "#Problem:1 Identify and remove those records which are only providing unique information about records.Capture it in another dataframe."
      ]
    },
    {
      "cell_type": "code",
      "metadata": {
        "id": "0sWyg6p12MPO",
        "colab_type": "code",
        "outputId": "54e7cd53-822c-41a9-8de6-01341294dccc",
        "colab": {
          "base_uri": "https://localhost:8080/",
          "height": 34
        }
      },
      "source": [
        "df.describe()\n",
        "df.shape"
      ],
      "execution_count": 155,
      "outputs": [
        {
          "output_type": "execute_result",
          "data": {
            "text/plain": [
              "(614, 13)"
            ]
          },
          "metadata": {
            "tags": []
          },
          "execution_count": 155
        }
      ]
    },
    {
      "cell_type": "markdown",
      "metadata": {
        "id": "CkQK6y6PC_em",
        "colab_type": "text"
      },
      "source": [
        "SOLUTION #1:On just looking on dataset top 10 rows we are familiar with the point that only two columns seems to may have unique values 'Loan_Id','ApplicantIncome',then we only observe aur analysis whether they have different values for each rows and depicts using size and we only find \"loan_Id only record that providing unique information"
      ]
    },
    {
      "cell_type": "code",
      "metadata": {
        "id": "Fxw-yQQS2zbv",
        "colab_type": "code",
        "outputId": "1dfa6f05-0815-44ae-b312-7a5351f59dc9",
        "colab": {
          "base_uri": "https://localhost:8080/",
          "height": 34
        }
      },
      "source": [
        "df['Loan_ID'].unique().size"
      ],
      "execution_count": 0,
      "outputs": [
        {
          "output_type": "execute_result",
          "data": {
            "text/plain": [
              "614"
            ]
          },
          "metadata": {
            "tags": []
          },
          "execution_count": 15
        }
      ]
    },
    {
      "cell_type": "code",
      "metadata": {
        "id": "_1eqFSRFAJa0",
        "colab_type": "code",
        "outputId": "c75ce699-e00a-4f83-ffbd-5c76aeb4160c",
        "colab": {
          "base_uri": "https://localhost:8080/",
          "height": 34
        }
      },
      "source": [
        "df['ApplicantIncome'].unique().size"
      ],
      "execution_count": 0,
      "outputs": [
        {
          "output_type": "execute_result",
          "data": {
            "text/plain": [
              "505"
            ]
          },
          "metadata": {
            "tags": []
          },
          "execution_count": 16
        }
      ]
    },
    {
      "cell_type": "code",
      "metadata": {
        "id": "5E3KcxAEENSj",
        "colab_type": "code",
        "outputId": "d8e0356a-7443-41b6-9f09-aa7089ff12d7",
        "colab": {
          "base_uri": "https://localhost:8080/",
          "height": 197
        }
      },
      "source": [
        "df2=df.drop('Loan_ID',axis=1)\n",
        "df2.head()"
      ],
      "execution_count": 32,
      "outputs": [
        {
          "output_type": "execute_result",
          "data": {
            "text/html": [
              "<div>\n",
              "<style scoped>\n",
              "    .dataframe tbody tr th:only-of-type {\n",
              "        vertical-align: middle;\n",
              "    }\n",
              "\n",
              "    .dataframe tbody tr th {\n",
              "        vertical-align: top;\n",
              "    }\n",
              "\n",
              "    .dataframe thead th {\n",
              "        text-align: right;\n",
              "    }\n",
              "</style>\n",
              "<table border=\"1\" class=\"dataframe\">\n",
              "  <thead>\n",
              "    <tr style=\"text-align: right;\">\n",
              "      <th></th>\n",
              "      <th>Gender</th>\n",
              "      <th>Married</th>\n",
              "      <th>Dependents</th>\n",
              "      <th>Education</th>\n",
              "      <th>Self_Employed</th>\n",
              "      <th>ApplicantIncome</th>\n",
              "      <th>CoapplicantIncome</th>\n",
              "      <th>LoanAmount</th>\n",
              "      <th>Loan_Amount_Term</th>\n",
              "      <th>Credit_History</th>\n",
              "      <th>Property_Area</th>\n",
              "      <th>Loan_Status</th>\n",
              "    </tr>\n",
              "  </thead>\n",
              "  <tbody>\n",
              "    <tr>\n",
              "      <th>0</th>\n",
              "      <td>Male</td>\n",
              "      <td>No</td>\n",
              "      <td>0</td>\n",
              "      <td>Graduate</td>\n",
              "      <td>No</td>\n",
              "      <td>5849</td>\n",
              "      <td>0.0</td>\n",
              "      <td>NaN</td>\n",
              "      <td>360.0</td>\n",
              "      <td>1.0</td>\n",
              "      <td>Urban</td>\n",
              "      <td>Y</td>\n",
              "    </tr>\n",
              "    <tr>\n",
              "      <th>1</th>\n",
              "      <td>Male</td>\n",
              "      <td>Yes</td>\n",
              "      <td>1</td>\n",
              "      <td>Graduate</td>\n",
              "      <td>No</td>\n",
              "      <td>4583</td>\n",
              "      <td>1508.0</td>\n",
              "      <td>128.0</td>\n",
              "      <td>360.0</td>\n",
              "      <td>1.0</td>\n",
              "      <td>Rural</td>\n",
              "      <td>N</td>\n",
              "    </tr>\n",
              "    <tr>\n",
              "      <th>2</th>\n",
              "      <td>Male</td>\n",
              "      <td>Yes</td>\n",
              "      <td>0</td>\n",
              "      <td>Graduate</td>\n",
              "      <td>Yes</td>\n",
              "      <td>3000</td>\n",
              "      <td>0.0</td>\n",
              "      <td>66.0</td>\n",
              "      <td>360.0</td>\n",
              "      <td>1.0</td>\n",
              "      <td>Urban</td>\n",
              "      <td>Y</td>\n",
              "    </tr>\n",
              "    <tr>\n",
              "      <th>3</th>\n",
              "      <td>Male</td>\n",
              "      <td>Yes</td>\n",
              "      <td>0</td>\n",
              "      <td>Not Graduate</td>\n",
              "      <td>No</td>\n",
              "      <td>2583</td>\n",
              "      <td>2358.0</td>\n",
              "      <td>120.0</td>\n",
              "      <td>360.0</td>\n",
              "      <td>1.0</td>\n",
              "      <td>Urban</td>\n",
              "      <td>Y</td>\n",
              "    </tr>\n",
              "    <tr>\n",
              "      <th>4</th>\n",
              "      <td>Male</td>\n",
              "      <td>No</td>\n",
              "      <td>0</td>\n",
              "      <td>Graduate</td>\n",
              "      <td>No</td>\n",
              "      <td>6000</td>\n",
              "      <td>0.0</td>\n",
              "      <td>141.0</td>\n",
              "      <td>360.0</td>\n",
              "      <td>1.0</td>\n",
              "      <td>Urban</td>\n",
              "      <td>Y</td>\n",
              "    </tr>\n",
              "  </tbody>\n",
              "</table>\n",
              "</div>"
            ],
            "text/plain": [
              "  Gender Married Dependents  ... Credit_History Property_Area  Loan_Status\n",
              "0   Male      No          0  ...            1.0         Urban            Y\n",
              "1   Male     Yes          1  ...            1.0         Rural            N\n",
              "2   Male     Yes          0  ...            1.0         Urban            Y\n",
              "3   Male     Yes          0  ...            1.0         Urban            Y\n",
              "4   Male      No          0  ...            1.0         Urban            Y\n",
              "\n",
              "[5 rows x 12 columns]"
            ]
          },
          "metadata": {
            "tags": []
          },
          "execution_count": 32
        }
      ]
    },
    {
      "cell_type": "markdown",
      "metadata": {
        "id": "n3NP5kdbElEz",
        "colab_type": "text"
      },
      "source": [
        "PROBLEM#2:Identify continous and categorical columns\n"
      ]
    },
    {
      "cell_type": "code",
      "metadata": {
        "id": "viQEJY8DEjzZ",
        "colab_type": "code",
        "outputId": "63f9f776-2e1a-455f-96ea-f8858cedfdd5",
        "colab": {
          "base_uri": "https://localhost:8080/",
          "height": 123
        }
      },
      "source": [
        "continuous = [i for i in df if len(df[i].unique())>5] #Continuous columns was limited to unique values > 5\n",
        "categorical = [i for i in df if len(df[i].unique())<=5] #Categorical columns was limited to unique values <5\n",
        "print(\"List of continuous Columns\\n{}\\n\\nList of Categorical Columns\\n{}\\n\".format(continuous,categorical))"
      ],
      "execution_count": 156,
      "outputs": [
        {
          "output_type": "stream",
          "text": [
            "List of continuous Columns\n",
            "['Loan_ID', 'ApplicantIncome', 'CoapplicantIncome', 'LoanAmount', 'Loan_Amount_Term']\n",
            "\n",
            "List of Categorical Columns\n",
            "['Gender', 'Married', 'Dependents', 'Education', 'Self_Employed', 'Credit_History', 'Property_Area', 'Loan_Status']\n",
            "\n"
          ],
          "name": "stdout"
        }
      ]
    },
    {
      "cell_type": "markdown",
      "metadata": {
        "id": "4yVWETdfFziS",
        "colab_type": "text"
      },
      "source": [
        "PROBLEM#3: Perform univariate analysis with plots and record your observation.."
      ]
    },
    {
      "cell_type": "code",
      "metadata": {
        "id": "ax_AM-8aFyd_",
        "colab_type": "code",
        "outputId": "b4ade951-2c5e-4620-9ac1-5a45b9f8c15b",
        "colab": {
          "base_uri": "https://localhost:8080/",
          "height": 731
        }
      },
      "source": [
        "df2.hist(figsize=(10,10))"
      ],
      "execution_count": 157,
      "outputs": [
        {
          "output_type": "execute_result",
          "data": {
            "text/plain": [
              "array([[<matplotlib.axes._subplots.AxesSubplot object at 0x7f5284baf1d0>,\n",
              "        <matplotlib.axes._subplots.AxesSubplot object at 0x7f52831fa470>],\n",
              "       [<matplotlib.axes._subplots.AxesSubplot object at 0x7f5283226710>,\n",
              "        <matplotlib.axes._subplots.AxesSubplot object at 0x7f52831d6a90>],\n",
              "       [<matplotlib.axes._subplots.AxesSubplot object at 0x7f5283183e10>,\n",
              "        <matplotlib.axes._subplots.AxesSubplot object at 0x7f52831401d0>]],\n",
              "      dtype=object)"
            ]
          },
          "metadata": {
            "tags": []
          },
          "execution_count": 157
        },
        {
          "output_type": "display_data",
          "data": {
            "image/png": "[encoded data removed]",
            "text/plain": [
              "<Figure size 720x720 with 6 Axes>"
            ]
          },
          "metadata": {
            "tags": [],
            "needs_background": "light"
          }
        }
      ]
    },
    {
      "cell_type": "markdown",
      "metadata": {
        "id": "M5O2DjcsIahr",
        "colab_type": "text"
      },
      "source": [
        "OBSERVATIONS:1))Many of the Applicants have applies for loan term of more then 360 days \n",
        "\n",
        "2)Much People are applying for loan amount which is less in average of every other combined so the company's amount in loan can be given to more people.\n",
        "\n",
        "3) 10% of People are not having any credit history which is a risk for company to give loan to these people as several other insights maybe required before lending them loan\n",
        "\n",
        "4)Maximum applicants are earning less then 15k which is also a risk for company while payback time.\n",
        "\n",
        "5)There is 2% of people in income slab of 40000 which are more beneficial and trust worthy for loan paybacks"
      ]
    },
    {
      "cell_type": "code",
      "metadata": {
        "id": "iOEXLCIBIvjE",
        "colab_type": "code",
        "outputId": "4af7616c-4fc9-464b-9b7f-0174fdec4335",
        "colab": {
          "base_uri": "https://localhost:8080/",
          "height": 296
        }
      },
      "source": [
        "sns.countplot(x='Gender',data=df2)\n"
      ],
      "execution_count": 35,
      "outputs": [
        {
          "output_type": "execute_result",
          "data": {
            "text/plain": [
              "<matplotlib.axes._subplots.AxesSubplot at 0x7f528ae9b2b0>"
            ]
          },
          "metadata": {
            "tags": []
          },
          "execution_count": 35
        },
        {
          "output_type": "display_data",
          "data": {
            "image/png": "[encoded data removed]",
            "text/plain": [
              "<Figure size 432x288 with 1 Axes>"
            ]
          },
          "metadata": {
            "tags": [],
            "needs_background": "light"
          }
        }
      ]
    },
    {
      "cell_type": "code",
      "metadata": {
        "id": "gP8h5KL_Kw6r",
        "colab_type": "code",
        "colab": {
          "base_uri": "https://localhost:8080/",
          "height": 296
        },
        "outputId": "cd3e17cd-28af-442f-d8a1-ffb7694e707b"
      },
      "source": [
        "sns.countplot(x='Gender',data=df2)\n"
      ],
      "execution_count": 36,
      "outputs": [
        {
          "output_type": "execute_result",
          "data": {
            "text/plain": [
              "<matplotlib.axes._subplots.AxesSubplot at 0x7f528ade53c8>"
            ]
          },
          "metadata": {
            "tags": []
          },
          "execution_count": 36
        },
        {
          "output_type": "display_data",
          "data": {
            "image/png": "[encoded data removed]",
            "text/plain": [
              "<Figure size 432x288 with 1 Axes>"
            ]
          },
          "metadata": {
            "tags": [],
            "needs_background": "light"
          }
        }
      ]
    },
    {
      "cell_type": "code",
      "metadata": {
        "id": "mghs--13Kx7c",
        "colab_type": "code",
        "outputId": "515f002a-4aee-482c-f53c-006eafd49603",
        "colab": {
          "base_uri": "https://localhost:8080/",
          "height": 296
        }
      },
      "source": [
        "sns.countplot(x='Married',data=df2)\n"
      ],
      "execution_count": 37,
      "outputs": [
        {
          "output_type": "execute_result",
          "data": {
            "text/plain": [
              "<matplotlib.axes._subplots.AxesSubplot at 0x7f528adb5198>"
            ]
          },
          "metadata": {
            "tags": []
          },
          "execution_count": 37
        },
        {
          "output_type": "display_data",
          "data": {
            "image/png": "[encoded data removed]",
            "text/plain": [
              "<Figure size 432x288 with 1 Axes>"
            ]
          },
          "metadata": {
            "tags": [],
            "needs_background": "light"
          }
        }
      ]
    },
    {
      "cell_type": "code",
      "metadata": {
        "id": "7f4remyVK0fL",
        "colab_type": "code",
        "outputId": "35121d7b-cc1b-4093-c2c1-af6b92742220",
        "colab": {
          "base_uri": "https://localhost:8080/",
          "height": 296
        }
      },
      "source": [
        "sns.countplot(x='Dependents',data=df2,palette='rainbow')\n"
      ],
      "execution_count": 0,
      "outputs": [
        {
          "output_type": "execute_result",
          "data": {
            "text/plain": [
              "<matplotlib.axes._subplots.AxesSubplot at 0x7fd2163047b8>"
            ]
          },
          "metadata": {
            "tags": []
          },
          "execution_count": 49
        },
        {
          "output_type": "display_data",
          "data": {
            "image/png": "[encoded data removed]",
            "text/plain": [
              "<Figure size 432x288 with 1 Axes>"
            ]
          },
          "metadata": {
            "tags": [],
            "needs_background": "light"
          }
        }
      ]
    },
    {
      "cell_type": "code",
      "metadata": {
        "id": "yh34sjRtK1VQ",
        "colab_type": "code",
        "outputId": "c08060ca-0116-4cba-d9eb-9bd2b9ad2e18",
        "colab": {
          "base_uri": "https://localhost:8080/",
          "height": 299
        }
      },
      "source": [
        "sns.countplot(x='Education',data=df2)\n"
      ],
      "execution_count": 0,
      "outputs": [
        {
          "output_type": "execute_result",
          "data": {
            "text/plain": [
              "<matplotlib.axes._subplots.AxesSubplot at 0x7fd216ca5fd0>"
            ]
          },
          "metadata": {
            "tags": []
          },
          "execution_count": 40
        },
        {
          "output_type": "display_data",
          "data": {
            "image/png": "[encoded data removed]",
            "text/plain": [
              "<Figure size 432x288 with 1 Axes>"
            ]
          },
          "metadata": {
            "tags": [],
            "needs_background": "light"
          }
        }
      ]
    },
    {
      "cell_type": "code",
      "metadata": {
        "id": "kqE1JhfrK2Ve",
        "colab_type": "code",
        "outputId": "7589dfe3-92f7-4bc5-8ec1-62a798d105a7",
        "colab": {
          "base_uri": "https://localhost:8080/",
          "height": 297
        }
      },
      "source": [
        "sns.countplot(x='Self_Employed',data=df2,palette='RdBu_r')\n"
      ],
      "execution_count": 0,
      "outputs": [
        {
          "output_type": "execute_result",
          "data": {
            "text/plain": [
              "<matplotlib.axes._subplots.AxesSubplot at 0x7fd21639b390>"
            ]
          },
          "metadata": {
            "tags": []
          },
          "execution_count": 48
        },
        {
          "output_type": "display_data",
          "data": {
            "image/png": "[encoded data removed]",
            "text/plain": [
              "<Figure size 432x288 with 1 Axes>"
            ]
          },
          "metadata": {
            "tags": [],
            "needs_background": "light"
          }
        }
      ]
    },
    {
      "cell_type": "code",
      "metadata": {
        "id": "O9gw4pt0LQ8i",
        "colab_type": "code",
        "outputId": "4efbfc84-3e19-4b20-b8fb-24306d040cd2",
        "colab": {
          "base_uri": "https://localhost:8080/",
          "height": 297
        }
      },
      "source": [
        "sns.countplot(x='Property_Area',data=df2,palette='rainbow')\n"
      ],
      "execution_count": 0,
      "outputs": [
        {
          "output_type": "execute_result",
          "data": {
            "text/plain": [
              "<matplotlib.axes._subplots.AxesSubplot at 0x7fd2163d9748>"
            ]
          },
          "metadata": {
            "tags": []
          },
          "execution_count": 46
        },
        {
          "output_type": "display_data",
          "data": {
            "image/png": "[encoded data removed]",
            "text/plain": [
              "<Figure size 432x288 with 1 Axes>"
            ]
          },
          "metadata": {
            "tags": [],
            "needs_background": "light"
          }
        }
      ]
    },
    {
      "cell_type": "markdown",
      "metadata": {
        "id": "5tRWZITkNHhw",
        "colab_type": "text"
      },
      "source": [
        "PROBLEM#4:Perform bivariate analysis among al independent variables .Draw appropriate plots,mention observations.\n",
        "\n",
        "Dependent Variable- Loan Status,Loan_amount_term,loan_amount\n",
        "IndependentVariables- Gender,Married,Dependents,Education,SelfEmployed,ApplicantIncome,CoApplicantIncome,CreditHistory,PropertyArea"
      ]
    },
    {
      "cell_type": "code",
      "metadata": {
        "id": "VqPvL9lWMnAD",
        "colab_type": "code",
        "colab": {
          "base_uri": "https://localhost:8080/",
          "height": 458
        },
        "outputId": "4c773bd2-c093-456c-8350-0c1ac7b52d02"
      },
      "source": [
        "fn = sns.FacetGrid(df,col='Married',row='Gender',height=3, aspect=1)\n",
        "fn = fn.map(plt.hist,\"ApplicantIncome\")\n",
        "fn.set_xlabels('Married')\n",
        "fn.set_ylabels('ApplicantIncome')"
      ],
      "execution_count": 128,
      "outputs": [
        {
          "output_type": "execute_result",
          "data": {
            "text/plain": [
              "<seaborn.axisgrid.FacetGrid at 0x7f528575b278>"
            ]
          },
          "metadata": {
            "tags": []
          },
          "execution_count": 128
        },
        {
          "output_type": "display_data",
          "data": {
            "image/png": "[encoded data removed]",
            "text/plain": [
              "<Figure size 648x432 with 6 Axes>"
            ]
          },
          "metadata": {
            "tags": [],
            "needs_background": "light"
          }
        }
      ]
    },
    {
      "cell_type": "code",
      "metadata": {
        "id": "JGdlDfqxiP1f",
        "colab_type": "code",
        "colab": {
          "base_uri": "https://localhost:8080/",
          "height": 458
        },
        "outputId": "0e993400-fc5b-4dfc-f610-bb14008e6e3c"
      },
      "source": [
        "fn = sns.FacetGrid(df,col='Dependents',row='Education',height=3, aspect=1)\n",
        "fn = fn.map(plt.hist,\"ApplicantIncome\")\n",
        "fn.set_xlabels('Married')\n",
        "fn.set_ylabels('ApplicantIncome')"
      ],
      "execution_count": 129,
      "outputs": [
        {
          "output_type": "execute_result",
          "data": {
            "text/plain": [
              "<seaborn.axisgrid.FacetGrid at 0x7f5285575f98>"
            ]
          },
          "metadata": {
            "tags": []
          },
          "execution_count": 129
        },
        {
          "output_type": "display_data",
          "data": {
            "image/png": "[encoded data removed]",
            "text/plain": [
              "<Figure size 1080x432 with 10 Axes>"
            ]
          },
          "metadata": {
            "tags": [],
            "needs_background": "light"
          }
        }
      ]
    },
    {
      "cell_type": "code",
      "metadata": {
        "id": "TDzczHpkiaj_",
        "colab_type": "code",
        "colab": {
          "base_uri": "https://localhost:8080/",
          "height": 674
        },
        "outputId": "45092b1a-21f5-4dd0-f14e-3bbe5b528e5e"
      },
      "source": [
        "fn = sns.FacetGrid(df,col='Self_Employed',row='Property_Area',height=3, aspect=1)\n",
        "fn = fn.map(plt.hist,\"ApplicantIncome\")\n",
        "fn.set_xlabels('Married')\n",
        "fn.set_ylabels('ApplicantIncome')"
      ],
      "execution_count": 130,
      "outputs": [
        {
          "output_type": "execute_result",
          "data": {
            "text/plain": [
              "<seaborn.axisgrid.FacetGrid at 0x7f5285787278>"
            ]
          },
          "metadata": {
            "tags": []
          },
          "execution_count": 130
        },
        {
          "output_type": "display_data",
          "data": {
            "image/png": "[encoded data removed]",
            "text/plain": [
              "<Figure size 648x648 with 9 Axes>"
            ]
          },
          "metadata": {
            "tags": [],
            "needs_background": "light"
          }
        }
      ]
    },
    {
      "cell_type": "markdown",
      "metadata": {
        "id": "SqlQRKkZOeTv",
        "colab_type": "text"
      },
      "source": [
        "Problem #5 Perform Bi-variate Analysis between Target Variable and each Independent variable. Use suitable plot , mention observations,trends etc"
      ]
    },
    {
      "cell_type": "code",
      "metadata": {
        "id": "6DHlS1UxOK7F",
        "colab_type": "code",
        "outputId": "7f6285fd-bd75-4de1-9ff2-bea73a00435c",
        "colab": {
          "base_uri": "https://localhost:8080/",
          "height": 297
        }
      },
      "source": [
        "df.plot.scatter(x='Loan_Status',y='ApplicantIncome')"
      ],
      "execution_count": 38,
      "outputs": [
        {
          "output_type": "execute_result",
          "data": {
            "text/plain": [
              "<matplotlib.axes._subplots.AxesSubplot at 0x7f528ad16080>"
            ]
          },
          "metadata": {
            "tags": []
          },
          "execution_count": 38
        },
        {
          "output_type": "display_data",
          "data": {
            "image/png": "[encoded data removed]",
            "text/plain": [
              "<Figure size 432x288 with 1 Axes>"
            ]
          },
          "metadata": {
            "tags": [],
            "needs_background": "light"
          }
        }
      ]
    },
    {
      "cell_type": "code",
      "metadata": {
        "id": "AP8JFNK_O5lE",
        "colab_type": "code",
        "outputId": "23b6a66b-7950-416d-a3b1-c20cb565a3fc",
        "colab": {
          "base_uri": "https://localhost:8080/",
          "height": 297
        }
      },
      "source": [
        "df.plot.scatter(x='Loan_Status',y='CoapplicantIncome')"
      ],
      "execution_count": 39,
      "outputs": [
        {
          "output_type": "execute_result",
          "data": {
            "text/plain": [
              "<matplotlib.axes._subplots.AxesSubplot at 0x7f528ad66b00>"
            ]
          },
          "metadata": {
            "tags": []
          },
          "execution_count": 39
        },
        {
          "output_type": "display_data",
          "data": {
            "image/png": "[encoded data removed]",
            "text/plain": [
              "<Figure size 432x288 with 1 Axes>"
            ]
          },
          "metadata": {
            "tags": [],
            "needs_background": "light"
          }
        }
      ]
    },
    {
      "cell_type": "code",
      "metadata": {
        "id": "EGc3HmKtPTC3",
        "colab_type": "code",
        "outputId": "59f80c55-4108-46d9-d7c8-e428b4e51fc3",
        "colab": {
          "base_uri": "https://localhost:8080/",
          "height": 297
        }
      },
      "source": [
        "df.plot.scatter(x='Loan_Status',y='Property_Area')"
      ],
      "execution_count": 40,
      "outputs": [
        {
          "output_type": "execute_result",
          "data": {
            "text/plain": [
              "<matplotlib.axes._subplots.AxesSubplot at 0x7f52884486d8>"
            ]
          },
          "metadata": {
            "tags": []
          },
          "execution_count": 40
        },
        {
          "output_type": "display_data",
          "data": {
            "image/png": "[encoded data removed]",
            "text/plain": [
              "<Figure size 432x288 with 1 Axes>"
            ]
          },
          "metadata": {
            "tags": [],
            "needs_background": "light"
          }
        }
      ]
    },
    {
      "cell_type": "code",
      "metadata": {
        "id": "ljiYWeMaPr2A",
        "colab_type": "code",
        "outputId": "2332b34b-d1bb-49b3-f72c-10a092895b0d",
        "colab": {
          "base_uri": "https://localhost:8080/",
          "height": 297
        }
      },
      "source": [
        "df.plot.scatter(x='Loan_Status',y='Credit_History')"
      ],
      "execution_count": 41,
      "outputs": [
        {
          "output_type": "execute_result",
          "data": {
            "text/plain": [
              "<matplotlib.axes._subplots.AxesSubplot at 0x7f5288474828>"
            ]
          },
          "metadata": {
            "tags": []
          },
          "execution_count": 41
        },
        {
          "output_type": "display_data",
          "data": {
            "image/png": "[encoded data removed]",
            "text/plain": [
              "<Figure size 432x288 with 1 Axes>"
            ]
          },
          "metadata": {
            "tags": [],
            "needs_background": "light"
          }
        }
      ]
    },
    {
      "cell_type": "markdown",
      "metadata": {
        "id": "aUUWzPsuQf1Y",
        "colab_type": "text"
      },
      "source": [
        "Problem 6 How is the class distribution (Y/N) in Label(Target) Variable ?"
      ]
    },
    {
      "cell_type": "code",
      "metadata": {
        "id": "qiJ10Nk7QH4E",
        "colab_type": "code",
        "outputId": "0b80a9f7-4579-4044-bfae-6810ffb06707",
        "colab": {
          "base_uri": "https://localhost:8080/",
          "height": 137
        }
      },
      "source": [
        "df3=df2.groupby('Loan_Status').count()\n",
        "df3"
      ],
      "execution_count": 42,
      "outputs": [
        {
          "output_type": "execute_result",
          "data": {
            "text/html": [
              "<div>\n",
              "<style scoped>\n",
              "    .dataframe tbody tr th:only-of-type {\n",
              "        vertical-align: middle;\n",
              "    }\n",
              "\n",
              "    .dataframe tbody tr th {\n",
              "        vertical-align: top;\n",
              "    }\n",
              "\n",
              "    .dataframe thead th {\n",
              "        text-align: right;\n",
              "    }\n",
              "</style>\n",
              "<table border=\"1\" class=\"dataframe\">\n",
              "  <thead>\n",
              "    <tr style=\"text-align: right;\">\n",
              "      <th></th>\n",
              "      <th>Gender</th>\n",
              "      <th>Married</th>\n",
              "      <th>Dependents</th>\n",
              "      <th>Education</th>\n",
              "      <th>Self_Employed</th>\n",
              "      <th>ApplicantIncome</th>\n",
              "      <th>CoapplicantIncome</th>\n",
              "      <th>LoanAmount</th>\n",
              "      <th>Loan_Amount_Term</th>\n",
              "      <th>Credit_History</th>\n",
              "      <th>Property_Area</th>\n",
              "    </tr>\n",
              "    <tr>\n",
              "      <th>Loan_Status</th>\n",
              "      <th></th>\n",
              "      <th></th>\n",
              "      <th></th>\n",
              "      <th></th>\n",
              "      <th></th>\n",
              "      <th></th>\n",
              "      <th></th>\n",
              "      <th></th>\n",
              "      <th></th>\n",
              "      <th></th>\n",
              "      <th></th>\n",
              "    </tr>\n",
              "  </thead>\n",
              "  <tbody>\n",
              "    <tr>\n",
              "      <th>N</th>\n",
              "      <td>187</td>\n",
              "      <td>192</td>\n",
              "      <td>186</td>\n",
              "      <td>192</td>\n",
              "      <td>183</td>\n",
              "      <td>192</td>\n",
              "      <td>192</td>\n",
              "      <td>181</td>\n",
              "      <td>186</td>\n",
              "      <td>179</td>\n",
              "      <td>192</td>\n",
              "    </tr>\n",
              "    <tr>\n",
              "      <th>Y</th>\n",
              "      <td>414</td>\n",
              "      <td>419</td>\n",
              "      <td>413</td>\n",
              "      <td>422</td>\n",
              "      <td>399</td>\n",
              "      <td>422</td>\n",
              "      <td>422</td>\n",
              "      <td>411</td>\n",
              "      <td>414</td>\n",
              "      <td>385</td>\n",
              "      <td>422</td>\n",
              "    </tr>\n",
              "  </tbody>\n",
              "</table>\n",
              "</div>"
            ],
            "text/plain": [
              "             Gender  Married  ...  Credit_History  Property_Area\n",
              "Loan_Status                   ...                               \n",
              "N               187      192  ...             179            192\n",
              "Y               414      419  ...             385            422\n",
              "\n",
              "[2 rows x 11 columns]"
            ]
          },
          "metadata": {
            "tags": []
          },
          "execution_count": 42
        }
      ]
    },
    {
      "cell_type": "code",
      "metadata": {
        "id": "xx6dWR4qQ8ND",
        "colab_type": "code",
        "outputId": "7d9cdd20-75f3-4c1b-fd22-7a5ba4667abb",
        "colab": {
          "base_uri": "https://localhost:8080/",
          "height": 622
        }
      },
      "source": [
        "df3.plot.bar(figsize=(10,10))"
      ],
      "execution_count": 43,
      "outputs": [
        {
          "output_type": "execute_result",
          "data": {
            "text/plain": [
              "<matplotlib.axes._subplots.AxesSubplot at 0x7f528acf7fd0>"
            ]
          },
          "metadata": {
            "tags": []
          },
          "execution_count": 43
        },
        {
          "output_type": "display_data",
          "data": {
            "image/png": "[encoded data removed]",
            "text/plain": [
              "<Figure size 720x720 with 1 Axes>"
            ]
          },
          "metadata": {
            "tags": [],
            "needs_background": "light"
          }
        }
      ]
    },
    {
      "cell_type": "markdown",
      "metadata": {
        "id": "hqi7WJy5S2de",
        "colab_type": "text"
      },
      "source": [
        "Problem #7 Identify the Independent Variables that have missing values"
      ]
    },
    {
      "cell_type": "code",
      "metadata": {
        "id": "cWhzWzomS0vP",
        "colab_type": "code",
        "outputId": "72212fec-45d1-4158-bd66-59669eecb6f3",
        "colab": {
          "base_uri": "https://localhost:8080/",
          "height": 194
        }
      },
      "source": [
        "#create a dataset of independent variables as df3\n",
        "df3=df2.drop(['Loan_Status','Loan_Amount_Term','LoanAmount'],axis=1)\n",
        "df3.isnull().sum()"
      ],
      "execution_count": 44,
      "outputs": [
        {
          "output_type": "execute_result",
          "data": {
            "text/plain": [
              "Gender               13\n",
              "Married               3\n",
              "Dependents           15\n",
              "Education             0\n",
              "Self_Employed        32\n",
              "ApplicantIncome       0\n",
              "CoapplicantIncome     0\n",
              "Credit_History       50\n",
              "Property_Area         0\n",
              "dtype: int64"
            ]
          },
          "metadata": {
            "tags": []
          },
          "execution_count": 44
        }
      ]
    },
    {
      "cell_type": "markdown",
      "metadata": {
        "id": "VHQEfjk5VhXY",
        "colab_type": "text"
      },
      "source": [
        "From summary of null values we have observed here Gender,Married,dependent,Self_Employed,credit_History having null values.Now we here fill thises valueswith the median of the data values of particular columns"
      ]
    },
    {
      "cell_type": "markdown",
      "metadata": {
        "id": "2kqHj5tef6EA",
        "colab_type": "text"
      },
      "source": [
        "Problem #8 Handle missing values appropriately , explain the technique applied for each case"
      ]
    },
    {
      "cell_type": "code",
      "metadata": {
        "id": "zGpQczVteQNO",
        "colab_type": "code",
        "colab": {}
      },
      "source": [
        "df['Gender']=df.Gender.fillna(df[\"Gender\"].value_counts().nlargest(n=1).index[0])\n",
        "df = df.fillna(0)\n",
        "for col in df.columns:\n",
        "  missingPercent = np.mean(df[col].isnull())\n",
        "  if round(missingPercent*100) >0:\n",
        "    missingValues = df[col].isnull().sum().sum()"
      ],
      "execution_count": 0,
      "outputs": []
    },
    {
      "cell_type": "markdown",
      "metadata": {
        "id": "2qnBhQKJGe58",
        "colab_type": "text"
      },
      "source": [
        "9 Identify the Outliers in each Independent Variable.Distribute the data in each field using Quartile bins (0-25%,25%-50%,50%-75%,75%-100% iles)"
      ]
    },
    {
      "cell_type": "code",
      "metadata": {
        "id": "5-6tfml_GeRk",
        "colab_type": "code",
        "colab": {
          "base_uri": "https://localhost:8080/",
          "height": 372
        },
        "outputId": "960c8daf-e85d-4009-a60f-2f542442a44f"
      },
      "source": [
        "print(\"0 to 25% \\n\",df3.quantile(0)) \n",
        "print(\"25% to 50%\\n\",df3.quantile(0.25))\n",
        "print(\"50% to 75%\\n\",df3.quantile(0.50)) \n",
        "print(\"75% t0 100%\\n\",df3.quantile(0.75))"
      ],
      "execution_count": 49,
      "outputs": [
        {
          "output_type": "stream",
          "text": [
            "0 to 25% \n",
            " ApplicantIncome      150.0\n",
            "CoapplicantIncome      0.0\n",
            "Credit_History         0.0\n",
            "Name: 0, dtype: float64\n",
            "25% to 50%\n",
            " ApplicantIncome      2877.5\n",
            "CoapplicantIncome       0.0\n",
            "Credit_History          1.0\n",
            "Name: 0.25, dtype: float64\n",
            "50% to 75%\n",
            " ApplicantIncome      3812.5\n",
            "CoapplicantIncome    1188.5\n",
            "Credit_History          1.0\n",
            "Name: 0.5, dtype: float64\n",
            "75% t0 100%\n",
            " ApplicantIncome      5795.00\n",
            "CoapplicantIncome    2297.25\n",
            "Credit_History          1.00\n",
            "Name: 0.75, dtype: float64\n"
          ],
          "name": "stdout"
        }
      ]
    },
    {
      "cell_type": "markdown",
      "metadata": {
        "id": "yi_TX1YhHS4G",
        "colab_type": "text"
      },
      "source": [
        "10 Use Box-Plot chart to represent the Outliers for each Independent Variable"
      ]
    },
    {
      "cell_type": "code",
      "metadata": {
        "id": "ECuGx-_FHHWO",
        "colab_type": "code",
        "colab": {
          "base_uri": "https://localhost:8080/",
          "height": 270
        },
        "outputId": "f3c04af6-7efc-4b0a-a0cd-112b552eed25"
      },
      "source": [
        "sns.boxplot(y=df3['ApplicantIncome'],palette='rainbow')\n",
        "#ApplicantIncome contains more outliners as can seen by the below box graph"
      ],
      "execution_count": 53,
      "outputs": [
        {
          "output_type": "execute_result",
          "data": {
            "text/plain": [
              "<matplotlib.axes._subplots.AxesSubplot at 0x7f52881439b0>"
            ]
          },
          "metadata": {
            "tags": []
          },
          "execution_count": 53
        },
        {
          "output_type": "display_data",
          "data": {
            "image/png": "[encoded data removed]",
            "text/plain": [
              "<Figure size 432x288 with 1 Axes>"
            ]
          },
          "metadata": {
            "tags": [],
            "needs_background": "light"
          }
        }
      ]
    },
    {
      "cell_type": "code",
      "metadata": {
        "id": "Nyrq_ueSH553",
        "colab_type": "code",
        "colab": {
          "base_uri": "https://localhost:8080/",
          "height": 270
        },
        "outputId": "5f796858-cdd1-4ace-c232-95e4d9382aef"
      },
      "source": [
        "sns.boxplot(y=df3['CoapplicantIncome'],palette='rainbow')\n",
        "# CoapplicantIncome contains some outliners"
      ],
      "execution_count": 56,
      "outputs": [
        {
          "output_type": "execute_result",
          "data": {
            "text/plain": [
              "<matplotlib.axes._subplots.AxesSubplot at 0x7f5288126908>"
            ]
          },
          "metadata": {
            "tags": []
          },
          "execution_count": 56
        },
        {
          "output_type": "display_data",
          "data": {
            "image/png": "[encoded data removed]",
            "text/plain": [
              "<Figure size 432x288 with 1 Axes>"
            ]
          },
          "metadata": {
            "tags": [],
            "needs_background": "light"
          }
        }
      ]
    },
    {
      "cell_type": "code",
      "metadata": {
        "id": "exhWVkWiIJRP",
        "colab_type": "code",
        "colab": {
          "base_uri": "https://localhost:8080/",
          "height": 270
        },
        "outputId": "37b9a01a-3a02-45b4-f361-2a101c9b252b"
      },
      "source": [
        "sns.boxplot(y=df['LoanAmount'],palette='rainbow')\n",
        "# In LoanAmount there are many outliers can be seen."
      ],
      "execution_count": 68,
      "outputs": [
        {
          "output_type": "execute_result",
          "data": {
            "text/plain": [
              "<matplotlib.axes._subplots.AxesSubplot at 0x7f5287e7e400>"
            ]
          },
          "metadata": {
            "tags": []
          },
          "execution_count": 68
        },
        {
          "output_type": "display_data",
          "data": {
            "image/png": "[encoded data removed]",
            "text/plain": [
              "<Figure size 432x288 with 1 Axes>"
            ]
          },
          "metadata": {
            "tags": [],
            "needs_background": "light"
          }
        }
      ]
    },
    {
      "cell_type": "code",
      "metadata": {
        "id": "bSlx4mbaJjY8",
        "colab_type": "code",
        "colab": {
          "base_uri": "https://localhost:8080/",
          "height": 272
        },
        "outputId": "a5da66c5-ffbb-458b-dda6-dbc01d174dbd"
      },
      "source": [
        "sns.boxplot(y=df['Loan_Amount_Term'],palette='RdBu_r')\n",
        "#Loan_Amount_Term has one outliner"
      ],
      "execution_count": 67,
      "outputs": [
        {
          "output_type": "execute_result",
          "data": {
            "text/plain": [
              "<matplotlib.axes._subplots.AxesSubplot at 0x7f5287f2ffd0>"
            ]
          },
          "metadata": {
            "tags": []
          },
          "execution_count": 67
        },
        {
          "output_type": "display_data",
          "data": {
            "image/png": "[encoded data removed]",
            "text/plain": [
              "<Figure size 432x288 with 1 Axes>"
            ]
          },
          "metadata": {
            "tags": [],
            "needs_background": "light"
          }
        }
      ]
    },
    {
      "cell_type": "markdown",
      "metadata": {
        "id": "eC1hlVu_KJhi",
        "colab_type": "text"
      },
      "source": [
        "11 Perform treatment of these Outliers using appropriate techniqies.Explain your approach."
      ]
    },
    {
      "cell_type": "code",
      "metadata": {
        "id": "LXvaZgJQKFL2",
        "colab_type": "code",
        "colab": {
          "base_uri": "https://localhost:8080/",
          "height": 194
        },
        "outputId": "63736c38-19a8-48ff-acdf-8e067e80180d"
      },
      "source": [
        "print(df['ApplicantIncome'].quantile(0.1))\n",
        "print(df['ApplicantIncome'].quantile(0.90))\n",
        "df[\"ApplicantIncome\"] = np.where(df[\"ApplicantIncome\"] <int(df['ApplicantIncome'].quantile(0.1)), int(df['ApplicantIncome'].quantile(0.1)),df['ApplicantIncome'])\n",
        "df[\"ApplicantIncome\"] = np.where(df[\"ApplicantIncome\"] >int(df['ApplicantIncome'].quantile(0.9)), int(df['ApplicantIncome'].quantile(0.9)),df['ApplicantIncome'])\n",
        "for i in ['ApplicantIncome', 'CoapplicantIncome', 'LoanAmount', 'Loan_Amount_Term']:\n",
        "  print(df[i].quantile(0.1))\n",
        "  print(df[i].quantile(0.90))\n",
        "  # print(df.skew())\n",
        "  df[i] = np.where(df[i] <int(df[i].quantile(0.1)), int(df[i].quantile(0.1)),df[i])\n",
        "  df[i] = np.where(df[i] >int(df[i].quantile(0.9)), int(df[i].quantile(0.9)),df[i])"
      ],
      "execution_count": 133,
      "outputs": [
        {
          "output_type": "stream",
          "text": [
            "2216.1000000000004\n",
            "9459.900000000007\n",
            "2217.5\n",
            "9428.400000000005\n",
            "0.0\n",
            "3782.200000000002\n",
            "63.60000000000001\n",
            "229.4000000000001\n",
            "180.0\n",
            "360.0\n"
          ],
          "name": "stdout"
        }
      ]
    },
    {
      "cell_type": "markdown",
      "metadata": {
        "id": "jjwoemBaKMVa",
        "colab_type": "text"
      },
      "source": [
        "Step-1\n",
        "\n",
        "Perform Label Encoding on Target Variable (Loan_Status)."
      ]
    },
    {
      "cell_type": "code",
      "metadata": {
        "id": "TqK9Ke5rKWU-",
        "colab_type": "code",
        "colab": {
          "base_uri": "https://localhost:8080/",
          "height": 197
        },
        "outputId": "041745d0-e5df-4f5d-c5f8-0764f0226acc"
      },
      "source": [
        "from sklearn.preprocessing import LabelEncoder\n",
        "from sklearn.preprocessing import OneHotEncoder\n",
        "from sklearn.preprocessing import LabelBinarizer,MultiLabelBinarizer\n",
        "LE = LabelEncoder()\n",
        "df_enc=df.copy()\n",
        "df_enc['Loan_Status'] = LE.fit_transform(enc['Loan_Status'])\n",
        "df_enc.head()"
      ],
      "execution_count": 86,
      "outputs": [
        {
          "output_type": "execute_result",
          "data": {
            "text/html": [
              "<div>\n",
              "<style scoped>\n",
              "    .dataframe tbody tr th:only-of-type {\n",
              "        vertical-align: middle;\n",
              "    }\n",
              "\n",
              "    .dataframe tbody tr th {\n",
              "        vertical-align: top;\n",
              "    }\n",
              "\n",
              "    .dataframe thead th {\n",
              "        text-align: right;\n",
              "    }\n",
              "</style>\n",
              "<table border=\"1\" class=\"dataframe\">\n",
              "  <thead>\n",
              "    <tr style=\"text-align: right;\">\n",
              "      <th></th>\n",
              "      <th>Loan_ID</th>\n",
              "      <th>Gender</th>\n",
              "      <th>Married</th>\n",
              "      <th>Dependents</th>\n",
              "      <th>Education</th>\n",
              "      <th>Self_Employed</th>\n",
              "      <th>ApplicantIncome</th>\n",
              "      <th>CoapplicantIncome</th>\n",
              "      <th>LoanAmount</th>\n",
              "      <th>Loan_Amount_Term</th>\n",
              "      <th>Credit_History</th>\n",
              "      <th>Property_Area</th>\n",
              "      <th>Loan_Status</th>\n",
              "    </tr>\n",
              "  </thead>\n",
              "  <tbody>\n",
              "    <tr>\n",
              "      <th>0</th>\n",
              "      <td>LP001002</td>\n",
              "      <td>Male</td>\n",
              "      <td>No</td>\n",
              "      <td>0</td>\n",
              "      <td>Graduate</td>\n",
              "      <td>No</td>\n",
              "      <td>5849</td>\n",
              "      <td>0.0</td>\n",
              "      <td>NaN</td>\n",
              "      <td>360.0</td>\n",
              "      <td>1.0</td>\n",
              "      <td>Urban</td>\n",
              "      <td>1</td>\n",
              "    </tr>\n",
              "    <tr>\n",
              "      <th>1</th>\n",
              "      <td>LP001003</td>\n",
              "      <td>Male</td>\n",
              "      <td>Yes</td>\n",
              "      <td>1</td>\n",
              "      <td>Graduate</td>\n",
              "      <td>No</td>\n",
              "      <td>4583</td>\n",
              "      <td>1508.0</td>\n",
              "      <td>128.0</td>\n",
              "      <td>360.0</td>\n",
              "      <td>1.0</td>\n",
              "      <td>Rural</td>\n",
              "      <td>0</td>\n",
              "    </tr>\n",
              "    <tr>\n",
              "      <th>2</th>\n",
              "      <td>LP001005</td>\n",
              "      <td>Male</td>\n",
              "      <td>Yes</td>\n",
              "      <td>0</td>\n",
              "      <td>Graduate</td>\n",
              "      <td>Yes</td>\n",
              "      <td>3000</td>\n",
              "      <td>0.0</td>\n",
              "      <td>66.0</td>\n",
              "      <td>360.0</td>\n",
              "      <td>1.0</td>\n",
              "      <td>Urban</td>\n",
              "      <td>1</td>\n",
              "    </tr>\n",
              "    <tr>\n",
              "      <th>3</th>\n",
              "      <td>LP001006</td>\n",
              "      <td>Male</td>\n",
              "      <td>Yes</td>\n",
              "      <td>0</td>\n",
              "      <td>Not Graduate</td>\n",
              "      <td>No</td>\n",
              "      <td>2583</td>\n",
              "      <td>2358.0</td>\n",
              "      <td>120.0</td>\n",
              "      <td>360.0</td>\n",
              "      <td>1.0</td>\n",
              "      <td>Urban</td>\n",
              "      <td>1</td>\n",
              "    </tr>\n",
              "    <tr>\n",
              "      <th>4</th>\n",
              "      <td>LP001008</td>\n",
              "      <td>Male</td>\n",
              "      <td>No</td>\n",
              "      <td>0</td>\n",
              "      <td>Graduate</td>\n",
              "      <td>No</td>\n",
              "      <td>6000</td>\n",
              "      <td>0.0</td>\n",
              "      <td>141.0</td>\n",
              "      <td>360.0</td>\n",
              "      <td>1.0</td>\n",
              "      <td>Urban</td>\n",
              "      <td>1</td>\n",
              "    </tr>\n",
              "  </tbody>\n",
              "</table>\n",
              "</div>"
            ],
            "text/plain": [
              "    Loan_ID Gender Married  ... Credit_History Property_Area Loan_Status\n",
              "0  LP001002   Male      No  ...            1.0         Urban           1\n",
              "1  LP001003   Male     Yes  ...            1.0         Rural           0\n",
              "2  LP001005   Male     Yes  ...            1.0         Urban           1\n",
              "3  LP001006   Male     Yes  ...            1.0         Urban           1\n",
              "4  LP001008   Male      No  ...            1.0         Urban           1\n",
              "\n",
              "[5 rows x 13 columns]"
            ]
          },
          "metadata": {
            "tags": []
          },
          "execution_count": 86
        }
      ]
    },
    {
      "cell_type": "markdown",
      "metadata": {
        "id": "E4e9d2gtK0I2",
        "colab_type": "text"
      },
      "source": [
        "Step-2\n",
        "\n",
        "1 Perform Label Encoding on Categorical Independent Variables.\n",
        "\n"
      ]
    },
    {
      "cell_type": "code",
      "metadata": {
        "id": "FR8TqL90MSei",
        "colab_type": "code",
        "colab": {
          "base_uri": "https://localhost:8080/",
          "height": 340
        },
        "outputId": "e3115651-3f03-4ff6-ecb3-a2dae5e5f5fb"
      },
      "source": [
        "from sklearn.preprocessing import OneHotEncoder \n",
        "df4=df.drop(['Loan_Status','Loan_ID','LoanAmount','Loan_Amount_Term','ApplicantIncome','CoapplicantIncome'],axis=1)\n",
        "dfEnc = df.copy()\n",
        "dfEnc['Self_Employed'].replace({0:\"No\"},inplace=True)\n",
        "dfEnc['Married'].replace({0:\"No\"},inplace=True)\n",
        "dfEnc['Dependents'].replace({\"3+\":'3',0:'0'},inplace=True)\n",
        "for i in categoricalColumns:\n",
        "  print(i)\n",
        "  dfEnc[i+\"_enc\"] = LE.fit_transform(dfEnc[i])\n",
        "  dfEnc = dfEnc.drop(i,axis=1)\n",
        "dfEnc.head()"
      ],
      "execution_count": 109,
      "outputs": [
        {
          "output_type": "stream",
          "text": [
            "Gender\n",
            "Married\n",
            "Dependents\n",
            "Education\n",
            "Self_Employed\n",
            "Credit_History\n",
            "Property_Area\n",
            "Loan_Status\n"
          ],
          "name": "stdout"
        },
        {
          "output_type": "execute_result",
          "data": {
            "text/html": [
              "<div>\n",
              "<style scoped>\n",
              "    .dataframe tbody tr th:only-of-type {\n",
              "        vertical-align: middle;\n",
              "    }\n",
              "\n",
              "    .dataframe tbody tr th {\n",
              "        vertical-align: top;\n",
              "    }\n",
              "\n",
              "    .dataframe thead th {\n",
              "        text-align: right;\n",
              "    }\n",
              "</style>\n",
              "<table border=\"1\" class=\"dataframe\">\n",
              "  <thead>\n",
              "    <tr style=\"text-align: right;\">\n",
              "      <th></th>\n",
              "      <th>Loan_ID</th>\n",
              "      <th>ApplicantIncome</th>\n",
              "      <th>CoapplicantIncome</th>\n",
              "      <th>LoanAmount</th>\n",
              "      <th>Loan_Amount_Term</th>\n",
              "      <th>Gender_enc</th>\n",
              "      <th>Married_enc</th>\n",
              "      <th>Dependents_enc</th>\n",
              "      <th>Education_enc</th>\n",
              "      <th>Self_Employed_enc</th>\n",
              "      <th>Credit_History_enc</th>\n",
              "      <th>Property_Area_enc</th>\n",
              "      <th>Loan_Status_enc</th>\n",
              "    </tr>\n",
              "  </thead>\n",
              "  <tbody>\n",
              "    <tr>\n",
              "      <th>0</th>\n",
              "      <td>LP001002</td>\n",
              "      <td>5849</td>\n",
              "      <td>0.0</td>\n",
              "      <td>0.0</td>\n",
              "      <td>360.0</td>\n",
              "      <td>1</td>\n",
              "      <td>0</td>\n",
              "      <td>0</td>\n",
              "      <td>0</td>\n",
              "      <td>0</td>\n",
              "      <td>1</td>\n",
              "      <td>2</td>\n",
              "      <td>1</td>\n",
              "    </tr>\n",
              "    <tr>\n",
              "      <th>1</th>\n",
              "      <td>LP001003</td>\n",
              "      <td>4583</td>\n",
              "      <td>1508.0</td>\n",
              "      <td>128.0</td>\n",
              "      <td>360.0</td>\n",
              "      <td>1</td>\n",
              "      <td>1</td>\n",
              "      <td>1</td>\n",
              "      <td>0</td>\n",
              "      <td>0</td>\n",
              "      <td>1</td>\n",
              "      <td>0</td>\n",
              "      <td>0</td>\n",
              "    </tr>\n",
              "    <tr>\n",
              "      <th>2</th>\n",
              "      <td>LP001005</td>\n",
              "      <td>3000</td>\n",
              "      <td>0.0</td>\n",
              "      <td>66.0</td>\n",
              "      <td>360.0</td>\n",
              "      <td>1</td>\n",
              "      <td>1</td>\n",
              "      <td>0</td>\n",
              "      <td>0</td>\n",
              "      <td>1</td>\n",
              "      <td>1</td>\n",
              "      <td>2</td>\n",
              "      <td>1</td>\n",
              "    </tr>\n",
              "    <tr>\n",
              "      <th>3</th>\n",
              "      <td>LP001006</td>\n",
              "      <td>2583</td>\n",
              "      <td>2358.0</td>\n",
              "      <td>120.0</td>\n",
              "      <td>360.0</td>\n",
              "      <td>1</td>\n",
              "      <td>1</td>\n",
              "      <td>0</td>\n",
              "      <td>1</td>\n",
              "      <td>0</td>\n",
              "      <td>1</td>\n",
              "      <td>2</td>\n",
              "      <td>1</td>\n",
              "    </tr>\n",
              "    <tr>\n",
              "      <th>4</th>\n",
              "      <td>LP001008</td>\n",
              "      <td>6000</td>\n",
              "      <td>0.0</td>\n",
              "      <td>141.0</td>\n",
              "      <td>360.0</td>\n",
              "      <td>1</td>\n",
              "      <td>0</td>\n",
              "      <td>0</td>\n",
              "      <td>0</td>\n",
              "      <td>0</td>\n",
              "      <td>1</td>\n",
              "      <td>2</td>\n",
              "      <td>1</td>\n",
              "    </tr>\n",
              "  </tbody>\n",
              "</table>\n",
              "</div>"
            ],
            "text/plain": [
              "    Loan_ID  ApplicantIncome  ...  Property_Area_enc  Loan_Status_enc\n",
              "0  LP001002             5849  ...                  2                1\n",
              "1  LP001003             4583  ...                  0                0\n",
              "2  LP001005             3000  ...                  2                1\n",
              "3  LP001006             2583  ...                  2                1\n",
              "4  LP001008             6000  ...                  2                1\n",
              "\n",
              "[5 rows x 13 columns]"
            ]
          },
          "metadata": {
            "tags": []
          },
          "execution_count": 109
        }
      ]
    },
    {
      "cell_type": "code",
      "metadata": {
        "id": "4nbqNpaHVcbM",
        "colab_type": "code",
        "colab": {
          "base_uri": "https://localhost:8080/",
          "height": 197
        },
        "outputId": "857e5ee2-064f-4148-f77a-04bcaa2df5ce"
      },
      "source": [
        "correlation=dfEnc.corr()\n",
        "correlation.head()"
      ],
      "execution_count": 110,
      "outputs": [
        {
          "output_type": "execute_result",
          "data": {
            "text/html": [
              "<div>\n",
              "<style scoped>\n",
              "    .dataframe tbody tr th:only-of-type {\n",
              "        vertical-align: middle;\n",
              "    }\n",
              "\n",
              "    .dataframe tbody tr th {\n",
              "        vertical-align: top;\n",
              "    }\n",
              "\n",
              "    .dataframe thead th {\n",
              "        text-align: right;\n",
              "    }\n",
              "</style>\n",
              "<table border=\"1\" class=\"dataframe\">\n",
              "  <thead>\n",
              "    <tr style=\"text-align: right;\">\n",
              "      <th></th>\n",
              "      <th>ApplicantIncome</th>\n",
              "      <th>CoapplicantIncome</th>\n",
              "      <th>LoanAmount</th>\n",
              "      <th>Loan_Amount_Term</th>\n",
              "      <th>Gender_enc</th>\n",
              "      <th>Married_enc</th>\n",
              "      <th>Dependents_enc</th>\n",
              "      <th>Education_enc</th>\n",
              "      <th>Self_Employed_enc</th>\n",
              "      <th>Credit_History_enc</th>\n",
              "      <th>Property_Area_enc</th>\n",
              "      <th>Loan_Status_enc</th>\n",
              "    </tr>\n",
              "  </thead>\n",
              "  <tbody>\n",
              "    <tr>\n",
              "      <th>ApplicantIncome</th>\n",
              "      <td>1.000000</td>\n",
              "      <td>-0.116605</td>\n",
              "      <td>0.538290</td>\n",
              "      <td>-0.015645</td>\n",
              "      <td>0.058809</td>\n",
              "      <td>0.050194</td>\n",
              "      <td>0.118202</td>\n",
              "      <td>-0.140760</td>\n",
              "      <td>0.127180</td>\n",
              "      <td>0.006986</td>\n",
              "      <td>-0.009500</td>\n",
              "      <td>-0.004710</td>\n",
              "    </tr>\n",
              "    <tr>\n",
              "      <th>CoapplicantIncome</th>\n",
              "      <td>-0.116605</td>\n",
              "      <td>1.000000</td>\n",
              "      <td>0.190377</td>\n",
              "      <td>-0.050321</td>\n",
              "      <td>0.082912</td>\n",
              "      <td>0.080496</td>\n",
              "      <td>0.030430</td>\n",
              "      <td>-0.062290</td>\n",
              "      <td>-0.016100</td>\n",
              "      <td>-0.058795</td>\n",
              "      <td>0.010522</td>\n",
              "      <td>-0.059187</td>\n",
              "    </tr>\n",
              "    <tr>\n",
              "      <th>LoanAmount</th>\n",
              "      <td>0.538290</td>\n",
              "      <td>0.190377</td>\n",
              "      <td>1.000000</td>\n",
              "      <td>0.058519</td>\n",
              "      <td>0.095586</td>\n",
              "      <td>0.140023</td>\n",
              "      <td>0.156164</td>\n",
              "      <td>-0.173244</td>\n",
              "      <td>0.109154</td>\n",
              "      <td>-0.032711</td>\n",
              "      <td>-0.056932</td>\n",
              "      <td>-0.010631</td>\n",
              "    </tr>\n",
              "    <tr>\n",
              "      <th>Loan_Amount_Term</th>\n",
              "      <td>-0.015645</td>\n",
              "      <td>-0.050321</td>\n",
              "      <td>0.058519</td>\n",
              "      <td>1.000000</td>\n",
              "      <td>-0.049785</td>\n",
              "      <td>-0.079926</td>\n",
              "      <td>-0.035984</td>\n",
              "      <td>-0.108857</td>\n",
              "      <td>-0.029185</td>\n",
              "      <td>0.050145</td>\n",
              "      <td>-0.082139</td>\n",
              "      <td>0.007306</td>\n",
              "    </tr>\n",
              "    <tr>\n",
              "      <th>Gender_enc</th>\n",
              "      <td>0.058809</td>\n",
              "      <td>0.082912</td>\n",
              "      <td>0.095586</td>\n",
              "      <td>-0.049785</td>\n",
              "      <td>1.000000</td>\n",
              "      <td>0.367389</td>\n",
              "      <td>0.172914</td>\n",
              "      <td>0.045364</td>\n",
              "      <td>-0.000525</td>\n",
              "      <td>0.026655</td>\n",
              "      <td>-0.025752</td>\n",
              "      <td>0.017987</td>\n",
              "    </tr>\n",
              "  </tbody>\n",
              "</table>\n",
              "</div>"
            ],
            "text/plain": [
              "                   ApplicantIncome  ...  Loan_Status_enc\n",
              "ApplicantIncome           1.000000  ...        -0.004710\n",
              "CoapplicantIncome        -0.116605  ...        -0.059187\n",
              "LoanAmount                0.538290  ...        -0.010631\n",
              "Loan_Amount_Term         -0.015645  ...         0.007306\n",
              "Gender_enc                0.058809  ...         0.017987\n",
              "\n",
              "[5 rows x 12 columns]"
            ]
          },
          "metadata": {
            "tags": []
          },
          "execution_count": 110
        }
      ]
    },
    {
      "cell_type": "code",
      "metadata": {
        "id": "wSVDz8PWVutF",
        "colab_type": "code",
        "colab": {
          "base_uri": "https://localhost:8080/",
          "height": 624
        },
        "outputId": "98a1d7aa-3beb-427b-f756-3eebe5aa5cd9"
      },
      "source": [
        "mask = np.zeros_like(correlation, dtype=np.bool)\n",
        "mask[np.triu_indices_from(mask)] = True\n",
        "f, ax = plt.subplots(figsize=(11, 9))\n",
        "cmap = sns.diverging_palette(220, 10, as_cmap=True)\n",
        "svm = sns.heatmap(correlation, mask=mask, cmap=cmap, center=0,square=True, linewidths=.5, cbar_kws={\"shrink\": .5})\n",
        "figure = svm.get_figure()\n"
      ],
      "execution_count": 112,
      "outputs": [
        {
          "output_type": "display_data",
          "data": {
            "image/png": "[encoded data removed]",
            "text/plain": [
              "<Figure size 792x648 with 2 Axes>"
            ]
          },
          "metadata": {
            "tags": [],
            "needs_background": "light"
          }
        }
      ]
    },
    {
      "cell_type": "markdown",
      "metadata": {
        "id": "FKhkoupDWGi2",
        "colab_type": "text"
      },
      "source": [
        "step #3 Perform One Hot Encoding on Categorical Independent Variables."
      ]
    },
    {
      "cell_type": "code",
      "metadata": {
        "id": "ItEdujsnXeVA",
        "colab_type": "code",
        "colab": {
          "base_uri": "https://localhost:8080/",
          "height": 197
        },
        "outputId": "3bd75d72-b190-4c04-c632-bb92a56e9ed7"
      },
      "source": [
        "ohe = OneHotEncoder(handle_unknown='ignore')\n",
        "df_ohe=df.copy()\n",
        "df_ohe.head()"
      ],
      "execution_count": 117,
      "outputs": [
        {
          "output_type": "execute_result",
          "data": {
            "text/html": [
              "<div>\n",
              "<style scoped>\n",
              "    .dataframe tbody tr th:only-of-type {\n",
              "        vertical-align: middle;\n",
              "    }\n",
              "\n",
              "    .dataframe tbody tr th {\n",
              "        vertical-align: top;\n",
              "    }\n",
              "\n",
              "    .dataframe thead th {\n",
              "        text-align: right;\n",
              "    }\n",
              "</style>\n",
              "<table border=\"1\" class=\"dataframe\">\n",
              "  <thead>\n",
              "    <tr style=\"text-align: right;\">\n",
              "      <th></th>\n",
              "      <th>Loan_ID</th>\n",
              "      <th>Gender</th>\n",
              "      <th>Married</th>\n",
              "      <th>Dependents</th>\n",
              "      <th>Education</th>\n",
              "      <th>Self_Employed</th>\n",
              "      <th>ApplicantIncome</th>\n",
              "      <th>CoapplicantIncome</th>\n",
              "      <th>LoanAmount</th>\n",
              "      <th>Loan_Amount_Term</th>\n",
              "      <th>Credit_History</th>\n",
              "      <th>Property_Area</th>\n",
              "      <th>Loan_Status</th>\n",
              "    </tr>\n",
              "  </thead>\n",
              "  <tbody>\n",
              "    <tr>\n",
              "      <th>0</th>\n",
              "      <td>LP001002</td>\n",
              "      <td>Male</td>\n",
              "      <td>No</td>\n",
              "      <td>0</td>\n",
              "      <td>Graduate</td>\n",
              "      <td>No</td>\n",
              "      <td>5849</td>\n",
              "      <td>0.0</td>\n",
              "      <td>0.0</td>\n",
              "      <td>360.0</td>\n",
              "      <td>1.0</td>\n",
              "      <td>Urban</td>\n",
              "      <td>Y</td>\n",
              "    </tr>\n",
              "    <tr>\n",
              "      <th>1</th>\n",
              "      <td>LP001003</td>\n",
              "      <td>Male</td>\n",
              "      <td>Yes</td>\n",
              "      <td>1</td>\n",
              "      <td>Graduate</td>\n",
              "      <td>No</td>\n",
              "      <td>4583</td>\n",
              "      <td>1508.0</td>\n",
              "      <td>128.0</td>\n",
              "      <td>360.0</td>\n",
              "      <td>1.0</td>\n",
              "      <td>Rural</td>\n",
              "      <td>N</td>\n",
              "    </tr>\n",
              "    <tr>\n",
              "      <th>2</th>\n",
              "      <td>LP001005</td>\n",
              "      <td>Male</td>\n",
              "      <td>Yes</td>\n",
              "      <td>0</td>\n",
              "      <td>Graduate</td>\n",
              "      <td>Yes</td>\n",
              "      <td>3000</td>\n",
              "      <td>0.0</td>\n",
              "      <td>66.0</td>\n",
              "      <td>360.0</td>\n",
              "      <td>1.0</td>\n",
              "      <td>Urban</td>\n",
              "      <td>Y</td>\n",
              "    </tr>\n",
              "    <tr>\n",
              "      <th>3</th>\n",
              "      <td>LP001006</td>\n",
              "      <td>Male</td>\n",
              "      <td>Yes</td>\n",
              "      <td>0</td>\n",
              "      <td>Not Graduate</td>\n",
              "      <td>No</td>\n",
              "      <td>2583</td>\n",
              "      <td>2358.0</td>\n",
              "      <td>120.0</td>\n",
              "      <td>360.0</td>\n",
              "      <td>1.0</td>\n",
              "      <td>Urban</td>\n",
              "      <td>Y</td>\n",
              "    </tr>\n",
              "    <tr>\n",
              "      <th>4</th>\n",
              "      <td>LP001008</td>\n",
              "      <td>Male</td>\n",
              "      <td>No</td>\n",
              "      <td>0</td>\n",
              "      <td>Graduate</td>\n",
              "      <td>No</td>\n",
              "      <td>6000</td>\n",
              "      <td>0.0</td>\n",
              "      <td>141.0</td>\n",
              "      <td>360.0</td>\n",
              "      <td>1.0</td>\n",
              "      <td>Urban</td>\n",
              "      <td>Y</td>\n",
              "    </tr>\n",
              "  </tbody>\n",
              "</table>\n",
              "</div>"
            ],
            "text/plain": [
              "    Loan_ID Gender Married  ... Credit_History Property_Area Loan_Status\n",
              "0  LP001002   Male      No  ...            1.0         Urban           Y\n",
              "1  LP001003   Male     Yes  ...            1.0         Rural           N\n",
              "2  LP001005   Male     Yes  ...            1.0         Urban           Y\n",
              "3  LP001006   Male     Yes  ...            1.0         Urban           Y\n",
              "4  LP001008   Male      No  ...            1.0         Urban           Y\n",
              "\n",
              "[5 rows x 13 columns]"
            ]
          },
          "metadata": {
            "tags": []
          },
          "execution_count": 117
        }
      ]
    },
    {
      "cell_type": "code",
      "metadata": {
        "id": "BuEW171ckomT",
        "colab_type": "code",
        "colab": {}
      },
      "source": [
        "df_enc=pd.get_dummies(df,columns=['Gender','Married','Education','Self_Employed','Loan_Amount_Term','Credit_History',])\n",
        "df_enc.head()"
      ],
      "execution_count": 0,
      "outputs": []
    },
    {
      "cell_type": "code",
      "metadata": {
        "id": "L9NJmnYgpnvO",
        "colab_type": "code",
        "colab": {
          "base_uri": "https://localhost:8080/",
          "height": 34
        },
        "outputId": "db4626e3-8d51-4ca6-bf71-a53f4d4318cb"
      },
      "source": [
        "df_enc.shape"
      ],
      "execution_count": 150,
      "outputs": [
        {
          "output_type": "execute_result",
          "data": {
            "text/plain": [
              "(614, 23)"
            ]
          },
          "metadata": {
            "tags": []
          },
          "execution_count": 150
        }
      ]
    },
    {
      "cell_type": "code",
      "metadata": {
        "id": "RO-xC7OvpntI",
        "colab_type": "code",
        "colab": {
          "base_uri": "https://localhost:8080/",
          "height": 654
        },
        "outputId": "802fd6c6-ff72-4b1a-a84a-333be0ff178a"
      },
      "source": [
        "enc_corr=df_enc.corr()\n",
        "enc_corr"
      ],
      "execution_count": 151,
      "outputs": [
        {
          "output_type": "execute_result",
          "data": {
            "text/html": [
              "<div>\n",
              "<style scoped>\n",
              "    .dataframe tbody tr th:only-of-type {\n",
              "        vertical-align: middle;\n",
              "    }\n",
              "\n",
              "    .dataframe tbody tr th {\n",
              "        vertical-align: top;\n",
              "    }\n",
              "\n",
              "    .dataframe thead th {\n",
              "        text-align: right;\n",
              "    }\n",
              "</style>\n",
              "<table border=\"1\" class=\"dataframe\">\n",
              "  <thead>\n",
              "    <tr style=\"text-align: right;\">\n",
              "      <th></th>\n",
              "      <th>ApplicantIncome</th>\n",
              "      <th>CoapplicantIncome</th>\n",
              "      <th>LoanAmount</th>\n",
              "      <th>Gender_Female</th>\n",
              "      <th>Gender_Male</th>\n",
              "      <th>Married_0</th>\n",
              "      <th>Married_No</th>\n",
              "      <th>Married_Yes</th>\n",
              "      <th>Education_Graduate</th>\n",
              "      <th>Education_Not Graduate</th>\n",
              "      <th>Self_Employed_0</th>\n",
              "      <th>Self_Employed_No</th>\n",
              "      <th>Self_Employed_Yes</th>\n",
              "      <th>Loan_Amount_Term_180.0</th>\n",
              "      <th>Loan_Amount_Term_240.0</th>\n",
              "      <th>Loan_Amount_Term_300.0</th>\n",
              "      <th>Loan_Amount_Term_360.0</th>\n",
              "      <th>Credit_History_0.0</th>\n",
              "      <th>Credit_History_1.0</th>\n",
              "    </tr>\n",
              "  </thead>\n",
              "  <tbody>\n",
              "    <tr>\n",
              "      <th>ApplicantIncome</th>\n",
              "      <td>1.000000</td>\n",
              "      <td>-0.270163</td>\n",
              "      <td>0.538537</td>\n",
              "      <td>-0.065432</td>\n",
              "      <td>0.065432</td>\n",
              "      <td>0.043316</td>\n",
              "      <td>-0.024300</td>\n",
              "      <td>0.017897</td>\n",
              "      <td>0.206324</td>\n",
              "      <td>-0.206324</td>\n",
              "      <td>-0.040639</td>\n",
              "      <td>-0.188448</td>\n",
              "      <td>0.241964</td>\n",
              "      <td>-0.005326</td>\n",
              "      <td>0.041231</td>\n",
              "      <td>0.022995</td>\n",
              "      <td>-0.014151</td>\n",
              "      <td>-0.059020</td>\n",
              "      <td>0.059020</td>\n",
              "    </tr>\n",
              "    <tr>\n",
              "      <th>CoapplicantIncome</th>\n",
              "      <td>-0.270163</td>\n",
              "      <td>1.000000</td>\n",
              "      <td>0.235781</td>\n",
              "      <td>-0.201686</td>\n",
              "      <td>0.201686</td>\n",
              "      <td>-0.053778</td>\n",
              "      <td>-0.246078</td>\n",
              "      <td>0.253135</td>\n",
              "      <td>0.026584</td>\n",
              "      <td>-0.026584</td>\n",
              "      <td>0.012428</td>\n",
              "      <td>0.035203</td>\n",
              "      <td>-0.048360</td>\n",
              "      <td>0.036012</td>\n",
              "      <td>-0.077028</td>\n",
              "      <td>0.032016</td>\n",
              "      <td>-0.028266</td>\n",
              "      <td>0.051313</td>\n",
              "      <td>-0.051313</td>\n",
              "    </tr>\n",
              "    <tr>\n",
              "      <th>LoanAmount</th>\n",
              "      <td>0.538537</td>\n",
              "      <td>0.235781</td>\n",
              "      <td>1.000000</td>\n",
              "      <td>-0.138615</td>\n",
              "      <td>0.138615</td>\n",
              "      <td>-0.008795</td>\n",
              "      <td>-0.175003</td>\n",
              "      <td>0.175722</td>\n",
              "      <td>0.180854</td>\n",
              "      <td>-0.180854</td>\n",
              "      <td>0.001312</td>\n",
              "      <td>-0.096967</td>\n",
              "      <td>0.109983</td>\n",
              "      <td>-0.078767</td>\n",
              "      <td>-0.041457</td>\n",
              "      <td>0.012427</td>\n",
              "      <td>0.076217</td>\n",
              "      <td>0.014681</td>\n",
              "      <td>-0.014681</td>\n",
              "    </tr>\n",
              "    <tr>\n",
              "      <th>Gender_Female</th>\n",
              "      <td>-0.065432</td>\n",
              "      <td>-0.201686</td>\n",
              "      <td>-0.138615</td>\n",
              "      <td>1.000000</td>\n",
              "      <td>-1.000000</td>\n",
              "      <td>0.027384</td>\n",
              "      <td>0.364569</td>\n",
              "      <td>-0.367389</td>\n",
              "      <td>0.045364</td>\n",
              "      <td>-0.045364</td>\n",
              "      <td>0.041039</td>\n",
              "      <td>-0.023918</td>\n",
              "      <td>0.000525</td>\n",
              "      <td>-0.063279</td>\n",
              "      <td>0.014173</td>\n",
              "      <td>-0.040174</td>\n",
              "      <td>0.070984</td>\n",
              "      <td>0.026655</td>\n",
              "      <td>-0.026655</td>\n",
              "    </tr>\n",
              "    <tr>\n",
              "      <th>Gender_Male</th>\n",
              "      <td>0.065432</td>\n",
              "      <td>0.201686</td>\n",
              "      <td>0.138615</td>\n",
              "      <td>-1.000000</td>\n",
              "      <td>1.000000</td>\n",
              "      <td>-0.027384</td>\n",
              "      <td>-0.364569</td>\n",
              "      <td>0.367389</td>\n",
              "      <td>-0.045364</td>\n",
              "      <td>0.045364</td>\n",
              "      <td>-0.041039</td>\n",
              "      <td>0.023918</td>\n",
              "      <td>-0.000525</td>\n",
              "      <td>0.063279</td>\n",
              "      <td>-0.014173</td>\n",
              "      <td>0.040174</td>\n",
              "      <td>-0.070984</td>\n",
              "      <td>-0.026655</td>\n",
              "      <td>0.026655</td>\n",
              "    </tr>\n",
              "    <tr>\n",
              "      <th>Married_0</th>\n",
              "      <td>0.043316</td>\n",
              "      <td>-0.053778</td>\n",
              "      <td>-0.008795</td>\n",
              "      <td>0.027384</td>\n",
              "      <td>-0.027384</td>\n",
              "      <td>1.000000</td>\n",
              "      <td>-0.051069</td>\n",
              "      <td>-0.095116</td>\n",
              "      <td>0.037023</td>\n",
              "      <td>-0.037023</td>\n",
              "      <td>-0.016431</td>\n",
              "      <td>0.033459</td>\n",
              "      <td>-0.027510</td>\n",
              "      <td>-0.025136</td>\n",
              "      <td>0.284656</td>\n",
              "      <td>-0.010306</td>\n",
              "      <td>-0.038506</td>\n",
              "      <td>-0.037905</td>\n",
              "      <td>0.037905</td>\n",
              "    </tr>\n",
              "    <tr>\n",
              "      <th>Married_No</th>\n",
              "      <td>-0.024300</td>\n",
              "      <td>-0.246078</td>\n",
              "      <td>-0.175003</td>\n",
              "      <td>0.364569</td>\n",
              "      <td>-0.364569</td>\n",
              "      <td>-0.051069</td>\n",
              "      <td>1.000000</td>\n",
              "      <td>-0.989310</td>\n",
              "      <td>0.012304</td>\n",
              "      <td>-0.012304</td>\n",
              "      <td>0.044629</td>\n",
              "      <td>-0.021584</td>\n",
              "      <td>-0.004489</td>\n",
              "      <td>-0.078414</td>\n",
              "      <td>-0.016486</td>\n",
              "      <td>-0.035885</td>\n",
              "      <td>0.090078</td>\n",
              "      <td>-0.018150</td>\n",
              "      <td>0.018150</td>\n",
              "    </tr>\n",
              "    <tr>\n",
              "      <th>Married_Yes</th>\n",
              "      <td>0.017897</td>\n",
              "      <td>0.253135</td>\n",
              "      <td>0.175722</td>\n",
              "      <td>-0.367389</td>\n",
              "      <td>0.367389</td>\n",
              "      <td>-0.095116</td>\n",
              "      <td>-0.989310</td>\n",
              "      <td>1.000000</td>\n",
              "      <td>-0.017671</td>\n",
              "      <td>0.017671</td>\n",
              "      <td>-0.042086</td>\n",
              "      <td>0.016628</td>\n",
              "      <td>0.008491</td>\n",
              "      <td>0.081830</td>\n",
              "      <td>-0.025133</td>\n",
              "      <td>0.037273</td>\n",
              "      <td>-0.084165</td>\n",
              "      <td>0.023626</td>\n",
              "      <td>-0.023626</td>\n",
              "    </tr>\n",
              "    <tr>\n",
              "      <th>Education_Graduate</th>\n",
              "      <td>0.206324</td>\n",
              "      <td>0.026584</td>\n",
              "      <td>0.180854</td>\n",
              "      <td>0.045364</td>\n",
              "      <td>-0.045364</td>\n",
              "      <td>0.037023</td>\n",
              "      <td>0.012304</td>\n",
              "      <td>-0.017671</td>\n",
              "      <td>1.000000</td>\n",
              "      <td>-1.000000</td>\n",
              "      <td>0.017451</td>\n",
              "      <td>-0.019059</td>\n",
              "      <td>0.010383</td>\n",
              "      <td>-0.120629</td>\n",
              "      <td>-0.006226</td>\n",
              "      <td>-0.004461</td>\n",
              "      <td>0.113213</td>\n",
              "      <td>-0.081637</td>\n",
              "      <td>0.081637</td>\n",
              "    </tr>\n",
              "    <tr>\n",
              "      <th>Education_Not Graduate</th>\n",
              "      <td>-0.206324</td>\n",
              "      <td>-0.026584</td>\n",
              "      <td>-0.180854</td>\n",
              "      <td>-0.045364</td>\n",
              "      <td>0.045364</td>\n",
              "      <td>-0.037023</td>\n",
              "      <td>-0.012304</td>\n",
              "      <td>0.017671</td>\n",
              "      <td>-1.000000</td>\n",
              "      <td>1.000000</td>\n",
              "      <td>-0.017451</td>\n",
              "      <td>0.019059</td>\n",
              "      <td>-0.010383</td>\n",
              "      <td>0.120629</td>\n",
              "      <td>0.006226</td>\n",
              "      <td>0.004461</td>\n",
              "      <td>-0.113213</td>\n",
              "      <td>0.081637</td>\n",
              "      <td>-0.081637</td>\n",
              "    </tr>\n",
              "    <tr>\n",
              "      <th>Self_Employed_0</th>\n",
              "      <td>-0.040639</td>\n",
              "      <td>0.012428</td>\n",
              "      <td>0.001312</td>\n",
              "      <td>0.041039</td>\n",
              "      <td>-0.041039</td>\n",
              "      <td>-0.016431</td>\n",
              "      <td>0.044629</td>\n",
              "      <td>-0.042086</td>\n",
              "      <td>0.017451</td>\n",
              "      <td>-0.017451</td>\n",
              "      <td>1.000000</td>\n",
              "      <td>-0.491073</td>\n",
              "      <td>-0.092059</td>\n",
              "      <td>0.031167</td>\n",
              "      <td>-0.018988</td>\n",
              "      <td>-0.034486</td>\n",
              "      <td>-0.009787</td>\n",
              "      <td>-0.004278</td>\n",
              "      <td>0.004278</td>\n",
              "    </tr>\n",
              "    <tr>\n",
              "      <th>Self_Employed_No</th>\n",
              "      <td>-0.188448</td>\n",
              "      <td>0.035203</td>\n",
              "      <td>-0.096967</td>\n",
              "      <td>-0.023918</td>\n",
              "      <td>0.023918</td>\n",
              "      <td>0.033459</td>\n",
              "      <td>-0.021584</td>\n",
              "      <td>0.016628</td>\n",
              "      <td>-0.019059</td>\n",
              "      <td>0.019059</td>\n",
              "      <td>-0.491073</td>\n",
              "      <td>1.000000</td>\n",
              "      <td>-0.822212</td>\n",
              "      <td>-0.026401</td>\n",
              "      <td>-0.013398</td>\n",
              "      <td>-0.017059</td>\n",
              "      <td>0.034193</td>\n",
              "      <td>-0.001923</td>\n",
              "      <td>0.001923</td>\n",
              "    </tr>\n",
              "    <tr>\n",
              "      <th>Self_Employed_Yes</th>\n",
              "      <td>0.241964</td>\n",
              "      <td>-0.048360</td>\n",
              "      <td>0.109983</td>\n",
              "      <td>0.000525</td>\n",
              "      <td>-0.000525</td>\n",
              "      <td>-0.027510</td>\n",
              "      <td>-0.004489</td>\n",
              "      <td>0.008491</td>\n",
              "      <td>0.010383</td>\n",
              "      <td>-0.010383</td>\n",
              "      <td>-0.092059</td>\n",
              "      <td>-0.822212</td>\n",
              "      <td>1.000000</td>\n",
              "      <td>0.009814</td>\n",
              "      <td>0.027721</td>\n",
              "      <td>0.042033</td>\n",
              "      <td>-0.032690</td>\n",
              "      <td>0.004994</td>\n",
              "      <td>-0.004994</td>\n",
              "    </tr>\n",
              "    <tr>\n",
              "      <th>Loan_Amount_Term_180.0</th>\n",
              "      <td>-0.005326</td>\n",
              "      <td>0.036012</td>\n",
              "      <td>-0.078767</td>\n",
              "      <td>-0.063279</td>\n",
              "      <td>0.063279</td>\n",
              "      <td>-0.025136</td>\n",
              "      <td>-0.078414</td>\n",
              "      <td>0.081830</td>\n",
              "      <td>-0.120629</td>\n",
              "      <td>0.120629</td>\n",
              "      <td>0.031167</td>\n",
              "      <td>-0.026401</td>\n",
              "      <td>0.009814</td>\n",
              "      <td>1.000000</td>\n",
              "      <td>-0.029048</td>\n",
              "      <td>-0.052757</td>\n",
              "      <td>-0.882867</td>\n",
              "      <td>0.038610</td>\n",
              "      <td>-0.038610</td>\n",
              "    </tr>\n",
              "    <tr>\n",
              "      <th>Loan_Amount_Term_240.0</th>\n",
              "      <td>0.041231</td>\n",
              "      <td>-0.077028</td>\n",
              "      <td>-0.041457</td>\n",
              "      <td>0.014173</td>\n",
              "      <td>-0.014173</td>\n",
              "      <td>0.284656</td>\n",
              "      <td>-0.016486</td>\n",
              "      <td>-0.025133</td>\n",
              "      <td>-0.006226</td>\n",
              "      <td>0.006226</td>\n",
              "      <td>-0.018988</td>\n",
              "      <td>-0.013398</td>\n",
              "      <td>0.027721</td>\n",
              "      <td>-0.029048</td>\n",
              "      <td>1.000000</td>\n",
              "      <td>-0.011910</td>\n",
              "      <td>-0.199302</td>\n",
              "      <td>0.004570</td>\n",
              "      <td>-0.004570</td>\n",
              "    </tr>\n",
              "    <tr>\n",
              "      <th>Loan_Amount_Term_300.0</th>\n",
              "      <td>0.022995</td>\n",
              "      <td>0.032016</td>\n",
              "      <td>0.012427</td>\n",
              "      <td>-0.040174</td>\n",
              "      <td>0.040174</td>\n",
              "      <td>-0.010306</td>\n",
              "      <td>-0.035885</td>\n",
              "      <td>0.037273</td>\n",
              "      <td>-0.004461</td>\n",
              "      <td>0.004461</td>\n",
              "      <td>-0.034486</td>\n",
              "      <td>-0.017059</td>\n",
              "      <td>0.042033</td>\n",
              "      <td>-0.052757</td>\n",
              "      <td>-0.011910</td>\n",
              "      <td>1.000000</td>\n",
              "      <td>-0.361976</td>\n",
              "      <td>0.082642</td>\n",
              "      <td>-0.082642</td>\n",
              "    </tr>\n",
              "    <tr>\n",
              "      <th>Loan_Amount_Term_360.0</th>\n",
              "      <td>-0.014151</td>\n",
              "      <td>-0.028266</td>\n",
              "      <td>0.076217</td>\n",
              "      <td>0.070984</td>\n",
              "      <td>-0.070984</td>\n",
              "      <td>-0.038506</td>\n",
              "      <td>0.090078</td>\n",
              "      <td>-0.084165</td>\n",
              "      <td>0.113213</td>\n",
              "      <td>-0.113213</td>\n",
              "      <td>-0.009787</td>\n",
              "      <td>0.034193</td>\n",
              "      <td>-0.032690</td>\n",
              "      <td>-0.882867</td>\n",
              "      <td>-0.199302</td>\n",
              "      <td>-0.361976</td>\n",
              "      <td>1.000000</td>\n",
              "      <td>-0.070356</td>\n",
              "      <td>0.070356</td>\n",
              "    </tr>\n",
              "    <tr>\n",
              "      <th>Credit_History_0.0</th>\n",
              "      <td>-0.059020</td>\n",
              "      <td>0.051313</td>\n",
              "      <td>0.014681</td>\n",
              "      <td>0.026655</td>\n",
              "      <td>-0.026655</td>\n",
              "      <td>-0.037905</td>\n",
              "      <td>-0.018150</td>\n",
              "      <td>0.023626</td>\n",
              "      <td>-0.081637</td>\n",
              "      <td>0.081637</td>\n",
              "      <td>-0.004278</td>\n",
              "      <td>-0.001923</td>\n",
              "      <td>0.004994</td>\n",
              "      <td>0.038610</td>\n",
              "      <td>0.004570</td>\n",
              "      <td>0.082642</td>\n",
              "      <td>-0.070356</td>\n",
              "      <td>1.000000</td>\n",
              "      <td>-1.000000</td>\n",
              "    </tr>\n",
              "    <tr>\n",
              "      <th>Credit_History_1.0</th>\n",
              "      <td>0.059020</td>\n",
              "      <td>-0.051313</td>\n",
              "      <td>-0.014681</td>\n",
              "      <td>-0.026655</td>\n",
              "      <td>0.026655</td>\n",
              "      <td>0.037905</td>\n",
              "      <td>0.018150</td>\n",
              "      <td>-0.023626</td>\n",
              "      <td>0.081637</td>\n",
              "      <td>-0.081637</td>\n",
              "      <td>0.004278</td>\n",
              "      <td>0.001923</td>\n",
              "      <td>-0.004994</td>\n",
              "      <td>-0.038610</td>\n",
              "      <td>-0.004570</td>\n",
              "      <td>-0.082642</td>\n",
              "      <td>0.070356</td>\n",
              "      <td>-1.000000</td>\n",
              "      <td>1.000000</td>\n",
              "    </tr>\n",
              "  </tbody>\n",
              "</table>\n",
              "</div>"
            ],
            "text/plain": [
              "                        ApplicantIncome  ...  Credit_History_1.0\n",
              "ApplicantIncome                1.000000  ...            0.059020\n",
              "CoapplicantIncome             -0.270163  ...           -0.051313\n",
              "LoanAmount                     0.538537  ...           -0.014681\n",
              "Gender_Female                 -0.065432  ...           -0.026655\n",
              "Gender_Male                    0.065432  ...            0.026655\n",
              "Married_0                      0.043316  ...            0.037905\n",
              "Married_No                    -0.024300  ...            0.018150\n",
              "Married_Yes                    0.017897  ...           -0.023626\n",
              "Education_Graduate             0.206324  ...            0.081637\n",
              "Education_Not Graduate        -0.206324  ...           -0.081637\n",
              "Self_Employed_0               -0.040639  ...            0.004278\n",
              "Self_Employed_No              -0.188448  ...            0.001923\n",
              "Self_Employed_Yes              0.241964  ...           -0.004994\n",
              "Loan_Amount_Term_180.0        -0.005326  ...           -0.038610\n",
              "Loan_Amount_Term_240.0         0.041231  ...           -0.004570\n",
              "Loan_Amount_Term_300.0         0.022995  ...           -0.082642\n",
              "Loan_Amount_Term_360.0        -0.014151  ...            0.070356\n",
              "Credit_History_0.0            -0.059020  ...           -1.000000\n",
              "Credit_History_1.0             0.059020  ...            1.000000\n",
              "\n",
              "[19 rows x 19 columns]"
            ]
          },
          "metadata": {
            "tags": []
          },
          "execution_count": 151
        }
      ]
    },
    {
      "cell_type": "code",
      "metadata": {
        "id": "SPHhooD_t4ko",
        "colab_type": "code",
        "colab": {
          "base_uri": "https://localhost:8080/",
          "height": 657
        },
        "outputId": "b25ad3fc-f902-4222-ff7c-97799c50ff9d"
      },
      "source": [
        "mask = np.zeros_like(enc_corr, dtype=np.bool)\n",
        "mask[np.triu_indices_from(mask)] = True\n",
        "f, ax = plt.subplots(figsize=(11, 9))\n",
        "cmap = sns.diverging_palette(220, 10, as_cmap=True)\n",
        "svm = sns.heatmap(enc_corr, mask=mask, cmap=cmap, center=0,square=True, linewidths=.5, cbar_kws={\"shrink\": .5})"
      ],
      "execution_count": 152,
      "outputs": [
        {
          "output_type": "display_data",
          "data": {
            "image/png": "[encoded data removed]",
            "text/plain": [
              "<Figure size 792x648 with 2 Axes>"
            ]
          },
          "metadata": {
            "tags": [],
            "needs_background": "light"
          }
        }
      ]
    }
  ]
}