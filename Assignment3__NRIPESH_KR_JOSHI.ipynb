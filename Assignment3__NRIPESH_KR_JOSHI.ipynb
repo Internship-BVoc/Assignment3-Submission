{
  "nbformat": 4,
  "nbformat_minor": 0,
  "metadata": {
    "colab": {
      "name": "Assignment3_ NRIPESH KR JOSHI",
      "provenance": [],
      "collapsed_sections": [],
      "toc_visible": true
    },
    "kernelspec": {
      "display_name": "Python 3",
      "name": "python3"
    }
  },
  "cells": [
    {
      "cell_type": "markdown",
      "metadata": {
        "id": "ndnYCl-EKwy7",
        "colab_type": "text"
      },
      "source": [
        "# Import the various libraries"
      ]
    },
    {
      "cell_type": "code",
      "metadata": {
        "id": "ozojFt_NxP5a",
        "colab_type": "code",
        "outputId": "ed156e6f-594a-44b3-e80b-b9485bd6dd70",
        "colab": {
          "base_uri": "https://localhost:8080/",
          "height": 461
        }
      },
      "source": [
        "import pandas as pd\n",
        "import numpy as np\n",
        "import seaborn as sns\n",
        "import matplotlib.pyplot as plt\n",
        "\n",
        "# Read the data\n",
        "df=pd.read_csv(\"dataset_model.csv\")\n",
        "df"
      ],
      "execution_count": 239,
      "outputs": [
        {
          "output_type": "execute_result",
          "data": {
            "text/html": [
              "<div>\n",
              "<style scoped>\n",
              "    .dataframe tbody tr th:only-of-type {\n",
              "        vertical-align: middle;\n",
              "    }\n",
              "\n",
              "    .dataframe tbody tr th {\n",
              "        vertical-align: top;\n",
              "    }\n",
              "\n",
              "    .dataframe thead th {\n",
              "        text-align: right;\n",
              "    }\n",
              "</style>\n",
              "<table border=\"1\" class=\"dataframe\">\n",
              "  <thead>\n",
              "    <tr style=\"text-align: right;\">\n",
              "      <th></th>\n",
              "      <th>Loan_ID</th>\n",
              "      <th>Gender</th>\n",
              "      <th>Married</th>\n",
              "      <th>Dependents</th>\n",
              "      <th>Education</th>\n",
              "      <th>Self_Employed</th>\n",
              "      <th>ApplicantIncome</th>\n",
              "      <th>CoapplicantIncome</th>\n",
              "      <th>LoanAmount</th>\n",
              "      <th>Loan_Amount_Term</th>\n",
              "      <th>Credit_History</th>\n",
              "      <th>Property_Area</th>\n",
              "      <th>Loan_Status</th>\n",
              "    </tr>\n",
              "  </thead>\n",
              "  <tbody>\n",
              "    <tr>\n",
              "      <th>0</th>\n",
              "      <td>LP001002</td>\n",
              "      <td>Male</td>\n",
              "      <td>No</td>\n",
              "      <td>0</td>\n",
              "      <td>Graduate</td>\n",
              "      <td>No</td>\n",
              "      <td>5849</td>\n",
              "      <td>0.0</td>\n",
              "      <td>NaN</td>\n",
              "      <td>360.0</td>\n",
              "      <td>1.0</td>\n",
              "      <td>Urban</td>\n",
              "      <td>Y</td>\n",
              "    </tr>\n",
              "    <tr>\n",
              "      <th>1</th>\n",
              "      <td>LP001003</td>\n",
              "      <td>Male</td>\n",
              "      <td>Yes</td>\n",
              "      <td>1</td>\n",
              "      <td>Graduate</td>\n",
              "      <td>No</td>\n",
              "      <td>4583</td>\n",
              "      <td>1508.0</td>\n",
              "      <td>128.0</td>\n",
              "      <td>360.0</td>\n",
              "      <td>1.0</td>\n",
              "      <td>Rural</td>\n",
              "      <td>N</td>\n",
              "    </tr>\n",
              "    <tr>\n",
              "      <th>2</th>\n",
              "      <td>LP001005</td>\n",
              "      <td>Male</td>\n",
              "      <td>Yes</td>\n",
              "      <td>0</td>\n",
              "      <td>Graduate</td>\n",
              "      <td>Yes</td>\n",
              "      <td>3000</td>\n",
              "      <td>0.0</td>\n",
              "      <td>66.0</td>\n",
              "      <td>360.0</td>\n",
              "      <td>1.0</td>\n",
              "      <td>Urban</td>\n",
              "      <td>Y</td>\n",
              "    </tr>\n",
              "    <tr>\n",
              "      <th>3</th>\n",
              "      <td>LP001006</td>\n",
              "      <td>Male</td>\n",
              "      <td>Yes</td>\n",
              "      <td>0</td>\n",
              "      <td>Not Graduate</td>\n",
              "      <td>No</td>\n",
              "      <td>2583</td>\n",
              "      <td>2358.0</td>\n",
              "      <td>120.0</td>\n",
              "      <td>360.0</td>\n",
              "      <td>1.0</td>\n",
              "      <td>Urban</td>\n",
              "      <td>Y</td>\n",
              "    </tr>\n",
              "    <tr>\n",
              "      <th>4</th>\n",
              "      <td>LP001008</td>\n",
              "      <td>Male</td>\n",
              "      <td>No</td>\n",
              "      <td>0</td>\n",
              "      <td>Graduate</td>\n",
              "      <td>No</td>\n",
              "      <td>6000</td>\n",
              "      <td>0.0</td>\n",
              "      <td>141.0</td>\n",
              "      <td>360.0</td>\n",
              "      <td>1.0</td>\n",
              "      <td>Urban</td>\n",
              "      <td>Y</td>\n",
              "    </tr>\n",
              "    <tr>\n",
              "      <th>...</th>\n",
              "      <td>...</td>\n",
              "      <td>...</td>\n",
              "      <td>...</td>\n",
              "      <td>...</td>\n",
              "      <td>...</td>\n",
              "      <td>...</td>\n",
              "      <td>...</td>\n",
              "      <td>...</td>\n",
              "      <td>...</td>\n",
              "      <td>...</td>\n",
              "      <td>...</td>\n",
              "      <td>...</td>\n",
              "      <td>...</td>\n",
              "    </tr>\n",
              "    <tr>\n",
              "      <th>609</th>\n",
              "      <td>LP002978</td>\n",
              "      <td>Female</td>\n",
              "      <td>No</td>\n",
              "      <td>0</td>\n",
              "      <td>Graduate</td>\n",
              "      <td>No</td>\n",
              "      <td>2900</td>\n",
              "      <td>0.0</td>\n",
              "      <td>71.0</td>\n",
              "      <td>360.0</td>\n",
              "      <td>1.0</td>\n",
              "      <td>Rural</td>\n",
              "      <td>Y</td>\n",
              "    </tr>\n",
              "    <tr>\n",
              "      <th>610</th>\n",
              "      <td>LP002979</td>\n",
              "      <td>Male</td>\n",
              "      <td>Yes</td>\n",
              "      <td>3+</td>\n",
              "      <td>Graduate</td>\n",
              "      <td>No</td>\n",
              "      <td>4106</td>\n",
              "      <td>0.0</td>\n",
              "      <td>40.0</td>\n",
              "      <td>180.0</td>\n",
              "      <td>1.0</td>\n",
              "      <td>Rural</td>\n",
              "      <td>Y</td>\n",
              "    </tr>\n",
              "    <tr>\n",
              "      <th>611</th>\n",
              "      <td>LP002983</td>\n",
              "      <td>Male</td>\n",
              "      <td>Yes</td>\n",
              "      <td>1</td>\n",
              "      <td>Graduate</td>\n",
              "      <td>No</td>\n",
              "      <td>8072</td>\n",
              "      <td>240.0</td>\n",
              "      <td>253.0</td>\n",
              "      <td>360.0</td>\n",
              "      <td>1.0</td>\n",
              "      <td>Urban</td>\n",
              "      <td>Y</td>\n",
              "    </tr>\n",
              "    <tr>\n",
              "      <th>612</th>\n",
              "      <td>LP002984</td>\n",
              "      <td>Male</td>\n",
              "      <td>Yes</td>\n",
              "      <td>2</td>\n",
              "      <td>Graduate</td>\n",
              "      <td>No</td>\n",
              "      <td>7583</td>\n",
              "      <td>0.0</td>\n",
              "      <td>187.0</td>\n",
              "      <td>360.0</td>\n",
              "      <td>1.0</td>\n",
              "      <td>Urban</td>\n",
              "      <td>Y</td>\n",
              "    </tr>\n",
              "    <tr>\n",
              "      <th>613</th>\n",
              "      <td>LP002990</td>\n",
              "      <td>Female</td>\n",
              "      <td>No</td>\n",
              "      <td>0</td>\n",
              "      <td>Graduate</td>\n",
              "      <td>Yes</td>\n",
              "      <td>4583</td>\n",
              "      <td>0.0</td>\n",
              "      <td>133.0</td>\n",
              "      <td>360.0</td>\n",
              "      <td>0.0</td>\n",
              "      <td>Semiurban</td>\n",
              "      <td>N</td>\n",
              "    </tr>\n",
              "  </tbody>\n",
              "</table>\n",
              "<p>614 rows × 13 columns</p>\n",
              "</div>"
            ],
            "text/plain": [
              "      Loan_ID  Gender Married  ... Credit_History Property_Area Loan_Status\n",
              "0    LP001002    Male      No  ...            1.0         Urban           Y\n",
              "1    LP001003    Male     Yes  ...            1.0         Rural           N\n",
              "2    LP001005    Male     Yes  ...            1.0         Urban           Y\n",
              "3    LP001006    Male     Yes  ...            1.0         Urban           Y\n",
              "4    LP001008    Male      No  ...            1.0         Urban           Y\n",
              "..        ...     ...     ...  ...            ...           ...         ...\n",
              "609  LP002978  Female      No  ...            1.0         Rural           Y\n",
              "610  LP002979    Male     Yes  ...            1.0         Rural           Y\n",
              "611  LP002983    Male     Yes  ...            1.0         Urban           Y\n",
              "612  LP002984    Male     Yes  ...            1.0         Urban           Y\n",
              "613  LP002990  Female      No  ...            0.0     Semiurban           N\n",
              "\n",
              "[614 rows x 13 columns]"
            ]
          },
          "metadata": {
            "tags": []
          },
          "execution_count": 239
        }
      ]
    },
    {
      "cell_type": "markdown",
      "metadata": {
        "id": "B4gwyjy5LYxX",
        "colab_type": "text"
      },
      "source": [
        "**Problem 1-** Identify & Remove the field that is providing only unique information about records .Capture it in another dataframe"
      ]
    },
    {
      "cell_type": "code",
      "metadata": {
        "id": "T--7RBu4zYqH",
        "colab_type": "code",
        "outputId": "61786212-9a2d-49e1-8d88-90793627beb1",
        "colab": {
          "base_uri": "https://localhost:8080/",
          "height": 106
        }
      },
      "source": [
        "df.columns"
      ],
      "execution_count": 209,
      "outputs": [
        {
          "output_type": "execute_result",
          "data": {
            "text/plain": [
              "Index(['Loan_ID', 'Gender', 'Married', 'Dependents', 'Education',\n",
              "       'Self_Employed', 'ApplicantIncome', 'CoapplicantIncome', 'LoanAmount',\n",
              "       'Loan_Amount_Term', 'Credit_History', 'Property_Area', 'Loan_Status'],\n",
              "      dtype='object')"
            ]
          },
          "metadata": {
            "tags": []
          },
          "execution_count": 209
        }
      ]
    },
    {
      "cell_type": "code",
      "metadata": {
        "id": "Ygub0cgRzesz",
        "colab_type": "code",
        "outputId": "8fff4c92-7908-46a0-9c8c-4bbe51e54fde",
        "colab": {
          "base_uri": "https://localhost:8080/",
          "height": 34
        }
      },
      "source": [
        "df.shape"
      ],
      "execution_count": 210,
      "outputs": [
        {
          "output_type": "execute_result",
          "data": {
            "text/plain": [
              "(614, 13)"
            ]
          },
          "metadata": {
            "tags": []
          },
          "execution_count": 210
        }
      ]
    },
    {
      "cell_type": "code",
      "metadata": {
        "id": "NKHHsLGfGew4",
        "colab_type": "code",
        "outputId": "b204ed01-dc07-4b9c-8a74-eadd393be541",
        "colab": {
          "base_uri": "https://localhost:8080/",
          "height": 34
        }
      },
      "source": [
        "df['Loan_ID'].unique().size\n"
      ],
      "execution_count": 211,
      "outputs": [
        {
          "output_type": "execute_result",
          "data": {
            "text/plain": [
              "614"
            ]
          },
          "metadata": {
            "tags": []
          },
          "execution_count": 211
        }
      ]
    },
    {
      "cell_type": "code",
      "metadata": {
        "id": "j_rMMzmbHdve",
        "colab_type": "code",
        "outputId": "b6b553e3-4cff-4401-dd5d-e3d934b402a3",
        "colab": {
          "base_uri": "https://localhost:8080/",
          "height": 34
        }
      },
      "source": [
        "df['Gender'].unique().size\n"
      ],
      "execution_count": 201,
      "outputs": [
        {
          "output_type": "execute_result",
          "data": {
            "text/plain": [
              "3"
            ]
          },
          "metadata": {
            "tags": []
          },
          "execution_count": 201
        }
      ]
    },
    {
      "cell_type": "code",
      "metadata": {
        "id": "NoCgdCueIPTO",
        "colab_type": "code",
        "outputId": "5b8a3e93-2986-4056-8136-2f600192026b",
        "colab": {
          "base_uri": "https://localhost:8080/",
          "height": 34
        }
      },
      "source": [
        "df['Education'].unique().size"
      ],
      "execution_count": 202,
      "outputs": [
        {
          "output_type": "execute_result",
          "data": {
            "text/plain": [
              "2"
            ]
          },
          "metadata": {
            "tags": []
          },
          "execution_count": 202
        }
      ]
    },
    {
      "cell_type": "code",
      "metadata": {
        "id": "ONFrcVmLIqfy",
        "colab_type": "code",
        "outputId": "5d2be701-b2be-440e-db5d-ecc13cc566e0",
        "colab": {
          "base_uri": "https://localhost:8080/",
          "height": 34
        }
      },
      "source": [
        "df['Self_Employed'].unique().size\n"
      ],
      "execution_count": 0,
      "outputs": [
        {
          "output_type": "execute_result",
          "data": {
            "text/plain": [
              "3"
            ]
          },
          "metadata": {
            "tags": []
          },
          "execution_count": 76
        }
      ]
    },
    {
      "cell_type": "code",
      "metadata": {
        "id": "TELio0XkJCX2",
        "colab_type": "code",
        "outputId": "4ca4c9a1-0cb7-4d0b-a85a-10c579e5579c",
        "colab": {
          "base_uri": "https://localhost:8080/",
          "height": 34
        }
      },
      "source": [
        "df['ApplicantIncome'].unique().size"
      ],
      "execution_count": 0,
      "outputs": [
        {
          "output_type": "execute_result",
          "data": {
            "text/plain": [
              "505"
            ]
          },
          "metadata": {
            "tags": []
          },
          "execution_count": 79
        }
      ]
    },
    {
      "cell_type": "code",
      "metadata": {
        "id": "PJ6XlHv0LIQQ",
        "colab_type": "code",
        "outputId": "c4df4dda-1deb-401f-b484-8fc031992783",
        "colab": {
          "base_uri": "https://localhost:8080/",
          "height": 448
        }
      },
      "source": [
        "df.drop('Loan_ID', axis=1)\n"
      ],
      "execution_count": 0,
      "outputs": [
        {
          "output_type": "execute_result",
          "data": {
            "text/html": [
              "<div>\n",
              "<style scoped>\n",
              "    .dataframe tbody tr th:only-of-type {\n",
              "        vertical-align: middle;\n",
              "    }\n",
              "\n",
              "    .dataframe tbody tr th {\n",
              "        vertical-align: top;\n",
              "    }\n",
              "\n",
              "    .dataframe thead th {\n",
              "        text-align: right;\n",
              "    }\n",
              "</style>\n",
              "<table border=\"1\" class=\"dataframe\">\n",
              "  <thead>\n",
              "    <tr style=\"text-align: right;\">\n",
              "      <th></th>\n",
              "      <th>Gender</th>\n",
              "      <th>Married</th>\n",
              "      <th>Dependents</th>\n",
              "      <th>Education</th>\n",
              "      <th>Self_Employed</th>\n",
              "      <th>ApplicantIncome</th>\n",
              "      <th>CoapplicantIncome</th>\n",
              "      <th>LoanAmount</th>\n",
              "      <th>Loan_Amount_Term</th>\n",
              "      <th>Credit_History</th>\n",
              "      <th>Property_Area</th>\n",
              "      <th>Loan_Status</th>\n",
              "    </tr>\n",
              "  </thead>\n",
              "  <tbody>\n",
              "    <tr>\n",
              "      <th>0</th>\n",
              "      <td>Male</td>\n",
              "      <td>No</td>\n",
              "      <td>0</td>\n",
              "      <td>Graduate</td>\n",
              "      <td>No</td>\n",
              "      <td>5849</td>\n",
              "      <td>0.0</td>\n",
              "      <td>NaN</td>\n",
              "      <td>360.0</td>\n",
              "      <td>1.0</td>\n",
              "      <td>Urban</td>\n",
              "      <td>Y</td>\n",
              "    </tr>\n",
              "    <tr>\n",
              "      <th>1</th>\n",
              "      <td>Male</td>\n",
              "      <td>Yes</td>\n",
              "      <td>1</td>\n",
              "      <td>Graduate</td>\n",
              "      <td>No</td>\n",
              "      <td>4583</td>\n",
              "      <td>1508.0</td>\n",
              "      <td>128.0</td>\n",
              "      <td>360.0</td>\n",
              "      <td>1.0</td>\n",
              "      <td>Rural</td>\n",
              "      <td>N</td>\n",
              "    </tr>\n",
              "    <tr>\n",
              "      <th>2</th>\n",
              "      <td>Male</td>\n",
              "      <td>Yes</td>\n",
              "      <td>0</td>\n",
              "      <td>Graduate</td>\n",
              "      <td>Yes</td>\n",
              "      <td>3000</td>\n",
              "      <td>0.0</td>\n",
              "      <td>66.0</td>\n",
              "      <td>360.0</td>\n",
              "      <td>1.0</td>\n",
              "      <td>Urban</td>\n",
              "      <td>Y</td>\n",
              "    </tr>\n",
              "    <tr>\n",
              "      <th>3</th>\n",
              "      <td>Male</td>\n",
              "      <td>Yes</td>\n",
              "      <td>0</td>\n",
              "      <td>Not Graduate</td>\n",
              "      <td>No</td>\n",
              "      <td>2583</td>\n",
              "      <td>2358.0</td>\n",
              "      <td>120.0</td>\n",
              "      <td>360.0</td>\n",
              "      <td>1.0</td>\n",
              "      <td>Urban</td>\n",
              "      <td>Y</td>\n",
              "    </tr>\n",
              "    <tr>\n",
              "      <th>4</th>\n",
              "      <td>Male</td>\n",
              "      <td>No</td>\n",
              "      <td>0</td>\n",
              "      <td>Graduate</td>\n",
              "      <td>No</td>\n",
              "      <td>6000</td>\n",
              "      <td>0.0</td>\n",
              "      <td>141.0</td>\n",
              "      <td>360.0</td>\n",
              "      <td>1.0</td>\n",
              "      <td>Urban</td>\n",
              "      <td>Y</td>\n",
              "    </tr>\n",
              "    <tr>\n",
              "      <th>...</th>\n",
              "      <td>...</td>\n",
              "      <td>...</td>\n",
              "      <td>...</td>\n",
              "      <td>...</td>\n",
              "      <td>...</td>\n",
              "      <td>...</td>\n",
              "      <td>...</td>\n",
              "      <td>...</td>\n",
              "      <td>...</td>\n",
              "      <td>...</td>\n",
              "      <td>...</td>\n",
              "      <td>...</td>\n",
              "    </tr>\n",
              "    <tr>\n",
              "      <th>609</th>\n",
              "      <td>Female</td>\n",
              "      <td>No</td>\n",
              "      <td>0</td>\n",
              "      <td>Graduate</td>\n",
              "      <td>No</td>\n",
              "      <td>2900</td>\n",
              "      <td>0.0</td>\n",
              "      <td>71.0</td>\n",
              "      <td>360.0</td>\n",
              "      <td>1.0</td>\n",
              "      <td>Rural</td>\n",
              "      <td>Y</td>\n",
              "    </tr>\n",
              "    <tr>\n",
              "      <th>610</th>\n",
              "      <td>Male</td>\n",
              "      <td>Yes</td>\n",
              "      <td>3+</td>\n",
              "      <td>Graduate</td>\n",
              "      <td>No</td>\n",
              "      <td>4106</td>\n",
              "      <td>0.0</td>\n",
              "      <td>40.0</td>\n",
              "      <td>180.0</td>\n",
              "      <td>1.0</td>\n",
              "      <td>Rural</td>\n",
              "      <td>Y</td>\n",
              "    </tr>\n",
              "    <tr>\n",
              "      <th>611</th>\n",
              "      <td>Male</td>\n",
              "      <td>Yes</td>\n",
              "      <td>1</td>\n",
              "      <td>Graduate</td>\n",
              "      <td>No</td>\n",
              "      <td>8072</td>\n",
              "      <td>240.0</td>\n",
              "      <td>253.0</td>\n",
              "      <td>360.0</td>\n",
              "      <td>1.0</td>\n",
              "      <td>Urban</td>\n",
              "      <td>Y</td>\n",
              "    </tr>\n",
              "    <tr>\n",
              "      <th>612</th>\n",
              "      <td>Male</td>\n",
              "      <td>Yes</td>\n",
              "      <td>2</td>\n",
              "      <td>Graduate</td>\n",
              "      <td>No</td>\n",
              "      <td>7583</td>\n",
              "      <td>0.0</td>\n",
              "      <td>187.0</td>\n",
              "      <td>360.0</td>\n",
              "      <td>1.0</td>\n",
              "      <td>Urban</td>\n",
              "      <td>Y</td>\n",
              "    </tr>\n",
              "    <tr>\n",
              "      <th>613</th>\n",
              "      <td>Female</td>\n",
              "      <td>No</td>\n",
              "      <td>0</td>\n",
              "      <td>Graduate</td>\n",
              "      <td>Yes</td>\n",
              "      <td>4583</td>\n",
              "      <td>0.0</td>\n",
              "      <td>133.0</td>\n",
              "      <td>360.0</td>\n",
              "      <td>0.0</td>\n",
              "      <td>Semiurban</td>\n",
              "      <td>N</td>\n",
              "    </tr>\n",
              "  </tbody>\n",
              "</table>\n",
              "<p>614 rows × 12 columns</p>\n",
              "</div>"
            ],
            "text/plain": [
              "     Gender Married Dependents  ... Credit_History Property_Area  Loan_Status\n",
              "0      Male      No          0  ...            1.0         Urban            Y\n",
              "1      Male     Yes          1  ...            1.0         Rural            N\n",
              "2      Male     Yes          0  ...            1.0         Urban            Y\n",
              "3      Male     Yes          0  ...            1.0         Urban            Y\n",
              "4      Male      No          0  ...            1.0         Urban            Y\n",
              "..      ...     ...        ...  ...            ...           ...          ...\n",
              "609  Female      No          0  ...            1.0         Rural            Y\n",
              "610    Male     Yes         3+  ...            1.0         Rural            Y\n",
              "611    Male     Yes          1  ...            1.0         Urban            Y\n",
              "612    Male     Yes          2  ...            1.0         Urban            Y\n",
              "613  Female      No          0  ...            0.0     Semiurban            N\n",
              "\n",
              "[614 rows x 12 columns]"
            ]
          },
          "metadata": {
            "tags": []
          },
          "execution_count": 6
        }
      ]
    },
    {
      "cell_type": "markdown",
      "metadata": {
        "id": "l0Z_6HYf1tDK",
        "colab_type": "text"
      },
      "source": [
        "**Problem 2-** Identifying Continous & Categorical Columns"
      ]
    },
    {
      "cell_type": "markdown",
      "metadata": {
        "id": "n9TkuDBfzjqf",
        "colab_type": "text"
      },
      "source": [
        "***Categorical Columns***"
      ]
    },
    {
      "cell_type": "code",
      "metadata": {
        "id": "217IuOOkDzFe",
        "colab_type": "code",
        "colab": {
          "base_uri": "https://localhost:8080/",
          "height": 156
        },
        "outputId": "b54963fa-6e71-4ad7-e149-d2b39329e013"
      },
      "source": [
        "#Categorical variable\n",
        "for i in df:\n",
        "  if len(df[i].unique())<=5:\n",
        "    print(i)"
      ],
      "execution_count": 203,
      "outputs": [
        {
          "output_type": "stream",
          "text": [
            "Gender\n",
            "Married\n",
            "Dependents\n",
            "Education\n",
            "Self_Employed\n",
            "Credit_History\n",
            "Property_Area\n",
            "Loan_Status\n"
          ],
          "name": "stdout"
        }
      ]
    },
    {
      "cell_type": "code",
      "metadata": {
        "id": "eFVy1FMXDpUr",
        "colab_type": "code",
        "colab": {
          "base_uri": "https://localhost:8080/",
          "height": 139
        },
        "outputId": "8318eff0-76a6-4f71-eda5-c59deccb8e86"
      },
      "source": [
        "#Continous variable\n",
        "a = df._get_numeric_data().columns\n",
        "print(a)\n",
        "for i in a:\n",
        "  if len(df[i].unique())>5:\n",
        "    print(i)"
      ],
      "execution_count": 204,
      "outputs": [
        {
          "output_type": "stream",
          "text": [
            "Index(['ApplicantIncome', 'CoapplicantIncome', 'LoanAmount',\n",
            "       'Loan_Amount_Term', 'Credit_History'],\n",
            "      dtype='object')\n",
            "ApplicantIncome\n",
            "CoapplicantIncome\n",
            "LoanAmount\n",
            "Loan_Amount_Term\n"
          ],
          "name": "stdout"
        }
      ]
    },
    {
      "cell_type": "markdown",
      "metadata": {
        "id": "VHD4QfU6GVAF",
        "colab_type": "text"
      },
      "source": [
        "**Problem 3-** Performing Uni-variate Analysis with Plots.Record your Observations"
      ]
    },
    {
      "cell_type": "code",
      "metadata": {
        "id": "qt3GAXvaFSp6",
        "colab_type": "code",
        "outputId": "3cdca04d-10df-4427-ea46-88b6c84751aa",
        "colab": {
          "base_uri": "https://localhost:8080/",
          "height": 606
        }
      },
      "source": [
        "a=df.hist(figsize=[12,8])\n",
        "print(a)"
      ],
      "execution_count": 0,
      "outputs": [
        {
          "output_type": "stream",
          "text": [
            "[[<matplotlib.axes._subplots.AxesSubplot object at 0x7f1b3458c5c0>\n",
            "  <matplotlib.axes._subplots.AxesSubplot object at 0x7f1b345b3780>]\n",
            " [<matplotlib.axes._subplots.AxesSubplot object at 0x7f1b3456d630>\n",
            "  <matplotlib.axes._subplots.AxesSubplot object at 0x7f1b3451e9b0>]\n",
            " [<matplotlib.axes._subplots.AxesSubplot object at 0x7f1b344d0d30>\n",
            "  <matplotlib.axes._subplots.AxesSubplot object at 0x7f1b344900f0>]]\n"
          ],
          "name": "stdout"
        },
        {
          "output_type": "display_data",
          "data": {
            "image/png": "[encoded data removed]",
            "text/plain": [
              "<Figure size 864x576 with 6 Axes>"
            ]
          },
          "metadata": {
            "tags": [],
            "needs_background": "light"
          }
        }
      ]
    },
    {
      "cell_type": "code",
      "metadata": {
        "id": "QXrBySG8IyN-",
        "colab_type": "code",
        "outputId": "ef95e02f-a2fe-4aae-a6fa-fba29d70fa77",
        "colab": {
          "base_uri": "https://localhost:8080/",
          "height": 309
        }
      },
      "source": [
        "df['Gender'].value_counts().plot.bar()"
      ],
      "execution_count": 0,
      "outputs": [
        {
          "output_type": "execute_result",
          "data": {
            "text/plain": [
              "<matplotlib.axes._subplots.AxesSubplot at 0x7f1b342b91d0>"
            ]
          },
          "metadata": {
            "tags": []
          },
          "execution_count": 32
        },
        {
          "output_type": "display_data",
          "data": {
            "image/png": "[encoded data removed]",
            "text/plain": [
              "<Figure size 432x288 with 1 Axes>"
            ]
          },
          "metadata": {
            "tags": [],
            "needs_background": "light"
          }
        }
      ]
    },
    {
      "cell_type": "code",
      "metadata": {
        "id": "540YPRSQLDW7",
        "colab_type": "code",
        "outputId": "98bc08f9-7f5a-4dab-e01f-43ce8a869bf4",
        "colab": {
          "base_uri": "https://localhost:8080/",
          "height": 289
        }
      },
      "source": [
        "df['Married'].value_counts().plot.bar()"
      ],
      "execution_count": 0,
      "outputs": [
        {
          "output_type": "execute_result",
          "data": {
            "text/plain": [
              "<matplotlib.axes._subplots.AxesSubplot at 0x7f1b34383cc0>"
            ]
          },
          "metadata": {
            "tags": []
          },
          "execution_count": 28
        },
        {
          "output_type": "display_data",
          "data": {
            "image/png": "[encoded data removed]",
            "text/plain": [
              "<Figure size 432x288 with 1 Axes>"
            ]
          },
          "metadata": {
            "tags": [],
            "needs_background": "light"
          }
        }
      ]
    },
    {
      "cell_type": "code",
      "metadata": {
        "id": "KsygFOnnLOZm",
        "colab_type": "code",
        "colab": {}
      },
      "source": [
        "df['Education'].value_counts().plot.bar()"
      ],
      "execution_count": 0,
      "outputs": []
    },
    {
      "cell_type": "code",
      "metadata": {
        "id": "V4UpYJEgLZC_",
        "colab_type": "code",
        "outputId": "7f1efe60-4558-4f48-fcfb-afeec352a7c6",
        "colab": {
          "base_uri": "https://localhost:8080/",
          "height": 289
        }
      },
      "source": [
        "df['Self_Employed'].value_counts().plot.bar()"
      ],
      "execution_count": 0,
      "outputs": [
        {
          "output_type": "execute_result",
          "data": {
            "text/plain": [
              "<matplotlib.axes._subplots.AxesSubplot at 0x7f1b341d9b00>"
            ]
          },
          "metadata": {
            "tags": []
          },
          "execution_count": 34
        },
        {
          "output_type": "display_data",
          "data": {
            "image/png": "[encoded data removed]",
            "text/plain": [
              "<Figure size 432x288 with 1 Axes>"
            ]
          },
          "metadata": {
            "tags": [],
            "needs_background": "light"
          }
        }
      ]
    },
    {
      "cell_type": "code",
      "metadata": {
        "id": "L_OR6bxMLisj",
        "colab_type": "code",
        "outputId": "1e6985b6-7d59-4dcf-d8db-dcd761fbd802",
        "colab": {
          "base_uri": "https://localhost:8080/",
          "height": 327
        }
      },
      "source": [
        "df['Property_Area'].value_counts().plot.bar()"
      ],
      "execution_count": 0,
      "outputs": [
        {
          "output_type": "execute_result",
          "data": {
            "text/plain": [
              "<matplotlib.axes._subplots.AxesSubplot at 0x7f1b342b9160>"
            ]
          },
          "metadata": {
            "tags": []
          },
          "execution_count": 35
        },
        {
          "output_type": "display_data",
          "data": {
            "image/png": "[encoded data removed]",
            "text/plain": [
              "<Figure size 432x288 with 1 Axes>"
            ]
          },
          "metadata": {
            "tags": [],
            "needs_background": "light"
          }
        }
      ]
    },
    {
      "cell_type": "code",
      "metadata": {
        "id": "vNYhQ0_4LrWw",
        "colab_type": "code",
        "outputId": "b9bcaf87-3f33-49b8-fe2e-f8f8fbbf03ab",
        "colab": {
          "base_uri": "https://localhost:8080/",
          "height": 281
        }
      },
      "source": [
        "df['Loan_Status'].value_counts().plot.bar()"
      ],
      "execution_count": 0,
      "outputs": [
        {
          "output_type": "execute_result",
          "data": {
            "text/plain": [
              "<matplotlib.axes._subplots.AxesSubplot at 0x7f1b34110208>"
            ]
          },
          "metadata": {
            "tags": []
          },
          "execution_count": 36
        },
        {
          "output_type": "display_data",
          "data": {
            "image/png": "[encoded data removed]",
            "text/plain": [
              "<Figure size 432x288 with 1 Axes>"
            ]
          },
          "metadata": {
            "tags": [],
            "needs_background": "light"
          }
        }
      ]
    },
    {
      "cell_type": "markdown",
      "metadata": {
        "id": "l6aEv2jdPmO1",
        "colab_type": "text"
      },
      "source": [
        "**Problem 4-** Perform Bi-variate Analysis among all Independent variables.Draw appropriate Plots , mention observations"
      ]
    },
    {
      "cell_type": "code",
      "metadata": {
        "id": "a96OPy-WOz0I",
        "colab_type": "code",
        "outputId": "aa954357-8b51-4cf5-cd3b-738f7a34d480",
        "colab": {
          "base_uri": "https://localhost:8080/",
          "height": 297
        }
      },
      "source": [
        "df.plot.scatter(x='ApplicantIncome', y='CoapplicantIncome')"
      ],
      "execution_count": 0,
      "outputs": [
        {
          "output_type": "execute_result",
          "data": {
            "text/plain": [
              "<matplotlib.axes._subplots.AxesSubplot at 0x7f1b34a8a828>"
            ]
          },
          "metadata": {
            "tags": []
          },
          "execution_count": 44
        },
        {
          "output_type": "display_data",
          "data": {
            "image/png": "[encoded data removed]",
            "text/plain": [
              "<Figure size 432x288 with 1 Axes>"
            ]
          },
          "metadata": {
            "tags": [],
            "needs_background": "light"
          }
        }
      ]
    },
    {
      "cell_type": "code",
      "metadata": {
        "id": "nxiXSeXtQZA-",
        "colab_type": "code",
        "colab": {}
      },
      "source": [
        "df.plot.scatter(x='Loan_Amount_Term', y='LoanAmount')"
      ],
      "execution_count": 0,
      "outputs": []
    },
    {
      "cell_type": "markdown",
      "metadata": {
        "id": "VBGrKiACRidV",
        "colab_type": "text"
      },
      "source": [
        "**Problem 5-** Perform Bi-variate Analysis between Target Variable and each Independent variable. Use suitable plot , mention observations,trends etc"
      ]
    },
    {
      "cell_type": "code",
      "metadata": {
        "id": "CBXHdZ3yRhXo",
        "colab_type": "code",
        "outputId": "c39abfb5-efba-431c-f1b6-71899308d73e",
        "colab": {
          "base_uri": "https://localhost:8080/",
          "height": 298
        }
      },
      "source": [
        "df.plot.scatter(x='Loan_Status', y='ApplicantIncome')"
      ],
      "execution_count": 0,
      "outputs": [
        {
          "output_type": "execute_result",
          "data": {
            "text/plain": [
              "<matplotlib.axes._subplots.AxesSubplot at 0x7f1b31786a20>"
            ]
          },
          "metadata": {
            "tags": []
          },
          "execution_count": 40
        },
        {
          "output_type": "display_data",
          "data": {
            "image/png": "[encoded data removed]",
            "text/plain": [
              "<Figure size 432x288 with 1 Axes>"
            ]
          },
          "metadata": {
            "tags": [],
            "needs_background": "light"
          }
        }
      ]
    },
    {
      "cell_type": "code",
      "metadata": {
        "id": "YbvNpVXFx7eB",
        "colab_type": "code",
        "outputId": "f27d6da5-ce69-44b2-a867-58bc1c5cfd7a",
        "colab": {
          "base_uri": "https://localhost:8080/",
          "height": 298
        }
      },
      "source": [
        "df.plot.scatter(x='Loan_Status', y='CoapplicantIncome')"
      ],
      "execution_count": 0,
      "outputs": [
        {
          "output_type": "execute_result",
          "data": {
            "text/plain": [
              "<matplotlib.axes._subplots.AxesSubplot at 0x7f1b348e82b0>"
            ]
          },
          "metadata": {
            "tags": []
          },
          "execution_count": 42
        },
        {
          "output_type": "display_data",
          "data": {
            "image/png": "[encoded data removed]",
            "text/plain": [
              "<Figure size 432x288 with 1 Axes>"
            ]
          },
          "metadata": {
            "tags": [],
            "needs_background": "light"
          }
        }
      ]
    },
    {
      "cell_type": "code",
      "metadata": {
        "id": "17MjQmwVyLL7",
        "colab_type": "code",
        "outputId": "184b6796-4a05-4f17-90b3-74746310231e",
        "colab": {
          "base_uri": "https://localhost:8080/",
          "height": 298
        }
      },
      "source": [
        "df.plot.scatter(x= 'Loan_Status',y= 'LoanAmount')"
      ],
      "execution_count": 0,
      "outputs": [
        {
          "output_type": "execute_result",
          "data": {
            "text/plain": [
              "<matplotlib.axes._subplots.AxesSubplot at 0x7f1b34ac3f98>"
            ]
          },
          "metadata": {
            "tags": []
          },
          "execution_count": 45
        },
        {
          "output_type": "display_data",
          "data": {
            "image/png": "[encoded data removed]",
            "text/plain": [
              "<Figure size 432x288 with 1 Axes>"
            ]
          },
          "metadata": {
            "tags": [],
            "needs_background": "light"
          }
        }
      ]
    },
    {
      "cell_type": "code",
      "metadata": {
        "id": "qKyhrSL7yowh",
        "colab_type": "code",
        "outputId": "08571646-8e31-4853-8ebe-110952c459d6",
        "colab": {
          "base_uri": "https://localhost:8080/",
          "height": 301
        }
      },
      "source": [
        "df.plot.scatter(x= 'Loan_Status',y= 'Loan_Amount_Term')"
      ],
      "execution_count": 0,
      "outputs": [
        {
          "output_type": "execute_result",
          "data": {
            "text/plain": [
              "<matplotlib.axes._subplots.AxesSubplot at 0x7f1b348cfb00>"
            ]
          },
          "metadata": {
            "tags": []
          },
          "execution_count": 46
        },
        {
          "output_type": "display_data",
          "data": {
            "image/png": "[encoded data removed]",
            "text/plain": [
              "<Figure size 432x288 with 1 Axes>"
            ]
          },
          "metadata": {
            "tags": [],
            "needs_background": "light"
          }
        }
      ]
    },
    {
      "cell_type": "markdown",
      "metadata": {
        "id": "xvyOcG6qgf3L",
        "colab_type": "text"
      },
      "source": [
        "**Problem 6-** How is the class distribution (Y/N) in Label(Target) Variable ?"
      ]
    },
    {
      "cell_type": "code",
      "metadata": {
        "id": "EKQf51WEgZna",
        "colab_type": "code",
        "outputId": "03a1374a-559e-49a5-f697-d1f7d8c6594f",
        "colab": {
          "base_uri": "https://localhost:8080/",
          "height": 159
        }
      },
      "source": [
        "df.groupby('Loan_Status').count()"
      ],
      "execution_count": 0,
      "outputs": [
        {
          "output_type": "execute_result",
          "data": {
            "text/html": [
              "<div>\n",
              "<style scoped>\n",
              "    .dataframe tbody tr th:only-of-type {\n",
              "        vertical-align: middle;\n",
              "    }\n",
              "\n",
              "    .dataframe tbody tr th {\n",
              "        vertical-align: top;\n",
              "    }\n",
              "\n",
              "    .dataframe thead th {\n",
              "        text-align: right;\n",
              "    }\n",
              "</style>\n",
              "<table border=\"1\" class=\"dataframe\">\n",
              "  <thead>\n",
              "    <tr style=\"text-align: right;\">\n",
              "      <th></th>\n",
              "      <th>Loan_ID</th>\n",
              "      <th>Gender</th>\n",
              "      <th>Married</th>\n",
              "      <th>Dependents</th>\n",
              "      <th>Education</th>\n",
              "      <th>Self_Employed</th>\n",
              "      <th>ApplicantIncome</th>\n",
              "      <th>CoapplicantIncome</th>\n",
              "      <th>LoanAmount</th>\n",
              "      <th>Loan_Amount_Term</th>\n",
              "      <th>Credit_History</th>\n",
              "      <th>Property_Area</th>\n",
              "    </tr>\n",
              "    <tr>\n",
              "      <th>Loan_Status</th>\n",
              "      <th></th>\n",
              "      <th></th>\n",
              "      <th></th>\n",
              "      <th></th>\n",
              "      <th></th>\n",
              "      <th></th>\n",
              "      <th></th>\n",
              "      <th></th>\n",
              "      <th></th>\n",
              "      <th></th>\n",
              "      <th></th>\n",
              "      <th></th>\n",
              "    </tr>\n",
              "  </thead>\n",
              "  <tbody>\n",
              "    <tr>\n",
              "      <th>N</th>\n",
              "      <td>192</td>\n",
              "      <td>187</td>\n",
              "      <td>192</td>\n",
              "      <td>186</td>\n",
              "      <td>192</td>\n",
              "      <td>183</td>\n",
              "      <td>192</td>\n",
              "      <td>192</td>\n",
              "      <td>181</td>\n",
              "      <td>186</td>\n",
              "      <td>179</td>\n",
              "      <td>192</td>\n",
              "    </tr>\n",
              "    <tr>\n",
              "      <th>Y</th>\n",
              "      <td>422</td>\n",
              "      <td>414</td>\n",
              "      <td>419</td>\n",
              "      <td>413</td>\n",
              "      <td>422</td>\n",
              "      <td>399</td>\n",
              "      <td>422</td>\n",
              "      <td>422</td>\n",
              "      <td>411</td>\n",
              "      <td>414</td>\n",
              "      <td>385</td>\n",
              "      <td>422</td>\n",
              "    </tr>\n",
              "  </tbody>\n",
              "</table>\n",
              "</div>"
            ],
            "text/plain": [
              "             Loan_ID  Gender  ...  Credit_History  Property_Area\n",
              "Loan_Status                   ...                               \n",
              "N                192     187  ...             179            192\n",
              "Y                422     414  ...             385            422\n",
              "\n",
              "[2 rows x 12 columns]"
            ]
          },
          "metadata": {
            "tags": []
          },
          "execution_count": 47
        }
      ]
    },
    {
      "cell_type": "code",
      "metadata": {
        "id": "jIG_-M3fzRGI",
        "colab_type": "code",
        "outputId": "aede6102-c06c-456b-f34c-d3cb490ab1a1",
        "colab": {
          "base_uri": "https://localhost:8080/",
          "height": 428
        }
      },
      "source": [
        "df.groupby('Loan_Status').count().boxplot(figsize=[18,7],fontsize=8)"
      ],
      "execution_count": 0,
      "outputs": [
        {
          "output_type": "execute_result",
          "data": {
            "text/plain": [
              "<matplotlib.axes._subplots.AxesSubplot at 0x7f1b30d5ecc0>"
            ]
          },
          "metadata": {
            "tags": []
          },
          "execution_count": 60
        },
        {
          "output_type": "display_data",
          "data": {
            "image/png": "[encoded data removed]",
            "text/plain": [
              "<Figure size 1296x504 with 1 Axes>"
            ]
          },
          "metadata": {
            "tags": [],
            "needs_background": "light"
          }
        }
      ]
    },
    {
      "cell_type": "code",
      "metadata": {
        "id": "iBgoZbjs3cO4",
        "colab_type": "code",
        "outputId": "5f18219a-7d1d-4c43-fddc-34e1820e2474",
        "colab": {
          "base_uri": "https://localhost:8080/",
          "height": 200
        }
      },
      "source": [
        "corr = df.corr()\n",
        "corr.head()"
      ],
      "execution_count": 0,
      "outputs": [
        {
          "output_type": "execute_result",
          "data": {
            "text/html": [
              "<div>\n",
              "<style scoped>\n",
              "    .dataframe tbody tr th:only-of-type {\n",
              "        vertical-align: middle;\n",
              "    }\n",
              "\n",
              "    .dataframe tbody tr th {\n",
              "        vertical-align: top;\n",
              "    }\n",
              "\n",
              "    .dataframe thead th {\n",
              "        text-align: right;\n",
              "    }\n",
              "</style>\n",
              "<table border=\"1\" class=\"dataframe\">\n",
              "  <thead>\n",
              "    <tr style=\"text-align: right;\">\n",
              "      <th></th>\n",
              "      <th>ApplicantIncome</th>\n",
              "      <th>CoapplicantIncome</th>\n",
              "      <th>LoanAmount</th>\n",
              "      <th>Loan_Amount_Term</th>\n",
              "      <th>Credit_History</th>\n",
              "    </tr>\n",
              "  </thead>\n",
              "  <tbody>\n",
              "    <tr>\n",
              "      <th>ApplicantIncome</th>\n",
              "      <td>1.000000</td>\n",
              "      <td>-0.116605</td>\n",
              "      <td>0.570909</td>\n",
              "      <td>-0.045306</td>\n",
              "      <td>-0.014715</td>\n",
              "    </tr>\n",
              "    <tr>\n",
              "      <th>CoapplicantIncome</th>\n",
              "      <td>-0.116605</td>\n",
              "      <td>1.000000</td>\n",
              "      <td>0.188619</td>\n",
              "      <td>-0.059878</td>\n",
              "      <td>-0.002056</td>\n",
              "    </tr>\n",
              "    <tr>\n",
              "      <th>LoanAmount</th>\n",
              "      <td>0.570909</td>\n",
              "      <td>0.188619</td>\n",
              "      <td>1.000000</td>\n",
              "      <td>0.039447</td>\n",
              "      <td>-0.008433</td>\n",
              "    </tr>\n",
              "    <tr>\n",
              "      <th>Loan_Amount_Term</th>\n",
              "      <td>-0.045306</td>\n",
              "      <td>-0.059878</td>\n",
              "      <td>0.039447</td>\n",
              "      <td>1.000000</td>\n",
              "      <td>0.001470</td>\n",
              "    </tr>\n",
              "    <tr>\n",
              "      <th>Credit_History</th>\n",
              "      <td>-0.014715</td>\n",
              "      <td>-0.002056</td>\n",
              "      <td>-0.008433</td>\n",
              "      <td>0.001470</td>\n",
              "      <td>1.000000</td>\n",
              "    </tr>\n",
              "  </tbody>\n",
              "</table>\n",
              "</div>"
            ],
            "text/plain": [
              "                   ApplicantIncome  ...  Credit_History\n",
              "ApplicantIncome           1.000000  ...       -0.014715\n",
              "CoapplicantIncome        -0.116605  ...       -0.002056\n",
              "LoanAmount                0.570909  ...       -0.008433\n",
              "Loan_Amount_Term         -0.045306  ...        0.001470\n",
              "Credit_History           -0.014715  ...        1.000000\n",
              "\n",
              "[5 rows x 5 columns]"
            ]
          },
          "metadata": {
            "tags": []
          },
          "execution_count": 62
        }
      ]
    },
    {
      "cell_type": "markdown",
      "metadata": {
        "id": "uQAXv0L54uNW",
        "colab_type": "text"
      },
      "source": [
        "**Problem 7 Identify the Independent Variables that have missing values**."
      ]
    },
    {
      "cell_type": "code",
      "metadata": {
        "id": "337roJ_l4sVo",
        "colab_type": "code",
        "outputId": "fcbad277-2d99-4ef7-cc9e-d492d1a80ad1",
        "colab": {
          "base_uri": "https://localhost:8080/",
          "height": 373
        }
      },
      "source": [
        "cols = df.columns[:] \n",
        "colours = ['#00008B', '#DCDCDC'] \n",
        "sns.heatmap(df[cols].isnull(), cmap=sns.color_palette(colours))"
      ],
      "execution_count": 185,
      "outputs": [
        {
          "output_type": "execute_result",
          "data": {
            "text/plain": [
              "<matplotlib.axes._subplots.AxesSubplot at 0x7f9e9b974a20>"
            ]
          },
          "metadata": {
            "tags": []
          },
          "execution_count": 185
        },
        {
          "output_type": "display_data",
          "data": {
            "image/png": "[encoded data removed]",
            "text/plain": [
              "<Figure size 432x288 with 2 Axes>"
            ]
          },
          "metadata": {
            "tags": [],
            "needs_background": "light"
          }
        }
      ]
    },
    {
      "cell_type": "markdown",
      "metadata": {
        "id": "g89Ei1cs6wdQ",
        "colab_type": "text"
      },
      "source": [
        "variables containing msssing values 1.Gender 2.dependents 3.self employed 4loa amount 5.credit history\n"
      ]
    },
    {
      "cell_type": "markdown",
      "metadata": {
        "id": "z2PLKvXT7S97",
        "colab_type": "text"
      },
      "source": [
        "**Problem 8 - Handle missing values appropriately , explain the technique applied for each case**"
      ]
    },
    {
      "cell_type": "code",
      "metadata": {
        "id": "kOcW36oL6XIy",
        "colab_type": "code",
        "colab": {}
      },
      "source": [
        "# Replace values with NaN\n",
        "data= df.replace('male', np.nan)"
      ],
      "execution_count": 0,
      "outputs": []
    },
    {
      "cell_type": "code",
      "metadata": {
        "id": "KJFwr50sNdO1",
        "colab_type": "code",
        "outputId": "7ede9abe-ef80-4419-d71c-9154f02f4a8e",
        "colab": {
          "base_uri": "https://localhost:8080/",
          "height": 260
        }
      },
      "source": [
        "# Replace values with NaN\n",
        "data['Gender'] = data['Gender'].replace('male', np.nan)\n",
        "data.isnull().sum()\n",
        "\n"
      ],
      "execution_count": 207,
      "outputs": [
        {
          "output_type": "execute_result",
          "data": {
            "text/plain": [
              "Loan_ID               0\n",
              "Gender               13\n",
              "Married               3\n",
              "Dependents           15\n",
              "Education             0\n",
              "Self_Employed        32\n",
              "ApplicantIncome       0\n",
              "CoapplicantIncome     0\n",
              "LoanAmount           22\n",
              "Loan_Amount_Term     14\n",
              "Credit_History       50\n",
              "Property_Area         0\n",
              "Loan_Status           0\n",
              "dtype: int64"
            ]
          },
          "metadata": {
            "tags": []
          },
          "execution_count": 207
        }
      ]
    },
    {
      "cell_type": "code",
      "metadata": {
        "id": "YkzQGjENRyvd",
        "colab_type": "code",
        "outputId": "1e98b667-f7bb-494e-d516-2ac51292ac3d",
        "colab": {
          "base_uri": "https://localhost:8080/",
          "height": 417
        }
      },
      "source": [
        "#Missing data Histogram\n",
        "# first create missing indicator for features with missing data\n",
        "for col in data.columns:\n",
        "    missing = data[col].isnull()\n",
        "    num_missing = np.sum(missing)\n",
        "    \n",
        "    if num_missing > 0:  \n",
        "        print('created missing indicator for: {}'.format(col))\n",
        "        data['{}_ismissing'.format(col)] = missing\n",
        "\n",
        "\n",
        "# then based on the indicator, plot the histogram of missing values\n",
        "ismissing_cols = [col for col in data.columns if 'ismissing' in col]\n",
        "data['num_missing'] = data[ismissing_cols].sum(axis=1)\n",
        "\n",
        "data['num_missing'].value_counts().reset_index().sort_values(by='index').plot.bar(x='index', y='num_missing')"
      ],
      "execution_count": 0,
      "outputs": [
        {
          "output_type": "stream",
          "text": [
            "created missing indicator for: Gender\n",
            "created missing indicator for: Married\n",
            "created missing indicator for: Dependents\n",
            "created missing indicator for: Self_Employed\n",
            "created missing indicator for: LoanAmount\n",
            "created missing indicator for: Loan_Amount_Term\n",
            "created missing indicator for: Credit_History\n"
          ],
          "name": "stdout"
        },
        {
          "output_type": "execute_result",
          "data": {
            "text/plain": [
              "<matplotlib.axes._subplots.AxesSubplot at 0x7f9e9d2584e0>"
            ]
          },
          "metadata": {
            "tags": []
          },
          "execution_count": 102
        },
        {
          "output_type": "display_data",
          "data": {
            "image/png": "[encoded data removed]",
            "text/plain": [
              "<Figure size 432x288 with 1 Axes>"
            ]
          },
          "metadata": {
            "tags": [],
            "needs_background": "light"
          }
        }
      ]
    },
    {
      "cell_type": "code",
      "metadata": {
        "id": "E6zHUpG4csg8",
        "colab_type": "code",
        "outputId": "2d2d4f37-a83b-4be1-8212-9d21c39906b3",
        "colab": {
          "base_uri": "https://localhost:8080/",
          "height": 1000
        }
      },
      "source": [
        "#Impute the observation\n",
        "# replace missing values with the median.\n",
        "print(\"values before imputing\")\n",
        "for v in data['LoanAmount']:\n",
        "    print(v)\n",
        "med = data['LoanAmount'].median()\n",
        "print(\"Median\")\n",
        "print(med)\n",
        "data['LoanAmount'] = data['LoanAmount'].fillna(med)\n",
        "print(\"values after imputing\")\n",
        "for k in data['LoanAmount']:\n",
        "    print(k)\n",
        "\n",
        "# As this code we replace the nun value with median in all columns \n"
      ],
      "execution_count": 0,
      "outputs": [
        {
          "output_type": "stream",
          "text": [
            "values before imputing\n",
            "128.0\n",
            "128.0\n",
            "66.0\n",
            "120.0\n",
            "141.0\n",
            "267.0\n",
            "95.0\n",
            "158.0\n",
            "168.0\n",
            "349.0\n",
            "70.0\n",
            "109.0\n",
            "200.0\n",
            "114.0\n",
            "17.0\n",
            "125.0\n",
            "100.0\n",
            "76.0\n",
            "133.0\n",
            "115.0\n",
            "104.0\n",
            "315.0\n",
            "116.0\n",
            "112.0\n",
            "151.0\n",
            "191.0\n",
            "122.0\n",
            "110.0\n",
            "35.0\n",
            "120.0\n",
            "201.0\n",
            "74.0\n",
            "106.0\n",
            "114.0\n",
            "320.0\n",
            "128.0\n",
            "100.0\n",
            "144.0\n",
            "184.0\n",
            "110.0\n",
            "80.0\n",
            "47.0\n",
            "75.0\n",
            "134.0\n",
            "96.0\n",
            "88.0\n",
            "44.0\n",
            "144.0\n",
            "120.0\n",
            "144.0\n",
            "100.0\n",
            "120.0\n",
            "112.0\n",
            "134.0\n",
            "286.0\n",
            "97.0\n",
            "96.0\n",
            "135.0\n",
            "180.0\n",
            "144.0\n",
            "120.0\n",
            "99.0\n",
            "165.0\n",
            "128.0\n",
            "116.0\n",
            "258.0\n",
            "126.0\n",
            "312.0\n",
            "125.0\n",
            "136.0\n",
            "172.0\n",
            "97.0\n",
            "81.0\n",
            "95.0\n",
            "187.0\n",
            "113.0\n",
            "176.0\n",
            "110.0\n",
            "180.0\n",
            "130.0\n",
            "111.0\n",
            "128.0\n",
            "167.0\n",
            "265.0\n",
            "50.0\n",
            "136.0\n",
            "99.0\n",
            "104.0\n",
            "210.0\n",
            "175.0\n",
            "131.0\n",
            "188.0\n",
            "81.0\n",
            "122.0\n",
            "25.0\n",
            "128.0\n",
            "137.0\n",
            "50.0\n",
            "115.0\n",
            "131.0\n",
            "133.0\n",
            "151.0\n",
            "128.0\n",
            "128.0\n",
            "160.0\n",
            "100.0\n",
            "225.0\n",
            "120.0\n",
            "216.0\n",
            "94.0\n",
            "136.0\n",
            "139.0\n",
            "152.0\n",
            "128.0\n",
            "118.0\n",
            "185.0\n",
            "154.0\n",
            "85.0\n",
            "175.0\n",
            "259.0\n",
            "180.0\n",
            "44.0\n",
            "137.0\n",
            "81.0\n",
            "194.0\n",
            "93.0\n",
            "370.0\n",
            "128.0\n",
            "160.0\n",
            "182.0\n",
            "650.0\n",
            "74.0\n",
            "70.0\n",
            "25.0\n",
            "102.0\n",
            "290.0\n",
            "84.0\n",
            "88.0\n",
            "242.0\n",
            "129.0\n",
            "185.0\n",
            "168.0\n",
            "175.0\n",
            "122.0\n",
            "187.0\n",
            "100.0\n",
            "70.0\n",
            "30.0\n",
            "225.0\n",
            "125.0\n",
            "118.0\n",
            "152.0\n",
            "244.0\n",
            "113.0\n",
            "50.0\n",
            "600.0\n",
            "160.0\n",
            "187.0\n",
            "120.0\n",
            "255.0\n",
            "98.0\n",
            "275.0\n",
            "121.0\n",
            "158.0\n",
            "75.0\n",
            "182.0\n",
            "112.0\n",
            "129.0\n",
            "63.0\n",
            "200.0\n",
            "95.0\n",
            "700.0\n",
            "81.0\n",
            "187.0\n",
            "87.0\n",
            "116.0\n",
            "101.0\n",
            "495.0\n",
            "116.0\n",
            "102.0\n",
            "180.0\n",
            "67.0\n",
            "73.0\n",
            "260.0\n",
            "108.0\n",
            "120.0\n",
            "66.0\n",
            "58.0\n",
            "168.0\n",
            "188.0\n",
            "48.0\n",
            "164.0\n",
            "160.0\n",
            "76.0\n",
            "120.0\n",
            "170.0\n",
            "187.0\n",
            "120.0\n",
            "113.0\n",
            "83.0\n",
            "90.0\n",
            "166.0\n",
            "128.0\n",
            "135.0\n",
            "124.0\n",
            "120.0\n",
            "80.0\n",
            "55.0\n",
            "59.0\n",
            "127.0\n",
            "214.0\n",
            "128.0\n",
            "240.0\n",
            "130.0\n",
            "137.0\n",
            "100.0\n",
            "135.0\n",
            "131.0\n",
            "72.0\n",
            "127.0\n",
            "60.0\n",
            "116.0\n",
            "144.0\n",
            "175.0\n",
            "128.0\n",
            "170.0\n",
            "138.0\n",
            "210.0\n",
            "158.0\n",
            "200.0\n",
            "104.0\n",
            "42.0\n",
            "120.0\n",
            "280.0\n",
            "140.0\n",
            "170.0\n",
            "255.0\n",
            "122.0\n",
            "112.0\n",
            "96.0\n",
            "120.0\n",
            "140.0\n",
            "155.0\n",
            "108.0\n",
            "123.0\n",
            "120.0\n",
            "112.0\n",
            "137.0\n",
            "123.0\n",
            "90.0\n",
            "201.0\n",
            "138.0\n",
            "104.0\n",
            "279.0\n",
            "192.0\n",
            "255.0\n",
            "115.0\n",
            "94.0\n",
            "304.0\n",
            "128.0\n",
            "330.0\n",
            "134.0\n",
            "155.0\n",
            "120.0\n",
            "128.0\n",
            "151.0\n",
            "150.0\n",
            "160.0\n",
            "135.0\n",
            "90.0\n",
            "30.0\n",
            "136.0\n",
            "126.0\n",
            "150.0\n",
            "90.0\n",
            "115.0\n",
            "207.0\n",
            "80.0\n",
            "436.0\n",
            "124.0\n",
            "158.0\n",
            "112.0\n",
            "78.0\n",
            "54.0\n",
            "128.0\n",
            "89.0\n",
            "99.0\n",
            "120.0\n",
            "115.0\n",
            "187.0\n",
            "139.0\n",
            "127.0\n",
            "134.0\n",
            "143.0\n",
            "172.0\n",
            "110.0\n",
            "200.0\n",
            "135.0\n",
            "151.0\n",
            "113.0\n",
            "93.0\n",
            "105.0\n",
            "132.0\n",
            "96.0\n",
            "140.0\n",
            "128.0\n",
            "135.0\n",
            "104.0\n",
            "480.0\n",
            "185.0\n",
            "84.0\n",
            "111.0\n",
            "56.0\n",
            "144.0\n",
            "159.0\n",
            "111.0\n",
            "120.0\n",
            "88.0\n",
            "112.0\n",
            "155.0\n",
            "115.0\n",
            "124.0\n",
            "128.0\n",
            "132.0\n",
            "300.0\n",
            "376.0\n",
            "130.0\n",
            "184.0\n",
            "110.0\n",
            "67.0\n",
            "117.0\n",
            "98.0\n",
            "71.0\n",
            "490.0\n",
            "182.0\n",
            "70.0\n",
            "160.0\n",
            "176.0\n",
            "128.0\n",
            "71.0\n",
            "173.0\n",
            "46.0\n",
            "158.0\n",
            "74.0\n",
            "125.0\n",
            "160.0\n",
            "152.0\n",
            "126.0\n",
            "259.0\n",
            "187.0\n",
            "228.0\n",
            "308.0\n",
            "95.0\n",
            "105.0\n",
            "130.0\n",
            "116.0\n",
            "165.0\n",
            "67.0\n",
            "100.0\n",
            "200.0\n",
            "81.0\n",
            "236.0\n",
            "130.0\n",
            "95.0\n",
            "141.0\n",
            "133.0\n",
            "96.0\n",
            "124.0\n",
            "175.0\n",
            "570.0\n",
            "55.0\n",
            "155.0\n",
            "380.0\n",
            "111.0\n",
            "110.0\n",
            "120.0\n",
            "130.0\n",
            "130.0\n",
            "71.0\n",
            "130.0\n",
            "128.0\n",
            "296.0\n",
            "156.0\n",
            "128.0\n",
            "100.0\n",
            "113.0\n",
            "132.0\n",
            "128.0\n",
            "136.0\n",
            "125.0\n",
            "185.0\n",
            "275.0\n",
            "120.0\n",
            "113.0\n",
            "113.0\n",
            "135.0\n",
            "71.0\n",
            "95.0\n",
            "109.0\n",
            "103.0\n",
            "45.0\n",
            "65.0\n",
            "103.0\n",
            "53.0\n",
            "194.0\n",
            "115.0\n",
            "115.0\n",
            "66.0\n",
            "152.0\n",
            "360.0\n",
            "62.0\n",
            "160.0\n",
            "218.0\n",
            "110.0\n",
            "178.0\n",
            "60.0\n",
            "160.0\n",
            "239.0\n",
            "112.0\n",
            "138.0\n",
            "138.0\n",
            "80.0\n",
            "100.0\n",
            "110.0\n",
            "96.0\n",
            "121.0\n",
            "81.0\n",
            "133.0\n",
            "87.0\n",
            "60.0\n",
            "150.0\n",
            "105.0\n",
            "405.0\n",
            "143.0\n",
            "100.0\n",
            "128.0\n",
            "50.0\n",
            "128.0\n",
            "187.0\n",
            "138.0\n",
            "187.0\n",
            "180.0\n",
            "148.0\n",
            "152.0\n",
            "175.0\n",
            "130.0\n",
            "110.0\n",
            "55.0\n",
            "150.0\n",
            "190.0\n",
            "125.0\n",
            "60.0\n",
            "149.0\n",
            "90.0\n",
            "84.0\n",
            "96.0\n",
            "118.0\n",
            "173.0\n",
            "136.0\n",
            "160.0\n",
            "160.0\n",
            "128.0\n",
            "153.0\n",
            "132.0\n",
            "98.0\n",
            "140.0\n",
            "70.0\n",
            "110.0\n",
            "98.0\n",
            "110.0\n",
            "162.0\n",
            "113.0\n",
            "100.0\n",
            "93.0\n",
            "162.0\n",
            "150.0\n",
            "230.0\n",
            "132.0\n",
            "86.0\n",
            "128.0\n",
            "154.0\n",
            "113.0\n",
            "128.0\n",
            "234.0\n",
            "246.0\n",
            "131.0\n",
            "80.0\n",
            "500.0\n",
            "160.0\n",
            "75.0\n",
            "96.0\n",
            "186.0\n",
            "110.0\n",
            "225.0\n",
            "119.0\n",
            "105.0\n",
            "107.0\n",
            "111.0\n",
            "95.0\n",
            "209.0\n",
            "113.0\n",
            "100.0\n",
            "208.0\n",
            "138.0\n",
            "124.0\n",
            "243.0\n",
            "480.0\n",
            "96.0\n",
            "188.0\n",
            "40.0\n",
            "100.0\n",
            "250.0\n",
            "148.0\n",
            "70.0\n",
            "311.0\n",
            "150.0\n",
            "113.0\n",
            "123.0\n",
            "185.0\n",
            "95.0\n",
            "45.0\n",
            "55.0\n",
            "100.0\n",
            "480.0\n",
            "128.0\n",
            "400.0\n",
            "110.0\n",
            "161.0\n",
            "94.0\n",
            "130.0\n",
            "216.0\n",
            "100.0\n",
            "110.0\n",
            "196.0\n",
            "125.0\n",
            "126.0\n",
            "324.0\n",
            "107.0\n",
            "66.0\n",
            "157.0\n",
            "140.0\n",
            "99.0\n",
            "95.0\n",
            "128.0\n",
            "102.0\n",
            "155.0\n",
            "80.0\n",
            "145.0\n",
            "103.0\n",
            "110.0\n",
            "128.0\n",
            "128.0\n",
            "158.0\n",
            "181.0\n",
            "132.0\n",
            "26.0\n",
            "84.0\n",
            "260.0\n",
            "162.0\n",
            "182.0\n",
            "108.0\n",
            "600.0\n",
            "211.0\n",
            "132.0\n",
            "258.0\n",
            "120.0\n",
            "70.0\n",
            "123.0\n",
            "9.0\n",
            "104.0\n",
            "186.0\n",
            "165.0\n",
            "275.0\n",
            "187.0\n",
            "150.0\n",
            "108.0\n",
            "136.0\n",
            "110.0\n",
            "107.0\n",
            "161.0\n",
            "205.0\n",
            "90.0\n",
            "36.0\n",
            "61.0\n",
            "146.0\n",
            "172.0\n",
            "104.0\n",
            "70.0\n",
            "94.0\n",
            "106.0\n",
            "56.0\n",
            "205.0\n",
            "292.0\n",
            "142.0\n",
            "260.0\n",
            "110.0\n",
            "187.0\n",
            "88.0\n",
            "180.0\n",
            "192.0\n",
            "350.0\n",
            "155.0\n",
            "128.0\n",
            "172.0\n",
            "496.0\n",
            "128.0\n",
            "173.0\n",
            "157.0\n",
            "108.0\n",
            "71.0\n",
            "40.0\n",
            "253.0\n",
            "187.0\n",
            "133.0\n",
            "Median\n",
            "128.0\n",
            "values after imputing\n",
            "128.0\n",
            "128.0\n",
            "66.0\n",
            "120.0\n",
            "141.0\n",
            "267.0\n",
            "95.0\n",
            "158.0\n",
            "168.0\n",
            "349.0\n",
            "70.0\n",
            "109.0\n",
            "200.0\n",
            "114.0\n",
            "17.0\n",
            "125.0\n",
            "100.0\n",
            "76.0\n",
            "133.0\n",
            "115.0\n",
            "104.0\n",
            "315.0\n",
            "116.0\n",
            "112.0\n",
            "151.0\n",
            "191.0\n",
            "122.0\n",
            "110.0\n",
            "35.0\n",
            "120.0\n",
            "201.0\n",
            "74.0\n",
            "106.0\n",
            "114.0\n",
            "320.0\n",
            "128.0\n",
            "100.0\n",
            "144.0\n",
            "184.0\n",
            "110.0\n",
            "80.0\n",
            "47.0\n",
            "75.0\n",
            "134.0\n",
            "96.0\n",
            "88.0\n",
            "44.0\n",
            "144.0\n",
            "120.0\n",
            "144.0\n",
            "100.0\n",
            "120.0\n",
            "112.0\n",
            "134.0\n",
            "286.0\n",
            "97.0\n",
            "96.0\n",
            "135.0\n",
            "180.0\n",
            "144.0\n",
            "120.0\n",
            "99.0\n",
            "165.0\n",
            "128.0\n",
            "116.0\n",
            "258.0\n",
            "126.0\n",
            "312.0\n",
            "125.0\n",
            "136.0\n",
            "172.0\n",
            "97.0\n",
            "81.0\n",
            "95.0\n",
            "187.0\n",
            "113.0\n",
            "176.0\n",
            "110.0\n",
            "180.0\n",
            "130.0\n",
            "111.0\n",
            "128.0\n",
            "167.0\n",
            "265.0\n",
            "50.0\n",
            "136.0\n",
            "99.0\n",
            "104.0\n",
            "210.0\n",
            "175.0\n",
            "131.0\n",
            "188.0\n",
            "81.0\n",
            "122.0\n",
            "25.0\n",
            "128.0\n",
            "137.0\n",
            "50.0\n",
            "115.0\n",
            "131.0\n",
            "133.0\n",
            "151.0\n",
            "128.0\n",
            "128.0\n",
            "160.0\n",
            "100.0\n",
            "225.0\n",
            "120.0\n",
            "216.0\n",
            "94.0\n",
            "136.0\n",
            "139.0\n",
            "152.0\n",
            "128.0\n",
            "118.0\n",
            "185.0\n",
            "154.0\n",
            "85.0\n",
            "175.0\n",
            "259.0\n",
            "180.0\n",
            "44.0\n",
            "137.0\n",
            "81.0\n",
            "194.0\n",
            "93.0\n",
            "370.0\n",
            "128.0\n",
            "160.0\n",
            "182.0\n",
            "650.0\n",
            "74.0\n",
            "70.0\n",
            "25.0\n",
            "102.0\n",
            "290.0\n",
            "84.0\n",
            "88.0\n",
            "242.0\n",
            "129.0\n",
            "185.0\n",
            "168.0\n",
            "175.0\n",
            "122.0\n",
            "187.0\n",
            "100.0\n",
            "70.0\n",
            "30.0\n",
            "225.0\n",
            "125.0\n",
            "118.0\n",
            "152.0\n",
            "244.0\n",
            "113.0\n",
            "50.0\n",
            "600.0\n",
            "160.0\n",
            "187.0\n",
            "120.0\n",
            "255.0\n",
            "98.0\n",
            "275.0\n",
            "121.0\n",
            "158.0\n",
            "75.0\n",
            "182.0\n",
            "112.0\n",
            "129.0\n",
            "63.0\n",
            "200.0\n",
            "95.0\n",
            "700.0\n",
            "81.0\n",
            "187.0\n",
            "87.0\n",
            "116.0\n",
            "101.0\n",
            "495.0\n",
            "116.0\n",
            "102.0\n",
            "180.0\n",
            "67.0\n",
            "73.0\n",
            "260.0\n",
            "108.0\n",
            "120.0\n",
            "66.0\n",
            "58.0\n",
            "168.0\n",
            "188.0\n",
            "48.0\n",
            "164.0\n",
            "160.0\n",
            "76.0\n",
            "120.0\n",
            "170.0\n",
            "187.0\n",
            "120.0\n",
            "113.0\n",
            "83.0\n",
            "90.0\n",
            "166.0\n",
            "128.0\n",
            "135.0\n",
            "124.0\n",
            "120.0\n",
            "80.0\n",
            "55.0\n",
            "59.0\n",
            "127.0\n",
            "214.0\n",
            "128.0\n",
            "240.0\n",
            "130.0\n",
            "137.0\n",
            "100.0\n",
            "135.0\n",
            "131.0\n",
            "72.0\n",
            "127.0\n",
            "60.0\n",
            "116.0\n",
            "144.0\n",
            "175.0\n",
            "128.0\n",
            "170.0\n",
            "138.0\n",
            "210.0\n",
            "158.0\n",
            "200.0\n",
            "104.0\n",
            "42.0\n",
            "120.0\n",
            "280.0\n",
            "140.0\n",
            "170.0\n",
            "255.0\n",
            "122.0\n",
            "112.0\n",
            "96.0\n",
            "120.0\n",
            "140.0\n",
            "155.0\n",
            "108.0\n",
            "123.0\n",
            "120.0\n",
            "112.0\n",
            "137.0\n",
            "123.0\n",
            "90.0\n",
            "201.0\n",
            "138.0\n",
            "104.0\n",
            "279.0\n",
            "192.0\n",
            "255.0\n",
            "115.0\n",
            "94.0\n",
            "304.0\n",
            "128.0\n",
            "330.0\n",
            "134.0\n",
            "155.0\n",
            "120.0\n",
            "128.0\n",
            "151.0\n",
            "150.0\n",
            "160.0\n",
            "135.0\n",
            "90.0\n",
            "30.0\n",
            "136.0\n",
            "126.0\n",
            "150.0\n",
            "90.0\n",
            "115.0\n",
            "207.0\n",
            "80.0\n",
            "436.0\n",
            "124.0\n",
            "158.0\n",
            "112.0\n",
            "78.0\n",
            "54.0\n",
            "128.0\n",
            "89.0\n",
            "99.0\n",
            "120.0\n",
            "115.0\n",
            "187.0\n",
            "139.0\n",
            "127.0\n",
            "134.0\n",
            "143.0\n",
            "172.0\n",
            "110.0\n",
            "200.0\n",
            "135.0\n",
            "151.0\n",
            "113.0\n",
            "93.0\n",
            "105.0\n",
            "132.0\n",
            "96.0\n",
            "140.0\n",
            "128.0\n",
            "135.0\n",
            "104.0\n",
            "480.0\n",
            "185.0\n",
            "84.0\n",
            "111.0\n",
            "56.0\n",
            "144.0\n",
            "159.0\n",
            "111.0\n",
            "120.0\n",
            "88.0\n",
            "112.0\n",
            "155.0\n",
            "115.0\n",
            "124.0\n",
            "128.0\n",
            "132.0\n",
            "300.0\n",
            "376.0\n",
            "130.0\n",
            "184.0\n",
            "110.0\n",
            "67.0\n",
            "117.0\n",
            "98.0\n",
            "71.0\n",
            "490.0\n",
            "182.0\n",
            "70.0\n",
            "160.0\n",
            "176.0\n",
            "128.0\n",
            "71.0\n",
            "173.0\n",
            "46.0\n",
            "158.0\n",
            "74.0\n",
            "125.0\n",
            "160.0\n",
            "152.0\n",
            "126.0\n",
            "259.0\n",
            "187.0\n",
            "228.0\n",
            "308.0\n",
            "95.0\n",
            "105.0\n",
            "130.0\n",
            "116.0\n",
            "165.0\n",
            "67.0\n",
            "100.0\n",
            "200.0\n",
            "81.0\n",
            "236.0\n",
            "130.0\n",
            "95.0\n",
            "141.0\n",
            "133.0\n",
            "96.0\n",
            "124.0\n",
            "175.0\n",
            "570.0\n",
            "55.0\n",
            "155.0\n",
            "380.0\n",
            "111.0\n",
            "110.0\n",
            "120.0\n",
            "130.0\n",
            "130.0\n",
            "71.0\n",
            "130.0\n",
            "128.0\n",
            "296.0\n",
            "156.0\n",
            "128.0\n",
            "100.0\n",
            "113.0\n",
            "132.0\n",
            "128.0\n",
            "136.0\n",
            "125.0\n",
            "185.0\n",
            "275.0\n",
            "120.0\n",
            "113.0\n",
            "113.0\n",
            "135.0\n",
            "71.0\n",
            "95.0\n",
            "109.0\n",
            "103.0\n",
            "45.0\n",
            "65.0\n",
            "103.0\n",
            "53.0\n",
            "194.0\n",
            "115.0\n",
            "115.0\n",
            "66.0\n",
            "152.0\n",
            "360.0\n",
            "62.0\n",
            "160.0\n",
            "218.0\n",
            "110.0\n",
            "178.0\n",
            "60.0\n",
            "160.0\n",
            "239.0\n",
            "112.0\n",
            "138.0\n",
            "138.0\n",
            "80.0\n",
            "100.0\n",
            "110.0\n",
            "96.0\n",
            "121.0\n",
            "81.0\n",
            "133.0\n",
            "87.0\n",
            "60.0\n",
            "150.0\n",
            "105.0\n",
            "405.0\n",
            "143.0\n",
            "100.0\n",
            "128.0\n",
            "50.0\n",
            "128.0\n",
            "187.0\n",
            "138.0\n",
            "187.0\n",
            "180.0\n",
            "148.0\n",
            "152.0\n",
            "175.0\n",
            "130.0\n",
            "110.0\n",
            "55.0\n",
            "150.0\n",
            "190.0\n",
            "125.0\n",
            "60.0\n",
            "149.0\n",
            "90.0\n",
            "84.0\n",
            "96.0\n",
            "118.0\n",
            "173.0\n",
            "136.0\n",
            "160.0\n",
            "160.0\n",
            "128.0\n",
            "153.0\n",
            "132.0\n",
            "98.0\n",
            "140.0\n",
            "70.0\n",
            "110.0\n",
            "98.0\n",
            "110.0\n",
            "162.0\n",
            "113.0\n",
            "100.0\n",
            "93.0\n",
            "162.0\n",
            "150.0\n",
            "230.0\n",
            "132.0\n",
            "86.0\n",
            "128.0\n",
            "154.0\n",
            "113.0\n",
            "128.0\n",
            "234.0\n",
            "246.0\n",
            "131.0\n",
            "80.0\n",
            "500.0\n",
            "160.0\n",
            "75.0\n",
            "96.0\n",
            "186.0\n",
            "110.0\n",
            "225.0\n",
            "119.0\n",
            "105.0\n",
            "107.0\n",
            "111.0\n",
            "95.0\n",
            "209.0\n",
            "113.0\n",
            "100.0\n",
            "208.0\n",
            "138.0\n",
            "124.0\n",
            "243.0\n",
            "480.0\n",
            "96.0\n",
            "188.0\n",
            "40.0\n",
            "100.0\n",
            "250.0\n",
            "148.0\n",
            "70.0\n",
            "311.0\n",
            "150.0\n",
            "113.0\n",
            "123.0\n",
            "185.0\n",
            "95.0\n",
            "45.0\n",
            "55.0\n",
            "100.0\n",
            "480.0\n",
            "128.0\n",
            "400.0\n",
            "110.0\n",
            "161.0\n",
            "94.0\n",
            "130.0\n",
            "216.0\n",
            "100.0\n",
            "110.0\n",
            "196.0\n",
            "125.0\n",
            "126.0\n",
            "324.0\n",
            "107.0\n",
            "66.0\n",
            "157.0\n",
            "140.0\n",
            "99.0\n",
            "95.0\n",
            "128.0\n",
            "102.0\n",
            "155.0\n",
            "80.0\n",
            "145.0\n",
            "103.0\n",
            "110.0\n",
            "128.0\n",
            "128.0\n",
            "158.0\n",
            "181.0\n",
            "132.0\n",
            "26.0\n",
            "84.0\n",
            "260.0\n",
            "162.0\n",
            "182.0\n",
            "108.0\n",
            "600.0\n",
            "211.0\n",
            "132.0\n",
            "258.0\n",
            "120.0\n",
            "70.0\n",
            "123.0\n",
            "9.0\n",
            "104.0\n",
            "186.0\n",
            "165.0\n",
            "275.0\n",
            "187.0\n",
            "150.0\n",
            "108.0\n",
            "136.0\n",
            "110.0\n",
            "107.0\n",
            "161.0\n",
            "205.0\n",
            "90.0\n",
            "36.0\n",
            "61.0\n",
            "146.0\n",
            "172.0\n",
            "104.0\n",
            "70.0\n",
            "94.0\n",
            "106.0\n",
            "56.0\n",
            "205.0\n",
            "292.0\n",
            "142.0\n",
            "260.0\n",
            "110.0\n",
            "187.0\n",
            "88.0\n",
            "180.0\n",
            "192.0\n",
            "350.0\n",
            "155.0\n",
            "128.0\n",
            "172.0\n",
            "496.0\n",
            "128.0\n",
            "173.0\n",
            "157.0\n",
            "108.0\n",
            "71.0\n",
            "40.0\n",
            "253.0\n",
            "187.0\n",
            "133.0\n"
          ],
          "name": "stdout"
        }
      ]
    },
    {
      "cell_type": "markdown",
      "metadata": {
        "id": "4AO6soZtvnTS",
        "colab_type": "text"
      },
      "source": [
        "**Problem 9. Identify the Outliers in each Independent Variable.Distribute the data in each field using Quartile bins (0-25%,25%-50%,50%-75%,75%-100% iles)**\n"
      ]
    },
    {
      "cell_type": "code",
      "metadata": {
        "id": "70DJoxKAvmeN",
        "colab_type": "code",
        "outputId": "2a5c5a54-9fde-4a0d-d926-041a11c7121c",
        "colab": {
          "base_uri": "https://localhost:8080/",
          "height": 336
        }
      },
      "source": [
        "df.hist('ApplicantIncome', bins=100)"
      ],
      "execution_count": 0,
      "outputs": [
        {
          "output_type": "execute_result",
          "data": {
            "text/plain": [
              "array([[<matplotlib.axes._subplots.AxesSubplot object at 0x7f9e9b86d6a0>]],\n",
              "      dtype=object)"
            ]
          },
          "metadata": {
            "tags": []
          },
          "execution_count": 149
        },
        {
          "output_type": "display_data",
          "data": {
            "image/png": "[encoded data removed]",
            "text/plain": [
              "<Figure size 432x288 with 1 Axes>"
            ]
          },
          "metadata": {
            "tags": [],
            "needs_background": "light"
          }
        }
      ]
    },
    {
      "cell_type": "code",
      "metadata": {
        "id": "nN25A5XEv0eg",
        "colab_type": "code",
        "outputId": "ac3aa570-b666-4c4d-ea87-3768b2bc7c6c",
        "colab": {
          "base_uri": "https://localhost:8080/",
          "height": 173
        }
      },
      "source": [
        "df['ApplicantIncome'].describe()\n"
      ],
      "execution_count": 0,
      "outputs": [
        {
          "output_type": "execute_result",
          "data": {
            "text/plain": [
              "count      614.000000\n",
              "mean      5403.459283\n",
              "std       6109.041673\n",
              "min        150.000000\n",
              "25%       2877.500000\n",
              "50%       3812.500000\n",
              "75%       5795.000000\n",
              "max      81000.000000\n",
              "Name: ApplicantIncome, dtype: float64"
            ]
          },
          "metadata": {
            "tags": []
          },
          "execution_count": 150
        }
      ]
    },
    {
      "cell_type": "code",
      "metadata": {
        "id": "VDlaXXERv-fF",
        "colab_type": "code",
        "outputId": "c6a4b796-70c2-4440-e92e-04e6a939d266",
        "colab": {
          "base_uri": "https://localhost:8080/",
          "height": 336
        }
      },
      "source": [
        "df.hist('CoapplicantIncome', bins=100)"
      ],
      "execution_count": 212,
      "outputs": [
        {
          "output_type": "execute_result",
          "data": {
            "text/plain": [
              "array([[<matplotlib.axes._subplots.AxesSubplot object at 0x7f9e9cf334a8>]],\n",
              "      dtype=object)"
            ]
          },
          "metadata": {
            "tags": []
          },
          "execution_count": 212
        },
        {
          "output_type": "display_data",
          "data": {
            "image/png": "[encoded data removed]",
            "text/plain": [
              "<Figure size 432x288 with 1 Axes>"
            ]
          },
          "metadata": {
            "tags": [],
            "needs_background": "light"
          }
        }
      ]
    },
    {
      "cell_type": "code",
      "metadata": {
        "id": "80Cq3FepwHj7",
        "colab_type": "code",
        "outputId": "48cc62df-8edc-47fd-9cd4-1385994f1655",
        "colab": {
          "base_uri": "https://localhost:8080/",
          "height": 173
        }
      },
      "source": [
        "df['CoapplicantIncome'].describe()"
      ],
      "execution_count": 213,
      "outputs": [
        {
          "output_type": "execute_result",
          "data": {
            "text/plain": [
              "count      614.000000\n",
              "mean      1621.245798\n",
              "std       2926.248369\n",
              "min          0.000000\n",
              "25%          0.000000\n",
              "50%       1188.500000\n",
              "75%       2297.250000\n",
              "max      41667.000000\n",
              "Name: CoapplicantIncome, dtype: float64"
            ]
          },
          "metadata": {
            "tags": []
          },
          "execution_count": 213
        }
      ]
    },
    {
      "cell_type": "code",
      "metadata": {
        "id": "j_fTXo-cwTcp",
        "colab_type": "code",
        "outputId": "dadbdf50-fb8c-40e3-8b06-9f70daab56f0",
        "colab": {
          "base_uri": "https://localhost:8080/",
          "height": 336
        }
      },
      "source": [
        "df.hist('LoanAmount', bins=100)\n"
      ],
      "execution_count": 214,
      "outputs": [
        {
          "output_type": "execute_result",
          "data": {
            "text/plain": [
              "array([[<matplotlib.axes._subplots.AxesSubplot object at 0x7f9e9d1b6ac8>]],\n",
              "      dtype=object)"
            ]
          },
          "metadata": {
            "tags": []
          },
          "execution_count": 214
        },
        {
          "output_type": "display_data",
          "data": {
            "image/png": "[encoded data removed]",
            "text/plain": [
              "<Figure size 432x288 with 1 Axes>"
            ]
          },
          "metadata": {
            "tags": [],
            "needs_background": "light"
          }
        }
      ]
    },
    {
      "cell_type": "code",
      "metadata": {
        "id": "tEvvhKQ5weST",
        "colab_type": "code",
        "outputId": "7877ede0-98c2-44e1-fe2a-e1fc09e2dc70",
        "colab": {
          "base_uri": "https://localhost:8080/",
          "height": 173
        }
      },
      "source": [
        "df['LoanAmount'].describe()"
      ],
      "execution_count": 215,
      "outputs": [
        {
          "output_type": "execute_result",
          "data": {
            "text/plain": [
              "count    592.000000\n",
              "mean     146.412162\n",
              "std       85.587325\n",
              "min        9.000000\n",
              "25%      100.000000\n",
              "50%      128.000000\n",
              "75%      168.000000\n",
              "max      700.000000\n",
              "Name: LoanAmount, dtype: float64"
            ]
          },
          "metadata": {
            "tags": []
          },
          "execution_count": 215
        }
      ]
    },
    {
      "cell_type": "markdown",
      "metadata": {
        "id": "_zUbRbmxVsPT",
        "colab_type": "text"
      },
      "source": [
        "**Problem 10 - Use Box-Plot chart to represent the Outliers for each Independent Variable**"
      ]
    },
    {
      "cell_type": "code",
      "metadata": {
        "id": "ZLq9RGbsVy-f",
        "colab_type": "code",
        "outputId": "2f67d689-ac22-4dae-8a49-843e06016033",
        "colab": {
          "base_uri": "https://localhost:8080/",
          "height": 282
        }
      },
      "source": [
        "df.boxplot(column=['LoanAmount'])\n"
      ],
      "execution_count": 216,
      "outputs": [
        {
          "output_type": "execute_result",
          "data": {
            "text/plain": [
              "<matplotlib.axes._subplots.AxesSubplot at 0x7f9e9cf0c320>"
            ]
          },
          "metadata": {
            "tags": []
          },
          "execution_count": 216
        },
        {
          "output_type": "display_data",
          "data": {
            "image/png": "[encoded data removed]",
            "text/plain": [
              "<Figure size 432x288 with 1 Axes>"
            ]
          },
          "metadata": {
            "tags": [],
            "needs_background": "light"
          }
        }
      ]
    },
    {
      "cell_type": "code",
      "metadata": {
        "id": "oRbEfz-0KjKe",
        "colab_type": "code",
        "colab": {}
      },
      "source": [
        ""
      ],
      "execution_count": 0,
      "outputs": []
    },
    {
      "cell_type": "code",
      "metadata": {
        "id": "MThX59JbjZ4P",
        "colab_type": "code",
        "outputId": "408df862-3b13-45ae-8da8-64d82c0e2b70",
        "colab": {
          "base_uri": "https://localhost:8080/",
          "height": 173
        }
      },
      "source": [
        "df['LoanAmount'].describe()"
      ],
      "execution_count": 217,
      "outputs": [
        {
          "output_type": "execute_result",
          "data": {
            "text/plain": [
              "count    592.000000\n",
              "mean     146.412162\n",
              "std       85.587325\n",
              "min        9.000000\n",
              "25%      100.000000\n",
              "50%      128.000000\n",
              "75%      168.000000\n",
              "max      700.000000\n",
              "Name: LoanAmount, dtype: float64"
            ]
          },
          "metadata": {
            "tags": []
          },
          "execution_count": 217
        }
      ]
    },
    {
      "cell_type": "code",
      "metadata": {
        "id": "BR36Pn3xcQ6E",
        "colab_type": "code",
        "outputId": "6b7bf672-434b-409e-b9a7-773c6e62f1aa",
        "colab": {
          "base_uri": "https://localhost:8080/",
          "height": 282
        }
      },
      "source": [
        "df.boxplot(column=['ApplicantIncome'])"
      ],
      "execution_count": 218,
      "outputs": [
        {
          "output_type": "execute_result",
          "data": {
            "text/plain": [
              "<matplotlib.axes._subplots.AxesSubplot at 0x7f9e9cfae5c0>"
            ]
          },
          "metadata": {
            "tags": []
          },
          "execution_count": 218
        },
        {
          "output_type": "display_data",
          "data": {
            "image/png": "[encoded data removed]",
            "text/plain": [
              "<Figure size 432x288 with 1 Axes>"
            ]
          },
          "metadata": {
            "tags": [],
            "needs_background": "light"
          }
        }
      ]
    },
    {
      "cell_type": "code",
      "metadata": {
        "id": "xDk8Gm5xkLrN",
        "colab_type": "code",
        "outputId": "8e4ef048-0b7e-49ef-92da-176da2133cfc",
        "colab": {
          "base_uri": "https://localhost:8080/",
          "height": 173
        }
      },
      "source": [
        "df['ApplicantIncome'].describe()"
      ],
      "execution_count": 219,
      "outputs": [
        {
          "output_type": "execute_result",
          "data": {
            "text/plain": [
              "count      614.000000\n",
              "mean      5403.459283\n",
              "std       6109.041673\n",
              "min        150.000000\n",
              "25%       2877.500000\n",
              "50%       3812.500000\n",
              "75%       5795.000000\n",
              "max      81000.000000\n",
              "Name: ApplicantIncome, dtype: float64"
            ]
          },
          "metadata": {
            "tags": []
          },
          "execution_count": 219
        }
      ]
    },
    {
      "cell_type": "code",
      "metadata": {
        "id": "gYOGuopSkY0F",
        "colab_type": "code",
        "outputId": "4afd893c-51cf-4429-b0bc-77c41afa1a00",
        "colab": {
          "base_uri": "https://localhost:8080/",
          "height": 282
        }
      },
      "source": [
        "df.boxplot(column=['CoapplicantIncome'])"
      ],
      "execution_count": 220,
      "outputs": [
        {
          "output_type": "execute_result",
          "data": {
            "text/plain": [
              "<matplotlib.axes._subplots.AxesSubplot at 0x7f9e9cf4e358>"
            ]
          },
          "metadata": {
            "tags": []
          },
          "execution_count": 220
        },
        {
          "output_type": "display_data",
          "data": {
            "image/png": "[encoded data removed]",
            "text/plain": [
              "<Figure size 432x288 with 1 Axes>"
            ]
          },
          "metadata": {
            "tags": [],
            "needs_background": "light"
          }
        }
      ]
    },
    {
      "cell_type": "code",
      "metadata": {
        "id": "1WGFiqpqkJ26",
        "colab_type": "code",
        "outputId": "6f3d7cad-7887-4c55-fee2-5a21e77a3b11",
        "colab": {
          "base_uri": "https://localhost:8080/",
          "height": 173
        }
      },
      "source": [
        "df['CoapplicantIncome'].describe()"
      ],
      "execution_count": 221,
      "outputs": [
        {
          "output_type": "execute_result",
          "data": {
            "text/plain": [
              "count      614.000000\n",
              "mean      1621.245798\n",
              "std       2926.248369\n",
              "min          0.000000\n",
              "25%          0.000000\n",
              "50%       1188.500000\n",
              "75%       2297.250000\n",
              "max      41667.000000\n",
              "Name: CoapplicantIncome, dtype: float64"
            ]
          },
          "metadata": {
            "tags": []
          },
          "execution_count": 221
        }
      ]
    },
    {
      "cell_type": "code",
      "metadata": {
        "id": "tqZgjIFXlh8z",
        "colab_type": "code",
        "outputId": "c684f002-e318-440a-afa2-15deb0f373c4",
        "colab": {
          "base_uri": "https://localhost:8080/",
          "height": 282
        }
      },
      "source": [
        "df.boxplot(column=['LoanAmount'])"
      ],
      "execution_count": 222,
      "outputs": [
        {
          "output_type": "execute_result",
          "data": {
            "text/plain": [
              "<matplotlib.axes._subplots.AxesSubplot at 0x7f9e9b2cd128>"
            ]
          },
          "metadata": {
            "tags": []
          },
          "execution_count": 222
        },
        {
          "output_type": "display_data",
          "data": {
            "image/png": "[encoded data removed]",
            "text/plain": [
              "<Figure size 432x288 with 1 Axes>"
            ]
          },
          "metadata": {
            "tags": [],
            "needs_background": "light"
          }
        }
      ]
    },
    {
      "cell_type": "code",
      "metadata": {
        "id": "AWG8Q0eKlsJg",
        "colab_type": "code",
        "outputId": "4f393a1c-0d18-4627-fa79-ace72c4fbd61",
        "colab": {
          "base_uri": "https://localhost:8080/",
          "height": 173
        }
      },
      "source": [
        "data['LoanAmount'].describe()"
      ],
      "execution_count": 0,
      "outputs": [
        {
          "output_type": "execute_result",
          "data": {
            "text/plain": [
              "count    614.000000\n",
              "mean     145.752443\n",
              "std       84.107233\n",
              "min        9.000000\n",
              "25%      100.250000\n",
              "50%      128.000000\n",
              "75%      164.750000\n",
              "max      700.000000\n",
              "Name: LoanAmount, dtype: float64"
            ]
          },
          "metadata": {
            "tags": []
          },
          "execution_count": 139
        }
      ]
    },
    {
      "cell_type": "code",
      "metadata": {
        "id": "LnjmehRnl0yL",
        "colab_type": "code",
        "outputId": "bb3fd56f-233c-4111-cf00-583d896ca2d9",
        "colab": {
          "base_uri": "https://localhost:8080/",
          "height": 286
        }
      },
      "source": [
        "df.boxplot(column=['Loan_Amount_Term'])"
      ],
      "execution_count": 223,
      "outputs": [
        {
          "output_type": "execute_result",
          "data": {
            "text/plain": [
              "<matplotlib.axes._subplots.AxesSubplot at 0x7f9e9b2c1198>"
            ]
          },
          "metadata": {
            "tags": []
          },
          "execution_count": 223
        },
        {
          "output_type": "display_data",
          "data": {
            "image/png": "[encoded data removed]",
            "text/plain": [
              "<Figure size 432x288 with 1 Axes>"
            ]
          },
          "metadata": {
            "tags": [],
            "needs_background": "light"
          }
        }
      ]
    },
    {
      "cell_type": "code",
      "metadata": {
        "id": "r7pXgQQumFPC",
        "colab_type": "code",
        "outputId": "db82ee74-9cc8-4be0-96f8-c05f5c1d6329",
        "colab": {
          "base_uri": "https://localhost:8080/",
          "height": 173
        }
      },
      "source": [
        "df['Loan_Amount_Term'].describe()"
      ],
      "execution_count": 224,
      "outputs": [
        {
          "output_type": "execute_result",
          "data": {
            "text/plain": [
              "count    600.00000\n",
              "mean     342.00000\n",
              "std       65.12041\n",
              "min       12.00000\n",
              "25%      360.00000\n",
              "50%      360.00000\n",
              "75%      360.00000\n",
              "max      480.00000\n",
              "Name: Loan_Amount_Term, dtype: float64"
            ]
          },
          "metadata": {
            "tags": []
          },
          "execution_count": 224
        }
      ]
    },
    {
      "cell_type": "markdown",
      "metadata": {
        "id": "bupwEpAEpm6V",
        "colab_type": "text"
      },
      "source": [
        "**Step1**\n",
        "\n",
        "**Perform Label Encoding on Target Variable (Loan_Status).**"
      ]
    },
    {
      "cell_type": "code",
      "metadata": {
        "id": "3M7uMFkLoGpJ",
        "colab_type": "code",
        "outputId": "3c3fe15d-7e4a-49c4-b6b9-091aab0ad974",
        "colab": {
          "base_uri": "https://localhost:8080/",
          "height": 244
        }
      },
      "source": [
        "from sklearn.preprocessing import LabelEncoder\n",
        "from sklearn.preprocessing import OneHotEncoder\n",
        "from sklearn.preprocessing import LabelBinarizer,MultiLabelBinarizer\n",
        "LE = LabelEncoder()\n",
        "df_enc=df.copy()\n",
        "df_enc['Loan_Status'] = LE.fit_transform(df['Loan_Status'])\n",
        "df_enc.head()"
      ],
      "execution_count": 229,
      "outputs": [
        {
          "output_type": "execute_result",
          "data": {
            "text/html": [
              "<div>\n",
              "<style scoped>\n",
              "    .dataframe tbody tr th:only-of-type {\n",
              "        vertical-align: middle;\n",
              "    }\n",
              "\n",
              "    .dataframe tbody tr th {\n",
              "        vertical-align: top;\n",
              "    }\n",
              "\n",
              "    .dataframe thead th {\n",
              "        text-align: right;\n",
              "    }\n",
              "</style>\n",
              "<table border=\"1\" class=\"dataframe\">\n",
              "  <thead>\n",
              "    <tr style=\"text-align: right;\">\n",
              "      <th></th>\n",
              "      <th>Loan_ID</th>\n",
              "      <th>Gender</th>\n",
              "      <th>Married</th>\n",
              "      <th>Dependents</th>\n",
              "      <th>Education</th>\n",
              "      <th>Self_Employed</th>\n",
              "      <th>ApplicantIncome</th>\n",
              "      <th>CoapplicantIncome</th>\n",
              "      <th>LoanAmount</th>\n",
              "      <th>Loan_Amount_Term</th>\n",
              "      <th>Credit_History</th>\n",
              "      <th>Property_Area</th>\n",
              "      <th>Loan_Status</th>\n",
              "    </tr>\n",
              "  </thead>\n",
              "  <tbody>\n",
              "    <tr>\n",
              "      <th>0</th>\n",
              "      <td>LP001002</td>\n",
              "      <td>Male</td>\n",
              "      <td>No</td>\n",
              "      <td>0</td>\n",
              "      <td>Graduate</td>\n",
              "      <td>No</td>\n",
              "      <td>5849</td>\n",
              "      <td>0.0</td>\n",
              "      <td>NaN</td>\n",
              "      <td>360.0</td>\n",
              "      <td>1.0</td>\n",
              "      <td>Urban</td>\n",
              "      <td>1</td>\n",
              "    </tr>\n",
              "    <tr>\n",
              "      <th>1</th>\n",
              "      <td>LP001003</td>\n",
              "      <td>Male</td>\n",
              "      <td>Yes</td>\n",
              "      <td>1</td>\n",
              "      <td>Graduate</td>\n",
              "      <td>No</td>\n",
              "      <td>4583</td>\n",
              "      <td>1508.0</td>\n",
              "      <td>128.0</td>\n",
              "      <td>360.0</td>\n",
              "      <td>1.0</td>\n",
              "      <td>Rural</td>\n",
              "      <td>0</td>\n",
              "    </tr>\n",
              "    <tr>\n",
              "      <th>2</th>\n",
              "      <td>LP001005</td>\n",
              "      <td>Male</td>\n",
              "      <td>Yes</td>\n",
              "      <td>0</td>\n",
              "      <td>Graduate</td>\n",
              "      <td>Yes</td>\n",
              "      <td>3000</td>\n",
              "      <td>0.0</td>\n",
              "      <td>66.0</td>\n",
              "      <td>360.0</td>\n",
              "      <td>1.0</td>\n",
              "      <td>Urban</td>\n",
              "      <td>1</td>\n",
              "    </tr>\n",
              "    <tr>\n",
              "      <th>3</th>\n",
              "      <td>LP001006</td>\n",
              "      <td>Male</td>\n",
              "      <td>Yes</td>\n",
              "      <td>0</td>\n",
              "      <td>Not Graduate</td>\n",
              "      <td>No</td>\n",
              "      <td>2583</td>\n",
              "      <td>2358.0</td>\n",
              "      <td>120.0</td>\n",
              "      <td>360.0</td>\n",
              "      <td>1.0</td>\n",
              "      <td>Urban</td>\n",
              "      <td>1</td>\n",
              "    </tr>\n",
              "    <tr>\n",
              "      <th>4</th>\n",
              "      <td>LP001008</td>\n",
              "      <td>Male</td>\n",
              "      <td>No</td>\n",
              "      <td>0</td>\n",
              "      <td>Graduate</td>\n",
              "      <td>No</td>\n",
              "      <td>6000</td>\n",
              "      <td>0.0</td>\n",
              "      <td>141.0</td>\n",
              "      <td>360.0</td>\n",
              "      <td>1.0</td>\n",
              "      <td>Urban</td>\n",
              "      <td>1</td>\n",
              "    </tr>\n",
              "  </tbody>\n",
              "</table>\n",
              "</div>"
            ],
            "text/plain": [
              "    Loan_ID Gender Married  ... Credit_History Property_Area Loan_Status\n",
              "0  LP001002   Male      No  ...            1.0         Urban           1\n",
              "1  LP001003   Male     Yes  ...            1.0         Rural           0\n",
              "2  LP001005   Male     Yes  ...            1.0         Urban           1\n",
              "3  LP001006   Male     Yes  ...            1.0         Urban           1\n",
              "4  LP001008   Male      No  ...            1.0         Urban           1\n",
              "\n",
              "[5 rows x 13 columns]"
            ]
          },
          "metadata": {
            "tags": []
          },
          "execution_count": 229
        }
      ]
    },
    {
      "cell_type": "markdown",
      "metadata": {
        "id": "MFu0dSePEVhC",
        "colab_type": "text"
      },
      "source": [
        "\n",
        "\n",
        "**Step-2**\n",
        "\n",
        "Perform Label Encoding on Categorical Independent Variables.**\n"
      ]
    },
    {
      "cell_type": "code",
      "metadata": {
        "id": "VxCBKzOHENBg",
        "colab_type": "code",
        "colab": {}
      },
      "source": [
        "from sklearn.preprocessing import OneHotEncoder \n",
        "df4=df.drop(['Loan_Status','Loan_ID','LoanAmount','Loan_Amount_Term','ApplicantIncome','CoapplicantIncome'],axis=1)\n",
        "dfEnc = df.copy()\n",
        "dfEnc['Self_Employed'].replace({0:\"No\"},inplace=True)\n",
        "dfEnc['Married'].replace({0:\"No\"},inplace=True)\n",
        "dfEnc['Dependents'].replace({\"3+\":'3',0:'0'},inplace=True)\n",
        "for i in df :\n",
        "  print(i)\n",
        "  dfEnc[i+\"_enc\"] = LE.fit_transform(dfEnc[i])\n",
        "  dfEnc = dfEnc.drop(i,axis=1)\n",
        "dfEnc.head()\n",
        "\n"
      ],
      "execution_count": 0,
      "outputs": []
    },
    {
      "cell_type": "markdown",
      "metadata": {
        "id": "FWqrbcOuJ1Y6",
        "colab_type": "text"
      },
      "source": [
        "**step #3 Perform One Hot Encoding on Categorical Independent Variables.**"
      ]
    },
    {
      "cell_type": "code",
      "metadata": {
        "id": "Xva0TyqfsctK",
        "colab_type": "code",
        "outputId": "67e0548c-97fc-4e51-a6b3-280681f42d31",
        "colab": {
          "base_uri": "https://localhost:8080/",
          "height": 244
        }
      },
      "source": [
        "ohe = OneHotEncoder(handle_unknown='ignore')\n",
        "df_ohe=df.copy()\n",
        "df_ohe.head()"
      ],
      "execution_count": 234,
      "outputs": [
        {
          "output_type": "execute_result",
          "data": {
            "text/html": [
              "<div>\n",
              "<style scoped>\n",
              "    .dataframe tbody tr th:only-of-type {\n",
              "        vertical-align: middle;\n",
              "    }\n",
              "\n",
              "    .dataframe tbody tr th {\n",
              "        vertical-align: top;\n",
              "    }\n",
              "\n",
              "    .dataframe thead th {\n",
              "        text-align: right;\n",
              "    }\n",
              "</style>\n",
              "<table border=\"1\" class=\"dataframe\">\n",
              "  <thead>\n",
              "    <tr style=\"text-align: right;\">\n",
              "      <th></th>\n",
              "      <th>Loan_ID</th>\n",
              "      <th>Gender</th>\n",
              "      <th>Married</th>\n",
              "      <th>Dependents</th>\n",
              "      <th>Education</th>\n",
              "      <th>Self_Employed</th>\n",
              "      <th>ApplicantIncome</th>\n",
              "      <th>CoapplicantIncome</th>\n",
              "      <th>LoanAmount</th>\n",
              "      <th>Loan_Amount_Term</th>\n",
              "      <th>Credit_History</th>\n",
              "      <th>Property_Area</th>\n",
              "      <th>Loan_Status</th>\n",
              "    </tr>\n",
              "  </thead>\n",
              "  <tbody>\n",
              "    <tr>\n",
              "      <th>0</th>\n",
              "      <td>LP001002</td>\n",
              "      <td>Male</td>\n",
              "      <td>No</td>\n",
              "      <td>0</td>\n",
              "      <td>Graduate</td>\n",
              "      <td>No</td>\n",
              "      <td>5849</td>\n",
              "      <td>0.0</td>\n",
              "      <td>NaN</td>\n",
              "      <td>360.0</td>\n",
              "      <td>1.0</td>\n",
              "      <td>Urban</td>\n",
              "      <td>Y</td>\n",
              "    </tr>\n",
              "    <tr>\n",
              "      <th>1</th>\n",
              "      <td>LP001003</td>\n",
              "      <td>Male</td>\n",
              "      <td>Yes</td>\n",
              "      <td>1</td>\n",
              "      <td>Graduate</td>\n",
              "      <td>No</td>\n",
              "      <td>4583</td>\n",
              "      <td>1508.0</td>\n",
              "      <td>128.0</td>\n",
              "      <td>360.0</td>\n",
              "      <td>1.0</td>\n",
              "      <td>Rural</td>\n",
              "      <td>N</td>\n",
              "    </tr>\n",
              "    <tr>\n",
              "      <th>2</th>\n",
              "      <td>LP001005</td>\n",
              "      <td>Male</td>\n",
              "      <td>Yes</td>\n",
              "      <td>0</td>\n",
              "      <td>Graduate</td>\n",
              "      <td>Yes</td>\n",
              "      <td>3000</td>\n",
              "      <td>0.0</td>\n",
              "      <td>66.0</td>\n",
              "      <td>360.0</td>\n",
              "      <td>1.0</td>\n",
              "      <td>Urban</td>\n",
              "      <td>Y</td>\n",
              "    </tr>\n",
              "    <tr>\n",
              "      <th>3</th>\n",
              "      <td>LP001006</td>\n",
              "      <td>Male</td>\n",
              "      <td>Yes</td>\n",
              "      <td>0</td>\n",
              "      <td>Not Graduate</td>\n",
              "      <td>No</td>\n",
              "      <td>2583</td>\n",
              "      <td>2358.0</td>\n",
              "      <td>120.0</td>\n",
              "      <td>360.0</td>\n",
              "      <td>1.0</td>\n",
              "      <td>Urban</td>\n",
              "      <td>Y</td>\n",
              "    </tr>\n",
              "    <tr>\n",
              "      <th>4</th>\n",
              "      <td>LP001008</td>\n",
              "      <td>Male</td>\n",
              "      <td>No</td>\n",
              "      <td>0</td>\n",
              "      <td>Graduate</td>\n",
              "      <td>No</td>\n",
              "      <td>6000</td>\n",
              "      <td>0.0</td>\n",
              "      <td>141.0</td>\n",
              "      <td>360.0</td>\n",
              "      <td>1.0</td>\n",
              "      <td>Urban</td>\n",
              "      <td>Y</td>\n",
              "    </tr>\n",
              "  </tbody>\n",
              "</table>\n",
              "</div>"
            ],
            "text/plain": [
              "    Loan_ID Gender Married  ... Credit_History Property_Area Loan_Status\n",
              "0  LP001002   Male      No  ...            1.0         Urban           Y\n",
              "1  LP001003   Male     Yes  ...            1.0         Rural           N\n",
              "2  LP001005   Male     Yes  ...            1.0         Urban           Y\n",
              "3  LP001006   Male     Yes  ...            1.0         Urban           Y\n",
              "4  LP001008   Male      No  ...            1.0         Urban           Y\n",
              "\n",
              "[5 rows x 13 columns]"
            ]
          },
          "metadata": {
            "tags": []
          },
          "execution_count": 234
        }
      ]
    },
    {
      "cell_type": "code",
      "metadata": {
        "id": "mxugx6ePKL3N",
        "colab_type": "code",
        "colab": {
          "base_uri": "https://localhost:8080/",
          "height": 244
        },
        "outputId": "4af6d436-5f00-4430-868f-52abfafeea52"
      },
      "source": [
        "df_enc=pd.get_dummies(df,columns=['Gender','Married','Education','Self_Employed','Loan_Amount_Term','Credit_History',])\n",
        "df_enc.head()"
      ],
      "execution_count": 235,
      "outputs": [
        {
          "output_type": "execute_result",
          "data": {
            "text/html": [
              "<div>\n",
              "<style scoped>\n",
              "    .dataframe tbody tr th:only-of-type {\n",
              "        vertical-align: middle;\n",
              "    }\n",
              "\n",
              "    .dataframe tbody tr th {\n",
              "        vertical-align: top;\n",
              "    }\n",
              "\n",
              "    .dataframe thead th {\n",
              "        text-align: right;\n",
              "    }\n",
              "</style>\n",
              "<table border=\"1\" class=\"dataframe\">\n",
              "  <thead>\n",
              "    <tr style=\"text-align: right;\">\n",
              "      <th></th>\n",
              "      <th>Loan_ID</th>\n",
              "      <th>Dependents</th>\n",
              "      <th>ApplicantIncome</th>\n",
              "      <th>CoapplicantIncome</th>\n",
              "      <th>LoanAmount</th>\n",
              "      <th>Property_Area</th>\n",
              "      <th>Loan_Status</th>\n",
              "      <th>Gender_Female</th>\n",
              "      <th>Gender_Male</th>\n",
              "      <th>Married_No</th>\n",
              "      <th>Married_Yes</th>\n",
              "      <th>Education_Graduate</th>\n",
              "      <th>Education_Not Graduate</th>\n",
              "      <th>Self_Employed_No</th>\n",
              "      <th>Self_Employed_Yes</th>\n",
              "      <th>Loan_Amount_Term_12.0</th>\n",
              "      <th>Loan_Amount_Term_36.0</th>\n",
              "      <th>Loan_Amount_Term_60.0</th>\n",
              "      <th>Loan_Amount_Term_84.0</th>\n",
              "      <th>Loan_Amount_Term_120.0</th>\n",
              "      <th>Loan_Amount_Term_180.0</th>\n",
              "      <th>Loan_Amount_Term_240.0</th>\n",
              "      <th>Loan_Amount_Term_300.0</th>\n",
              "      <th>Loan_Amount_Term_360.0</th>\n",
              "      <th>Loan_Amount_Term_480.0</th>\n",
              "      <th>Credit_History_0.0</th>\n",
              "      <th>Credit_History_1.0</th>\n",
              "    </tr>\n",
              "  </thead>\n",
              "  <tbody>\n",
              "    <tr>\n",
              "      <th>0</th>\n",
              "      <td>LP001002</td>\n",
              "      <td>0</td>\n",
              "      <td>5849</td>\n",
              "      <td>0.0</td>\n",
              "      <td>NaN</td>\n",
              "      <td>Urban</td>\n",
              "      <td>Y</td>\n",
              "      <td>0</td>\n",
              "      <td>1</td>\n",
              "      <td>1</td>\n",
              "      <td>0</td>\n",
              "      <td>1</td>\n",
              "      <td>0</td>\n",
              "      <td>1</td>\n",
              "      <td>0</td>\n",
              "      <td>0</td>\n",
              "      <td>0</td>\n",
              "      <td>0</td>\n",
              "      <td>0</td>\n",
              "      <td>0</td>\n",
              "      <td>0</td>\n",
              "      <td>0</td>\n",
              "      <td>0</td>\n",
              "      <td>1</td>\n",
              "      <td>0</td>\n",
              "      <td>0</td>\n",
              "      <td>1</td>\n",
              "    </tr>\n",
              "    <tr>\n",
              "      <th>1</th>\n",
              "      <td>LP001003</td>\n",
              "      <td>1</td>\n",
              "      <td>4583</td>\n",
              "      <td>1508.0</td>\n",
              "      <td>128.0</td>\n",
              "      <td>Rural</td>\n",
              "      <td>N</td>\n",
              "      <td>0</td>\n",
              "      <td>1</td>\n",
              "      <td>0</td>\n",
              "      <td>1</td>\n",
              "      <td>1</td>\n",
              "      <td>0</td>\n",
              "      <td>1</td>\n",
              "      <td>0</td>\n",
              "      <td>0</td>\n",
              "      <td>0</td>\n",
              "      <td>0</td>\n",
              "      <td>0</td>\n",
              "      <td>0</td>\n",
              "      <td>0</td>\n",
              "      <td>0</td>\n",
              "      <td>0</td>\n",
              "      <td>1</td>\n",
              "      <td>0</td>\n",
              "      <td>0</td>\n",
              "      <td>1</td>\n",
              "    </tr>\n",
              "    <tr>\n",
              "      <th>2</th>\n",
              "      <td>LP001005</td>\n",
              "      <td>0</td>\n",
              "      <td>3000</td>\n",
              "      <td>0.0</td>\n",
              "      <td>66.0</td>\n",
              "      <td>Urban</td>\n",
              "      <td>Y</td>\n",
              "      <td>0</td>\n",
              "      <td>1</td>\n",
              "      <td>0</td>\n",
              "      <td>1</td>\n",
              "      <td>1</td>\n",
              "      <td>0</td>\n",
              "      <td>0</td>\n",
              "      <td>1</td>\n",
              "      <td>0</td>\n",
              "      <td>0</td>\n",
              "      <td>0</td>\n",
              "      <td>0</td>\n",
              "      <td>0</td>\n",
              "      <td>0</td>\n",
              "      <td>0</td>\n",
              "      <td>0</td>\n",
              "      <td>1</td>\n",
              "      <td>0</td>\n",
              "      <td>0</td>\n",
              "      <td>1</td>\n",
              "    </tr>\n",
              "    <tr>\n",
              "      <th>3</th>\n",
              "      <td>LP001006</td>\n",
              "      <td>0</td>\n",
              "      <td>2583</td>\n",
              "      <td>2358.0</td>\n",
              "      <td>120.0</td>\n",
              "      <td>Urban</td>\n",
              "      <td>Y</td>\n",
              "      <td>0</td>\n",
              "      <td>1</td>\n",
              "      <td>0</td>\n",
              "      <td>1</td>\n",
              "      <td>0</td>\n",
              "      <td>1</td>\n",
              "      <td>1</td>\n",
              "      <td>0</td>\n",
              "      <td>0</td>\n",
              "      <td>0</td>\n",
              "      <td>0</td>\n",
              "      <td>0</td>\n",
              "      <td>0</td>\n",
              "      <td>0</td>\n",
              "      <td>0</td>\n",
              "      <td>0</td>\n",
              "      <td>1</td>\n",
              "      <td>0</td>\n",
              "      <td>0</td>\n",
              "      <td>1</td>\n",
              "    </tr>\n",
              "    <tr>\n",
              "      <th>4</th>\n",
              "      <td>LP001008</td>\n",
              "      <td>0</td>\n",
              "      <td>6000</td>\n",
              "      <td>0.0</td>\n",
              "      <td>141.0</td>\n",
              "      <td>Urban</td>\n",
              "      <td>Y</td>\n",
              "      <td>0</td>\n",
              "      <td>1</td>\n",
              "      <td>1</td>\n",
              "      <td>0</td>\n",
              "      <td>1</td>\n",
              "      <td>0</td>\n",
              "      <td>1</td>\n",
              "      <td>0</td>\n",
              "      <td>0</td>\n",
              "      <td>0</td>\n",
              "      <td>0</td>\n",
              "      <td>0</td>\n",
              "      <td>0</td>\n",
              "      <td>0</td>\n",
              "      <td>0</td>\n",
              "      <td>0</td>\n",
              "      <td>1</td>\n",
              "      <td>0</td>\n",
              "      <td>0</td>\n",
              "      <td>1</td>\n",
              "    </tr>\n",
              "  </tbody>\n",
              "</table>\n",
              "</div>"
            ],
            "text/plain": [
              "    Loan_ID Dependents  ...  Credit_History_0.0  Credit_History_1.0\n",
              "0  LP001002          0  ...                   0                   1\n",
              "1  LP001003          1  ...                   0                   1\n",
              "2  LP001005          0  ...                   0                   1\n",
              "3  LP001006          0  ...                   0                   1\n",
              "4  LP001008          0  ...                   0                   1\n",
              "\n",
              "[5 rows x 27 columns]"
            ]
          },
          "metadata": {
            "tags": []
          },
          "execution_count": 235
        }
      ]
    },
    {
      "cell_type": "code",
      "metadata": {
        "id": "L9NJmnYgpnvO",
        "colab_type": "code",
        "outputId": "1e25047f-7237-4904-9b3a-b757370c91a3",
        "colab": {
          "base_uri": "https://localhost:8080/",
          "height": 34
        }
      },
      "source": [
        "df_enc.shape"
      ],
      "execution_count": 236,
      "outputs": [
        {
          "output_type": "execute_result",
          "data": {
            "text/plain": [
              "(614, 27)"
            ]
          },
          "metadata": {
            "tags": []
          },
          "execution_count": 236
        }
      ]
    },
    {
      "cell_type": "code",
      "metadata": {
        "id": "btb4YSymKVA6",
        "colab_type": "code",
        "colab": {
          "base_uri": "https://localhost:8080/",
          "height": 808
        },
        "outputId": "4e89742c-3fb2-4256-e22d-bb663e70010f"
      },
      "source": [
        "enc_corr=df_enc.corr()\n",
        "enc_corr"
      ],
      "execution_count": 237,
      "outputs": [
        {
          "output_type": "execute_result",
          "data": {
            "text/html": [
              "<div>\n",
              "<style scoped>\n",
              "    .dataframe tbody tr th:only-of-type {\n",
              "        vertical-align: middle;\n",
              "    }\n",
              "\n",
              "    .dataframe tbody tr th {\n",
              "        vertical-align: top;\n",
              "    }\n",
              "\n",
              "    .dataframe thead th {\n",
              "        text-align: right;\n",
              "    }\n",
              "</style>\n",
              "<table border=\"1\" class=\"dataframe\">\n",
              "  <thead>\n",
              "    <tr style=\"text-align: right;\">\n",
              "      <th></th>\n",
              "      <th>ApplicantIncome</th>\n",
              "      <th>CoapplicantIncome</th>\n",
              "      <th>LoanAmount</th>\n",
              "      <th>Gender_Female</th>\n",
              "      <th>Gender_Male</th>\n",
              "      <th>Married_No</th>\n",
              "      <th>Married_Yes</th>\n",
              "      <th>Education_Graduate</th>\n",
              "      <th>Education_Not Graduate</th>\n",
              "      <th>Self_Employed_No</th>\n",
              "      <th>Self_Employed_Yes</th>\n",
              "      <th>Loan_Amount_Term_12.0</th>\n",
              "      <th>Loan_Amount_Term_36.0</th>\n",
              "      <th>Loan_Amount_Term_60.0</th>\n",
              "      <th>Loan_Amount_Term_84.0</th>\n",
              "      <th>Loan_Amount_Term_120.0</th>\n",
              "      <th>Loan_Amount_Term_180.0</th>\n",
              "      <th>Loan_Amount_Term_240.0</th>\n",
              "      <th>Loan_Amount_Term_300.0</th>\n",
              "      <th>Loan_Amount_Term_360.0</th>\n",
              "      <th>Loan_Amount_Term_480.0</th>\n",
              "      <th>Credit_History_0.0</th>\n",
              "      <th>Credit_History_1.0</th>\n",
              "    </tr>\n",
              "  </thead>\n",
              "  <tbody>\n",
              "    <tr>\n",
              "      <th>ApplicantIncome</th>\n",
              "      <td>1.000000</td>\n",
              "      <td>-0.116605</td>\n",
              "      <td>0.570909</td>\n",
              "      <td>-0.058809</td>\n",
              "      <td>0.013933</td>\n",
              "      <td>-0.051708</td>\n",
              "      <td>0.050194</td>\n",
              "      <td>0.140760</td>\n",
              "      <td>-0.140760</td>\n",
              "      <td>-0.121356</td>\n",
              "      <td>0.127180</td>\n",
              "      <td>-0.005151</td>\n",
              "      <td>-0.018580</td>\n",
              "      <td>-0.003474</td>\n",
              "      <td>-0.016914</td>\n",
              "      <td>-0.029970</td>\n",
              "      <td>0.069387</td>\n",
              "      <td>0.006690</td>\n",
              "      <td>0.067018</td>\n",
              "      <td>-0.038677</td>\n",
              "      <td>-0.026042</td>\n",
              "      <td>0.018615</td>\n",
              "      <td>0.006986</td>\n",
              "    </tr>\n",
              "    <tr>\n",
              "      <th>CoapplicantIncome</th>\n",
              "      <td>-0.116605</td>\n",
              "      <td>1.000000</td>\n",
              "      <td>0.188619</td>\n",
              "      <td>-0.082912</td>\n",
              "      <td>0.082316</td>\n",
              "      <td>-0.075948</td>\n",
              "      <td>0.080496</td>\n",
              "      <td>0.062290</td>\n",
              "      <td>-0.062290</td>\n",
              "      <td>-0.028834</td>\n",
              "      <td>-0.016100</td>\n",
              "      <td>0.017070</td>\n",
              "      <td>-0.031698</td>\n",
              "      <td>0.024034</td>\n",
              "      <td>-0.014616</td>\n",
              "      <td>-0.030178</td>\n",
              "      <td>0.088838</td>\n",
              "      <td>-0.044901</td>\n",
              "      <td>0.033155</td>\n",
              "      <td>-0.045200</td>\n",
              "      <td>-0.032920</td>\n",
              "      <td>-0.011134</td>\n",
              "      <td>-0.058795</td>\n",
              "    </tr>\n",
              "    <tr>\n",
              "      <th>LoanAmount</th>\n",
              "      <td>0.570909</td>\n",
              "      <td>0.188619</td>\n",
              "      <td>1.000000</td>\n",
              "      <td>-0.109520</td>\n",
              "      <td>0.065501</td>\n",
              "      <td>-0.149743</td>\n",
              "      <td>0.148367</td>\n",
              "      <td>0.171133</td>\n",
              "      <td>-0.171133</td>\n",
              "      <td>-0.114148</td>\n",
              "      <td>0.117421</td>\n",
              "      <td>-0.017034</td>\n",
              "      <td>-0.019685</td>\n",
              "      <td>-0.004366</td>\n",
              "      <td>-0.013659</td>\n",
              "      <td>-0.103552</td>\n",
              "      <td>0.003592</td>\n",
              "      <td>-0.023434</td>\n",
              "      <td>0.067884</td>\n",
              "      <td>0.021745</td>\n",
              "      <td>0.010159</td>\n",
              "      <td>0.001463</td>\n",
              "      <td>-0.035156</td>\n",
              "    </tr>\n",
              "    <tr>\n",
              "      <th>Gender_Female</th>\n",
              "      <td>-0.058809</td>\n",
              "      <td>-0.082912</td>\n",
              "      <td>-0.109520</td>\n",
              "      <td>1.000000</td>\n",
              "      <td>-0.934236</td>\n",
              "      <td>0.364569</td>\n",
              "      <td>-0.367389</td>\n",
              "      <td>0.045364</td>\n",
              "      <td>-0.045364</td>\n",
              "      <td>-0.023918</td>\n",
              "      <td>0.000525</td>\n",
              "      <td>-0.019078</td>\n",
              "      <td>0.047012</td>\n",
              "      <td>-0.027002</td>\n",
              "      <td>0.014173</td>\n",
              "      <td>-0.033098</td>\n",
              "      <td>-0.082181</td>\n",
              "      <td>0.014173</td>\n",
              "      <td>-0.040174</td>\n",
              "      <td>0.052190</td>\n",
              "      <td>0.034526</td>\n",
              "      <td>0.009170</td>\n",
              "      <td>-0.026655</td>\n",
              "    </tr>\n",
              "    <tr>\n",
              "      <th>Gender_Male</th>\n",
              "      <td>0.013933</td>\n",
              "      <td>0.082316</td>\n",
              "      <td>0.065501</td>\n",
              "      <td>-0.934236</td>\n",
              "      <td>1.000000</td>\n",
              "      <td>-0.336818</td>\n",
              "      <td>0.339026</td>\n",
              "      <td>-0.061497</td>\n",
              "      <td>0.061497</td>\n",
              "      <td>0.039440</td>\n",
              "      <td>-0.027421</td>\n",
              "      <td>0.020421</td>\n",
              "      <td>-0.042082</td>\n",
              "      <td>0.028903</td>\n",
              "      <td>-0.009335</td>\n",
              "      <td>0.035428</td>\n",
              "      <td>0.077745</td>\n",
              "      <td>-0.009335</td>\n",
              "      <td>0.018167</td>\n",
              "      <td>-0.051788</td>\n",
              "      <td>-0.024792</td>\n",
              "      <td>-0.021612</td>\n",
              "      <td>0.035780</td>\n",
              "    </tr>\n",
              "    <tr>\n",
              "      <th>Married_No</th>\n",
              "      <td>-0.051708</td>\n",
              "      <td>-0.075948</td>\n",
              "      <td>-0.149743</td>\n",
              "      <td>0.364569</td>\n",
              "      <td>-0.336818</td>\n",
              "      <td>1.000000</td>\n",
              "      <td>-0.989310</td>\n",
              "      <td>0.012304</td>\n",
              "      <td>-0.012304</td>\n",
              "      <td>-0.021584</td>\n",
              "      <td>-0.004489</td>\n",
              "      <td>-0.029437</td>\n",
              "      <td>0.078437</td>\n",
              "      <td>0.018387</td>\n",
              "      <td>-0.059018</td>\n",
              "      <td>-0.001998</td>\n",
              "      <td>-0.096363</td>\n",
              "      <td>-0.016486</td>\n",
              "      <td>-0.035885</td>\n",
              "      <td>0.049500</td>\n",
              "      <td>0.084144</td>\n",
              "      <td>0.010938</td>\n",
              "      <td>0.018150</td>\n",
              "    </tr>\n",
              "    <tr>\n",
              "      <th>Married_Yes</th>\n",
              "      <td>0.050194</td>\n",
              "      <td>0.080496</td>\n",
              "      <td>0.148367</td>\n",
              "      <td>-0.367389</td>\n",
              "      <td>0.339026</td>\n",
              "      <td>-0.989310</td>\n",
              "      <td>1.000000</td>\n",
              "      <td>-0.017671</td>\n",
              "      <td>0.017671</td>\n",
              "      <td>0.016628</td>\n",
              "      <td>0.008491</td>\n",
              "      <td>0.029755</td>\n",
              "      <td>-0.077599</td>\n",
              "      <td>-0.017742</td>\n",
              "      <td>0.059655</td>\n",
              "      <td>0.002709</td>\n",
              "      <td>0.098894</td>\n",
              "      <td>-0.025133</td>\n",
              "      <td>0.037273</td>\n",
              "      <td>-0.035580</td>\n",
              "      <td>-0.104345</td>\n",
              "      <td>-0.006690</td>\n",
              "      <td>-0.023626</td>\n",
              "    </tr>\n",
              "    <tr>\n",
              "      <th>Education_Graduate</th>\n",
              "      <td>0.140760</td>\n",
              "      <td>0.062290</td>\n",
              "      <td>0.171133</td>\n",
              "      <td>0.045364</td>\n",
              "      <td>-0.061497</td>\n",
              "      <td>0.012304</td>\n",
              "      <td>-0.017671</td>\n",
              "      <td>1.000000</td>\n",
              "      <td>-1.000000</td>\n",
              "      <td>-0.019059</td>\n",
              "      <td>0.010383</td>\n",
              "      <td>0.021340</td>\n",
              "      <td>-0.038995</td>\n",
              "      <td>-0.038995</td>\n",
              "      <td>0.042786</td>\n",
              "      <td>-0.019525</td>\n",
              "      <td>-0.097799</td>\n",
              "      <td>-0.006226</td>\n",
              "      <td>-0.004461</td>\n",
              "      <td>0.113773</td>\n",
              "      <td>-0.018553</td>\n",
              "      <td>-0.073658</td>\n",
              "      <td>0.081637</td>\n",
              "    </tr>\n",
              "    <tr>\n",
              "      <th>Education_Not Graduate</th>\n",
              "      <td>-0.140760</td>\n",
              "      <td>-0.062290</td>\n",
              "      <td>-0.171133</td>\n",
              "      <td>-0.045364</td>\n",
              "      <td>0.061497</td>\n",
              "      <td>-0.012304</td>\n",
              "      <td>0.017671</td>\n",
              "      <td>-1.000000</td>\n",
              "      <td>1.000000</td>\n",
              "      <td>0.019059</td>\n",
              "      <td>-0.010383</td>\n",
              "      <td>-0.021340</td>\n",
              "      <td>0.038995</td>\n",
              "      <td>0.038995</td>\n",
              "      <td>-0.042786</td>\n",
              "      <td>0.019525</td>\n",
              "      <td>0.097799</td>\n",
              "      <td>0.006226</td>\n",
              "      <td>0.004461</td>\n",
              "      <td>-0.113773</td>\n",
              "      <td>0.018553</td>\n",
              "      <td>0.073658</td>\n",
              "      <td>-0.081637</td>\n",
              "    </tr>\n",
              "    <tr>\n",
              "      <th>Self_Employed_No</th>\n",
              "      <td>-0.121356</td>\n",
              "      <td>-0.028834</td>\n",
              "      <td>-0.114148</td>\n",
              "      <td>-0.023918</td>\n",
              "      <td>0.039440</td>\n",
              "      <td>-0.021584</td>\n",
              "      <td>0.016628</td>\n",
              "      <td>-0.019059</td>\n",
              "      <td>0.019059</td>\n",
              "      <td>1.000000</td>\n",
              "      <td>-0.822212</td>\n",
              "      <td>0.019286</td>\n",
              "      <td>0.027296</td>\n",
              "      <td>-0.046212</td>\n",
              "      <td>-0.013398</td>\n",
              "      <td>-0.026610</td>\n",
              "      <td>-0.013489</td>\n",
              "      <td>-0.013398</td>\n",
              "      <td>-0.017059</td>\n",
              "      <td>0.011950</td>\n",
              "      <td>0.048430</td>\n",
              "      <td>0.041932</td>\n",
              "      <td>0.001923</td>\n",
              "    </tr>\n",
              "    <tr>\n",
              "      <th>Self_Employed_Yes</th>\n",
              "      <td>0.127180</td>\n",
              "      <td>-0.016100</td>\n",
              "      <td>0.117421</td>\n",
              "      <td>0.000525</td>\n",
              "      <td>-0.027421</td>\n",
              "      <td>-0.004489</td>\n",
              "      <td>0.008491</td>\n",
              "      <td>0.010383</td>\n",
              "      <td>-0.010383</td>\n",
              "      <td>-0.822212</td>\n",
              "      <td>1.000000</td>\n",
              "      <td>-0.015857</td>\n",
              "      <td>-0.022443</td>\n",
              "      <td>0.061583</td>\n",
              "      <td>0.027721</td>\n",
              "      <td>0.041153</td>\n",
              "      <td>-0.016265</td>\n",
              "      <td>0.027721</td>\n",
              "      <td>0.042033</td>\n",
              "      <td>-0.017724</td>\n",
              "      <td>-0.031114</td>\n",
              "      <td>0.001550</td>\n",
              "      <td>-0.004994</td>\n",
              "    </tr>\n",
              "    <tr>\n",
              "      <th>Loan_Amount_Term_12.0</th>\n",
              "      <td>-0.005151</td>\n",
              "      <td>0.017070</td>\n",
              "      <td>-0.017034</td>\n",
              "      <td>-0.019078</td>\n",
              "      <td>0.020421</td>\n",
              "      <td>-0.029437</td>\n",
              "      <td>0.029755</td>\n",
              "      <td>0.021340</td>\n",
              "      <td>-0.021340</td>\n",
              "      <td>0.019286</td>\n",
              "      <td>-0.015857</td>\n",
              "      <td>1.000000</td>\n",
              "      <td>-0.002309</td>\n",
              "      <td>-0.002309</td>\n",
              "      <td>-0.003271</td>\n",
              "      <td>-0.002830</td>\n",
              "      <td>-0.011222</td>\n",
              "      <td>-0.003271</td>\n",
              "      <td>-0.005940</td>\n",
              "      <td>-0.090491</td>\n",
              "      <td>-0.006391</td>\n",
              "      <td>-0.016630</td>\n",
              "      <td>-0.074664</td>\n",
              "    </tr>\n",
              "    <tr>\n",
              "      <th>Loan_Amount_Term_36.0</th>\n",
              "      <td>-0.018580</td>\n",
              "      <td>-0.031698</td>\n",
              "      <td>-0.019685</td>\n",
              "      <td>0.047012</td>\n",
              "      <td>-0.042082</td>\n",
              "      <td>0.078437</td>\n",
              "      <td>-0.077599</td>\n",
              "      <td>-0.038995</td>\n",
              "      <td>0.038995</td>\n",
              "      <td>0.027296</td>\n",
              "      <td>-0.022443</td>\n",
              "      <td>-0.002309</td>\n",
              "      <td>1.000000</td>\n",
              "      <td>-0.003268</td>\n",
              "      <td>-0.004629</td>\n",
              "      <td>-0.004006</td>\n",
              "      <td>-0.015883</td>\n",
              "      <td>-0.004629</td>\n",
              "      <td>-0.008408</td>\n",
              "      <td>-0.128078</td>\n",
              "      <td>-0.009046</td>\n",
              "      <td>-0.023537</td>\n",
              "      <td>0.030924</td>\n",
              "    </tr>\n",
              "    <tr>\n",
              "      <th>Loan_Amount_Term_60.0</th>\n",
              "      <td>-0.003474</td>\n",
              "      <td>0.024034</td>\n",
              "      <td>-0.004366</td>\n",
              "      <td>-0.027002</td>\n",
              "      <td>0.028903</td>\n",
              "      <td>0.018387</td>\n",
              "      <td>-0.017742</td>\n",
              "      <td>-0.038995</td>\n",
              "      <td>0.038995</td>\n",
              "      <td>-0.046212</td>\n",
              "      <td>0.061583</td>\n",
              "      <td>-0.002309</td>\n",
              "      <td>-0.003268</td>\n",
              "      <td>1.000000</td>\n",
              "      <td>-0.004629</td>\n",
              "      <td>-0.004006</td>\n",
              "      <td>-0.015883</td>\n",
              "      <td>-0.004629</td>\n",
              "      <td>-0.008408</td>\n",
              "      <td>-0.128078</td>\n",
              "      <td>-0.009046</td>\n",
              "      <td>-0.023537</td>\n",
              "      <td>0.030924</td>\n",
              "    </tr>\n",
              "    <tr>\n",
              "      <th>Loan_Amount_Term_84.0</th>\n",
              "      <td>-0.016914</td>\n",
              "      <td>-0.014616</td>\n",
              "      <td>-0.013659</td>\n",
              "      <td>0.014173</td>\n",
              "      <td>-0.009335</td>\n",
              "      <td>-0.059018</td>\n",
              "      <td>0.059655</td>\n",
              "      <td>0.042786</td>\n",
              "      <td>-0.042786</td>\n",
              "      <td>-0.013398</td>\n",
              "      <td>0.027721</td>\n",
              "      <td>-0.003271</td>\n",
              "      <td>-0.004629</td>\n",
              "      <td>-0.004629</td>\n",
              "      <td>1.000000</td>\n",
              "      <td>-0.005674</td>\n",
              "      <td>-0.022499</td>\n",
              "      <td>-0.006557</td>\n",
              "      <td>-0.011910</td>\n",
              "      <td>-0.181426</td>\n",
              "      <td>-0.012814</td>\n",
              "      <td>-0.033341</td>\n",
              "      <td>-0.004570</td>\n",
              "    </tr>\n",
              "    <tr>\n",
              "      <th>Loan_Amount_Term_120.0</th>\n",
              "      <td>-0.029970</td>\n",
              "      <td>-0.030178</td>\n",
              "      <td>-0.103552</td>\n",
              "      <td>-0.033098</td>\n",
              "      <td>0.035428</td>\n",
              "      <td>-0.001998</td>\n",
              "      <td>0.002709</td>\n",
              "      <td>-0.019525</td>\n",
              "      <td>0.019525</td>\n",
              "      <td>-0.026610</td>\n",
              "      <td>0.041153</td>\n",
              "      <td>-0.002830</td>\n",
              "      <td>-0.004006</td>\n",
              "      <td>-0.004006</td>\n",
              "      <td>-0.005674</td>\n",
              "      <td>1.000000</td>\n",
              "      <td>-0.019468</td>\n",
              "      <td>-0.005674</td>\n",
              "      <td>-0.010306</td>\n",
              "      <td>-0.156991</td>\n",
              "      <td>-0.011088</td>\n",
              "      <td>-0.028851</td>\n",
              "      <td>0.037905</td>\n",
              "    </tr>\n",
              "    <tr>\n",
              "      <th>Loan_Amount_Term_180.0</th>\n",
              "      <td>0.069387</td>\n",
              "      <td>0.088838</td>\n",
              "      <td>0.003592</td>\n",
              "      <td>-0.082181</td>\n",
              "      <td>0.077745</td>\n",
              "      <td>-0.096363</td>\n",
              "      <td>0.098894</td>\n",
              "      <td>-0.097799</td>\n",
              "      <td>0.097799</td>\n",
              "      <td>-0.013489</td>\n",
              "      <td>-0.016265</td>\n",
              "      <td>-0.011222</td>\n",
              "      <td>-0.015883</td>\n",
              "      <td>-0.015883</td>\n",
              "      <td>-0.022499</td>\n",
              "      <td>-0.019468</td>\n",
              "      <td>1.000000</td>\n",
              "      <td>-0.022499</td>\n",
              "      <td>-0.040862</td>\n",
              "      <td>-0.622478</td>\n",
              "      <td>-0.043966</td>\n",
              "      <td>0.064968</td>\n",
              "      <td>-0.015678</td>\n",
              "    </tr>\n",
              "    <tr>\n",
              "      <th>Loan_Amount_Term_240.0</th>\n",
              "      <td>0.006690</td>\n",
              "      <td>-0.044901</td>\n",
              "      <td>-0.023434</td>\n",
              "      <td>0.014173</td>\n",
              "      <td>-0.009335</td>\n",
              "      <td>-0.016486</td>\n",
              "      <td>-0.025133</td>\n",
              "      <td>-0.006226</td>\n",
              "      <td>0.006226</td>\n",
              "      <td>-0.013398</td>\n",
              "      <td>0.027721</td>\n",
              "      <td>-0.003271</td>\n",
              "      <td>-0.004629</td>\n",
              "      <td>-0.004629</td>\n",
              "      <td>-0.006557</td>\n",
              "      <td>-0.005674</td>\n",
              "      <td>-0.022499</td>\n",
              "      <td>1.000000</td>\n",
              "      <td>-0.011910</td>\n",
              "      <td>-0.181426</td>\n",
              "      <td>-0.012814</td>\n",
              "      <td>-0.033341</td>\n",
              "      <td>-0.004570</td>\n",
              "    </tr>\n",
              "    <tr>\n",
              "      <th>Loan_Amount_Term_300.0</th>\n",
              "      <td>0.067018</td>\n",
              "      <td>0.033155</td>\n",
              "      <td>0.067884</td>\n",
              "      <td>-0.040174</td>\n",
              "      <td>0.018167</td>\n",
              "      <td>-0.035885</td>\n",
              "      <td>0.037273</td>\n",
              "      <td>-0.004461</td>\n",
              "      <td>0.004461</td>\n",
              "      <td>-0.017059</td>\n",
              "      <td>0.042033</td>\n",
              "      <td>-0.005940</td>\n",
              "      <td>-0.008408</td>\n",
              "      <td>-0.008408</td>\n",
              "      <td>-0.011910</td>\n",
              "      <td>-0.010306</td>\n",
              "      <td>-0.040862</td>\n",
              "      <td>-0.011910</td>\n",
              "      <td>1.000000</td>\n",
              "      <td>-0.329511</td>\n",
              "      <td>-0.023274</td>\n",
              "      <td>0.035851</td>\n",
              "      <td>-0.082642</td>\n",
              "    </tr>\n",
              "    <tr>\n",
              "      <th>Loan_Amount_Term_360.0</th>\n",
              "      <td>-0.038677</td>\n",
              "      <td>-0.045200</td>\n",
              "      <td>0.021745</td>\n",
              "      <td>0.052190</td>\n",
              "      <td>-0.051788</td>\n",
              "      <td>0.049500</td>\n",
              "      <td>-0.035580</td>\n",
              "      <td>0.113773</td>\n",
              "      <td>-0.113773</td>\n",
              "      <td>0.011950</td>\n",
              "      <td>-0.017724</td>\n",
              "      <td>-0.090491</td>\n",
              "      <td>-0.128078</td>\n",
              "      <td>-0.128078</td>\n",
              "      <td>-0.181426</td>\n",
              "      <td>-0.156991</td>\n",
              "      <td>-0.622478</td>\n",
              "      <td>-0.181426</td>\n",
              "      <td>-0.329511</td>\n",
              "      <td>1.000000</td>\n",
              "      <td>-0.354542</td>\n",
              "      <td>-0.102109</td>\n",
              "      <td>0.082697</td>\n",
              "    </tr>\n",
              "    <tr>\n",
              "      <th>Loan_Amount_Term_480.0</th>\n",
              "      <td>-0.026042</td>\n",
              "      <td>-0.032920</td>\n",
              "      <td>0.010159</td>\n",
              "      <td>0.034526</td>\n",
              "      <td>-0.024792</td>\n",
              "      <td>0.084144</td>\n",
              "      <td>-0.104345</td>\n",
              "      <td>-0.018553</td>\n",
              "      <td>0.018553</td>\n",
              "      <td>0.048430</td>\n",
              "      <td>-0.031114</td>\n",
              "      <td>-0.006391</td>\n",
              "      <td>-0.009046</td>\n",
              "      <td>-0.009046</td>\n",
              "      <td>-0.012814</td>\n",
              "      <td>-0.011088</td>\n",
              "      <td>-0.043966</td>\n",
              "      <td>-0.012814</td>\n",
              "      <td>-0.023274</td>\n",
              "      <td>-0.354542</td>\n",
              "      <td>1.000000</td>\n",
              "      <td>0.054711</td>\n",
              "      <td>-0.040441</td>\n",
              "    </tr>\n",
              "    <tr>\n",
              "      <th>Credit_History_0.0</th>\n",
              "      <td>0.018615</td>\n",
              "      <td>-0.011134</td>\n",
              "      <td>0.001463</td>\n",
              "      <td>0.009170</td>\n",
              "      <td>-0.021612</td>\n",
              "      <td>0.010938</td>\n",
              "      <td>-0.006690</td>\n",
              "      <td>-0.073658</td>\n",
              "      <td>0.073658</td>\n",
              "      <td>0.041932</td>\n",
              "      <td>0.001550</td>\n",
              "      <td>-0.016630</td>\n",
              "      <td>-0.023537</td>\n",
              "      <td>-0.023537</td>\n",
              "      <td>-0.033341</td>\n",
              "      <td>-0.028851</td>\n",
              "      <td>0.064968</td>\n",
              "      <td>-0.033341</td>\n",
              "      <td>0.035851</td>\n",
              "      <td>-0.102109</td>\n",
              "      <td>0.054711</td>\n",
              "      <td>1.000000</td>\n",
              "      <td>-0.761123</td>\n",
              "    </tr>\n",
              "    <tr>\n",
              "      <th>Credit_History_1.0</th>\n",
              "      <td>0.006986</td>\n",
              "      <td>-0.058795</td>\n",
              "      <td>-0.035156</td>\n",
              "      <td>-0.026655</td>\n",
              "      <td>0.035780</td>\n",
              "      <td>0.018150</td>\n",
              "      <td>-0.023626</td>\n",
              "      <td>0.081637</td>\n",
              "      <td>-0.081637</td>\n",
              "      <td>0.001923</td>\n",
              "      <td>-0.004994</td>\n",
              "      <td>-0.074664</td>\n",
              "      <td>0.030924</td>\n",
              "      <td>0.030924</td>\n",
              "      <td>-0.004570</td>\n",
              "      <td>0.037905</td>\n",
              "      <td>-0.015678</td>\n",
              "      <td>-0.004570</td>\n",
              "      <td>-0.082642</td>\n",
              "      <td>0.082697</td>\n",
              "      <td>-0.040441</td>\n",
              "      <td>-0.761123</td>\n",
              "      <td>1.000000</td>\n",
              "    </tr>\n",
              "  </tbody>\n",
              "</table>\n",
              "</div>"
            ],
            "text/plain": [
              "                        ApplicantIncome  ...  Credit_History_1.0\n",
              "ApplicantIncome                1.000000  ...            0.006986\n",
              "CoapplicantIncome             -0.116605  ...           -0.058795\n",
              "LoanAmount                     0.570909  ...           -0.035156\n",
              "Gender_Female                 -0.058809  ...           -0.026655\n",
              "Gender_Male                    0.013933  ...            0.035780\n",
              "Married_No                    -0.051708  ...            0.018150\n",
              "Married_Yes                    0.050194  ...           -0.023626\n",
              "Education_Graduate             0.140760  ...            0.081637\n",
              "Education_Not Graduate        -0.140760  ...           -0.081637\n",
              "Self_Employed_No              -0.121356  ...            0.001923\n",
              "Self_Employed_Yes              0.127180  ...           -0.004994\n",
              "Loan_Amount_Term_12.0         -0.005151  ...           -0.074664\n",
              "Loan_Amount_Term_36.0         -0.018580  ...            0.030924\n",
              "Loan_Amount_Term_60.0         -0.003474  ...            0.030924\n",
              "Loan_Amount_Term_84.0         -0.016914  ...           -0.004570\n",
              "Loan_Amount_Term_120.0        -0.029970  ...            0.037905\n",
              "Loan_Amount_Term_180.0         0.069387  ...           -0.015678\n",
              "Loan_Amount_Term_240.0         0.006690  ...           -0.004570\n",
              "Loan_Amount_Term_300.0         0.067018  ...           -0.082642\n",
              "Loan_Amount_Term_360.0        -0.038677  ...            0.082697\n",
              "Loan_Amount_Term_480.0        -0.026042  ...           -0.040441\n",
              "Credit_History_0.0             0.018615  ...           -0.761123\n",
              "Credit_History_1.0             0.006986  ...            1.000000\n",
              "\n",
              "[23 rows x 23 columns]"
            ]
          },
          "metadata": {
            "tags": []
          },
          "execution_count": 237
        }
      ]
    },
    {
      "cell_type": "code",
      "metadata": {
        "id": "60xMJMxPKcLm",
        "colab_type": "code",
        "colab": {
          "base_uri": "https://localhost:8080/",
          "height": 580
        },
        "outputId": "a09baf45-1f2a-4504-cc3b-ad89c7434bd8"
      },
      "source": [
        "mask = np.zeros_like(enc_corr, dtype=np.bool)\n",
        "mask[np.triu_indices_from(mask)] = True\n",
        "f, ax = plt.subplots(figsize=(11, 9))\n",
        "cmap = sns.diverging_palette(220, 10, as_cmap=True)\n",
        "svm = sns.heatmap(enc_corr, mask=mask, cmap=cmap, center=0,square=True, linewidths=.5, cbar_kws={\"shrink\": .5})"
      ],
      "execution_count": 238,
      "outputs": [
        {
          "output_type": "display_data",
          "data": {
            "image/png": "[encoded data removed]",
            "text/plain": [
              "<Figure size 792x648 with 2 Axes>"
            ]
          },
          "metadata": {
            "tags": [],
            "needs_background": "light"
          }
        }
      ]
    }
  ]
}