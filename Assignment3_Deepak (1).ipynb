{
  "nbformat": 4,
  "nbformat_minor": 0,
  "metadata": {
    "colab": {
      "name": "Assignment3_Deepak",
      "provenance": [],
      "collapsed_sections": [],
      "toc_visible": true
    },
    "kernelspec": {
      "display_name": "Python 3",
      "name": "python3"
    }
  },
  "cells": [
    {
      "cell_type": "markdown",
      "metadata": {
        "id": "YnqUex0lWC9R",
        "colab_type": "text"
      },
      "source": [
        "Submitted by ***Deepak***"
      ]
    },
    {
      "cell_type": "code",
      "metadata": {
        "id": "ozojFt_NxP5a",
        "colab_type": "code",
        "outputId": "bd5696f4-035a-466c-d2a2-f7c7ed4e5ccd",
        "colab": {
          "base_uri": "https://localhost:8080/",
          "height": 484
        }
      },
      "source": [
        "import pandas as pd\n",
        "import numpy as np\n",
        "import seaborn as sns\n",
        "import matplotlib.pyplot as plt\n",
        "df=pd.read_csv(\"/content/dataset_model.csv\")\n",
        "df"
      ],
      "execution_count": 0,
      "outputs": [
        {
          "output_type": "stream",
          "text": [
            "/usr/local/lib/python3.6/dist-packages/statsmodels/tools/_testing.py:19: FutureWarning: pandas.util.testing is deprecated. Use the functions in the public API at pandas.testing instead.\n",
            "  import pandas.util.testing as tm\n"
          ],
          "name": "stderr"
        },
        {
          "output_type": "execute_result",
          "data": {
            "text/html": [
              "<div>\n",
              "<style scoped>\n",
              "    .dataframe tbody tr th:only-of-type {\n",
              "        vertical-align: middle;\n",
              "    }\n",
              "\n",
              "    .dataframe tbody tr th {\n",
              "        vertical-align: top;\n",
              "    }\n",
              "\n",
              "    .dataframe thead th {\n",
              "        text-align: right;\n",
              "    }\n",
              "</style>\n",
              "<table border=\"1\" class=\"dataframe\">\n",
              "  <thead>\n",
              "    <tr style=\"text-align: right;\">\n",
              "      <th></th>\n",
              "      <th>Loan_ID</th>\n",
              "      <th>Gender</th>\n",
              "      <th>Married</th>\n",
              "      <th>Dependents</th>\n",
              "      <th>Education</th>\n",
              "      <th>Self_Employed</th>\n",
              "      <th>ApplicantIncome</th>\n",
              "      <th>CoapplicantIncome</th>\n",
              "      <th>LoanAmount</th>\n",
              "      <th>Loan_Amount_Term</th>\n",
              "      <th>Credit_History</th>\n",
              "      <th>Property_Area</th>\n",
              "      <th>Loan_Status</th>\n",
              "    </tr>\n",
              "  </thead>\n",
              "  <tbody>\n",
              "    <tr>\n",
              "      <th>0</th>\n",
              "      <td>LP001002</td>\n",
              "      <td>Male</td>\n",
              "      <td>No</td>\n",
              "      <td>0</td>\n",
              "      <td>Graduate</td>\n",
              "      <td>No</td>\n",
              "      <td>5849</td>\n",
              "      <td>0.0</td>\n",
              "      <td>NaN</td>\n",
              "      <td>360.0</td>\n",
              "      <td>1.0</td>\n",
              "      <td>Urban</td>\n",
              "      <td>Y</td>\n",
              "    </tr>\n",
              "    <tr>\n",
              "      <th>1</th>\n",
              "      <td>LP001003</td>\n",
              "      <td>Male</td>\n",
              "      <td>Yes</td>\n",
              "      <td>1</td>\n",
              "      <td>Graduate</td>\n",
              "      <td>No</td>\n",
              "      <td>4583</td>\n",
              "      <td>1508.0</td>\n",
              "      <td>128.0</td>\n",
              "      <td>360.0</td>\n",
              "      <td>1.0</td>\n",
              "      <td>Rural</td>\n",
              "      <td>N</td>\n",
              "    </tr>\n",
              "    <tr>\n",
              "      <th>2</th>\n",
              "      <td>LP001005</td>\n",
              "      <td>Male</td>\n",
              "      <td>Yes</td>\n",
              "      <td>0</td>\n",
              "      <td>Graduate</td>\n",
              "      <td>Yes</td>\n",
              "      <td>3000</td>\n",
              "      <td>0.0</td>\n",
              "      <td>66.0</td>\n",
              "      <td>360.0</td>\n",
              "      <td>1.0</td>\n",
              "      <td>Urban</td>\n",
              "      <td>Y</td>\n",
              "    </tr>\n",
              "    <tr>\n",
              "      <th>3</th>\n",
              "      <td>LP001006</td>\n",
              "      <td>Male</td>\n",
              "      <td>Yes</td>\n",
              "      <td>0</td>\n",
              "      <td>Not Graduate</td>\n",
              "      <td>No</td>\n",
              "      <td>2583</td>\n",
              "      <td>2358.0</td>\n",
              "      <td>120.0</td>\n",
              "      <td>360.0</td>\n",
              "      <td>1.0</td>\n",
              "      <td>Urban</td>\n",
              "      <td>Y</td>\n",
              "    </tr>\n",
              "    <tr>\n",
              "      <th>4</th>\n",
              "      <td>LP001008</td>\n",
              "      <td>Male</td>\n",
              "      <td>No</td>\n",
              "      <td>0</td>\n",
              "      <td>Graduate</td>\n",
              "      <td>No</td>\n",
              "      <td>6000</td>\n",
              "      <td>0.0</td>\n",
              "      <td>141.0</td>\n",
              "      <td>360.0</td>\n",
              "      <td>1.0</td>\n",
              "      <td>Urban</td>\n",
              "      <td>Y</td>\n",
              "    </tr>\n",
              "    <tr>\n",
              "      <th>...</th>\n",
              "      <td>...</td>\n",
              "      <td>...</td>\n",
              "      <td>...</td>\n",
              "      <td>...</td>\n",
              "      <td>...</td>\n",
              "      <td>...</td>\n",
              "      <td>...</td>\n",
              "      <td>...</td>\n",
              "      <td>...</td>\n",
              "      <td>...</td>\n",
              "      <td>...</td>\n",
              "      <td>...</td>\n",
              "      <td>...</td>\n",
              "    </tr>\n",
              "    <tr>\n",
              "      <th>609</th>\n",
              "      <td>LP002978</td>\n",
              "      <td>Female</td>\n",
              "      <td>No</td>\n",
              "      <td>0</td>\n",
              "      <td>Graduate</td>\n",
              "      <td>No</td>\n",
              "      <td>2900</td>\n",
              "      <td>0.0</td>\n",
              "      <td>71.0</td>\n",
              "      <td>360.0</td>\n",
              "      <td>1.0</td>\n",
              "      <td>Rural</td>\n",
              "      <td>Y</td>\n",
              "    </tr>\n",
              "    <tr>\n",
              "      <th>610</th>\n",
              "      <td>LP002979</td>\n",
              "      <td>Male</td>\n",
              "      <td>Yes</td>\n",
              "      <td>3+</td>\n",
              "      <td>Graduate</td>\n",
              "      <td>No</td>\n",
              "      <td>4106</td>\n",
              "      <td>0.0</td>\n",
              "      <td>40.0</td>\n",
              "      <td>180.0</td>\n",
              "      <td>1.0</td>\n",
              "      <td>Rural</td>\n",
              "      <td>Y</td>\n",
              "    </tr>\n",
              "    <tr>\n",
              "      <th>611</th>\n",
              "      <td>LP002983</td>\n",
              "      <td>Male</td>\n",
              "      <td>Yes</td>\n",
              "      <td>1</td>\n",
              "      <td>Graduate</td>\n",
              "      <td>No</td>\n",
              "      <td>8072</td>\n",
              "      <td>240.0</td>\n",
              "      <td>253.0</td>\n",
              "      <td>360.0</td>\n",
              "      <td>1.0</td>\n",
              "      <td>Urban</td>\n",
              "      <td>Y</td>\n",
              "    </tr>\n",
              "    <tr>\n",
              "      <th>612</th>\n",
              "      <td>LP002984</td>\n",
              "      <td>Male</td>\n",
              "      <td>Yes</td>\n",
              "      <td>2</td>\n",
              "      <td>Graduate</td>\n",
              "      <td>No</td>\n",
              "      <td>7583</td>\n",
              "      <td>0.0</td>\n",
              "      <td>187.0</td>\n",
              "      <td>360.0</td>\n",
              "      <td>1.0</td>\n",
              "      <td>Urban</td>\n",
              "      <td>Y</td>\n",
              "    </tr>\n",
              "    <tr>\n",
              "      <th>613</th>\n",
              "      <td>LP002990</td>\n",
              "      <td>Female</td>\n",
              "      <td>No</td>\n",
              "      <td>0</td>\n",
              "      <td>Graduate</td>\n",
              "      <td>Yes</td>\n",
              "      <td>4583</td>\n",
              "      <td>0.0</td>\n",
              "      <td>133.0</td>\n",
              "      <td>360.0</td>\n",
              "      <td>0.0</td>\n",
              "      <td>Semiurban</td>\n",
              "      <td>N</td>\n",
              "    </tr>\n",
              "  </tbody>\n",
              "</table>\n",
              "<p>614 rows × 13 columns</p>\n",
              "</div>"
            ],
            "text/plain": [
              "      Loan_ID  Gender Married  ... Credit_History Property_Area Loan_Status\n",
              "0    LP001002    Male      No  ...            1.0         Urban           Y\n",
              "1    LP001003    Male     Yes  ...            1.0         Rural           N\n",
              "2    LP001005    Male     Yes  ...            1.0         Urban           Y\n",
              "3    LP001006    Male     Yes  ...            1.0         Urban           Y\n",
              "4    LP001008    Male      No  ...            1.0         Urban           Y\n",
              "..        ...     ...     ...  ...            ...           ...         ...\n",
              "609  LP002978  Female      No  ...            1.0         Rural           Y\n",
              "610  LP002979    Male     Yes  ...            1.0         Rural           Y\n",
              "611  LP002983    Male     Yes  ...            1.0         Urban           Y\n",
              "612  LP002984    Male     Yes  ...            1.0         Urban           Y\n",
              "613  LP002990  Female      No  ...            0.0     Semiurban           N\n",
              "\n",
              "[614 rows x 13 columns]"
            ]
          },
          "metadata": {
            "tags": []
          },
          "execution_count": 1
        }
      ]
    },
    {
      "cell_type": "markdown",
      "metadata": {
        "id": "B4gwyjy5LYxX",
        "colab_type": "text"
      },
      "source": [
        "**Problem 1-** Identify & Remove the field that is providing only unique information about records .Capture it in another dataframe"
      ]
    },
    {
      "cell_type": "code",
      "metadata": {
        "id": "T--7RBu4zYqH",
        "colab_type": "code",
        "outputId": "e6b58b72-bb72-45ba-a5db-0f8a9aef40b6",
        "colab": {
          "base_uri": "https://localhost:8080/",
          "height": 86
        }
      },
      "source": [
        "df.columns"
      ],
      "execution_count": 0,
      "outputs": [
        {
          "output_type": "execute_result",
          "data": {
            "text/plain": [
              "Index(['Loan_ID', 'Gender', 'Married', 'Dependents', 'Education',\n",
              "       'Self_Employed', 'ApplicantIncome', 'CoapplicantIncome', 'LoanAmount',\n",
              "       'Loan_Amount_Term', 'Credit_History', 'Property_Area', 'Loan_Status'],\n",
              "      dtype='object')"
            ]
          },
          "metadata": {
            "tags": []
          },
          "execution_count": 29
        }
      ]
    },
    {
      "cell_type": "code",
      "metadata": {
        "id": "Ygub0cgRzesz",
        "colab_type": "code",
        "outputId": "768f3242-fb67-43f1-a956-5b1a1fcf96a2",
        "colab": {
          "base_uri": "https://localhost:8080/",
          "height": 35
        }
      },
      "source": [
        "df.shape"
      ],
      "execution_count": 0,
      "outputs": [
        {
          "output_type": "execute_result",
          "data": {
            "text/plain": [
              "(614, 13)"
            ]
          },
          "metadata": {
            "tags": []
          },
          "execution_count": 2
        }
      ]
    },
    {
      "cell_type": "code",
      "metadata": {
        "id": "NKHHsLGfGew4",
        "colab_type": "code",
        "outputId": "8caf02e8-7d08-44e7-c312-88aa0d3a0a23",
        "colab": {
          "base_uri": "https://localhost:8080/",
          "height": 34
        }
      },
      "source": [
        "df['Loan_ID'].unique().size\n"
      ],
      "execution_count": 0,
      "outputs": [
        {
          "output_type": "execute_result",
          "data": {
            "text/plain": [
              "614"
            ]
          },
          "metadata": {
            "tags": []
          },
          "execution_count": 71
        }
      ]
    },
    {
      "cell_type": "code",
      "metadata": {
        "id": "j_rMMzmbHdve",
        "colab_type": "code",
        "outputId": "6a25417e-c815-4352-ed12-5b14334a0fb3",
        "colab": {
          "base_uri": "https://localhost:8080/",
          "height": 34
        }
      },
      "source": [
        "df['Gender'].unique().size\n"
      ],
      "execution_count": 0,
      "outputs": [
        {
          "output_type": "execute_result",
          "data": {
            "text/plain": [
              "3"
            ]
          },
          "metadata": {
            "tags": []
          },
          "execution_count": 74
        }
      ]
    },
    {
      "cell_type": "code",
      "metadata": {
        "id": "NoCgdCueIPTO",
        "colab_type": "code",
        "outputId": "8020686c-e067-48f4-8c94-4b9d0b2a090e",
        "colab": {
          "base_uri": "https://localhost:8080/",
          "height": 34
        }
      },
      "source": [
        "df['Education'].unique().size"
      ],
      "execution_count": 0,
      "outputs": [
        {
          "output_type": "execute_result",
          "data": {
            "text/plain": [
              "2"
            ]
          },
          "metadata": {
            "tags": []
          },
          "execution_count": 75
        }
      ]
    },
    {
      "cell_type": "code",
      "metadata": {
        "id": "ONFrcVmLIqfy",
        "colab_type": "code",
        "outputId": "5d2be701-b2be-440e-db5d-ecc13cc566e0",
        "colab": {
          "base_uri": "https://localhost:8080/",
          "height": 34
        }
      },
      "source": [
        "df['Self_Employed'].unique().size\n"
      ],
      "execution_count": 0,
      "outputs": [
        {
          "output_type": "execute_result",
          "data": {
            "text/plain": [
              "3"
            ]
          },
          "metadata": {
            "tags": []
          },
          "execution_count": 76
        }
      ]
    },
    {
      "cell_type": "code",
      "metadata": {
        "id": "TELio0XkJCX2",
        "colab_type": "code",
        "outputId": "4ca4c9a1-0cb7-4d0b-a85a-10c579e5579c",
        "colab": {
          "base_uri": "https://localhost:8080/",
          "height": 34
        }
      },
      "source": [
        "df['ApplicantIncome'].unique().size"
      ],
      "execution_count": 0,
      "outputs": [
        {
          "output_type": "execute_result",
          "data": {
            "text/plain": [
              "505"
            ]
          },
          "metadata": {
            "tags": []
          },
          "execution_count": 79
        }
      ]
    },
    {
      "cell_type": "code",
      "metadata": {
        "id": "PJ6XlHv0LIQQ",
        "colab_type": "code",
        "outputId": "c4df4dda-1deb-401f-b484-8fc031992783",
        "colab": {
          "base_uri": "https://localhost:8080/",
          "height": 448
        }
      },
      "source": [
        "df.drop('Loan_ID', axis=1)\n"
      ],
      "execution_count": 0,
      "outputs": [
        {
          "output_type": "execute_result",
          "data": {
            "text/html": [
              "<div>\n",
              "<style scoped>\n",
              "    .dataframe tbody tr th:only-of-type {\n",
              "        vertical-align: middle;\n",
              "    }\n",
              "\n",
              "    .dataframe tbody tr th {\n",
              "        vertical-align: top;\n",
              "    }\n",
              "\n",
              "    .dataframe thead th {\n",
              "        text-align: right;\n",
              "    }\n",
              "</style>\n",
              "<table border=\"1\" class=\"dataframe\">\n",
              "  <thead>\n",
              "    <tr style=\"text-align: right;\">\n",
              "      <th></th>\n",
              "      <th>Gender</th>\n",
              "      <th>Married</th>\n",
              "      <th>Dependents</th>\n",
              "      <th>Education</th>\n",
              "      <th>Self_Employed</th>\n",
              "      <th>ApplicantIncome</th>\n",
              "      <th>CoapplicantIncome</th>\n",
              "      <th>LoanAmount</th>\n",
              "      <th>Loan_Amount_Term</th>\n",
              "      <th>Credit_History</th>\n",
              "      <th>Property_Area</th>\n",
              "      <th>Loan_Status</th>\n",
              "    </tr>\n",
              "  </thead>\n",
              "  <tbody>\n",
              "    <tr>\n",
              "      <th>0</th>\n",
              "      <td>Male</td>\n",
              "      <td>No</td>\n",
              "      <td>0</td>\n",
              "      <td>Graduate</td>\n",
              "      <td>No</td>\n",
              "      <td>5849</td>\n",
              "      <td>0.0</td>\n",
              "      <td>NaN</td>\n",
              "      <td>360.0</td>\n",
              "      <td>1.0</td>\n",
              "      <td>Urban</td>\n",
              "      <td>Y</td>\n",
              "    </tr>\n",
              "    <tr>\n",
              "      <th>1</th>\n",
              "      <td>Male</td>\n",
              "      <td>Yes</td>\n",
              "      <td>1</td>\n",
              "      <td>Graduate</td>\n",
              "      <td>No</td>\n",
              "      <td>4583</td>\n",
              "      <td>1508.0</td>\n",
              "      <td>128.0</td>\n",
              "      <td>360.0</td>\n",
              "      <td>1.0</td>\n",
              "      <td>Rural</td>\n",
              "      <td>N</td>\n",
              "    </tr>\n",
              "    <tr>\n",
              "      <th>2</th>\n",
              "      <td>Male</td>\n",
              "      <td>Yes</td>\n",
              "      <td>0</td>\n",
              "      <td>Graduate</td>\n",
              "      <td>Yes</td>\n",
              "      <td>3000</td>\n",
              "      <td>0.0</td>\n",
              "      <td>66.0</td>\n",
              "      <td>360.0</td>\n",
              "      <td>1.0</td>\n",
              "      <td>Urban</td>\n",
              "      <td>Y</td>\n",
              "    </tr>\n",
              "    <tr>\n",
              "      <th>3</th>\n",
              "      <td>Male</td>\n",
              "      <td>Yes</td>\n",
              "      <td>0</td>\n",
              "      <td>Not Graduate</td>\n",
              "      <td>No</td>\n",
              "      <td>2583</td>\n",
              "      <td>2358.0</td>\n",
              "      <td>120.0</td>\n",
              "      <td>360.0</td>\n",
              "      <td>1.0</td>\n",
              "      <td>Urban</td>\n",
              "      <td>Y</td>\n",
              "    </tr>\n",
              "    <tr>\n",
              "      <th>4</th>\n",
              "      <td>Male</td>\n",
              "      <td>No</td>\n",
              "      <td>0</td>\n",
              "      <td>Graduate</td>\n",
              "      <td>No</td>\n",
              "      <td>6000</td>\n",
              "      <td>0.0</td>\n",
              "      <td>141.0</td>\n",
              "      <td>360.0</td>\n",
              "      <td>1.0</td>\n",
              "      <td>Urban</td>\n",
              "      <td>Y</td>\n",
              "    </tr>\n",
              "    <tr>\n",
              "      <th>...</th>\n",
              "      <td>...</td>\n",
              "      <td>...</td>\n",
              "      <td>...</td>\n",
              "      <td>...</td>\n",
              "      <td>...</td>\n",
              "      <td>...</td>\n",
              "      <td>...</td>\n",
              "      <td>...</td>\n",
              "      <td>...</td>\n",
              "      <td>...</td>\n",
              "      <td>...</td>\n",
              "      <td>...</td>\n",
              "    </tr>\n",
              "    <tr>\n",
              "      <th>609</th>\n",
              "      <td>Female</td>\n",
              "      <td>No</td>\n",
              "      <td>0</td>\n",
              "      <td>Graduate</td>\n",
              "      <td>No</td>\n",
              "      <td>2900</td>\n",
              "      <td>0.0</td>\n",
              "      <td>71.0</td>\n",
              "      <td>360.0</td>\n",
              "      <td>1.0</td>\n",
              "      <td>Rural</td>\n",
              "      <td>Y</td>\n",
              "    </tr>\n",
              "    <tr>\n",
              "      <th>610</th>\n",
              "      <td>Male</td>\n",
              "      <td>Yes</td>\n",
              "      <td>3+</td>\n",
              "      <td>Graduate</td>\n",
              "      <td>No</td>\n",
              "      <td>4106</td>\n",
              "      <td>0.0</td>\n",
              "      <td>40.0</td>\n",
              "      <td>180.0</td>\n",
              "      <td>1.0</td>\n",
              "      <td>Rural</td>\n",
              "      <td>Y</td>\n",
              "    </tr>\n",
              "    <tr>\n",
              "      <th>611</th>\n",
              "      <td>Male</td>\n",
              "      <td>Yes</td>\n",
              "      <td>1</td>\n",
              "      <td>Graduate</td>\n",
              "      <td>No</td>\n",
              "      <td>8072</td>\n",
              "      <td>240.0</td>\n",
              "      <td>253.0</td>\n",
              "      <td>360.0</td>\n",
              "      <td>1.0</td>\n",
              "      <td>Urban</td>\n",
              "      <td>Y</td>\n",
              "    </tr>\n",
              "    <tr>\n",
              "      <th>612</th>\n",
              "      <td>Male</td>\n",
              "      <td>Yes</td>\n",
              "      <td>2</td>\n",
              "      <td>Graduate</td>\n",
              "      <td>No</td>\n",
              "      <td>7583</td>\n",
              "      <td>0.0</td>\n",
              "      <td>187.0</td>\n",
              "      <td>360.0</td>\n",
              "      <td>1.0</td>\n",
              "      <td>Urban</td>\n",
              "      <td>Y</td>\n",
              "    </tr>\n",
              "    <tr>\n",
              "      <th>613</th>\n",
              "      <td>Female</td>\n",
              "      <td>No</td>\n",
              "      <td>0</td>\n",
              "      <td>Graduate</td>\n",
              "      <td>Yes</td>\n",
              "      <td>4583</td>\n",
              "      <td>0.0</td>\n",
              "      <td>133.0</td>\n",
              "      <td>360.0</td>\n",
              "      <td>0.0</td>\n",
              "      <td>Semiurban</td>\n",
              "      <td>N</td>\n",
              "    </tr>\n",
              "  </tbody>\n",
              "</table>\n",
              "<p>614 rows × 12 columns</p>\n",
              "</div>"
            ],
            "text/plain": [
              "     Gender Married Dependents  ... Credit_History Property_Area  Loan_Status\n",
              "0      Male      No          0  ...            1.0         Urban            Y\n",
              "1      Male     Yes          1  ...            1.0         Rural            N\n",
              "2      Male     Yes          0  ...            1.0         Urban            Y\n",
              "3      Male     Yes          0  ...            1.0         Urban            Y\n",
              "4      Male      No          0  ...            1.0         Urban            Y\n",
              "..      ...     ...        ...  ...            ...           ...          ...\n",
              "609  Female      No          0  ...            1.0         Rural            Y\n",
              "610    Male     Yes         3+  ...            1.0         Rural            Y\n",
              "611    Male     Yes          1  ...            1.0         Urban            Y\n",
              "612    Male     Yes          2  ...            1.0         Urban            Y\n",
              "613  Female      No          0  ...            0.0     Semiurban            N\n",
              "\n",
              "[614 rows x 12 columns]"
            ]
          },
          "metadata": {
            "tags": []
          },
          "execution_count": 6
        }
      ]
    },
    {
      "cell_type": "markdown",
      "metadata": {
        "id": "l0Z_6HYf1tDK",
        "colab_type": "text"
      },
      "source": [
        "**Problem 2-** Identifying Continous & Categorical Columns"
      ]
    },
    {
      "cell_type": "markdown",
      "metadata": {
        "id": "n9TkuDBfzjqf",
        "colab_type": "text"
      },
      "source": [
        "***Categorical Columns***"
      ]
    },
    {
      "cell_type": "code",
      "metadata": {
        "id": "Ds_rhGtqzi3A",
        "colab_type": "code",
        "outputId": "7102b01c-01b0-472d-e88c-9a5688d38107",
        "colab": {
          "base_uri": "https://localhost:8080/",
          "height": 35
        }
      },
      "source": [
        "df['Gender'].unique()"
      ],
      "execution_count": 0,
      "outputs": [
        {
          "output_type": "execute_result",
          "data": {
            "text/plain": [
              "array(['Male', 'Female', nan], dtype=object)"
            ]
          },
          "metadata": {
            "tags": []
          },
          "execution_count": 7
        }
      ]
    },
    {
      "cell_type": "code",
      "metadata": {
        "id": "MIRz3zT1CQKH",
        "colab_type": "code",
        "outputId": "59438609-b1ba-42ee-bb27-f25625d5b776",
        "colab": {
          "base_uri": "https://localhost:8080/",
          "height": 35
        }
      },
      "source": [
        "df['Married'].unique()"
      ],
      "execution_count": 0,
      "outputs": [
        {
          "output_type": "execute_result",
          "data": {
            "text/plain": [
              "array(['No', 'Yes', nan], dtype=object)"
            ]
          },
          "metadata": {
            "tags": []
          },
          "execution_count": 8
        }
      ]
    },
    {
      "cell_type": "code",
      "metadata": {
        "id": "du_nDscJCZYp",
        "colab_type": "code",
        "outputId": "51bcf539-e59d-4f63-9b4a-7f286063cfcf",
        "colab": {
          "base_uri": "https://localhost:8080/",
          "height": 35
        }
      },
      "source": [
        "df['Education'].unique()"
      ],
      "execution_count": 0,
      "outputs": [
        {
          "output_type": "execute_result",
          "data": {
            "text/plain": [
              "array(['Graduate', 'Not Graduate'], dtype=object)"
            ]
          },
          "metadata": {
            "tags": []
          },
          "execution_count": 9
        }
      ]
    },
    {
      "cell_type": "code",
      "metadata": {
        "id": "oSUVWkHFCtno",
        "colab_type": "code",
        "outputId": "04551666-d213-4773-f1ac-3765e2d6b1d4",
        "colab": {
          "base_uri": "https://localhost:8080/",
          "height": 35
        }
      },
      "source": [
        "df['Self_Employed'].unique()"
      ],
      "execution_count": 0,
      "outputs": [
        {
          "output_type": "execute_result",
          "data": {
            "text/plain": [
              "array(['No', 'Yes', nan], dtype=object)"
            ]
          },
          "metadata": {
            "tags": []
          },
          "execution_count": 10
        }
      ]
    },
    {
      "cell_type": "code",
      "metadata": {
        "id": "n11t3i0YC5zp",
        "colab_type": "code",
        "outputId": "c83fd606-7cf0-4fd6-d5ff-c87815cec1f5",
        "colab": {
          "base_uri": "https://localhost:8080/",
          "height": 35
        }
      },
      "source": [
        "df['Property_Area'].unique()"
      ],
      "execution_count": 0,
      "outputs": [
        {
          "output_type": "execute_result",
          "data": {
            "text/plain": [
              "array(['Urban', 'Rural', 'Semiurban'], dtype=object)"
            ]
          },
          "metadata": {
            "tags": []
          },
          "execution_count": 11
        }
      ]
    },
    {
      "cell_type": "code",
      "metadata": {
        "id": "uonuiQDKDITp",
        "colab_type": "code",
        "outputId": "ce9c188f-3228-4712-e623-a6f05dfd104c",
        "colab": {
          "base_uri": "https://localhost:8080/",
          "height": 35
        }
      },
      "source": [
        "df['Loan_Status'].unique()"
      ],
      "execution_count": 0,
      "outputs": [
        {
          "output_type": "execute_result",
          "data": {
            "text/plain": [
              "array(['Y', 'N'], dtype=object)"
            ]
          },
          "metadata": {
            "tags": []
          },
          "execution_count": 14
        }
      ]
    },
    {
      "cell_type": "markdown",
      "metadata": {
        "id": "uMu1RxJgz1hq",
        "colab_type": "text"
      },
      "source": [
        "***Continous Columns***"
      ]
    },
    {
      "cell_type": "code",
      "metadata": {
        "id": "xP_4uTyfDS6s",
        "colab_type": "code",
        "outputId": "1c0669ac-87f5-4286-94a0-388e5e88b36a",
        "colab": {
          "base_uri": "https://localhost:8080/",
          "height": 35
        }
      },
      "source": [
        "len(df['Loan_ID'].unique())"
      ],
      "execution_count": 0,
      "outputs": [
        {
          "output_type": "execute_result",
          "data": {
            "text/plain": [
              "614"
            ]
          },
          "metadata": {
            "tags": []
          },
          "execution_count": 13
        }
      ]
    },
    {
      "cell_type": "code",
      "metadata": {
        "id": "rwxyuamkEGj2",
        "colab_type": "code",
        "outputId": "60d513cf-6426-4e26-a563-5edb3e0f6438",
        "colab": {
          "base_uri": "https://localhost:8080/",
          "height": 34
        }
      },
      "source": [
        "len(df['Dependents'].unique())"
      ],
      "execution_count": 0,
      "outputs": [
        {
          "output_type": "execute_result",
          "data": {
            "text/plain": [
              "5"
            ]
          },
          "metadata": {
            "tags": []
          },
          "execution_count": 40
        }
      ]
    },
    {
      "cell_type": "code",
      "metadata": {
        "id": "GJ1CGYOkEep_",
        "colab_type": "code",
        "outputId": "ca1de4a3-8ab5-4d99-ecc4-d4a4094244dc",
        "colab": {
          "base_uri": "https://localhost:8080/",
          "height": 34
        }
      },
      "source": [
        "len(df['ApplicantIncome'].unique())"
      ],
      "execution_count": 0,
      "outputs": [
        {
          "output_type": "execute_result",
          "data": {
            "text/plain": [
              "505"
            ]
          },
          "metadata": {
            "tags": []
          },
          "execution_count": 41
        }
      ]
    },
    {
      "cell_type": "code",
      "metadata": {
        "id": "awLLOFjcESDU",
        "colab_type": "code",
        "outputId": "7b7794ab-52e3-4087-abfb-c2d0f82d9210",
        "colab": {
          "base_uri": "https://localhost:8080/",
          "height": 35
        }
      },
      "source": [
        "len(df['CoapplicantIncome'].unique())"
      ],
      "execution_count": 0,
      "outputs": [
        {
          "output_type": "execute_result",
          "data": {
            "text/plain": [
              "287"
            ]
          },
          "metadata": {
            "tags": []
          },
          "execution_count": 16
        }
      ]
    },
    {
      "cell_type": "code",
      "metadata": {
        "id": "ToqB13YJE1S0",
        "colab_type": "code",
        "outputId": "658203da-a861-49c9-dcb7-43da002cf594",
        "colab": {
          "base_uri": "https://localhost:8080/",
          "height": 35
        }
      },
      "source": [
        "len(df['LoanAmount'].unique())"
      ],
      "execution_count": 0,
      "outputs": [
        {
          "output_type": "execute_result",
          "data": {
            "text/plain": [
              "204"
            ]
          },
          "metadata": {
            "tags": []
          },
          "execution_count": 15
        }
      ]
    },
    {
      "cell_type": "code",
      "metadata": {
        "id": "ESSNDNeoE8-_",
        "colab_type": "code",
        "outputId": "1d45cc2f-f83a-4d0c-fc1d-ede1ab3b8c96",
        "colab": {
          "base_uri": "https://localhost:8080/",
          "height": 34
        }
      },
      "source": [
        "len(df['Loan_Amount_Term'].unique())"
      ],
      "execution_count": 0,
      "outputs": [
        {
          "output_type": "execute_result",
          "data": {
            "text/plain": [
              "11"
            ]
          },
          "metadata": {
            "tags": []
          },
          "execution_count": 45
        }
      ]
    },
    {
      "cell_type": "code",
      "metadata": {
        "id": "XfpUmKBrFI_a",
        "colab_type": "code",
        "outputId": "9184ed0c-55b9-4b5a-f48f-825f53c2d5ed",
        "colab": {
          "base_uri": "https://localhost:8080/",
          "height": 35
        }
      },
      "source": [
        "len(df['Credit_History'].unique())"
      ],
      "execution_count": 0,
      "outputs": [
        {
          "output_type": "execute_result",
          "data": {
            "text/plain": [
              "3"
            ]
          },
          "metadata": {
            "tags": []
          },
          "execution_count": 17
        }
      ]
    },
    {
      "cell_type": "markdown",
      "metadata": {
        "id": "VHD4QfU6GVAF",
        "colab_type": "text"
      },
      "source": [
        "**Problem 3-** Performing Uni-variate Analysis with Plots.Record your Observations"
      ]
    },
    {
      "cell_type": "code",
      "metadata": {
        "id": "qt3GAXvaFSp6",
        "colab_type": "code",
        "outputId": "3cdca04d-10df-4427-ea46-88b6c84751aa",
        "colab": {
          "base_uri": "https://localhost:8080/",
          "height": 606
        }
      },
      "source": [
        "a=df.hist(figsize=[12,8])\n",
        "print(a)"
      ],
      "execution_count": 0,
      "outputs": [
        {
          "output_type": "stream",
          "text": [
            "[[<matplotlib.axes._subplots.AxesSubplot object at 0x7f1b3458c5c0>\n",
            "  <matplotlib.axes._subplots.AxesSubplot object at 0x7f1b345b3780>]\n",
            " [<matplotlib.axes._subplots.AxesSubplot object at 0x7f1b3456d630>\n",
            "  <matplotlib.axes._subplots.AxesSubplot object at 0x7f1b3451e9b0>]\n",
            " [<matplotlib.axes._subplots.AxesSubplot object at 0x7f1b344d0d30>\n",
            "  <matplotlib.axes._subplots.AxesSubplot object at 0x7f1b344900f0>]]\n"
          ],
          "name": "stdout"
        },
        {
          "output_type": "display_data",
          "data": {
            "image/png": "[encoded data removed]",
            "text/plain": [
              "<Figure size 864x576 with 6 Axes>"
            ]
          },
          "metadata": {
            "tags": [],
            "needs_background": "light"
          }
        }
      ]
    },
    {
      "cell_type": "code",
      "metadata": {
        "id": "QXrBySG8IyN-",
        "colab_type": "code",
        "outputId": "ef95e02f-a2fe-4aae-a6fa-fba29d70fa77",
        "colab": {
          "base_uri": "https://localhost:8080/",
          "height": 309
        }
      },
      "source": [
        "df['Gender'].value_counts().plot.bar()"
      ],
      "execution_count": 0,
      "outputs": [
        {
          "output_type": "execute_result",
          "data": {
            "text/plain": [
              "<matplotlib.axes._subplots.AxesSubplot at 0x7f1b342b91d0>"
            ]
          },
          "metadata": {
            "tags": []
          },
          "execution_count": 32
        },
        {
          "output_type": "display_data",
          "data": {
            "image/png": "[encoded data removed]",
            "text/plain": [
              "<Figure size 432x288 with 1 Axes>"
            ]
          },
          "metadata": {
            "tags": [],
            "needs_background": "light"
          }
        }
      ]
    },
    {
      "cell_type": "code",
      "metadata": {
        "id": "540YPRSQLDW7",
        "colab_type": "code",
        "outputId": "98bc08f9-7f5a-4dab-e01f-43ce8a869bf4",
        "colab": {
          "base_uri": "https://localhost:8080/",
          "height": 289
        }
      },
      "source": [
        "df['Married'].value_counts().plot.bar()"
      ],
      "execution_count": 0,
      "outputs": [
        {
          "output_type": "execute_result",
          "data": {
            "text/plain": [
              "<matplotlib.axes._subplots.AxesSubplot at 0x7f1b34383cc0>"
            ]
          },
          "metadata": {
            "tags": []
          },
          "execution_count": 28
        },
        {
          "output_type": "display_data",
          "data": {
            "image/png": "[encoded data removed]",
            "text/plain": [
              "<Figure size 432x288 with 1 Axes>"
            ]
          },
          "metadata": {
            "tags": [],
            "needs_background": "light"
          }
        }
      ]
    },
    {
      "cell_type": "code",
      "metadata": {
        "id": "KsygFOnnLOZm",
        "colab_type": "code",
        "outputId": "e2953cde-aace-429d-f962-5f8fc7c0d66d",
        "colab": {
          "base_uri": "https://localhost:8080/",
          "height": 343
        }
      },
      "source": [
        "df['Education'].value_counts().plot.bar()"
      ],
      "execution_count": 0,
      "outputs": [
        {
          "output_type": "execute_result",
          "data": {
            "text/plain": [
              "<matplotlib.axes._subplots.AxesSubplot at 0x7f1b34216ba8>"
            ]
          },
          "metadata": {
            "tags": []
          },
          "execution_count": 33
        },
        {
          "output_type": "display_data",
          "data": {
            "image/png": "[encoded data removed]",
            "text/plain": [
              "<Figure size 432x288 with 1 Axes>"
            ]
          },
          "metadata": {
            "tags": [],
            "needs_background": "light"
          }
        }
      ]
    },
    {
      "cell_type": "code",
      "metadata": {
        "id": "V4UpYJEgLZC_",
        "colab_type": "code",
        "outputId": "7f1efe60-4558-4f48-fcfb-afeec352a7c6",
        "colab": {
          "base_uri": "https://localhost:8080/",
          "height": 289
        }
      },
      "source": [
        "df['Self_Employed'].value_counts().plot.bar()"
      ],
      "execution_count": 0,
      "outputs": [
        {
          "output_type": "execute_result",
          "data": {
            "text/plain": [
              "<matplotlib.axes._subplots.AxesSubplot at 0x7f1b341d9b00>"
            ]
          },
          "metadata": {
            "tags": []
          },
          "execution_count": 34
        },
        {
          "output_type": "display_data",
          "data": {
            "image/png": "[encoded data removed]",
            "text/plain": [
              "<Figure size 432x288 with 1 Axes>"
            ]
          },
          "metadata": {
            "tags": [],
            "needs_background": "light"
          }
        }
      ]
    },
    {
      "cell_type": "code",
      "metadata": {
        "id": "L_OR6bxMLisj",
        "colab_type": "code",
        "outputId": "50365670-dd41-44e7-cdce-d2bc164d0ea2",
        "colab": {
          "base_uri": "https://localhost:8080/",
          "height": 327
        }
      },
      "source": [
        "df['Property_Area'].value_counts().plot.bar()"
      ],
      "execution_count": 0,
      "outputs": [
        {
          "output_type": "execute_result",
          "data": {
            "text/plain": [
              "<matplotlib.axes._subplots.AxesSubplot at 0x7f1b2d3bcf98>"
            ]
          },
          "metadata": {
            "tags": []
          },
          "execution_count": 109
        },
        {
          "output_type": "display_data",
          "data": {
            "image/png": "[encoded data removed]",
            "text/plain": [
              "<Figure size 432x288 with 1 Axes>"
            ]
          },
          "metadata": {
            "tags": [],
            "needs_background": "light"
          }
        }
      ]
    },
    {
      "cell_type": "code",
      "metadata": {
        "id": "vNYhQ0_4LrWw",
        "colab_type": "code",
        "outputId": "b9bcaf87-3f33-49b8-fe2e-f8f8fbbf03ab",
        "colab": {
          "base_uri": "https://localhost:8080/",
          "height": 281
        }
      },
      "source": [
        "df['Loan_Status'].value_counts().plot.bar()"
      ],
      "execution_count": 0,
      "outputs": [
        {
          "output_type": "execute_result",
          "data": {
            "text/plain": [
              "<matplotlib.axes._subplots.AxesSubplot at 0x7f1b34110208>"
            ]
          },
          "metadata": {
            "tags": []
          },
          "execution_count": 36
        },
        {
          "output_type": "display_data",
          "data": {
            "image/png": "[encoded data removed]",
            "text/plain": [
              "<Figure size 432x288 with 1 Axes>"
            ]
          },
          "metadata": {
            "tags": [],
            "needs_background": "light"
          }
        }
      ]
    },
    {
      "cell_type": "markdown",
      "metadata": {
        "id": "l6aEv2jdPmO1",
        "colab_type": "text"
      },
      "source": [
        "**Problem 4-** Perform Bi-variate Analysis among all Independent variables.Draw appropriate Plots , mention observations"
      ]
    },
    {
      "cell_type": "code",
      "metadata": {
        "id": "a96OPy-WOz0I",
        "colab_type": "code",
        "outputId": "aa954357-8b51-4cf5-cd3b-738f7a34d480",
        "colab": {
          "base_uri": "https://localhost:8080/",
          "height": 297
        }
      },
      "source": [
        "df.plot.scatter(x='ApplicantIncome', y='CoapplicantIncome')"
      ],
      "execution_count": 0,
      "outputs": [
        {
          "output_type": "execute_result",
          "data": {
            "text/plain": [
              "<matplotlib.axes._subplots.AxesSubplot at 0x7f1b34a8a828>"
            ]
          },
          "metadata": {
            "tags": []
          },
          "execution_count": 44
        },
        {
          "output_type": "display_data",
          "data": {
            "image/png": "[encoded data removed]",
            "text/plain": [
              "<Figure size 432x288 with 1 Axes>"
            ]
          },
          "metadata": {
            "tags": [],
            "needs_background": "light"
          }
        }
      ]
    },
    {
      "cell_type": "code",
      "metadata": {
        "id": "nxiXSeXtQZA-",
        "colab_type": "code",
        "outputId": "8bc633a4-36cb-4309-93ef-91616fdbc742",
        "colab": {
          "base_uri": "https://localhost:8080/",
          "height": 298
        }
      },
      "source": [
        "df.plot.scatter(x='Loan_Amount_Term', y='LoanAmount')"
      ],
      "execution_count": 0,
      "outputs": [
        {
          "output_type": "execute_result",
          "data": {
            "text/plain": [
              "<matplotlib.axes._subplots.AxesSubplot at 0x7f1b342b9da0>"
            ]
          },
          "metadata": {
            "tags": []
          },
          "execution_count": 43
        },
        {
          "output_type": "display_data",
          "data": {
            "image/png": "[encoded data removed]",
            "text/plain": [
              "<Figure size 432x288 with 1 Axes>"
            ]
          },
          "metadata": {
            "tags": [],
            "needs_background": "light"
          }
        }
      ]
    },
    {
      "cell_type": "markdown",
      "metadata": {
        "id": "VBGrKiACRidV",
        "colab_type": "text"
      },
      "source": [
        "**Problem 5-** Perform Bi-variate Analysis between Target Variable and each Independent variable. Use suitable plot , mention observations,trends etc"
      ]
    },
    {
      "cell_type": "code",
      "metadata": {
        "id": "CBXHdZ3yRhXo",
        "colab_type": "code",
        "outputId": "c39abfb5-efba-431c-f1b6-71899308d73e",
        "colab": {
          "base_uri": "https://localhost:8080/",
          "height": 298
        }
      },
      "source": [
        "df.plot.scatter(x='Loan_Status', y='ApplicantIncome')"
      ],
      "execution_count": 0,
      "outputs": [
        {
          "output_type": "execute_result",
          "data": {
            "text/plain": [
              "<matplotlib.axes._subplots.AxesSubplot at 0x7f1b31786a20>"
            ]
          },
          "metadata": {
            "tags": []
          },
          "execution_count": 40
        },
        {
          "output_type": "display_data",
          "data": {
            "image/png": "[encoded data removed]",
            "text/plain": [
              "<Figure size 432x288 with 1 Axes>"
            ]
          },
          "metadata": {
            "tags": [],
            "needs_background": "light"
          }
        }
      ]
    },
    {
      "cell_type": "code",
      "metadata": {
        "id": "YbvNpVXFx7eB",
        "colab_type": "code",
        "outputId": "f27d6da5-ce69-44b2-a867-58bc1c5cfd7a",
        "colab": {
          "base_uri": "https://localhost:8080/",
          "height": 298
        }
      },
      "source": [
        "df.plot.scatter(x='Loan_Status', y='CoapplicantIncome')"
      ],
      "execution_count": 0,
      "outputs": [
        {
          "output_type": "execute_result",
          "data": {
            "text/plain": [
              "<matplotlib.axes._subplots.AxesSubplot at 0x7f1b348e82b0>"
            ]
          },
          "metadata": {
            "tags": []
          },
          "execution_count": 42
        },
        {
          "output_type": "display_data",
          "data": {
            "image/png": "[encoded data removed]",
            "text/plain": [
              "<Figure size 432x288 with 1 Axes>"
            ]
          },
          "metadata": {
            "tags": [],
            "needs_background": "light"
          }
        }
      ]
    },
    {
      "cell_type": "code",
      "metadata": {
        "id": "17MjQmwVyLL7",
        "colab_type": "code",
        "outputId": "184b6796-4a05-4f17-90b3-74746310231e",
        "colab": {
          "base_uri": "https://localhost:8080/",
          "height": 298
        }
      },
      "source": [
        "df.plot.scatter(x= 'Loan_Status',y= 'LoanAmount')"
      ],
      "execution_count": 0,
      "outputs": [
        {
          "output_type": "execute_result",
          "data": {
            "text/plain": [
              "<matplotlib.axes._subplots.AxesSubplot at 0x7f1b34ac3f98>"
            ]
          },
          "metadata": {
            "tags": []
          },
          "execution_count": 45
        },
        {
          "output_type": "display_data",
          "data": {
            "image/png": "[encoded data removed]",
            "text/plain": [
              "<Figure size 432x288 with 1 Axes>"
            ]
          },
          "metadata": {
            "tags": [],
            "needs_background": "light"
          }
        }
      ]
    },
    {
      "cell_type": "code",
      "metadata": {
        "id": "qKyhrSL7yowh",
        "colab_type": "code",
        "outputId": "08571646-8e31-4853-8ebe-110952c459d6",
        "colab": {
          "base_uri": "https://localhost:8080/",
          "height": 301
        }
      },
      "source": [
        "df.plot.scatter(x= 'Loan_Status',y= 'Loan_Amount_Term')"
      ],
      "execution_count": 0,
      "outputs": [
        {
          "output_type": "execute_result",
          "data": {
            "text/plain": [
              "<matplotlib.axes._subplots.AxesSubplot at 0x7f1b348cfb00>"
            ]
          },
          "metadata": {
            "tags": []
          },
          "execution_count": 46
        },
        {
          "output_type": "display_data",
          "data": {
            "image/png": "[encoded data removed]",
            "text/plain": [
              "<Figure size 432x288 with 1 Axes>"
            ]
          },
          "metadata": {
            "tags": [],
            "needs_background": "light"
          }
        }
      ]
    },
    {
      "cell_type": "markdown",
      "metadata": {
        "id": "xvyOcG6qgf3L",
        "colab_type": "text"
      },
      "source": [
        "**Problem 6-** How is the class distribution (Y/N) in Label(Target) Variable ?"
      ]
    },
    {
      "cell_type": "code",
      "metadata": {
        "id": "EKQf51WEgZna",
        "colab_type": "code",
        "outputId": "03a1374a-559e-49a5-f697-d1f7d8c6594f",
        "colab": {
          "base_uri": "https://localhost:8080/",
          "height": 159
        }
      },
      "source": [
        "df.groupby('Loan_Status').count()"
      ],
      "execution_count": 0,
      "outputs": [
        {
          "output_type": "execute_result",
          "data": {
            "text/html": [
              "<div>\n",
              "<style scoped>\n",
              "    .dataframe tbody tr th:only-of-type {\n",
              "        vertical-align: middle;\n",
              "    }\n",
              "\n",
              "    .dataframe tbody tr th {\n",
              "        vertical-align: top;\n",
              "    }\n",
              "\n",
              "    .dataframe thead th {\n",
              "        text-align: right;\n",
              "    }\n",
              "</style>\n",
              "<table border=\"1\" class=\"dataframe\">\n",
              "  <thead>\n",
              "    <tr style=\"text-align: right;\">\n",
              "      <th></th>\n",
              "      <th>Loan_ID</th>\n",
              "      <th>Gender</th>\n",
              "      <th>Married</th>\n",
              "      <th>Dependents</th>\n",
              "      <th>Education</th>\n",
              "      <th>Self_Employed</th>\n",
              "      <th>ApplicantIncome</th>\n",
              "      <th>CoapplicantIncome</th>\n",
              "      <th>LoanAmount</th>\n",
              "      <th>Loan_Amount_Term</th>\n",
              "      <th>Credit_History</th>\n",
              "      <th>Property_Area</th>\n",
              "    </tr>\n",
              "    <tr>\n",
              "      <th>Loan_Status</th>\n",
              "      <th></th>\n",
              "      <th></th>\n",
              "      <th></th>\n",
              "      <th></th>\n",
              "      <th></th>\n",
              "      <th></th>\n",
              "      <th></th>\n",
              "      <th></th>\n",
              "      <th></th>\n",
              "      <th></th>\n",
              "      <th></th>\n",
              "      <th></th>\n",
              "    </tr>\n",
              "  </thead>\n",
              "  <tbody>\n",
              "    <tr>\n",
              "      <th>N</th>\n",
              "      <td>192</td>\n",
              "      <td>187</td>\n",
              "      <td>192</td>\n",
              "      <td>186</td>\n",
              "      <td>192</td>\n",
              "      <td>183</td>\n",
              "      <td>192</td>\n",
              "      <td>192</td>\n",
              "      <td>181</td>\n",
              "      <td>186</td>\n",
              "      <td>179</td>\n",
              "      <td>192</td>\n",
              "    </tr>\n",
              "    <tr>\n",
              "      <th>Y</th>\n",
              "      <td>422</td>\n",
              "      <td>414</td>\n",
              "      <td>419</td>\n",
              "      <td>413</td>\n",
              "      <td>422</td>\n",
              "      <td>399</td>\n",
              "      <td>422</td>\n",
              "      <td>422</td>\n",
              "      <td>411</td>\n",
              "      <td>414</td>\n",
              "      <td>385</td>\n",
              "      <td>422</td>\n",
              "    </tr>\n",
              "  </tbody>\n",
              "</table>\n",
              "</div>"
            ],
            "text/plain": [
              "             Loan_ID  Gender  ...  Credit_History  Property_Area\n",
              "Loan_Status                   ...                               \n",
              "N                192     187  ...             179            192\n",
              "Y                422     414  ...             385            422\n",
              "\n",
              "[2 rows x 12 columns]"
            ]
          },
          "metadata": {
            "tags": []
          },
          "execution_count": 47
        }
      ]
    },
    {
      "cell_type": "code",
      "metadata": {
        "id": "jIG_-M3fzRGI",
        "colab_type": "code",
        "outputId": "451bb6a4-42ae-4766-a5fd-c6f0230daa35",
        "colab": {
          "base_uri": "https://localhost:8080/",
          "height": 437
        }
      },
      "source": [
        "df.groupby('Loan_Status').count().plot.box(figsize=[20,8], fontsize=7)"
      ],
      "execution_count": 0,
      "outputs": [
        {
          "output_type": "execute_result",
          "data": {
            "text/plain": [
              "<matplotlib.axes._subplots.AxesSubplot at 0x7f1b2d16b048>"
            ]
          },
          "metadata": {
            "tags": []
          },
          "execution_count": 120
        },
        {
          "output_type": "display_data",
          "data": {
            "image/png": "[encoded data removed]",
            "text/plain": [
              "<Figure size 1440x576 with 1 Axes>"
            ]
          },
          "metadata": {
            "tags": [],
            "needs_background": "light"
          }
        }
      ]
    },
    {
      "cell_type": "code",
      "metadata": {
        "id": "iBgoZbjs3cO4",
        "colab_type": "code",
        "outputId": "5f18219a-7d1d-4c43-fddc-34e1820e2474",
        "colab": {
          "base_uri": "https://localhost:8080/",
          "height": 200
        }
      },
      "source": [
        "corr = df.corr()\n",
        "corr.head()"
      ],
      "execution_count": 0,
      "outputs": [
        {
          "output_type": "execute_result",
          "data": {
            "text/html": [
              "<div>\n",
              "<style scoped>\n",
              "    .dataframe tbody tr th:only-of-type {\n",
              "        vertical-align: middle;\n",
              "    }\n",
              "\n",
              "    .dataframe tbody tr th {\n",
              "        vertical-align: top;\n",
              "    }\n",
              "\n",
              "    .dataframe thead th {\n",
              "        text-align: right;\n",
              "    }\n",
              "</style>\n",
              "<table border=\"1\" class=\"dataframe\">\n",
              "  <thead>\n",
              "    <tr style=\"text-align: right;\">\n",
              "      <th></th>\n",
              "      <th>ApplicantIncome</th>\n",
              "      <th>CoapplicantIncome</th>\n",
              "      <th>LoanAmount</th>\n",
              "      <th>Loan_Amount_Term</th>\n",
              "      <th>Credit_History</th>\n",
              "    </tr>\n",
              "  </thead>\n",
              "  <tbody>\n",
              "    <tr>\n",
              "      <th>ApplicantIncome</th>\n",
              "      <td>1.000000</td>\n",
              "      <td>-0.116605</td>\n",
              "      <td>0.570909</td>\n",
              "      <td>-0.045306</td>\n",
              "      <td>-0.014715</td>\n",
              "    </tr>\n",
              "    <tr>\n",
              "      <th>CoapplicantIncome</th>\n",
              "      <td>-0.116605</td>\n",
              "      <td>1.000000</td>\n",
              "      <td>0.188619</td>\n",
              "      <td>-0.059878</td>\n",
              "      <td>-0.002056</td>\n",
              "    </tr>\n",
              "    <tr>\n",
              "      <th>LoanAmount</th>\n",
              "      <td>0.570909</td>\n",
              "      <td>0.188619</td>\n",
              "      <td>1.000000</td>\n",
              "      <td>0.039447</td>\n",
              "      <td>-0.008433</td>\n",
              "    </tr>\n",
              "    <tr>\n",
              "      <th>Loan_Amount_Term</th>\n",
              "      <td>-0.045306</td>\n",
              "      <td>-0.059878</td>\n",
              "      <td>0.039447</td>\n",
              "      <td>1.000000</td>\n",
              "      <td>0.001470</td>\n",
              "    </tr>\n",
              "    <tr>\n",
              "      <th>Credit_History</th>\n",
              "      <td>-0.014715</td>\n",
              "      <td>-0.002056</td>\n",
              "      <td>-0.008433</td>\n",
              "      <td>0.001470</td>\n",
              "      <td>1.000000</td>\n",
              "    </tr>\n",
              "  </tbody>\n",
              "</table>\n",
              "</div>"
            ],
            "text/plain": [
              "                   ApplicantIncome  ...  Credit_History\n",
              "ApplicantIncome           1.000000  ...       -0.014715\n",
              "CoapplicantIncome        -0.116605  ...       -0.002056\n",
              "LoanAmount                0.570909  ...       -0.008433\n",
              "Loan_Amount_Term         -0.045306  ...        0.001470\n",
              "Credit_History           -0.014715  ...        1.000000\n",
              "\n",
              "[5 rows x 5 columns]"
            ]
          },
          "metadata": {
            "tags": []
          },
          "execution_count": 62
        }
      ]
    },
    {
      "cell_type": "markdown",
      "metadata": {
        "id": "uQAXv0L54uNW",
        "colab_type": "text"
      },
      "source": [
        "**Problem 7-** Identify the Independent Variables that have missing values"
      ]
    },
    {
      "cell_type": "code",
      "metadata": {
        "id": "337roJ_l4sVo",
        "colab_type": "code",
        "outputId": "97e63f3c-7528-4999-a55d-02538f8d6eb8",
        "colab": {
          "base_uri": "https://localhost:8080/",
          "height": 374
        }
      },
      "source": [
        "cols = df.columns[:] \n",
        "colours = ['#800000', '#DCDCDC'] # specify the colours - chartreuse is missing. brown is not missing.\n",
        "sns.heatmap(df[cols].isnull(), cmap=sns.color_palette(colours))"
      ],
      "execution_count": 0,
      "outputs": [
        {
          "output_type": "execute_result",
          "data": {
            "text/plain": [
              "<matplotlib.axes._subplots.AxesSubplot at 0x7f1b2f54ffd0>"
            ]
          },
          "metadata": {
            "tags": []
          },
          "execution_count": 67
        },
        {
          "output_type": "display_data",
          "data": {
            "image/png": "[encoded data removed]",
            "text/plain": [
              "<Figure size 432x288 with 2 Axes>"
            ]
          },
          "metadata": {
            "tags": [],
            "needs_background": "light"
          }
        }
      ]
    },
    {
      "cell_type": "markdown",
      "metadata": {
        "id": "N4yYFyKl6kl7",
        "colab_type": "text"
      },
      "source": [
        "**Problem 8-** Handle missing values appropriately , explain the technique applied for each case"
      ]
    },
    {
      "cell_type": "code",
      "metadata": {
        "id": "kOcW36oL6XIy",
        "colab_type": "code",
        "outputId": "ac157bce-57c0-4503-90c0-4171f0c87815",
        "colab": {
          "base_uri": "https://localhost:8080/",
          "height": 448
        }
      },
      "source": [
        "# Replace values with NaN\n",
        "df.replace('male', np.nan)"
      ],
      "execution_count": 0,
      "outputs": [
        {
          "output_type": "execute_result",
          "data": {
            "text/html": [
              "<div>\n",
              "<style scoped>\n",
              "    .dataframe tbody tr th:only-of-type {\n",
              "        vertical-align: middle;\n",
              "    }\n",
              "\n",
              "    .dataframe tbody tr th {\n",
              "        vertical-align: top;\n",
              "    }\n",
              "\n",
              "    .dataframe thead th {\n",
              "        text-align: right;\n",
              "    }\n",
              "</style>\n",
              "<table border=\"1\" class=\"dataframe\">\n",
              "  <thead>\n",
              "    <tr style=\"text-align: right;\">\n",
              "      <th></th>\n",
              "      <th>Loan_ID</th>\n",
              "      <th>Gender</th>\n",
              "      <th>Married</th>\n",
              "      <th>Dependents</th>\n",
              "      <th>Education</th>\n",
              "      <th>Self_Employed</th>\n",
              "      <th>ApplicantIncome</th>\n",
              "      <th>CoapplicantIncome</th>\n",
              "      <th>LoanAmount</th>\n",
              "      <th>Loan_Amount_Term</th>\n",
              "      <th>Credit_History</th>\n",
              "      <th>Property_Area</th>\n",
              "      <th>Loan_Status</th>\n",
              "    </tr>\n",
              "  </thead>\n",
              "  <tbody>\n",
              "    <tr>\n",
              "      <th>0</th>\n",
              "      <td>LP001002</td>\n",
              "      <td>Male</td>\n",
              "      <td>No</td>\n",
              "      <td>0</td>\n",
              "      <td>Graduate</td>\n",
              "      <td>No</td>\n",
              "      <td>5849</td>\n",
              "      <td>0.0</td>\n",
              "      <td>NaN</td>\n",
              "      <td>360.0</td>\n",
              "      <td>1.0</td>\n",
              "      <td>Urban</td>\n",
              "      <td>Y</td>\n",
              "    </tr>\n",
              "    <tr>\n",
              "      <th>1</th>\n",
              "      <td>LP001003</td>\n",
              "      <td>Male</td>\n",
              "      <td>Yes</td>\n",
              "      <td>1</td>\n",
              "      <td>Graduate</td>\n",
              "      <td>No</td>\n",
              "      <td>4583</td>\n",
              "      <td>1508.0</td>\n",
              "      <td>128.0</td>\n",
              "      <td>360.0</td>\n",
              "      <td>1.0</td>\n",
              "      <td>Rural</td>\n",
              "      <td>N</td>\n",
              "    </tr>\n",
              "    <tr>\n",
              "      <th>2</th>\n",
              "      <td>LP001005</td>\n",
              "      <td>Male</td>\n",
              "      <td>Yes</td>\n",
              "      <td>0</td>\n",
              "      <td>Graduate</td>\n",
              "      <td>Yes</td>\n",
              "      <td>3000</td>\n",
              "      <td>0.0</td>\n",
              "      <td>66.0</td>\n",
              "      <td>360.0</td>\n",
              "      <td>1.0</td>\n",
              "      <td>Urban</td>\n",
              "      <td>Y</td>\n",
              "    </tr>\n",
              "    <tr>\n",
              "      <th>3</th>\n",
              "      <td>LP001006</td>\n",
              "      <td>Male</td>\n",
              "      <td>Yes</td>\n",
              "      <td>0</td>\n",
              "      <td>Not Graduate</td>\n",
              "      <td>No</td>\n",
              "      <td>2583</td>\n",
              "      <td>2358.0</td>\n",
              "      <td>120.0</td>\n",
              "      <td>360.0</td>\n",
              "      <td>1.0</td>\n",
              "      <td>Urban</td>\n",
              "      <td>Y</td>\n",
              "    </tr>\n",
              "    <tr>\n",
              "      <th>4</th>\n",
              "      <td>LP001008</td>\n",
              "      <td>Male</td>\n",
              "      <td>No</td>\n",
              "      <td>0</td>\n",
              "      <td>Graduate</td>\n",
              "      <td>No</td>\n",
              "      <td>6000</td>\n",
              "      <td>0.0</td>\n",
              "      <td>141.0</td>\n",
              "      <td>360.0</td>\n",
              "      <td>1.0</td>\n",
              "      <td>Urban</td>\n",
              "      <td>Y</td>\n",
              "    </tr>\n",
              "    <tr>\n",
              "      <th>...</th>\n",
              "      <td>...</td>\n",
              "      <td>...</td>\n",
              "      <td>...</td>\n",
              "      <td>...</td>\n",
              "      <td>...</td>\n",
              "      <td>...</td>\n",
              "      <td>...</td>\n",
              "      <td>...</td>\n",
              "      <td>...</td>\n",
              "      <td>...</td>\n",
              "      <td>...</td>\n",
              "      <td>...</td>\n",
              "      <td>...</td>\n",
              "    </tr>\n",
              "    <tr>\n",
              "      <th>609</th>\n",
              "      <td>LP002978</td>\n",
              "      <td>Female</td>\n",
              "      <td>No</td>\n",
              "      <td>0</td>\n",
              "      <td>Graduate</td>\n",
              "      <td>No</td>\n",
              "      <td>2900</td>\n",
              "      <td>0.0</td>\n",
              "      <td>71.0</td>\n",
              "      <td>360.0</td>\n",
              "      <td>1.0</td>\n",
              "      <td>Rural</td>\n",
              "      <td>Y</td>\n",
              "    </tr>\n",
              "    <tr>\n",
              "      <th>610</th>\n",
              "      <td>LP002979</td>\n",
              "      <td>Male</td>\n",
              "      <td>Yes</td>\n",
              "      <td>3+</td>\n",
              "      <td>Graduate</td>\n",
              "      <td>No</td>\n",
              "      <td>4106</td>\n",
              "      <td>0.0</td>\n",
              "      <td>40.0</td>\n",
              "      <td>180.0</td>\n",
              "      <td>1.0</td>\n",
              "      <td>Rural</td>\n",
              "      <td>Y</td>\n",
              "    </tr>\n",
              "    <tr>\n",
              "      <th>611</th>\n",
              "      <td>LP002983</td>\n",
              "      <td>Male</td>\n",
              "      <td>Yes</td>\n",
              "      <td>1</td>\n",
              "      <td>Graduate</td>\n",
              "      <td>No</td>\n",
              "      <td>8072</td>\n",
              "      <td>240.0</td>\n",
              "      <td>253.0</td>\n",
              "      <td>360.0</td>\n",
              "      <td>1.0</td>\n",
              "      <td>Urban</td>\n",
              "      <td>Y</td>\n",
              "    </tr>\n",
              "    <tr>\n",
              "      <th>612</th>\n",
              "      <td>LP002984</td>\n",
              "      <td>Male</td>\n",
              "      <td>Yes</td>\n",
              "      <td>2</td>\n",
              "      <td>Graduate</td>\n",
              "      <td>No</td>\n",
              "      <td>7583</td>\n",
              "      <td>0.0</td>\n",
              "      <td>187.0</td>\n",
              "      <td>360.0</td>\n",
              "      <td>1.0</td>\n",
              "      <td>Urban</td>\n",
              "      <td>Y</td>\n",
              "    </tr>\n",
              "    <tr>\n",
              "      <th>613</th>\n",
              "      <td>LP002990</td>\n",
              "      <td>Female</td>\n",
              "      <td>No</td>\n",
              "      <td>0</td>\n",
              "      <td>Graduate</td>\n",
              "      <td>Yes</td>\n",
              "      <td>4583</td>\n",
              "      <td>0.0</td>\n",
              "      <td>133.0</td>\n",
              "      <td>360.0</td>\n",
              "      <td>0.0</td>\n",
              "      <td>Semiurban</td>\n",
              "      <td>N</td>\n",
              "    </tr>\n",
              "  </tbody>\n",
              "</table>\n",
              "<p>614 rows × 13 columns</p>\n",
              "</div>"
            ],
            "text/plain": [
              "      Loan_ID  Gender Married  ... Credit_History Property_Area Loan_Status\n",
              "0    LP001002    Male      No  ...            1.0         Urban           Y\n",
              "1    LP001003    Male     Yes  ...            1.0         Rural           N\n",
              "2    LP001005    Male     Yes  ...            1.0         Urban           Y\n",
              "3    LP001006    Male     Yes  ...            1.0         Urban           Y\n",
              "4    LP001008    Male      No  ...            1.0         Urban           Y\n",
              "..        ...     ...     ...  ...            ...           ...         ...\n",
              "609  LP002978  Female      No  ...            1.0         Rural           Y\n",
              "610  LP002979    Male     Yes  ...            1.0         Rural           Y\n",
              "611  LP002983    Male     Yes  ...            1.0         Urban           Y\n",
              "612  LP002984    Male     Yes  ...            1.0         Urban           Y\n",
              "613  LP002990  Female      No  ...            0.0     Semiurban           N\n",
              "\n",
              "[614 rows x 13 columns]"
            ]
          },
          "metadata": {
            "tags": []
          },
          "execution_count": 68
        }
      ]
    },
    {
      "cell_type": "code",
      "metadata": {
        "id": "PLgT5F2Z7A8T",
        "colab_type": "code",
        "outputId": "437c4a3d-57cd-432b-96c6-3f31dd047ee1",
        "colab": {
          "base_uri": "https://localhost:8080/",
          "height": 266
        }
      },
      "source": [
        "# Replace values with NaN\n",
        "df['Gender'].replace('male', np.nan)\n",
        "df.isnull().sum()"
      ],
      "execution_count": 0,
      "outputs": [
        {
          "output_type": "execute_result",
          "data": {
            "text/plain": [
              "Loan_ID               0\n",
              "Gender               13\n",
              "Married               3\n",
              "Dependents           15\n",
              "Education             0\n",
              "Self_Employed        32\n",
              "ApplicantIncome       0\n",
              "CoapplicantIncome     0\n",
              "LoanAmount           22\n",
              "Loan_Amount_Term     14\n",
              "Credit_History       50\n",
              "Property_Area         0\n",
              "Loan_Status           0\n",
              "dtype: int64"
            ]
          },
          "metadata": {
            "tags": []
          },
          "execution_count": 69
        }
      ]
    },
    {
      "cell_type": "code",
      "metadata": {
        "id": "YkzQGjENRyvd",
        "colab_type": "code",
        "outputId": "111cb6cd-6653-482b-aa3a-ee5aaf5804d7",
        "colab": {
          "base_uri": "https://localhost:8080/",
          "height": 420
        }
      },
      "source": [
        "#Missing data Histogram\n",
        "# first create missing indicator for features with missing data\n",
        "for col in df.columns:\n",
        "    missing = df[col].isnull()\n",
        "    num_missing = np.sum(missing)\n",
        "    \n",
        "    if num_missing > 0:  \n",
        "        print('created missing indicator for: {}'.format(col))\n",
        "        df['{}_ismissing'.format(col)] = missing\n",
        "\n",
        "\n",
        "# then based on the indicator, plot the histogram of missing values\n",
        "ismissing_cols = [col for col in df.columns if 'ismissing' in col]\n",
        "df['num_missing'] = df[ismissing_cols].sum(axis=1)\n",
        "\n",
        "df['num_missing'].value_counts().reset_index().sort_values(by='index').plot.bar(x='index', y='num_missing')"
      ],
      "execution_count": 0,
      "outputs": [
        {
          "output_type": "stream",
          "text": [
            "created missing indicator for: Gender\n",
            "created missing indicator for: Married\n",
            "created missing indicator for: Dependents\n",
            "created missing indicator for: Self_Employed\n",
            "created missing indicator for: LoanAmount\n",
            "created missing indicator for: Loan_Amount_Term\n",
            "created missing indicator for: Credit_History\n"
          ],
          "name": "stdout"
        },
        {
          "output_type": "execute_result",
          "data": {
            "text/plain": [
              "<matplotlib.axes._subplots.AxesSubplot at 0x7f1b314a5390>"
            ]
          },
          "metadata": {
            "tags": []
          },
          "execution_count": 70
        },
        {
          "output_type": "display_data",
          "data": {
            "image/png": "[encoded data removed]",
            "text/plain": [
              "<Figure size 432x288 with 1 Axes>"
            ]
          },
          "metadata": {
            "tags": [],
            "needs_background": "light"
          }
        }
      ]
    },
    {
      "cell_type": "code",
      "metadata": {
        "id": "E6zHUpG4csg8",
        "colab_type": "code",
        "outputId": "96ef27c5-0d4f-465d-ee24-4a107675081e",
        "colab": {
          "base_uri": "https://localhost:8080/",
          "height": 1000
        }
      },
      "source": [
        "#Impute the observation\n",
        "# replace missing values with the median.\n",
        "print(\"values before imputing\")\n",
        "for j in df['LoanAmount']:\n",
        "    print(j)\n",
        "med = df['LoanAmount'].median()\n",
        "print(\"Median\")\n",
        "print(med)\n",
        "df['LoanAmount'] = df['LoanAmount'].fillna(med)\n",
        "print(\"values after imputing\")\n",
        "for k in df['LoanAmount']:\n",
        "    print(k)"
      ],
      "execution_count": 0,
      "outputs": [
        {
          "output_type": "stream",
          "text": [
            "values before imputing\n",
            "128.0\n",
            "128.0\n",
            "66.0\n",
            "120.0\n",
            "141.0\n",
            "267.0\n",
            "95.0\n",
            "158.0\n",
            "168.0\n",
            "349.0\n",
            "70.0\n",
            "109.0\n",
            "200.0\n",
            "114.0\n",
            "17.0\n",
            "125.0\n",
            "100.0\n",
            "76.0\n",
            "133.0\n",
            "115.0\n",
            "104.0\n",
            "315.0\n",
            "116.0\n",
            "112.0\n",
            "151.0\n",
            "191.0\n",
            "122.0\n",
            "110.0\n",
            "35.0\n",
            "120.0\n",
            "201.0\n",
            "74.0\n",
            "106.0\n",
            "114.0\n",
            "320.0\n",
            "128.0\n",
            "100.0\n",
            "144.0\n",
            "184.0\n",
            "110.0\n",
            "80.0\n",
            "47.0\n",
            "75.0\n",
            "134.0\n",
            "96.0\n",
            "88.0\n",
            "44.0\n",
            "144.0\n",
            "120.0\n",
            "144.0\n",
            "100.0\n",
            "120.0\n",
            "112.0\n",
            "134.0\n",
            "286.0\n",
            "97.0\n",
            "96.0\n",
            "135.0\n",
            "180.0\n",
            "144.0\n",
            "120.0\n",
            "99.0\n",
            "165.0\n",
            "128.0\n",
            "116.0\n",
            "258.0\n",
            "126.0\n",
            "312.0\n",
            "125.0\n",
            "136.0\n",
            "172.0\n",
            "97.0\n",
            "81.0\n",
            "95.0\n",
            "187.0\n",
            "113.0\n",
            "176.0\n",
            "110.0\n",
            "180.0\n",
            "130.0\n",
            "111.0\n",
            "128.0\n",
            "167.0\n",
            "265.0\n",
            "50.0\n",
            "136.0\n",
            "99.0\n",
            "104.0\n",
            "210.0\n",
            "175.0\n",
            "131.0\n",
            "188.0\n",
            "81.0\n",
            "122.0\n",
            "25.0\n",
            "128.0\n",
            "137.0\n",
            "50.0\n",
            "115.0\n",
            "131.0\n",
            "133.0\n",
            "151.0\n",
            "128.0\n",
            "128.0\n",
            "160.0\n",
            "100.0\n",
            "225.0\n",
            "120.0\n",
            "216.0\n",
            "94.0\n",
            "136.0\n",
            "139.0\n",
            "152.0\n",
            "128.0\n",
            "118.0\n",
            "185.0\n",
            "154.0\n",
            "85.0\n",
            "175.0\n",
            "259.0\n",
            "180.0\n",
            "44.0\n",
            "137.0\n",
            "81.0\n",
            "194.0\n",
            "93.0\n",
            "370.0\n",
            "128.0\n",
            "160.0\n",
            "182.0\n",
            "650.0\n",
            "74.0\n",
            "70.0\n",
            "25.0\n",
            "102.0\n",
            "290.0\n",
            "84.0\n",
            "88.0\n",
            "242.0\n",
            "129.0\n",
            "185.0\n",
            "168.0\n",
            "175.0\n",
            "122.0\n",
            "187.0\n",
            "100.0\n",
            "70.0\n",
            "30.0\n",
            "225.0\n",
            "125.0\n",
            "118.0\n",
            "152.0\n",
            "244.0\n",
            "113.0\n",
            "50.0\n",
            "600.0\n",
            "160.0\n",
            "187.0\n",
            "120.0\n",
            "255.0\n",
            "98.0\n",
            "275.0\n",
            "121.0\n",
            "158.0\n",
            "75.0\n",
            "182.0\n",
            "112.0\n",
            "129.0\n",
            "63.0\n",
            "200.0\n",
            "95.0\n",
            "700.0\n",
            "81.0\n",
            "187.0\n",
            "87.0\n",
            "116.0\n",
            "101.0\n",
            "495.0\n",
            "116.0\n",
            "102.0\n",
            "180.0\n",
            "67.0\n",
            "73.0\n",
            "260.0\n",
            "108.0\n",
            "120.0\n",
            "66.0\n",
            "58.0\n",
            "168.0\n",
            "188.0\n",
            "48.0\n",
            "164.0\n",
            "160.0\n",
            "76.0\n",
            "120.0\n",
            "170.0\n",
            "187.0\n",
            "120.0\n",
            "113.0\n",
            "83.0\n",
            "90.0\n",
            "166.0\n",
            "128.0\n",
            "135.0\n",
            "124.0\n",
            "120.0\n",
            "80.0\n",
            "55.0\n",
            "59.0\n",
            "127.0\n",
            "214.0\n",
            "128.0\n",
            "240.0\n",
            "130.0\n",
            "137.0\n",
            "100.0\n",
            "135.0\n",
            "131.0\n",
            "72.0\n",
            "127.0\n",
            "60.0\n",
            "116.0\n",
            "144.0\n",
            "175.0\n",
            "128.0\n",
            "170.0\n",
            "138.0\n",
            "210.0\n",
            "158.0\n",
            "200.0\n",
            "104.0\n",
            "42.0\n",
            "120.0\n",
            "280.0\n",
            "140.0\n",
            "170.0\n",
            "255.0\n",
            "122.0\n",
            "112.0\n",
            "96.0\n",
            "120.0\n",
            "140.0\n",
            "155.0\n",
            "108.0\n",
            "123.0\n",
            "120.0\n",
            "112.0\n",
            "137.0\n",
            "123.0\n",
            "90.0\n",
            "201.0\n",
            "138.0\n",
            "104.0\n",
            "279.0\n",
            "192.0\n",
            "255.0\n",
            "115.0\n",
            "94.0\n",
            "304.0\n",
            "128.0\n",
            "330.0\n",
            "134.0\n",
            "155.0\n",
            "120.0\n",
            "128.0\n",
            "151.0\n",
            "150.0\n",
            "160.0\n",
            "135.0\n",
            "90.0\n",
            "30.0\n",
            "136.0\n",
            "126.0\n",
            "150.0\n",
            "90.0\n",
            "115.0\n",
            "207.0\n",
            "80.0\n",
            "436.0\n",
            "124.0\n",
            "158.0\n",
            "112.0\n",
            "78.0\n",
            "54.0\n",
            "128.0\n",
            "89.0\n",
            "99.0\n",
            "120.0\n",
            "115.0\n",
            "187.0\n",
            "139.0\n",
            "127.0\n",
            "134.0\n",
            "143.0\n",
            "172.0\n",
            "110.0\n",
            "200.0\n",
            "135.0\n",
            "151.0\n",
            "113.0\n",
            "93.0\n",
            "105.0\n",
            "132.0\n",
            "96.0\n",
            "140.0\n",
            "128.0\n",
            "135.0\n",
            "104.0\n",
            "480.0\n",
            "185.0\n",
            "84.0\n",
            "111.0\n",
            "56.0\n",
            "144.0\n",
            "159.0\n",
            "111.0\n",
            "120.0\n",
            "88.0\n",
            "112.0\n",
            "155.0\n",
            "115.0\n",
            "124.0\n",
            "128.0\n",
            "132.0\n",
            "300.0\n",
            "376.0\n",
            "130.0\n",
            "184.0\n",
            "110.0\n",
            "67.0\n",
            "117.0\n",
            "98.0\n",
            "71.0\n",
            "490.0\n",
            "182.0\n",
            "70.0\n",
            "160.0\n",
            "176.0\n",
            "128.0\n",
            "71.0\n",
            "173.0\n",
            "46.0\n",
            "158.0\n",
            "74.0\n",
            "125.0\n",
            "160.0\n",
            "152.0\n",
            "126.0\n",
            "259.0\n",
            "187.0\n",
            "228.0\n",
            "308.0\n",
            "95.0\n",
            "105.0\n",
            "130.0\n",
            "116.0\n",
            "165.0\n",
            "67.0\n",
            "100.0\n",
            "200.0\n",
            "81.0\n",
            "236.0\n",
            "130.0\n",
            "95.0\n",
            "141.0\n",
            "133.0\n",
            "96.0\n",
            "124.0\n",
            "175.0\n",
            "570.0\n",
            "55.0\n",
            "155.0\n",
            "380.0\n",
            "111.0\n",
            "110.0\n",
            "120.0\n",
            "130.0\n",
            "130.0\n",
            "71.0\n",
            "130.0\n",
            "128.0\n",
            "296.0\n",
            "156.0\n",
            "128.0\n",
            "100.0\n",
            "113.0\n",
            "132.0\n",
            "128.0\n",
            "136.0\n",
            "125.0\n",
            "185.0\n",
            "275.0\n",
            "120.0\n",
            "113.0\n",
            "113.0\n",
            "135.0\n",
            "71.0\n",
            "95.0\n",
            "109.0\n",
            "103.0\n",
            "45.0\n",
            "65.0\n",
            "103.0\n",
            "53.0\n",
            "194.0\n",
            "115.0\n",
            "115.0\n",
            "66.0\n",
            "152.0\n",
            "360.0\n",
            "62.0\n",
            "160.0\n",
            "218.0\n",
            "110.0\n",
            "178.0\n",
            "60.0\n",
            "160.0\n",
            "239.0\n",
            "112.0\n",
            "138.0\n",
            "138.0\n",
            "80.0\n",
            "100.0\n",
            "110.0\n",
            "96.0\n",
            "121.0\n",
            "81.0\n",
            "133.0\n",
            "87.0\n",
            "60.0\n",
            "150.0\n",
            "105.0\n",
            "405.0\n",
            "143.0\n",
            "100.0\n",
            "128.0\n",
            "50.0\n",
            "128.0\n",
            "187.0\n",
            "138.0\n",
            "187.0\n",
            "180.0\n",
            "148.0\n",
            "152.0\n",
            "175.0\n",
            "130.0\n",
            "110.0\n",
            "55.0\n",
            "150.0\n",
            "190.0\n",
            "125.0\n",
            "60.0\n",
            "149.0\n",
            "90.0\n",
            "84.0\n",
            "96.0\n",
            "118.0\n",
            "173.0\n",
            "136.0\n",
            "160.0\n",
            "160.0\n",
            "128.0\n",
            "153.0\n",
            "132.0\n",
            "98.0\n",
            "140.0\n",
            "70.0\n",
            "110.0\n",
            "98.0\n",
            "110.0\n",
            "162.0\n",
            "113.0\n",
            "100.0\n",
            "93.0\n",
            "162.0\n",
            "150.0\n",
            "230.0\n",
            "132.0\n",
            "86.0\n",
            "128.0\n",
            "154.0\n",
            "113.0\n",
            "128.0\n",
            "234.0\n",
            "246.0\n",
            "131.0\n",
            "80.0\n",
            "500.0\n",
            "160.0\n",
            "75.0\n",
            "96.0\n",
            "186.0\n",
            "110.0\n",
            "225.0\n",
            "119.0\n",
            "105.0\n",
            "107.0\n",
            "111.0\n",
            "95.0\n",
            "209.0\n",
            "113.0\n",
            "100.0\n",
            "208.0\n",
            "138.0\n",
            "124.0\n",
            "243.0\n",
            "480.0\n",
            "96.0\n",
            "188.0\n",
            "40.0\n",
            "100.0\n",
            "250.0\n",
            "148.0\n",
            "70.0\n",
            "311.0\n",
            "150.0\n",
            "113.0\n",
            "123.0\n",
            "185.0\n",
            "95.0\n",
            "45.0\n",
            "55.0\n",
            "100.0\n",
            "480.0\n",
            "128.0\n",
            "400.0\n",
            "110.0\n",
            "161.0\n",
            "94.0\n",
            "130.0\n",
            "216.0\n",
            "100.0\n",
            "110.0\n",
            "196.0\n",
            "125.0\n",
            "126.0\n",
            "324.0\n",
            "107.0\n",
            "66.0\n",
            "157.0\n",
            "140.0\n",
            "99.0\n",
            "95.0\n",
            "128.0\n",
            "102.0\n",
            "155.0\n",
            "80.0\n",
            "145.0\n",
            "103.0\n",
            "110.0\n",
            "128.0\n",
            "128.0\n",
            "158.0\n",
            "181.0\n",
            "132.0\n",
            "26.0\n",
            "84.0\n",
            "260.0\n",
            "162.0\n",
            "182.0\n",
            "108.0\n",
            "600.0\n",
            "211.0\n",
            "132.0\n",
            "258.0\n",
            "120.0\n",
            "70.0\n",
            "123.0\n",
            "9.0\n",
            "104.0\n",
            "186.0\n",
            "165.0\n",
            "275.0\n",
            "187.0\n",
            "150.0\n",
            "108.0\n",
            "136.0\n",
            "110.0\n",
            "107.0\n",
            "161.0\n",
            "205.0\n",
            "90.0\n",
            "36.0\n",
            "61.0\n",
            "146.0\n",
            "172.0\n",
            "104.0\n",
            "70.0\n",
            "94.0\n",
            "106.0\n",
            "56.0\n",
            "205.0\n",
            "292.0\n",
            "142.0\n",
            "260.0\n",
            "110.0\n",
            "187.0\n",
            "88.0\n",
            "180.0\n",
            "192.0\n",
            "350.0\n",
            "155.0\n",
            "128.0\n",
            "172.0\n",
            "496.0\n",
            "128.0\n",
            "173.0\n",
            "157.0\n",
            "108.0\n",
            "71.0\n",
            "40.0\n",
            "253.0\n",
            "187.0\n",
            "133.0\n",
            "Median\n",
            "128.0\n",
            "values after imputing\n",
            "128.0\n",
            "128.0\n",
            "66.0\n",
            "120.0\n",
            "141.0\n",
            "267.0\n",
            "95.0\n",
            "158.0\n",
            "168.0\n",
            "349.0\n",
            "70.0\n",
            "109.0\n",
            "200.0\n",
            "114.0\n",
            "17.0\n",
            "125.0\n",
            "100.0\n",
            "76.0\n",
            "133.0\n",
            "115.0\n",
            "104.0\n",
            "315.0\n",
            "116.0\n",
            "112.0\n",
            "151.0\n",
            "191.0\n",
            "122.0\n",
            "110.0\n",
            "35.0\n",
            "120.0\n",
            "201.0\n",
            "74.0\n",
            "106.0\n",
            "114.0\n",
            "320.0\n",
            "128.0\n",
            "100.0\n",
            "144.0\n",
            "184.0\n",
            "110.0\n",
            "80.0\n",
            "47.0\n",
            "75.0\n",
            "134.0\n",
            "96.0\n",
            "88.0\n",
            "44.0\n",
            "144.0\n",
            "120.0\n",
            "144.0\n",
            "100.0\n",
            "120.0\n",
            "112.0\n",
            "134.0\n",
            "286.0\n",
            "97.0\n",
            "96.0\n",
            "135.0\n",
            "180.0\n",
            "144.0\n",
            "120.0\n",
            "99.0\n",
            "165.0\n",
            "128.0\n",
            "116.0\n",
            "258.0\n",
            "126.0\n",
            "312.0\n",
            "125.0\n",
            "136.0\n",
            "172.0\n",
            "97.0\n",
            "81.0\n",
            "95.0\n",
            "187.0\n",
            "113.0\n",
            "176.0\n",
            "110.0\n",
            "180.0\n",
            "130.0\n",
            "111.0\n",
            "128.0\n",
            "167.0\n",
            "265.0\n",
            "50.0\n",
            "136.0\n",
            "99.0\n",
            "104.0\n",
            "210.0\n",
            "175.0\n",
            "131.0\n",
            "188.0\n",
            "81.0\n",
            "122.0\n",
            "25.0\n",
            "128.0\n",
            "137.0\n",
            "50.0\n",
            "115.0\n",
            "131.0\n",
            "133.0\n",
            "151.0\n",
            "128.0\n",
            "128.0\n",
            "160.0\n",
            "100.0\n",
            "225.0\n",
            "120.0\n",
            "216.0\n",
            "94.0\n",
            "136.0\n",
            "139.0\n",
            "152.0\n",
            "128.0\n",
            "118.0\n",
            "185.0\n",
            "154.0\n",
            "85.0\n",
            "175.0\n",
            "259.0\n",
            "180.0\n",
            "44.0\n",
            "137.0\n",
            "81.0\n",
            "194.0\n",
            "93.0\n",
            "370.0\n",
            "128.0\n",
            "160.0\n",
            "182.0\n",
            "650.0\n",
            "74.0\n",
            "70.0\n",
            "25.0\n",
            "102.0\n",
            "290.0\n",
            "84.0\n",
            "88.0\n",
            "242.0\n",
            "129.0\n",
            "185.0\n",
            "168.0\n",
            "175.0\n",
            "122.0\n",
            "187.0\n",
            "100.0\n",
            "70.0\n",
            "30.0\n",
            "225.0\n",
            "125.0\n",
            "118.0\n",
            "152.0\n",
            "244.0\n",
            "113.0\n",
            "50.0\n",
            "600.0\n",
            "160.0\n",
            "187.0\n",
            "120.0\n",
            "255.0\n",
            "98.0\n",
            "275.0\n",
            "121.0\n",
            "158.0\n",
            "75.0\n",
            "182.0\n",
            "112.0\n",
            "129.0\n",
            "63.0\n",
            "200.0\n",
            "95.0\n",
            "700.0\n",
            "81.0\n",
            "187.0\n",
            "87.0\n",
            "116.0\n",
            "101.0\n",
            "495.0\n",
            "116.0\n",
            "102.0\n",
            "180.0\n",
            "67.0\n",
            "73.0\n",
            "260.0\n",
            "108.0\n",
            "120.0\n",
            "66.0\n",
            "58.0\n",
            "168.0\n",
            "188.0\n",
            "48.0\n",
            "164.0\n",
            "160.0\n",
            "76.0\n",
            "120.0\n",
            "170.0\n",
            "187.0\n",
            "120.0\n",
            "113.0\n",
            "83.0\n",
            "90.0\n",
            "166.0\n",
            "128.0\n",
            "135.0\n",
            "124.0\n",
            "120.0\n",
            "80.0\n",
            "55.0\n",
            "59.0\n",
            "127.0\n",
            "214.0\n",
            "128.0\n",
            "240.0\n",
            "130.0\n",
            "137.0\n",
            "100.0\n",
            "135.0\n",
            "131.0\n",
            "72.0\n",
            "127.0\n",
            "60.0\n",
            "116.0\n",
            "144.0\n",
            "175.0\n",
            "128.0\n",
            "170.0\n",
            "138.0\n",
            "210.0\n",
            "158.0\n",
            "200.0\n",
            "104.0\n",
            "42.0\n",
            "120.0\n",
            "280.0\n",
            "140.0\n",
            "170.0\n",
            "255.0\n",
            "122.0\n",
            "112.0\n",
            "96.0\n",
            "120.0\n",
            "140.0\n",
            "155.0\n",
            "108.0\n",
            "123.0\n",
            "120.0\n",
            "112.0\n",
            "137.0\n",
            "123.0\n",
            "90.0\n",
            "201.0\n",
            "138.0\n",
            "104.0\n",
            "279.0\n",
            "192.0\n",
            "255.0\n",
            "115.0\n",
            "94.0\n",
            "304.0\n",
            "128.0\n",
            "330.0\n",
            "134.0\n",
            "155.0\n",
            "120.0\n",
            "128.0\n",
            "151.0\n",
            "150.0\n",
            "160.0\n",
            "135.0\n",
            "90.0\n",
            "30.0\n",
            "136.0\n",
            "126.0\n",
            "150.0\n",
            "90.0\n",
            "115.0\n",
            "207.0\n",
            "80.0\n",
            "436.0\n",
            "124.0\n",
            "158.0\n",
            "112.0\n",
            "78.0\n",
            "54.0\n",
            "128.0\n",
            "89.0\n",
            "99.0\n",
            "120.0\n",
            "115.0\n",
            "187.0\n",
            "139.0\n",
            "127.0\n",
            "134.0\n",
            "143.0\n",
            "172.0\n",
            "110.0\n",
            "200.0\n",
            "135.0\n",
            "151.0\n",
            "113.0\n",
            "93.0\n",
            "105.0\n",
            "132.0\n",
            "96.0\n",
            "140.0\n",
            "128.0\n",
            "135.0\n",
            "104.0\n",
            "480.0\n",
            "185.0\n",
            "84.0\n",
            "111.0\n",
            "56.0\n",
            "144.0\n",
            "159.0\n",
            "111.0\n",
            "120.0\n",
            "88.0\n",
            "112.0\n",
            "155.0\n",
            "115.0\n",
            "124.0\n",
            "128.0\n",
            "132.0\n",
            "300.0\n",
            "376.0\n",
            "130.0\n",
            "184.0\n",
            "110.0\n",
            "67.0\n",
            "117.0\n",
            "98.0\n",
            "71.0\n",
            "490.0\n",
            "182.0\n",
            "70.0\n",
            "160.0\n",
            "176.0\n",
            "128.0\n",
            "71.0\n",
            "173.0\n",
            "46.0\n",
            "158.0\n",
            "74.0\n",
            "125.0\n",
            "160.0\n",
            "152.0\n",
            "126.0\n",
            "259.0\n",
            "187.0\n",
            "228.0\n",
            "308.0\n",
            "95.0\n",
            "105.0\n",
            "130.0\n",
            "116.0\n",
            "165.0\n",
            "67.0\n",
            "100.0\n",
            "200.0\n",
            "81.0\n",
            "236.0\n",
            "130.0\n",
            "95.0\n",
            "141.0\n",
            "133.0\n",
            "96.0\n",
            "124.0\n",
            "175.0\n",
            "570.0\n",
            "55.0\n",
            "155.0\n",
            "380.0\n",
            "111.0\n",
            "110.0\n",
            "120.0\n",
            "130.0\n",
            "130.0\n",
            "71.0\n",
            "130.0\n",
            "128.0\n",
            "296.0\n",
            "156.0\n",
            "128.0\n",
            "100.0\n",
            "113.0\n",
            "132.0\n",
            "128.0\n",
            "136.0\n",
            "125.0\n",
            "185.0\n",
            "275.0\n",
            "120.0\n",
            "113.0\n",
            "113.0\n",
            "135.0\n",
            "71.0\n",
            "95.0\n",
            "109.0\n",
            "103.0\n",
            "45.0\n",
            "65.0\n",
            "103.0\n",
            "53.0\n",
            "194.0\n",
            "115.0\n",
            "115.0\n",
            "66.0\n",
            "152.0\n",
            "360.0\n",
            "62.0\n",
            "160.0\n",
            "218.0\n",
            "110.0\n",
            "178.0\n",
            "60.0\n",
            "160.0\n",
            "239.0\n",
            "112.0\n",
            "138.0\n",
            "138.0\n",
            "80.0\n",
            "100.0\n",
            "110.0\n",
            "96.0\n",
            "121.0\n",
            "81.0\n",
            "133.0\n",
            "87.0\n",
            "60.0\n",
            "150.0\n",
            "105.0\n",
            "405.0\n",
            "143.0\n",
            "100.0\n",
            "128.0\n",
            "50.0\n",
            "128.0\n",
            "187.0\n",
            "138.0\n",
            "187.0\n",
            "180.0\n",
            "148.0\n",
            "152.0\n",
            "175.0\n",
            "130.0\n",
            "110.0\n",
            "55.0\n",
            "150.0\n",
            "190.0\n",
            "125.0\n",
            "60.0\n",
            "149.0\n",
            "90.0\n",
            "84.0\n",
            "96.0\n",
            "118.0\n",
            "173.0\n",
            "136.0\n",
            "160.0\n",
            "160.0\n",
            "128.0\n",
            "153.0\n",
            "132.0\n",
            "98.0\n",
            "140.0\n",
            "70.0\n",
            "110.0\n",
            "98.0\n",
            "110.0\n",
            "162.0\n",
            "113.0\n",
            "100.0\n",
            "93.0\n",
            "162.0\n",
            "150.0\n",
            "230.0\n",
            "132.0\n",
            "86.0\n",
            "128.0\n",
            "154.0\n",
            "113.0\n",
            "128.0\n",
            "234.0\n",
            "246.0\n",
            "131.0\n",
            "80.0\n",
            "500.0\n",
            "160.0\n",
            "75.0\n",
            "96.0\n",
            "186.0\n",
            "110.0\n",
            "225.0\n",
            "119.0\n",
            "105.0\n",
            "107.0\n",
            "111.0\n",
            "95.0\n",
            "209.0\n",
            "113.0\n",
            "100.0\n",
            "208.0\n",
            "138.0\n",
            "124.0\n",
            "243.0\n",
            "480.0\n",
            "96.0\n",
            "188.0\n",
            "40.0\n",
            "100.0\n",
            "250.0\n",
            "148.0\n",
            "70.0\n",
            "311.0\n",
            "150.0\n",
            "113.0\n",
            "123.0\n",
            "185.0\n",
            "95.0\n",
            "45.0\n",
            "55.0\n",
            "100.0\n",
            "480.0\n",
            "128.0\n",
            "400.0\n",
            "110.0\n",
            "161.0\n",
            "94.0\n",
            "130.0\n",
            "216.0\n",
            "100.0\n",
            "110.0\n",
            "196.0\n",
            "125.0\n",
            "126.0\n",
            "324.0\n",
            "107.0\n",
            "66.0\n",
            "157.0\n",
            "140.0\n",
            "99.0\n",
            "95.0\n",
            "128.0\n",
            "102.0\n",
            "155.0\n",
            "80.0\n",
            "145.0\n",
            "103.0\n",
            "110.0\n",
            "128.0\n",
            "128.0\n",
            "158.0\n",
            "181.0\n",
            "132.0\n",
            "26.0\n",
            "84.0\n",
            "260.0\n",
            "162.0\n",
            "182.0\n",
            "108.0\n",
            "600.0\n",
            "211.0\n",
            "132.0\n",
            "258.0\n",
            "120.0\n",
            "70.0\n",
            "123.0\n",
            "9.0\n",
            "104.0\n",
            "186.0\n",
            "165.0\n",
            "275.0\n",
            "187.0\n",
            "150.0\n",
            "108.0\n",
            "136.0\n",
            "110.0\n",
            "107.0\n",
            "161.0\n",
            "205.0\n",
            "90.0\n",
            "36.0\n",
            "61.0\n",
            "146.0\n",
            "172.0\n",
            "104.0\n",
            "70.0\n",
            "94.0\n",
            "106.0\n",
            "56.0\n",
            "205.0\n",
            "292.0\n",
            "142.0\n",
            "260.0\n",
            "110.0\n",
            "187.0\n",
            "88.0\n",
            "180.0\n",
            "192.0\n",
            "350.0\n",
            "155.0\n",
            "128.0\n",
            "172.0\n",
            "496.0\n",
            "128.0\n",
            "173.0\n",
            "157.0\n",
            "108.0\n",
            "71.0\n",
            "40.0\n",
            "253.0\n",
            "187.0\n",
            "133.0\n"
          ],
          "name": "stdout"
        }
      ]
    },
    {
      "cell_type": "markdown",
      "metadata": {
        "id": "4AO6soZtvnTS",
        "colab_type": "text"
      },
      "source": [
        "**Problem 9-** Identify the Outliers in each Independent Variable.Distribute the data in each field using Quartile bins (0-25%,25%-50%,50%-75%,75%-100% iles)\n"
      ]
    },
    {
      "cell_type": "code",
      "metadata": {
        "id": "70DJoxKAvmeN",
        "colab_type": "code",
        "outputId": "13cdf0c1-0577-48c3-e3e7-45777154530b",
        "colab": {
          "base_uri": "https://localhost:8080/",
          "height": 316
        }
      },
      "source": [
        "df.hist('ApplicantIncome', bins=100)"
      ],
      "execution_count": 0,
      "outputs": [
        {
          "output_type": "execute_result",
          "data": {
            "text/plain": [
              "array([[<matplotlib.axes._subplots.AxesSubplot object at 0x7f1b2f315208>]],\n",
              "      dtype=object)"
            ]
          },
          "metadata": {
            "tags": []
          },
          "execution_count": 73
        },
        {
          "output_type": "display_data",
          "data": {
            "image/png": "[encoded data removed]",
            "text/plain": [
              "<Figure size 432x288 with 1 Axes>"
            ]
          },
          "metadata": {
            "tags": [],
            "needs_background": "light"
          }
        }
      ]
    },
    {
      "cell_type": "code",
      "metadata": {
        "id": "nN25A5XEv0eg",
        "colab_type": "code",
        "outputId": "45d75686-aee2-40f2-f63e-25dff8e38c59",
        "colab": {
          "base_uri": "https://localhost:8080/",
          "height": 177
        }
      },
      "source": [
        "df['ApplicantIncome'].describe()\n"
      ],
      "execution_count": 0,
      "outputs": [
        {
          "output_type": "execute_result",
          "data": {
            "text/plain": [
              "count      614.000000\n",
              "mean      5403.459283\n",
              "std       6109.041673\n",
              "min        150.000000\n",
              "25%       2877.500000\n",
              "50%       3812.500000\n",
              "75%       5795.000000\n",
              "max      81000.000000\n",
              "Name: ApplicantIncome, dtype: float64"
            ]
          },
          "metadata": {
            "tags": []
          },
          "execution_count": 74
        }
      ]
    },
    {
      "cell_type": "code",
      "metadata": {
        "id": "VDlaXXERv-fF",
        "colab_type": "code",
        "outputId": "d7dd9bb4-5c2b-4395-90e3-ae12bfb65686",
        "colab": {
          "base_uri": "https://localhost:8080/",
          "height": 316
        }
      },
      "source": [
        "df.hist('CoapplicantIncome', bins=100)"
      ],
      "execution_count": 0,
      "outputs": [
        {
          "output_type": "execute_result",
          "data": {
            "text/plain": [
              "array([[<matplotlib.axes._subplots.AxesSubplot object at 0x7f1b2effe748>]],\n",
              "      dtype=object)"
            ]
          },
          "metadata": {
            "tags": []
          },
          "execution_count": 77
        },
        {
          "output_type": "display_data",
          "data": {
            "image/png": "[encoded data removed]",
            "text/plain": [
              "<Figure size 432x288 with 1 Axes>"
            ]
          },
          "metadata": {
            "tags": [],
            "needs_background": "light"
          }
        }
      ]
    },
    {
      "cell_type": "code",
      "metadata": {
        "id": "80Cq3FepwHj7",
        "colab_type": "code",
        "outputId": "3f4c8256-3739-4b4d-8186-6bf547054777",
        "colab": {
          "base_uri": "https://localhost:8080/",
          "height": 177
        }
      },
      "source": [
        "df['CoapplicantIncome'].describe()"
      ],
      "execution_count": 0,
      "outputs": [
        {
          "output_type": "execute_result",
          "data": {
            "text/plain": [
              "count      614.000000\n",
              "mean      1621.245798\n",
              "std       2926.248369\n",
              "min          0.000000\n",
              "25%          0.000000\n",
              "50%       1188.500000\n",
              "75%       2297.250000\n",
              "max      41667.000000\n",
              "Name: CoapplicantIncome, dtype: float64"
            ]
          },
          "metadata": {
            "tags": []
          },
          "execution_count": 78
        }
      ]
    },
    {
      "cell_type": "code",
      "metadata": {
        "id": "j_fTXo-cwTcp",
        "colab_type": "code",
        "outputId": "706338d5-8201-44bc-be9e-22dffa494af9",
        "colab": {
          "base_uri": "https://localhost:8080/",
          "height": 316
        }
      },
      "source": [
        "df.hist('LoanAmount', bins=100)\n"
      ],
      "execution_count": 0,
      "outputs": [
        {
          "output_type": "execute_result",
          "data": {
            "text/plain": [
              "array([[<matplotlib.axes._subplots.AxesSubplot object at 0x7f1b2f01ef98>]],\n",
              "      dtype=object)"
            ]
          },
          "metadata": {
            "tags": []
          },
          "execution_count": 79
        },
        {
          "output_type": "display_data",
          "data": {
            "image/png": "[encoded data removed]",
            "text/plain": [
              "<Figure size 432x288 with 1 Axes>"
            ]
          },
          "metadata": {
            "tags": [],
            "needs_background": "light"
          }
        }
      ]
    },
    {
      "cell_type": "code",
      "metadata": {
        "id": "tEvvhKQ5weST",
        "colab_type": "code",
        "outputId": "2c4d4e8c-01b2-4324-c2b8-35ccfae1acfe",
        "colab": {
          "base_uri": "https://localhost:8080/",
          "height": 177
        }
      },
      "source": [
        "df['LoanAmount'].describe()"
      ],
      "execution_count": 0,
      "outputs": [
        {
          "output_type": "execute_result",
          "data": {
            "text/plain": [
              "count    614.000000\n",
              "mean     145.752443\n",
              "std       84.107233\n",
              "min        9.000000\n",
              "25%      100.250000\n",
              "50%      128.000000\n",
              "75%      164.750000\n",
              "max      700.000000\n",
              "Name: LoanAmount, dtype: float64"
            ]
          },
          "metadata": {
            "tags": []
          },
          "execution_count": 80
        }
      ]
    },
    {
      "cell_type": "markdown",
      "metadata": {
        "id": "_zUbRbmxVsPT",
        "colab_type": "text"
      },
      "source": [
        "**Problem 10-** Use Box-Plot chart to represent the Outliers for each Independent Variable"
      ]
    },
    {
      "cell_type": "code",
      "metadata": {
        "id": "ZLq9RGbsVy-f",
        "colab_type": "code",
        "outputId": "7c96406f-d0db-4916-9104-a0f8cfa9943a",
        "colab": {
          "base_uri": "https://localhost:8080/",
          "height": 283
        }
      },
      "source": [
        "df.boxplot(column=['LoanAmount'])"
      ],
      "execution_count": 0,
      "outputs": [
        {
          "output_type": "execute_result",
          "data": {
            "text/plain": [
              "<matplotlib.axes._subplots.AxesSubplot at 0x7f1b2ed5eba8>"
            ]
          },
          "metadata": {
            "tags": []
          },
          "execution_count": 81
        },
        {
          "output_type": "display_data",
          "data": {
            "image/png": "[encoded data removed]",
            "text/plain": [
              "<Figure size 432x288 with 1 Axes>"
            ]
          },
          "metadata": {
            "tags": [],
            "needs_background": "light"
          }
        }
      ]
    },
    {
      "cell_type": "code",
      "metadata": {
        "id": "MThX59JbjZ4P",
        "colab_type": "code",
        "outputId": "3db815a4-9f80-4008-ee16-5f883c9e1b96",
        "colab": {
          "base_uri": "https://localhost:8080/",
          "height": 177
        }
      },
      "source": [
        "df['LoanAmount'].describe()"
      ],
      "execution_count": 0,
      "outputs": [
        {
          "output_type": "execute_result",
          "data": {
            "text/plain": [
              "count    614.000000\n",
              "mean     145.752443\n",
              "std       84.107233\n",
              "min        9.000000\n",
              "25%      100.250000\n",
              "50%      128.000000\n",
              "75%      164.750000\n",
              "max      700.000000\n",
              "Name: LoanAmount, dtype: float64"
            ]
          },
          "metadata": {
            "tags": []
          },
          "execution_count": 82
        }
      ]
    },
    {
      "cell_type": "code",
      "metadata": {
        "id": "BR36Pn3xcQ6E",
        "colab_type": "code",
        "outputId": "24444c76-8977-4d98-855b-82d0840fe805",
        "colab": {
          "base_uri": "https://localhost:8080/",
          "height": 283
        }
      },
      "source": [
        "df.boxplot(column=['ApplicantIncome'])"
      ],
      "execution_count": 0,
      "outputs": [
        {
          "output_type": "execute_result",
          "data": {
            "text/plain": [
              "<matplotlib.axes._subplots.AxesSubplot at 0x7f1b2eee7198>"
            ]
          },
          "metadata": {
            "tags": []
          },
          "execution_count": 83
        },
        {
          "output_type": "display_data",
          "data": {
            "image/png": "[encoded data removed]",
            "text/plain": [
              "<Figure size 432x288 with 1 Axes>"
            ]
          },
          "metadata": {
            "tags": [],
            "needs_background": "light"
          }
        }
      ]
    },
    {
      "cell_type": "code",
      "metadata": {
        "id": "xDk8Gm5xkLrN",
        "colab_type": "code",
        "outputId": "ef55533c-31c6-4144-a083-806a40e46e70",
        "colab": {
          "base_uri": "https://localhost:8080/",
          "height": 177
        }
      },
      "source": [
        "df['ApplicantIncome'].describe()"
      ],
      "execution_count": 0,
      "outputs": [
        {
          "output_type": "execute_result",
          "data": {
            "text/plain": [
              "count      614.000000\n",
              "mean      5403.459283\n",
              "std       6109.041673\n",
              "min        150.000000\n",
              "25%       2877.500000\n",
              "50%       3812.500000\n",
              "75%       5795.000000\n",
              "max      81000.000000\n",
              "Name: ApplicantIncome, dtype: float64"
            ]
          },
          "metadata": {
            "tags": []
          },
          "execution_count": 84
        }
      ]
    },
    {
      "cell_type": "code",
      "metadata": {
        "id": "gYOGuopSkY0F",
        "colab_type": "code",
        "outputId": "e95d82db-d056-4fe1-ece4-9e8c4d0398ca",
        "colab": {
          "base_uri": "https://localhost:8080/",
          "height": 283
        }
      },
      "source": [
        "df.boxplot(column=['CoapplicantIncome'])"
      ],
      "execution_count": 0,
      "outputs": [
        {
          "output_type": "execute_result",
          "data": {
            "text/plain": [
              "<matplotlib.axes._subplots.AxesSubplot at 0x7f1b2ed4bef0>"
            ]
          },
          "metadata": {
            "tags": []
          },
          "execution_count": 85
        },
        {
          "output_type": "display_data",
          "data": {
            "image/png": "[encoded data removed]",
            "text/plain": [
              "<Figure size 432x288 with 1 Axes>"
            ]
          },
          "metadata": {
            "tags": [],
            "needs_background": "light"
          }
        }
      ]
    },
    {
      "cell_type": "code",
      "metadata": {
        "id": "1WGFiqpqkJ26",
        "colab_type": "code",
        "outputId": "8c4b3ba6-4870-4a26-9260-316ce56042a1",
        "colab": {
          "base_uri": "https://localhost:8080/",
          "height": 177
        }
      },
      "source": [
        "df['CoapplicantIncome'].describe()"
      ],
      "execution_count": 0,
      "outputs": [
        {
          "output_type": "execute_result",
          "data": {
            "text/plain": [
              "count      614.000000\n",
              "mean      1621.245798\n",
              "std       2926.248369\n",
              "min          0.000000\n",
              "25%          0.000000\n",
              "50%       1188.500000\n",
              "75%       2297.250000\n",
              "max      41667.000000\n",
              "Name: CoapplicantIncome, dtype: float64"
            ]
          },
          "metadata": {
            "tags": []
          },
          "execution_count": 86
        }
      ]
    },
    {
      "cell_type": "code",
      "metadata": {
        "id": "tqZgjIFXlh8z",
        "colab_type": "code",
        "outputId": "a7466ef0-e7e1-4987-d7da-814cf3abf7da",
        "colab": {
          "base_uri": "https://localhost:8080/",
          "height": 283
        }
      },
      "source": [
        "df.boxplot(column=['LoanAmount'])"
      ],
      "execution_count": 0,
      "outputs": [
        {
          "output_type": "execute_result",
          "data": {
            "text/plain": [
              "<matplotlib.axes._subplots.AxesSubplot at 0x7f1b2ec0f908>"
            ]
          },
          "metadata": {
            "tags": []
          },
          "execution_count": 87
        },
        {
          "output_type": "display_data",
          "data": {
            "image/png": "[encoded data removed]",
            "text/plain": [
              "<Figure size 432x288 with 1 Axes>"
            ]
          },
          "metadata": {
            "tags": [],
            "needs_background": "light"
          }
        }
      ]
    },
    {
      "cell_type": "code",
      "metadata": {
        "id": "AWG8Q0eKlsJg",
        "colab_type": "code",
        "outputId": "87e3b618-bdba-4f9d-e71b-a872801d2f68",
        "colab": {
          "base_uri": "https://localhost:8080/",
          "height": 177
        }
      },
      "source": [
        "df['LoanAmount'].describe()"
      ],
      "execution_count": 0,
      "outputs": [
        {
          "output_type": "execute_result",
          "data": {
            "text/plain": [
              "count    614.000000\n",
              "mean     145.752443\n",
              "std       84.107233\n",
              "min        9.000000\n",
              "25%      100.250000\n",
              "50%      128.000000\n",
              "75%      164.750000\n",
              "max      700.000000\n",
              "Name: LoanAmount, dtype: float64"
            ]
          },
          "metadata": {
            "tags": []
          },
          "execution_count": 88
        }
      ]
    },
    {
      "cell_type": "code",
      "metadata": {
        "id": "LnjmehRnl0yL",
        "colab_type": "code",
        "outputId": "9a135439-59fe-4e31-e03c-91e6a74d3c5f",
        "colab": {
          "base_uri": "https://localhost:8080/",
          "height": 287
        }
      },
      "source": [
        "df.boxplot(column=['Loan_Amount_Term'])"
      ],
      "execution_count": 0,
      "outputs": [
        {
          "output_type": "execute_result",
          "data": {
            "text/plain": [
              "<matplotlib.axes._subplots.AxesSubplot at 0x7f1b2ebf4a58>"
            ]
          },
          "metadata": {
            "tags": []
          },
          "execution_count": 89
        },
        {
          "output_type": "display_data",
          "data": {
            "image/png": "[encoded data removed]",
            "text/plain": [
              "<Figure size 432x288 with 1 Axes>"
            ]
          },
          "metadata": {
            "tags": [],
            "needs_background": "light"
          }
        }
      ]
    },
    {
      "cell_type": "code",
      "metadata": {
        "id": "r7pXgQQumFPC",
        "colab_type": "code",
        "outputId": "dcb6afb0-276a-4827-f7f6-7a76ec3377f6",
        "colab": {
          "base_uri": "https://localhost:8080/",
          "height": 177
        }
      },
      "source": [
        "df['Loan_Amount_Term'].describe()"
      ],
      "execution_count": 0,
      "outputs": [
        {
          "output_type": "execute_result",
          "data": {
            "text/plain": [
              "count    600.00000\n",
              "mean     342.00000\n",
              "std       65.12041\n",
              "min       12.00000\n",
              "25%      360.00000\n",
              "50%      360.00000\n",
              "75%      360.00000\n",
              "max      480.00000\n",
              "Name: Loan_Amount_Term, dtype: float64"
            ]
          },
          "metadata": {
            "tags": []
          },
          "execution_count": 90
        }
      ]
    },
    {
      "cell_type": "markdown",
      "metadata": {
        "id": "bupwEpAEpm6V",
        "colab_type": "text"
      },
      "source": [
        "**Step1 :-** Perform Label Encoding on Target Variable (Loan_Status)."
      ]
    },
    {
      "cell_type": "code",
      "metadata": {
        "id": "3M7uMFkLoGpJ",
        "colab_type": "code",
        "outputId": "8f0e3ca8-b4c4-47f8-ef3e-1fdcbd9c8344",
        "colab": {
          "base_uri": "https://localhost:8080/",
          "height": 237
        }
      },
      "source": [
        "from sklearn.preprocessing import LabelEncoder\n",
        "le = LabelEncoder()\n",
        "df['Loan_Status'] = le.fit_transform(df['Loan_Status'])\n",
        "df.head()\n"
      ],
      "execution_count": 0,
      "outputs": [
        {
          "output_type": "execute_result",
          "data": {
            "text/html": [
              "<div>\n",
              "<style scoped>\n",
              "    .dataframe tbody tr th:only-of-type {\n",
              "        vertical-align: middle;\n",
              "    }\n",
              "\n",
              "    .dataframe tbody tr th {\n",
              "        vertical-align: top;\n",
              "    }\n",
              "\n",
              "    .dataframe thead th {\n",
              "        text-align: right;\n",
              "    }\n",
              "</style>\n",
              "<table border=\"1\" class=\"dataframe\">\n",
              "  <thead>\n",
              "    <tr style=\"text-align: right;\">\n",
              "      <th></th>\n",
              "      <th>Loan_ID</th>\n",
              "      <th>Gender</th>\n",
              "      <th>Married</th>\n",
              "      <th>Dependents</th>\n",
              "      <th>Education</th>\n",
              "      <th>Self_Employed</th>\n",
              "      <th>ApplicantIncome</th>\n",
              "      <th>CoapplicantIncome</th>\n",
              "      <th>LoanAmount</th>\n",
              "      <th>Loan_Amount_Term</th>\n",
              "      <th>Credit_History</th>\n",
              "      <th>Property_Area</th>\n",
              "      <th>Loan_Status</th>\n",
              "      <th>Gender_ismissing</th>\n",
              "      <th>Married_ismissing</th>\n",
              "      <th>Dependents_ismissing</th>\n",
              "      <th>Self_Employed_ismissing</th>\n",
              "      <th>LoanAmount_ismissing</th>\n",
              "      <th>Loan_Amount_Term_ismissing</th>\n",
              "      <th>Credit_History_ismissing</th>\n",
              "      <th>num_missing</th>\n",
              "    </tr>\n",
              "  </thead>\n",
              "  <tbody>\n",
              "    <tr>\n",
              "      <th>0</th>\n",
              "      <td>LP001002</td>\n",
              "      <td>Male</td>\n",
              "      <td>No</td>\n",
              "      <td>0</td>\n",
              "      <td>Graduate</td>\n",
              "      <td>No</td>\n",
              "      <td>5849</td>\n",
              "      <td>0.0</td>\n",
              "      <td>128.0</td>\n",
              "      <td>360.0</td>\n",
              "      <td>1.0</td>\n",
              "      <td>Urban</td>\n",
              "      <td>1</td>\n",
              "      <td>False</td>\n",
              "      <td>False</td>\n",
              "      <td>False</td>\n",
              "      <td>False</td>\n",
              "      <td>True</td>\n",
              "      <td>False</td>\n",
              "      <td>False</td>\n",
              "      <td>1</td>\n",
              "    </tr>\n",
              "    <tr>\n",
              "      <th>1</th>\n",
              "      <td>LP001003</td>\n",
              "      <td>Male</td>\n",
              "      <td>Yes</td>\n",
              "      <td>1</td>\n",
              "      <td>Graduate</td>\n",
              "      <td>No</td>\n",
              "      <td>4583</td>\n",
              "      <td>1508.0</td>\n",
              "      <td>128.0</td>\n",
              "      <td>360.0</td>\n",
              "      <td>1.0</td>\n",
              "      <td>Rural</td>\n",
              "      <td>0</td>\n",
              "      <td>False</td>\n",
              "      <td>False</td>\n",
              "      <td>False</td>\n",
              "      <td>False</td>\n",
              "      <td>False</td>\n",
              "      <td>False</td>\n",
              "      <td>False</td>\n",
              "      <td>0</td>\n",
              "    </tr>\n",
              "    <tr>\n",
              "      <th>2</th>\n",
              "      <td>LP001005</td>\n",
              "      <td>Male</td>\n",
              "      <td>Yes</td>\n",
              "      <td>0</td>\n",
              "      <td>Graduate</td>\n",
              "      <td>Yes</td>\n",
              "      <td>3000</td>\n",
              "      <td>0.0</td>\n",
              "      <td>66.0</td>\n",
              "      <td>360.0</td>\n",
              "      <td>1.0</td>\n",
              "      <td>Urban</td>\n",
              "      <td>1</td>\n",
              "      <td>False</td>\n",
              "      <td>False</td>\n",
              "      <td>False</td>\n",
              "      <td>False</td>\n",
              "      <td>False</td>\n",
              "      <td>False</td>\n",
              "      <td>False</td>\n",
              "      <td>0</td>\n",
              "    </tr>\n",
              "    <tr>\n",
              "      <th>3</th>\n",
              "      <td>LP001006</td>\n",
              "      <td>Male</td>\n",
              "      <td>Yes</td>\n",
              "      <td>0</td>\n",
              "      <td>Not Graduate</td>\n",
              "      <td>No</td>\n",
              "      <td>2583</td>\n",
              "      <td>2358.0</td>\n",
              "      <td>120.0</td>\n",
              "      <td>360.0</td>\n",
              "      <td>1.0</td>\n",
              "      <td>Urban</td>\n",
              "      <td>1</td>\n",
              "      <td>False</td>\n",
              "      <td>False</td>\n",
              "      <td>False</td>\n",
              "      <td>False</td>\n",
              "      <td>False</td>\n",
              "      <td>False</td>\n",
              "      <td>False</td>\n",
              "      <td>0</td>\n",
              "    </tr>\n",
              "    <tr>\n",
              "      <th>4</th>\n",
              "      <td>LP001008</td>\n",
              "      <td>Male</td>\n",
              "      <td>No</td>\n",
              "      <td>0</td>\n",
              "      <td>Graduate</td>\n",
              "      <td>No</td>\n",
              "      <td>6000</td>\n",
              "      <td>0.0</td>\n",
              "      <td>141.0</td>\n",
              "      <td>360.0</td>\n",
              "      <td>1.0</td>\n",
              "      <td>Urban</td>\n",
              "      <td>1</td>\n",
              "      <td>False</td>\n",
              "      <td>False</td>\n",
              "      <td>False</td>\n",
              "      <td>False</td>\n",
              "      <td>False</td>\n",
              "      <td>False</td>\n",
              "      <td>False</td>\n",
              "      <td>0</td>\n",
              "    </tr>\n",
              "  </tbody>\n",
              "</table>\n",
              "</div>"
            ],
            "text/plain": [
              "    Loan_ID Gender  ... Credit_History_ismissing num_missing\n",
              "0  LP001002   Male  ...                    False           1\n",
              "1  LP001003   Male  ...                    False           0\n",
              "2  LP001005   Male  ...                    False           0\n",
              "3  LP001006   Male  ...                    False           0\n",
              "4  LP001008   Male  ...                    False           0\n",
              "\n",
              "[5 rows x 21 columns]"
            ]
          },
          "metadata": {
            "tags": []
          },
          "execution_count": 129
        }
      ]
    },
    {
      "cell_type": "markdown",
      "metadata": {
        "id": "T6HH0NJMJIyO",
        "colab_type": "text"
      },
      "source": [
        "\n",
        "**Step-2**\n",
        "\n",
        "**a)** Perform Label Encoding on Categorical Independent Variables."
      ]
    },
    {
      "cell_type": "code",
      "metadata": {
        "id": "SUoO5ADTLMFe",
        "colab_type": "code",
        "colab": {}
      },
      "source": [
        ""
      ],
      "execution_count": 0,
      "outputs": []
    },
    {
      "cell_type": "markdown",
      "metadata": {
        "id": "Z3NVGjyFLQnV",
        "colab_type": "text"
      },
      "source": [
        "**b)** What is the shape of dataframe post Categorical Encoding ?"
      ]
    },
    {
      "cell_type": "code",
      "metadata": {
        "id": "H2BRCfZ7LMkt",
        "colab_type": "code",
        "colab": {
          "base_uri": "https://localhost:8080/",
          "height": 35
        },
        "outputId": "5e82a78a-915d-465b-e497-02cea596c405"
      },
      "source": [
        "cat=df.select_dtypes(exclude=['int', 'float'])\n",
        "cat.shape"
      ],
      "execution_count": 157,
      "outputs": [
        {
          "output_type": "execute_result",
          "data": {
            "text/plain": [
              "(614, 14)"
            ]
          },
          "metadata": {
            "tags": []
          },
          "execution_count": 157
        }
      ]
    },
    {
      "cell_type": "markdown",
      "metadata": {
        "id": "EfkdlnC7NDt6",
        "colab_type": "text"
      },
      "source": [
        "**c)** Carry out Correlation analysis on this dataframe. Plot using HeatMap"
      ]
    },
    {
      "cell_type": "code",
      "metadata": {
        "id": "pAt6ny64NCtI",
        "colab_type": "code",
        "colab": {
          "base_uri": "https://localhost:8080/",
          "height": 220
        },
        "outputId": "31d7e3d2-4a95-4548-a4ac-e45455a68784"
      },
      "source": [
        "corr = df.corr()\n",
        "corr.head()"
      ],
      "execution_count": 141,
      "outputs": [
        {
          "output_type": "execute_result",
          "data": {
            "text/html": [
              "<div>\n",
              "<style scoped>\n",
              "    .dataframe tbody tr th:only-of-type {\n",
              "        vertical-align: middle;\n",
              "    }\n",
              "\n",
              "    .dataframe tbody tr th {\n",
              "        vertical-align: top;\n",
              "    }\n",
              "\n",
              "    .dataframe thead th {\n",
              "        text-align: right;\n",
              "    }\n",
              "</style>\n",
              "<table border=\"1\" class=\"dataframe\">\n",
              "  <thead>\n",
              "    <tr style=\"text-align: right;\">\n",
              "      <th></th>\n",
              "      <th>ApplicantIncome</th>\n",
              "      <th>CoapplicantIncome</th>\n",
              "      <th>LoanAmount</th>\n",
              "      <th>Loan_Amount_Term</th>\n",
              "      <th>Credit_History</th>\n",
              "      <th>Loan_Status</th>\n",
              "      <th>Gender_ismissing</th>\n",
              "      <th>Married_ismissing</th>\n",
              "      <th>Dependents_ismissing</th>\n",
              "      <th>Self_Employed_ismissing</th>\n",
              "      <th>LoanAmount_ismissing</th>\n",
              "      <th>Loan_Amount_Term_ismissing</th>\n",
              "      <th>Credit_History_ismissing</th>\n",
              "      <th>num_missing</th>\n",
              "      <th>dfLoan_ID</th>\n",
              "    </tr>\n",
              "  </thead>\n",
              "  <tbody>\n",
              "    <tr>\n",
              "      <th>ApplicantIncome</th>\n",
              "      <td>1.000000</td>\n",
              "      <td>-0.116605</td>\n",
              "      <td>0.565181</td>\n",
              "      <td>-0.045306</td>\n",
              "      <td>-0.014715</td>\n",
              "      <td>-0.004710</td>\n",
              "      <td>0.118787</td>\n",
              "      <td>0.009224</td>\n",
              "      <td>-0.005596</td>\n",
              "      <td>0.017661</td>\n",
              "      <td>-0.000718</td>\n",
              "      <td>-0.031836</td>\n",
              "      <td>-0.034651</td>\n",
              "      <td>0.013174</td>\n",
              "      <td>0.016925</td>\n",
              "    </tr>\n",
              "    <tr>\n",
              "      <th>CoapplicantIncome</th>\n",
              "      <td>-0.116605</td>\n",
              "      <td>1.000000</td>\n",
              "      <td>0.189218</td>\n",
              "      <td>-0.059878</td>\n",
              "      <td>-0.002056</td>\n",
              "      <td>-0.059187</td>\n",
              "      <td>-0.007825</td>\n",
              "      <td>-0.032830</td>\n",
              "      <td>-0.029503</td>\n",
              "      <td>0.075084</td>\n",
              "      <td>-0.037945</td>\n",
              "      <td>0.005756</td>\n",
              "      <td>0.104297</td>\n",
              "      <td>0.063492</td>\n",
              "      <td>0.039211</td>\n",
              "    </tr>\n",
              "    <tr>\n",
              "      <th>LoanAmount</th>\n",
              "      <td>0.565181</td>\n",
              "      <td>0.189218</td>\n",
              "      <td>1.000000</td>\n",
              "      <td>0.039358</td>\n",
              "      <td>-0.007543</td>\n",
              "      <td>-0.033214</td>\n",
              "      <td>0.109880</td>\n",
              "      <td>0.002430</td>\n",
              "      <td>-0.032800</td>\n",
              "      <td>0.019960</td>\n",
              "      <td>-0.040722</td>\n",
              "      <td>-0.053690</td>\n",
              "      <td>0.051967</td>\n",
              "      <td>0.028607</td>\n",
              "      <td>0.036872</td>\n",
              "    </tr>\n",
              "    <tr>\n",
              "      <th>Loan_Amount_Term</th>\n",
              "      <td>-0.045306</td>\n",
              "      <td>-0.059878</td>\n",
              "      <td>0.039358</td>\n",
              "      <td>1.000000</td>\n",
              "      <td>0.001470</td>\n",
              "      <td>-0.021268</td>\n",
              "      <td>-0.001056</td>\n",
              "      <td>0.019611</td>\n",
              "      <td>0.032579</td>\n",
              "      <td>-0.018747</td>\n",
              "      <td>-0.011449</td>\n",
              "      <td>NaN</td>\n",
              "      <td>-0.007785</td>\n",
              "      <td>-0.004887</td>\n",
              "      <td>-0.029301</td>\n",
              "    </tr>\n",
              "    <tr>\n",
              "      <th>Credit_History</th>\n",
              "      <td>-0.014715</td>\n",
              "      <td>-0.002056</td>\n",
              "      <td>-0.007543</td>\n",
              "      <td>0.001470</td>\n",
              "      <td>1.000000</td>\n",
              "      <td>0.561678</td>\n",
              "      <td>-0.037289</td>\n",
              "      <td>0.031654</td>\n",
              "      <td>-0.079589</td>\n",
              "      <td>0.071965</td>\n",
              "      <td>-0.017626</td>\n",
              "      <td>-0.118501</td>\n",
              "      <td>NaN</td>\n",
              "      <td>-0.055780</td>\n",
              "      <td>-0.033772</td>\n",
              "    </tr>\n",
              "  </tbody>\n",
              "</table>\n",
              "</div>"
            ],
            "text/plain": [
              "                   ApplicantIncome  CoapplicantIncome  ...  num_missing  dfLoan_ID\n",
              "ApplicantIncome           1.000000          -0.116605  ...     0.013174   0.016925\n",
              "CoapplicantIncome        -0.116605           1.000000  ...     0.063492   0.039211\n",
              "LoanAmount                0.565181           0.189218  ...     0.028607   0.036872\n",
              "Loan_Amount_Term         -0.045306          -0.059878  ...    -0.004887  -0.029301\n",
              "Credit_History           -0.014715          -0.002056  ...    -0.055780  -0.033772\n",
              "\n",
              "[5 rows x 15 columns]"
            ]
          },
          "metadata": {
            "tags": []
          },
          "execution_count": 141
        }
      ]
    },
    {
      "cell_type": "code",
      "metadata": {
        "id": "9j02Jek4Nmwi",
        "colab_type": "code",
        "colab": {
          "base_uri": "https://localhost:8080/",
          "height": 676
        },
        "outputId": "05c4cae5-bff1-4d68-f9dc-80d1560250cb"
      },
      "source": [
        "mask = np.zeros_like(corr, dtype=np.bool)\n",
        "mask[np.triu_indices_from(mask)] = True\n",
        "f, ax = plt.subplots(figsize=(11, 9))\n",
        "cmap = sns.diverging_palette(220, 10, as_cmap=True)\n",
        "svm = sns.heatmap(corr, mask=mask, cmap=cmap, center=0,square=True, linewidths=1, cbar_kws={\"shrink\": 1})\n",
        "figure = svm.get_figure()"
      ],
      "execution_count": 145,
      "outputs": [
        {
          "output_type": "display_data",
          "data": {
            "image/png": "[encoded data removed]",
            "text/plain": [
              "<Figure size 792x648 with 2 Axes>"
            ]
          },
          "metadata": {
            "tags": [],
            "needs_background": "light"
          }
        }
      ]
    },
    {
      "cell_type": "markdown",
      "metadata": {
        "id": "2dyMhYrCOBXl",
        "colab_type": "text"
      },
      "source": [
        "**d)** Identify the variables that have strong correlation using Label Encoding( Correlation Coefficient > 0.5 or <0.5)"
      ]
    },
    {
      "cell_type": "code",
      "metadata": {
        "id": "rL3Pym8SN5nh",
        "colab_type": "code",
        "colab": {}
      },
      "source": [
        ""
      ],
      "execution_count": 0,
      "outputs": []
    },
    {
      "cell_type": "markdown",
      "metadata": {
        "id": "2fKoOPx_OFfC",
        "colab_type": "text"
      },
      "source": [
        "**Step-3**\n",
        "\n",
        "**a)** Perform One Hot Encoding on Categorical Independent Variables."
      ]
    },
    {
      "cell_type": "code",
      "metadata": {
        "id": "tzC-1kaMSJpy",
        "colab_type": "code",
        "colab": {
          "base_uri": "https://localhost:8080/",
          "height": 266
        },
        "outputId": "75303e60-a792-47cb-bae9-9fdf132bc902"
      },
      "source": [
        "df_ohe=df.select_dtypes(exclude=['int', 'float'])\n",
        "print(df_ohe)"
      ],
      "execution_count": 168,
      "outputs": [
        {
          "output_type": "stream",
          "text": [
            "      Loan_ID  Gender  ... Loan_Amount_Term_ismissing Credit_History_ismissing\n",
            "0    LP001002    Male  ...                      False                    False\n",
            "1    LP001003    Male  ...                      False                    False\n",
            "2    LP001005    Male  ...                      False                    False\n",
            "3    LP001006    Male  ...                      False                    False\n",
            "4    LP001008    Male  ...                      False                    False\n",
            "..        ...     ...  ...                        ...                      ...\n",
            "609  LP002978  Female  ...                      False                    False\n",
            "610  LP002979    Male  ...                      False                    False\n",
            "611  LP002983    Male  ...                      False                    False\n",
            "612  LP002984    Male  ...                      False                    False\n",
            "613  LP002990  Female  ...                      False                    False\n",
            "\n",
            "[614 rows x 14 columns]\n"
          ],
          "name": "stdout"
        }
      ]
    },
    {
      "cell_type": "markdown",
      "metadata": {
        "id": "LHYhRUM9Oq8s",
        "colab_type": "text"
      },
      "source": [
        "\n",
        "**b)** What is the shape of dataframe post OHE Encoding ?\n"
      ]
    },
    {
      "cell_type": "code",
      "metadata": {
        "id": "nTlzOg1cPb3P",
        "colab_type": "code",
        "colab": {
          "base_uri": "https://localhost:8080/",
          "height": 35
        },
        "outputId": "c0a05ee5-8dd5-474b-880e-4b0e3b4f0eb6"
      },
      "source": [
        "a=df_ohe.shape\n",
        "a"
      ],
      "execution_count": 175,
      "outputs": [
        {
          "output_type": "execute_result",
          "data": {
            "text/plain": [
              "(614, 14)"
            ]
          },
          "metadata": {
            "tags": []
          },
          "execution_count": 175
        }
      ]
    },
    {
      "cell_type": "code",
      "metadata": {
        "id": "n7G2GqG2UD0f",
        "colab_type": "code",
        "colab": {
          "base_uri": "https://localhost:8080/",
          "height": 220
        },
        "outputId": "23c144f0-f037-44fd-87cd-74b64aebaa8a"
      },
      "source": [
        "ohe_Corr= df_ohe.corr()\n",
        "ohe_Corr.head()"
      ],
      "execution_count": 176,
      "outputs": [
        {
          "output_type": "execute_result",
          "data": {
            "text/html": [
              "<div>\n",
              "<style scoped>\n",
              "    .dataframe tbody tr th:only-of-type {\n",
              "        vertical-align: middle;\n",
              "    }\n",
              "\n",
              "    .dataframe tbody tr th {\n",
              "        vertical-align: top;\n",
              "    }\n",
              "\n",
              "    .dataframe thead th {\n",
              "        text-align: right;\n",
              "    }\n",
              "</style>\n",
              "<table border=\"1\" class=\"dataframe\">\n",
              "  <thead>\n",
              "    <tr style=\"text-align: right;\">\n",
              "      <th></th>\n",
              "      <th>Gender_ismissing</th>\n",
              "      <th>Married_ismissing</th>\n",
              "      <th>Dependents_ismissing</th>\n",
              "      <th>Self_Employed_ismissing</th>\n",
              "      <th>LoanAmount_ismissing</th>\n",
              "      <th>Loan_Amount_Term_ismissing</th>\n",
              "      <th>Credit_History_ismissing</th>\n",
              "    </tr>\n",
              "  </thead>\n",
              "  <tbody>\n",
              "    <tr>\n",
              "      <th>Gender_ismissing</th>\n",
              "      <td>1.000000</td>\n",
              "      <td>-0.010306</td>\n",
              "      <td>-0.023274</td>\n",
              "      <td>-0.034486</td>\n",
              "      <td>-0.028352</td>\n",
              "      <td>-0.022466</td>\n",
              "      <td>-0.002425</td>\n",
              "    </tr>\n",
              "    <tr>\n",
              "      <th>Married_ismissing</th>\n",
              "      <td>-0.010306</td>\n",
              "      <td>1.000000</td>\n",
              "      <td>0.442800</td>\n",
              "      <td>-0.016431</td>\n",
              "      <td>0.112157</td>\n",
              "      <td>-0.010704</td>\n",
              "      <td>-0.020863</td>\n",
              "    </tr>\n",
              "    <tr>\n",
              "      <th>Dependents_ismissing</th>\n",
              "      <td>-0.023274</td>\n",
              "      <td>0.442800</td>\n",
              "      <td>1.000000</td>\n",
              "      <td>-0.037106</td>\n",
              "      <td>0.083013</td>\n",
              "      <td>0.046503</td>\n",
              "      <td>-0.047117</td>\n",
              "    </tr>\n",
              "    <tr>\n",
              "      <th>Self_Employed_ismissing</th>\n",
              "      <td>-0.034486</td>\n",
              "      <td>-0.016431</td>\n",
              "      <td>-0.037106</td>\n",
              "      <td>1.000000</td>\n",
              "      <td>-0.005779</td>\n",
              "      <td>0.013272</td>\n",
              "      <td>0.090936</td>\n",
              "    </tr>\n",
              "    <tr>\n",
              "      <th>LoanAmount_ismissing</th>\n",
              "      <td>-0.028352</td>\n",
              "      <td>0.112157</td>\n",
              "      <td>0.083013</td>\n",
              "      <td>-0.005779</td>\n",
              "      <td>1.000000</td>\n",
              "      <td>-0.029447</td>\n",
              "      <td>-0.025359</td>\n",
              "    </tr>\n",
              "  </tbody>\n",
              "</table>\n",
              "</div>"
            ],
            "text/plain": [
              "                         Gender_ismissing  ...  Credit_History_ismissing\n",
              "Gender_ismissing                 1.000000  ...                 -0.002425\n",
              "Married_ismissing               -0.010306  ...                 -0.020863\n",
              "Dependents_ismissing            -0.023274  ...                 -0.047117\n",
              "Self_Employed_ismissing         -0.034486  ...                  0.090936\n",
              "LoanAmount_ismissing            -0.028352  ...                 -0.025359\n",
              "\n",
              "[5 rows x 7 columns]"
            ]
          },
          "metadata": {
            "tags": []
          },
          "execution_count": 176
        }
      ]
    },
    {
      "cell_type": "markdown",
      "metadata": {
        "id": "UINJU9afO9Er",
        "colab_type": "text"
      },
      "source": [
        "**c)** Carry out Correlation analysis on this dataframe. Plot using HeatMap"
      ]
    },
    {
      "cell_type": "code",
      "metadata": {
        "id": "2w-MLr84TG07",
        "colab_type": "code",
        "colab": {
          "base_uri": "https://localhost:8080/",
          "height": 676
        },
        "outputId": "c6a6bc1f-3da6-4d6d-d511-10853b002929"
      },
      "source": [
        "mask = np.zeros_like(ohe_Corr, dtype=bool)\n",
        "mask[np.triu_indices_from(mask)] = True\n",
        "\n",
        "f, ax = plt.subplots(figsize=(11, 9))\n",
        "\n",
        "cmap = sns.diverging_palette(220, 10, as_cmap=True)\n",
        "\n",
        "svm = sns.heatmap(ohe_Corr, mask=mask, cmap=cmap, center=0,\n",
        "            square=True, linewidths=1, cbar_kws={\"shrink\": 1})\n",
        "figure = svm.get_figure()"
      ],
      "execution_count": 174,
      "outputs": [
        {
          "output_type": "display_data",
          "data": {
            "image/png": "[encoded data removed]",
            "text/plain": [
              "<Figure size 792x648 with 2 Axes>"
            ]
          },
          "metadata": {
            "tags": [],
            "needs_background": "light"
          }
        }
      ]
    },
    {
      "cell_type": "markdown",
      "metadata": {
        "id": "2-ZSLlHrPBcg",
        "colab_type": "text"
      },
      "source": [
        "**d)** Identify the variables that have strong correlation using OHE ( Correlation Coefficient > 0.5 or <0.5)"
      ]
    }
  ]
}