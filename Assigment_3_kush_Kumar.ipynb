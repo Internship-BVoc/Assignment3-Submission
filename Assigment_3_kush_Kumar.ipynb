{
  "nbformat": 4,
  "nbformat_minor": 0,
  "metadata": {
    "colab": {
      "name": "Assigment-3_kush_Kumar.ipynb",
      "provenance": [],
      "collapsed_sections": []
    },
    "kernelspec": {
      "name": "python3",
      "display_name": "Python 3"
    }
  },
  "cells": [
    {
      "cell_type": "markdown",
      "metadata": {
        "id": "J6W2mqvWEAyI",
        "colab_type": "text"
      },
      "source": [
        "# Assingment 3\n",
        "#submmited by Kush Kumar\n"
      ]
    },
    {
      "cell_type": "code",
      "metadata": {
        "id": "4mFwBwUQAeGW",
        "colab_type": "code",
        "colab": {
          "base_uri": "https://localhost:8080/",
          "height": 70
        },
        "outputId": "61f97f08-914a-42b9-9837-61cdffc9a86c"
      },
      "source": [
        "import pandas as pd\n",
        "import numpy as np \n",
        "import matplotlib.pyplot as plt\n",
        "import seaborn as se\n"
      ],
      "execution_count": 1,
      "outputs": [
        {
          "output_type": "stream",
          "text": [
            "/usr/local/lib/python3.6/dist-packages/statsmodels/tools/_testing.py:19: FutureWarning: pandas.util.testing is deprecated. Use the functions in the public API at pandas.testing instead.\n",
            "  import pandas.util.testing as tm\n"
          ],
          "name": "stderr"
        }
      ]
    },
    {
      "cell_type": "code",
      "metadata": {
        "id": "DOCKdGhXAsHa",
        "colab_type": "code",
        "colab": {
          "base_uri": "https://localhost:8080/",
          "height": 444
        },
        "outputId": "bc34199f-b639-42a2-d869-52ae25998648"
      },
      "source": [
        "df=pd.read_csv(\"/content/dataset_model.csv\")\n",
        "df"
      ],
      "execution_count": 2,
      "outputs": [
        {
          "output_type": "execute_result",
          "data": {
            "text/html": [
              "<div>\n",
              "<style scoped>\n",
              "    .dataframe tbody tr th:only-of-type {\n",
              "        vertical-align: middle;\n",
              "    }\n",
              "\n",
              "    .dataframe tbody tr th {\n",
              "        vertical-align: top;\n",
              "    }\n",
              "\n",
              "    .dataframe thead th {\n",
              "        text-align: right;\n",
              "    }\n",
              "</style>\n",
              "<table border=\"1\" class=\"dataframe\">\n",
              "  <thead>\n",
              "    <tr style=\"text-align: right;\">\n",
              "      <th></th>\n",
              "      <th>Loan_ID</th>\n",
              "      <th>Gender</th>\n",
              "      <th>Married</th>\n",
              "      <th>Dependents</th>\n",
              "      <th>Education</th>\n",
              "      <th>Self_Employed</th>\n",
              "      <th>ApplicantIncome</th>\n",
              "      <th>CoapplicantIncome</th>\n",
              "      <th>LoanAmount</th>\n",
              "      <th>Loan_Amount_Term</th>\n",
              "      <th>Credit_History</th>\n",
              "      <th>Property_Area</th>\n",
              "      <th>Loan_Status</th>\n",
              "    </tr>\n",
              "  </thead>\n",
              "  <tbody>\n",
              "    <tr>\n",
              "      <th>0</th>\n",
              "      <td>LP001002</td>\n",
              "      <td>Male</td>\n",
              "      <td>No</td>\n",
              "      <td>0</td>\n",
              "      <td>Graduate</td>\n",
              "      <td>No</td>\n",
              "      <td>5849</td>\n",
              "      <td>0.0</td>\n",
              "      <td>NaN</td>\n",
              "      <td>360.0</td>\n",
              "      <td>1.0</td>\n",
              "      <td>Urban</td>\n",
              "      <td>Y</td>\n",
              "    </tr>\n",
              "    <tr>\n",
              "      <th>1</th>\n",
              "      <td>LP001003</td>\n",
              "      <td>Male</td>\n",
              "      <td>Yes</td>\n",
              "      <td>1</td>\n",
              "      <td>Graduate</td>\n",
              "      <td>No</td>\n",
              "      <td>4583</td>\n",
              "      <td>1508.0</td>\n",
              "      <td>128.0</td>\n",
              "      <td>360.0</td>\n",
              "      <td>1.0</td>\n",
              "      <td>Rural</td>\n",
              "      <td>N</td>\n",
              "    </tr>\n",
              "    <tr>\n",
              "      <th>2</th>\n",
              "      <td>LP001005</td>\n",
              "      <td>Male</td>\n",
              "      <td>Yes</td>\n",
              "      <td>0</td>\n",
              "      <td>Graduate</td>\n",
              "      <td>Yes</td>\n",
              "      <td>3000</td>\n",
              "      <td>0.0</td>\n",
              "      <td>66.0</td>\n",
              "      <td>360.0</td>\n",
              "      <td>1.0</td>\n",
              "      <td>Urban</td>\n",
              "      <td>Y</td>\n",
              "    </tr>\n",
              "    <tr>\n",
              "      <th>3</th>\n",
              "      <td>LP001006</td>\n",
              "      <td>Male</td>\n",
              "      <td>Yes</td>\n",
              "      <td>0</td>\n",
              "      <td>Not Graduate</td>\n",
              "      <td>No</td>\n",
              "      <td>2583</td>\n",
              "      <td>2358.0</td>\n",
              "      <td>120.0</td>\n",
              "      <td>360.0</td>\n",
              "      <td>1.0</td>\n",
              "      <td>Urban</td>\n",
              "      <td>Y</td>\n",
              "    </tr>\n",
              "    <tr>\n",
              "      <th>4</th>\n",
              "      <td>LP001008</td>\n",
              "      <td>Male</td>\n",
              "      <td>No</td>\n",
              "      <td>0</td>\n",
              "      <td>Graduate</td>\n",
              "      <td>No</td>\n",
              "      <td>6000</td>\n",
              "      <td>0.0</td>\n",
              "      <td>141.0</td>\n",
              "      <td>360.0</td>\n",
              "      <td>1.0</td>\n",
              "      <td>Urban</td>\n",
              "      <td>Y</td>\n",
              "    </tr>\n",
              "    <tr>\n",
              "      <th>...</th>\n",
              "      <td>...</td>\n",
              "      <td>...</td>\n",
              "      <td>...</td>\n",
              "      <td>...</td>\n",
              "      <td>...</td>\n",
              "      <td>...</td>\n",
              "      <td>...</td>\n",
              "      <td>...</td>\n",
              "      <td>...</td>\n",
              "      <td>...</td>\n",
              "      <td>...</td>\n",
              "      <td>...</td>\n",
              "      <td>...</td>\n",
              "    </tr>\n",
              "    <tr>\n",
              "      <th>609</th>\n",
              "      <td>LP002978</td>\n",
              "      <td>Female</td>\n",
              "      <td>No</td>\n",
              "      <td>0</td>\n",
              "      <td>Graduate</td>\n",
              "      <td>No</td>\n",
              "      <td>2900</td>\n",
              "      <td>0.0</td>\n",
              "      <td>71.0</td>\n",
              "      <td>360.0</td>\n",
              "      <td>1.0</td>\n",
              "      <td>Rural</td>\n",
              "      <td>Y</td>\n",
              "    </tr>\n",
              "    <tr>\n",
              "      <th>610</th>\n",
              "      <td>LP002979</td>\n",
              "      <td>Male</td>\n",
              "      <td>Yes</td>\n",
              "      <td>3+</td>\n",
              "      <td>Graduate</td>\n",
              "      <td>No</td>\n",
              "      <td>4106</td>\n",
              "      <td>0.0</td>\n",
              "      <td>40.0</td>\n",
              "      <td>180.0</td>\n",
              "      <td>1.0</td>\n",
              "      <td>Rural</td>\n",
              "      <td>Y</td>\n",
              "    </tr>\n",
              "    <tr>\n",
              "      <th>611</th>\n",
              "      <td>LP002983</td>\n",
              "      <td>Male</td>\n",
              "      <td>Yes</td>\n",
              "      <td>1</td>\n",
              "      <td>Graduate</td>\n",
              "      <td>No</td>\n",
              "      <td>8072</td>\n",
              "      <td>240.0</td>\n",
              "      <td>253.0</td>\n",
              "      <td>360.0</td>\n",
              "      <td>1.0</td>\n",
              "      <td>Urban</td>\n",
              "      <td>Y</td>\n",
              "    </tr>\n",
              "    <tr>\n",
              "      <th>612</th>\n",
              "      <td>LP002984</td>\n",
              "      <td>Male</td>\n",
              "      <td>Yes</td>\n",
              "      <td>2</td>\n",
              "      <td>Graduate</td>\n",
              "      <td>No</td>\n",
              "      <td>7583</td>\n",
              "      <td>0.0</td>\n",
              "      <td>187.0</td>\n",
              "      <td>360.0</td>\n",
              "      <td>1.0</td>\n",
              "      <td>Urban</td>\n",
              "      <td>Y</td>\n",
              "    </tr>\n",
              "    <tr>\n",
              "      <th>613</th>\n",
              "      <td>LP002990</td>\n",
              "      <td>Female</td>\n",
              "      <td>No</td>\n",
              "      <td>0</td>\n",
              "      <td>Graduate</td>\n",
              "      <td>Yes</td>\n",
              "      <td>4583</td>\n",
              "      <td>0.0</td>\n",
              "      <td>133.0</td>\n",
              "      <td>360.0</td>\n",
              "      <td>0.0</td>\n",
              "      <td>Semiurban</td>\n",
              "      <td>N</td>\n",
              "    </tr>\n",
              "  </tbody>\n",
              "</table>\n",
              "<p>614 rows × 13 columns</p>\n",
              "</div>"
            ],
            "text/plain": [
              "      Loan_ID  Gender Married  ... Credit_History Property_Area Loan_Status\n",
              "0    LP001002    Male      No  ...            1.0         Urban           Y\n",
              "1    LP001003    Male     Yes  ...            1.0         Rural           N\n",
              "2    LP001005    Male     Yes  ...            1.0         Urban           Y\n",
              "3    LP001006    Male     Yes  ...            1.0         Urban           Y\n",
              "4    LP001008    Male      No  ...            1.0         Urban           Y\n",
              "..        ...     ...     ...  ...            ...           ...         ...\n",
              "609  LP002978  Female      No  ...            1.0         Rural           Y\n",
              "610  LP002979    Male     Yes  ...            1.0         Rural           Y\n",
              "611  LP002983    Male     Yes  ...            1.0         Urban           Y\n",
              "612  LP002984    Male     Yes  ...            1.0         Urban           Y\n",
              "613  LP002990  Female      No  ...            0.0     Semiurban           N\n",
              "\n",
              "[614 rows x 13 columns]"
            ]
          },
          "metadata": {
            "tags": []
          },
          "execution_count": 2
        }
      ]
    },
    {
      "cell_type": "code",
      "metadata": {
        "id": "JmjA9Te2BPRe",
        "colab_type": "code",
        "colab": {
          "base_uri": "https://localhost:8080/",
          "height": 34
        },
        "outputId": "e4f282f8-8ab2-4e77-c50e-6633717f4b60"
      },
      "source": [
        "df.shape\n"
      ],
      "execution_count": 3,
      "outputs": [
        {
          "output_type": "execute_result",
          "data": {
            "text/plain": [
              "(614, 13)"
            ]
          },
          "metadata": {
            "tags": []
          },
          "execution_count": 3
        }
      ]
    },
    {
      "cell_type": "code",
      "metadata": {
        "id": "ZOQcep15BVv9",
        "colab_type": "code",
        "colab": {
          "base_uri": "https://localhost:8080/",
          "height": 236
        },
        "outputId": "cf545f47-4134-432d-9ae8-828632b5655e"
      },
      "source": [
        "df.head()"
      ],
      "execution_count": 4,
      "outputs": [
        {
          "output_type": "execute_result",
          "data": {
            "text/html": [
              "<div>\n",
              "<style scoped>\n",
              "    .dataframe tbody tr th:only-of-type {\n",
              "        vertical-align: middle;\n",
              "    }\n",
              "\n",
              "    .dataframe tbody tr th {\n",
              "        vertical-align: top;\n",
              "    }\n",
              "\n",
              "    .dataframe thead th {\n",
              "        text-align: right;\n",
              "    }\n",
              "</style>\n",
              "<table border=\"1\" class=\"dataframe\">\n",
              "  <thead>\n",
              "    <tr style=\"text-align: right;\">\n",
              "      <th></th>\n",
              "      <th>Loan_ID</th>\n",
              "      <th>Gender</th>\n",
              "      <th>Married</th>\n",
              "      <th>Dependents</th>\n",
              "      <th>Education</th>\n",
              "      <th>Self_Employed</th>\n",
              "      <th>ApplicantIncome</th>\n",
              "      <th>CoapplicantIncome</th>\n",
              "      <th>LoanAmount</th>\n",
              "      <th>Loan_Amount_Term</th>\n",
              "      <th>Credit_History</th>\n",
              "      <th>Property_Area</th>\n",
              "      <th>Loan_Status</th>\n",
              "    </tr>\n",
              "  </thead>\n",
              "  <tbody>\n",
              "    <tr>\n",
              "      <th>0</th>\n",
              "      <td>LP001002</td>\n",
              "      <td>Male</td>\n",
              "      <td>No</td>\n",
              "      <td>0</td>\n",
              "      <td>Graduate</td>\n",
              "      <td>No</td>\n",
              "      <td>5849</td>\n",
              "      <td>0.0</td>\n",
              "      <td>NaN</td>\n",
              "      <td>360.0</td>\n",
              "      <td>1.0</td>\n",
              "      <td>Urban</td>\n",
              "      <td>Y</td>\n",
              "    </tr>\n",
              "    <tr>\n",
              "      <th>1</th>\n",
              "      <td>LP001003</td>\n",
              "      <td>Male</td>\n",
              "      <td>Yes</td>\n",
              "      <td>1</td>\n",
              "      <td>Graduate</td>\n",
              "      <td>No</td>\n",
              "      <td>4583</td>\n",
              "      <td>1508.0</td>\n",
              "      <td>128.0</td>\n",
              "      <td>360.0</td>\n",
              "      <td>1.0</td>\n",
              "      <td>Rural</td>\n",
              "      <td>N</td>\n",
              "    </tr>\n",
              "    <tr>\n",
              "      <th>2</th>\n",
              "      <td>LP001005</td>\n",
              "      <td>Male</td>\n",
              "      <td>Yes</td>\n",
              "      <td>0</td>\n",
              "      <td>Graduate</td>\n",
              "      <td>Yes</td>\n",
              "      <td>3000</td>\n",
              "      <td>0.0</td>\n",
              "      <td>66.0</td>\n",
              "      <td>360.0</td>\n",
              "      <td>1.0</td>\n",
              "      <td>Urban</td>\n",
              "      <td>Y</td>\n",
              "    </tr>\n",
              "    <tr>\n",
              "      <th>3</th>\n",
              "      <td>LP001006</td>\n",
              "      <td>Male</td>\n",
              "      <td>Yes</td>\n",
              "      <td>0</td>\n",
              "      <td>Not Graduate</td>\n",
              "      <td>No</td>\n",
              "      <td>2583</td>\n",
              "      <td>2358.0</td>\n",
              "      <td>120.0</td>\n",
              "      <td>360.0</td>\n",
              "      <td>1.0</td>\n",
              "      <td>Urban</td>\n",
              "      <td>Y</td>\n",
              "    </tr>\n",
              "    <tr>\n",
              "      <th>4</th>\n",
              "      <td>LP001008</td>\n",
              "      <td>Male</td>\n",
              "      <td>No</td>\n",
              "      <td>0</td>\n",
              "      <td>Graduate</td>\n",
              "      <td>No</td>\n",
              "      <td>6000</td>\n",
              "      <td>0.0</td>\n",
              "      <td>141.0</td>\n",
              "      <td>360.0</td>\n",
              "      <td>1.0</td>\n",
              "      <td>Urban</td>\n",
              "      <td>Y</td>\n",
              "    </tr>\n",
              "  </tbody>\n",
              "</table>\n",
              "</div>"
            ],
            "text/plain": [
              "    Loan_ID Gender Married  ... Credit_History Property_Area Loan_Status\n",
              "0  LP001002   Male      No  ...            1.0         Urban           Y\n",
              "1  LP001003   Male     Yes  ...            1.0         Rural           N\n",
              "2  LP001005   Male     Yes  ...            1.0         Urban           Y\n",
              "3  LP001006   Male     Yes  ...            1.0         Urban           Y\n",
              "4  LP001008   Male      No  ...            1.0         Urban           Y\n",
              "\n",
              "[5 rows x 13 columns]"
            ]
          },
          "metadata": {
            "tags": []
          },
          "execution_count": 4
        }
      ]
    },
    {
      "cell_type": "markdown",
      "metadata": {
        "id": "f7zI_I_RBnEh",
        "colab_type": "text"
      },
      "source": [
        "**Problem-1** Idenitfy & Remove the field that is providing only unique information about records .Capture it in another dataframe"
      ]
    },
    {
      "cell_type": "code",
      "metadata": {
        "id": "TLj5N_E_BXrs",
        "colab_type": "code",
        "colab": {
          "base_uri": "https://localhost:8080/",
          "height": 236
        },
        "outputId": "5925f92c-5f9d-4054-e4fd-4d41f8fe3a6e"
      },
      "source": [
        "for i in df:\n",
        "   if df[i].is_unique:\n",
        "     df=df.drop(i,axis=1) \n",
        "df.head()\n"
      ],
      "execution_count": 5,
      "outputs": [
        {
          "output_type": "execute_result",
          "data": {
            "text/html": [
              "<div>\n",
              "<style scoped>\n",
              "    .dataframe tbody tr th:only-of-type {\n",
              "        vertical-align: middle;\n",
              "    }\n",
              "\n",
              "    .dataframe tbody tr th {\n",
              "        vertical-align: top;\n",
              "    }\n",
              "\n",
              "    .dataframe thead th {\n",
              "        text-align: right;\n",
              "    }\n",
              "</style>\n",
              "<table border=\"1\" class=\"dataframe\">\n",
              "  <thead>\n",
              "    <tr style=\"text-align: right;\">\n",
              "      <th></th>\n",
              "      <th>Gender</th>\n",
              "      <th>Married</th>\n",
              "      <th>Dependents</th>\n",
              "      <th>Education</th>\n",
              "      <th>Self_Employed</th>\n",
              "      <th>ApplicantIncome</th>\n",
              "      <th>CoapplicantIncome</th>\n",
              "      <th>LoanAmount</th>\n",
              "      <th>Loan_Amount_Term</th>\n",
              "      <th>Credit_History</th>\n",
              "      <th>Property_Area</th>\n",
              "      <th>Loan_Status</th>\n",
              "    </tr>\n",
              "  </thead>\n",
              "  <tbody>\n",
              "    <tr>\n",
              "      <th>0</th>\n",
              "      <td>Male</td>\n",
              "      <td>No</td>\n",
              "      <td>0</td>\n",
              "      <td>Graduate</td>\n",
              "      <td>No</td>\n",
              "      <td>5849</td>\n",
              "      <td>0.0</td>\n",
              "      <td>NaN</td>\n",
              "      <td>360.0</td>\n",
              "      <td>1.0</td>\n",
              "      <td>Urban</td>\n",
              "      <td>Y</td>\n",
              "    </tr>\n",
              "    <tr>\n",
              "      <th>1</th>\n",
              "      <td>Male</td>\n",
              "      <td>Yes</td>\n",
              "      <td>1</td>\n",
              "      <td>Graduate</td>\n",
              "      <td>No</td>\n",
              "      <td>4583</td>\n",
              "      <td>1508.0</td>\n",
              "      <td>128.0</td>\n",
              "      <td>360.0</td>\n",
              "      <td>1.0</td>\n",
              "      <td>Rural</td>\n",
              "      <td>N</td>\n",
              "    </tr>\n",
              "    <tr>\n",
              "      <th>2</th>\n",
              "      <td>Male</td>\n",
              "      <td>Yes</td>\n",
              "      <td>0</td>\n",
              "      <td>Graduate</td>\n",
              "      <td>Yes</td>\n",
              "      <td>3000</td>\n",
              "      <td>0.0</td>\n",
              "      <td>66.0</td>\n",
              "      <td>360.0</td>\n",
              "      <td>1.0</td>\n",
              "      <td>Urban</td>\n",
              "      <td>Y</td>\n",
              "    </tr>\n",
              "    <tr>\n",
              "      <th>3</th>\n",
              "      <td>Male</td>\n",
              "      <td>Yes</td>\n",
              "      <td>0</td>\n",
              "      <td>Not Graduate</td>\n",
              "      <td>No</td>\n",
              "      <td>2583</td>\n",
              "      <td>2358.0</td>\n",
              "      <td>120.0</td>\n",
              "      <td>360.0</td>\n",
              "      <td>1.0</td>\n",
              "      <td>Urban</td>\n",
              "      <td>Y</td>\n",
              "    </tr>\n",
              "    <tr>\n",
              "      <th>4</th>\n",
              "      <td>Male</td>\n",
              "      <td>No</td>\n",
              "      <td>0</td>\n",
              "      <td>Graduate</td>\n",
              "      <td>No</td>\n",
              "      <td>6000</td>\n",
              "      <td>0.0</td>\n",
              "      <td>141.0</td>\n",
              "      <td>360.0</td>\n",
              "      <td>1.0</td>\n",
              "      <td>Urban</td>\n",
              "      <td>Y</td>\n",
              "    </tr>\n",
              "  </tbody>\n",
              "</table>\n",
              "</div>"
            ],
            "text/plain": [
              "  Gender Married Dependents  ... Credit_History Property_Area  Loan_Status\n",
              "0   Male      No          0  ...            1.0         Urban            Y\n",
              "1   Male     Yes          1  ...            1.0         Rural            N\n",
              "2   Male     Yes          0  ...            1.0         Urban            Y\n",
              "3   Male     Yes          0  ...            1.0         Urban            Y\n",
              "4   Male      No          0  ...            1.0         Urban            Y\n",
              "\n",
              "[5 rows x 12 columns]"
            ]
          },
          "metadata": {
            "tags": []
          },
          "execution_count": 5
        }
      ]
    },
    {
      "cell_type": "markdown",
      "metadata": {
        "id": "1a4K2RCPIeVM",
        "colab_type": "text"
      },
      "source": [
        "**Problem-2** \n",
        "Identifying Continous & Categorical Columns"
      ]
    },
    {
      "cell_type": "markdown",
      "metadata": {
        "id": "QXQgVSy0Kb5S",
        "colab_type": "text"
      },
      "source": [
        "# Continous"
      ]
    },
    {
      "cell_type": "code",
      "metadata": {
        "id": "VeWvlqHbEsE2",
        "colab_type": "code",
        "colab": {
          "base_uri": "https://localhost:8080/",
          "height": 100
        },
        "outputId": "a26c3b53-79bc-4226-d262-8e65254c4320"
      },
      "source": [
        "\n",
        "num_cols = df._get_numeric_data().columns\n",
        "num_cols\n",
        "\n",
        "for i in num_cols:\n",
        "  print(str(i)+'\\t'+str(len(df[i].unique())))"
      ],
      "execution_count": 6,
      "outputs": [
        {
          "output_type": "stream",
          "text": [
            "ApplicantIncome\t505\n",
            "CoapplicantIncome\t287\n",
            "LoanAmount\t204\n",
            "Loan_Amount_Term\t11\n",
            "Credit_History\t3\n"
          ],
          "name": "stdout"
        }
      ]
    },
    {
      "cell_type": "markdown",
      "metadata": {
        "id": "Lhs7NkVrKf6n",
        "colab_type": "text"
      },
      "source": [
        "#Categorical Columns"
      ]
    },
    {
      "cell_type": "code",
      "metadata": {
        "id": "TsdEFjbI7jZO",
        "colab_type": "code",
        "colab": {
          "base_uri": "https://localhost:8080/",
          "height": 133
        },
        "outputId": "9d6901ee-6a4c-4391-9ac8-a7de44d7d483"
      },
      "source": [
        "for j in list(set(df.columns) - set(num_cols)):\n",
        "  print(str(j)+'\\t'+str(len(df[j].unique())))"
      ],
      "execution_count": 7,
      "outputs": [
        {
          "output_type": "stream",
          "text": [
            "Self_Employed\t3\n",
            "Gender\t3\n",
            "Loan_Status\t2\n",
            "Dependents\t5\n",
            "Property_Area\t3\n",
            "Education\t2\n",
            "Married\t3\n"
          ],
          "name": "stdout"
        }
      ]
    },
    {
      "cell_type": "markdown",
      "metadata": {
        "id": "67v-QLcFK1JJ",
        "colab_type": "text"
      },
      "source": [
        "**Problem-3** \n",
        "Performing Uni-variate Analysis with Plots.Record your Observations"
      ]
    },
    {
      "cell_type": "code",
      "metadata": {
        "id": "-YM9Z2uwKWiT",
        "colab_type": "code",
        "colab": {
          "base_uri": "https://localhost:8080/",
          "height": 722
        },
        "outputId": "198b391f-5e77-4f86-8c1b-85901de1af47"
      },
      "source": [
        "df.hist(figsize=[15,10])"
      ],
      "execution_count": 8,
      "outputs": [
        {
          "output_type": "execute_result",
          "data": {
            "text/plain": [
              "array([[<matplotlib.axes._subplots.AxesSubplot object at 0x7f5b496337f0>,\n",
              "        <matplotlib.axes._subplots.AxesSubplot object at 0x7f5b4958ca58>],\n",
              "       [<matplotlib.axes._subplots.AxesSubplot object at 0x7f5b495c0cc0>,\n",
              "        <matplotlib.axes._subplots.AxesSubplot object at 0x7f5b49572f28>],\n",
              "       [<matplotlib.axes._subplots.AxesSubplot object at 0x7f5b495331d0>,\n",
              "        <matplotlib.axes._subplots.AxesSubplot object at 0x7f5b494e5438>]],\n",
              "      dtype=object)"
            ]
          },
          "metadata": {
            "tags": []
          },
          "execution_count": 8
        },
        {
          "output_type": "display_data",
          "data": {
            "image/png": "[encoded data removed]",
            "text/plain": [
              "<Figure size 1080x720 with 6 Axes>"
            ]
          },
          "metadata": {
            "tags": [],
            "needs_background": "light"
          }
        }
      ]
    },
    {
      "cell_type": "code",
      "metadata": {
        "id": "qsrRIMW6LKjn",
        "colab_type": "code",
        "colab": {
          "base_uri": "https://localhost:8080/",
          "height": 321
        },
        "outputId": "744a292c-61b2-4e35-f3c3-ce44114ca9f6"
      },
      "source": [
        "df['Gender'].value_counts().plot.bar().set_xlabel('Gender')"
      ],
      "execution_count": 9,
      "outputs": [
        {
          "output_type": "execute_result",
          "data": {
            "text/plain": [
              "Text(0.5, 0, 'Gender')"
            ]
          },
          "metadata": {
            "tags": []
          },
          "execution_count": 9
        },
        {
          "output_type": "display_data",
          "data": {
            "image/png": "[encoded data removed]",
            "text/plain": [
              "<Figure size 432x288 with 1 Axes>"
            ]
          },
          "metadata": {
            "tags": [],
            "needs_background": "light"
          }
        }
      ]
    },
    {
      "cell_type": "code",
      "metadata": {
        "id": "R5AsU1tWP1J1",
        "colab_type": "code",
        "colab": {
          "base_uri": "https://localhost:8080/",
          "height": 302
        },
        "outputId": "3f1176af-47fe-4aba-a3ed-dc541756f7aa"
      },
      "source": [
        "df['Married'].value_counts().plot.bar().set_xlabel('Marital Status')"
      ],
      "execution_count": 10,
      "outputs": [
        {
          "output_type": "execute_result",
          "data": {
            "text/plain": [
              "Text(0.5, 0, 'Marital Status')"
            ]
          },
          "metadata": {
            "tags": []
          },
          "execution_count": 10
        },
        {
          "output_type": "display_data",
          "data": {
            "image/png": "[encoded data removed]",
            "text/plain": [
              "<Figure size 432x288 with 1 Axes>"
            ]
          },
          "metadata": {
            "tags": [],
            "needs_background": "light"
          }
        }
      ]
    },
    {
      "cell_type": "code",
      "metadata": {
        "id": "XYO4MbANP13G",
        "colab_type": "code",
        "colab": {
          "base_uri": "https://localhost:8080/",
          "height": 301
        },
        "outputId": "66fcdaa0-7213-4e8a-8b96-5a3da1a649e4"
      },
      "source": [
        "df['Dependents'].value_counts().plot.bar().set_xlabel('Number of People Dependent On Applicant')"
      ],
      "execution_count": 11,
      "outputs": [
        {
          "output_type": "execute_result",
          "data": {
            "text/plain": [
              "Text(0.5, 0, 'Number of People Dependent On Applicant')"
            ]
          },
          "metadata": {
            "tags": []
          },
          "execution_count": 11
        },
        {
          "output_type": "display_data",
          "data": {
            "image/png": "[encoded data removed]",
            "text/plain": [
              "<Figure size 432x288 with 1 Axes>"
            ]
          },
          "metadata": {
            "tags": [],
            "needs_background": "light"
          }
        }
      ]
    },
    {
      "cell_type": "code",
      "metadata": {
        "id": "mdz3nDW4P2Mp",
        "colab_type": "code",
        "colab": {
          "base_uri": "https://localhost:8080/",
          "height": 356
        },
        "outputId": "eb8ca2a3-ecae-478e-dced-afa970284a18"
      },
      "source": [
        "df['Education'].value_counts().plot.bar().set_xlabel('Graudate/Non_Graduate')"
      ],
      "execution_count": 12,
      "outputs": [
        {
          "output_type": "execute_result",
          "data": {
            "text/plain": [
              "Text(0.5, 0, 'Graudate/Non_Graduate')"
            ]
          },
          "metadata": {
            "tags": []
          },
          "execution_count": 12
        },
        {
          "output_type": "display_data",
          "data": {
            "image/png": "[encoded data removed]",
            "text/plain": [
              "<Figure size 432x288 with 1 Axes>"
            ]
          },
          "metadata": {
            "tags": [],
            "needs_background": "light"
          }
        }
      ]
    },
    {
      "cell_type": "code",
      "metadata": {
        "id": "OjVPpXEBQBRf",
        "colab_type": "code",
        "colab": {
          "base_uri": "https://localhost:8080/",
          "height": 302
        },
        "outputId": "31b6b819-a360-4e0b-a45b-7478af6097a8"
      },
      "source": [
        "df['Self_Employed'].value_counts().plot.bar().set_xlabel('Employment Type')"
      ],
      "execution_count": 13,
      "outputs": [
        {
          "output_type": "execute_result",
          "data": {
            "text/plain": [
              "Text(0.5, 0, 'Employment Type')"
            ]
          },
          "metadata": {
            "tags": []
          },
          "execution_count": 13
        },
        {
          "output_type": "display_data",
          "data": {
            "image/png": "[encoded data removed]",
            "text/plain": [
              "<Figure size 432x288 with 1 Axes>"
            ]
          },
          "metadata": {
            "tags": [],
            "needs_background": "light"
          }
        }
      ]
    },
    {
      "cell_type": "code",
      "metadata": {
        "id": "HwYENFjJQDv2",
        "colab_type": "code",
        "colab": {
          "base_uri": "https://localhost:8080/",
          "height": 340
        },
        "outputId": "3655ed3e-9469-43e1-dc3c-b897d7ccf6c2"
      },
      "source": [
        "df['Property_Area'].value_counts().plot.bar().set_xlabel('Kind Of Land owned by Applicant')\n"
      ],
      "execution_count": 14,
      "outputs": [
        {
          "output_type": "execute_result",
          "data": {
            "text/plain": [
              "Text(0.5, 0, 'Kind Of Land owned by Applicant')"
            ]
          },
          "metadata": {
            "tags": []
          },
          "execution_count": 14
        },
        {
          "output_type": "display_data",
          "data": {
            "image/png": "[encoded data removed]",
            "text/plain": [
              "<Figure size 432x288 with 1 Axes>"
            ]
          },
          "metadata": {
            "tags": [],
            "needs_background": "light"
          }
        }
      ]
    },
    {
      "cell_type": "markdown",
      "metadata": {
        "id": "5WmEvB2YReF6",
        "colab_type": "text"
      },
      "source": [
        "**Problem-4**\n",
        "Perform Bi-variate Analysis among all Independent variables.Draw appropriate Plots , mention observations"
      ]
    },
    {
      "cell_type": "code",
      "metadata": {
        "id": "LNThNtl5QHsk",
        "colab_type": "code",
        "colab": {
          "base_uri": "https://localhost:8080/",
          "height": 295
        },
        "outputId": "44a94601-5547-4921-84e3-7cde4c9cf470"
      },
      "source": [
        "df.plot.scatter(x='ApplicantIncome', y='LoanAmount')"
      ],
      "execution_count": 15,
      "outputs": [
        {
          "output_type": "execute_result",
          "data": {
            "text/plain": [
              "<matplotlib.axes._subplots.AxesSubplot at 0x7f5b48bfe7b8>"
            ]
          },
          "metadata": {
            "tags": []
          },
          "execution_count": 15
        },
        {
          "output_type": "display_data",
          "data": {
            "image/png": "[encoded data removed]",
            "text/plain": [
              "<Figure size 432x288 with 1 Axes>"
            ]
          },
          "metadata": {
            "tags": [],
            "needs_background": "light"
          }
        }
      ]
    },
    {
      "cell_type": "code",
      "metadata": {
        "id": "rF-tL5VSWIpq",
        "colab_type": "code",
        "colab": {
          "base_uri": "https://localhost:8080/",
          "height": 296
        },
        "outputId": "2ff88968-92b0-4a32-e0ea-382f809abb75"
      },
      "source": [
        "df.plot.scatter(x= 'Loan_Status',y= 'ApplicantIncome')"
      ],
      "execution_count": 16,
      "outputs": [
        {
          "output_type": "execute_result",
          "data": {
            "text/plain": [
              "<matplotlib.axes._subplots.AxesSubplot at 0x7f5b463f1cf8>"
            ]
          },
          "metadata": {
            "tags": []
          },
          "execution_count": 16
        },
        {
          "output_type": "display_data",
          "data": {
            "image/png": "[encoded data removed]",
            "text/plain": [
              "<Figure size 432x288 with 1 Axes>"
            ]
          },
          "metadata": {
            "tags": [],
            "needs_background": "light"
          }
        }
      ]
    },
    {
      "cell_type": "code",
      "metadata": {
        "id": "9CzucwI8WMrk",
        "colab_type": "code",
        "colab": {
          "base_uri": "https://localhost:8080/",
          "height": 296
        },
        "outputId": "cf320cdb-2865-4c44-a9e5-f7fba4d82e18"
      },
      "source": [
        "df.plot.scatter(x= 'Loan_Status',y= 'CoapplicantIncome')"
      ],
      "execution_count": 17,
      "outputs": [
        {
          "output_type": "execute_result",
          "data": {
            "text/plain": [
              "<matplotlib.axes._subplots.AxesSubplot at 0x7f5b48e7fcc0>"
            ]
          },
          "metadata": {
            "tags": []
          },
          "execution_count": 17
        },
        {
          "output_type": "display_data",
          "data": {
            "image/png": "[encoded data removed]",
            "text/plain": [
              "<Figure size 432x288 with 1 Axes>"
            ]
          },
          "metadata": {
            "tags": [],
            "needs_background": "light"
          }
        }
      ]
    },
    {
      "cell_type": "code",
      "metadata": {
        "id": "BOAm9EvOWQ8a",
        "colab_type": "code",
        "colab": {
          "base_uri": "https://localhost:8080/",
          "height": 296
        },
        "outputId": "0493558e-7849-4409-b4b6-093d821fbd9e"
      },
      "source": [
        "\n",
        "df.plot.scatter(x= 'Loan_Status',y= 'LoanAmount')"
      ],
      "execution_count": 18,
      "outputs": [
        {
          "output_type": "execute_result",
          "data": {
            "text/plain": [
              "<matplotlib.axes._subplots.AxesSubplot at 0x7f5b493b9ef0>"
            ]
          },
          "metadata": {
            "tags": []
          },
          "execution_count": 18
        },
        {
          "output_type": "display_data",
          "data": {
            "image/png": "[encoded data removed]",
            "text/plain": [
              "<Figure size 432x288 with 1 Axes>"
            ]
          },
          "metadata": {
            "tags": [],
            "needs_background": "light"
          }
        }
      ]
    },
    {
      "cell_type": "code",
      "metadata": {
        "id": "Qu67pDcmWXHg",
        "colab_type": "code",
        "colab": {}
      },
      "source": [
        ""
      ],
      "execution_count": 0,
      "outputs": []
    },
    {
      "cell_type": "markdown",
      "metadata": {
        "id": "7dPGGkEAV09u",
        "colab_type": "text"
      },
      "source": [
        "**Problem-5**\n",
        "How is the class distribution (Y/N) in Label(Target) Variable ?\n"
      ]
    },
    {
      "cell_type": "code",
      "metadata": {
        "id": "nLCE2Km6TF5d",
        "colab_type": "code",
        "colab": {
          "base_uri": "https://localhost:8080/",
          "height": 159
        },
        "outputId": "65cbb94a-d83a-40c1-e98e-b1d3fb35a940"
      },
      "source": [
        "df.groupby('Loan_Status').count()"
      ],
      "execution_count": 19,
      "outputs": [
        {
          "output_type": "execute_result",
          "data": {
            "text/html": [
              "<div>\n",
              "<style scoped>\n",
              "    .dataframe tbody tr th:only-of-type {\n",
              "        vertical-align: middle;\n",
              "    }\n",
              "\n",
              "    .dataframe tbody tr th {\n",
              "        vertical-align: top;\n",
              "    }\n",
              "\n",
              "    .dataframe thead th {\n",
              "        text-align: right;\n",
              "    }\n",
              "</style>\n",
              "<table border=\"1\" class=\"dataframe\">\n",
              "  <thead>\n",
              "    <tr style=\"text-align: right;\">\n",
              "      <th></th>\n",
              "      <th>Gender</th>\n",
              "      <th>Married</th>\n",
              "      <th>Dependents</th>\n",
              "      <th>Education</th>\n",
              "      <th>Self_Employed</th>\n",
              "      <th>ApplicantIncome</th>\n",
              "      <th>CoapplicantIncome</th>\n",
              "      <th>LoanAmount</th>\n",
              "      <th>Loan_Amount_Term</th>\n",
              "      <th>Credit_History</th>\n",
              "      <th>Property_Area</th>\n",
              "    </tr>\n",
              "    <tr>\n",
              "      <th>Loan_Status</th>\n",
              "      <th></th>\n",
              "      <th></th>\n",
              "      <th></th>\n",
              "      <th></th>\n",
              "      <th></th>\n",
              "      <th></th>\n",
              "      <th></th>\n",
              "      <th></th>\n",
              "      <th></th>\n",
              "      <th></th>\n",
              "      <th></th>\n",
              "    </tr>\n",
              "  </thead>\n",
              "  <tbody>\n",
              "    <tr>\n",
              "      <th>N</th>\n",
              "      <td>187</td>\n",
              "      <td>192</td>\n",
              "      <td>186</td>\n",
              "      <td>192</td>\n",
              "      <td>183</td>\n",
              "      <td>192</td>\n",
              "      <td>192</td>\n",
              "      <td>181</td>\n",
              "      <td>186</td>\n",
              "      <td>179</td>\n",
              "      <td>192</td>\n",
              "    </tr>\n",
              "    <tr>\n",
              "      <th>Y</th>\n",
              "      <td>414</td>\n",
              "      <td>419</td>\n",
              "      <td>413</td>\n",
              "      <td>422</td>\n",
              "      <td>399</td>\n",
              "      <td>422</td>\n",
              "      <td>422</td>\n",
              "      <td>411</td>\n",
              "      <td>414</td>\n",
              "      <td>385</td>\n",
              "      <td>422</td>\n",
              "    </tr>\n",
              "  </tbody>\n",
              "</table>\n",
              "</div>"
            ],
            "text/plain": [
              "             Gender  Married  ...  Credit_History  Property_Area\n",
              "Loan_Status                   ...                               \n",
              "N               187      192  ...             179            192\n",
              "Y               414      419  ...             385            422\n",
              "\n",
              "[2 rows x 11 columns]"
            ]
          },
          "metadata": {
            "tags": []
          },
          "execution_count": 19
        }
      ]
    },
    {
      "cell_type": "code",
      "metadata": {
        "id": "Lga05IPFWbzf",
        "colab_type": "code",
        "colab": {
          "base_uri": "https://localhost:8080/",
          "height": 274
        },
        "outputId": "c0acc890-54f4-49c0-a04b-9c7d885778bb"
      },
      "source": [
        "\n",
        "df.groupby('Loan_Status').count().boxplot(figsize=[25,5],fontsize=10)\n",
        "\n",
        "# df.groupby('Loan_Status').count().subplots(figsize=[25,5],fontsize=10)"
      ],
      "execution_count": 20,
      "outputs": [
        {
          "output_type": "execute_result",
          "data": {
            "text/plain": [
              "<matplotlib.axes._subplots.AxesSubplot at 0x7f5b48d41390>"
            ]
          },
          "metadata": {
            "tags": []
          },
          "execution_count": 20
        },
        {
          "output_type": "display_data",
          "data": {
            "image/png": "[encoded data removed]",
            "text/plain": [
              "<Figure size 1800x360 with 1 Axes>"
            ]
          },
          "metadata": {
            "tags": [],
            "needs_background": "light"
          }
        }
      ]
    },
    {
      "cell_type": "markdown",
      "metadata": {
        "id": "sa7pTuC0Y96u",
        "colab_type": "text"
      },
      "source": [
        "**Problem-7**\n",
        "Identify the Independent Variables that have missing values."
      ]
    },
    {
      "cell_type": "code",
      "metadata": {
        "id": "Cyecj1jYW-rk",
        "colab_type": "code",
        "colab": {
          "base_uri": "https://localhost:8080/",
          "height": 373
        },
        "outputId": "6f635655-bd85-4488-bd1c-dae7f59ca79c"
      },
      "source": [
        "cols = df.columns \n",
        "colours = ['#80eb34', '#eb4034']\n",
        "se.heatmap(df[cols].isnull(), cmap=se.color_palette(colours))"
      ],
      "execution_count": 21,
      "outputs": [
        {
          "output_type": "execute_result",
          "data": {
            "text/plain": [
              "<matplotlib.axes._subplots.AxesSubplot at 0x7f5b461532b0>"
            ]
          },
          "metadata": {
            "tags": []
          },
          "execution_count": 21
        },
        {
          "output_type": "display_data",
          "data": {
            "image/png": "[encoded data removed]",
            "text/plain": [
              "<Figure size 432x288 with 2 Axes>"
            ]
          },
          "metadata": {
            "tags": [],
            "needs_background": "light"
          }
        }
      ]
    },
    {
      "cell_type": "code",
      "metadata": {
        "id": "bgdQszUJay7e",
        "colab_type": "code",
        "colab": {
          "base_uri": "https://localhost:8080/",
          "height": 216
        },
        "outputId": "04ba1c5c-a015-4412-bb1b-13b5c578c80f"
      },
      "source": [
        "for col in df.columns:\n",
        "    pct_missing = np.mean(df[col].isnull())\n",
        "    print('{} - {}%'.format(col, round(pct_missing*100)))"
      ],
      "execution_count": 22,
      "outputs": [
        {
          "output_type": "stream",
          "text": [
            "Gender - 2.0%\n",
            "Married - 0.0%\n",
            "Dependents - 2.0%\n",
            "Education - 0.0%\n",
            "Self_Employed - 5.0%\n",
            "ApplicantIncome - 0.0%\n",
            "CoapplicantIncome - 0.0%\n",
            "LoanAmount - 4.0%\n",
            "Loan_Amount_Term - 2.0%\n",
            "Credit_History - 8.0%\n",
            "Property_Area - 0.0%\n",
            "Loan_Status - 0.0%\n"
          ],
          "name": "stdout"
        }
      ]
    },
    {
      "cell_type": "markdown",
      "metadata": {
        "id": "PrmnQV3eafGS",
        "colab_type": "text"
      },
      "source": [
        "**Problem-8**\n",
        "Handle missing values appropriately , explain the technique applied for each case"
      ]
    },
    {
      "cell_type": "code",
      "metadata": {
        "id": "tn0dvtijZg4D",
        "colab_type": "code",
        "colab": {
          "base_uri": "https://localhost:8080/",
          "height": 410
        },
        "outputId": "93cae8c0-e7ee-4c1f-f59b-97d81ce38f8f"
      },
      "source": [
        "#Missing data Histogram\n",
        "# first create missing indicator for features with missing data\n",
        "for col in df.columns:\n",
        "    missing = df[col].isnull()\n",
        "    num_missing = np.sum(missing)\n",
        "    \n",
        "    if num_missing > 0:  \n",
        "        print('created missing indicator for: {}'.format(col))\n",
        "        df['{}_ismissing'.format(col)] = missing\n",
        "\n",
        "\n",
        "# then based on the indicator, plot the histogram of missing values\n",
        "ismissing_cols = [col for col in df.columns if 'ismissing' in col]\n",
        "df['num_missing'] = df[ismissing_cols].sum(axis=1)\n",
        "\n",
        "df['num_missing'].value_counts().reset_index().sort_values(by='index').plot.bar(x='index', y='num_missing')"
      ],
      "execution_count": 23,
      "outputs": [
        {
          "output_type": "stream",
          "text": [
            "created missing indicator for: Gender\n",
            "created missing indicator for: Married\n",
            "created missing indicator for: Dependents\n",
            "created missing indicator for: Self_Employed\n",
            "created missing indicator for: LoanAmount\n",
            "created missing indicator for: Loan_Amount_Term\n",
            "created missing indicator for: Credit_History\n"
          ],
          "name": "stdout"
        },
        {
          "output_type": "execute_result",
          "data": {
            "text/plain": [
              "<matplotlib.axes._subplots.AxesSubplot at 0x7f5b44e10c18>"
            ]
          },
          "metadata": {
            "tags": []
          },
          "execution_count": 23
        },
        {
          "output_type": "display_data",
          "data": {
            "image/png": "[encoded data removed]",
            "text/plain": [
              "<Figure size 432x288 with 1 Axes>"
            ]
          },
          "metadata": {
            "tags": [],
            "needs_background": "light"
          }
        }
      ]
    },
    {
      "cell_type": "code",
      "metadata": {
        "id": "Ej6uL6eQbas5",
        "colab_type": "code",
        "colab": {
          "base_uri": "https://localhost:8080/",
          "height": 50
        },
        "outputId": "8d93f9d3-db6e-4e1b-df8f-75246ef0e0ba"
      },
      "source": [
        "\n",
        "#Drop the observation\n",
        "# drop rows with a lot of missing values.\n",
        "ind_missing = df[df['num_missing'] > 35].index\n",
        "df_less_missing_rows = df.drop(ind_missing, axis=0)\n",
        "print(df.shape)\n",
        "print(df_less_missing_rows.shape)"
      ],
      "execution_count": 24,
      "outputs": [
        {
          "output_type": "stream",
          "text": [
            "(614, 20)\n",
            "(614, 20)\n"
          ],
          "name": "stdout"
        }
      ]
    },
    {
      "cell_type": "code",
      "metadata": {
        "id": "ELe7DOiYbexC",
        "colab_type": "code",
        "colab": {
          "base_uri": "https://localhost:8080/",
          "height": 1000
        },
        "outputId": "e3b12bab-7848-42eb-9c89-2db80287728f"
      },
      "source": [
        "#Impute the observation\n",
        "# replace missing values with the median.\n",
        "print(\"values before imputing\")\n",
        "for v in df['LoanAmount']:\n",
        "    print(v)\n",
        "med = df['LoanAmount'].median()\n",
        "print(\"Median\")\n",
        "print(med)\n",
        "df['LoanAmount'] = df['LoanAmount'].fillna(med)\n",
        "print(\"values after imputing\")\n",
        "for k in df['LoanAmount']:\n",
        "    k"
      ],
      "execution_count": 25,
      "outputs": [
        {
          "output_type": "stream",
          "text": [
            "values before imputing\n",
            "nan\n",
            "128.0\n",
            "66.0\n",
            "120.0\n",
            "141.0\n",
            "267.0\n",
            "95.0\n",
            "158.0\n",
            "168.0\n",
            "349.0\n",
            "70.0\n",
            "109.0\n",
            "200.0\n",
            "114.0\n",
            "17.0\n",
            "125.0\n",
            "100.0\n",
            "76.0\n",
            "133.0\n",
            "115.0\n",
            "104.0\n",
            "315.0\n",
            "116.0\n",
            "112.0\n",
            "151.0\n",
            "191.0\n",
            "122.0\n",
            "110.0\n",
            "35.0\n",
            "120.0\n",
            "201.0\n",
            "74.0\n",
            "106.0\n",
            "114.0\n",
            "320.0\n",
            "nan\n",
            "100.0\n",
            "144.0\n",
            "184.0\n",
            "110.0\n",
            "80.0\n",
            "47.0\n",
            "75.0\n",
            "134.0\n",
            "96.0\n",
            "88.0\n",
            "44.0\n",
            "144.0\n",
            "120.0\n",
            "144.0\n",
            "100.0\n",
            "120.0\n",
            "112.0\n",
            "134.0\n",
            "286.0\n",
            "97.0\n",
            "96.0\n",
            "135.0\n",
            "180.0\n",
            "144.0\n",
            "120.0\n",
            "99.0\n",
            "165.0\n",
            "nan\n",
            "116.0\n",
            "258.0\n",
            "126.0\n",
            "312.0\n",
            "125.0\n",
            "136.0\n",
            "172.0\n",
            "97.0\n",
            "81.0\n",
            "95.0\n",
            "187.0\n",
            "113.0\n",
            "176.0\n",
            "110.0\n",
            "180.0\n",
            "130.0\n",
            "111.0\n",
            "nan\n",
            "167.0\n",
            "265.0\n",
            "50.0\n",
            "136.0\n",
            "99.0\n",
            "104.0\n",
            "210.0\n",
            "175.0\n",
            "131.0\n",
            "188.0\n",
            "81.0\n",
            "122.0\n",
            "25.0\n",
            "nan\n",
            "137.0\n",
            "50.0\n",
            "115.0\n",
            "131.0\n",
            "133.0\n",
            "151.0\n",
            "nan\n",
            "nan\n",
            "160.0\n",
            "100.0\n",
            "225.0\n",
            "120.0\n",
            "216.0\n",
            "94.0\n",
            "136.0\n",
            "139.0\n",
            "152.0\n",
            "nan\n",
            "118.0\n",
            "185.0\n",
            "154.0\n",
            "85.0\n",
            "175.0\n",
            "259.0\n",
            "180.0\n",
            "44.0\n",
            "137.0\n",
            "81.0\n",
            "194.0\n",
            "93.0\n",
            "370.0\n",
            "nan\n",
            "160.0\n",
            "182.0\n",
            "650.0\n",
            "74.0\n",
            "70.0\n",
            "25.0\n",
            "102.0\n",
            "290.0\n",
            "84.0\n",
            "88.0\n",
            "242.0\n",
            "129.0\n",
            "185.0\n",
            "168.0\n",
            "175.0\n",
            "122.0\n",
            "187.0\n",
            "100.0\n",
            "70.0\n",
            "30.0\n",
            "225.0\n",
            "125.0\n",
            "118.0\n",
            "152.0\n",
            "244.0\n",
            "113.0\n",
            "50.0\n",
            "600.0\n",
            "160.0\n",
            "187.0\n",
            "120.0\n",
            "255.0\n",
            "98.0\n",
            "275.0\n",
            "121.0\n",
            "158.0\n",
            "75.0\n",
            "182.0\n",
            "112.0\n",
            "129.0\n",
            "63.0\n",
            "200.0\n",
            "95.0\n",
            "700.0\n",
            "81.0\n",
            "187.0\n",
            "87.0\n",
            "116.0\n",
            "101.0\n",
            "495.0\n",
            "116.0\n",
            "102.0\n",
            "180.0\n",
            "67.0\n",
            "73.0\n",
            "260.0\n",
            "108.0\n",
            "120.0\n",
            "66.0\n",
            "58.0\n",
            "168.0\n",
            "188.0\n",
            "48.0\n",
            "164.0\n",
            "160.0\n",
            "76.0\n",
            "120.0\n",
            "170.0\n",
            "187.0\n",
            "120.0\n",
            "113.0\n",
            "83.0\n",
            "90.0\n",
            "166.0\n",
            "nan\n",
            "135.0\n",
            "124.0\n",
            "120.0\n",
            "80.0\n",
            "55.0\n",
            "59.0\n",
            "127.0\n",
            "214.0\n",
            "128.0\n",
            "240.0\n",
            "130.0\n",
            "137.0\n",
            "100.0\n",
            "135.0\n",
            "131.0\n",
            "72.0\n",
            "127.0\n",
            "60.0\n",
            "116.0\n",
            "144.0\n",
            "175.0\n",
            "128.0\n",
            "170.0\n",
            "138.0\n",
            "210.0\n",
            "158.0\n",
            "200.0\n",
            "104.0\n",
            "42.0\n",
            "120.0\n",
            "280.0\n",
            "140.0\n",
            "170.0\n",
            "255.0\n",
            "122.0\n",
            "112.0\n",
            "96.0\n",
            "120.0\n",
            "140.0\n",
            "155.0\n",
            "108.0\n",
            "123.0\n",
            "120.0\n",
            "112.0\n",
            "137.0\n",
            "123.0\n",
            "90.0\n",
            "201.0\n",
            "138.0\n",
            "104.0\n",
            "279.0\n",
            "192.0\n",
            "255.0\n",
            "115.0\n",
            "94.0\n",
            "304.0\n",
            "128.0\n",
            "330.0\n",
            "134.0\n",
            "155.0\n",
            "120.0\n",
            "128.0\n",
            "151.0\n",
            "150.0\n",
            "160.0\n",
            "135.0\n",
            "90.0\n",
            "30.0\n",
            "136.0\n",
            "126.0\n",
            "150.0\n",
            "90.0\n",
            "115.0\n",
            "207.0\n",
            "80.0\n",
            "436.0\n",
            "124.0\n",
            "158.0\n",
            "112.0\n",
            "78.0\n",
            "54.0\n",
            "nan\n",
            "89.0\n",
            "99.0\n",
            "120.0\n",
            "115.0\n",
            "187.0\n",
            "139.0\n",
            "127.0\n",
            "134.0\n",
            "143.0\n",
            "172.0\n",
            "110.0\n",
            "200.0\n",
            "135.0\n",
            "151.0\n",
            "113.0\n",
            "93.0\n",
            "105.0\n",
            "132.0\n",
            "96.0\n",
            "140.0\n",
            "nan\n",
            "135.0\n",
            "104.0\n",
            "480.0\n",
            "185.0\n",
            "84.0\n",
            "111.0\n",
            "56.0\n",
            "144.0\n",
            "159.0\n",
            "111.0\n",
            "120.0\n",
            "88.0\n",
            "112.0\n",
            "155.0\n",
            "115.0\n",
            "124.0\n",
            "nan\n",
            "132.0\n",
            "300.0\n",
            "376.0\n",
            "130.0\n",
            "184.0\n",
            "110.0\n",
            "67.0\n",
            "117.0\n",
            "98.0\n",
            "71.0\n",
            "490.0\n",
            "182.0\n",
            "70.0\n",
            "160.0\n",
            "176.0\n",
            "nan\n",
            "71.0\n",
            "173.0\n",
            "46.0\n",
            "158.0\n",
            "74.0\n",
            "125.0\n",
            "160.0\n",
            "152.0\n",
            "126.0\n",
            "259.0\n",
            "187.0\n",
            "228.0\n",
            "308.0\n",
            "95.0\n",
            "105.0\n",
            "130.0\n",
            "116.0\n",
            "165.0\n",
            "67.0\n",
            "100.0\n",
            "200.0\n",
            "81.0\n",
            "236.0\n",
            "130.0\n",
            "95.0\n",
            "141.0\n",
            "133.0\n",
            "96.0\n",
            "124.0\n",
            "175.0\n",
            "570.0\n",
            "55.0\n",
            "155.0\n",
            "380.0\n",
            "111.0\n",
            "110.0\n",
            "120.0\n",
            "130.0\n",
            "130.0\n",
            "71.0\n",
            "130.0\n",
            "128.0\n",
            "296.0\n",
            "156.0\n",
            "128.0\n",
            "100.0\n",
            "113.0\n",
            "132.0\n",
            "nan\n",
            "136.0\n",
            "125.0\n",
            "185.0\n",
            "275.0\n",
            "120.0\n",
            "113.0\n",
            "113.0\n",
            "135.0\n",
            "71.0\n",
            "95.0\n",
            "109.0\n",
            "103.0\n",
            "45.0\n",
            "65.0\n",
            "103.0\n",
            "53.0\n",
            "194.0\n",
            "115.0\n",
            "115.0\n",
            "66.0\n",
            "152.0\n",
            "360.0\n",
            "62.0\n",
            "160.0\n",
            "218.0\n",
            "110.0\n",
            "178.0\n",
            "60.0\n",
            "160.0\n",
            "239.0\n",
            "112.0\n",
            "138.0\n",
            "138.0\n",
            "80.0\n",
            "100.0\n",
            "110.0\n",
            "96.0\n",
            "121.0\n",
            "81.0\n",
            "133.0\n",
            "87.0\n",
            "60.0\n",
            "150.0\n",
            "105.0\n",
            "405.0\n",
            "143.0\n",
            "100.0\n",
            "nan\n",
            "50.0\n",
            "nan\n",
            "187.0\n",
            "138.0\n",
            "187.0\n",
            "180.0\n",
            "148.0\n",
            "152.0\n",
            "175.0\n",
            "130.0\n",
            "110.0\n",
            "55.0\n",
            "150.0\n",
            "190.0\n",
            "125.0\n",
            "60.0\n",
            "149.0\n",
            "90.0\n",
            "84.0\n",
            "96.0\n",
            "118.0\n",
            "173.0\n",
            "136.0\n",
            "160.0\n",
            "160.0\n",
            "128.0\n",
            "153.0\n",
            "132.0\n",
            "98.0\n",
            "140.0\n",
            "70.0\n",
            "110.0\n",
            "98.0\n",
            "110.0\n",
            "162.0\n",
            "113.0\n",
            "100.0\n",
            "93.0\n",
            "162.0\n",
            "150.0\n",
            "230.0\n",
            "132.0\n",
            "86.0\n",
            "nan\n",
            "154.0\n",
            "113.0\n",
            "128.0\n",
            "234.0\n",
            "246.0\n",
            "131.0\n",
            "80.0\n",
            "500.0\n",
            "160.0\n",
            "75.0\n",
            "96.0\n",
            "186.0\n",
            "110.0\n",
            "225.0\n",
            "119.0\n",
            "105.0\n",
            "107.0\n",
            "111.0\n",
            "95.0\n",
            "209.0\n",
            "113.0\n",
            "100.0\n",
            "208.0\n",
            "138.0\n",
            "124.0\n",
            "243.0\n",
            "480.0\n",
            "96.0\n",
            "188.0\n",
            "40.0\n",
            "100.0\n",
            "250.0\n",
            "148.0\n",
            "70.0\n",
            "311.0\n",
            "150.0\n",
            "113.0\n",
            "123.0\n",
            "185.0\n",
            "95.0\n",
            "45.0\n",
            "55.0\n",
            "100.0\n",
            "480.0\n",
            "nan\n",
            "400.0\n",
            "110.0\n",
            "161.0\n",
            "94.0\n",
            "130.0\n",
            "216.0\n",
            "100.0\n",
            "110.0\n",
            "196.0\n",
            "125.0\n",
            "126.0\n",
            "324.0\n",
            "107.0\n",
            "66.0\n",
            "157.0\n",
            "140.0\n",
            "99.0\n",
            "95.0\n",
            "128.0\n",
            "102.0\n",
            "155.0\n",
            "80.0\n",
            "145.0\n",
            "103.0\n",
            "110.0\n",
            "nan\n",
            "nan\n",
            "158.0\n",
            "181.0\n",
            "132.0\n",
            "26.0\n",
            "84.0\n",
            "260.0\n",
            "162.0\n",
            "182.0\n",
            "108.0\n",
            "600.0\n",
            "211.0\n",
            "132.0\n",
            "258.0\n",
            "120.0\n",
            "70.0\n",
            "123.0\n",
            "9.0\n",
            "104.0\n",
            "186.0\n",
            "165.0\n",
            "275.0\n",
            "187.0\n",
            "150.0\n",
            "108.0\n",
            "136.0\n",
            "110.0\n",
            "107.0\n",
            "161.0\n",
            "205.0\n",
            "90.0\n",
            "36.0\n",
            "61.0\n",
            "146.0\n",
            "172.0\n",
            "104.0\n",
            "70.0\n",
            "94.0\n",
            "106.0\n",
            "56.0\n",
            "205.0\n",
            "292.0\n",
            "142.0\n",
            "260.0\n",
            "110.0\n",
            "187.0\n",
            "88.0\n",
            "180.0\n",
            "192.0\n",
            "350.0\n",
            "155.0\n",
            "128.0\n",
            "172.0\n",
            "496.0\n",
            "nan\n",
            "173.0\n",
            "157.0\n",
            "108.0\n",
            "71.0\n",
            "40.0\n",
            "253.0\n",
            "187.0\n",
            "133.0\n",
            "Median\n",
            "128.0\n",
            "values after imputing\n"
          ],
          "name": "stdout"
        }
      ]
    },
    {
      "cell_type": "markdown",
      "metadata": {
        "id": "uSSJlAh9dq0Y",
        "colab_type": "text"
      },
      "source": [
        "**Problem-9**\n",
        "Identify the Outliers in each Independent Variable.Distribute the data in each field using Quartile bins (0-25%,25%-50%,50%-75%,75%-100% iles)"
      ]
    },
    {
      "cell_type": "code",
      "metadata": {
        "id": "HmuS9qUjbnT-",
        "colab_type": "code",
        "colab": {
          "base_uri": "https://localhost:8080/",
          "height": 1000
        },
        "outputId": "c561fb72-12df-4211-9ec2-28252b282e7f"
      },
      "source": [
        "print(\"0 to 25% \\n\",df.quantile(0)) #Q0\n",
        "print(\"25% to 50%\\n\",df.quantile(0.25)) #Q1\n",
        "print(\"50% to 75%\\n\",df.quantile(0.50)) #Q2\n",
        "print(\"75% t0 100%\\n\",df.quantile(0.75))"
      ],
      "execution_count": 26,
      "outputs": [
        {
          "output_type": "stream",
          "text": [
            "0 to 25% \n",
            " ApplicantIncome               150.0\n",
            "CoapplicantIncome               0.0\n",
            "LoanAmount                      9.0\n",
            "Loan_Amount_Term               12.0\n",
            "Credit_History                  0.0\n",
            "Gender_ismissing                0.0\n",
            "Married_ismissing               0.0\n",
            "Dependents_ismissing            0.0\n",
            "Self_Employed_ismissing         0.0\n",
            "LoanAmount_ismissing            0.0\n",
            "Loan_Amount_Term_ismissing      0.0\n",
            "Credit_History_ismissing        0.0\n",
            "num_missing                     0.0\n",
            "Name: 0, dtype: float64\n",
            "25% to 50%\n",
            " ApplicantIncome               2877.50\n",
            "CoapplicantIncome                0.00\n",
            "LoanAmount                     100.25\n",
            "Loan_Amount_Term               360.00\n",
            "Credit_History                   1.00\n",
            "Gender_ismissing                 0.00\n",
            "Married_ismissing                0.00\n",
            "Dependents_ismissing             0.00\n",
            "Self_Employed_ismissing          0.00\n",
            "LoanAmount_ismissing             0.00\n",
            "Loan_Amount_Term_ismissing       0.00\n",
            "Credit_History_ismissing         0.00\n",
            "num_missing                      0.00\n",
            "Name: 0.25, dtype: float64\n",
            "50% to 75%\n",
            " ApplicantIncome               3812.5\n",
            "CoapplicantIncome             1188.5\n",
            "LoanAmount                     128.0\n",
            "Loan_Amount_Term               360.0\n",
            "Credit_History                   1.0\n",
            "Gender_ismissing                 0.0\n",
            "Married_ismissing                0.0\n",
            "Dependents_ismissing             0.0\n",
            "Self_Employed_ismissing          0.0\n",
            "LoanAmount_ismissing             0.0\n",
            "Loan_Amount_Term_ismissing       0.0\n",
            "Credit_History_ismissing         0.0\n",
            "num_missing                      0.0\n",
            "Name: 0.5, dtype: float64\n",
            "75% t0 100%\n",
            " ApplicantIncome               5795.00\n",
            "CoapplicantIncome             2297.25\n",
            "LoanAmount                     164.75\n",
            "Loan_Amount_Term               360.00\n",
            "Credit_History                   1.00\n",
            "Gender_ismissing                 0.00\n",
            "Married_ismissing                0.00\n",
            "Dependents_ismissing             0.00\n",
            "Self_Employed_ismissing          0.00\n",
            "LoanAmount_ismissing             0.00\n",
            "Loan_Amount_Term_ismissing       0.00\n",
            "Credit_History_ismissing         0.00\n",
            "num_missing                      0.00\n",
            "Name: 0.75, dtype: float64\n"
          ],
          "name": "stdout"
        }
      ]
    },
    {
      "cell_type": "markdown",
      "metadata": {
        "id": "4ktNytPld0J_",
        "colab_type": "text"
      },
      "source": [
        "**Problem-10**\n",
        "Use Box-Plot chart to represent the Outliers for each Independent Variable"
      ]
    },
    {
      "cell_type": "code",
      "metadata": {
        "id": "BtG1G4s-d5HD",
        "colab_type": "code",
        "colab": {
          "base_uri": "https://localhost:8080/",
          "height": 414
        },
        "outputId": "00e29a40-450f-403d-9d5e-319762f60c2a"
      },
      "source": [
        "df.boxplot(column=['ApplicantIncome'])\n",
        "df[\"ApplicantIncome\"].describe()"
      ],
      "execution_count": 27,
      "outputs": [
        {
          "output_type": "execute_result",
          "data": {
            "text/plain": [
              "count      614.000000\n",
              "mean      5403.459283\n",
              "std       6109.041673\n",
              "min        150.000000\n",
              "25%       2877.500000\n",
              "50%       3812.500000\n",
              "75%       5795.000000\n",
              "max      81000.000000\n",
              "Name: ApplicantIncome, dtype: float64"
            ]
          },
          "metadata": {
            "tags": []
          },
          "execution_count": 27
        },
        {
          "output_type": "display_data",
          "data": {
            "image/png": "[encoded data removed]",
            "text/plain": [
              "<Figure size 432x288 with 1 Axes>"
            ]
          },
          "metadata": {
            "tags": [],
            "needs_background": "light"
          }
        }
      ]
    },
    {
      "cell_type": "code",
      "metadata": {
        "id": "nPDdssI-eES_",
        "colab_type": "code",
        "colab": {
          "base_uri": "https://localhost:8080/",
          "height": 414
        },
        "outputId": "15adbb8b-102e-4788-ccc2-5e0912cddc6c"
      },
      "source": [
        "df.boxplot(column=['CoapplicantIncome'])\n",
        "df[\"CoapplicantIncome\"].describe()"
      ],
      "execution_count": 28,
      "outputs": [
        {
          "output_type": "execute_result",
          "data": {
            "text/plain": [
              "count      614.000000\n",
              "mean      1621.245798\n",
              "std       2926.248369\n",
              "min          0.000000\n",
              "25%          0.000000\n",
              "50%       1188.500000\n",
              "75%       2297.250000\n",
              "max      41667.000000\n",
              "Name: CoapplicantIncome, dtype: float64"
            ]
          },
          "metadata": {
            "tags": []
          },
          "execution_count": 28
        },
        {
          "output_type": "display_data",
          "data": {
            "image/png": "[encoded data removed]",
            "text/plain": [
              "<Figure size 432x288 with 1 Axes>"
            ]
          },
          "metadata": {
            "tags": [],
            "needs_background": "light"
          }
        }
      ]
    },
    {
      "cell_type": "code",
      "metadata": {
        "id": "LVFeP-JleiRA",
        "colab_type": "code",
        "colab": {
          "base_uri": "https://localhost:8080/",
          "height": 414
        },
        "outputId": "76077512-5463-4ed7-ef4f-f1affa969dd5"
      },
      "source": [
        "df.boxplot(column=['LoanAmount'])\n",
        "df[\"LoanAmount\"].describe()"
      ],
      "execution_count": 29,
      "outputs": [
        {
          "output_type": "execute_result",
          "data": {
            "text/plain": [
              "count    614.000000\n",
              "mean     145.752443\n",
              "std       84.107233\n",
              "min        9.000000\n",
              "25%      100.250000\n",
              "50%      128.000000\n",
              "75%      164.750000\n",
              "max      700.000000\n",
              "Name: LoanAmount, dtype: float64"
            ]
          },
          "metadata": {
            "tags": []
          },
          "execution_count": 29
        },
        {
          "output_type": "display_data",
          "data": {
            "image/png": "[encoded data removed]",
            "text/plain": [
              "<Figure size 432x288 with 1 Axes>"
            ]
          },
          "metadata": {
            "tags": [],
            "needs_background": "light"
          }
        }
      ]
    },
    {
      "cell_type": "code",
      "metadata": {
        "id": "Ss6NlRDsehw7",
        "colab_type": "code",
        "colab": {
          "base_uri": "https://localhost:8080/",
          "height": 417
        },
        "outputId": "62b5d737-ba50-4bd3-ca9a-e4f50124146f"
      },
      "source": [
        "df.boxplot(column=['Loan_Amount_Term'])\n",
        "df[\"Loan_Amount_Term\"].describe()"
      ],
      "execution_count": 30,
      "outputs": [
        {
          "output_type": "execute_result",
          "data": {
            "text/plain": [
              "count    600.00000\n",
              "mean     342.00000\n",
              "std       65.12041\n",
              "min       12.00000\n",
              "25%      360.00000\n",
              "50%      360.00000\n",
              "75%      360.00000\n",
              "max      480.00000\n",
              "Name: Loan_Amount_Term, dtype: float64"
            ]
          },
          "metadata": {
            "tags": []
          },
          "execution_count": 30
        },
        {
          "output_type": "display_data",
          "data": {
            "image/png": "[encoded data removed]",
            "text/plain": [
              "<Figure size 432x288 with 1 Axes>"
            ]
          },
          "metadata": {
            "tags": [],
            "needs_background": "light"
          }
        }
      ]
    },
    {
      "cell_type": "code",
      "metadata": {
        "id": "qEbVJHlWeyEB",
        "colab_type": "code",
        "colab": {
          "base_uri": "https://localhost:8080/",
          "height": 415
        },
        "outputId": "68b973c8-e6ee-49e0-aa06-b7b8c5e5923a"
      },
      "source": [
        "df.boxplot(column=['Credit_History'])\n",
        "df[\"Credit_History\"].describe()"
      ],
      "execution_count": 31,
      "outputs": [
        {
          "output_type": "execute_result",
          "data": {
            "text/plain": [
              "count    564.000000\n",
              "mean       0.842199\n",
              "std        0.364878\n",
              "min        0.000000\n",
              "25%        1.000000\n",
              "50%        1.000000\n",
              "75%        1.000000\n",
              "max        1.000000\n",
              "Name: Credit_History, dtype: float64"
            ]
          },
          "metadata": {
            "tags": []
          },
          "execution_count": 31
        },
        {
          "output_type": "display_data",
          "data": {
            "image/png": "[encoded data removed]",
            "text/plain": [
              "<Figure size 432x288 with 1 Axes>"
            ]
          },
          "metadata": {
            "tags": [],
            "needs_background": "light"
          }
        }
      ]
    },
    {
      "cell_type": "markdown",
      "metadata": {
        "id": "X0WlGKc6e-sH",
        "colab_type": "text"
      },
      "source": [
        "**Problem-11**\n",
        "Perform treatment of these Outliers using appropriate techniqies.Explain your approach"
      ]
    },
    {
      "cell_type": "code",
      "metadata": {
        "id": "Yte28TgSe7o4",
        "colab_type": "code",
        "colab": {
          "base_uri": "https://localhost:8080/",
          "height": 289
        },
        "outputId": "85753e17-fb4b-434a-a8c5-d4c697e3d72e"
      },
      "source": [
        "df.describe()"
      ],
      "execution_count": 32,
      "outputs": [
        {
          "output_type": "execute_result",
          "data": {
            "text/html": [
              "<div>\n",
              "<style scoped>\n",
              "    .dataframe tbody tr th:only-of-type {\n",
              "        vertical-align: middle;\n",
              "    }\n",
              "\n",
              "    .dataframe tbody tr th {\n",
              "        vertical-align: top;\n",
              "    }\n",
              "\n",
              "    .dataframe thead th {\n",
              "        text-align: right;\n",
              "    }\n",
              "</style>\n",
              "<table border=\"1\" class=\"dataframe\">\n",
              "  <thead>\n",
              "    <tr style=\"text-align: right;\">\n",
              "      <th></th>\n",
              "      <th>ApplicantIncome</th>\n",
              "      <th>CoapplicantIncome</th>\n",
              "      <th>LoanAmount</th>\n",
              "      <th>Loan_Amount_Term</th>\n",
              "      <th>Credit_History</th>\n",
              "      <th>num_missing</th>\n",
              "    </tr>\n",
              "  </thead>\n",
              "  <tbody>\n",
              "    <tr>\n",
              "      <th>count</th>\n",
              "      <td>614.000000</td>\n",
              "      <td>614.000000</td>\n",
              "      <td>614.000000</td>\n",
              "      <td>600.00000</td>\n",
              "      <td>564.000000</td>\n",
              "      <td>614.000000</td>\n",
              "    </tr>\n",
              "    <tr>\n",
              "      <th>mean</th>\n",
              "      <td>5403.459283</td>\n",
              "      <td>1621.245798</td>\n",
              "      <td>145.752443</td>\n",
              "      <td>342.00000</td>\n",
              "      <td>0.842199</td>\n",
              "      <td>0.242671</td>\n",
              "    </tr>\n",
              "    <tr>\n",
              "      <th>std</th>\n",
              "      <td>6109.041673</td>\n",
              "      <td>2926.248369</td>\n",
              "      <td>84.107233</td>\n",
              "      <td>65.12041</td>\n",
              "      <td>0.364878</td>\n",
              "      <td>0.489435</td>\n",
              "    </tr>\n",
              "    <tr>\n",
              "      <th>min</th>\n",
              "      <td>150.000000</td>\n",
              "      <td>0.000000</td>\n",
              "      <td>9.000000</td>\n",
              "      <td>12.00000</td>\n",
              "      <td>0.000000</td>\n",
              "      <td>0.000000</td>\n",
              "    </tr>\n",
              "    <tr>\n",
              "      <th>25%</th>\n",
              "      <td>2877.500000</td>\n",
              "      <td>0.000000</td>\n",
              "      <td>100.250000</td>\n",
              "      <td>360.00000</td>\n",
              "      <td>1.000000</td>\n",
              "      <td>0.000000</td>\n",
              "    </tr>\n",
              "    <tr>\n",
              "      <th>50%</th>\n",
              "      <td>3812.500000</td>\n",
              "      <td>1188.500000</td>\n",
              "      <td>128.000000</td>\n",
              "      <td>360.00000</td>\n",
              "      <td>1.000000</td>\n",
              "      <td>0.000000</td>\n",
              "    </tr>\n",
              "    <tr>\n",
              "      <th>75%</th>\n",
              "      <td>5795.000000</td>\n",
              "      <td>2297.250000</td>\n",
              "      <td>164.750000</td>\n",
              "      <td>360.00000</td>\n",
              "      <td>1.000000</td>\n",
              "      <td>0.000000</td>\n",
              "    </tr>\n",
              "    <tr>\n",
              "      <th>max</th>\n",
              "      <td>81000.000000</td>\n",
              "      <td>41667.000000</td>\n",
              "      <td>700.000000</td>\n",
              "      <td>480.00000</td>\n",
              "      <td>1.000000</td>\n",
              "      <td>3.000000</td>\n",
              "    </tr>\n",
              "  </tbody>\n",
              "</table>\n",
              "</div>"
            ],
            "text/plain": [
              "       ApplicantIncome  CoapplicantIncome  ...  Credit_History  num_missing\n",
              "count       614.000000         614.000000  ...      564.000000   614.000000\n",
              "mean       5403.459283        1621.245798  ...        0.842199     0.242671\n",
              "std        6109.041673        2926.248369  ...        0.364878     0.489435\n",
              "min         150.000000           0.000000  ...        0.000000     0.000000\n",
              "25%        2877.500000           0.000000  ...        1.000000     0.000000\n",
              "50%        3812.500000        1188.500000  ...        1.000000     0.000000\n",
              "75%        5795.000000        2297.250000  ...        1.000000     0.000000\n",
              "max       81000.000000       41667.000000  ...        1.000000     3.000000\n",
              "\n",
              "[8 rows x 6 columns]"
            ]
          },
          "metadata": {
            "tags": []
          },
          "execution_count": 32
        }
      ]
    },
    {
      "cell_type": "code",
      "metadata": {
        "id": "miYDOpQagx9k",
        "colab_type": "code",
        "colab": {
          "base_uri": "https://localhost:8080/",
          "height": 463
        },
        "outputId": "f40532db-bd10-4f75-8710-ba751125256f"
      },
      "source": [
        "df.info()"
      ],
      "execution_count": 33,
      "outputs": [
        {
          "output_type": "stream",
          "text": [
            "<class 'pandas.core.frame.DataFrame'>\n",
            "RangeIndex: 614 entries, 0 to 613\n",
            "Data columns (total 20 columns):\n",
            " #   Column                      Non-Null Count  Dtype  \n",
            "---  ------                      --------------  -----  \n",
            " 0   Gender                      601 non-null    object \n",
            " 1   Married                     611 non-null    object \n",
            " 2   Dependents                  599 non-null    object \n",
            " 3   Education                   614 non-null    object \n",
            " 4   Self_Employed               582 non-null    object \n",
            " 5   ApplicantIncome             614 non-null    int64  \n",
            " 6   CoapplicantIncome           614 non-null    float64\n",
            " 7   LoanAmount                  614 non-null    float64\n",
            " 8   Loan_Amount_Term            600 non-null    float64\n",
            " 9   Credit_History              564 non-null    float64\n",
            " 10  Property_Area               614 non-null    object \n",
            " 11  Loan_Status                 614 non-null    object \n",
            " 12  Gender_ismissing            614 non-null    bool   \n",
            " 13  Married_ismissing           614 non-null    bool   \n",
            " 14  Dependents_ismissing        614 non-null    bool   \n",
            " 15  Self_Employed_ismissing     614 non-null    bool   \n",
            " 16  LoanAmount_ismissing        614 non-null    bool   \n",
            " 17  Loan_Amount_Term_ismissing  614 non-null    bool   \n",
            " 18  Credit_History_ismissing    614 non-null    bool   \n",
            " 19  num_missing                 614 non-null    int64  \n",
            "dtypes: bool(7), float64(4), int64(2), object(7)\n",
            "memory usage: 66.7+ KB\n"
          ],
          "name": "stdout"
        }
      ]
    },
    {
      "cell_type": "code",
      "metadata": {
        "id": "rU8tLp27f8yk",
        "colab_type": "code",
        "colab": {
          "base_uri": "https://localhost:8080/",
          "height": 249
        },
        "outputId": "2ae893a0-5bf5-472c-ced6-4e7d59e7b045"
      },
      "source": [
        "Q1 = df.quantile(0.1)\n",
        "Q3 = df.quantile(0.9)\n",
        "IQR = Q3 - Q1\n",
        "print((df < (Q1 - 1.5 * IQR)) |(df > (Q3 + 1.5 * IQR)).sum())\n"
      ],
      "execution_count": 34,
      "outputs": [
        {
          "output_type": "stream",
          "text": [
            "     ApplicantIncome  CoapplicantIncome  ...  Self_Employed_ismissing  num_missing\n",
            "0               True               True  ...                     True         True\n",
            "1               True               True  ...                     True         True\n",
            "2               True               True  ...                     True         True\n",
            "3               True               True  ...                     True         True\n",
            "4               True               True  ...                     True         True\n",
            "..               ...                ...  ...                      ...          ...\n",
            "609             True               True  ...                     True         True\n",
            "610             True               True  ...                     True         True\n",
            "611             True               True  ...                     True         True\n",
            "612             True               True  ...                     True         True\n",
            "613             True               True  ...                     True         True\n",
            "\n",
            "[614 rows x 20 columns]\n"
          ],
          "name": "stdout"
        }
      ]
    },
    {
      "cell_type": "markdown",
      "metadata": {
        "id": "0sGJshf8iSyZ",
        "colab_type": "text"
      },
      "source": [
        "**Step 1**\n",
        "\n",
        "* Perform Label Encoding on Target Variable (Loan_Status)"
      ]
    },
    {
      "cell_type": "code",
      "metadata": {
        "id": "8srZq4Z8igBS",
        "colab_type": "code",
        "colab": {
          "base_uri": "https://localhost:8080/",
          "height": 236
        },
        "outputId": "37f7e594-a3c1-40fd-ee51-f7a1d147475e"
      },
      "source": [
        "from sklearn.preprocessing import LabelEncoder\n",
        "le = LabelEncoder()\n",
        "df_cat = df.copy()\n",
        "df_cat['Loan_Status'] = le.fit_transform(df_cat['Loan_Status'])\n",
        "df_cat.head()"
      ],
      "execution_count": 35,
      "outputs": [
        {
          "output_type": "execute_result",
          "data": {
            "text/html": [
              "<div>\n",
              "<style scoped>\n",
              "    .dataframe tbody tr th:only-of-type {\n",
              "        vertical-align: middle;\n",
              "    }\n",
              "\n",
              "    .dataframe tbody tr th {\n",
              "        vertical-align: top;\n",
              "    }\n",
              "\n",
              "    .dataframe thead th {\n",
              "        text-align: right;\n",
              "    }\n",
              "</style>\n",
              "<table border=\"1\" class=\"dataframe\">\n",
              "  <thead>\n",
              "    <tr style=\"text-align: right;\">\n",
              "      <th></th>\n",
              "      <th>Gender</th>\n",
              "      <th>Married</th>\n",
              "      <th>Dependents</th>\n",
              "      <th>Education</th>\n",
              "      <th>Self_Employed</th>\n",
              "      <th>ApplicantIncome</th>\n",
              "      <th>CoapplicantIncome</th>\n",
              "      <th>LoanAmount</th>\n",
              "      <th>Loan_Amount_Term</th>\n",
              "      <th>Credit_History</th>\n",
              "      <th>Property_Area</th>\n",
              "      <th>Loan_Status</th>\n",
              "      <th>Gender_ismissing</th>\n",
              "      <th>Married_ismissing</th>\n",
              "      <th>Dependents_ismissing</th>\n",
              "      <th>Self_Employed_ismissing</th>\n",
              "      <th>LoanAmount_ismissing</th>\n",
              "      <th>Loan_Amount_Term_ismissing</th>\n",
              "      <th>Credit_History_ismissing</th>\n",
              "      <th>num_missing</th>\n",
              "    </tr>\n",
              "  </thead>\n",
              "  <tbody>\n",
              "    <tr>\n",
              "      <th>0</th>\n",
              "      <td>Male</td>\n",
              "      <td>No</td>\n",
              "      <td>0</td>\n",
              "      <td>Graduate</td>\n",
              "      <td>No</td>\n",
              "      <td>5849</td>\n",
              "      <td>0.0</td>\n",
              "      <td>128.0</td>\n",
              "      <td>360.0</td>\n",
              "      <td>1.0</td>\n",
              "      <td>Urban</td>\n",
              "      <td>1</td>\n",
              "      <td>False</td>\n",
              "      <td>False</td>\n",
              "      <td>False</td>\n",
              "      <td>False</td>\n",
              "      <td>True</td>\n",
              "      <td>False</td>\n",
              "      <td>False</td>\n",
              "      <td>1</td>\n",
              "    </tr>\n",
              "    <tr>\n",
              "      <th>1</th>\n",
              "      <td>Male</td>\n",
              "      <td>Yes</td>\n",
              "      <td>1</td>\n",
              "      <td>Graduate</td>\n",
              "      <td>No</td>\n",
              "      <td>4583</td>\n",
              "      <td>1508.0</td>\n",
              "      <td>128.0</td>\n",
              "      <td>360.0</td>\n",
              "      <td>1.0</td>\n",
              "      <td>Rural</td>\n",
              "      <td>0</td>\n",
              "      <td>False</td>\n",
              "      <td>False</td>\n",
              "      <td>False</td>\n",
              "      <td>False</td>\n",
              "      <td>False</td>\n",
              "      <td>False</td>\n",
              "      <td>False</td>\n",
              "      <td>0</td>\n",
              "    </tr>\n",
              "    <tr>\n",
              "      <th>2</th>\n",
              "      <td>Male</td>\n",
              "      <td>Yes</td>\n",
              "      <td>0</td>\n",
              "      <td>Graduate</td>\n",
              "      <td>Yes</td>\n",
              "      <td>3000</td>\n",
              "      <td>0.0</td>\n",
              "      <td>66.0</td>\n",
              "      <td>360.0</td>\n",
              "      <td>1.0</td>\n",
              "      <td>Urban</td>\n",
              "      <td>1</td>\n",
              "      <td>False</td>\n",
              "      <td>False</td>\n",
              "      <td>False</td>\n",
              "      <td>False</td>\n",
              "      <td>False</td>\n",
              "      <td>False</td>\n",
              "      <td>False</td>\n",
              "      <td>0</td>\n",
              "    </tr>\n",
              "    <tr>\n",
              "      <th>3</th>\n",
              "      <td>Male</td>\n",
              "      <td>Yes</td>\n",
              "      <td>0</td>\n",
              "      <td>Not Graduate</td>\n",
              "      <td>No</td>\n",
              "      <td>2583</td>\n",
              "      <td>2358.0</td>\n",
              "      <td>120.0</td>\n",
              "      <td>360.0</td>\n",
              "      <td>1.0</td>\n",
              "      <td>Urban</td>\n",
              "      <td>1</td>\n",
              "      <td>False</td>\n",
              "      <td>False</td>\n",
              "      <td>False</td>\n",
              "      <td>False</td>\n",
              "      <td>False</td>\n",
              "      <td>False</td>\n",
              "      <td>False</td>\n",
              "      <td>0</td>\n",
              "    </tr>\n",
              "    <tr>\n",
              "      <th>4</th>\n",
              "      <td>Male</td>\n",
              "      <td>No</td>\n",
              "      <td>0</td>\n",
              "      <td>Graduate</td>\n",
              "      <td>No</td>\n",
              "      <td>6000</td>\n",
              "      <td>0.0</td>\n",
              "      <td>141.0</td>\n",
              "      <td>360.0</td>\n",
              "      <td>1.0</td>\n",
              "      <td>Urban</td>\n",
              "      <td>1</td>\n",
              "      <td>False</td>\n",
              "      <td>False</td>\n",
              "      <td>False</td>\n",
              "      <td>False</td>\n",
              "      <td>False</td>\n",
              "      <td>False</td>\n",
              "      <td>False</td>\n",
              "      <td>0</td>\n",
              "    </tr>\n",
              "  </tbody>\n",
              "</table>\n",
              "</div>"
            ],
            "text/plain": [
              "  Gender Married  ... Credit_History_ismissing num_missing\n",
              "0   Male      No  ...                    False           1\n",
              "1   Male     Yes  ...                    False           0\n",
              "2   Male     Yes  ...                    False           0\n",
              "3   Male     Yes  ...                    False           0\n",
              "4   Male      No  ...                    False           0\n",
              "\n",
              "[5 rows x 20 columns]"
            ]
          },
          "metadata": {
            "tags": []
          },
          "execution_count": 35
        }
      ]
    },
    {
      "cell_type": "code",
      "metadata": {
        "id": "HnBhAn3DDVSD",
        "colab_type": "code",
        "colab": {
          "base_uri": "https://localhost:8080/",
          "height": 219
        },
        "outputId": "57d6f0db-6da3-4374-8b73-15581e416f77"
      },
      "source": [
        "corr = df_cat.corr()\n",
        "corr.head()"
      ],
      "execution_count": 36,
      "outputs": [
        {
          "output_type": "execute_result",
          "data": {
            "text/html": [
              "<div>\n",
              "<style scoped>\n",
              "    .dataframe tbody tr th:only-of-type {\n",
              "        vertical-align: middle;\n",
              "    }\n",
              "\n",
              "    .dataframe tbody tr th {\n",
              "        vertical-align: top;\n",
              "    }\n",
              "\n",
              "    .dataframe thead th {\n",
              "        text-align: right;\n",
              "    }\n",
              "</style>\n",
              "<table border=\"1\" class=\"dataframe\">\n",
              "  <thead>\n",
              "    <tr style=\"text-align: right;\">\n",
              "      <th></th>\n",
              "      <th>ApplicantIncome</th>\n",
              "      <th>CoapplicantIncome</th>\n",
              "      <th>LoanAmount</th>\n",
              "      <th>Loan_Amount_Term</th>\n",
              "      <th>Credit_History</th>\n",
              "      <th>Loan_Status</th>\n",
              "      <th>Gender_ismissing</th>\n",
              "      <th>Married_ismissing</th>\n",
              "      <th>Dependents_ismissing</th>\n",
              "      <th>Self_Employed_ismissing</th>\n",
              "      <th>LoanAmount_ismissing</th>\n",
              "      <th>Loan_Amount_Term_ismissing</th>\n",
              "      <th>Credit_History_ismissing</th>\n",
              "      <th>num_missing</th>\n",
              "    </tr>\n",
              "  </thead>\n",
              "  <tbody>\n",
              "    <tr>\n",
              "      <th>ApplicantIncome</th>\n",
              "      <td>1.000000</td>\n",
              "      <td>-0.116605</td>\n",
              "      <td>0.565181</td>\n",
              "      <td>-0.045306</td>\n",
              "      <td>-0.014715</td>\n",
              "      <td>-0.004710</td>\n",
              "      <td>0.118787</td>\n",
              "      <td>0.009224</td>\n",
              "      <td>-0.005596</td>\n",
              "      <td>0.017661</td>\n",
              "      <td>-0.000718</td>\n",
              "      <td>-0.031836</td>\n",
              "      <td>-0.034651</td>\n",
              "      <td>0.013174</td>\n",
              "    </tr>\n",
              "    <tr>\n",
              "      <th>CoapplicantIncome</th>\n",
              "      <td>-0.116605</td>\n",
              "      <td>1.000000</td>\n",
              "      <td>0.189218</td>\n",
              "      <td>-0.059878</td>\n",
              "      <td>-0.002056</td>\n",
              "      <td>-0.059187</td>\n",
              "      <td>-0.007825</td>\n",
              "      <td>-0.032830</td>\n",
              "      <td>-0.029503</td>\n",
              "      <td>0.075084</td>\n",
              "      <td>-0.037945</td>\n",
              "      <td>0.005756</td>\n",
              "      <td>0.104297</td>\n",
              "      <td>0.063492</td>\n",
              "    </tr>\n",
              "    <tr>\n",
              "      <th>LoanAmount</th>\n",
              "      <td>0.565181</td>\n",
              "      <td>0.189218</td>\n",
              "      <td>1.000000</td>\n",
              "      <td>0.039358</td>\n",
              "      <td>-0.007543</td>\n",
              "      <td>-0.033214</td>\n",
              "      <td>0.109880</td>\n",
              "      <td>0.002430</td>\n",
              "      <td>-0.032800</td>\n",
              "      <td>0.019960</td>\n",
              "      <td>-0.040722</td>\n",
              "      <td>-0.053690</td>\n",
              "      <td>0.051967</td>\n",
              "      <td>0.028607</td>\n",
              "    </tr>\n",
              "    <tr>\n",
              "      <th>Loan_Amount_Term</th>\n",
              "      <td>-0.045306</td>\n",
              "      <td>-0.059878</td>\n",
              "      <td>0.039358</td>\n",
              "      <td>1.000000</td>\n",
              "      <td>0.001470</td>\n",
              "      <td>-0.021268</td>\n",
              "      <td>-0.001056</td>\n",
              "      <td>0.019611</td>\n",
              "      <td>0.032579</td>\n",
              "      <td>-0.018747</td>\n",
              "      <td>-0.011449</td>\n",
              "      <td>NaN</td>\n",
              "      <td>-0.007785</td>\n",
              "      <td>-0.004887</td>\n",
              "    </tr>\n",
              "    <tr>\n",
              "      <th>Credit_History</th>\n",
              "      <td>-0.014715</td>\n",
              "      <td>-0.002056</td>\n",
              "      <td>-0.007543</td>\n",
              "      <td>0.001470</td>\n",
              "      <td>1.000000</td>\n",
              "      <td>0.561678</td>\n",
              "      <td>-0.037289</td>\n",
              "      <td>0.031654</td>\n",
              "      <td>-0.079589</td>\n",
              "      <td>0.071965</td>\n",
              "      <td>-0.017626</td>\n",
              "      <td>-0.118501</td>\n",
              "      <td>NaN</td>\n",
              "      <td>-0.055780</td>\n",
              "    </tr>\n",
              "  </tbody>\n",
              "</table>\n",
              "</div>"
            ],
            "text/plain": [
              "                   ApplicantIncome  ...  num_missing\n",
              "ApplicantIncome           1.000000  ...     0.013174\n",
              "CoapplicantIncome        -0.116605  ...     0.063492\n",
              "LoanAmount                0.565181  ...     0.028607\n",
              "Loan_Amount_Term         -0.045306  ...    -0.004887\n",
              "Credit_History           -0.014715  ...    -0.055780\n",
              "\n",
              "[5 rows x 14 columns]"
            ]
          },
          "metadata": {
            "tags": []
          },
          "execution_count": 36
        }
      ]
    },
    {
      "cell_type": "code",
      "metadata": {
        "id": "Qnaahzqq_-ld",
        "colab_type": "code",
        "colab": {
          "base_uri": "https://localhost:8080/",
          "height": 722
        },
        "outputId": "e48aa8c9-4dfc-415f-8d8a-5e1f1482670d"
      },
      "source": [
        "mask = np.zeros_like(corr, dtype=np.bool)\n",
        "mask[np.triu_indices_from(mask)] = True\n",
        "f, ax = plt.subplots(figsize=(12, 10))\n",
        "cmap = se.diverging_palette(225,10, as_cmap=True)\n",
        "svm = se.heatmap(corr, mask=mask, cmap=cmap, center=0,square=True, linewidths=.5, cbar_kws={\"shrink\": .5})\n",
        "figure = svm.get_figure()"
      ],
      "execution_count": 37,
      "outputs": [
        {
          "output_type": "display_data",
          "data": {
            "image/png": "[encoded data removed]",
            "text/plain": [
              "<Figure size 864x720 with 2 Axes>"
            ]
          },
          "metadata": {
            "tags": [],
            "needs_background": "light"
          }
        }
      ]
    },
    {
      "cell_type": "markdown",
      "metadata": {
        "id": "675HfwAqArfE",
        "colab_type": "text"
      },
      "source": [
        "Perform One Hot Encoding on Categorical Independent Variables.\n"
      ]
    },
    {
      "cell_type": "code",
      "metadata": {
        "id": "FYQ-1LDyAuTe",
        "colab_type": "code",
        "colab": {
          "base_uri": "https://localhost:8080/",
          "height": 444
        },
        "outputId": "10dac4da-171a-4796-8586-539df0871a8d"
      },
      "source": [
        "df_oh =df.copy()\n",
        "num_cols = df._get_numeric_data().columns\n",
        "for i in list(set(df.columns) - set(num_cols)): \n",
        "  df_oh = pd.get_dummies(df_oh, columns=[i], prefix=[i] )\n",
        "df_oh"
      ],
      "execution_count": 38,
      "outputs": [
        {
          "output_type": "execute_result",
          "data": {
            "text/html": [
              "<div>\n",
              "<style scoped>\n",
              "    .dataframe tbody tr th:only-of-type {\n",
              "        vertical-align: middle;\n",
              "    }\n",
              "\n",
              "    .dataframe tbody tr th {\n",
              "        vertical-align: top;\n",
              "    }\n",
              "\n",
              "    .dataframe thead th {\n",
              "        text-align: right;\n",
              "    }\n",
              "</style>\n",
              "<table border=\"1\" class=\"dataframe\">\n",
              "  <thead>\n",
              "    <tr style=\"text-align: right;\">\n",
              "      <th></th>\n",
              "      <th>ApplicantIncome</th>\n",
              "      <th>CoapplicantIncome</th>\n",
              "      <th>LoanAmount</th>\n",
              "      <th>Loan_Amount_Term</th>\n",
              "      <th>Credit_History</th>\n",
              "      <th>Gender_ismissing</th>\n",
              "      <th>Married_ismissing</th>\n",
              "      <th>Dependents_ismissing</th>\n",
              "      <th>Self_Employed_ismissing</th>\n",
              "      <th>LoanAmount_ismissing</th>\n",
              "      <th>Loan_Amount_Term_ismissing</th>\n",
              "      <th>Credit_History_ismissing</th>\n",
              "      <th>num_missing</th>\n",
              "      <th>Self_Employed_No</th>\n",
              "      <th>Self_Employed_Yes</th>\n",
              "      <th>Gender_Female</th>\n",
              "      <th>Gender_Male</th>\n",
              "      <th>Loan_Status_N</th>\n",
              "      <th>Loan_Status_Y</th>\n",
              "      <th>Dependents_0</th>\n",
              "      <th>Dependents_1</th>\n",
              "      <th>Dependents_2</th>\n",
              "      <th>Dependents_3+</th>\n",
              "      <th>Property_Area_Rural</th>\n",
              "      <th>Property_Area_Semiurban</th>\n",
              "      <th>Property_Area_Urban</th>\n",
              "      <th>Education_Graduate</th>\n",
              "      <th>Education_Not Graduate</th>\n",
              "      <th>Married_No</th>\n",
              "      <th>Married_Yes</th>\n",
              "    </tr>\n",
              "  </thead>\n",
              "  <tbody>\n",
              "    <tr>\n",
              "      <th>0</th>\n",
              "      <td>5849</td>\n",
              "      <td>0.0</td>\n",
              "      <td>128.0</td>\n",
              "      <td>360.0</td>\n",
              "      <td>1.0</td>\n",
              "      <td>False</td>\n",
              "      <td>False</td>\n",
              "      <td>False</td>\n",
              "      <td>False</td>\n",
              "      <td>True</td>\n",
              "      <td>False</td>\n",
              "      <td>False</td>\n",
              "      <td>1</td>\n",
              "      <td>1</td>\n",
              "      <td>0</td>\n",
              "      <td>0</td>\n",
              "      <td>1</td>\n",
              "      <td>0</td>\n",
              "      <td>1</td>\n",
              "      <td>1</td>\n",
              "      <td>0</td>\n",
              "      <td>0</td>\n",
              "      <td>0</td>\n",
              "      <td>0</td>\n",
              "      <td>0</td>\n",
              "      <td>1</td>\n",
              "      <td>1</td>\n",
              "      <td>0</td>\n",
              "      <td>1</td>\n",
              "      <td>0</td>\n",
              "    </tr>\n",
              "    <tr>\n",
              "      <th>1</th>\n",
              "      <td>4583</td>\n",
              "      <td>1508.0</td>\n",
              "      <td>128.0</td>\n",
              "      <td>360.0</td>\n",
              "      <td>1.0</td>\n",
              "      <td>False</td>\n",
              "      <td>False</td>\n",
              "      <td>False</td>\n",
              "      <td>False</td>\n",
              "      <td>False</td>\n",
              "      <td>False</td>\n",
              "      <td>False</td>\n",
              "      <td>0</td>\n",
              "      <td>1</td>\n",
              "      <td>0</td>\n",
              "      <td>0</td>\n",
              "      <td>1</td>\n",
              "      <td>1</td>\n",
              "      <td>0</td>\n",
              "      <td>0</td>\n",
              "      <td>1</td>\n",
              "      <td>0</td>\n",
              "      <td>0</td>\n",
              "      <td>1</td>\n",
              "      <td>0</td>\n",
              "      <td>0</td>\n",
              "      <td>1</td>\n",
              "      <td>0</td>\n",
              "      <td>0</td>\n",
              "      <td>1</td>\n",
              "    </tr>\n",
              "    <tr>\n",
              "      <th>2</th>\n",
              "      <td>3000</td>\n",
              "      <td>0.0</td>\n",
              "      <td>66.0</td>\n",
              "      <td>360.0</td>\n",
              "      <td>1.0</td>\n",
              "      <td>False</td>\n",
              "      <td>False</td>\n",
              "      <td>False</td>\n",
              "      <td>False</td>\n",
              "      <td>False</td>\n",
              "      <td>False</td>\n",
              "      <td>False</td>\n",
              "      <td>0</td>\n",
              "      <td>0</td>\n",
              "      <td>1</td>\n",
              "      <td>0</td>\n",
              "      <td>1</td>\n",
              "      <td>0</td>\n",
              "      <td>1</td>\n",
              "      <td>1</td>\n",
              "      <td>0</td>\n",
              "      <td>0</td>\n",
              "      <td>0</td>\n",
              "      <td>0</td>\n",
              "      <td>0</td>\n",
              "      <td>1</td>\n",
              "      <td>1</td>\n",
              "      <td>0</td>\n",
              "      <td>0</td>\n",
              "      <td>1</td>\n",
              "    </tr>\n",
              "    <tr>\n",
              "      <th>3</th>\n",
              "      <td>2583</td>\n",
              "      <td>2358.0</td>\n",
              "      <td>120.0</td>\n",
              "      <td>360.0</td>\n",
              "      <td>1.0</td>\n",
              "      <td>False</td>\n",
              "      <td>False</td>\n",
              "      <td>False</td>\n",
              "      <td>False</td>\n",
              "      <td>False</td>\n",
              "      <td>False</td>\n",
              "      <td>False</td>\n",
              "      <td>0</td>\n",
              "      <td>1</td>\n",
              "      <td>0</td>\n",
              "      <td>0</td>\n",
              "      <td>1</td>\n",
              "      <td>0</td>\n",
              "      <td>1</td>\n",
              "      <td>1</td>\n",
              "      <td>0</td>\n",
              "      <td>0</td>\n",
              "      <td>0</td>\n",
              "      <td>0</td>\n",
              "      <td>0</td>\n",
              "      <td>1</td>\n",
              "      <td>0</td>\n",
              "      <td>1</td>\n",
              "      <td>0</td>\n",
              "      <td>1</td>\n",
              "    </tr>\n",
              "    <tr>\n",
              "      <th>4</th>\n",
              "      <td>6000</td>\n",
              "      <td>0.0</td>\n",
              "      <td>141.0</td>\n",
              "      <td>360.0</td>\n",
              "      <td>1.0</td>\n",
              "      <td>False</td>\n",
              "      <td>False</td>\n",
              "      <td>False</td>\n",
              "      <td>False</td>\n",
              "      <td>False</td>\n",
              "      <td>False</td>\n",
              "      <td>False</td>\n",
              "      <td>0</td>\n",
              "      <td>1</td>\n",
              "      <td>0</td>\n",
              "      <td>0</td>\n",
              "      <td>1</td>\n",
              "      <td>0</td>\n",
              "      <td>1</td>\n",
              "      <td>1</td>\n",
              "      <td>0</td>\n",
              "      <td>0</td>\n",
              "      <td>0</td>\n",
              "      <td>0</td>\n",
              "      <td>0</td>\n",
              "      <td>1</td>\n",
              "      <td>1</td>\n",
              "      <td>0</td>\n",
              "      <td>1</td>\n",
              "      <td>0</td>\n",
              "    </tr>\n",
              "    <tr>\n",
              "      <th>...</th>\n",
              "      <td>...</td>\n",
              "      <td>...</td>\n",
              "      <td>...</td>\n",
              "      <td>...</td>\n",
              "      <td>...</td>\n",
              "      <td>...</td>\n",
              "      <td>...</td>\n",
              "      <td>...</td>\n",
              "      <td>...</td>\n",
              "      <td>...</td>\n",
              "      <td>...</td>\n",
              "      <td>...</td>\n",
              "      <td>...</td>\n",
              "      <td>...</td>\n",
              "      <td>...</td>\n",
              "      <td>...</td>\n",
              "      <td>...</td>\n",
              "      <td>...</td>\n",
              "      <td>...</td>\n",
              "      <td>...</td>\n",
              "      <td>...</td>\n",
              "      <td>...</td>\n",
              "      <td>...</td>\n",
              "      <td>...</td>\n",
              "      <td>...</td>\n",
              "      <td>...</td>\n",
              "      <td>...</td>\n",
              "      <td>...</td>\n",
              "      <td>...</td>\n",
              "      <td>...</td>\n",
              "    </tr>\n",
              "    <tr>\n",
              "      <th>609</th>\n",
              "      <td>2900</td>\n",
              "      <td>0.0</td>\n",
              "      <td>71.0</td>\n",
              "      <td>360.0</td>\n",
              "      <td>1.0</td>\n",
              "      <td>False</td>\n",
              "      <td>False</td>\n",
              "      <td>False</td>\n",
              "      <td>False</td>\n",
              "      <td>False</td>\n",
              "      <td>False</td>\n",
              "      <td>False</td>\n",
              "      <td>0</td>\n",
              "      <td>1</td>\n",
              "      <td>0</td>\n",
              "      <td>1</td>\n",
              "      <td>0</td>\n",
              "      <td>0</td>\n",
              "      <td>1</td>\n",
              "      <td>1</td>\n",
              "      <td>0</td>\n",
              "      <td>0</td>\n",
              "      <td>0</td>\n",
              "      <td>1</td>\n",
              "      <td>0</td>\n",
              "      <td>0</td>\n",
              "      <td>1</td>\n",
              "      <td>0</td>\n",
              "      <td>1</td>\n",
              "      <td>0</td>\n",
              "    </tr>\n",
              "    <tr>\n",
              "      <th>610</th>\n",
              "      <td>4106</td>\n",
              "      <td>0.0</td>\n",
              "      <td>40.0</td>\n",
              "      <td>180.0</td>\n",
              "      <td>1.0</td>\n",
              "      <td>False</td>\n",
              "      <td>False</td>\n",
              "      <td>False</td>\n",
              "      <td>False</td>\n",
              "      <td>False</td>\n",
              "      <td>False</td>\n",
              "      <td>False</td>\n",
              "      <td>0</td>\n",
              "      <td>1</td>\n",
              "      <td>0</td>\n",
              "      <td>0</td>\n",
              "      <td>1</td>\n",
              "      <td>0</td>\n",
              "      <td>1</td>\n",
              "      <td>0</td>\n",
              "      <td>0</td>\n",
              "      <td>0</td>\n",
              "      <td>1</td>\n",
              "      <td>1</td>\n",
              "      <td>0</td>\n",
              "      <td>0</td>\n",
              "      <td>1</td>\n",
              "      <td>0</td>\n",
              "      <td>0</td>\n",
              "      <td>1</td>\n",
              "    </tr>\n",
              "    <tr>\n",
              "      <th>611</th>\n",
              "      <td>8072</td>\n",
              "      <td>240.0</td>\n",
              "      <td>253.0</td>\n",
              "      <td>360.0</td>\n",
              "      <td>1.0</td>\n",
              "      <td>False</td>\n",
              "      <td>False</td>\n",
              "      <td>False</td>\n",
              "      <td>False</td>\n",
              "      <td>False</td>\n",
              "      <td>False</td>\n",
              "      <td>False</td>\n",
              "      <td>0</td>\n",
              "      <td>1</td>\n",
              "      <td>0</td>\n",
              "      <td>0</td>\n",
              "      <td>1</td>\n",
              "      <td>0</td>\n",
              "      <td>1</td>\n",
              "      <td>0</td>\n",
              "      <td>1</td>\n",
              "      <td>0</td>\n",
              "      <td>0</td>\n",
              "      <td>0</td>\n",
              "      <td>0</td>\n",
              "      <td>1</td>\n",
              "      <td>1</td>\n",
              "      <td>0</td>\n",
              "      <td>0</td>\n",
              "      <td>1</td>\n",
              "    </tr>\n",
              "    <tr>\n",
              "      <th>612</th>\n",
              "      <td>7583</td>\n",
              "      <td>0.0</td>\n",
              "      <td>187.0</td>\n",
              "      <td>360.0</td>\n",
              "      <td>1.0</td>\n",
              "      <td>False</td>\n",
              "      <td>False</td>\n",
              "      <td>False</td>\n",
              "      <td>False</td>\n",
              "      <td>False</td>\n",
              "      <td>False</td>\n",
              "      <td>False</td>\n",
              "      <td>0</td>\n",
              "      <td>1</td>\n",
              "      <td>0</td>\n",
              "      <td>0</td>\n",
              "      <td>1</td>\n",
              "      <td>0</td>\n",
              "      <td>1</td>\n",
              "      <td>0</td>\n",
              "      <td>0</td>\n",
              "      <td>1</td>\n",
              "      <td>0</td>\n",
              "      <td>0</td>\n",
              "      <td>0</td>\n",
              "      <td>1</td>\n",
              "      <td>1</td>\n",
              "      <td>0</td>\n",
              "      <td>0</td>\n",
              "      <td>1</td>\n",
              "    </tr>\n",
              "    <tr>\n",
              "      <th>613</th>\n",
              "      <td>4583</td>\n",
              "      <td>0.0</td>\n",
              "      <td>133.0</td>\n",
              "      <td>360.0</td>\n",
              "      <td>0.0</td>\n",
              "      <td>False</td>\n",
              "      <td>False</td>\n",
              "      <td>False</td>\n",
              "      <td>False</td>\n",
              "      <td>False</td>\n",
              "      <td>False</td>\n",
              "      <td>False</td>\n",
              "      <td>0</td>\n",
              "      <td>0</td>\n",
              "      <td>1</td>\n",
              "      <td>1</td>\n",
              "      <td>0</td>\n",
              "      <td>1</td>\n",
              "      <td>0</td>\n",
              "      <td>1</td>\n",
              "      <td>0</td>\n",
              "      <td>0</td>\n",
              "      <td>0</td>\n",
              "      <td>0</td>\n",
              "      <td>1</td>\n",
              "      <td>0</td>\n",
              "      <td>1</td>\n",
              "      <td>0</td>\n",
              "      <td>1</td>\n",
              "      <td>0</td>\n",
              "    </tr>\n",
              "  </tbody>\n",
              "</table>\n",
              "<p>614 rows × 30 columns</p>\n",
              "</div>"
            ],
            "text/plain": [
              "     ApplicantIncome  CoapplicantIncome  ...  Married_No  Married_Yes\n",
              "0               5849                0.0  ...           1            0\n",
              "1               4583             1508.0  ...           0            1\n",
              "2               3000                0.0  ...           0            1\n",
              "3               2583             2358.0  ...           0            1\n",
              "4               6000                0.0  ...           1            0\n",
              "..               ...                ...  ...         ...          ...\n",
              "609             2900                0.0  ...           1            0\n",
              "610             4106                0.0  ...           0            1\n",
              "611             8072              240.0  ...           0            1\n",
              "612             7583                0.0  ...           0            1\n",
              "613             4583                0.0  ...           1            0\n",
              "\n",
              "[614 rows x 30 columns]"
            ]
          },
          "metadata": {
            "tags": []
          },
          "execution_count": 38
        }
      ]
    },
    {
      "cell_type": "code",
      "metadata": {
        "id": "9oQ5BpS4AxV_",
        "colab_type": "code",
        "colab": {
          "base_uri": "https://localhost:8080/",
          "height": 34
        },
        "outputId": "6ea9d7e6-7ee2-4e0b-b784-f640741c7c11"
      },
      "source": [
        "df_oh.shape"
      ],
      "execution_count": 39,
      "outputs": [
        {
          "output_type": "execute_result",
          "data": {
            "text/plain": [
              "(614, 30)"
            ]
          },
          "metadata": {
            "tags": []
          },
          "execution_count": 39
        }
      ]
    },
    {
      "cell_type": "code",
      "metadata": {
        "id": "l69_a7wlA5gA",
        "colab_type": "code",
        "colab": {
          "base_uri": "https://localhost:8080/",
          "height": 676
        },
        "outputId": "21572408-a53b-496f-f943-f98e65f09c21"
      },
      "source": [
        "#Carry out Correlation analysis on this dataframe. Plot using HeatMap\n",
        "corel = df_oh.corr()\n",
        "mask = np.zeros_like(corel, dtype=np.bool)\n",
        "mask[np.triu_indices_from(mask)] = True\n",
        "f, ax = plt.subplots(figsize=(11, 9))\n",
        "cmap = se.diverging_palette(220, 10, as_cmap=True)\n",
        "svm = se.heatmap(corel, mask=mask, cmap=cmap, center=0,square=True, linewidths=.5, cbar_kws={\"shrink\": .5})\n",
        "figure = svm.get_figure()"
      ],
      "execution_count": 40,
      "outputs": [
        {
          "output_type": "display_data",
          "data": {
            "image/png": "[encoded data removed]",
            "text/plain": [
              "<Figure size 792x648 with 2 Axes>"
            ]
          },
          "metadata": {
            "tags": [],
            "needs_background": "light"
          }
        }
      ]
    },
    {
      "cell_type": "code",
      "metadata": {
        "id": "OJSTpkOJA6Df",
        "colab_type": "code",
        "colab": {}
      },
      "source": [
        ""
      ],
      "execution_count": 0,
      "outputs": []
    }
  ]
}