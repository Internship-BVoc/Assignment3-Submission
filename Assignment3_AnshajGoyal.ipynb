{
  "nbformat": 4,
  "nbformat_minor": 0,
  "metadata": {
    "colab": {
      "name": "Assignment3_AnshajGoyal.ipynb",
      "provenance": []
    },
    "kernelspec": {
      "name": "python3",
      "display_name": "Python 3"
    }
  },
  "cells": [
    {
      "cell_type": "code",
      "metadata": {
        "id": "uUz1t6_Nz7WA",
        "colab_type": "code",
        "outputId": "f32b41d2-1dc0-4ee1-9d0a-52764c77acda",
        "colab": {
          "base_uri": "https://localhost:8080/",
          "height": 204
        }
      },
      "source": [
        "import pandas as pd\n",
        "df = pd.read_csv('dataset_model.csv')\n",
        "df1 = pd.read_csv('dataset_model.csv')\n",
        "primaryKeyDf = pd.DataFrame()\n",
        "df.head()"
      ],
      "execution_count": 622,
      "outputs": [
        {
          "output_type": "execute_result",
          "data": {
            "text/html": [
              "<div>\n",
              "<style scoped>\n",
              "    .dataframe tbody tr th:only-of-type {\n",
              "        vertical-align: middle;\n",
              "    }\n",
              "\n",
              "    .dataframe tbody tr th {\n",
              "        vertical-align: top;\n",
              "    }\n",
              "\n",
              "    .dataframe thead th {\n",
              "        text-align: right;\n",
              "    }\n",
              "</style>\n",
              "<table border=\"1\" class=\"dataframe\">\n",
              "  <thead>\n",
              "    <tr style=\"text-align: right;\">\n",
              "      <th></th>\n",
              "      <th>Loan_ID</th>\n",
              "      <th>Gender</th>\n",
              "      <th>Married</th>\n",
              "      <th>Dependents</th>\n",
              "      <th>Education</th>\n",
              "      <th>Self_Employed</th>\n",
              "      <th>ApplicantIncome</th>\n",
              "      <th>CoapplicantIncome</th>\n",
              "      <th>LoanAmount</th>\n",
              "      <th>Loan_Amount_Term</th>\n",
              "      <th>Credit_History</th>\n",
              "      <th>Property_Area</th>\n",
              "      <th>Loan_Status</th>\n",
              "    </tr>\n",
              "  </thead>\n",
              "  <tbody>\n",
              "    <tr>\n",
              "      <th>0</th>\n",
              "      <td>LP001002</td>\n",
              "      <td>Male</td>\n",
              "      <td>No</td>\n",
              "      <td>0</td>\n",
              "      <td>Graduate</td>\n",
              "      <td>No</td>\n",
              "      <td>5849</td>\n",
              "      <td>0.0</td>\n",
              "      <td>NaN</td>\n",
              "      <td>360.0</td>\n",
              "      <td>1.0</td>\n",
              "      <td>Urban</td>\n",
              "      <td>Y</td>\n",
              "    </tr>\n",
              "    <tr>\n",
              "      <th>1</th>\n",
              "      <td>LP001003</td>\n",
              "      <td>Male</td>\n",
              "      <td>Yes</td>\n",
              "      <td>1</td>\n",
              "      <td>Graduate</td>\n",
              "      <td>No</td>\n",
              "      <td>4583</td>\n",
              "      <td>1508.0</td>\n",
              "      <td>128.0</td>\n",
              "      <td>360.0</td>\n",
              "      <td>1.0</td>\n",
              "      <td>Rural</td>\n",
              "      <td>N</td>\n",
              "    </tr>\n",
              "    <tr>\n",
              "      <th>2</th>\n",
              "      <td>LP001005</td>\n",
              "      <td>Male</td>\n",
              "      <td>Yes</td>\n",
              "      <td>0</td>\n",
              "      <td>Graduate</td>\n",
              "      <td>Yes</td>\n",
              "      <td>3000</td>\n",
              "      <td>0.0</td>\n",
              "      <td>66.0</td>\n",
              "      <td>360.0</td>\n",
              "      <td>1.0</td>\n",
              "      <td>Urban</td>\n",
              "      <td>Y</td>\n",
              "    </tr>\n",
              "    <tr>\n",
              "      <th>3</th>\n",
              "      <td>LP001006</td>\n",
              "      <td>Male</td>\n",
              "      <td>Yes</td>\n",
              "      <td>0</td>\n",
              "      <td>Not Graduate</td>\n",
              "      <td>No</td>\n",
              "      <td>2583</td>\n",
              "      <td>2358.0</td>\n",
              "      <td>120.0</td>\n",
              "      <td>360.0</td>\n",
              "      <td>1.0</td>\n",
              "      <td>Urban</td>\n",
              "      <td>Y</td>\n",
              "    </tr>\n",
              "    <tr>\n",
              "      <th>4</th>\n",
              "      <td>LP001008</td>\n",
              "      <td>Male</td>\n",
              "      <td>No</td>\n",
              "      <td>0</td>\n",
              "      <td>Graduate</td>\n",
              "      <td>No</td>\n",
              "      <td>6000</td>\n",
              "      <td>0.0</td>\n",
              "      <td>141.0</td>\n",
              "      <td>360.0</td>\n",
              "      <td>1.0</td>\n",
              "      <td>Urban</td>\n",
              "      <td>Y</td>\n",
              "    </tr>\n",
              "  </tbody>\n",
              "</table>\n",
              "</div>"
            ],
            "text/plain": [
              "    Loan_ID Gender Married  ... Credit_History Property_Area Loan_Status\n",
              "0  LP001002   Male      No  ...            1.0         Urban           Y\n",
              "1  LP001003   Male     Yes  ...            1.0         Rural           N\n",
              "2  LP001005   Male     Yes  ...            1.0         Urban           Y\n",
              "3  LP001006   Male     Yes  ...            1.0         Urban           Y\n",
              "4  LP001008   Male      No  ...            1.0         Urban           Y\n",
              "\n",
              "[5 rows x 13 columns]"
            ]
          },
          "metadata": {
            "tags": []
          },
          "execution_count": 622
        }
      ]
    },
    {
      "cell_type": "code",
      "metadata": {
        "id": "iE0nG76sdWpw",
        "colab_type": "code",
        "outputId": "54ce974f-3d89-4be2-a39c-331b2e504601",
        "colab": {
          "base_uri": "https://localhost:8080/",
          "height": 34
        }
      },
      "source": [
        "df.shape"
      ],
      "execution_count": 623,
      "outputs": [
        {
          "output_type": "execute_result",
          "data": {
            "text/plain": [
              "(614, 13)"
            ]
          },
          "metadata": {
            "tags": []
          },
          "execution_count": 623
        }
      ]
    },
    {
      "cell_type": "markdown",
      "metadata": {
        "id": "is3pUVv5d6Pr",
        "colab_type": "text"
      },
      "source": [
        "***Problem #1***\n",
        "*Idenitfy & Remove the field that is providing only unique information about records .Capture it in another dataframe*"
      ]
    },
    {
      "cell_type": "code",
      "metadata": {
        "id": "YgheBH35c0OZ",
        "colab_type": "code",
        "outputId": "60080957-a915-4914-fe67-47a83c90754c",
        "colab": {
          "base_uri": "https://localhost:8080/",
          "height": 204
        }
      },
      "source": [
        "for i in df:\n",
        "  if df[i].is_unique:\n",
        "    primaryKeyDf[i] = df[i]\n",
        "    df = df.drop(i,axis=1)\n",
        "    df1 = df1.drop(i,axis=1)\n",
        "df.head()"
      ],
      "execution_count": 624,
      "outputs": [
        {
          "output_type": "execute_result",
          "data": {
            "text/html": [
              "<div>\n",
              "<style scoped>\n",
              "    .dataframe tbody tr th:only-of-type {\n",
              "        vertical-align: middle;\n",
              "    }\n",
              "\n",
              "    .dataframe tbody tr th {\n",
              "        vertical-align: top;\n",
              "    }\n",
              "\n",
              "    .dataframe thead th {\n",
              "        text-align: right;\n",
              "    }\n",
              "</style>\n",
              "<table border=\"1\" class=\"dataframe\">\n",
              "  <thead>\n",
              "    <tr style=\"text-align: right;\">\n",
              "      <th></th>\n",
              "      <th>Gender</th>\n",
              "      <th>Married</th>\n",
              "      <th>Dependents</th>\n",
              "      <th>Education</th>\n",
              "      <th>Self_Employed</th>\n",
              "      <th>ApplicantIncome</th>\n",
              "      <th>CoapplicantIncome</th>\n",
              "      <th>LoanAmount</th>\n",
              "      <th>Loan_Amount_Term</th>\n",
              "      <th>Credit_History</th>\n",
              "      <th>Property_Area</th>\n",
              "      <th>Loan_Status</th>\n",
              "    </tr>\n",
              "  </thead>\n",
              "  <tbody>\n",
              "    <tr>\n",
              "      <th>0</th>\n",
              "      <td>Male</td>\n",
              "      <td>No</td>\n",
              "      <td>0</td>\n",
              "      <td>Graduate</td>\n",
              "      <td>No</td>\n",
              "      <td>5849</td>\n",
              "      <td>0.0</td>\n",
              "      <td>NaN</td>\n",
              "      <td>360.0</td>\n",
              "      <td>1.0</td>\n",
              "      <td>Urban</td>\n",
              "      <td>Y</td>\n",
              "    </tr>\n",
              "    <tr>\n",
              "      <th>1</th>\n",
              "      <td>Male</td>\n",
              "      <td>Yes</td>\n",
              "      <td>1</td>\n",
              "      <td>Graduate</td>\n",
              "      <td>No</td>\n",
              "      <td>4583</td>\n",
              "      <td>1508.0</td>\n",
              "      <td>128.0</td>\n",
              "      <td>360.0</td>\n",
              "      <td>1.0</td>\n",
              "      <td>Rural</td>\n",
              "      <td>N</td>\n",
              "    </tr>\n",
              "    <tr>\n",
              "      <th>2</th>\n",
              "      <td>Male</td>\n",
              "      <td>Yes</td>\n",
              "      <td>0</td>\n",
              "      <td>Graduate</td>\n",
              "      <td>Yes</td>\n",
              "      <td>3000</td>\n",
              "      <td>0.0</td>\n",
              "      <td>66.0</td>\n",
              "      <td>360.0</td>\n",
              "      <td>1.0</td>\n",
              "      <td>Urban</td>\n",
              "      <td>Y</td>\n",
              "    </tr>\n",
              "    <tr>\n",
              "      <th>3</th>\n",
              "      <td>Male</td>\n",
              "      <td>Yes</td>\n",
              "      <td>0</td>\n",
              "      <td>Not Graduate</td>\n",
              "      <td>No</td>\n",
              "      <td>2583</td>\n",
              "      <td>2358.0</td>\n",
              "      <td>120.0</td>\n",
              "      <td>360.0</td>\n",
              "      <td>1.0</td>\n",
              "      <td>Urban</td>\n",
              "      <td>Y</td>\n",
              "    </tr>\n",
              "    <tr>\n",
              "      <th>4</th>\n",
              "      <td>Male</td>\n",
              "      <td>No</td>\n",
              "      <td>0</td>\n",
              "      <td>Graduate</td>\n",
              "      <td>No</td>\n",
              "      <td>6000</td>\n",
              "      <td>0.0</td>\n",
              "      <td>141.0</td>\n",
              "      <td>360.0</td>\n",
              "      <td>1.0</td>\n",
              "      <td>Urban</td>\n",
              "      <td>Y</td>\n",
              "    </tr>\n",
              "  </tbody>\n",
              "</table>\n",
              "</div>"
            ],
            "text/plain": [
              "  Gender Married Dependents  ... Credit_History Property_Area  Loan_Status\n",
              "0   Male      No          0  ...            1.0         Urban            Y\n",
              "1   Male     Yes          1  ...            1.0         Rural            N\n",
              "2   Male     Yes          0  ...            1.0         Urban            Y\n",
              "3   Male     Yes          0  ...            1.0         Urban            Y\n",
              "4   Male      No          0  ...            1.0         Urban            Y\n",
              "\n",
              "[5 rows x 12 columns]"
            ]
          },
          "metadata": {
            "tags": []
          },
          "execution_count": 624
        }
      ]
    },
    {
      "cell_type": "markdown",
      "metadata": {
        "id": "aYXOEW2geH2U",
        "colab_type": "text"
      },
      "source": [
        "***Problem #2***\n",
        "*Identifying Continous & Categorical Columns*"
      ]
    },
    {
      "cell_type": "code",
      "metadata": {
        "id": "gO0JEy5xeKgm",
        "colab_type": "code",
        "outputId": "ca6a370d-4744-467b-8dd3-a03d3115e3d3",
        "colab": {
          "base_uri": "https://localhost:8080/",
          "height": 119
        }
      },
      "source": [
        "continuousColumns = [i for i in df if len(df[i].unique())>5] #Continuous columns was limited to unique values > 5\n",
        "categoricalColumns = [i for i in df if len(df[i].unique())<=5] #Categorical columns was limited to unique values <5\n",
        "print(\"List of continuous Columns\\n{}\\n\\nList of Categorical Columns\\n{}\\n\".format(continuousColumns,categoricalColumns))"
      ],
      "execution_count": 625,
      "outputs": [
        {
          "output_type": "stream",
          "text": [
            "List of continuous Columns\n",
            "['ApplicantIncome', 'CoapplicantIncome', 'LoanAmount', 'Loan_Amount_Term']\n",
            "\n",
            "List of Categorical Columns\n",
            "['Gender', 'Married', 'Dependents', 'Education', 'Self_Employed', 'Credit_History', 'Property_Area', 'Loan_Status']\n",
            "\n"
          ],
          "name": "stdout"
        }
      ]
    },
    {
      "cell_type": "markdown",
      "metadata": {
        "id": "0dnf0pmZj0ou",
        "colab_type": "text"
      },
      "source": [
        "***Problem #3***\n",
        "*Performing Uni-variate Analysis with Plots.Record your Observations*"
      ]
    },
    {
      "cell_type": "code",
      "metadata": {
        "id": "0_Fli2C1j-dH",
        "colab_type": "code",
        "outputId": "f4a374bd-6d7f-425d-cea7-1f99302f9b00",
        "colab": {
          "base_uri": "https://localhost:8080/",
          "height": 726
        }
      },
      "source": [
        "#Univariate Analysis of Numerical Data\n",
        "df.hist(figsize=[15,10])"
      ],
      "execution_count": 626,
      "outputs": [
        {
          "output_type": "execute_result",
          "data": {
            "text/plain": [
              "array([[<matplotlib.axes._subplots.AxesSubplot object at 0x7f17ed807208>,\n",
              "        <matplotlib.axes._subplots.AxesSubplot object at 0x7f17ed7ad828>],\n",
              "       [<matplotlib.axes._subplots.AxesSubplot object at 0x7f17ed75fa90>,\n",
              "        <matplotlib.axes._subplots.AxesSubplot object at 0x7f17ed790cf8>],\n",
              "       [<matplotlib.axes._subplots.AxesSubplot object at 0x7f17ed741f60>,\n",
              "        <matplotlib.axes._subplots.AxesSubplot object at 0x7f17ed6f5668>]],\n",
              "      dtype=object)"
            ]
          },
          "metadata": {
            "tags": []
          },
          "execution_count": 626
        },
        {
          "output_type": "display_data",
          "data": {
            "image/png": "[encoded data removed]",
            "text/plain": [
              "<Figure size 1080x720 with 6 Axes>"
            ]
          },
          "metadata": {
            "tags": [],
            "needs_background": "light"
          }
        }
      ]
    },
    {
      "cell_type": "markdown",
      "metadata": {
        "id": "QkcIJCdWlxja",
        "colab_type": "text"
      },
      "source": [
        "1)Maximum Applicants have applies for loan term of more then 360 days which is long term credibility for company\n",
        "\n",
        "2)Maximum People are applying for loan amount which is less in average of every other combined so the company's amount in loan can be given to more people.\n",
        "\n",
        "3) 10% of People are not having any credit history which is a risk for company to give loan to these people as several other insights maybe required before lending them loan\n",
        "\n",
        "4)Majority of applicants are earning less then 15k which is also a risk for company while payback time.\n",
        "\n",
        "5)There is 2% of people in income slab of 40000 which are more beneficial and trust worthy for loan paybacks "
      ]
    },
    {
      "cell_type": "code",
      "metadata": {
        "id": "vlq0zolxlbbu",
        "colab_type": "code",
        "outputId": "9bf3b786-43e2-45ac-9dc9-37f58fe4dabb",
        "colab": {
          "base_uri": "https://localhost:8080/",
          "height": 322
        }
      },
      "source": [
        "#Female Loan Applicants are 80% less than Male Applicants \n",
        "df['Gender'].value_counts().plot.bar().set_xlabel('Gender')"
      ],
      "execution_count": 627,
      "outputs": [
        {
          "output_type": "execute_result",
          "data": {
            "text/plain": [
              "Text(0.5, 0, 'Gender')"
            ]
          },
          "metadata": {
            "tags": []
          },
          "execution_count": 627
        },
        {
          "output_type": "display_data",
          "data": {
            "image/png": "[encoded data removed]",
            "text/plain": [
              "<Figure size 432x288 with 1 Axes>"
            ]
          },
          "metadata": {
            "tags": [],
            "needs_background": "light"
          }
        }
      ]
    },
    {
      "cell_type": "code",
      "metadata": {
        "id": "fJkVMwP1oFAQ",
        "colab_type": "code",
        "outputId": "f79ebeff-7d1b-49bc-f654-6cc5c7691f56",
        "colab": {
          "base_uri": "https://localhost:8080/",
          "height": 302
        }
      },
      "source": [
        "#Married Loan Applicants are considerable more than Not Married Applicants which is also a risk factor while payback\n",
        "df['Married'].value_counts().plot.bar().set_xlabel('Marital Status')"
      ],
      "execution_count": 628,
      "outputs": [
        {
          "output_type": "execute_result",
          "data": {
            "text/plain": [
              "Text(0.5, 0, 'Marital Status')"
            ]
          },
          "metadata": {
            "tags": []
          },
          "execution_count": 628
        },
        {
          "output_type": "display_data",
          "data": {
            "image/png": "[encoded data removed]",
            "text/plain": [
              "<Figure size 432x288 with 1 Axes>"
            ]
          },
          "metadata": {
            "tags": [],
            "needs_background": "light"
          }
        }
      ]
    },
    {
      "cell_type": "code",
      "metadata": {
        "id": "Rj8Af1n_n8NQ",
        "colab_type": "code",
        "outputId": "fd82421b-f334-4d00-f78c-fd110a5da435",
        "colab": {
          "base_uri": "https://localhost:8080/",
          "height": 301
        }
      },
      "source": [
        "#Loan Applicants having people financially depended on them are risky to give loan to and here there are 80% of total applicants\n",
        "#on whom no one is dependent\n",
        "df['Dependents'].value_counts().plot.bar().set_xlabel(\"Number of People Dependent On Applicant\")"
      ],
      "execution_count": 442,
      "outputs": [
        {
          "output_type": "execute_result",
          "data": {
            "text/plain": [
              "Text(0.5, 0, 'Number of People Dependent On Applicant')"
            ]
          },
          "metadata": {
            "tags": []
          },
          "execution_count": 442
        },
        {
          "output_type": "display_data",
          "data": {
            "image/png": "[encoded data removed]",
            "text/plain": [
              "<Figure size 432x288 with 1 Axes>"
            ]
          },
          "metadata": {
            "tags": [],
            "needs_background": "light"
          }
        }
      ]
    },
    {
      "cell_type": "code",
      "metadata": {
        "id": "FicDZVmyn0Qe",
        "colab_type": "code",
        "outputId": "1ae77db4-897e-4e11-9f55-d9d3576c908f",
        "colab": {
          "base_uri": "https://localhost:8080/",
          "height": 357
        }
      },
      "source": [
        "#Not graduates are also loan applicants which might be good if they are starting their business as \n",
        "#they can also be an asset while pay back period \n",
        "df['Education'].value_counts().plot.bar().set_xlabel('Graudate/Non_Graduate')"
      ],
      "execution_count": 443,
      "outputs": [
        {
          "output_type": "execute_result",
          "data": {
            "text/plain": [
              "Text(0.5, 0, 'Graudate/Non_Graduate')"
            ]
          },
          "metadata": {
            "tags": []
          },
          "execution_count": 443
        },
        {
          "output_type": "display_data",
          "data": {
            "image/png": "[encoded data removed]",
            "text/plain": [
              "<Figure size 432x288 with 1 Axes>"
            ]
          },
          "metadata": {
            "tags": [],
            "needs_background": "light"
          }
        }
      ]
    },
    {
      "cell_type": "code",
      "metadata": {
        "id": "PCV_qQWpnxik",
        "colab_type": "code",
        "outputId": "6c858806-abd9-40f9-b5ef-834daad5da65",
        "colab": {
          "base_uri": "https://localhost:8080/",
          "height": 302
        }
      },
      "source": [
        "#Non-Self Employed are given more loan applicants which is actually good as they have a stable or fixed monthly income which\n",
        "#in turn is easier for the applicant to payback interests or dues\n",
        "df['Self_Employed'].value_counts().plot.bar().set_xlabel('Employment Type')"
      ],
      "execution_count": 444,
      "outputs": [
        {
          "output_type": "execute_result",
          "data": {
            "text/plain": [
              "Text(0.5, 0, 'Employment Type')"
            ]
          },
          "metadata": {
            "tags": []
          },
          "execution_count": 444
        },
        {
          "output_type": "display_data",
          "data": {
            "image/png": "[encoded data removed]",
            "text/plain": [
              "<Figure size 432x288 with 1 Axes>"
            ]
          },
          "metadata": {
            "tags": [],
            "needs_background": "light"
          }
        }
      ]
    },
    {
      "cell_type": "code",
      "metadata": {
        "id": "cTYowM5tntnM",
        "colab_type": "code",
        "outputId": "145ffc0b-2bbf-49db-bcf3-a5c3bd792f58",
        "colab": {
          "base_uri": "https://localhost:8080/",
          "height": 340
        }
      },
      "source": [
        "#Every loan Applicant is having some sort of land in their posession which is an asset for the applicant and also for the \n",
        "#debtor if dues are not made\n",
        "df['Property_Area'].value_counts().plot.bar().set_xlabel('Kind Of Land owned by Applicant')"
      ],
      "execution_count": 445,
      "outputs": [
        {
          "output_type": "execute_result",
          "data": {
            "text/plain": [
              "Text(0.5, 0, 'Kind Of Land owned by Applicant')"
            ]
          },
          "metadata": {
            "tags": []
          },
          "execution_count": 445
        },
        {
          "output_type": "display_data",
          "data": {
            "image/png": "[encoded data removed]",
            "text/plain": [
              "<Figure size 432x288 with 1 Axes>"
            ]
          },
          "metadata": {
            "tags": [],
            "needs_background": "light"
          }
        }
      ]
    },
    {
      "cell_type": "markdown",
      "metadata": {
        "id": "nall-pZTqMT7",
        "colab_type": "text"
      },
      "source": [
        "\n",
        "*#Loan_status uivariate analysis cannot provide any insights .....it needs to be bivariate*\n",
        "\n",
        "***Problem 4***\n",
        "*Perform Bi-variate Analysis among all Independent variables.Draw appropriate Plots , mention observations*"
      ]
    },
    {
      "cell_type": "code",
      "metadata": {
        "id": "xvkNrC8LqT-v",
        "colab_type": "code",
        "outputId": "6cb9a70b-f9e6-4329-db49-52d5890f8b94",
        "colab": {
          "base_uri": "https://localhost:8080/",
          "height": 458
        }
      },
      "source": [
        "#Target varisable/Dependent Variable- Loan Status,Loan_amount_term,loan_amount\n",
        "#IndependentVariables- Gender,Married,Dependents,Education,SelfEmployed,ApplicantIncome,CoApplicantIncome,CreditHistory,PropertyArea\n",
        "#DependentVariables- \n",
        "# UniqueInfo Loan_Id\n",
        "import seaborn as sns\n",
        "import matplotlib.pyplot as plt\n",
        "fn = sns.FacetGrid(df,col='Married',row='Gender',height=3, aspect=1)\n",
        "fn = fn.map(plt.hist,\"ApplicantIncome\")\n",
        "fg.set_xlabels('Married')\n",
        "fg.set_ylabels('ApplicantIncome')\n",
        "##Observation\n",
        "#Married Females are having less income whereas married males are having wayy more income"
      ],
      "execution_count": 634,
      "outputs": [
        {
          "output_type": "execute_result",
          "data": {
            "text/plain": [
              "<seaborn.axisgrid.FacetGrid at 0x7f17f227bfd0>"
            ]
          },
          "metadata": {
            "tags": []
          },
          "execution_count": 634
        },
        {
          "output_type": "display_data",
          "data": {
            "image/png": "[encoded data removed]",
            "text/plain": [
              "<Figure size 432x432 with 4 Axes>"
            ]
          },
          "metadata": {
            "tags": [],
            "needs_background": "light"
          }
        }
      ]
    },
    {
      "cell_type": "code",
      "metadata": {
        "id": "X6uTG4q_wBTO",
        "colab_type": "code",
        "colab": {
          "base_uri": "https://localhost:8080/",
          "height": 458
        },
        "outputId": "7923a23e-9fd6-43c5-8d43-aa559e1e32af"
      },
      "source": [
        "fn = sns.FacetGrid(df,col='Dependents',row='Education',height=3, aspect=1)\n",
        "fn = fn.map(plt.hist,\"ApplicantIncome\")\n",
        "fg.set_xlabels('Married')\n",
        "fg.set_ylabels('ApplicantIncome')\n",
        "##observation Non Graduates with dependency >0 are earning almost negligible which is a concerning issue if they have applied for loan"
      ],
      "execution_count": 637,
      "outputs": [
        {
          "output_type": "execute_result",
          "data": {
            "text/plain": [
              "<seaborn.axisgrid.FacetGrid at 0x7f17f227bfd0>"
            ]
          },
          "metadata": {
            "tags": []
          },
          "execution_count": 637
        },
        {
          "output_type": "display_data",
          "data": {
            "image/png": "[encoded data removed]",
            "text/plain": [
              "<Figure size 864x432 with 8 Axes>"
            ]
          },
          "metadata": {
            "tags": [],
            "needs_background": "light"
          }
        }
      ]
    },
    {
      "cell_type": "code",
      "metadata": {
        "id": "e8kF6-E6wtcJ",
        "colab_type": "code",
        "colab": {
          "base_uri": "https://localhost:8080/",
          "height": 674
        },
        "outputId": "2731a68e-dd51-4fae-b41b-1219e4904473"
      },
      "source": [
        "fn = sns.FacetGrid(df,col='Self_Employed',row='Property_Area',height=3, aspect=1)\n",
        "fn = fn.map(plt.hist,\"ApplicantIncome\")\n",
        "fg.set_xlabels('Married')\n",
        "fg.set_ylabels('ApplicantIncome')\n",
        "#observation -- self employed living in urban or rural or semi urban are also having negligible income"
      ],
      "execution_count": 638,
      "outputs": [
        {
          "output_type": "execute_result",
          "data": {
            "text/plain": [
              "<seaborn.axisgrid.FacetGrid at 0x7f17f227bfd0>"
            ]
          },
          "metadata": {
            "tags": []
          },
          "execution_count": 638
        },
        {
          "output_type": "display_data",
          "data": {
            "image/png": "[encoded data removed]",
            "text/plain": [
              "<Figure size 432x648 with 6 Axes>"
            ]
          },
          "metadata": {
            "tags": [],
            "needs_background": "light"
          }
        }
      ]
    },
    {
      "cell_type": "code",
      "metadata": {
        "id": "eJeqDjL7xDH3",
        "colab_type": "code",
        "colab": {
          "base_uri": "https://localhost:8080/",
          "height": 458
        },
        "outputId": "a2bbbcf2-99b8-43cb-bc7d-e02594277407"
      },
      "source": [
        "fn = sns.FacetGrid(df,col='Self_Employed',row='Credit_History',height=3, aspect=1)\n",
        "fn = fn.map(plt.hist,\"ApplicantIncome\")\n",
        "fg.set_xlabels('Married')\n",
        "fg.set_ylabels('ApplicantIncome')\n",
        "#observation ....credit history is not at all a feature for self employed here as they are negligible on both the values 1/0 "
      ],
      "execution_count": 640,
      "outputs": [
        {
          "output_type": "execute_result",
          "data": {
            "text/plain": [
              "<seaborn.axisgrid.FacetGrid at 0x7f17f227bfd0>"
            ]
          },
          "metadata": {
            "tags": []
          },
          "execution_count": 640
        },
        {
          "output_type": "display_data",
          "data": {
            "image/png": "[encoded data removed]",
            "text/plain": [
              "<Figure size 432x432 with 4 Axes>"
            ]
          },
          "metadata": {
            "tags": [],
            "needs_background": "light"
          }
        }
      ]
    },
    {
      "cell_type": "markdown",
      "metadata": {
        "id": "q9u5Uh7IxcJc",
        "colab_type": "text"
      },
      "source": [
        "***Problem #5***\n",
        "*Perform Bi-variate Analysis between Target Variable and each Independent variable. Use suitable plot , mention observations,trends etc*\n"
      ]
    },
    {
      "cell_type": "code",
      "metadata": {
        "id": "SmTg6cvvQEme",
        "colab_type": "code",
        "colab": {
          "base_uri": "https://localhost:8080/",
          "height": 879
        },
        "outputId": "0f2df6ca-1b1f-4edf-cc27-a69fbcc392dc"
      },
      "source": [
        "fig,axes = plt.subplots(4,2,figsize=(12,15))\n",
        "for i,cat_col in enumerate(categoricalColumns):\n",
        "    row,col = i//2,i%2\n",
        "    sns.countplot(x=cat_col,data=df,hue='Loan_Status',ax=axes[row,col])\n",
        "\n",
        "\n",
        "\n",
        "#['Gender','Married','Dependents','Education','Self_Employed','ApplicantIncome','CoapplicantIncome','Credit_History','Property_Area']"
      ],
      "execution_count": 447,
      "outputs": [
        {
          "output_type": "display_data",
          "data": {
            "image/png": "[encoded data removed]",
            "text/plain": [
              "<Figure size 864x1080 with 8 Axes>"
            ]
          },
          "metadata": {
            "tags": [],
            "needs_background": "light"
          }
        }
      ]
    },
    {
      "cell_type": "code",
      "metadata": {
        "id": "jxH6yZT5TJS5",
        "colab_type": "code",
        "colab": {
          "base_uri": "https://localhost:8080/",
          "height": 297
        },
        "outputId": "ad0abbaf-aa06-4d4c-a7e3-88101a66fbfa"
      },
      "source": [
        "df.plot.scatter(x='Loan_Status',y='ApplicantIncome')"
      ],
      "execution_count": 448,
      "outputs": [
        {
          "output_type": "execute_result",
          "data": {
            "text/plain": [
              "<matplotlib.axes._subplots.AxesSubplot at 0x7f17e023a668>"
            ]
          },
          "metadata": {
            "tags": []
          },
          "execution_count": 448
        },
        {
          "output_type": "display_data",
          "data": {
            "image/png": "[encoded data removed]",
            "text/plain": [
              "<Figure size 432x288 with 1 Axes>"
            ]
          },
          "metadata": {
            "tags": [],
            "needs_background": "light"
          }
        }
      ]
    },
    {
      "cell_type": "code",
      "metadata": {
        "id": "Jzhl4y9uTRiz",
        "colab_type": "code",
        "colab": {
          "base_uri": "https://localhost:8080/",
          "height": 297
        },
        "outputId": "7e3d34ad-9d2a-46f8-dde0-9168a9af5c82"
      },
      "source": [
        "df.plot.scatter(x='Loan_Status',y='CoapplicantIncome')"
      ],
      "execution_count": 449,
      "outputs": [
        {
          "output_type": "execute_result",
          "data": {
            "text/plain": [
              "<matplotlib.axes._subplots.AxesSubplot at 0x7f17f29cb7b8>"
            ]
          },
          "metadata": {
            "tags": []
          },
          "execution_count": 449
        },
        {
          "output_type": "display_data",
          "data": {
            "image/png": "[encoded data removed]",
            "text/plain": [
              "<Figure size 432x288 with 1 Axes>"
            ]
          },
          "metadata": {
            "tags": [],
            "needs_background": "light"
          }
        }
      ]
    },
    {
      "cell_type": "markdown",
      "metadata": {
        "id": "U8_2K-f2Q-ld",
        "colab_type": "text"
      },
      "source": [
        "***Problem 6***\n",
        "*How is the class distribution (Y/N) in Label(Target) Variable ?*"
      ]
    },
    {
      "cell_type": "code",
      "metadata": {
        "id": "NrWuN3PhQ9bh",
        "colab_type": "code",
        "colab": {
          "base_uri": "https://localhost:8080/",
          "height": 142
        },
        "outputId": "5b8fc46e-e2fa-4d64-c8ea-2d1f8126d80b"
      },
      "source": [
        "df.groupby('Loan_Status').count()"
      ],
      "execution_count": 450,
      "outputs": [
        {
          "output_type": "execute_result",
          "data": {
            "text/html": [
              "<div>\n",
              "<style scoped>\n",
              "    .dataframe tbody tr th:only-of-type {\n",
              "        vertical-align: middle;\n",
              "    }\n",
              "\n",
              "    .dataframe tbody tr th {\n",
              "        vertical-align: top;\n",
              "    }\n",
              "\n",
              "    .dataframe thead th {\n",
              "        text-align: right;\n",
              "    }\n",
              "</style>\n",
              "<table border=\"1\" class=\"dataframe\">\n",
              "  <thead>\n",
              "    <tr style=\"text-align: right;\">\n",
              "      <th></th>\n",
              "      <th>Gender</th>\n",
              "      <th>Married</th>\n",
              "      <th>Dependents</th>\n",
              "      <th>Education</th>\n",
              "      <th>Self_Employed</th>\n",
              "      <th>ApplicantIncome</th>\n",
              "      <th>CoapplicantIncome</th>\n",
              "      <th>LoanAmount</th>\n",
              "      <th>Loan_Amount_Term</th>\n",
              "      <th>Credit_History</th>\n",
              "      <th>Property_Area</th>\n",
              "    </tr>\n",
              "    <tr>\n",
              "      <th>Loan_Status</th>\n",
              "      <th></th>\n",
              "      <th></th>\n",
              "      <th></th>\n",
              "      <th></th>\n",
              "      <th></th>\n",
              "      <th></th>\n",
              "      <th></th>\n",
              "      <th></th>\n",
              "      <th></th>\n",
              "      <th></th>\n",
              "      <th></th>\n",
              "    </tr>\n",
              "  </thead>\n",
              "  <tbody>\n",
              "    <tr>\n",
              "      <th>N</th>\n",
              "      <td>187</td>\n",
              "      <td>192</td>\n",
              "      <td>186</td>\n",
              "      <td>192</td>\n",
              "      <td>183</td>\n",
              "      <td>192</td>\n",
              "      <td>192</td>\n",
              "      <td>181</td>\n",
              "      <td>186</td>\n",
              "      <td>179</td>\n",
              "      <td>192</td>\n",
              "    </tr>\n",
              "    <tr>\n",
              "      <th>Y</th>\n",
              "      <td>414</td>\n",
              "      <td>419</td>\n",
              "      <td>413</td>\n",
              "      <td>422</td>\n",
              "      <td>399</td>\n",
              "      <td>422</td>\n",
              "      <td>422</td>\n",
              "      <td>411</td>\n",
              "      <td>414</td>\n",
              "      <td>385</td>\n",
              "      <td>422</td>\n",
              "    </tr>\n",
              "  </tbody>\n",
              "</table>\n",
              "</div>"
            ],
            "text/plain": [
              "             Gender  Married  ...  Credit_History  Property_Area\n",
              "Loan_Status                   ...                               \n",
              "N               187      192  ...             179            192\n",
              "Y               414      419  ...             385            422\n",
              "\n",
              "[2 rows x 11 columns]"
            ]
          },
          "metadata": {
            "tags": []
          },
          "execution_count": 450
        }
      ]
    },
    {
      "cell_type": "code",
      "metadata": {
        "id": "2O0Og7UYWlEx",
        "colab_type": "code",
        "colab": {
          "base_uri": "https://localhost:8080/",
          "height": 338
        },
        "outputId": "58693fb9-a53f-4f7e-beb3-d51cc2776cd2"
      },
      "source": [
        "df.groupby('Loan_Status').count().boxplot(figsize=[25,5],fontsize=10)\n"
      ],
      "execution_count": 619,
      "outputs": [
        {
          "output_type": "execute_result",
          "data": {
            "text/plain": [
              "<matplotlib.axes._subplots.AxesSubplot at 0x7f17efc97c88>"
            ]
          },
          "metadata": {
            "tags": []
          },
          "execution_count": 619
        },
        {
          "output_type": "display_data",
          "data": {
            "image/png": "[encoded data removed]",
            "text/plain": [
              "<Figure size 1800x360 with 1 Axes>"
            ]
          },
          "metadata": {
            "tags": [],
            "needs_background": "light"
          }
        }
      ]
    },
    {
      "cell_type": "markdown",
      "metadata": {
        "id": "E3fIKSgO18Gq",
        "colab_type": "text"
      },
      "source": [
        "***Problem #7 ***\n",
        "*Identify the Independent Variables that have missing values*"
      ]
    },
    {
      "cell_type": "code",
      "metadata": {
        "id": "fEeHqVJt5eQL",
        "colab_type": "code",
        "outputId": "3e268389-283b-4f4b-e667-f30350bfed0c",
        "colab": {
          "base_uri": "https://localhost:8080/",
          "height": 119
        }
      },
      "source": [
        "import numpy as np\n",
        "for col in df.columns:\n",
        "  missingPercent = np.mean(df[col].isnull())\n",
        "  if round(missingPercent*100) >0:\n",
        "    missingValues = df[col].isnull().sum().sum()\n",
        "    print(\"Column {} with mean {} with missing values  {}\".format(col,int(round(missingPercent*100)),missingValues))\n",
        "#As the below output the following columns in data have missing values with number of missin values written"
      ],
      "execution_count": 452,
      "outputs": [
        {
          "output_type": "stream",
          "text": [
            "Column Gender with mean 2 with missing values  13\n",
            "Column Dependents with mean 2 with missing values  15\n",
            "Column Self_Employed with mean 5 with missing values  32\n",
            "Column LoanAmount with mean 4 with missing values  22\n",
            "Column Loan_Amount_Term with mean 2 with missing values  14\n",
            "Column Credit_History with mean 8 with missing values  50\n"
          ],
          "name": "stdout"
        }
      ]
    },
    {
      "cell_type": "markdown",
      "metadata": {
        "id": "C-USVgFR-n2r",
        "colab_type": "text"
      },
      "source": [
        "***Problem #8***\n",
        "*Handle missing values appropriately , explain the technique applied for each case*"
      ]
    },
    {
      "cell_type": "code",
      "metadata": {
        "id": "AwHVSuKK_bhi",
        "colab_type": "code",
        "colab": {}
      },
      "source": [
        "#As the Gender column was string so we used to fill nan values with maximum occuring data\n",
        "df['Gender']=df.Gender.fillna(df[\"Gender\"].value_counts().nlargest(n=1).index[0])\n",
        "df = df.fillna(0)"
      ],
      "execution_count": 0,
      "outputs": []
    },
    {
      "cell_type": "code",
      "metadata": {
        "id": "oHHPA9KD_BM3",
        "colab_type": "code",
        "colab": {}
      },
      "source": [
        "for col in df.columns:\n",
        "  missingPercent = np.mean(df[col].isnull())\n",
        "  if round(missingPercent*100) >0:\n",
        "    missingValues = df[col].isnull().sum().sum()\n",
        "    print(\"Column {} with mean {} with missing values  {}\".format(col,int(round(missingPercent*100)),missingValues))\n",
        "#After running this segment of code again there were no null or missing values found in dataframe"
      ],
      "execution_count": 0,
      "outputs": []
    },
    {
      "cell_type": "markdown",
      "metadata": {
        "id": "WrRgK92NBRJI",
        "colab_type": "text"
      },
      "source": [
        "***Problem #9***\n",
        "*Identify the Outliers in each Independent Variable.Distribute the data in each field using Quartile bins (0-25%,25%-50%,50%-75%,75%-100% iles)*\n",
        "\n",
        "***Problem #10***\n",
        "*Use Box-Plot chart to represent the Outliers for each Independent Variable*"
      ]
    },
    {
      "cell_type": "code",
      "metadata": {
        "id": "Ab3b5vH_BXde",
        "colab_type": "code",
        "colab": {
          "base_uri": "https://localhost:8080/",
          "height": 34
        },
        "outputId": "72c7ed38-4c8e-4bfb-e878-ba549c90a699"
      },
      "source": [
        "IndependentVariables = ['Gender','Married','Dependents','Education','SelfEmployed','ApplicantIncome','CoApplicantIncome','CreditHistory','PropertyArea']\n",
        "IndependentNumericalColumns = list(df._get_numeric_data().columns)\n",
        "print(IndependentNumericalColumns)\n",
        "##BoxPlot and describe() functions work for numeric data so extracted only numeric independed columns"
      ],
      "execution_count": 455,
      "outputs": [
        {
          "output_type": "stream",
          "text": [
            "['ApplicantIncome', 'CoapplicantIncome', 'LoanAmount', 'Loan_Amount_Term', 'Credit_History']\n"
          ],
          "name": "stdout"
        }
      ]
    },
    {
      "cell_type": "code",
      "metadata": {
        "id": "bZLpGVyEK5bk",
        "colab_type": "code",
        "colab": {
          "base_uri": "https://localhost:8080/",
          "height": 297
        },
        "outputId": "07d49341-3a69-4e48-db9f-6cc563d483c3"
      },
      "source": [
        "df.describe()"
      ],
      "execution_count": 457,
      "outputs": [
        {
          "output_type": "execute_result",
          "data": {
            "text/html": [
              "<div>\n",
              "<style scoped>\n",
              "    .dataframe tbody tr th:only-of-type {\n",
              "        vertical-align: middle;\n",
              "    }\n",
              "\n",
              "    .dataframe tbody tr th {\n",
              "        vertical-align: top;\n",
              "    }\n",
              "\n",
              "    .dataframe thead th {\n",
              "        text-align: right;\n",
              "    }\n",
              "</style>\n",
              "<table border=\"1\" class=\"dataframe\">\n",
              "  <thead>\n",
              "    <tr style=\"text-align: right;\">\n",
              "      <th></th>\n",
              "      <th>ApplicantIncome</th>\n",
              "      <th>CoapplicantIncome</th>\n",
              "      <th>LoanAmount</th>\n",
              "      <th>Loan_Amount_Term</th>\n",
              "      <th>Credit_History</th>\n",
              "    </tr>\n",
              "  </thead>\n",
              "  <tbody>\n",
              "    <tr>\n",
              "      <th>count</th>\n",
              "      <td>614.000000</td>\n",
              "      <td>614.000000</td>\n",
              "      <td>614.000000</td>\n",
              "      <td>614.000000</td>\n",
              "      <td>614.000000</td>\n",
              "    </tr>\n",
              "    <tr>\n",
              "      <th>mean</th>\n",
              "      <td>5403.459283</td>\n",
              "      <td>1621.245798</td>\n",
              "      <td>141.166124</td>\n",
              "      <td>334.201954</td>\n",
              "      <td>0.773616</td>\n",
              "    </tr>\n",
              "    <tr>\n",
              "      <th>std</th>\n",
              "      <td>6109.041673</td>\n",
              "      <td>2926.248369</td>\n",
              "      <td>88.340630</td>\n",
              "      <td>82.183884</td>\n",
              "      <td>0.418832</td>\n",
              "    </tr>\n",
              "    <tr>\n",
              "      <th>min</th>\n",
              "      <td>150.000000</td>\n",
              "      <td>0.000000</td>\n",
              "      <td>0.000000</td>\n",
              "      <td>0.000000</td>\n",
              "      <td>0.000000</td>\n",
              "    </tr>\n",
              "    <tr>\n",
              "      <th>25%</th>\n",
              "      <td>2877.500000</td>\n",
              "      <td>0.000000</td>\n",
              "      <td>98.000000</td>\n",
              "      <td>360.000000</td>\n",
              "      <td>1.000000</td>\n",
              "    </tr>\n",
              "    <tr>\n",
              "      <th>50%</th>\n",
              "      <td>3812.500000</td>\n",
              "      <td>1188.500000</td>\n",
              "      <td>125.000000</td>\n",
              "      <td>360.000000</td>\n",
              "      <td>1.000000</td>\n",
              "    </tr>\n",
              "    <tr>\n",
              "      <th>75%</th>\n",
              "      <td>5795.000000</td>\n",
              "      <td>2297.250000</td>\n",
              "      <td>164.750000</td>\n",
              "      <td>360.000000</td>\n",
              "      <td>1.000000</td>\n",
              "    </tr>\n",
              "    <tr>\n",
              "      <th>max</th>\n",
              "      <td>81000.000000</td>\n",
              "      <td>41667.000000</td>\n",
              "      <td>700.000000</td>\n",
              "      <td>480.000000</td>\n",
              "      <td>1.000000</td>\n",
              "    </tr>\n",
              "  </tbody>\n",
              "</table>\n",
              "</div>"
            ],
            "text/plain": [
              "       ApplicantIncome  CoapplicantIncome  ...  Loan_Amount_Term  Credit_History\n",
              "count       614.000000         614.000000  ...        614.000000      614.000000\n",
              "mean       5403.459283        1621.245798  ...        334.201954        0.773616\n",
              "std        6109.041673        2926.248369  ...         82.183884        0.418832\n",
              "min         150.000000           0.000000  ...          0.000000        0.000000\n",
              "25%        2877.500000           0.000000  ...        360.000000        1.000000\n",
              "50%        3812.500000        1188.500000  ...        360.000000        1.000000\n",
              "75%        5795.000000        2297.250000  ...        360.000000        1.000000\n",
              "max       81000.000000       41667.000000  ...        480.000000        1.000000\n",
              "\n",
              "[8 rows x 5 columns]"
            ]
          },
          "metadata": {
            "tags": []
          },
          "execution_count": 457
        }
      ]
    },
    {
      "cell_type": "code",
      "metadata": {
        "id": "DyZ_0ij-FAlo",
        "colab_type": "code",
        "colab": {
          "base_uri": "https://localhost:8080/",
          "height": 432
        },
        "outputId": "582f74a9-fcff-47d6-efe6-3c729841bab5"
      },
      "source": [
        "import seaborn as sns\n",
        "sns.boxplot(x=df['ApplicantIncome'])\n",
        "print(df['ApplicantIncome'].describe())\n",
        "#8 Outliers are visible"
      ],
      "execution_count": 456,
      "outputs": [
        {
          "output_type": "stream",
          "text": [
            "count      614.000000\n",
            "mean      5403.459283\n",
            "std       6109.041673\n",
            "min        150.000000\n",
            "25%       2877.500000\n",
            "50%       3812.500000\n",
            "75%       5795.000000\n",
            "max      81000.000000\n",
            "Name: ApplicantIncome, dtype: float64\n"
          ],
          "name": "stdout"
        },
        {
          "output_type": "display_data",
          "data": {
            "image/png": "[encoded data removed]",
            "text/plain": [
              "<Figure size 432x288 with 1 Axes>"
            ]
          },
          "metadata": {
            "tags": [],
            "needs_background": "light"
          }
        }
      ]
    },
    {
      "cell_type": "code",
      "metadata": {
        "id": "TPNEn4hxHHFw",
        "colab_type": "code",
        "colab": {
          "base_uri": "https://localhost:8080/",
          "height": 432
        },
        "outputId": "2ee2d2a6-2d27-44ba-bdf9-76a47424dcfc"
      },
      "source": [
        "sns.boxplot(x=df['CoapplicantIncome'])\n",
        "print(df['CoapplicantIncome'].describe())\n",
        "#3/4 Outliers are visible"
      ],
      "execution_count": 458,
      "outputs": [
        {
          "output_type": "stream",
          "text": [
            "count      614.000000\n",
            "mean      1621.245798\n",
            "std       2926.248369\n",
            "min          0.000000\n",
            "25%          0.000000\n",
            "50%       1188.500000\n",
            "75%       2297.250000\n",
            "max      41667.000000\n",
            "Name: CoapplicantIncome, dtype: float64\n"
          ],
          "name": "stdout"
        },
        {
          "output_type": "display_data",
          "data": {
            "image/png": "[encoded data removed]",
            "text/plain": [
              "<Figure size 432x288 with 1 Axes>"
            ]
          },
          "metadata": {
            "tags": [],
            "needs_background": "light"
          }
        }
      ]
    },
    {
      "cell_type": "code",
      "metadata": {
        "id": "MyNGWO6tHaRO",
        "colab_type": "code",
        "colab": {
          "base_uri": "https://localhost:8080/",
          "height": 432
        },
        "outputId": "c256e864-9345-41ef-c593-1c53f25e1f41"
      },
      "source": [
        "sns.boxplot(x=df['LoanAmount'])\n",
        "print(df['LoanAmount'].describe())\n",
        "#4 Outlier are visible"
      ],
      "execution_count": 459,
      "outputs": [
        {
          "output_type": "stream",
          "text": [
            "count    614.000000\n",
            "mean     141.166124\n",
            "std       88.340630\n",
            "min        0.000000\n",
            "25%       98.000000\n",
            "50%      125.000000\n",
            "75%      164.750000\n",
            "max      700.000000\n",
            "Name: LoanAmount, dtype: float64\n"
          ],
          "name": "stdout"
        },
        {
          "output_type": "display_data",
          "data": {
            "image/png": "[encoded data removed]",
            "text/plain": [
              "<Figure size 432x288 with 1 Axes>"
            ]
          },
          "metadata": {
            "tags": [],
            "needs_background": "light"
          }
        }
      ]
    },
    {
      "cell_type": "code",
      "metadata": {
        "id": "q4d7prLGHrjG",
        "colab_type": "code",
        "colab": {
          "base_uri": "https://localhost:8080/",
          "height": 433
        },
        "outputId": "775b49a7-5532-4246-b1c8-415b8af30ade"
      },
      "source": [
        "sns.boxplot(x=df['Loan_Amount_Term'])\n",
        "print(df['Loan_Amount_Term'].describe())\n",
        "#1 outlier"
      ],
      "execution_count": 460,
      "outputs": [
        {
          "output_type": "stream",
          "text": [
            "count    614.000000\n",
            "mean     334.201954\n",
            "std       82.183884\n",
            "min        0.000000\n",
            "25%      360.000000\n",
            "50%      360.000000\n",
            "75%      360.000000\n",
            "max      480.000000\n",
            "Name: Loan_Amount_Term, dtype: float64\n"
          ],
          "name": "stdout"
        },
        {
          "output_type": "display_data",
          "data": {
            "image/png": "[encoded data removed]",
            "text/plain": [
              "<Figure size 432x288 with 1 Axes>"
            ]
          },
          "metadata": {
            "tags": [],
            "needs_background": "light"
          }
        }
      ]
    },
    {
      "cell_type": "code",
      "metadata": {
        "id": "Lr4vFNqSH0i1",
        "colab_type": "code",
        "colab": {
          "base_uri": "https://localhost:8080/",
          "height": 433
        },
        "outputId": "61f018b8-bdd3-45d2-f144-0d472f2f4048"
      },
      "source": [
        "sns.boxplot(x=df['Credit_History'])\n",
        "print(df['Credit_History'].describe())\n",
        "#No outlier"
      ],
      "execution_count": 461,
      "outputs": [
        {
          "output_type": "stream",
          "text": [
            "count    614.000000\n",
            "mean       0.773616\n",
            "std        0.418832\n",
            "min        0.000000\n",
            "25%        1.000000\n",
            "50%        1.000000\n",
            "75%        1.000000\n",
            "max        1.000000\n",
            "Name: Credit_History, dtype: float64\n"
          ],
          "name": "stdout"
        },
        {
          "output_type": "display_data",
          "data": {
            "image/png": "[encoded data removed]",
            "text/plain": [
              "<Figure size 432x288 with 1 Axes>"
            ]
          },
          "metadata": {
            "tags": [],
            "needs_background": "light"
          }
        }
      ]
    },
    {
      "cell_type": "markdown",
      "metadata": {
        "id": "Tfagbz8qIo7p",
        "colab_type": "text"
      },
      "source": [
        "***Problem #10***\n",
        "*Perform treatment of these Outliers using appropriate techniqies.Explain your approach*"
      ]
    },
    {
      "cell_type": "code",
      "metadata": {
        "id": "quPkwv_iIori",
        "colab_type": "code",
        "colab": {
          "base_uri": "https://localhost:8080/",
          "height": 51
        },
        "outputId": "4cbb39cc-850a-4915-a2a2-ed0bfe1a6b2f"
      },
      "source": [
        "import numpy as np\n",
        "print(df['ApplicantIncome'].quantile(0.1))\n",
        "print(df['ApplicantIncome'].quantile(0.90))"
      ],
      "execution_count": 462,
      "outputs": [
        {
          "output_type": "stream",
          "text": [
            "2216.1000000000004\n",
            "9459.900000000007\n"
          ],
          "name": "stdout"
        }
      ]
    },
    {
      "cell_type": "code",
      "metadata": {
        "id": "PRVWhP3sM7xW",
        "colab_type": "code",
        "colab": {
          "base_uri": "https://localhost:8080/",
          "height": 119
        },
        "outputId": "8de9ab40-f107-43d5-b0bc-3d4739160e2a"
      },
      "source": [
        "df.skew()\n",
        "#Credit history data is perfectly symmetrical"
      ],
      "execution_count": 463,
      "outputs": [
        {
          "output_type": "execute_result",
          "data": {
            "text/plain": [
              "ApplicantIncome      6.539513\n",
              "CoapplicantIncome    7.491531\n",
              "LoanAmount           2.362274\n",
              "Loan_Amount_Term    -2.513134\n",
              "Credit_History      -1.310835\n",
              "dtype: float64"
            ]
          },
          "metadata": {
            "tags": []
          },
          "execution_count": 463
        }
      ]
    },
    {
      "cell_type": "code",
      "metadata": {
        "id": "5azf0x-FMlfj",
        "colab_type": "code",
        "colab": {}
      },
      "source": [
        "df[\"ApplicantIncome\"] = np.where(df[\"ApplicantIncome\"] <int(df['ApplicantIncome'].quantile(0.1)), int(df['ApplicantIncome'].quantile(0.1)),df['ApplicantIncome'])\n",
        "df[\"ApplicantIncome\"] = np.where(df[\"ApplicantIncome\"] >int(df['ApplicantIncome'].quantile(0.9)), int(df['ApplicantIncome'].quantile(0.9)),df['ApplicantIncome'])"
      ],
      "execution_count": 0,
      "outputs": []
    },
    {
      "cell_type": "code",
      "metadata": {
        "id": "weuM-O4dMPjq",
        "colab_type": "code",
        "colab": {
          "base_uri": "https://localhost:8080/",
          "height": 153
        },
        "outputId": "dd998d34-d3ae-4675-ed63-cbc9aef431e5"
      },
      "source": [
        "for i in ['ApplicantIncome', 'CoapplicantIncome', 'LoanAmount', 'Loan_Amount_Term']:\n",
        "  print(df[i].quantile(0.1))\n",
        "  print(df[i].quantile(0.90))\n",
        "  # print(df.skew())\n",
        "  df[i] = np.where(df[i] <int(df[i].quantile(0.1)), int(df[i].quantile(0.1)),df[i])\n",
        "  df[i] = np.where(df[i] >int(df[i].quantile(0.9)), int(df[i].quantile(0.9)),df[i])\n",
        "  # print(df.skew())"
      ],
      "execution_count": 465,
      "outputs": [
        {
          "output_type": "stream",
          "text": [
            "2217.5\n",
            "9428.400000000005\n",
            "0.0\n",
            "3782.200000000002\n",
            "63.60000000000001\n",
            "229.4000000000001\n",
            "180.0\n",
            "360.0\n"
          ],
          "name": "stdout"
        }
      ]
    },
    {
      "cell_type": "code",
      "metadata": {
        "id": "F1fMkIz8N2a4",
        "colab_type": "code",
        "colab": {
          "base_uri": "https://localhost:8080/",
          "height": 119
        },
        "outputId": "21b0f0af-4cde-4013-da80-9ed5273b4dca"
      },
      "source": [
        "df.skew()\n",
        "#Now the data is almost symmetrical as skewness is between -1 however loan_amount_term is still not symmetrical but though it is a time period and it is not too much skewed"
      ],
      "execution_count": 466,
      "outputs": [
        {
          "output_type": "execute_result",
          "data": {
            "text/plain": [
              "ApplicantIncome      1.011996\n",
              "CoapplicantIncome    0.518439\n",
              "LoanAmount           0.490151\n",
              "Loan_Amount_Term    -2.281106\n",
              "Credit_History      -1.310835\n",
              "dtype: float64"
            ]
          },
          "metadata": {
            "tags": []
          },
          "execution_count": 466
        }
      ]
    },
    {
      "cell_type": "markdown",
      "metadata": {
        "id": "VjcC__gzYWgD",
        "colab_type": "text"
      },
      "source": [
        "***STEP #1***\n",
        "*Perform Label Encoding on Target Variable (Loan_Status)*"
      ]
    },
    {
      "cell_type": "code",
      "metadata": {
        "id": "2KVv8P06YceD",
        "colab_type": "code",
        "colab": {
          "base_uri": "https://localhost:8080/",
          "height": 204
        },
        "outputId": "e1ffd631-2fc0-4751-8a57-259e33f79e4f"
      },
      "source": [
        "from sklearn.preprocessing import LabelEncoder\n",
        "le = LabelEncoder()\n",
        "df['Loan_Status'] = le.fit_transform(df['Loan_Status'])\n",
        "df.head()"
      ],
      "execution_count": 471,
      "outputs": [
        {
          "output_type": "execute_result",
          "data": {
            "text/html": [
              "<div>\n",
              "<style scoped>\n",
              "    .dataframe tbody tr th:only-of-type {\n",
              "        vertical-align: middle;\n",
              "    }\n",
              "\n",
              "    .dataframe tbody tr th {\n",
              "        vertical-align: top;\n",
              "    }\n",
              "\n",
              "    .dataframe thead th {\n",
              "        text-align: right;\n",
              "    }\n",
              "</style>\n",
              "<table border=\"1\" class=\"dataframe\">\n",
              "  <thead>\n",
              "    <tr style=\"text-align: right;\">\n",
              "      <th></th>\n",
              "      <th>Gender</th>\n",
              "      <th>Married</th>\n",
              "      <th>Dependents</th>\n",
              "      <th>Education</th>\n",
              "      <th>Self_Employed</th>\n",
              "      <th>ApplicantIncome</th>\n",
              "      <th>CoapplicantIncome</th>\n",
              "      <th>LoanAmount</th>\n",
              "      <th>Loan_Amount_Term</th>\n",
              "      <th>Credit_History</th>\n",
              "      <th>Property_Area</th>\n",
              "      <th>Loan_Status</th>\n",
              "    </tr>\n",
              "  </thead>\n",
              "  <tbody>\n",
              "    <tr>\n",
              "      <th>0</th>\n",
              "      <td>Male</td>\n",
              "      <td>No</td>\n",
              "      <td>0</td>\n",
              "      <td>Graduate</td>\n",
              "      <td>No</td>\n",
              "      <td>5849</td>\n",
              "      <td>0.0</td>\n",
              "      <td>63.0</td>\n",
              "      <td>360.0</td>\n",
              "      <td>1.0</td>\n",
              "      <td>Urban</td>\n",
              "      <td>1</td>\n",
              "    </tr>\n",
              "    <tr>\n",
              "      <th>1</th>\n",
              "      <td>Male</td>\n",
              "      <td>Yes</td>\n",
              "      <td>1</td>\n",
              "      <td>Graduate</td>\n",
              "      <td>No</td>\n",
              "      <td>4583</td>\n",
              "      <td>1508.0</td>\n",
              "      <td>128.0</td>\n",
              "      <td>360.0</td>\n",
              "      <td>1.0</td>\n",
              "      <td>Rural</td>\n",
              "      <td>0</td>\n",
              "    </tr>\n",
              "    <tr>\n",
              "      <th>2</th>\n",
              "      <td>Male</td>\n",
              "      <td>Yes</td>\n",
              "      <td>0</td>\n",
              "      <td>Graduate</td>\n",
              "      <td>Yes</td>\n",
              "      <td>3000</td>\n",
              "      <td>0.0</td>\n",
              "      <td>66.0</td>\n",
              "      <td>360.0</td>\n",
              "      <td>1.0</td>\n",
              "      <td>Urban</td>\n",
              "      <td>1</td>\n",
              "    </tr>\n",
              "    <tr>\n",
              "      <th>3</th>\n",
              "      <td>Male</td>\n",
              "      <td>Yes</td>\n",
              "      <td>0</td>\n",
              "      <td>Not Graduate</td>\n",
              "      <td>No</td>\n",
              "      <td>2583</td>\n",
              "      <td>2358.0</td>\n",
              "      <td>120.0</td>\n",
              "      <td>360.0</td>\n",
              "      <td>1.0</td>\n",
              "      <td>Urban</td>\n",
              "      <td>1</td>\n",
              "    </tr>\n",
              "    <tr>\n",
              "      <th>4</th>\n",
              "      <td>Male</td>\n",
              "      <td>No</td>\n",
              "      <td>0</td>\n",
              "      <td>Graduate</td>\n",
              "      <td>No</td>\n",
              "      <td>6000</td>\n",
              "      <td>0.0</td>\n",
              "      <td>141.0</td>\n",
              "      <td>360.0</td>\n",
              "      <td>1.0</td>\n",
              "      <td>Urban</td>\n",
              "      <td>1</td>\n",
              "    </tr>\n",
              "  </tbody>\n",
              "</table>\n",
              "</div>"
            ],
            "text/plain": [
              "  Gender Married Dependents  ... Credit_History Property_Area  Loan_Status\n",
              "0   Male      No          0  ...            1.0         Urban            1\n",
              "1   Male     Yes          1  ...            1.0         Rural            0\n",
              "2   Male     Yes          0  ...            1.0         Urban            1\n",
              "3   Male     Yes          0  ...            1.0         Urban            1\n",
              "4   Male      No          0  ...            1.0         Urban            1\n",
              "\n",
              "[5 rows x 12 columns]"
            ]
          },
          "metadata": {
            "tags": []
          },
          "execution_count": 471
        }
      ]
    },
    {
      "cell_type": "markdown",
      "metadata": {
        "id": "MieIWoKEcO0x",
        "colab_type": "text"
      },
      "source": [
        "***Step #2***\n",
        "*Perform Label Encoding on Categorical Independent Variables*\n"
      ]
    },
    {
      "cell_type": "code",
      "metadata": {
        "id": "udvC_TaccKq4",
        "colab_type": "code",
        "colab": {
          "base_uri": "https://localhost:8080/",
          "height": 153
        },
        "outputId": "c8f2d286-fc7d-4420-cd87-03c8f6a0e8db"
      },
      "source": [
        "dfEnc = df.copy()\n",
        "dfEnc['Self_Employed'].replace({0:\"No\"},inplace=True)\n",
        "dfEnc['Married'].replace({0:\"No\"},inplace=True)\n",
        "dfEnc['Dependents'].replace({\"3+\":'3',0:'0'},inplace=True)\n",
        "print(categoricalColumns)\n",
        "for i in categoricalColumns:\n",
        "  print(i)\n",
        "  dfEnc[i+\"_enc\"] = le.fit_transform(dfEnc[i])\n",
        "  dfEnc = dfEnc.drop(i,axis=1)"
      ],
      "execution_count": 549,
      "outputs": [
        {
          "output_type": "stream",
          "text": [
            "['Gender', 'Married', 'Dependents', 'Education', 'Self_Employed', 'Credit_History', 'Property_Area']\n",
            "Gender\n",
            "Married\n",
            "Dependents\n",
            "Education\n",
            "Self_Employed\n",
            "Credit_History\n",
            "Property_Area\n"
          ],
          "name": "stdout"
        }
      ]
    },
    {
      "cell_type": "markdown",
      "metadata": {
        "id": "qEwuBBWyiKIp",
        "colab_type": "text"
      },
      "source": [
        "***What is the shape of dataframe post Categorical Encoding ***\n"
      ]
    },
    {
      "cell_type": "code",
      "metadata": {
        "id": "FUFlrKcgiLyC",
        "colab_type": "code",
        "colab": {
          "base_uri": "https://localhost:8080/",
          "height": 34
        },
        "outputId": "9b39a83b-e17e-4ae3-d397-614b6a20afed"
      },
      "source": [
        "dfEnc.shape"
      ],
      "execution_count": 550,
      "outputs": [
        {
          "output_type": "execute_result",
          "data": {
            "text/plain": [
              "(614, 12)"
            ]
          },
          "metadata": {
            "tags": []
          },
          "execution_count": 550
        }
      ]
    },
    {
      "cell_type": "code",
      "metadata": {
        "id": "0yfT3mW8igT7",
        "colab_type": "code",
        "colab": {
          "base_uri": "https://localhost:8080/",
          "height": 379
        },
        "outputId": "d32eddca-f72e-4116-8ec7-d8d1f9896da7"
      },
      "source": [
        "dfEnc.head(10)"
      ],
      "execution_count": 551,
      "outputs": [
        {
          "output_type": "execute_result",
          "data": {
            "text/html": [
              "<div>\n",
              "<style scoped>\n",
              "    .dataframe tbody tr th:only-of-type {\n",
              "        vertical-align: middle;\n",
              "    }\n",
              "\n",
              "    .dataframe tbody tr th {\n",
              "        vertical-align: top;\n",
              "    }\n",
              "\n",
              "    .dataframe thead th {\n",
              "        text-align: right;\n",
              "    }\n",
              "</style>\n",
              "<table border=\"1\" class=\"dataframe\">\n",
              "  <thead>\n",
              "    <tr style=\"text-align: right;\">\n",
              "      <th></th>\n",
              "      <th>ApplicantIncome</th>\n",
              "      <th>CoapplicantIncome</th>\n",
              "      <th>LoanAmount</th>\n",
              "      <th>Loan_Amount_Term</th>\n",
              "      <th>Loan_Status</th>\n",
              "      <th>Gender_enc</th>\n",
              "      <th>Married_enc</th>\n",
              "      <th>Dependents_enc</th>\n",
              "      <th>Education_enc</th>\n",
              "      <th>Self_Employed_enc</th>\n",
              "      <th>Credit_History_enc</th>\n",
              "      <th>Property_Area_enc</th>\n",
              "    </tr>\n",
              "  </thead>\n",
              "  <tbody>\n",
              "    <tr>\n",
              "      <th>0</th>\n",
              "      <td>5849</td>\n",
              "      <td>0.0</td>\n",
              "      <td>63.0</td>\n",
              "      <td>360.0</td>\n",
              "      <td>1</td>\n",
              "      <td>1</td>\n",
              "      <td>0</td>\n",
              "      <td>0</td>\n",
              "      <td>0</td>\n",
              "      <td>0</td>\n",
              "      <td>1</td>\n",
              "      <td>2</td>\n",
              "    </tr>\n",
              "    <tr>\n",
              "      <th>1</th>\n",
              "      <td>4583</td>\n",
              "      <td>1508.0</td>\n",
              "      <td>128.0</td>\n",
              "      <td>360.0</td>\n",
              "      <td>0</td>\n",
              "      <td>1</td>\n",
              "      <td>1</td>\n",
              "      <td>1</td>\n",
              "      <td>0</td>\n",
              "      <td>0</td>\n",
              "      <td>1</td>\n",
              "      <td>0</td>\n",
              "    </tr>\n",
              "    <tr>\n",
              "      <th>2</th>\n",
              "      <td>3000</td>\n",
              "      <td>0.0</td>\n",
              "      <td>66.0</td>\n",
              "      <td>360.0</td>\n",
              "      <td>1</td>\n",
              "      <td>1</td>\n",
              "      <td>1</td>\n",
              "      <td>0</td>\n",
              "      <td>0</td>\n",
              "      <td>1</td>\n",
              "      <td>1</td>\n",
              "      <td>2</td>\n",
              "    </tr>\n",
              "    <tr>\n",
              "      <th>3</th>\n",
              "      <td>2583</td>\n",
              "      <td>2358.0</td>\n",
              "      <td>120.0</td>\n",
              "      <td>360.0</td>\n",
              "      <td>1</td>\n",
              "      <td>1</td>\n",
              "      <td>1</td>\n",
              "      <td>0</td>\n",
              "      <td>1</td>\n",
              "      <td>0</td>\n",
              "      <td>1</td>\n",
              "      <td>2</td>\n",
              "    </tr>\n",
              "    <tr>\n",
              "      <th>4</th>\n",
              "      <td>6000</td>\n",
              "      <td>0.0</td>\n",
              "      <td>141.0</td>\n",
              "      <td>360.0</td>\n",
              "      <td>1</td>\n",
              "      <td>1</td>\n",
              "      <td>0</td>\n",
              "      <td>0</td>\n",
              "      <td>0</td>\n",
              "      <td>0</td>\n",
              "      <td>1</td>\n",
              "      <td>2</td>\n",
              "    </tr>\n",
              "    <tr>\n",
              "      <th>5</th>\n",
              "      <td>5417</td>\n",
              "      <td>3782.0</td>\n",
              "      <td>229.0</td>\n",
              "      <td>360.0</td>\n",
              "      <td>1</td>\n",
              "      <td>1</td>\n",
              "      <td>1</td>\n",
              "      <td>2</td>\n",
              "      <td>0</td>\n",
              "      <td>1</td>\n",
              "      <td>1</td>\n",
              "      <td>2</td>\n",
              "    </tr>\n",
              "    <tr>\n",
              "      <th>6</th>\n",
              "      <td>2333</td>\n",
              "      <td>1516.0</td>\n",
              "      <td>95.0</td>\n",
              "      <td>360.0</td>\n",
              "      <td>1</td>\n",
              "      <td>1</td>\n",
              "      <td>1</td>\n",
              "      <td>0</td>\n",
              "      <td>1</td>\n",
              "      <td>0</td>\n",
              "      <td>1</td>\n",
              "      <td>2</td>\n",
              "    </tr>\n",
              "    <tr>\n",
              "      <th>7</th>\n",
              "      <td>3036</td>\n",
              "      <td>2504.0</td>\n",
              "      <td>158.0</td>\n",
              "      <td>360.0</td>\n",
              "      <td>0</td>\n",
              "      <td>1</td>\n",
              "      <td>1</td>\n",
              "      <td>3</td>\n",
              "      <td>0</td>\n",
              "      <td>0</td>\n",
              "      <td>0</td>\n",
              "      <td>1</td>\n",
              "    </tr>\n",
              "    <tr>\n",
              "      <th>8</th>\n",
              "      <td>4006</td>\n",
              "      <td>1526.0</td>\n",
              "      <td>168.0</td>\n",
              "      <td>360.0</td>\n",
              "      <td>1</td>\n",
              "      <td>1</td>\n",
              "      <td>1</td>\n",
              "      <td>2</td>\n",
              "      <td>0</td>\n",
              "      <td>0</td>\n",
              "      <td>1</td>\n",
              "      <td>2</td>\n",
              "    </tr>\n",
              "    <tr>\n",
              "      <th>9</th>\n",
              "      <td>9428</td>\n",
              "      <td>3782.0</td>\n",
              "      <td>229.0</td>\n",
              "      <td>360.0</td>\n",
              "      <td>0</td>\n",
              "      <td>1</td>\n",
              "      <td>1</td>\n",
              "      <td>1</td>\n",
              "      <td>0</td>\n",
              "      <td>0</td>\n",
              "      <td>1</td>\n",
              "      <td>1</td>\n",
              "    </tr>\n",
              "  </tbody>\n",
              "</table>\n",
              "</div>"
            ],
            "text/plain": [
              "   ApplicantIncome  CoapplicantIncome  ...  Credit_History_enc  Property_Area_enc\n",
              "0             5849                0.0  ...                   1                  2\n",
              "1             4583             1508.0  ...                   1                  0\n",
              "2             3000                0.0  ...                   1                  2\n",
              "3             2583             2358.0  ...                   1                  2\n",
              "4             6000                0.0  ...                   1                  2\n",
              "5             5417             3782.0  ...                   1                  2\n",
              "6             2333             1516.0  ...                   1                  2\n",
              "7             3036             2504.0  ...                   0                  1\n",
              "8             4006             1526.0  ...                   1                  2\n",
              "9             9428             3782.0  ...                   1                  1\n",
              "\n",
              "[10 rows x 12 columns]"
            ]
          },
          "metadata": {
            "tags": []
          },
          "execution_count": 551
        }
      ]
    },
    {
      "cell_type": "markdown",
      "metadata": {
        "id": "SrivrAeiiYSF",
        "colab_type": "text"
      },
      "source": [
        "***Carry out Correlation analysis on this dataframe. Plot using HeatMap***"
      ]
    },
    {
      "cell_type": "code",
      "metadata": {
        "id": "nMvA9THGiZj9",
        "colab_type": "code",
        "colab": {
          "base_uri": "https://localhost:8080/",
          "height": 379
        },
        "outputId": "c219085a-9a24-4598-9405-833df1c014bc"
      },
      "source": [
        "corr = dfEnc.corr()\n",
        "corr.head(10)"
      ],
      "execution_count": 553,
      "outputs": [
        {
          "output_type": "execute_result",
          "data": {
            "text/html": [
              "<div>\n",
              "<style scoped>\n",
              "    .dataframe tbody tr th:only-of-type {\n",
              "        vertical-align: middle;\n",
              "    }\n",
              "\n",
              "    .dataframe tbody tr th {\n",
              "        vertical-align: top;\n",
              "    }\n",
              "\n",
              "    .dataframe thead th {\n",
              "        text-align: right;\n",
              "    }\n",
              "</style>\n",
              "<table border=\"1\" class=\"dataframe\">\n",
              "  <thead>\n",
              "    <tr style=\"text-align: right;\">\n",
              "      <th></th>\n",
              "      <th>ApplicantIncome</th>\n",
              "      <th>CoapplicantIncome</th>\n",
              "      <th>LoanAmount</th>\n",
              "      <th>Loan_Amount_Term</th>\n",
              "      <th>Loan_Status</th>\n",
              "      <th>Gender_enc</th>\n",
              "      <th>Married_enc</th>\n",
              "      <th>Dependents_enc</th>\n",
              "      <th>Education_enc</th>\n",
              "      <th>Self_Employed_enc</th>\n",
              "      <th>Credit_History_enc</th>\n",
              "      <th>Property_Area_enc</th>\n",
              "    </tr>\n",
              "  </thead>\n",
              "  <tbody>\n",
              "    <tr>\n",
              "      <th>ApplicantIncome</th>\n",
              "      <td>1.000000</td>\n",
              "      <td>-0.270163</td>\n",
              "      <td>0.538537</td>\n",
              "      <td>-0.005042</td>\n",
              "      <td>-0.002873</td>\n",
              "      <td>0.065432</td>\n",
              "      <td>0.017897</td>\n",
              "      <td>0.118545</td>\n",
              "      <td>-0.206324</td>\n",
              "      <td>0.241964</td>\n",
              "      <td>0.059020</td>\n",
              "      <td>-0.034651</td>\n",
              "    </tr>\n",
              "    <tr>\n",
              "      <th>CoapplicantIncome</th>\n",
              "      <td>-0.270163</td>\n",
              "      <td>1.000000</td>\n",
              "      <td>0.235781</td>\n",
              "      <td>-0.027506</td>\n",
              "      <td>0.021879</td>\n",
              "      <td>0.201686</td>\n",
              "      <td>0.253135</td>\n",
              "      <td>-0.048895</td>\n",
              "      <td>-0.026584</td>\n",
              "      <td>-0.048360</td>\n",
              "      <td>-0.051313</td>\n",
              "      <td>-0.078070</td>\n",
              "    </tr>\n",
              "    <tr>\n",
              "      <th>LoanAmount</th>\n",
              "      <td>0.538537</td>\n",
              "      <td>0.235781</td>\n",
              "      <td>1.000000</td>\n",
              "      <td>0.082860</td>\n",
              "      <td>-0.019925</td>\n",
              "      <td>0.138615</td>\n",
              "      <td>0.175722</td>\n",
              "      <td>0.153934</td>\n",
              "      <td>-0.180854</td>\n",
              "      <td>0.109983</td>\n",
              "      <td>-0.014681</td>\n",
              "      <td>-0.090243</td>\n",
              "    </tr>\n",
              "    <tr>\n",
              "      <th>Loan_Amount_Term</th>\n",
              "      <td>-0.005042</td>\n",
              "      <td>-0.027506</td>\n",
              "      <td>0.082860</td>\n",
              "      <td>1.000000</td>\n",
              "      <td>0.024623</td>\n",
              "      <td>-0.066134</td>\n",
              "      <td>-0.082199</td>\n",
              "      <td>-0.065341</td>\n",
              "      <td>-0.120856</td>\n",
              "      <td>-0.020584</td>\n",
              "      <td>0.051225</td>\n",
              "      <td>-0.103673</td>\n",
              "    </tr>\n",
              "    <tr>\n",
              "      <th>Loan_Status</th>\n",
              "      <td>-0.002873</td>\n",
              "      <td>0.021879</td>\n",
              "      <td>-0.019925</td>\n",
              "      <td>0.024623</td>\n",
              "      <td>1.000000</td>\n",
              "      <td>0.017987</td>\n",
              "      <td>0.084281</td>\n",
              "      <td>0.010118</td>\n",
              "      <td>-0.085884</td>\n",
              "      <td>-0.003700</td>\n",
              "      <td>0.432616</td>\n",
              "      <td>0.032112</td>\n",
              "    </tr>\n",
              "    <tr>\n",
              "      <th>Gender_enc</th>\n",
              "      <td>0.065432</td>\n",
              "      <td>0.201686</td>\n",
              "      <td>0.138615</td>\n",
              "      <td>-0.066134</td>\n",
              "      <td>0.017987</td>\n",
              "      <td>1.000000</td>\n",
              "      <td>0.367389</td>\n",
              "      <td>0.172914</td>\n",
              "      <td>0.045364</td>\n",
              "      <td>-0.000525</td>\n",
              "      <td>0.026655</td>\n",
              "      <td>-0.025752</td>\n",
              "    </tr>\n",
              "    <tr>\n",
              "      <th>Married_enc</th>\n",
              "      <td>0.017897</td>\n",
              "      <td>0.253135</td>\n",
              "      <td>0.175722</td>\n",
              "      <td>-0.082199</td>\n",
              "      <td>0.084281</td>\n",
              "      <td>0.367389</td>\n",
              "      <td>1.000000</td>\n",
              "      <td>0.340684</td>\n",
              "      <td>0.017671</td>\n",
              "      <td>0.008491</td>\n",
              "      <td>-0.023626</td>\n",
              "      <td>0.000395</td>\n",
              "    </tr>\n",
              "    <tr>\n",
              "      <th>Dependents_enc</th>\n",
              "      <td>0.118545</td>\n",
              "      <td>-0.048895</td>\n",
              "      <td>0.153934</td>\n",
              "      <td>-0.065341</td>\n",
              "      <td>0.010118</td>\n",
              "      <td>0.172914</td>\n",
              "      <td>0.340684</td>\n",
              "      <td>1.000000</td>\n",
              "      <td>0.055752</td>\n",
              "      <td>0.056798</td>\n",
              "      <td>-0.017523</td>\n",
              "      <td>-0.000244</td>\n",
              "    </tr>\n",
              "    <tr>\n",
              "      <th>Education_enc</th>\n",
              "      <td>-0.206324</td>\n",
              "      <td>-0.026584</td>\n",
              "      <td>-0.180854</td>\n",
              "      <td>-0.120856</td>\n",
              "      <td>-0.085884</td>\n",
              "      <td>0.045364</td>\n",
              "      <td>0.017671</td>\n",
              "      <td>0.055752</td>\n",
              "      <td>1.000000</td>\n",
              "      <td>-0.010383</td>\n",
              "      <td>-0.081637</td>\n",
              "      <td>-0.065243</td>\n",
              "    </tr>\n",
              "    <tr>\n",
              "      <th>Self_Employed_enc</th>\n",
              "      <td>0.241964</td>\n",
              "      <td>-0.048360</td>\n",
              "      <td>0.109983</td>\n",
              "      <td>-0.020584</td>\n",
              "      <td>-0.003700</td>\n",
              "      <td>-0.000525</td>\n",
              "      <td>0.008491</td>\n",
              "      <td>0.056798</td>\n",
              "      <td>-0.010383</td>\n",
              "      <td>1.000000</td>\n",
              "      <td>-0.004994</td>\n",
              "      <td>-0.030860</td>\n",
              "    </tr>\n",
              "  </tbody>\n",
              "</table>\n",
              "</div>"
            ],
            "text/plain": [
              "                   ApplicantIncome  ...  Property_Area_enc\n",
              "ApplicantIncome           1.000000  ...          -0.034651\n",
              "CoapplicantIncome        -0.270163  ...          -0.078070\n",
              "LoanAmount                0.538537  ...          -0.090243\n",
              "Loan_Amount_Term         -0.005042  ...          -0.103673\n",
              "Loan_Status              -0.002873  ...           0.032112\n",
              "Gender_enc                0.065432  ...          -0.025752\n",
              "Married_enc               0.017897  ...           0.000395\n",
              "Dependents_enc            0.118545  ...          -0.000244\n",
              "Education_enc            -0.206324  ...          -0.065243\n",
              "Self_Employed_enc         0.241964  ...          -0.030860\n",
              "\n",
              "[10 rows x 12 columns]"
            ]
          },
          "metadata": {
            "tags": []
          },
          "execution_count": 553
        }
      ]
    },
    {
      "cell_type": "code",
      "metadata": {
        "id": "wZ_7Jqnhj4kh",
        "colab_type": "code",
        "colab": {
          "base_uri": "https://localhost:8080/",
          "height": 624
        },
        "outputId": "82dd1da1-7310-4165-9047-a9346af6eb6e"
      },
      "source": [
        "mask = np.zeros_like(corr, dtype=np.bool)\n",
        "mask[np.triu_indices_from(mask)] = True\n",
        "f, ax = plt.subplots(figsize=(11, 9))\n",
        "cmap = sns.diverging_palette(220, 10, as_cmap=True)\n",
        "svm = sns.heatmap(corr, mask=mask, cmap=cmap, center=0,square=True, linewidths=.5, cbar_kws={\"shrink\": .5})\n",
        "figure = svm.get_figure()\n",
        "\n",
        "#"
      ],
      "execution_count": 559,
      "outputs": [
        {
          "output_type": "display_data",
          "data": {
            "image/png": "[encoded data removed]",
            "text/plain": [
              "<Figure size 792x648 with 2 Axes>"
            ]
          },
          "metadata": {
            "tags": [],
            "needs_background": "light"
          }
        }
      ]
    },
    {
      "cell_type": "markdown",
      "metadata": {
        "id": "VXBjOnrepUwA",
        "colab_type": "text"
      },
      "source": [
        "Identify the variables that have strong correlation using LHE ( Correlation Coefficient > 0.5 or <0.5)\n",
        "\n",
        "***{\"Loan_Amount\":\"ApplicantIncome\",\"Credit_History\":\"Loan_Status\"} are 2 major key,values having strongest co-relation}***"
      ]
    },
    {
      "cell_type": "markdown",
      "metadata": {
        "id": "fe7jzQuQl0Ky",
        "colab_type": "text"
      },
      "source": [
        "***Step #3***\n",
        "*Perform One Hot Encoding on Categorical Independent Variables.*"
      ]
    },
    {
      "cell_type": "code",
      "metadata": {
        "id": "fhQos1MLl55d",
        "colab_type": "code",
        "colab": {
          "base_uri": "https://localhost:8080/",
          "height": 34
        },
        "outputId": "bf59bec4-2dc7-43f2-ed26-d619685f35fb"
      },
      "source": [
        "from sklearn.preprocessing import OneHotEncoder\n",
        "ohe = OneHotEncoder(handle_unknown='ignore')\n",
        "dfHotEnc = df.copy()\n",
        "dfHotEnc['Self_Employed'].replace({0:\"No\"},inplace=True)\n",
        "dfHotEnc['Married'].replace({0:\"No\"},inplace=True)\n",
        "dfHotEnc['Dependents'].replace({\"3+\":'3',0:'0'},inplace=True)\n",
        "print(categoricalColumns)\n",
        "for i in categoricalColumns+['Loan_Status']:\n",
        "  enc_rel = pd.DataFrame(ohe.fit_transform(dfHotEnc[[i]]).toarray())\n",
        "  enc_rel = enc_rel.add_prefix(i+\"_\")\n",
        "  dfHotEnc = dfHotEnc.join(enc_rel)\n",
        "  dfHotEnc = dfHotEnc.drop(i,axis=1)"
      ],
      "execution_count": 578,
      "outputs": [
        {
          "output_type": "stream",
          "text": [
            "['Gender', 'Married', 'Dependents', 'Education', 'Self_Employed', 'Credit_History', 'Property_Area']\n"
          ],
          "name": "stdout"
        }
      ]
    },
    {
      "cell_type": "code",
      "metadata": {
        "id": "FY3K2qvrn30R",
        "colab_type": "code",
        "colab": {
          "base_uri": "https://localhost:8080/",
          "height": 379
        },
        "outputId": "90f953dd-0f16-4a82-ce71-5036a8b96024"
      },
      "source": [
        "dfHotEnc.head(10)"
      ],
      "execution_count": 579,
      "outputs": [
        {
          "output_type": "execute_result",
          "data": {
            "text/html": [
              "<div>\n",
              "<style scoped>\n",
              "    .dataframe tbody tr th:only-of-type {\n",
              "        vertical-align: middle;\n",
              "    }\n",
              "\n",
              "    .dataframe tbody tr th {\n",
              "        vertical-align: top;\n",
              "    }\n",
              "\n",
              "    .dataframe thead th {\n",
              "        text-align: right;\n",
              "    }\n",
              "</style>\n",
              "<table border=\"1\" class=\"dataframe\">\n",
              "  <thead>\n",
              "    <tr style=\"text-align: right;\">\n",
              "      <th></th>\n",
              "      <th>ApplicantIncome</th>\n",
              "      <th>CoapplicantIncome</th>\n",
              "      <th>LoanAmount</th>\n",
              "      <th>Loan_Amount_Term</th>\n",
              "      <th>Gender_0</th>\n",
              "      <th>Gender_1</th>\n",
              "      <th>Married_0</th>\n",
              "      <th>Married_1</th>\n",
              "      <th>Dependents_0</th>\n",
              "      <th>Dependents_1</th>\n",
              "      <th>Dependents_2</th>\n",
              "      <th>Dependents_3</th>\n",
              "      <th>Education_0</th>\n",
              "      <th>Education_1</th>\n",
              "      <th>Self_Employed_0</th>\n",
              "      <th>Self_Employed_1</th>\n",
              "      <th>Credit_History_0</th>\n",
              "      <th>Credit_History_1</th>\n",
              "      <th>Property_Area_0</th>\n",
              "      <th>Property_Area_1</th>\n",
              "      <th>Property_Area_2</th>\n",
              "      <th>Loan_Status_0</th>\n",
              "      <th>Loan_Status_1</th>\n",
              "    </tr>\n",
              "  </thead>\n",
              "  <tbody>\n",
              "    <tr>\n",
              "      <th>0</th>\n",
              "      <td>5849</td>\n",
              "      <td>0.0</td>\n",
              "      <td>63.0</td>\n",
              "      <td>360.0</td>\n",
              "      <td>0.0</td>\n",
              "      <td>1.0</td>\n",
              "      <td>1.0</td>\n",
              "      <td>0.0</td>\n",
              "      <td>1.0</td>\n",
              "      <td>0.0</td>\n",
              "      <td>0.0</td>\n",
              "      <td>0.0</td>\n",
              "      <td>1.0</td>\n",
              "      <td>0.0</td>\n",
              "      <td>1.0</td>\n",
              "      <td>0.0</td>\n",
              "      <td>0.0</td>\n",
              "      <td>1.0</td>\n",
              "      <td>0.0</td>\n",
              "      <td>0.0</td>\n",
              "      <td>1.0</td>\n",
              "      <td>0.0</td>\n",
              "      <td>1.0</td>\n",
              "    </tr>\n",
              "    <tr>\n",
              "      <th>1</th>\n",
              "      <td>4583</td>\n",
              "      <td>1508.0</td>\n",
              "      <td>128.0</td>\n",
              "      <td>360.0</td>\n",
              "      <td>0.0</td>\n",
              "      <td>1.0</td>\n",
              "      <td>0.0</td>\n",
              "      <td>1.0</td>\n",
              "      <td>0.0</td>\n",
              "      <td>1.0</td>\n",
              "      <td>0.0</td>\n",
              "      <td>0.0</td>\n",
              "      <td>1.0</td>\n",
              "      <td>0.0</td>\n",
              "      <td>1.0</td>\n",
              "      <td>0.0</td>\n",
              "      <td>0.0</td>\n",
              "      <td>1.0</td>\n",
              "      <td>1.0</td>\n",
              "      <td>0.0</td>\n",
              "      <td>0.0</td>\n",
              "      <td>1.0</td>\n",
              "      <td>0.0</td>\n",
              "    </tr>\n",
              "    <tr>\n",
              "      <th>2</th>\n",
              "      <td>3000</td>\n",
              "      <td>0.0</td>\n",
              "      <td>66.0</td>\n",
              "      <td>360.0</td>\n",
              "      <td>0.0</td>\n",
              "      <td>1.0</td>\n",
              "      <td>0.0</td>\n",
              "      <td>1.0</td>\n",
              "      <td>1.0</td>\n",
              "      <td>0.0</td>\n",
              "      <td>0.0</td>\n",
              "      <td>0.0</td>\n",
              "      <td>1.0</td>\n",
              "      <td>0.0</td>\n",
              "      <td>0.0</td>\n",
              "      <td>1.0</td>\n",
              "      <td>0.0</td>\n",
              "      <td>1.0</td>\n",
              "      <td>0.0</td>\n",
              "      <td>0.0</td>\n",
              "      <td>1.0</td>\n",
              "      <td>0.0</td>\n",
              "      <td>1.0</td>\n",
              "    </tr>\n",
              "    <tr>\n",
              "      <th>3</th>\n",
              "      <td>2583</td>\n",
              "      <td>2358.0</td>\n",
              "      <td>120.0</td>\n",
              "      <td>360.0</td>\n",
              "      <td>0.0</td>\n",
              "      <td>1.0</td>\n",
              "      <td>0.0</td>\n",
              "      <td>1.0</td>\n",
              "      <td>1.0</td>\n",
              "      <td>0.0</td>\n",
              "      <td>0.0</td>\n",
              "      <td>0.0</td>\n",
              "      <td>0.0</td>\n",
              "      <td>1.0</td>\n",
              "      <td>1.0</td>\n",
              "      <td>0.0</td>\n",
              "      <td>0.0</td>\n",
              "      <td>1.0</td>\n",
              "      <td>0.0</td>\n",
              "      <td>0.0</td>\n",
              "      <td>1.0</td>\n",
              "      <td>0.0</td>\n",
              "      <td>1.0</td>\n",
              "    </tr>\n",
              "    <tr>\n",
              "      <th>4</th>\n",
              "      <td>6000</td>\n",
              "      <td>0.0</td>\n",
              "      <td>141.0</td>\n",
              "      <td>360.0</td>\n",
              "      <td>0.0</td>\n",
              "      <td>1.0</td>\n",
              "      <td>1.0</td>\n",
              "      <td>0.0</td>\n",
              "      <td>1.0</td>\n",
              "      <td>0.0</td>\n",
              "      <td>0.0</td>\n",
              "      <td>0.0</td>\n",
              "      <td>1.0</td>\n",
              "      <td>0.0</td>\n",
              "      <td>1.0</td>\n",
              "      <td>0.0</td>\n",
              "      <td>0.0</td>\n",
              "      <td>1.0</td>\n",
              "      <td>0.0</td>\n",
              "      <td>0.0</td>\n",
              "      <td>1.0</td>\n",
              "      <td>0.0</td>\n",
              "      <td>1.0</td>\n",
              "    </tr>\n",
              "    <tr>\n",
              "      <th>5</th>\n",
              "      <td>5417</td>\n",
              "      <td>3782.0</td>\n",
              "      <td>229.0</td>\n",
              "      <td>360.0</td>\n",
              "      <td>0.0</td>\n",
              "      <td>1.0</td>\n",
              "      <td>0.0</td>\n",
              "      <td>1.0</td>\n",
              "      <td>0.0</td>\n",
              "      <td>0.0</td>\n",
              "      <td>1.0</td>\n",
              "      <td>0.0</td>\n",
              "      <td>1.0</td>\n",
              "      <td>0.0</td>\n",
              "      <td>0.0</td>\n",
              "      <td>1.0</td>\n",
              "      <td>0.0</td>\n",
              "      <td>1.0</td>\n",
              "      <td>0.0</td>\n",
              "      <td>0.0</td>\n",
              "      <td>1.0</td>\n",
              "      <td>0.0</td>\n",
              "      <td>1.0</td>\n",
              "    </tr>\n",
              "    <tr>\n",
              "      <th>6</th>\n",
              "      <td>2333</td>\n",
              "      <td>1516.0</td>\n",
              "      <td>95.0</td>\n",
              "      <td>360.0</td>\n",
              "      <td>0.0</td>\n",
              "      <td>1.0</td>\n",
              "      <td>0.0</td>\n",
              "      <td>1.0</td>\n",
              "      <td>1.0</td>\n",
              "      <td>0.0</td>\n",
              "      <td>0.0</td>\n",
              "      <td>0.0</td>\n",
              "      <td>0.0</td>\n",
              "      <td>1.0</td>\n",
              "      <td>1.0</td>\n",
              "      <td>0.0</td>\n",
              "      <td>0.0</td>\n",
              "      <td>1.0</td>\n",
              "      <td>0.0</td>\n",
              "      <td>0.0</td>\n",
              "      <td>1.0</td>\n",
              "      <td>0.0</td>\n",
              "      <td>1.0</td>\n",
              "    </tr>\n",
              "    <tr>\n",
              "      <th>7</th>\n",
              "      <td>3036</td>\n",
              "      <td>2504.0</td>\n",
              "      <td>158.0</td>\n",
              "      <td>360.0</td>\n",
              "      <td>0.0</td>\n",
              "      <td>1.0</td>\n",
              "      <td>0.0</td>\n",
              "      <td>1.0</td>\n",
              "      <td>0.0</td>\n",
              "      <td>0.0</td>\n",
              "      <td>0.0</td>\n",
              "      <td>1.0</td>\n",
              "      <td>1.0</td>\n",
              "      <td>0.0</td>\n",
              "      <td>1.0</td>\n",
              "      <td>0.0</td>\n",
              "      <td>1.0</td>\n",
              "      <td>0.0</td>\n",
              "      <td>0.0</td>\n",
              "      <td>1.0</td>\n",
              "      <td>0.0</td>\n",
              "      <td>1.0</td>\n",
              "      <td>0.0</td>\n",
              "    </tr>\n",
              "    <tr>\n",
              "      <th>8</th>\n",
              "      <td>4006</td>\n",
              "      <td>1526.0</td>\n",
              "      <td>168.0</td>\n",
              "      <td>360.0</td>\n",
              "      <td>0.0</td>\n",
              "      <td>1.0</td>\n",
              "      <td>0.0</td>\n",
              "      <td>1.0</td>\n",
              "      <td>0.0</td>\n",
              "      <td>0.0</td>\n",
              "      <td>1.0</td>\n",
              "      <td>0.0</td>\n",
              "      <td>1.0</td>\n",
              "      <td>0.0</td>\n",
              "      <td>1.0</td>\n",
              "      <td>0.0</td>\n",
              "      <td>0.0</td>\n",
              "      <td>1.0</td>\n",
              "      <td>0.0</td>\n",
              "      <td>0.0</td>\n",
              "      <td>1.0</td>\n",
              "      <td>0.0</td>\n",
              "      <td>1.0</td>\n",
              "    </tr>\n",
              "    <tr>\n",
              "      <th>9</th>\n",
              "      <td>9428</td>\n",
              "      <td>3782.0</td>\n",
              "      <td>229.0</td>\n",
              "      <td>360.0</td>\n",
              "      <td>0.0</td>\n",
              "      <td>1.0</td>\n",
              "      <td>0.0</td>\n",
              "      <td>1.0</td>\n",
              "      <td>0.0</td>\n",
              "      <td>1.0</td>\n",
              "      <td>0.0</td>\n",
              "      <td>0.0</td>\n",
              "      <td>1.0</td>\n",
              "      <td>0.0</td>\n",
              "      <td>1.0</td>\n",
              "      <td>0.0</td>\n",
              "      <td>0.0</td>\n",
              "      <td>1.0</td>\n",
              "      <td>0.0</td>\n",
              "      <td>1.0</td>\n",
              "      <td>0.0</td>\n",
              "      <td>1.0</td>\n",
              "      <td>0.0</td>\n",
              "    </tr>\n",
              "  </tbody>\n",
              "</table>\n",
              "</div>"
            ],
            "text/plain": [
              "   ApplicantIncome  CoapplicantIncome  ...  Loan_Status_0  Loan_Status_1\n",
              "0             5849                0.0  ...            0.0            1.0\n",
              "1             4583             1508.0  ...            1.0            0.0\n",
              "2             3000                0.0  ...            0.0            1.0\n",
              "3             2583             2358.0  ...            0.0            1.0\n",
              "4             6000                0.0  ...            0.0            1.0\n",
              "5             5417             3782.0  ...            0.0            1.0\n",
              "6             2333             1516.0  ...            0.0            1.0\n",
              "7             3036             2504.0  ...            1.0            0.0\n",
              "8             4006             1526.0  ...            0.0            1.0\n",
              "9             9428             3782.0  ...            1.0            0.0\n",
              "\n",
              "[10 rows x 23 columns]"
            ]
          },
          "metadata": {
            "tags": []
          },
          "execution_count": 579
        }
      ]
    },
    {
      "cell_type": "markdown",
      "metadata": {
        "id": "7A5NGdbDoLG1",
        "colab_type": "text"
      },
      "source": [
        "***What is the shape of dataframe post OHE Encoding ?***"
      ]
    },
    {
      "cell_type": "code",
      "metadata": {
        "id": "9aap9NY4oIhp",
        "colab_type": "code",
        "colab": {
          "base_uri": "https://localhost:8080/",
          "height": 34
        },
        "outputId": "b0292cdc-411c-4980-dfd2-91a58fa96cf8"
      },
      "source": [
        "dfHotEnc.shape"
      ],
      "execution_count": 580,
      "outputs": [
        {
          "output_type": "execute_result",
          "data": {
            "text/plain": [
              "(614, 23)"
            ]
          },
          "metadata": {
            "tags": []
          },
          "execution_count": 580
        }
      ]
    },
    {
      "cell_type": "markdown",
      "metadata": {
        "id": "T1nPphRkoPX8",
        "colab_type": "text"
      },
      "source": [
        "***Carry out Correlation analysis on this dataframe. Plot using HeatMap***"
      ]
    },
    {
      "cell_type": "code",
      "metadata": {
        "id": "U1Mz87-ioOZZ",
        "colab_type": "code",
        "colab": {
          "base_uri": "https://localhost:8080/",
          "height": 379
        },
        "outputId": "82221768-90dc-401b-f17f-98b68e5be283"
      },
      "source": [
        "hotCorr = dfHotEnc.corr()\n",
        "hotCorr.head(10)"
      ],
      "execution_count": 584,
      "outputs": [
        {
          "output_type": "execute_result",
          "data": {
            "text/html": [
              "<div>\n",
              "<style scoped>\n",
              "    .dataframe tbody tr th:only-of-type {\n",
              "        vertical-align: middle;\n",
              "    }\n",
              "\n",
              "    .dataframe tbody tr th {\n",
              "        vertical-align: top;\n",
              "    }\n",
              "\n",
              "    .dataframe thead th {\n",
              "        text-align: right;\n",
              "    }\n",
              "</style>\n",
              "<table border=\"1\" class=\"dataframe\">\n",
              "  <thead>\n",
              "    <tr style=\"text-align: right;\">\n",
              "      <th></th>\n",
              "      <th>ApplicantIncome</th>\n",
              "      <th>CoapplicantIncome</th>\n",
              "      <th>LoanAmount</th>\n",
              "      <th>Loan_Amount_Term</th>\n",
              "      <th>Gender_0</th>\n",
              "      <th>Gender_1</th>\n",
              "      <th>Married_0</th>\n",
              "      <th>Married_1</th>\n",
              "      <th>Dependents_0</th>\n",
              "      <th>Dependents_1</th>\n",
              "      <th>Dependents_2</th>\n",
              "      <th>Dependents_3</th>\n",
              "      <th>Education_0</th>\n",
              "      <th>Education_1</th>\n",
              "      <th>Self_Employed_0</th>\n",
              "      <th>Self_Employed_1</th>\n",
              "      <th>Credit_History_0</th>\n",
              "      <th>Credit_History_1</th>\n",
              "      <th>Property_Area_0</th>\n",
              "      <th>Property_Area_1</th>\n",
              "      <th>Property_Area_2</th>\n",
              "      <th>Loan_Status_0</th>\n",
              "      <th>Loan_Status_1</th>\n",
              "    </tr>\n",
              "  </thead>\n",
              "  <tbody>\n",
              "    <tr>\n",
              "      <th>ApplicantIncome</th>\n",
              "      <td>1.000000</td>\n",
              "      <td>-0.270163</td>\n",
              "      <td>0.538537</td>\n",
              "      <td>-0.005042</td>\n",
              "      <td>-0.065432</td>\n",
              "      <td>0.065432</td>\n",
              "      <td>-0.017897</td>\n",
              "      <td>0.017897</td>\n",
              "      <td>-0.124726</td>\n",
              "      <td>0.080593</td>\n",
              "      <td>0.012676</td>\n",
              "      <td>0.096860</td>\n",
              "      <td>0.206324</td>\n",
              "      <td>-0.206324</td>\n",
              "      <td>-0.241964</td>\n",
              "      <td>0.241964</td>\n",
              "      <td>-0.059020</td>\n",
              "      <td>0.059020</td>\n",
              "      <td>0.042605</td>\n",
              "      <td>-0.023617</td>\n",
              "      <td>-0.016819</td>\n",
              "      <td>0.002873</td>\n",
              "      <td>-0.002873</td>\n",
              "    </tr>\n",
              "    <tr>\n",
              "      <th>CoapplicantIncome</th>\n",
              "      <td>-0.270163</td>\n",
              "      <td>1.000000</td>\n",
              "      <td>0.235781</td>\n",
              "      <td>-0.027506</td>\n",
              "      <td>-0.201686</td>\n",
              "      <td>0.201686</td>\n",
              "      <td>-0.253135</td>\n",
              "      <td>0.253135</td>\n",
              "      <td>0.040878</td>\n",
              "      <td>-0.020183</td>\n",
              "      <td>0.010664</td>\n",
              "      <td>-0.060054</td>\n",
              "      <td>0.026584</td>\n",
              "      <td>-0.026584</td>\n",
              "      <td>0.048360</td>\n",
              "      <td>-0.048360</td>\n",
              "      <td>0.051313</td>\n",
              "      <td>-0.051313</td>\n",
              "      <td>0.080751</td>\n",
              "      <td>-0.024666</td>\n",
              "      <td>-0.052633</td>\n",
              "      <td>-0.021879</td>\n",
              "      <td>0.021879</td>\n",
              "    </tr>\n",
              "    <tr>\n",
              "      <th>LoanAmount</th>\n",
              "      <td>0.538537</td>\n",
              "      <td>0.235781</td>\n",
              "      <td>1.000000</td>\n",
              "      <td>0.082860</td>\n",
              "      <td>-0.138615</td>\n",
              "      <td>0.138615</td>\n",
              "      <td>-0.175722</td>\n",
              "      <td>0.175722</td>\n",
              "      <td>-0.153544</td>\n",
              "      <td>0.060898</td>\n",
              "      <td>0.070774</td>\n",
              "      <td>0.096805</td>\n",
              "      <td>0.180854</td>\n",
              "      <td>-0.180854</td>\n",
              "      <td>-0.109983</td>\n",
              "      <td>0.109983</td>\n",
              "      <td>0.014681</td>\n",
              "      <td>-0.014681</td>\n",
              "      <td>0.065093</td>\n",
              "      <td>0.024402</td>\n",
              "      <td>-0.088165</td>\n",
              "      <td>0.019925</td>\n",
              "      <td>-0.019925</td>\n",
              "    </tr>\n",
              "    <tr>\n",
              "      <th>Loan_Amount_Term</th>\n",
              "      <td>-0.005042</td>\n",
              "      <td>-0.027506</td>\n",
              "      <td>0.082860</td>\n",
              "      <td>1.000000</td>\n",
              "      <td>0.066134</td>\n",
              "      <td>-0.066134</td>\n",
              "      <td>0.082199</td>\n",
              "      <td>-0.082199</td>\n",
              "      <td>0.066600</td>\n",
              "      <td>-0.057235</td>\n",
              "      <td>0.027300</td>\n",
              "      <td>-0.078334</td>\n",
              "      <td>0.120856</td>\n",
              "      <td>-0.120856</td>\n",
              "      <td>0.020584</td>\n",
              "      <td>-0.020584</td>\n",
              "      <td>-0.051225</td>\n",
              "      <td>0.051225</td>\n",
              "      <td>0.045827</td>\n",
              "      <td>0.082266</td>\n",
              "      <td>-0.129291</td>\n",
              "      <td>-0.024623</td>\n",
              "      <td>0.024623</td>\n",
              "    </tr>\n",
              "    <tr>\n",
              "      <th>Gender_0</th>\n",
              "      <td>-0.065432</td>\n",
              "      <td>-0.201686</td>\n",
              "      <td>-0.138615</td>\n",
              "      <td>0.066134</td>\n",
              "      <td>1.000000</td>\n",
              "      <td>-1.000000</td>\n",
              "      <td>0.367389</td>\n",
              "      <td>-0.367389</td>\n",
              "      <td>0.148421</td>\n",
              "      <td>0.004466</td>\n",
              "      <td>-0.129953</td>\n",
              "      <td>-0.096319</td>\n",
              "      <td>0.045364</td>\n",
              "      <td>-0.045364</td>\n",
              "      <td>-0.000525</td>\n",
              "      <td>0.000525</td>\n",
              "      <td>0.026655</td>\n",
              "      <td>-0.026655</td>\n",
              "      <td>-0.080283</td>\n",
              "      <td>0.108623</td>\n",
              "      <td>-0.034530</td>\n",
              "      <td>0.017987</td>\n",
              "      <td>-0.017987</td>\n",
              "    </tr>\n",
              "    <tr>\n",
              "      <th>Gender_1</th>\n",
              "      <td>0.065432</td>\n",
              "      <td>0.201686</td>\n",
              "      <td>0.138615</td>\n",
              "      <td>-0.066134</td>\n",
              "      <td>-1.000000</td>\n",
              "      <td>1.000000</td>\n",
              "      <td>-0.367389</td>\n",
              "      <td>0.367389</td>\n",
              "      <td>-0.148421</td>\n",
              "      <td>-0.004466</td>\n",
              "      <td>0.129953</td>\n",
              "      <td>0.096319</td>\n",
              "      <td>-0.045364</td>\n",
              "      <td>0.045364</td>\n",
              "      <td>0.000525</td>\n",
              "      <td>-0.000525</td>\n",
              "      <td>-0.026655</td>\n",
              "      <td>0.026655</td>\n",
              "      <td>0.080283</td>\n",
              "      <td>-0.108623</td>\n",
              "      <td>0.034530</td>\n",
              "      <td>-0.017987</td>\n",
              "      <td>0.017987</td>\n",
              "    </tr>\n",
              "    <tr>\n",
              "      <th>Married_0</th>\n",
              "      <td>-0.017897</td>\n",
              "      <td>-0.253135</td>\n",
              "      <td>-0.175722</td>\n",
              "      <td>0.082199</td>\n",
              "      <td>0.367389</td>\n",
              "      <td>-0.367389</td>\n",
              "      <td>1.000000</td>\n",
              "      <td>-1.000000</td>\n",
              "      <td>0.355644</td>\n",
              "      <td>-0.118052</td>\n",
              "      <td>-0.253280</td>\n",
              "      <td>-0.135217</td>\n",
              "      <td>0.017671</td>\n",
              "      <td>-0.017671</td>\n",
              "      <td>0.008491</td>\n",
              "      <td>-0.008491</td>\n",
              "      <td>-0.023626</td>\n",
              "      <td>0.023626</td>\n",
              "      <td>0.000220</td>\n",
              "      <td>0.000229</td>\n",
              "      <td>-0.000449</td>\n",
              "      <td>0.084281</td>\n",
              "      <td>-0.084281</td>\n",
              "    </tr>\n",
              "    <tr>\n",
              "      <th>Married_1</th>\n",
              "      <td>0.017897</td>\n",
              "      <td>0.253135</td>\n",
              "      <td>0.175722</td>\n",
              "      <td>-0.082199</td>\n",
              "      <td>-0.367389</td>\n",
              "      <td>0.367389</td>\n",
              "      <td>-1.000000</td>\n",
              "      <td>1.000000</td>\n",
              "      <td>-0.355644</td>\n",
              "      <td>0.118052</td>\n",
              "      <td>0.253280</td>\n",
              "      <td>0.135217</td>\n",
              "      <td>-0.017671</td>\n",
              "      <td>0.017671</td>\n",
              "      <td>-0.008491</td>\n",
              "      <td>0.008491</td>\n",
              "      <td>0.023626</td>\n",
              "      <td>-0.023626</td>\n",
              "      <td>-0.000220</td>\n",
              "      <td>-0.000229</td>\n",
              "      <td>0.000449</td>\n",
              "      <td>-0.084281</td>\n",
              "      <td>0.084281</td>\n",
              "    </tr>\n",
              "    <tr>\n",
              "      <th>Dependents_0</th>\n",
              "      <td>-0.124726</td>\n",
              "      <td>0.040878</td>\n",
              "      <td>-0.153544</td>\n",
              "      <td>0.066600</td>\n",
              "      <td>0.148421</td>\n",
              "      <td>-0.148421</td>\n",
              "      <td>0.355644</td>\n",
              "      <td>-0.355644</td>\n",
              "      <td>1.000000</td>\n",
              "      <td>-0.531373</td>\n",
              "      <td>-0.528246</td>\n",
              "      <td>-0.358315</td>\n",
              "      <td>0.036563</td>\n",
              "      <td>-0.036563</td>\n",
              "      <td>0.088254</td>\n",
              "      <td>-0.088254</td>\n",
              "      <td>-0.019743</td>\n",
              "      <td>0.019743</td>\n",
              "      <td>0.044015</td>\n",
              "      <td>-0.004173</td>\n",
              "      <td>-0.038264</td>\n",
              "      <td>0.003044</td>\n",
              "      <td>-0.003044</td>\n",
              "    </tr>\n",
              "    <tr>\n",
              "      <th>Dependents_1</th>\n",
              "      <td>0.080593</td>\n",
              "      <td>-0.020183</td>\n",
              "      <td>0.060898</td>\n",
              "      <td>-0.057235</td>\n",
              "      <td>0.004466</td>\n",
              "      <td>-0.004466</td>\n",
              "      <td>-0.118052</td>\n",
              "      <td>0.118052</td>\n",
              "      <td>-0.531373</td>\n",
              "      <td>1.000000</td>\n",
              "      <td>-0.198046</td>\n",
              "      <td>-0.134337</td>\n",
              "      <td>0.013355</td>\n",
              "      <td>-0.013355</td>\n",
              "      <td>-0.082044</td>\n",
              "      <td>0.082044</td>\n",
              "      <td>0.030415</td>\n",
              "      <td>-0.030415</td>\n",
              "      <td>-0.084117</td>\n",
              "      <td>0.011661</td>\n",
              "      <td>0.069320</td>\n",
              "      <td>0.038740</td>\n",
              "      <td>-0.038740</td>\n",
              "    </tr>\n",
              "  </tbody>\n",
              "</table>\n",
              "</div>"
            ],
            "text/plain": [
              "                   ApplicantIncome  ...  Loan_Status_1\n",
              "ApplicantIncome           1.000000  ...      -0.002873\n",
              "CoapplicantIncome        -0.270163  ...       0.021879\n",
              "LoanAmount                0.538537  ...      -0.019925\n",
              "Loan_Amount_Term         -0.005042  ...       0.024623\n",
              "Gender_0                 -0.065432  ...      -0.017987\n",
              "Gender_1                  0.065432  ...       0.017987\n",
              "Married_0                -0.017897  ...      -0.084281\n",
              "Married_1                 0.017897  ...       0.084281\n",
              "Dependents_0             -0.124726  ...      -0.003044\n",
              "Dependents_1              0.080593  ...      -0.038740\n",
              "\n",
              "[10 rows x 23 columns]"
            ]
          },
          "metadata": {
            "tags": []
          },
          "execution_count": 584
        }
      ]
    },
    {
      "cell_type": "code",
      "metadata": {
        "id": "0OsK0TNTo3z4",
        "colab_type": "code",
        "colab": {
          "base_uri": "https://localhost:8080/",
          "height": 624
        },
        "outputId": "eaafce2c-8ae1-4bcf-b0c5-b18e1c7dfc99"
      },
      "source": [
        "mask = np.zeros_like(hotCorr, dtype=np.bool)\n",
        "mask[np.triu_indices_from(mask)] = True\n",
        "f, ax = plt.subplots(figsize=(11, 9))\n",
        "cmap = sns.diverging_palette(220, 10, as_cmap=True)\n",
        "svm = sns.heatmap(hotCorr, mask=mask, cmap=cmap, center=0,square=True, linewidths=.5, cbar_kws={\"shrink\": .5})\n",
        "figure = svm.get_figure()"
      ],
      "execution_count": 585,
      "outputs": [
        {
          "output_type": "display_data",
          "data": {
            "image/png": "[encoded data removed]",
            "text/plain": [
              "<Figure size 792x648 with 2 Axes>"
            ]
          },
          "metadata": {
            "tags": [],
            "needs_background": "light"
          }
        }
      ]
    },
    {
      "cell_type": "markdown",
      "metadata": {
        "id": "xp0L5eAspQQ_",
        "colab_type": "text"
      },
      "source": [
        "***Identify the variables that have strong correlation using OHE ( Correlation Coefficient > 0.5 or <0.5)****\n",
        "\n",
        "***Loan Amount Term : Applicant Income \n",
        "Loan Status(1/0) : Credit History(1/0) are the strongest positive co-relation*** "
      ]
    }
  ]
}