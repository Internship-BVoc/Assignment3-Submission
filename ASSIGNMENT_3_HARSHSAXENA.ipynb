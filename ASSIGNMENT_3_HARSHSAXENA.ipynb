{
  "nbformat": 4,
  "nbformat_minor": 0,
  "metadata": {
    "colab": {
      "name": "ASSIGNMENT_3_HARSHSAXENA",
      "provenance": [],
      "collapsed_sections": []
    },
    "kernelspec": {
      "name": "python3",
      "display_name": "Python 3"
    }
  },
  "cells": [
    {
      "cell_type": "markdown",
      "metadata": {
        "id": "l3EnOjhR_-Ez",
        "colab_type": "text"
      },
      "source": [
        "# **FEATURE ENGINEERING**"
      ]
    },
    {
      "cell_type": "markdown",
      "metadata": {
        "id": "O7jw4dEcAKgu",
        "colab_type": "text"
      },
      "source": [
        "**Import Basic Libraries**"
      ]
    },
    {
      "cell_type": "code",
      "metadata": {
        "id": "SYUXoZaV3G4B",
        "colab_type": "code",
        "colab": {}
      },
      "source": [
        "import numpy as np\n",
        "import pandas as pd\n",
        "import matplotlib.pyplot as plt\n",
        "from sklearn.preprocessing import LabelEncoder\n",
        "from sklearn.preprocessing import OneHotEncoder\n",
        "import seaborn as sns"
      ],
      "execution_count": 0,
      "outputs": []
    },
    {
      "cell_type": "markdown",
      "metadata": {
        "id": "sXOqm3RWASX7",
        "colab_type": "text"
      },
      "source": [
        "**Import .CSV Dataset**"
      ]
    },
    {
      "cell_type": "code",
      "metadata": {
        "id": "NSCUqeZ77XT_",
        "colab_type": "code",
        "colab": {}
      },
      "source": [
        "df_csv = pd.read_csv(\"dataset_model.csv\",sep=\",\")"
      ],
      "execution_count": 0,
      "outputs": []
    },
    {
      "cell_type": "markdown",
      "metadata": {
        "id": "mq05C-N-AY81",
        "colab_type": "text"
      },
      "source": [
        "**Reading Columns In Dataset**"
      ]
    },
    {
      "cell_type": "code",
      "metadata": {
        "id": "HPh__J6T7qDN",
        "colab_type": "code",
        "colab": {
          "base_uri": "https://localhost:8080/",
          "height": 85
        },
        "outputId": "99169ba9-8875-4e53-98b0-db61bcc1550c"
      },
      "source": [
        "df_csv.columns"
      ],
      "execution_count": 81,
      "outputs": [
        {
          "output_type": "execute_result",
          "data": {
            "text/plain": [
              "Index(['Loan_ID', 'Gender', 'Married', 'Dependents', 'Education',\n",
              "       'Self_Employed', 'ApplicantIncome', 'CoapplicantIncome', 'LoanAmount',\n",
              "       'Loan_Amount_Term', 'Credit_History', 'Property_Area', 'Loan_Status'],\n",
              "      dtype='object')"
            ]
          },
          "metadata": {
            "tags": []
          },
          "execution_count": 81
        }
      ]
    },
    {
      "cell_type": "markdown",
      "metadata": {
        "id": "mNcq6_u7Ad1I",
        "colab_type": "text"
      },
      "source": [
        "**Reading Top Head Values**"
      ]
    },
    {
      "cell_type": "code",
      "metadata": {
        "id": "o2w-5y0V70LI",
        "colab_type": "code",
        "colab": {
          "base_uri": "https://localhost:8080/",
          "height": 241
        },
        "outputId": "db35d6a9-ccfd-42a1-ead2-3e2afbaea687"
      },
      "source": [
        "df_csv.head()"
      ],
      "execution_count": 82,
      "outputs": [
        {
          "output_type": "execute_result",
          "data": {
            "text/html": [
              "<div>\n",
              "<style scoped>\n",
              "    .dataframe tbody tr th:only-of-type {\n",
              "        vertical-align: middle;\n",
              "    }\n",
              "\n",
              "    .dataframe tbody tr th {\n",
              "        vertical-align: top;\n",
              "    }\n",
              "\n",
              "    .dataframe thead th {\n",
              "        text-align: right;\n",
              "    }\n",
              "</style>\n",
              "<table border=\"1\" class=\"dataframe\">\n",
              "  <thead>\n",
              "    <tr style=\"text-align: right;\">\n",
              "      <th></th>\n",
              "      <th>Loan_ID</th>\n",
              "      <th>Gender</th>\n",
              "      <th>Married</th>\n",
              "      <th>Dependents</th>\n",
              "      <th>Education</th>\n",
              "      <th>Self_Employed</th>\n",
              "      <th>ApplicantIncome</th>\n",
              "      <th>CoapplicantIncome</th>\n",
              "      <th>LoanAmount</th>\n",
              "      <th>Loan_Amount_Term</th>\n",
              "      <th>Credit_History</th>\n",
              "      <th>Property_Area</th>\n",
              "      <th>Loan_Status</th>\n",
              "    </tr>\n",
              "  </thead>\n",
              "  <tbody>\n",
              "    <tr>\n",
              "      <th>0</th>\n",
              "      <td>LP001002</td>\n",
              "      <td>Male</td>\n",
              "      <td>No</td>\n",
              "      <td>0</td>\n",
              "      <td>Graduate</td>\n",
              "      <td>No</td>\n",
              "      <td>5849</td>\n",
              "      <td>0.0</td>\n",
              "      <td>NaN</td>\n",
              "      <td>360.0</td>\n",
              "      <td>1.0</td>\n",
              "      <td>Urban</td>\n",
              "      <td>Y</td>\n",
              "    </tr>\n",
              "    <tr>\n",
              "      <th>1</th>\n",
              "      <td>LP001003</td>\n",
              "      <td>Male</td>\n",
              "      <td>Yes</td>\n",
              "      <td>1</td>\n",
              "      <td>Graduate</td>\n",
              "      <td>No</td>\n",
              "      <td>4583</td>\n",
              "      <td>1508.0</td>\n",
              "      <td>128.0</td>\n",
              "      <td>360.0</td>\n",
              "      <td>1.0</td>\n",
              "      <td>Rural</td>\n",
              "      <td>N</td>\n",
              "    </tr>\n",
              "    <tr>\n",
              "      <th>2</th>\n",
              "      <td>LP001005</td>\n",
              "      <td>Male</td>\n",
              "      <td>Yes</td>\n",
              "      <td>0</td>\n",
              "      <td>Graduate</td>\n",
              "      <td>Yes</td>\n",
              "      <td>3000</td>\n",
              "      <td>0.0</td>\n",
              "      <td>66.0</td>\n",
              "      <td>360.0</td>\n",
              "      <td>1.0</td>\n",
              "      <td>Urban</td>\n",
              "      <td>Y</td>\n",
              "    </tr>\n",
              "    <tr>\n",
              "      <th>3</th>\n",
              "      <td>LP001006</td>\n",
              "      <td>Male</td>\n",
              "      <td>Yes</td>\n",
              "      <td>0</td>\n",
              "      <td>Not Graduate</td>\n",
              "      <td>No</td>\n",
              "      <td>2583</td>\n",
              "      <td>2358.0</td>\n",
              "      <td>120.0</td>\n",
              "      <td>360.0</td>\n",
              "      <td>1.0</td>\n",
              "      <td>Urban</td>\n",
              "      <td>Y</td>\n",
              "    </tr>\n",
              "    <tr>\n",
              "      <th>4</th>\n",
              "      <td>LP001008</td>\n",
              "      <td>Male</td>\n",
              "      <td>No</td>\n",
              "      <td>0</td>\n",
              "      <td>Graduate</td>\n",
              "      <td>No</td>\n",
              "      <td>6000</td>\n",
              "      <td>0.0</td>\n",
              "      <td>141.0</td>\n",
              "      <td>360.0</td>\n",
              "      <td>1.0</td>\n",
              "      <td>Urban</td>\n",
              "      <td>Y</td>\n",
              "    </tr>\n",
              "  </tbody>\n",
              "</table>\n",
              "</div>"
            ],
            "text/plain": [
              "    Loan_ID Gender Married  ... Credit_History Property_Area Loan_Status\n",
              "0  LP001002   Male      No  ...            1.0         Urban           Y\n",
              "1  LP001003   Male     Yes  ...            1.0         Rural           N\n",
              "2  LP001005   Male     Yes  ...            1.0         Urban           Y\n",
              "3  LP001006   Male     Yes  ...            1.0         Urban           Y\n",
              "4  LP001008   Male      No  ...            1.0         Urban           Y\n",
              "\n",
              "[5 rows x 13 columns]"
            ]
          },
          "metadata": {
            "tags": []
          },
          "execution_count": 82
        }
      ]
    },
    {
      "cell_type": "code",
      "metadata": {
        "id": "lIyBNBUg75zR",
        "colab_type": "code",
        "colab": {
          "base_uri": "https://localhost:8080/",
          "height": 34
        },
        "outputId": "c7571ddd-b935-40e0-a2e1-6db1ca258dfb"
      },
      "source": [
        "df_csv.shape"
      ],
      "execution_count": 24,
      "outputs": [
        {
          "output_type": "execute_result",
          "data": {
            "text/plain": [
              "(614, 12)"
            ]
          },
          "metadata": {
            "tags": []
          },
          "execution_count": 24
        }
      ]
    },
    {
      "cell_type": "code",
      "metadata": {
        "id": "tkQUoWh_GkR3",
        "colab_type": "code",
        "colab": {
          "base_uri": "https://localhost:8080/",
          "height": 34
        },
        "outputId": "4f1760f3-8306-4b48-afc4-e81f18c626c5"
      },
      "source": [
        "df_csv['Loan_Status'].unique()"
      ],
      "execution_count": 22,
      "outputs": [
        {
          "output_type": "execute_result",
          "data": {
            "text/plain": [
              "array(['Y', 'N'], dtype=object)"
            ]
          },
          "metadata": {
            "tags": []
          },
          "execution_count": 22
        }
      ]
    },
    {
      "cell_type": "markdown",
      "metadata": {
        "id": "dNYQJgmdAnrP",
        "colab_type": "text"
      },
      "source": [
        "# **ASSINGMENT 3 - FEATURE ENGINEERING**"
      ]
    },
    {
      "cell_type": "markdown",
      "metadata": {
        "id": "GMBYxdezFg14",
        "colab_type": "text"
      },
      "source": [
        "**Problem 1.1 - Idenitfy & Remove the field that is providing only unique information about records .Capture it in another dataframe**"
      ]
    },
    {
      "cell_type": "markdown",
      "metadata": {
        "id": "4PqxsFx_Fo1a",
        "colab_type": "text"
      },
      "source": [
        "**All The Fields Seems To Have Non-Unique Values In Other Columns Except For Loan_StatusFirst**\n",
        "\n",
        "**So, First Checking If Loan ID has All Unique Values Or Not Actually**"
      ]
    },
    {
      "cell_type": "code",
      "metadata": {
        "id": "kWWrIVgC-jRX",
        "colab_type": "code",
        "colab": {
          "base_uri": "https://localhost:8080/",
          "height": 34
        },
        "outputId": "962c46e4-b86d-486c-8a86-f3ee3c37cb9a"
      },
      "source": [
        "len(df_csv['Loan_ID'].unique())"
      ],
      "execution_count": 8,
      "outputs": [
        {
          "output_type": "execute_result",
          "data": {
            "text/plain": [
              "614"
            ]
          },
          "metadata": {
            "tags": []
          },
          "execution_count": 8
        }
      ]
    },
    {
      "cell_type": "markdown",
      "metadata": {
        "id": "uUCTIW9wGrrx",
        "colab_type": "text"
      },
      "source": [
        "**As Loan_ID Contains All Unique Values, Capturing It In Another Dataframe & Then Removing That Field From Original Dataframe**"
      ]
    },
    {
      "cell_type": "code",
      "metadata": {
        "id": "xBTMOck0_F5f",
        "colab_type": "code",
        "colab": {
          "base_uri": "https://localhost:8080/",
          "height": 85
        },
        "outputId": "7ab6da4a-2a66-4737-8d13-9d4119198837"
      },
      "source": [
        "df_unqid = df_csv['Loan_ID']\n",
        "df_csv=df_csv.drop(columns='Loan_ID')\n",
        "df_csv.columns"
      ],
      "execution_count": 83,
      "outputs": [
        {
          "output_type": "execute_result",
          "data": {
            "text/plain": [
              "Index(['Gender', 'Married', 'Dependents', 'Education', 'Self_Employed',\n",
              "       'ApplicantIncome', 'CoapplicantIncome', 'LoanAmount',\n",
              "       'Loan_Amount_Term', 'Credit_History', 'Property_Area', 'Loan_Status'],\n",
              "      dtype='object')"
            ]
          },
          "metadata": {
            "tags": []
          },
          "execution_count": 83
        }
      ]
    },
    {
      "cell_type": "markdown",
      "metadata": {
        "id": "REAeaKftE-Zr",
        "colab_type": "text"
      },
      "source": [
        "**Problem 1.2 - Identifying Continous & Categorical Columns**"
      ]
    },
    {
      "cell_type": "markdown",
      "metadata": {
        "id": "kkK70vtjFMJa",
        "colab_type": "text"
      },
      "source": [
        "**Categorical Variables:-**"
      ]
    },
    {
      "cell_type": "code",
      "metadata": {
        "id": "pnBvjiohEAsO",
        "colab_type": "code",
        "colab": {
          "base_uri": "https://localhost:8080/",
          "height": 34
        },
        "outputId": "a832826d-4e1f-4e14-d84a-3a86a7c319b9"
      },
      "source": [
        "df_csv['Gender'].unique()"
      ],
      "execution_count": 16,
      "outputs": [
        {
          "output_type": "execute_result",
          "data": {
            "text/plain": [
              "array(['Male', 'Female', nan], dtype=object)"
            ]
          },
          "metadata": {
            "tags": []
          },
          "execution_count": 16
        }
      ]
    },
    {
      "cell_type": "code",
      "metadata": {
        "id": "wwv6yQhVEcgv",
        "colab_type": "code",
        "colab": {
          "base_uri": "https://localhost:8080/",
          "height": 34
        },
        "outputId": "7226166d-ce56-43a9-b8f3-e24509b2086a"
      },
      "source": [
        "df_csv['Married'].unique()"
      ],
      "execution_count": 17,
      "outputs": [
        {
          "output_type": "execute_result",
          "data": {
            "text/plain": [
              "array(['No', 'Yes', nan], dtype=object)"
            ]
          },
          "metadata": {
            "tags": []
          },
          "execution_count": 17
        }
      ]
    },
    {
      "cell_type": "code",
      "metadata": {
        "id": "tYKrBJV63ZUy",
        "colab_type": "code",
        "colab": {
          "base_uri": "https://localhost:8080/",
          "height": 34
        },
        "outputId": "744ffb82-0816-4d91-c9b7-b23f5675477f"
      },
      "source": [
        "df_csv['Dependents'].unique()"
      ],
      "execution_count": 256,
      "outputs": [
        {
          "output_type": "execute_result",
          "data": {
            "text/plain": [
              "array(['0', '1', '2', '3+', nan], dtype=object)"
            ]
          },
          "metadata": {
            "tags": []
          },
          "execution_count": 256
        }
      ]
    },
    {
      "cell_type": "code",
      "metadata": {
        "id": "aNK1TZIxEgbN",
        "colab_type": "code",
        "colab": {
          "base_uri": "https://localhost:8080/",
          "height": 34
        },
        "outputId": "9cfb5e2b-5088-4c73-bc7f-831e62f9a489"
      },
      "source": [
        "df_csv['Education'].unique()"
      ],
      "execution_count": 18,
      "outputs": [
        {
          "output_type": "execute_result",
          "data": {
            "text/plain": [
              "array(['Graduate', 'Not Graduate'], dtype=object)"
            ]
          },
          "metadata": {
            "tags": []
          },
          "execution_count": 18
        }
      ]
    },
    {
      "cell_type": "code",
      "metadata": {
        "id": "M-KahD2cEmLo",
        "colab_type": "code",
        "colab": {
          "base_uri": "https://localhost:8080/",
          "height": 34
        },
        "outputId": "c585053b-5578-4eb3-cb0a-e5442cece016"
      },
      "source": [
        "df_csv['Self_Employed'].unique()"
      ],
      "execution_count": 19,
      "outputs": [
        {
          "output_type": "execute_result",
          "data": {
            "text/plain": [
              "array(['No', 'Yes', nan], dtype=object)"
            ]
          },
          "metadata": {
            "tags": []
          },
          "execution_count": 19
        }
      ]
    },
    {
      "cell_type": "code",
      "metadata": {
        "id": "zwZsJB42E0Av",
        "colab_type": "code",
        "colab": {
          "base_uri": "https://localhost:8080/",
          "height": 34
        },
        "outputId": "9c466736-f876-4bbf-c95a-641a4276a199"
      },
      "source": [
        "df_csv['Property_Area'].unique()"
      ],
      "execution_count": 20,
      "outputs": [
        {
          "output_type": "execute_result",
          "data": {
            "text/plain": [
              "array(['Urban', 'Rural', 'Semiurban'], dtype=object)"
            ]
          },
          "metadata": {
            "tags": []
          },
          "execution_count": 20
        }
      ]
    },
    {
      "cell_type": "code",
      "metadata": {
        "id": "jnFpEOP8E35U",
        "colab_type": "code",
        "colab": {
          "base_uri": "https://localhost:8080/",
          "height": 34
        },
        "outputId": "68903672-8097-410c-e96c-14fd2e287c88"
      },
      "source": [
        "df_csv['Loan_Status'].unique()"
      ],
      "execution_count": 21,
      "outputs": [
        {
          "output_type": "execute_result",
          "data": {
            "text/plain": [
              "array(['Y', 'N'], dtype=object)"
            ]
          },
          "metadata": {
            "tags": []
          },
          "execution_count": 21
        }
      ]
    },
    {
      "cell_type": "code",
      "metadata": {
        "id": "V6kupZPQ3TAE",
        "colab_type": "code",
        "colab": {}
      },
      "source": [
        "cat_var1=list(set(df_csv.columns) - set(con_var))\n",
        "cat_var=[]\n",
        "for i in cat_var:\n",
        "  print(i, \"\\t\", len(df_csv[i].unique()))"
      ],
      "execution_count": 0,
      "outputs": []
    },
    {
      "cell_type": "code",
      "metadata": {
        "id": "oQzqupCvp4xf",
        "colab_type": "code",
        "colab": {
          "base_uri": "https://localhost:8080/",
          "height": 34
        },
        "outputId": "a9c7857b-3c98-4168-e197-91dcb3b6df6d"
      },
      "source": [
        "print(cat_var1)"
      ],
      "execution_count": 57,
      "outputs": [
        {
          "output_type": "stream",
          "text": [
            "['Loan_Status', 'Married', 'Gender', 'Self_Employed', 'Education', 'Property_Area', 'Dependents']\n"
          ],
          "name": "stdout"
        }
      ]
    },
    {
      "cell_type": "markdown",
      "metadata": {
        "id": "4ZDGbiVzHMkE",
        "colab_type": "text"
      },
      "source": [
        "**So Total Categorical Variables Are Gender, Married, Education, Self_Employed, Property_Area & Loan_Status**"
      ]
    },
    {
      "cell_type": "markdown",
      "metadata": {
        "id": "_V5PquFJHlY7",
        "colab_type": "text"
      },
      "source": [
        "**Continuous Variables:-**"
      ]
    },
    {
      "cell_type": "code",
      "metadata": {
        "id": "5RUZer5SH_sm",
        "colab_type": "code",
        "colab": {
          "base_uri": "https://localhost:8080/",
          "height": 34
        },
        "outputId": "49607412-9e88-4c86-a57f-e4fce6a8d60f"
      },
      "source": [
        "len(df_csv['ApplicantIncome'].unique())"
      ],
      "execution_count": 28,
      "outputs": [
        {
          "output_type": "execute_result",
          "data": {
            "text/plain": [
              "505"
            ]
          },
          "metadata": {
            "tags": []
          },
          "execution_count": 28
        }
      ]
    },
    {
      "cell_type": "code",
      "metadata": {
        "id": "Z4dzgQ6uITGg",
        "colab_type": "code",
        "colab": {
          "base_uri": "https://localhost:8080/",
          "height": 34
        },
        "outputId": "6bc138a9-e170-4d47-fb4c-3623d0a6a438"
      },
      "source": [
        "len(df_csv['CoapplicantIncome'].unique())"
      ],
      "execution_count": 29,
      "outputs": [
        {
          "output_type": "execute_result",
          "data": {
            "text/plain": [
              "287"
            ]
          },
          "metadata": {
            "tags": []
          },
          "execution_count": 29
        }
      ]
    },
    {
      "cell_type": "code",
      "metadata": {
        "id": "lYD0VUEqIXZf",
        "colab_type": "code",
        "colab": {
          "base_uri": "https://localhost:8080/",
          "height": 34
        },
        "outputId": "050607b2-8c67-4da3-8c7e-ff2ef673b4b0"
      },
      "source": [
        "len(df_csv['LoanAmount'].unique())"
      ],
      "execution_count": 30,
      "outputs": [
        {
          "output_type": "execute_result",
          "data": {
            "text/plain": [
              "204"
            ]
          },
          "metadata": {
            "tags": []
          },
          "execution_count": 30
        }
      ]
    },
    {
      "cell_type": "code",
      "metadata": {
        "id": "gbEr50e1IcG-",
        "colab_type": "code",
        "colab": {
          "base_uri": "https://localhost:8080/",
          "height": 34
        },
        "outputId": "7c276768-071e-474e-9123-1dd0ffe5d6f2"
      },
      "source": [
        "len(df_csv['Loan_Amount_Term'].unique())"
      ],
      "execution_count": 31,
      "outputs": [
        {
          "output_type": "execute_result",
          "data": {
            "text/plain": [
              "11"
            ]
          },
          "metadata": {
            "tags": []
          },
          "execution_count": 31
        }
      ]
    },
    {
      "cell_type": "code",
      "metadata": {
        "id": "4V53ny_rIixf",
        "colab_type": "code",
        "colab": {
          "base_uri": "https://localhost:8080/",
          "height": 34
        },
        "outputId": "165e2d35-fa73-4824-b9d1-4245a8439d32"
      },
      "source": [
        "len(df_csv['Credit_History'].unique())"
      ],
      "execution_count": 32,
      "outputs": [
        {
          "output_type": "execute_result",
          "data": {
            "text/plain": [
              "3"
            ]
          },
          "metadata": {
            "tags": []
          },
          "execution_count": 32
        }
      ]
    },
    {
      "cell_type": "code",
      "metadata": {
        "id": "OikGZOuf2vWC",
        "colab_type": "code",
        "colab": {
          "base_uri": "https://localhost:8080/",
          "height": 68
        },
        "outputId": "139f28f2-b632-49c4-c57f-1da0328e1cf4"
      },
      "source": [
        "con_var = df_csv._get_numeric_data().columns\n",
        "con_var"
      ],
      "execution_count": 85,
      "outputs": [
        {
          "output_type": "execute_result",
          "data": {
            "text/plain": [
              "Index(['ApplicantIncome', 'CoapplicantIncome', 'LoanAmount',\n",
              "       'Loan_Amount_Term', 'Credit_History'],\n",
              "      dtype='object')"
            ]
          },
          "metadata": {
            "tags": []
          },
          "execution_count": 85
        }
      ]
    },
    {
      "cell_type": "markdown",
      "metadata": {
        "id": "u2W1POk_JKCN",
        "colab_type": "text"
      },
      "source": [
        "**So, Total Continuous Variables Are ApplicantIncome, CoapplicantIncome, LoanAmount, Loan_Amount_Term, Credit_History**\n"
      ]
    },
    {
      "cell_type": "markdown",
      "metadata": {
        "id": "P6bXGTBoJjbS",
        "colab_type": "text"
      },
      "source": [
        "**Problem 1.3 - Performing Uni-variate Analysis with Plots.Record your Observations**"
      ]
    },
    {
      "cell_type": "markdown",
      "metadata": {
        "id": "v24eCnHhLYOJ",
        "colab_type": "text"
      },
      "source": [
        "**Univariate Analysis On Continuous Variables:-**"
      ]
    },
    {
      "cell_type": "code",
      "metadata": {
        "id": "vKl0-qlzIn-B",
        "colab_type": "code",
        "colab": {
          "base_uri": "https://localhost:8080/",
          "height": 835
        },
        "outputId": "e816c7c4-5903-4a86-9545-89d1bd32ab65"
      },
      "source": [
        "df_csv.hist(figsize=[20,12])"
      ],
      "execution_count": 33,
      "outputs": [
        {
          "output_type": "execute_result",
          "data": {
            "text/plain": [
              "array([[<matplotlib.axes._subplots.AxesSubplot object at 0x7feb37161080>,\n",
              "        <matplotlib.axes._subplots.AxesSubplot object at 0x7feb3712e320>],\n",
              "       [<matplotlib.axes._subplots.AxesSubplot object at 0x7feb3738eb38>,\n",
              "        <matplotlib.axes._subplots.AxesSubplot object at 0x7feb37106c50>],\n",
              "       [<matplotlib.axes._subplots.AxesSubplot object at 0x7feb370b8eb8>,\n",
              "        <matplotlib.axes._subplots.AxesSubplot object at 0x7feb37074160>]],\n",
              "      dtype=object)"
            ]
          },
          "metadata": {
            "tags": []
          },
          "execution_count": 33
        },
        {
          "output_type": "display_data",
          "data": {
            "image/png": "[encoded data removed]",
            "text/plain": [
              "<Figure size 1440x864 with 6 Axes>"
            ]
          },
          "metadata": {
            "tags": [],
            "needs_background": "light"
          }
        }
      ]
    },
    {
      "cell_type": "markdown",
      "metadata": {
        "id": "x8T6OZOrUN1u",
        "colab_type": "text"
      },
      "source": [
        "**Inferences From Above Graph:-**\n",
        "1. More then 500 applicants earns an income of less than 10,000\n",
        "2. Around 50 applicants earns an income of more than 10,000 & Around 20 applicants earns an income ranging between 15,000 to 25,0000\n",
        "3. The income of Coapplicants is almost matched with the income of applicants\n",
        "4. Credit History of around 90 applicants is ranging between 0.0 to 0.1 & of around 400+ applicants is ranging from 0.9 to 1.0\n",
        "5. Loan amount of majority of applicants are ranging between 10 to 220, with the maximum of 90 to 140 for 300+ applicants in between\n",
        "6. The maximum Loan amount term is in between 350 to 380 for around 510 applicants "
      ]
    },
    {
      "cell_type": "markdown",
      "metadata": {
        "id": "ol0aocWcLf5I",
        "colab_type": "text"
      },
      "source": [
        "**Univariate Analysis On Categorical Variables:-**"
      ]
    },
    {
      "cell_type": "code",
      "metadata": {
        "id": "pND9ri1tLr_H",
        "colab_type": "code",
        "colab": {
          "base_uri": "https://localhost:8080/",
          "height": 308
        },
        "outputId": "fe5897b8-2425-4d41-fc40-946e29375fee"
      },
      "source": [
        "df_csv['Gender'].value_counts().plot.bar()"
      ],
      "execution_count": 34,
      "outputs": [
        {
          "output_type": "execute_result",
          "data": {
            "text/plain": [
              "<matplotlib.axes._subplots.AxesSubplot at 0x7feb36eb2160>"
            ]
          },
          "metadata": {
            "tags": []
          },
          "execution_count": 34
        },
        {
          "output_type": "display_data",
          "data": {
            "image/png": "[encoded data removed]",
            "text/plain": [
              "<Figure size 432x288 with 1 Axes>"
            ]
          },
          "metadata": {
            "tags": [],
            "needs_background": "light"
          }
        }
      ]
    },
    {
      "cell_type": "markdown",
      "metadata": {
        "id": "3W-wJSBbXnVX",
        "colab_type": "text"
      },
      "source": [
        "**Inferences From Above Graph:-**\n",
        "- There are more number of male applicants as compare to the females"
      ]
    },
    {
      "cell_type": "code",
      "metadata": {
        "id": "71bWBdqOL5x-",
        "colab_type": "code",
        "colab": {
          "base_uri": "https://localhost:8080/",
          "height": 288
        },
        "outputId": "670883e6-9ec5-460a-ef91-1a51277d784a"
      },
      "source": [
        "df_csv['Married'].value_counts().plot.bar()"
      ],
      "execution_count": 35,
      "outputs": [
        {
          "output_type": "execute_result",
          "data": {
            "text/plain": [
              "<matplotlib.axes._subplots.AxesSubplot at 0x7feb369f6c88>"
            ]
          },
          "metadata": {
            "tags": []
          },
          "execution_count": 35
        },
        {
          "output_type": "display_data",
          "data": {
            "image/png": "[encoded data removed]",
            "text/plain": [
              "<Figure size 432x288 with 1 Axes>"
            ]
          },
          "metadata": {
            "tags": [],
            "needs_background": "light"
          }
        }
      ]
    },
    {
      "cell_type": "markdown",
      "metadata": {
        "id": "2Y4EXDg6X0xn",
        "colab_type": "text"
      },
      "source": [
        "**Inferences From Above Graph:-**\n",
        "- There are majority of applicants (around 400) married"
      ]
    },
    {
      "cell_type": "code",
      "metadata": {
        "id": "GQnDKXzrL-XH",
        "colab_type": "code",
        "colab": {
          "base_uri": "https://localhost:8080/",
          "height": 342
        },
        "outputId": "902efa88-1c7f-4d69-92ff-ce7915a93ee3"
      },
      "source": [
        "df_csv['Education'].value_counts().plot.bar()"
      ],
      "execution_count": 36,
      "outputs": [
        {
          "output_type": "execute_result",
          "data": {
            "text/plain": [
              "<matplotlib.axes._subplots.AxesSubplot at 0x7feb3693ffd0>"
            ]
          },
          "metadata": {
            "tags": []
          },
          "execution_count": 36
        },
        {
          "output_type": "display_data",
          "data": {
            "image/png": "[encoded data removed]",
            "text/plain": [
              "<Figure size 432x288 with 1 Axes>"
            ]
          },
          "metadata": {
            "tags": [],
            "needs_background": "light"
          }
        }
      ]
    },
    {
      "cell_type": "markdown",
      "metadata": {
        "id": "UgZyb7hFYFAQ",
        "colab_type": "text"
      },
      "source": [
        "**Inferences From Above Graph:-**\n",
        "- There are applicants more number of graduates(around 500) as compared to under-graduates"
      ]
    },
    {
      "cell_type": "code",
      "metadata": {
        "id": "DRAzmPzZMDMh",
        "colab_type": "code",
        "colab": {
          "base_uri": "https://localhost:8080/",
          "height": 288
        },
        "outputId": "3d77ccfa-b1f9-4140-8bf3-c1bcde4a5d7b"
      },
      "source": [
        "df_csv['Self_Employed'].value_counts().plot.bar()"
      ],
      "execution_count": 37,
      "outputs": [
        {
          "output_type": "execute_result",
          "data": {
            "text/plain": [
              "<matplotlib.axes._subplots.AxesSubplot at 0x7feb369ee748>"
            ]
          },
          "metadata": {
            "tags": []
          },
          "execution_count": 37
        },
        {
          "output_type": "display_data",
          "data": {
            "image/png": "[encoded data removed]",
            "text/plain": [
              "<Figure size 432x288 with 1 Axes>"
            ]
          },
          "metadata": {
            "tags": [],
            "needs_background": "light"
          }
        }
      ]
    },
    {
      "cell_type": "markdown",
      "metadata": {
        "id": "Ru3FjLYuYWvf",
        "colab_type": "text"
      },
      "source": [
        "**Inferences From Above Graph:-**\n",
        "- There are majority of peoples who are not self employed(around 500)"
      ]
    },
    {
      "cell_type": "code",
      "metadata": {
        "id": "AzJBd3C6MKx9",
        "colab_type": "code",
        "colab": {
          "base_uri": "https://localhost:8080/",
          "height": 326
        },
        "outputId": "44feb51c-b164-4b45-98b2-dceb2e605239"
      },
      "source": [
        "df_csv['Property_Area'].value_counts().plot.bar()"
      ],
      "execution_count": 39,
      "outputs": [
        {
          "output_type": "execute_result",
          "data": {
            "text/plain": [
              "<matplotlib.axes._subplots.AxesSubplot at 0x7feb368a9748>"
            ]
          },
          "metadata": {
            "tags": []
          },
          "execution_count": 39
        },
        {
          "output_type": "display_data",
          "data": {
            "image/png": "[encoded data removed]",
            "text/plain": [
              "<Figure size 432x288 with 1 Axes>"
            ]
          },
          "metadata": {
            "tags": [],
            "needs_background": "light"
          }
        }
      ]
    },
    {
      "cell_type": "markdown",
      "metadata": {
        "id": "q_Isbec-Yj1p",
        "colab_type": "text"
      },
      "source": [
        "**Inferences From Above Graph:-**\n",
        "- The maximum property area is occupied by the Semiurban, second best is Urban & then least in Rural area "
      ]
    },
    {
      "cell_type": "code",
      "metadata": {
        "id": "NOgDPA1aMTqs",
        "colab_type": "code",
        "colab": {
          "base_uri": "https://localhost:8080/",
          "height": 280
        },
        "outputId": "bde47570-ae71-43b8-ddb0-82d018808c78"
      },
      "source": [
        "df_csv['Loan_Status'].value_counts().plot.bar()"
      ],
      "execution_count": 42,
      "outputs": [
        {
          "output_type": "execute_result",
          "data": {
            "text/plain": [
              "<matplotlib.axes._subplots.AxesSubplot at 0x7feb3681bc88>"
            ]
          },
          "metadata": {
            "tags": []
          },
          "execution_count": 42
        },
        {
          "output_type": "display_data",
          "data": {
            "image/png": "[encoded data removed]",
            "text/plain": [
              "<Figure size 432x288 with 1 Axes>"
            ]
          },
          "metadata": {
            "tags": [],
            "needs_background": "light"
          }
        }
      ]
    },
    {
      "cell_type": "markdown",
      "metadata": {
        "id": "x8dC6BefY12A",
        "colab_type": "text"
      },
      "source": [
        "**Inferences From Above Graph:-**\n",
        "- There are majority of applicants whose loan status is accepted (around 410)"
      ]
    },
    {
      "cell_type": "markdown",
      "metadata": {
        "id": "uKZllAA9Mt8d",
        "colab_type": "text"
      },
      "source": [
        "**Problem 1.4 - Perform Bi-variate Analysis among all Independent variables.Draw appropriate Plots , mention observations**"
      ]
    },
    {
      "cell_type": "code",
      "metadata": {
        "id": "U8vOUgBmOqUp",
        "colab_type": "code",
        "colab": {
          "base_uri": "https://localhost:8080/",
          "height": 297
        },
        "outputId": "8b3bdb8b-2f12-4de1-f60a-e7eacce2372d"
      },
      "source": [
        "fn = sns.FacetGrid(df_csv,col='Gender',height=4,aspect=1)\n",
        "fn = fn.map(plt.hist,'Dependents')"
      ],
      "execution_count": 322,
      "outputs": [
        {
          "output_type": "display_data",
          "data": {
            "image/png": "[encoded data removed]",
            "text/plain": [
              "<Figure size 576x288 with 2 Axes>"
            ]
          },
          "metadata": {
            "tags": [],
            "needs_background": "light"
          }
        }
      ]
    },
    {
      "cell_type": "markdown",
      "metadata": {
        "id": "3-4fNZVbZJz9",
        "colab_type": "text"
      },
      "source": [
        "**Inferences From Above Graph:-**\n",
        "- There are more male dependents as compared to the female dependents"
      ]
    },
    {
      "cell_type": "code",
      "metadata": {
        "id": "5vphMwG2P3dc",
        "colab_type": "code",
        "colab": {
          "base_uri": "https://localhost:8080/",
          "height": 297
        },
        "outputId": "2b75924a-f0ff-405e-c4f7-d2e5e6957d17"
      },
      "source": [
        "fn = sns.FacetGrid(df_csv,col='Married',height=4,aspect=1)\n",
        "fn = fn.map(plt.hist,'Education')"
      ],
      "execution_count": 323,
      "outputs": [
        {
          "output_type": "display_data",
          "data": {
            "image/png": "[encoded data removed]",
            "text/plain": [
              "<Figure size 576x288 with 2 Axes>"
            ]
          },
          "metadata": {
            "tags": [],
            "needs_background": "light"
          }
        }
      ]
    },
    {
      "cell_type": "markdown",
      "metadata": {
        "id": "ylI8d92rZjp9",
        "colab_type": "text"
      },
      "source": [
        "**Inferences From Above Graph:-**\n",
        "1. The people who are married seems to be graduated\n",
        "2. The people who are not married also seems to be graduated if we compare them with under-graduats but there are more people who are graduated & married as compared to people who are graduated & non-married"
      ]
    },
    {
      "cell_type": "code",
      "metadata": {
        "id": "hyAOx17mQB-a",
        "colab_type": "code",
        "colab": {
          "base_uri": "https://localhost:8080/",
          "height": 297
        },
        "outputId": "27b325fa-a8b9-4440-b388-adb4f3baeda4"
      },
      "source": [
        "fn = sns.FacetGrid(df_csv,col='Married',height=4,aspect=1)\n",
        "fn = fn.map(plt.hist,'Self_Employed')"
      ],
      "execution_count": 324,
      "outputs": [
        {
          "output_type": "display_data",
          "data": {
            "image/png": "[encoded data removed]",
            "text/plain": [
              "<Figure size 576x288 with 2 Axes>"
            ]
          },
          "metadata": {
            "tags": [],
            "needs_background": "light"
          }
        }
      ]
    },
    {
      "cell_type": "markdown",
      "metadata": {
        "id": "wM4_PmjyaPrJ",
        "colab_type": "text"
      },
      "source": [
        "**Inferences From Above Graph:-**\n",
        "- There are more married people who are self-employed as compared to the non-married people who are self-employed"
      ]
    },
    {
      "cell_type": "code",
      "metadata": {
        "id": "AguEQtQNQPh6",
        "colab_type": "code",
        "colab": {
          "base_uri": "https://localhost:8080/",
          "height": 297
        },
        "outputId": "9108cc8d-5e72-417d-b2b7-8421be2495f8"
      },
      "source": [
        "fn = sns.FacetGrid(df_csv,col='Gender',height=4,aspect=1)\n",
        "fn = fn.map(plt.hist,'Property_Area')"
      ],
      "execution_count": 325,
      "outputs": [
        {
          "output_type": "display_data",
          "data": {
            "image/png": "[encoded data removed]",
            "text/plain": [
              "<Figure size 576x288 with 2 Axes>"
            ]
          },
          "metadata": {
            "tags": [],
            "needs_background": "light"
          }
        }
      ]
    },
    {
      "cell_type": "markdown",
      "metadata": {
        "id": "dhxMynDFaeYY",
        "colab_type": "text"
      },
      "source": [
        "**Inferences From Above Graph:-**\n",
        "1. The males have more property in rural area & least in semiurban area\n",
        "2. The females have more property in semiurban area & least in rural area"
      ]
    },
    {
      "cell_type": "code",
      "metadata": {
        "id": "VNje2PeuQfKu",
        "colab_type": "code",
        "colab": {
          "base_uri": "https://localhost:8080/",
          "height": 297
        },
        "outputId": "36ba7129-3007-43c9-a5f1-73e69e667a04"
      },
      "source": [
        "fn = sns.FacetGrid(df_csv,col='Gender',height=4,aspect=1)\n",
        "fn = fn.map(plt.hist,'ApplicantIncome')"
      ],
      "execution_count": 326,
      "outputs": [
        {
          "output_type": "display_data",
          "data": {
            "image/png": "[encoded data removed]",
            "text/plain": [
              "<Figure size 576x288 with 2 Axes>"
            ]
          },
          "metadata": {
            "tags": [],
            "needs_background": "light"
          }
        }
      ]
    },
    {
      "cell_type": "markdown",
      "metadata": {
        "id": "2G9Mi0P_a00J",
        "colab_type": "text"
      },
      "source": [
        "**Inferences From Above Graph:-**\n",
        "- The income of male applicants is hugely more then the income of female applicants"
      ]
    },
    {
      "cell_type": "code",
      "metadata": {
        "id": "mVQMAdhfQjpo",
        "colab_type": "code",
        "colab": {
          "base_uri": "https://localhost:8080/",
          "height": 297
        },
        "outputId": "1812c635-7e75-47ba-d13b-9b9b49b35b32"
      },
      "source": [
        "fn = sns.FacetGrid(df_csv,col='Gender',height=4,aspect=1)\n",
        "fn = fn.map(plt.hist,'CoapplicantIncome')"
      ],
      "execution_count": 327,
      "outputs": [
        {
          "output_type": "display_data",
          "data": {
            "image/png": "[encoded data removed]",
            "text/plain": [
              "<Figure size 576x288 with 2 Axes>"
            ]
          },
          "metadata": {
            "tags": [],
            "needs_background": "light"
          }
        }
      ]
    },
    {
      "cell_type": "markdown",
      "metadata": {
        "id": "3LqXaFiUbD2K",
        "colab_type": "text"
      },
      "source": [
        "**Inferences From Above Graph:-**\n",
        "- Similarly, the income of male coapplicants are more as compared to the female coapplicants"
      ]
    },
    {
      "cell_type": "code",
      "metadata": {
        "id": "hVXk0XHwQ67g",
        "colab_type": "code",
        "colab": {
          "base_uri": "https://localhost:8080/",
          "height": 297
        },
        "outputId": "e08f9c00-cce2-41c1-b0ff-6cd8f143e5ea"
      },
      "source": [
        "fn = sns.FacetGrid(df_csv,col='Gender',height=4,aspect=1)\n",
        "fn = fn.map(plt.hist,'LoanAmount')"
      ],
      "execution_count": 330,
      "outputs": [
        {
          "output_type": "display_data",
          "data": {
            "image/png": "[encoded data removed]",
            "text/plain": [
              "<Figure size 576x288 with 2 Axes>"
            ]
          },
          "metadata": {
            "tags": [],
            "needs_background": "light"
          }
        }
      ]
    },
    {
      "cell_type": "markdown",
      "metadata": {
        "id": "kD8z3mSxbOSE",
        "colab_type": "text"
      },
      "source": [
        "**Inferences From Above Graph:-**\n",
        "- The loan amount of majority of males is also more then the loan amount of females"
      ]
    },
    {
      "cell_type": "code",
      "metadata": {
        "id": "BokBW0G3Qrd5",
        "colab_type": "code",
        "colab": {
          "base_uri": "https://localhost:8080/",
          "height": 297
        },
        "outputId": "9a01f7a0-db44-4e4b-80d9-38d4fa6b48af"
      },
      "source": [
        "fn = sns.FacetGrid(df_csv,col='Gender',height=4,aspect=1)\n",
        "fn = fn.map(plt.hist,'Loan_Amount_Term')"
      ],
      "execution_count": 329,
      "outputs": [
        {
          "output_type": "display_data",
          "data": {
            "image/png": "[encoded data removed]",
            "text/plain": [
              "<Figure size 576x288 with 2 Axes>"
            ]
          },
          "metadata": {
            "tags": [],
            "needs_background": "light"
          }
        }
      ]
    },
    {
      "cell_type": "markdown",
      "metadata": {
        "id": "M_rHNvJybcRd",
        "colab_type": "text"
      },
      "source": [
        "**Inferences From Above Graph:-**\n",
        "- The loan amount term of 350 to 400 males are more then the loan amount term of 350 to 400 females"
      ]
    },
    {
      "cell_type": "code",
      "metadata": {
        "id": "BTPj5s-cRAGu",
        "colab_type": "code",
        "colab": {
          "base_uri": "https://localhost:8080/",
          "height": 297
        },
        "outputId": "1e674636-8fdd-4621-bf0e-9e5afd6e810a"
      },
      "source": [
        "fn = sns.FacetGrid(df_csv,col='Gender',height=4,aspect=1)\n",
        "fn = fn.map(plt.hist,'Credit_History')"
      ],
      "execution_count": 331,
      "outputs": [
        {
          "output_type": "display_data",
          "data": {
            "image/png": "[encoded data removed]",
            "text/plain": [
              "<Figure size 576x288 with 2 Axes>"
            ]
          },
          "metadata": {
            "tags": [],
            "needs_background": "light"
          }
        }
      ]
    },
    {
      "cell_type": "markdown",
      "metadata": {
        "id": "NxYYkjuJbupj",
        "colab_type": "text"
      },
      "source": [
        "**Inferences From Above Graph:-**\n",
        "- The credit history of males is also more then the credit history of females"
      ]
    },
    {
      "cell_type": "markdown",
      "metadata": {
        "id": "owQGycHlOTeZ",
        "colab_type": "text"
      },
      "source": [
        "**Problem 1.5 - Perform Bi-variate Analysis between Target Variable and each Independent variable. Use suitable plot , mention observations,trends etc**"
      ]
    },
    {
      "cell_type": "code",
      "metadata": {
        "id": "b5cu6WRVOZOJ",
        "colab_type": "code",
        "colab": {
          "base_uri": "https://localhost:8080/",
          "height": 297
        },
        "outputId": "a35c913b-ad8c-4e30-aeda-597dde8d1dc1"
      },
      "source": [
        "fn = sns.FacetGrid(df_csv,col='Gender',height=4,aspect=1)\n",
        "fn = fn.map(plt.hist,'Loan_Status')"
      ],
      "execution_count": 47,
      "outputs": [
        {
          "output_type": "display_data",
          "data": {
            "image/png": "[encoded data removed]",
            "text/plain": [
              "<Figure size 576x288 with 2 Axes>"
            ]
          },
          "metadata": {
            "tags": [],
            "needs_background": "light"
          }
        }
      ]
    },
    {
      "cell_type": "markdown",
      "metadata": {
        "id": "burTcdixb8IN",
        "colab_type": "text"
      },
      "source": [
        "**Inferences From Above Graph:-**\n",
        "1. The loan status of around 340 males is accepted & around 150 males is rejected\n",
        "2. The loan status of around 70 females is accepted & around 40 females is rejected"
      ]
    },
    {
      "cell_type": "code",
      "metadata": {
        "id": "CtsQWyGhSY5Q",
        "colab_type": "code",
        "colab": {
          "base_uri": "https://localhost:8080/",
          "height": 297
        },
        "outputId": "359246cc-209d-44bf-a861-e0bbac49796c"
      },
      "source": [
        "fn = sns.FacetGrid(df_csv,col='Married',height=4,aspect=1)\n",
        "fn = fn.map(plt.hist,'Loan_Status')"
      ],
      "execution_count": 52,
      "outputs": [
        {
          "output_type": "display_data",
          "data": {
            "image/png": "[encoded data removed]",
            "text/plain": [
              "<Figure size 576x288 with 2 Axes>"
            ]
          },
          "metadata": {
            "tags": [],
            "needs_background": "light"
          }
        }
      ]
    },
    {
      "cell_type": "markdown",
      "metadata": {
        "id": "dQ-WalcmcTFS",
        "colab_type": "text"
      },
      "source": [
        "**Inferences From Above Graph:-**\n",
        "- The loan status of married people is more as compared to the loan status of non-married people"
      ]
    },
    {
      "cell_type": "code",
      "metadata": {
        "id": "D5fxwqgKSe2q",
        "colab_type": "code",
        "colab": {
          "base_uri": "https://localhost:8080/",
          "height": 297
        },
        "outputId": "0beee2a4-94eb-4212-b8ae-fa0e487d00e2"
      },
      "source": [
        "fn = sns.FacetGrid(df_csv,col='Dependents',height=4,aspect=1)\n",
        "fn = fn.map(plt.hist,'Loan_Status')"
      ],
      "execution_count": 53,
      "outputs": [
        {
          "output_type": "display_data",
          "data": {
            "image/png": "[encoded data removed]",
            "text/plain": [
              "<Figure size 1152x288 with 4 Axes>"
            ]
          },
          "metadata": {
            "tags": [],
            "needs_background": "light"
          }
        }
      ]
    },
    {
      "cell_type": "markdown",
      "metadata": {
        "id": "BXGhcRaKchUb",
        "colab_type": "text"
      },
      "source": [
        "**Inferences From Above Graph:-**\n",
        "1. The loan status of majority of those with dependents paramter as 0 is rejected\n",
        "2. The loan status of majority of those with dependents paramter as 1 is accepted\n",
        "3. The loan status of majority of thise with dependents parameter as 2 is rejected\n",
        "4.The loan status of majority of those with dependents paramater more then 3 is accepted"
      ]
    },
    {
      "cell_type": "code",
      "metadata": {
        "id": "RcbfI_ObQ_qR",
        "colab_type": "code",
        "colab": {
          "base_uri": "https://localhost:8080/",
          "height": 297
        },
        "outputId": "034237be-274f-48be-bb55-f60e7474d7f3"
      },
      "source": [
        "fn = sns.FacetGrid(df_csv,col='Education',height=4,aspect=1)\n",
        "fn = fn.map(plt.hist,'Loan_Status')"
      ],
      "execution_count": 48,
      "outputs": [
        {
          "output_type": "display_data",
          "data": {
            "image/png": "[encoded data removed]",
            "text/plain": [
              "<Figure size 576x288 with 2 Axes>"
            ]
          },
          "metadata": {
            "tags": [],
            "needs_background": "light"
          }
        }
      ]
    },
    {
      "cell_type": "markdown",
      "metadata": {
        "id": "alAElTHudSJD",
        "colab_type": "text"
      },
      "source": [
        "**Inferences From Above Graph:-**\n",
        "- The loan status of graduated applicants is highly accepted as compare to the applicants who are not graduated"
      ]
    },
    {
      "cell_type": "code",
      "metadata": {
        "id": "YukvMe5FRjnX",
        "colab_type": "code",
        "colab": {
          "base_uri": "https://localhost:8080/",
          "height": 297
        },
        "outputId": "c0f98f5c-ca7c-4edb-c3f2-74cd001dfd23"
      },
      "source": [
        "fn = sns.FacetGrid(df_csv,col='Self_Employed',height=4,aspect=1)\n",
        "fn = fn.map(plt.hist,'Loan_Status')"
      ],
      "execution_count": 49,
      "outputs": [
        {
          "output_type": "display_data",
          "data": {
            "image/png": "[encoded data removed]",
            "text/plain": [
              "<Figure size 576x288 with 2 Axes>"
            ]
          },
          "metadata": {
            "tags": [],
            "needs_background": "light"
          }
        }
      ]
    },
    {
      "cell_type": "markdown",
      "metadata": {
        "id": "vbIf8DobdhNH",
        "colab_type": "text"
      },
      "source": [
        "**Inferences From Above Graph:-**\n",
        "- The loan status of applicants who are self-employed is less as compared to the applicants who are not self-employed"
      ]
    },
    {
      "cell_type": "code",
      "metadata": {
        "id": "zpbW-IBJSvXO",
        "colab_type": "code",
        "colab": {
          "base_uri": "https://localhost:8080/",
          "height": 296
        },
        "outputId": "cac10a3c-ecad-4371-cad2-43a9e6fd2368"
      },
      "source": [
        "df_csv.plot.scatter(x='ApplicantIncome', y='Loan_Status')"
      ],
      "execution_count": 7,
      "outputs": [
        {
          "output_type": "execute_result",
          "data": {
            "text/plain": [
              "<matplotlib.axes._subplots.AxesSubplot at 0x7f932d1af748>"
            ]
          },
          "metadata": {
            "tags": []
          },
          "execution_count": 7
        },
        {
          "output_type": "display_data",
          "data": {
            "image/png": "[encoded data removed]",
            "text/plain": [
              "<Figure size 432x288 with 1 Axes>"
            ]
          },
          "metadata": {
            "tags": [],
            "needs_background": "light"
          }
        }
      ]
    },
    {
      "cell_type": "markdown",
      "metadata": {
        "id": "ptzTSmOZd1AU",
        "colab_type": "text"
      },
      "source": [
        "**Inferences From Above Graph:-**\n",
        "- The applicants income with loan status as rejected is more as compared to the accepted ones "
      ]
    },
    {
      "cell_type": "code",
      "metadata": {
        "id": "D5cVuhkfTMgO",
        "colab_type": "code",
        "colab": {
          "base_uri": "https://localhost:8080/",
          "height": 296
        },
        "outputId": "4ce222a8-e298-43ed-8389-f4c05db9dda8"
      },
      "source": [
        "df_csv.plot.scatter(x='CoapplicantIncome', y='Loan_Status')"
      ],
      "execution_count": 8,
      "outputs": [
        {
          "output_type": "execute_result",
          "data": {
            "text/plain": [
              "<matplotlib.axes._subplots.AxesSubplot at 0x7f932d1175f8>"
            ]
          },
          "metadata": {
            "tags": []
          },
          "execution_count": 8
        },
        {
          "output_type": "display_data",
          "data": {
            "image/png": "[encoded data removed]",
            "text/plain": [
              "<Figure size 432x288 with 1 Axes>"
            ]
          },
          "metadata": {
            "tags": [],
            "needs_background": "light"
          }
        }
      ]
    },
    {
      "cell_type": "markdown",
      "metadata": {
        "id": "kTz8Oj5AeUVf",
        "colab_type": "text"
      },
      "source": [
        "**Inferences From Above Graph:-**\n",
        "- Same Observation is recorded in the coapplicants income also"
      ]
    },
    {
      "cell_type": "code",
      "metadata": {
        "id": "Ib1yF0hoX2di",
        "colab_type": "code",
        "colab": {
          "base_uri": "https://localhost:8080/",
          "height": 296
        },
        "outputId": "5ffa4c89-f44c-4d9e-b4a1-29bc30749155"
      },
      "source": [
        "df_csv.plot.scatter(x='LoanAmount', y='Loan_Status')"
      ],
      "execution_count": 9,
      "outputs": [
        {
          "output_type": "execute_result",
          "data": {
            "text/plain": [
              "<matplotlib.axes._subplots.AxesSubplot at 0x7f932d619c88>"
            ]
          },
          "metadata": {
            "tags": []
          },
          "execution_count": 9
        },
        {
          "output_type": "display_data",
          "data": {
            "image/png": "[encoded data removed]",
            "text/plain": [
              "<Figure size 432x288 with 1 Axes>"
            ]
          },
          "metadata": {
            "tags": [],
            "needs_background": "light"
          }
        }
      ]
    },
    {
      "cell_type": "markdown",
      "metadata": {
        "id": "FcImm7VkefOP",
        "colab_type": "text"
      },
      "source": [
        "**Inferences From Above Graph:-**\n",
        "- The loan amount is more for the applicants whose loan status is accepted as usual"
      ]
    },
    {
      "cell_type": "code",
      "metadata": {
        "id": "_0-Kq1h8X9Lr",
        "colab_type": "code",
        "colab": {
          "base_uri": "https://localhost:8080/",
          "height": 297
        },
        "outputId": "c748de47-3293-4ca6-d75c-312ee2c1e24f"
      },
      "source": [
        "df_csv.plot.scatter(x='Loan_Amount_Term', y='Loan_Status')"
      ],
      "execution_count": 10,
      "outputs": [
        {
          "output_type": "execute_result",
          "data": {
            "text/plain": [
              "<matplotlib.axes._subplots.AxesSubplot at 0x7f932d093160>"
            ]
          },
          "metadata": {
            "tags": []
          },
          "execution_count": 10
        },
        {
          "output_type": "display_data",
          "data": {
            "image/png": "[encoded data removed]",
            "text/plain": [
              "<Figure size 432x288 with 1 Axes>"
            ]
          },
          "metadata": {
            "tags": [],
            "needs_background": "light"
          }
        }
      ]
    },
    {
      "cell_type": "markdown",
      "metadata": {
        "id": "Efh5a3GIer1b",
        "colab_type": "text"
      },
      "source": [
        "**Inferences From Above Graph:-**\n",
        "- The loan amount term for both type of loan status applicants is almost same"
      ]
    },
    {
      "cell_type": "code",
      "metadata": {
        "id": "lK2UXbzwThMv",
        "colab_type": "code",
        "colab": {
          "base_uri": "https://localhost:8080/",
          "height": 297
        },
        "outputId": "bac34e6a-dfb8-4aff-d38c-971942dc89ed"
      },
      "source": [
        "fn = sns.FacetGrid(df_csv,col='Credit_History',height=4,aspect=1)\n",
        "fn = fn.map(plt.hist,'Loan_Status')"
      ],
      "execution_count": 6,
      "outputs": [
        {
          "output_type": "display_data",
          "data": {
            "image/png": "[encoded data removed]",
            "text/plain": [
              "<Figure size 576x288 with 2 Axes>"
            ]
          },
          "metadata": {
            "tags": [],
            "needs_background": "light"
          }
        }
      ]
    },
    {
      "cell_type": "markdown",
      "metadata": {
        "id": "amEHazbZe6lD",
        "colab_type": "text"
      },
      "source": [
        "**Inferences From Above Graph:-**\n",
        "- The applicants whose Credit history is 1 have more recorded more loan acceptance as compared to the ones which has credit history as 0"
      ]
    },
    {
      "cell_type": "code",
      "metadata": {
        "id": "FocSyawrRtc4",
        "colab_type": "code",
        "colab": {
          "base_uri": "https://localhost:8080/",
          "height": 297
        },
        "outputId": "52061df6-4859-4e00-d77b-d031a5af447d"
      },
      "source": [
        "fn = sns.FacetGrid(df_csv,col='Property_Area',height=4,aspect=1)\n",
        "fn = fn.map(plt.hist,'Loan_Status')"
      ],
      "execution_count": 51,
      "outputs": [
        {
          "output_type": "display_data",
          "data": {
            "image/png": "[encoded data removed]",
            "text/plain": [
              "<Figure size 864x288 with 3 Axes>"
            ]
          },
          "metadata": {
            "tags": [],
            "needs_background": "light"
          }
        }
      ]
    },
    {
      "cell_type": "markdown",
      "metadata": {
        "id": "dAPPj-wvfSCI",
        "colab_type": "text"
      },
      "source": [
        "**Inferences From Above Graph:-**\n",
        "1. The loan status for urban area recorded more rejectance \n",
        "2. The loan status for rural area recorded more acceptance\n",
        "3. The loan status for semi urban area recorded maximum number of loan acceptance"
      ]
    },
    {
      "cell_type": "markdown",
      "metadata": {
        "id": "bdV3b3LnYgbh",
        "colab_type": "text"
      },
      "source": [
        "**Problem 1.6 - How is the class distribution (Y/N) in Label(Target) Variable ?**"
      ]
    },
    {
      "cell_type": "code",
      "metadata": {
        "id": "HA5A_Pyiaklh",
        "colab_type": "code",
        "colab": {
          "base_uri": "https://localhost:8080/",
          "height": 68
        },
        "outputId": "b7c05e8a-2464-48ce-c4c1-535931c506d2"
      },
      "source": [
        "df_csv['Loan_Status'].value_counts()"
      ],
      "execution_count": 18,
      "outputs": [
        {
          "output_type": "execute_result",
          "data": {
            "text/plain": [
              "Y    422\n",
              "N    192\n",
              "Name: Loan_Status, dtype: int64"
            ]
          },
          "metadata": {
            "tags": []
          },
          "execution_count": 18
        }
      ]
    },
    {
      "cell_type": "code",
      "metadata": {
        "id": "NSYG90ahbXCv",
        "colab_type": "code",
        "colab": {
          "base_uri": "https://localhost:8080/",
          "height": 282
        },
        "outputId": "972961a8-474d-4913-b49d-513b9f836f5b"
      },
      "source": [
        "df_csv['Loan_Status'].hist()"
      ],
      "execution_count": 22,
      "outputs": [
        {
          "output_type": "execute_result",
          "data": {
            "text/plain": [
              "<matplotlib.axes._subplots.AxesSubplot at 0x7f932cf0f828>"
            ]
          },
          "metadata": {
            "tags": []
          },
          "execution_count": 22
        },
        {
          "output_type": "display_data",
          "data": {
            "image/png": "[encoded data removed]",
            "text/plain": [
              "<Figure size 432x288 with 1 Axes>"
            ]
          },
          "metadata": {
            "tags": [],
            "needs_background": "light"
          }
        }
      ]
    },
    {
      "cell_type": "markdown",
      "metadata": {
        "id": "dDczuoVjb-Y0",
        "colab_type": "text"
      },
      "source": [
        "**Problem 1.7 - Identify the Independent Variables that have missing values.**"
      ]
    },
    {
      "cell_type": "code",
      "metadata": {
        "id": "XVU0bcsmcC2_",
        "colab_type": "code",
        "colab": {
          "base_uri": "https://localhost:8080/",
          "height": 238
        },
        "outputId": "0dd1709b-6990-469a-a549-2845f59de503"
      },
      "source": [
        "df_csv.isnull().sum()"
      ],
      "execution_count": 86,
      "outputs": [
        {
          "output_type": "execute_result",
          "data": {
            "text/plain": [
              "Gender               13\n",
              "Married               3\n",
              "Dependents           15\n",
              "Education             0\n",
              "Self_Employed        32\n",
              "ApplicantIncome       0\n",
              "CoapplicantIncome     0\n",
              "LoanAmount           22\n",
              "Loan_Amount_Term     14\n",
              "Credit_History       50\n",
              "Property_Area         0\n",
              "Loan_Status           0\n",
              "dtype: int64"
            ]
          },
          "metadata": {
            "tags": []
          },
          "execution_count": 86
        }
      ]
    },
    {
      "cell_type": "code",
      "metadata": {
        "id": "zqsdSGF4qcGL",
        "colab_type": "code",
        "colab": {
          "base_uri": "https://localhost:8080/",
          "height": 34
        },
        "outputId": "fd19854d-fb82-4d36-a513-c44bd3a87c15"
      },
      "source": [
        "df_csv.isnull().sum().sum()"
      ],
      "execution_count": 87,
      "outputs": [
        {
          "output_type": "execute_result",
          "data": {
            "text/plain": [
              "149"
            ]
          },
          "metadata": {
            "tags": []
          },
          "execution_count": 87
        }
      ]
    },
    {
      "cell_type": "code",
      "metadata": {
        "id": "LaY5H97f0wDH",
        "colab_type": "code",
        "colab": {
          "base_uri": "https://localhost:8080/",
          "height": 221
        },
        "outputId": "50805264-a978-41af-f70c-27875d66a948"
      },
      "source": [
        "for col in df_csv.columns:\n",
        "    pct_missing = np.mean(df_csv[col].isnull())\n",
        "    print('{} - {}%'.format(col, round(pct_missing*100)))"
      ],
      "execution_count": 88,
      "outputs": [
        {
          "output_type": "stream",
          "text": [
            "Gender - 2.0%\n",
            "Married - 0.0%\n",
            "Dependents - 2.0%\n",
            "Education - 0.0%\n",
            "Self_Employed - 5.0%\n",
            "ApplicantIncome - 0.0%\n",
            "CoapplicantIncome - 0.0%\n",
            "LoanAmount - 4.0%\n",
            "Loan_Amount_Term - 2.0%\n",
            "Credit_History - 8.0%\n",
            "Property_Area - 0.0%\n",
            "Loan_Status - 0.0%\n"
          ],
          "name": "stdout"
        }
      ]
    },
    {
      "cell_type": "markdown",
      "metadata": {
        "id": "7PZplSUe2Btp",
        "colab_type": "text"
      },
      "source": [
        "**Problem 1.8 - Handle missing values appropriately , explain the technique applied for each case**"
      ]
    },
    {
      "cell_type": "markdown",
      "metadata": {
        "id": "OsJFfvzSMPR9",
        "colab_type": "text"
      },
      "source": [
        "**Handle Missing Values Using Fillna & Replace It With 0:-**"
      ]
    },
    {
      "cell_type": "code",
      "metadata": {
        "id": "YDtzLNSoK4ft",
        "colab_type": "code",
        "colab": {}
      },
      "source": [
        "df_csv['LoanAmount']=df_csv['LoanAmount'].fillna(0)\n",
        "for k in df_csv['LoanAmount']:\n",
        "    print(k)"
      ],
      "execution_count": 0,
      "outputs": []
    },
    {
      "cell_type": "markdown",
      "metadata": {
        "id": "5lj2gC9AMi4f",
        "colab_type": "text"
      },
      "source": [
        "**Handle Missing Values Using Fillna & Replace It With Median:-**"
      ]
    },
    {
      "cell_type": "code",
      "metadata": {
        "id": "QvSBvYGhMZi2",
        "colab_type": "code",
        "colab": {}
      },
      "source": [
        "df_csv['Credit_History']=df_csv['Credit_History'].fillna(df_csv['Credit_History'].median())\n",
        "for k in df_csv['Credit_History']:\n",
        "  print(k)"
      ],
      "execution_count": 0,
      "outputs": []
    },
    {
      "cell_type": "code",
      "metadata": {
        "id": "dQe7OXvzDx2C",
        "colab_type": "code",
        "colab": {}
      },
      "source": [
        "df_csv['Loan_Amount_Term']=df_csv['Loan_Amount_Term'].fillna(df_csv['Loan_Amount_Term'].median())\n",
        "for k in df_csv['Loan_Amount_Term']:\n",
        "  print(k)"
      ],
      "execution_count": 0,
      "outputs": []
    },
    {
      "cell_type": "markdown",
      "metadata": {
        "id": "3mwY_D5TUWK3",
        "colab_type": "text"
      },
      "source": [
        "**Handle Missing Values Using fillna & Replace It Using bfill(Next Occuring Value):-**"
      ]
    },
    {
      "cell_type": "code",
      "metadata": {
        "id": "JLlVjCvNFNT-",
        "colab_type": "code",
        "colab": {}
      },
      "source": [
        "df_csv['Gender']=df_csv['Gender'].fillna(method='bfill')\n",
        "for k in df_csv['Gender']:\n",
        "  print(k)"
      ],
      "execution_count": 0,
      "outputs": []
    },
    {
      "cell_type": "code",
      "metadata": {
        "id": "iEcthbV5TUcv",
        "colab_type": "code",
        "colab": {}
      },
      "source": [
        "df_csv['Married']=df_csv['Married'].fillna(method='bfill')\n",
        "for k in df_csv['Married']:\n",
        "  print(k)"
      ],
      "execution_count": 0,
      "outputs": []
    },
    {
      "cell_type": "code",
      "metadata": {
        "id": "slrsKEt7UvZm",
        "colab_type": "code",
        "colab": {}
      },
      "source": [
        "df_csv['Dependents']=df_csv['Dependents'].fillna(method='bfill')\n",
        "for k in df_csv['Dependents']:\n",
        "  print(k)"
      ],
      "execution_count": 0,
      "outputs": []
    },
    {
      "cell_type": "code",
      "metadata": {
        "id": "a4z_L0PlHVqp",
        "colab_type": "code",
        "colab": {}
      },
      "source": [
        "df_csv['Self_Employed']=df_csv['Self_Employed'].fillna(method='bfill')\n",
        "for k in df_csv['Self_Employed']:\n",
        "  print(k)"
      ],
      "execution_count": 0,
      "outputs": []
    },
    {
      "cell_type": "code",
      "metadata": {
        "id": "p84njaGBHFsr",
        "colab_type": "code",
        "colab": {
          "base_uri": "https://localhost:8080/",
          "height": 34
        },
        "outputId": "8c6d487a-16ff-4c29-bbdc-fc98e5fd70e1"
      },
      "source": [
        "df_csv.isnull().sum().sum()"
      ],
      "execution_count": 106,
      "outputs": [
        {
          "output_type": "execute_result",
          "data": {
            "text/plain": [
              "0"
            ]
          },
          "metadata": {
            "tags": []
          },
          "execution_count": 106
        }
      ]
    },
    {
      "cell_type": "markdown",
      "metadata": {
        "id": "6yBAFM5aVDV6",
        "colab_type": "text"
      },
      "source": [
        "**Problem 1.9 - Identify the Outliers in each Independent Variable.Distribute the data in each field using Quartile bins (0-25%,25%-50%,50%-75%,75%-100% iles)**"
      ]
    },
    {
      "cell_type": "code",
      "metadata": {
        "id": "D_WwNWhYVRE8",
        "colab_type": "code",
        "colab": {
          "base_uri": "https://localhost:8080/",
          "height": 282
        },
        "outputId": "d0d932a3-5c2a-4bb2-c318-52401b2dd442"
      },
      "source": [
        "df['ApplicantIncome'].hist(bins=100)"
      ],
      "execution_count": 133,
      "outputs": [
        {
          "output_type": "execute_result",
          "data": {
            "text/plain": [
              "<matplotlib.axes._subplots.AxesSubplot at 0x7f932ff7dc50>"
            ]
          },
          "metadata": {
            "tags": []
          },
          "execution_count": 133
        },
        {
          "output_type": "display_data",
          "data": {
            "image/png": "[encoded data removed]",
            "text/plain": [
              "<Figure size 432x288 with 1 Axes>"
            ]
          },
          "metadata": {
            "tags": [],
            "needs_background": "light"
          }
        }
      ]
    },
    {
      "cell_type": "markdown",
      "metadata": {
        "id": "2hTuXHZlY8zH",
        "colab_type": "text"
      },
      "source": [
        "**Here, In ApplicantIncome -> Outliers & Its Data In Each Field Is Given As:-**"
      ]
    },
    {
      "cell_type": "code",
      "metadata": {
        "id": "hFGv9B1uWnbF",
        "colab_type": "code",
        "colab": {
          "base_uri": "https://localhost:8080/",
          "height": 170
        },
        "outputId": "207b8307-2500-49aa-d4c7-ec203fe44d11"
      },
      "source": [
        "df['ApplicantIncome'].describe()"
      ],
      "execution_count": 134,
      "outputs": [
        {
          "output_type": "execute_result",
          "data": {
            "text/plain": [
              "count      614.000000\n",
              "mean      5403.459283\n",
              "std       6109.041673\n",
              "min        150.000000\n",
              "25%       2877.500000\n",
              "50%       3812.500000\n",
              "75%       5795.000000\n",
              "max      81000.000000\n",
              "Name: ApplicantIncome, dtype: float64"
            ]
          },
          "metadata": {
            "tags": []
          },
          "execution_count": 134
        }
      ]
    },
    {
      "cell_type": "markdown",
      "metadata": {
        "id": "tfLcKjLVZp_b",
        "colab_type": "text"
      },
      "source": [
        "**Here, In CoapplicantIncome -> Outliers & Its Data In Each Field Is Given As:-**"
      ]
    },
    {
      "cell_type": "code",
      "metadata": {
        "id": "3IlN5ERHX1Rr",
        "colab_type": "code",
        "colab": {
          "base_uri": "https://localhost:8080/",
          "height": 170
        },
        "outputId": "01d52076-271e-417c-b36f-20101dfbf87a"
      },
      "source": [
        "df['CoapplicantIncome'].describe()"
      ],
      "execution_count": 136,
      "outputs": [
        {
          "output_type": "execute_result",
          "data": {
            "text/plain": [
              "count      614.000000\n",
              "mean      1621.245798\n",
              "std       2926.248369\n",
              "min          0.000000\n",
              "25%          0.000000\n",
              "50%       1188.500000\n",
              "75%       2297.250000\n",
              "max      41667.000000\n",
              "Name: CoapplicantIncome, dtype: float64"
            ]
          },
          "metadata": {
            "tags": []
          },
          "execution_count": 136
        }
      ]
    },
    {
      "cell_type": "markdown",
      "metadata": {
        "id": "7_4amiezZvTk",
        "colab_type": "text"
      },
      "source": [
        "**Here, In LoanAmount -> Outliers & Its Data In Each Field Is Given As:-**"
      ]
    },
    {
      "cell_type": "code",
      "metadata": {
        "id": "Gfzp3YdSYhMJ",
        "colab_type": "code",
        "colab": {
          "base_uri": "https://localhost:8080/",
          "height": 170
        },
        "outputId": "6438cffa-f8d4-4fef-adbf-20fd7d21a475"
      },
      "source": [
        "df['LoanAmount'].describe()"
      ],
      "execution_count": 137,
      "outputs": [
        {
          "output_type": "execute_result",
          "data": {
            "text/plain": [
              "count    614.000000\n",
              "mean     141.166124\n",
              "std       88.340630\n",
              "min        0.000000\n",
              "25%       98.000000\n",
              "50%      125.000000\n",
              "75%      164.750000\n",
              "max      700.000000\n",
              "Name: LoanAmount, dtype: float64"
            ]
          },
          "metadata": {
            "tags": []
          },
          "execution_count": 137
        }
      ]
    },
    {
      "cell_type": "markdown",
      "metadata": {
        "id": "zz_1fCWzZ2A3",
        "colab_type": "text"
      },
      "source": [
        "**Here, In Loan_Amount_Term -> Outliers & Its Data In Each Field Is Given As:-**"
      ]
    },
    {
      "cell_type": "code",
      "metadata": {
        "id": "873D6iDPYma2",
        "colab_type": "code",
        "colab": {
          "base_uri": "https://localhost:8080/",
          "height": 170
        },
        "outputId": "62c37942-e428-444d-b954-35a5db0dc26a"
      },
      "source": [
        "df['Loan_Amount_Term'].describe()"
      ],
      "execution_count": 138,
      "outputs": [
        {
          "output_type": "execute_result",
          "data": {
            "text/plain": [
              "count    614.000000\n",
              "mean     334.201954\n",
              "std       82.183884\n",
              "min        0.000000\n",
              "25%      360.000000\n",
              "50%      360.000000\n",
              "75%      360.000000\n",
              "max      480.000000\n",
              "Name: Loan_Amount_Term, dtype: float64"
            ]
          },
          "metadata": {
            "tags": []
          },
          "execution_count": 138
        }
      ]
    },
    {
      "cell_type": "markdown",
      "metadata": {
        "id": "m6GusW5aZ6-S",
        "colab_type": "text"
      },
      "source": [
        "**Here, In Credit_History -> Outliers & Its Data In Each Field Is Given As:-**"
      ]
    },
    {
      "cell_type": "code",
      "metadata": {
        "id": "u0dfXGrYYrbR",
        "colab_type": "code",
        "colab": {
          "base_uri": "https://localhost:8080/",
          "height": 170
        },
        "outputId": "b00eabab-8e03-45c7-af84-b509a3b510c1"
      },
      "source": [
        "df['Credit_History'].describe()"
      ],
      "execution_count": 139,
      "outputs": [
        {
          "output_type": "execute_result",
          "data": {
            "text/plain": [
              "count    614.000000\n",
              "mean       0.773616\n",
              "std        0.418832\n",
              "min        0.000000\n",
              "25%        1.000000\n",
              "50%        1.000000\n",
              "75%        1.000000\n",
              "max        1.000000\n",
              "Name: Credit_History, dtype: float64"
            ]
          },
          "metadata": {
            "tags": []
          },
          "execution_count": 139
        }
      ]
    },
    {
      "cell_type": "markdown",
      "metadata": {
        "id": "Q8UzBBsSaKwj",
        "colab_type": "text"
      },
      "source": [
        "**Problem 1.10 - Use Box-Plot chart to represent the Outliers for each Independent Variable** *italicized text*"
      ]
    },
    {
      "cell_type": "code",
      "metadata": {
        "id": "UXYteslqag67",
        "colab_type": "code",
        "colab": {
          "base_uri": "https://localhost:8080/",
          "height": 282
        },
        "outputId": "496a01c3-70f5-44ca-b7f7-da5c4c3fece3"
      },
      "source": [
        "df.boxplot(column=['ApplicantIncome'])"
      ],
      "execution_count": 140,
      "outputs": [
        {
          "output_type": "execute_result",
          "data": {
            "text/plain": [
              "<matplotlib.axes._subplots.AxesSubplot at 0x7f932bb4b128>"
            ]
          },
          "metadata": {
            "tags": []
          },
          "execution_count": 140
        },
        {
          "output_type": "display_data",
          "data": {
            "image/png": "[encoded data removed]",
            "text/plain": [
              "<Figure size 432x288 with 1 Axes>"
            ]
          },
          "metadata": {
            "tags": [],
            "needs_background": "light"
          }
        }
      ]
    },
    {
      "cell_type": "markdown",
      "metadata": {
        "id": "ho3z-DaIb0H4",
        "colab_type": "text"
      },
      "source": [
        "**ApplicantIncome Have Slightly 5 Clearly Visible Outliers**"
      ]
    },
    {
      "cell_type": "code",
      "metadata": {
        "id": "TOgT57wtbBEF",
        "colab_type": "code",
        "colab": {
          "base_uri": "https://localhost:8080/",
          "height": 282
        },
        "outputId": "7ac36056-a281-4ab0-e24b-e85cbec5cc1d"
      },
      "source": [
        "df.boxplot(column=['CoapplicantIncome'])"
      ],
      "execution_count": 141,
      "outputs": [
        {
          "output_type": "execute_result",
          "data": {
            "text/plain": [
              "<matplotlib.axes._subplots.AxesSubplot at 0x7f932b8ba1d0>"
            ]
          },
          "metadata": {
            "tags": []
          },
          "execution_count": 141
        },
        {
          "output_type": "display_data",
          "data": {
            "image/png": "[encoded data removed]",
            "text/plain": [
              "<Figure size 432x288 with 1 Axes>"
            ]
          },
          "metadata": {
            "tags": [],
            "needs_background": "light"
          }
        }
      ]
    },
    {
      "cell_type": "markdown",
      "metadata": {
        "id": "ta7LdQPFcGIo",
        "colab_type": "text"
      },
      "source": [
        "**CoapplicantIncome Have Slightly 3 Clearly Visible Outliers**"
      ]
    },
    {
      "cell_type": "code",
      "metadata": {
        "id": "ioL3ZbaubBzH",
        "colab_type": "code",
        "colab": {
          "base_uri": "https://localhost:8080/",
          "height": 282
        },
        "outputId": "0b6c8394-0a59-4fda-bc73-9b1850fd79e5"
      },
      "source": [
        "df.boxplot(column=['LoanAmount'])"
      ],
      "execution_count": 142,
      "outputs": [
        {
          "output_type": "execute_result",
          "data": {
            "text/plain": [
              "<matplotlib.axes._subplots.AxesSubplot at 0x7f932b8995f8>"
            ]
          },
          "metadata": {
            "tags": []
          },
          "execution_count": 142
        },
        {
          "output_type": "display_data",
          "data": {
            "image/png": "[encoded data removed]",
            "text/plain": [
              "<Figure size 432x288 with 1 Axes>"
            ]
          },
          "metadata": {
            "tags": [],
            "needs_background": "light"
          }
        }
      ]
    },
    {
      "cell_type": "markdown",
      "metadata": {
        "id": "X5YxfP8rcLv6",
        "colab_type": "text"
      },
      "source": [
        "**ApplicantIncome Have Slightly 6 Clearly Visible Outliers & Also It Has Maximum Number Of Outliers As Compared To All Other Independent Variables**"
      ]
    },
    {
      "cell_type": "code",
      "metadata": {
        "id": "FTkdLFmGbCeS",
        "colab_type": "code",
        "colab": {
          "base_uri": "https://localhost:8080/",
          "height": 286
        },
        "outputId": "39081864-e1d1-4e7f-8113-7bbd7b699e76"
      },
      "source": [
        "df.boxplot(column=['Loan_Amount_Term'])"
      ],
      "execution_count": 143,
      "outputs": [
        {
          "output_type": "execute_result",
          "data": {
            "text/plain": [
              "<matplotlib.axes._subplots.AxesSubplot at 0x7f932b808780>"
            ]
          },
          "metadata": {
            "tags": []
          },
          "execution_count": 143
        },
        {
          "output_type": "display_data",
          "data": {
            "image/png": "[encoded data removed]",
            "text/plain": [
              "<Figure size 432x288 with 1 Axes>"
            ]
          },
          "metadata": {
            "tags": [],
            "needs_background": "light"
          }
        }
      ]
    },
    {
      "cell_type": "markdown",
      "metadata": {
        "id": "BQHOeLgqcfQl",
        "colab_type": "text"
      },
      "source": [
        "**Loan_Amount_Term Has Only 1 Clearly Visible Outlier**"
      ]
    },
    {
      "cell_type": "code",
      "metadata": {
        "id": "j9XzkAAwbDBT",
        "colab_type": "code",
        "colab": {
          "base_uri": "https://localhost:8080/",
          "height": 283
        },
        "outputId": "c26d26d4-c0e5-464d-abb8-ac50ddb72ba9"
      },
      "source": [
        "df.boxplot(column=['Credit_History'])"
      ],
      "execution_count": 144,
      "outputs": [
        {
          "output_type": "execute_result",
          "data": {
            "text/plain": [
              "<matplotlib.axes._subplots.AxesSubplot at 0x7f932b7ef7f0>"
            ]
          },
          "metadata": {
            "tags": []
          },
          "execution_count": 144
        },
        {
          "output_type": "display_data",
          "data": {
            "image/png": "[encoded data removed]",
            "text/plain": [
              "<Figure size 432x288 with 1 Axes>"
            ]
          },
          "metadata": {
            "tags": [],
            "needs_background": "light"
          }
        }
      ]
    },
    {
      "cell_type": "markdown",
      "metadata": {
        "id": "MHJfcW6gcpZB",
        "colab_type": "text"
      },
      "source": [
        "**Credit_History Have No Outliers i.e. 0**"
      ]
    },
    {
      "cell_type": "markdown",
      "metadata": {
        "id": "yYQE-2rCc18c",
        "colab_type": "text"
      },
      "source": [
        "**Problem 1.11 - Perform treatment of these Outliers using appropriate techniqies.Explain your approach**"
      ]
    },
    {
      "cell_type": "markdown",
      "metadata": {
        "id": "ArLEOyr7d8Yc",
        "colab_type": "text"
      },
      "source": [
        "**Outlier Treatment Using IQR(Inter-Quartile Range) Score:-**"
      ]
    },
    {
      "cell_type": "code",
      "metadata": {
        "id": "Strh0rNMeNU_",
        "colab_type": "code",
        "colab": {
          "base_uri": "https://localhost:8080/",
          "height": 238
        },
        "outputId": "678f60ab-a995-4973-f8ca-f3613adf73ed"
      },
      "source": [
        "Q1=df_csv.quantile(0.1)\n",
        "Q3=df_csv.quantile(0.9)\n",
        "IQR=Q3-Q1\n",
        "df_remove = ((df_csv < (Q1 - 1.5 * IQR)) |(df_csv > (Q3 + 1.5 * IQR))).sum()\n",
        "df_remove"
      ],
      "execution_count": 339,
      "outputs": [
        {
          "output_type": "execute_result",
          "data": {
            "text/plain": [
              "ApplicantIncome      10\n",
              "CoapplicantIncome     6\n",
              "Credit_History        0\n",
              "Dependents            0\n",
              "Education             0\n",
              "Gender                0\n",
              "LoanAmount           11\n",
              "Loan_Amount_Term     70\n",
              "Loan_Status           0\n",
              "Married               0\n",
              "Property_Area         0\n",
              "Self_Employed         0\n",
              "dtype: int64"
            ]
          },
          "metadata": {
            "tags": []
          },
          "execution_count": 339
        }
      ]
    },
    {
      "cell_type": "code",
      "metadata": {
        "id": "uYFLpsIGTH0f",
        "colab_type": "code",
        "colab": {
          "base_uri": "https://localhost:8080/",
          "height": 51
        },
        "outputId": "f53b38c7-4fe5-424e-c7b0-9d2985c6577f"
      },
      "source": [
        "df_qua=df_csv[~((df_csv < (Q1 - 1.5 * IQR)) |(df_csv > (Q3 + 1.5 * IQR))).any(axis=1)]\n",
        "print(df_csv.shape)\n",
        "print(df_qua.shape)"
      ],
      "execution_count": 342,
      "outputs": [
        {
          "output_type": "stream",
          "text": [
            "(612, 12)\n",
            "(524, 12)\n"
          ],
          "name": "stdout"
        }
      ]
    },
    {
      "cell_type": "markdown",
      "metadata": {
        "id": "VDopnfhlgdUJ",
        "colab_type": "text"
      },
      "source": [
        "**Problem 2 - Perform Label Encoding on Target Variable (Loan_Status).**"
      ]
    },
    {
      "cell_type": "code",
      "metadata": {
        "id": "m2uJ74a03vGa",
        "colab_type": "code",
        "colab": {}
      },
      "source": [
        "df_enc = df_csv.copy()"
      ],
      "execution_count": 0,
      "outputs": []
    },
    {
      "cell_type": "code",
      "metadata": {
        "id": "Hn4M7R324gZf",
        "colab_type": "code",
        "colab": {
          "base_uri": "https://localhost:8080/",
          "height": 241
        },
        "outputId": "f7c1fd89-1da3-4bf5-9b4a-e6d3e890b77f"
      },
      "source": [
        "le = LabelEncoder()\n",
        "df_enc['enc_Loan_Status'] = le.fit_transform(df_enc['Loan_Status'])\n",
        "df_enc.head()"
      ],
      "execution_count": 16,
      "outputs": [
        {
          "output_type": "execute_result",
          "data": {
            "text/html": [
              "<div>\n",
              "<style scoped>\n",
              "    .dataframe tbody tr th:only-of-type {\n",
              "        vertical-align: middle;\n",
              "    }\n",
              "\n",
              "    .dataframe tbody tr th {\n",
              "        vertical-align: top;\n",
              "    }\n",
              "\n",
              "    .dataframe thead th {\n",
              "        text-align: right;\n",
              "    }\n",
              "</style>\n",
              "<table border=\"1\" class=\"dataframe\">\n",
              "  <thead>\n",
              "    <tr style=\"text-align: right;\">\n",
              "      <th></th>\n",
              "      <th>Gender</th>\n",
              "      <th>Married</th>\n",
              "      <th>Dependents</th>\n",
              "      <th>Education</th>\n",
              "      <th>Self_Employed</th>\n",
              "      <th>ApplicantIncome</th>\n",
              "      <th>CoapplicantIncome</th>\n",
              "      <th>LoanAmount</th>\n",
              "      <th>Loan_Amount_Term</th>\n",
              "      <th>Credit_History</th>\n",
              "      <th>Property_Area</th>\n",
              "      <th>Loan_Status</th>\n",
              "      <th>enc_Loan_Status</th>\n",
              "    </tr>\n",
              "  </thead>\n",
              "  <tbody>\n",
              "    <tr>\n",
              "      <th>0</th>\n",
              "      <td>Male</td>\n",
              "      <td>No</td>\n",
              "      <td>0</td>\n",
              "      <td>Graduate</td>\n",
              "      <td>No</td>\n",
              "      <td>5849</td>\n",
              "      <td>0.0</td>\n",
              "      <td>NaN</td>\n",
              "      <td>360.0</td>\n",
              "      <td>1.0</td>\n",
              "      <td>Urban</td>\n",
              "      <td>Y</td>\n",
              "      <td>1</td>\n",
              "    </tr>\n",
              "    <tr>\n",
              "      <th>1</th>\n",
              "      <td>Male</td>\n",
              "      <td>Yes</td>\n",
              "      <td>1</td>\n",
              "      <td>Graduate</td>\n",
              "      <td>No</td>\n",
              "      <td>4583</td>\n",
              "      <td>1508.0</td>\n",
              "      <td>128.0</td>\n",
              "      <td>360.0</td>\n",
              "      <td>1.0</td>\n",
              "      <td>Rural</td>\n",
              "      <td>N</td>\n",
              "      <td>0</td>\n",
              "    </tr>\n",
              "    <tr>\n",
              "      <th>2</th>\n",
              "      <td>Male</td>\n",
              "      <td>Yes</td>\n",
              "      <td>0</td>\n",
              "      <td>Graduate</td>\n",
              "      <td>Yes</td>\n",
              "      <td>3000</td>\n",
              "      <td>0.0</td>\n",
              "      <td>66.0</td>\n",
              "      <td>360.0</td>\n",
              "      <td>1.0</td>\n",
              "      <td>Urban</td>\n",
              "      <td>Y</td>\n",
              "      <td>1</td>\n",
              "    </tr>\n",
              "    <tr>\n",
              "      <th>3</th>\n",
              "      <td>Male</td>\n",
              "      <td>Yes</td>\n",
              "      <td>0</td>\n",
              "      <td>Not Graduate</td>\n",
              "      <td>No</td>\n",
              "      <td>2583</td>\n",
              "      <td>2358.0</td>\n",
              "      <td>120.0</td>\n",
              "      <td>360.0</td>\n",
              "      <td>1.0</td>\n",
              "      <td>Urban</td>\n",
              "      <td>Y</td>\n",
              "      <td>1</td>\n",
              "    </tr>\n",
              "    <tr>\n",
              "      <th>4</th>\n",
              "      <td>Male</td>\n",
              "      <td>No</td>\n",
              "      <td>0</td>\n",
              "      <td>Graduate</td>\n",
              "      <td>No</td>\n",
              "      <td>6000</td>\n",
              "      <td>0.0</td>\n",
              "      <td>141.0</td>\n",
              "      <td>360.0</td>\n",
              "      <td>1.0</td>\n",
              "      <td>Urban</td>\n",
              "      <td>Y</td>\n",
              "      <td>1</td>\n",
              "    </tr>\n",
              "  </tbody>\n",
              "</table>\n",
              "</div>"
            ],
            "text/plain": [
              "  Gender Married Dependents  ... Property_Area Loan_Status  enc_Loan_Status\n",
              "0   Male      No          0  ...         Urban           Y                1\n",
              "1   Male     Yes          1  ...         Rural           N                0\n",
              "2   Male     Yes          0  ...         Urban           Y                1\n",
              "3   Male     Yes          0  ...         Urban           Y                1\n",
              "4   Male      No          0  ...         Urban           Y                1\n",
              "\n",
              "[5 rows x 13 columns]"
            ]
          },
          "metadata": {
            "tags": []
          },
          "execution_count": 16
        }
      ]
    },
    {
      "cell_type": "markdown",
      "metadata": {
        "id": "mYVWB_G_iStx",
        "colab_type": "text"
      },
      "source": [
        "**Problem 3.1 - Perform Label Encoding on Categorical Independent Variables.**"
      ]
    },
    {
      "cell_type": "code",
      "metadata": {
        "id": "uaMXYPBXmYJ1",
        "colab_type": "code",
        "colab": {}
      },
      "source": [
        "df_enc=df_csv.copy()\n",
        "for j in cat_var1:\n",
        "  df_enc['enc_'+str(j)] = le.fit_transform(df_enc[j])"
      ],
      "execution_count": 0,
      "outputs": []
    },
    {
      "cell_type": "markdown",
      "metadata": {
        "id": "EYCCFraS8gj-",
        "colab_type": "text"
      },
      "source": [
        "**Problem 3.2 - What is the shape of dataframe post Categorical Encoding ?**"
      ]
    },
    {
      "cell_type": "code",
      "metadata": {
        "id": "RPLMJqkO8tIO",
        "colab_type": "code",
        "colab": {
          "base_uri": "https://localhost:8080/",
          "height": 34
        },
        "outputId": "e37478bb-1150-45bb-ef5e-08bb9ecb66f6"
      },
      "source": [
        "df_enc.shape"
      ],
      "execution_count": 37,
      "outputs": [
        {
          "output_type": "execute_result",
          "data": {
            "text/plain": [
              "(614, 19)"
            ]
          },
          "metadata": {
            "tags": []
          },
          "execution_count": 37
        }
      ]
    },
    {
      "cell_type": "code",
      "metadata": {
        "id": "hdf9O68Oq-mw",
        "colab_type": "code",
        "colab": {
          "base_uri": "https://localhost:8080/",
          "height": 34
        },
        "outputId": "3e6e2385-df0c-4a0a-bd7d-9eae498ff174"
      },
      "source": [
        "print(cat_var1)"
      ],
      "execution_count": 38,
      "outputs": [
        {
          "output_type": "stream",
          "text": [
            "['Loan_Status', 'Married', 'Gender', 'Self_Employed', 'Education', 'Property_Area', 'Dependents']\n"
          ],
          "name": "stdout"
        }
      ]
    },
    {
      "cell_type": "code",
      "metadata": {
        "id": "-PVBawBhmx1O",
        "colab_type": "code",
        "colab": {
          "base_uri": "https://localhost:8080/",
          "height": 241
        },
        "outputId": "d0895352-1b2c-4235-b222-927050e649d7"
      },
      "source": [
        "df_enc.head()"
      ],
      "execution_count": 39,
      "outputs": [
        {
          "output_type": "execute_result",
          "data": {
            "text/html": [
              "<div>\n",
              "<style scoped>\n",
              "    .dataframe tbody tr th:only-of-type {\n",
              "        vertical-align: middle;\n",
              "    }\n",
              "\n",
              "    .dataframe tbody tr th {\n",
              "        vertical-align: top;\n",
              "    }\n",
              "\n",
              "    .dataframe thead th {\n",
              "        text-align: right;\n",
              "    }\n",
              "</style>\n",
              "<table border=\"1\" class=\"dataframe\">\n",
              "  <thead>\n",
              "    <tr style=\"text-align: right;\">\n",
              "      <th></th>\n",
              "      <th>Gender</th>\n",
              "      <th>Married</th>\n",
              "      <th>Dependents</th>\n",
              "      <th>Education</th>\n",
              "      <th>Self_Employed</th>\n",
              "      <th>ApplicantIncome</th>\n",
              "      <th>CoapplicantIncome</th>\n",
              "      <th>LoanAmount</th>\n",
              "      <th>Loan_Amount_Term</th>\n",
              "      <th>Credit_History</th>\n",
              "      <th>Property_Area</th>\n",
              "      <th>Loan_Status</th>\n",
              "      <th>enc_Loan_Status</th>\n",
              "      <th>enc_Married</th>\n",
              "      <th>enc_Gender</th>\n",
              "      <th>enc_Self_Employed</th>\n",
              "      <th>enc_Education</th>\n",
              "      <th>enc_Property_Area</th>\n",
              "      <th>enc_Dependents</th>\n",
              "    </tr>\n",
              "  </thead>\n",
              "  <tbody>\n",
              "    <tr>\n",
              "      <th>0</th>\n",
              "      <td>Male</td>\n",
              "      <td>No</td>\n",
              "      <td>0</td>\n",
              "      <td>Graduate</td>\n",
              "      <td>No</td>\n",
              "      <td>5849</td>\n",
              "      <td>0.0</td>\n",
              "      <td>128.0</td>\n",
              "      <td>360.0</td>\n",
              "      <td>1.0</td>\n",
              "      <td>Urban</td>\n",
              "      <td>Y</td>\n",
              "      <td>1</td>\n",
              "      <td>0</td>\n",
              "      <td>1</td>\n",
              "      <td>0</td>\n",
              "      <td>0</td>\n",
              "      <td>2</td>\n",
              "      <td>0</td>\n",
              "    </tr>\n",
              "    <tr>\n",
              "      <th>1</th>\n",
              "      <td>Male</td>\n",
              "      <td>Yes</td>\n",
              "      <td>1</td>\n",
              "      <td>Graduate</td>\n",
              "      <td>No</td>\n",
              "      <td>4583</td>\n",
              "      <td>1508.0</td>\n",
              "      <td>128.0</td>\n",
              "      <td>360.0</td>\n",
              "      <td>1.0</td>\n",
              "      <td>Rural</td>\n",
              "      <td>N</td>\n",
              "      <td>0</td>\n",
              "      <td>1</td>\n",
              "      <td>1</td>\n",
              "      <td>0</td>\n",
              "      <td>0</td>\n",
              "      <td>0</td>\n",
              "      <td>1</td>\n",
              "    </tr>\n",
              "    <tr>\n",
              "      <th>2</th>\n",
              "      <td>Male</td>\n",
              "      <td>Yes</td>\n",
              "      <td>0</td>\n",
              "      <td>Graduate</td>\n",
              "      <td>Yes</td>\n",
              "      <td>3000</td>\n",
              "      <td>0.0</td>\n",
              "      <td>66.0</td>\n",
              "      <td>360.0</td>\n",
              "      <td>1.0</td>\n",
              "      <td>Urban</td>\n",
              "      <td>Y</td>\n",
              "      <td>1</td>\n",
              "      <td>1</td>\n",
              "      <td>1</td>\n",
              "      <td>1</td>\n",
              "      <td>0</td>\n",
              "      <td>2</td>\n",
              "      <td>0</td>\n",
              "    </tr>\n",
              "    <tr>\n",
              "      <th>3</th>\n",
              "      <td>Male</td>\n",
              "      <td>Yes</td>\n",
              "      <td>0</td>\n",
              "      <td>Not Graduate</td>\n",
              "      <td>No</td>\n",
              "      <td>2583</td>\n",
              "      <td>2358.0</td>\n",
              "      <td>120.0</td>\n",
              "      <td>360.0</td>\n",
              "      <td>1.0</td>\n",
              "      <td>Urban</td>\n",
              "      <td>Y</td>\n",
              "      <td>1</td>\n",
              "      <td>1</td>\n",
              "      <td>1</td>\n",
              "      <td>0</td>\n",
              "      <td>1</td>\n",
              "      <td>2</td>\n",
              "      <td>0</td>\n",
              "    </tr>\n",
              "    <tr>\n",
              "      <th>4</th>\n",
              "      <td>Male</td>\n",
              "      <td>No</td>\n",
              "      <td>0</td>\n",
              "      <td>Graduate</td>\n",
              "      <td>No</td>\n",
              "      <td>6000</td>\n",
              "      <td>0.0</td>\n",
              "      <td>141.0</td>\n",
              "      <td>360.0</td>\n",
              "      <td>1.0</td>\n",
              "      <td>Urban</td>\n",
              "      <td>Y</td>\n",
              "      <td>1</td>\n",
              "      <td>0</td>\n",
              "      <td>1</td>\n",
              "      <td>0</td>\n",
              "      <td>0</td>\n",
              "      <td>2</td>\n",
              "      <td>0</td>\n",
              "    </tr>\n",
              "  </tbody>\n",
              "</table>\n",
              "</div>"
            ],
            "text/plain": [
              "  Gender Married Dependents  ... enc_Education enc_Property_Area  enc_Dependents\n",
              "0   Male      No          0  ...             0                 2               0\n",
              "1   Male     Yes          1  ...             0                 0               1\n",
              "2   Male     Yes          0  ...             0                 2               0\n",
              "3   Male     Yes          0  ...             1                 2               0\n",
              "4   Male      No          0  ...             0                 2               0\n",
              "\n",
              "[5 rows x 19 columns]"
            ]
          },
          "metadata": {
            "tags": []
          },
          "execution_count": 39
        }
      ]
    },
    {
      "cell_type": "markdown",
      "metadata": {
        "id": "OfQ0yc_y86dM",
        "colab_type": "text"
      },
      "source": [
        "**Problem 3.3 - Carry out Correlation analysis on this dataframe. Plot using HeatMap**"
      ]
    },
    {
      "cell_type": "code",
      "metadata": {
        "id": "cmIvfbk_9AUY",
        "colab_type": "code",
        "colab": {
          "base_uri": "https://localhost:8080/",
          "height": 379
        },
        "outputId": "73be23a2-3279-4466-9ac2-bd7d88315832"
      },
      "source": [
        "corr = df_enc.corr()\n",
        "corr.head(10)"
      ],
      "execution_count": 40,
      "outputs": [
        {
          "output_type": "execute_result",
          "data": {
            "text/html": [
              "<div>\n",
              "<style scoped>\n",
              "    .dataframe tbody tr th:only-of-type {\n",
              "        vertical-align: middle;\n",
              "    }\n",
              "\n",
              "    .dataframe tbody tr th {\n",
              "        vertical-align: top;\n",
              "    }\n",
              "\n",
              "    .dataframe thead th {\n",
              "        text-align: right;\n",
              "    }\n",
              "</style>\n",
              "<table border=\"1\" class=\"dataframe\">\n",
              "  <thead>\n",
              "    <tr style=\"text-align: right;\">\n",
              "      <th></th>\n",
              "      <th>ApplicantIncome</th>\n",
              "      <th>CoapplicantIncome</th>\n",
              "      <th>LoanAmount</th>\n",
              "      <th>Loan_Amount_Term</th>\n",
              "      <th>Credit_History</th>\n",
              "      <th>enc_Loan_Status</th>\n",
              "      <th>enc_Married</th>\n",
              "      <th>enc_Gender</th>\n",
              "      <th>enc_Self_Employed</th>\n",
              "      <th>enc_Education</th>\n",
              "      <th>enc_Property_Area</th>\n",
              "      <th>enc_Dependents</th>\n",
              "    </tr>\n",
              "  </thead>\n",
              "  <tbody>\n",
              "    <tr>\n",
              "      <th>ApplicantIncome</th>\n",
              "      <td>1.000000</td>\n",
              "      <td>-0.116605</td>\n",
              "      <td>0.565181</td>\n",
              "      <td>-0.046531</td>\n",
              "      <td>-0.018615</td>\n",
              "      <td>-0.004710</td>\n",
              "      <td>0.049052</td>\n",
              "      <td>0.046230</td>\n",
              "      <td>0.122728</td>\n",
              "      <td>-0.140760</td>\n",
              "      <td>-0.009500</td>\n",
              "      <td>0.115036</td>\n",
              "    </tr>\n",
              "    <tr>\n",
              "      <th>CoapplicantIncome</th>\n",
              "      <td>-0.116605</td>\n",
              "      <td>1.000000</td>\n",
              "      <td>0.189218</td>\n",
              "      <td>-0.059383</td>\n",
              "      <td>0.011134</td>\n",
              "      <td>-0.059187</td>\n",
              "      <td>0.077760</td>\n",
              "      <td>0.086991</td>\n",
              "      <td>-0.021807</td>\n",
              "      <td>-0.062290</td>\n",
              "      <td>0.010522</td>\n",
              "      <td>0.026683</td>\n",
              "    </tr>\n",
              "    <tr>\n",
              "      <th>LoanAmount</th>\n",
              "      <td>0.565181</td>\n",
              "      <td>0.189218</td>\n",
              "      <td>1.000000</td>\n",
              "      <td>0.036960</td>\n",
              "      <td>-0.000607</td>\n",
              "      <td>-0.033214</td>\n",
              "      <td>0.147108</td>\n",
              "      <td>0.097577</td>\n",
              "      <td>0.111754</td>\n",
              "      <td>-0.168759</td>\n",
              "      <td>-0.046632</td>\n",
              "      <td>0.158914</td>\n",
              "    </tr>\n",
              "    <tr>\n",
              "      <th>Loan_Amount_Term</th>\n",
              "      <td>-0.046531</td>\n",
              "      <td>-0.059383</td>\n",
              "      <td>0.036960</td>\n",
              "      <td>1.000000</td>\n",
              "      <td>-0.004705</td>\n",
              "      <td>-0.022549</td>\n",
              "      <td>-0.095364</td>\n",
              "      <td>-0.075813</td>\n",
              "      <td>-0.027941</td>\n",
              "      <td>-0.073928</td>\n",
              "      <td>-0.076120</td>\n",
              "      <td>-0.087210</td>\n",
              "    </tr>\n",
              "    <tr>\n",
              "      <th>Credit_History</th>\n",
              "      <td>-0.018615</td>\n",
              "      <td>0.011134</td>\n",
              "      <td>-0.000607</td>\n",
              "      <td>-0.004705</td>\n",
              "      <td>1.000000</td>\n",
              "      <td>0.540556</td>\n",
              "      <td>0.009519</td>\n",
              "      <td>0.005658</td>\n",
              "      <td>0.006209</td>\n",
              "      <td>-0.073658</td>\n",
              "      <td>0.001963</td>\n",
              "      <td>-0.065459</td>\n",
              "    </tr>\n",
              "    <tr>\n",
              "      <th>enc_Loan_Status</th>\n",
              "      <td>-0.004710</td>\n",
              "      <td>-0.059187</td>\n",
              "      <td>-0.033214</td>\n",
              "      <td>-0.022549</td>\n",
              "      <td>0.540556</td>\n",
              "      <td>1.000000</td>\n",
              "      <td>0.089072</td>\n",
              "      <td>0.012213</td>\n",
              "      <td>0.009035</td>\n",
              "      <td>-0.085884</td>\n",
              "      <td>0.032112</td>\n",
              "      <td>-0.003361</td>\n",
              "    </tr>\n",
              "    <tr>\n",
              "      <th>enc_Married</th>\n",
              "      <td>0.049052</td>\n",
              "      <td>0.077760</td>\n",
              "      <td>0.147108</td>\n",
              "      <td>-0.095364</td>\n",
              "      <td>0.009519</td>\n",
              "      <td>0.089072</td>\n",
              "      <td>1.000000</td>\n",
              "      <td>0.371532</td>\n",
              "      <td>-0.000257</td>\n",
              "      <td>0.014097</td>\n",
              "      <td>0.004415</td>\n",
              "      <td>0.333841</td>\n",
              "    </tr>\n",
              "    <tr>\n",
              "      <th>enc_Gender</th>\n",
              "      <td>0.046230</td>\n",
              "      <td>0.086991</td>\n",
              "      <td>0.097577</td>\n",
              "      <td>-0.075813</td>\n",
              "      <td>0.005658</td>\n",
              "      <td>0.012213</td>\n",
              "      <td>0.371532</td>\n",
              "      <td>1.000000</td>\n",
              "      <td>0.011676</td>\n",
              "      <td>0.049480</td>\n",
              "      <td>-0.019854</td>\n",
              "      <td>0.164475</td>\n",
              "    </tr>\n",
              "    <tr>\n",
              "      <th>enc_Self_Employed</th>\n",
              "      <td>0.122728</td>\n",
              "      <td>-0.021807</td>\n",
              "      <td>0.111754</td>\n",
              "      <td>-0.027941</td>\n",
              "      <td>0.006209</td>\n",
              "      <td>0.009035</td>\n",
              "      <td>-0.000257</td>\n",
              "      <td>0.011676</td>\n",
              "      <td>1.000000</td>\n",
              "      <td>-0.008734</td>\n",
              "      <td>-0.037106</td>\n",
              "      <td>0.044505</td>\n",
              "    </tr>\n",
              "    <tr>\n",
              "      <th>enc_Education</th>\n",
              "      <td>-0.140760</td>\n",
              "      <td>-0.062290</td>\n",
              "      <td>-0.168759</td>\n",
              "      <td>-0.073928</td>\n",
              "      <td>-0.073658</td>\n",
              "      <td>-0.085884</td>\n",
              "      <td>0.014097</td>\n",
              "      <td>0.049480</td>\n",
              "      <td>-0.008734</td>\n",
              "      <td>1.000000</td>\n",
              "      <td>-0.065243</td>\n",
              "      <td>0.054909</td>\n",
              "    </tr>\n",
              "  </tbody>\n",
              "</table>\n",
              "</div>"
            ],
            "text/plain": [
              "                   ApplicantIncome  ...  enc_Dependents\n",
              "ApplicantIncome           1.000000  ...        0.115036\n",
              "CoapplicantIncome        -0.116605  ...        0.026683\n",
              "LoanAmount                0.565181  ...        0.158914\n",
              "Loan_Amount_Term         -0.046531  ...       -0.087210\n",
              "Credit_History           -0.018615  ...       -0.065459\n",
              "enc_Loan_Status          -0.004710  ...       -0.003361\n",
              "enc_Married               0.049052  ...        0.333841\n",
              "enc_Gender                0.046230  ...        0.164475\n",
              "enc_Self_Employed         0.122728  ...        0.044505\n",
              "enc_Education            -0.140760  ...        0.054909\n",
              "\n",
              "[10 rows x 12 columns]"
            ]
          },
          "metadata": {
            "tags": []
          },
          "execution_count": 40
        }
      ]
    },
    {
      "cell_type": "code",
      "metadata": {
        "id": "uPzJT5vwvQl9",
        "colab_type": "code",
        "colab": {
          "base_uri": "https://localhost:8080/",
          "height": 624
        },
        "outputId": "cfde7147-f639-4689-ff9c-57badb3df44d"
      },
      "source": [
        "mask = np.zeros_like(corr, dtype=np.bool)\n",
        "mask[np.triu_indices_from(mask)] = True\n",
        "f, ax = plt.subplots(figsize=(11, 9))\n",
        "cmap = sns.diverging_palette(220, 10, as_cmap=True)\n",
        "svm = sns.heatmap(corr, mask=mask, cmap=cmap, center=0,\n",
        "            square=True, linewidths=.5, cbar_kws={\"shrink\": .5})\n",
        "figure = svm.get_figure()"
      ],
      "execution_count": 41,
      "outputs": [
        {
          "output_type": "display_data",
          "data": {
            "image/png": "[encoded data removed]",
            "text/plain": [
              "<Figure size 792x648 with 2 Axes>"
            ]
          },
          "metadata": {
            "tags": [],
            "needs_background": "light"
          }
        }
      ]
    },
    {
      "cell_type": "markdown",
      "metadata": {
        "id": "tGFdLObZwQlM",
        "colab_type": "text"
      },
      "source": [
        "**Problem 3.4 - Identify the variables that have strong correlation using Label Encoding( Correlation Coefficient > 0.5 or <0.5)**"
      ]
    },
    {
      "cell_type": "markdown",
      "metadata": {
        "id": "yc2rrN_jwmcC",
        "colab_type": "text"
      },
      "source": [
        "**Variables That Have Strong Correlations Are:-**\n",
        "- (LoanAmount , ApplicationIncome)\n",
        "- (Credit_History , Loan_Status)\n",
        "- (Gender , Married)"
      ]
    },
    {
      "cell_type": "markdown",
      "metadata": {
        "id": "gVLQV10SJu40",
        "colab_type": "text"
      },
      "source": [
        "**Problem 4.1 - Perform One Hot Encoding on Categorical Independent Variables.**"
      ]
    },
    {
      "cell_type": "code",
      "metadata": {
        "id": "i_YzJLbKMtHa",
        "colab_type": "code",
        "colab": {
          "base_uri": "https://localhost:8080/",
          "height": 241
        },
        "outputId": "61ad28fe-31b7-4179-c410-3f49a5f527a1"
      },
      "source": [
        "ohe = OneHotEncoder(handle_unknown='ignore')\n",
        "df_ohe=df_csv.copy()\n",
        "df_ohe.head()"
      ],
      "execution_count": 42,
      "outputs": [
        {
          "output_type": "execute_result",
          "data": {
            "text/html": [
              "<div>\n",
              "<style scoped>\n",
              "    .dataframe tbody tr th:only-of-type {\n",
              "        vertical-align: middle;\n",
              "    }\n",
              "\n",
              "    .dataframe tbody tr th {\n",
              "        vertical-align: top;\n",
              "    }\n",
              "\n",
              "    .dataframe thead th {\n",
              "        text-align: right;\n",
              "    }\n",
              "</style>\n",
              "<table border=\"1\" class=\"dataframe\">\n",
              "  <thead>\n",
              "    <tr style=\"text-align: right;\">\n",
              "      <th></th>\n",
              "      <th>Gender</th>\n",
              "      <th>Married</th>\n",
              "      <th>Dependents</th>\n",
              "      <th>Education</th>\n",
              "      <th>Self_Employed</th>\n",
              "      <th>ApplicantIncome</th>\n",
              "      <th>CoapplicantIncome</th>\n",
              "      <th>LoanAmount</th>\n",
              "      <th>Loan_Amount_Term</th>\n",
              "      <th>Credit_History</th>\n",
              "      <th>Property_Area</th>\n",
              "      <th>Loan_Status</th>\n",
              "    </tr>\n",
              "  </thead>\n",
              "  <tbody>\n",
              "    <tr>\n",
              "      <th>0</th>\n",
              "      <td>Male</td>\n",
              "      <td>No</td>\n",
              "      <td>0</td>\n",
              "      <td>Graduate</td>\n",
              "      <td>No</td>\n",
              "      <td>5849</td>\n",
              "      <td>0.0</td>\n",
              "      <td>128.0</td>\n",
              "      <td>360.0</td>\n",
              "      <td>1.0</td>\n",
              "      <td>Urban</td>\n",
              "      <td>Y</td>\n",
              "    </tr>\n",
              "    <tr>\n",
              "      <th>1</th>\n",
              "      <td>Male</td>\n",
              "      <td>Yes</td>\n",
              "      <td>1</td>\n",
              "      <td>Graduate</td>\n",
              "      <td>No</td>\n",
              "      <td>4583</td>\n",
              "      <td>1508.0</td>\n",
              "      <td>128.0</td>\n",
              "      <td>360.0</td>\n",
              "      <td>1.0</td>\n",
              "      <td>Rural</td>\n",
              "      <td>N</td>\n",
              "    </tr>\n",
              "    <tr>\n",
              "      <th>2</th>\n",
              "      <td>Male</td>\n",
              "      <td>Yes</td>\n",
              "      <td>0</td>\n",
              "      <td>Graduate</td>\n",
              "      <td>Yes</td>\n",
              "      <td>3000</td>\n",
              "      <td>0.0</td>\n",
              "      <td>66.0</td>\n",
              "      <td>360.0</td>\n",
              "      <td>1.0</td>\n",
              "      <td>Urban</td>\n",
              "      <td>Y</td>\n",
              "    </tr>\n",
              "    <tr>\n",
              "      <th>3</th>\n",
              "      <td>Male</td>\n",
              "      <td>Yes</td>\n",
              "      <td>0</td>\n",
              "      <td>Not Graduate</td>\n",
              "      <td>No</td>\n",
              "      <td>2583</td>\n",
              "      <td>2358.0</td>\n",
              "      <td>120.0</td>\n",
              "      <td>360.0</td>\n",
              "      <td>1.0</td>\n",
              "      <td>Urban</td>\n",
              "      <td>Y</td>\n",
              "    </tr>\n",
              "    <tr>\n",
              "      <th>4</th>\n",
              "      <td>Male</td>\n",
              "      <td>No</td>\n",
              "      <td>0</td>\n",
              "      <td>Graduate</td>\n",
              "      <td>No</td>\n",
              "      <td>6000</td>\n",
              "      <td>0.0</td>\n",
              "      <td>141.0</td>\n",
              "      <td>360.0</td>\n",
              "      <td>1.0</td>\n",
              "      <td>Urban</td>\n",
              "      <td>Y</td>\n",
              "    </tr>\n",
              "  </tbody>\n",
              "</table>\n",
              "</div>"
            ],
            "text/plain": [
              "  Gender Married Dependents  ... Credit_History Property_Area  Loan_Status\n",
              "0   Male      No          0  ...            1.0         Urban            Y\n",
              "1   Male     Yes          1  ...            1.0         Rural            N\n",
              "2   Male     Yes          0  ...            1.0         Urban            Y\n",
              "3   Male     Yes          0  ...            1.0         Urban            Y\n",
              "4   Male      No          0  ...            1.0         Urban            Y\n",
              "\n",
              "[5 rows x 12 columns]"
            ]
          },
          "metadata": {
            "tags": []
          },
          "execution_count": 42
        }
      ]
    },
    {
      "cell_type": "code",
      "metadata": {
        "id": "OTCaTAcJNGOj",
        "colab_type": "code",
        "colab": {
          "base_uri": "https://localhost:8080/",
          "height": 34
        },
        "outputId": "c7e2d3c4-737a-46d4-e329-8ba53fdaf16d"
      },
      "source": [
        "df_ohe.shape"
      ],
      "execution_count": 43,
      "outputs": [
        {
          "output_type": "execute_result",
          "data": {
            "text/plain": [
              "(614, 12)"
            ]
          },
          "metadata": {
            "tags": []
          },
          "execution_count": 43
        }
      ]
    },
    {
      "cell_type": "code",
      "metadata": {
        "id": "LPdcU__jNnMG",
        "colab_type": "code",
        "colab": {}
      },
      "source": [
        "for i in cat_var1:\n",
        "  enc_rel = pd.DataFrame(ohe.fit_transform(df_ohe[[i]]).toarray())\n",
        "  enc_rel = enc_rel.add_prefix(i+'_')\n",
        "  df_ohe = df_ohe.join(enc_rel)\n",
        "  df_ohe = df_ohe.drop(i,axis=1)"
      ],
      "execution_count": 0,
      "outputs": []
    },
    {
      "cell_type": "code",
      "metadata": {
        "id": "PpAzA3DK11U4",
        "colab_type": "code",
        "colab": {
          "base_uri": "https://localhost:8080/",
          "height": 224
        },
        "outputId": "15974a37-3d22-4312-db9d-52ec397f2a51"
      },
      "source": [
        "df_ohe.head()"
      ],
      "execution_count": 45,
      "outputs": [
        {
          "output_type": "execute_result",
          "data": {
            "text/html": [
              "<div>\n",
              "<style scoped>\n",
              "    .dataframe tbody tr th:only-of-type {\n",
              "        vertical-align: middle;\n",
              "    }\n",
              "\n",
              "    .dataframe tbody tr th {\n",
              "        vertical-align: top;\n",
              "    }\n",
              "\n",
              "    .dataframe thead th {\n",
              "        text-align: right;\n",
              "    }\n",
              "</style>\n",
              "<table border=\"1\" class=\"dataframe\">\n",
              "  <thead>\n",
              "    <tr style=\"text-align: right;\">\n",
              "      <th></th>\n",
              "      <th>ApplicantIncome</th>\n",
              "      <th>CoapplicantIncome</th>\n",
              "      <th>LoanAmount</th>\n",
              "      <th>Loan_Amount_Term</th>\n",
              "      <th>Credit_History</th>\n",
              "      <th>Loan_Status_0</th>\n",
              "      <th>Loan_Status_1</th>\n",
              "      <th>Married_0</th>\n",
              "      <th>Married_1</th>\n",
              "      <th>Gender_0</th>\n",
              "      <th>Gender_1</th>\n",
              "      <th>Self_Employed_0</th>\n",
              "      <th>Self_Employed_1</th>\n",
              "      <th>Education_0</th>\n",
              "      <th>Education_1</th>\n",
              "      <th>Property_Area_0</th>\n",
              "      <th>Property_Area_1</th>\n",
              "      <th>Property_Area_2</th>\n",
              "      <th>Dependents_0</th>\n",
              "      <th>Dependents_1</th>\n",
              "      <th>Dependents_2</th>\n",
              "      <th>Dependents_3</th>\n",
              "    </tr>\n",
              "  </thead>\n",
              "  <tbody>\n",
              "    <tr>\n",
              "      <th>0</th>\n",
              "      <td>5849</td>\n",
              "      <td>0.0</td>\n",
              "      <td>128.0</td>\n",
              "      <td>360.0</td>\n",
              "      <td>1.0</td>\n",
              "      <td>0.0</td>\n",
              "      <td>1.0</td>\n",
              "      <td>1.0</td>\n",
              "      <td>0.0</td>\n",
              "      <td>0.0</td>\n",
              "      <td>1.0</td>\n",
              "      <td>1.0</td>\n",
              "      <td>0.0</td>\n",
              "      <td>1.0</td>\n",
              "      <td>0.0</td>\n",
              "      <td>0.0</td>\n",
              "      <td>0.0</td>\n",
              "      <td>1.0</td>\n",
              "      <td>1.0</td>\n",
              "      <td>0.0</td>\n",
              "      <td>0.0</td>\n",
              "      <td>0.0</td>\n",
              "    </tr>\n",
              "    <tr>\n",
              "      <th>1</th>\n",
              "      <td>4583</td>\n",
              "      <td>1508.0</td>\n",
              "      <td>128.0</td>\n",
              "      <td>360.0</td>\n",
              "      <td>1.0</td>\n",
              "      <td>1.0</td>\n",
              "      <td>0.0</td>\n",
              "      <td>0.0</td>\n",
              "      <td>1.0</td>\n",
              "      <td>0.0</td>\n",
              "      <td>1.0</td>\n",
              "      <td>1.0</td>\n",
              "      <td>0.0</td>\n",
              "      <td>1.0</td>\n",
              "      <td>0.0</td>\n",
              "      <td>1.0</td>\n",
              "      <td>0.0</td>\n",
              "      <td>0.0</td>\n",
              "      <td>0.0</td>\n",
              "      <td>1.0</td>\n",
              "      <td>0.0</td>\n",
              "      <td>0.0</td>\n",
              "    </tr>\n",
              "    <tr>\n",
              "      <th>2</th>\n",
              "      <td>3000</td>\n",
              "      <td>0.0</td>\n",
              "      <td>66.0</td>\n",
              "      <td>360.0</td>\n",
              "      <td>1.0</td>\n",
              "      <td>0.0</td>\n",
              "      <td>1.0</td>\n",
              "      <td>0.0</td>\n",
              "      <td>1.0</td>\n",
              "      <td>0.0</td>\n",
              "      <td>1.0</td>\n",
              "      <td>0.0</td>\n",
              "      <td>1.0</td>\n",
              "      <td>1.0</td>\n",
              "      <td>0.0</td>\n",
              "      <td>0.0</td>\n",
              "      <td>0.0</td>\n",
              "      <td>1.0</td>\n",
              "      <td>1.0</td>\n",
              "      <td>0.0</td>\n",
              "      <td>0.0</td>\n",
              "      <td>0.0</td>\n",
              "    </tr>\n",
              "    <tr>\n",
              "      <th>3</th>\n",
              "      <td>2583</td>\n",
              "      <td>2358.0</td>\n",
              "      <td>120.0</td>\n",
              "      <td>360.0</td>\n",
              "      <td>1.0</td>\n",
              "      <td>0.0</td>\n",
              "      <td>1.0</td>\n",
              "      <td>0.0</td>\n",
              "      <td>1.0</td>\n",
              "      <td>0.0</td>\n",
              "      <td>1.0</td>\n",
              "      <td>1.0</td>\n",
              "      <td>0.0</td>\n",
              "      <td>0.0</td>\n",
              "      <td>1.0</td>\n",
              "      <td>0.0</td>\n",
              "      <td>0.0</td>\n",
              "      <td>1.0</td>\n",
              "      <td>1.0</td>\n",
              "      <td>0.0</td>\n",
              "      <td>0.0</td>\n",
              "      <td>0.0</td>\n",
              "    </tr>\n",
              "    <tr>\n",
              "      <th>4</th>\n",
              "      <td>6000</td>\n",
              "      <td>0.0</td>\n",
              "      <td>141.0</td>\n",
              "      <td>360.0</td>\n",
              "      <td>1.0</td>\n",
              "      <td>0.0</td>\n",
              "      <td>1.0</td>\n",
              "      <td>1.0</td>\n",
              "      <td>0.0</td>\n",
              "      <td>0.0</td>\n",
              "      <td>1.0</td>\n",
              "      <td>1.0</td>\n",
              "      <td>0.0</td>\n",
              "      <td>1.0</td>\n",
              "      <td>0.0</td>\n",
              "      <td>0.0</td>\n",
              "      <td>0.0</td>\n",
              "      <td>1.0</td>\n",
              "      <td>1.0</td>\n",
              "      <td>0.0</td>\n",
              "      <td>0.0</td>\n",
              "      <td>0.0</td>\n",
              "    </tr>\n",
              "  </tbody>\n",
              "</table>\n",
              "</div>"
            ],
            "text/plain": [
              "   ApplicantIncome  CoapplicantIncome  ...  Dependents_2  Dependents_3\n",
              "0             5849                0.0  ...           0.0           0.0\n",
              "1             4583             1508.0  ...           0.0           0.0\n",
              "2             3000                0.0  ...           0.0           0.0\n",
              "3             2583             2358.0  ...           0.0           0.0\n",
              "4             6000                0.0  ...           0.0           0.0\n",
              "\n",
              "[5 rows x 22 columns]"
            ]
          },
          "metadata": {
            "tags": []
          },
          "execution_count": 45
        }
      ]
    },
    {
      "cell_type": "markdown",
      "metadata": {
        "id": "an0bjlMP2ULa",
        "colab_type": "text"
      },
      "source": [
        "**Problem 4.2 - What is the shape of dataframe post OHE Encoding ?**"
      ]
    },
    {
      "cell_type": "code",
      "metadata": {
        "id": "MUVhCr0yN4za",
        "colab_type": "code",
        "colab": {
          "base_uri": "https://localhost:8080/",
          "height": 34
        },
        "outputId": "16a01a8b-b743-498a-e25f-dc288f9976cb"
      },
      "source": [
        "df_ohe.shape\n"
      ],
      "execution_count": 46,
      "outputs": [
        {
          "output_type": "execute_result",
          "data": {
            "text/plain": [
              "(614, 22)"
            ]
          },
          "metadata": {
            "tags": []
          },
          "execution_count": 46
        }
      ]
    },
    {
      "cell_type": "markdown",
      "metadata": {
        "id": "BnIRItpd2nrg",
        "colab_type": "text"
      },
      "source": [
        "**Problem 4.3 - Carry out Correlation analysis on this dataframe. Plot using HeatMap**"
      ]
    },
    {
      "cell_type": "code",
      "metadata": {
        "id": "Yu7WLQR-2uTN",
        "colab_type": "code",
        "colab": {
          "base_uri": "https://localhost:8080/",
          "height": 224
        },
        "outputId": "0c49ae26-ec2c-4439-e970-72b53bea6115"
      },
      "source": [
        "a=df_ohe.corr()\n",
        "a.head()\n"
      ],
      "execution_count": 47,
      "outputs": [
        {
          "output_type": "execute_result",
          "data": {
            "text/html": [
              "<div>\n",
              "<style scoped>\n",
              "    .dataframe tbody tr th:only-of-type {\n",
              "        vertical-align: middle;\n",
              "    }\n",
              "\n",
              "    .dataframe tbody tr th {\n",
              "        vertical-align: top;\n",
              "    }\n",
              "\n",
              "    .dataframe thead th {\n",
              "        text-align: right;\n",
              "    }\n",
              "</style>\n",
              "<table border=\"1\" class=\"dataframe\">\n",
              "  <thead>\n",
              "    <tr style=\"text-align: right;\">\n",
              "      <th></th>\n",
              "      <th>ApplicantIncome</th>\n",
              "      <th>CoapplicantIncome</th>\n",
              "      <th>LoanAmount</th>\n",
              "      <th>Loan_Amount_Term</th>\n",
              "      <th>Credit_History</th>\n",
              "      <th>Loan_Status_0</th>\n",
              "      <th>Loan_Status_1</th>\n",
              "      <th>Married_0</th>\n",
              "      <th>Married_1</th>\n",
              "      <th>Gender_0</th>\n",
              "      <th>Gender_1</th>\n",
              "      <th>Self_Employed_0</th>\n",
              "      <th>Self_Employed_1</th>\n",
              "      <th>Education_0</th>\n",
              "      <th>Education_1</th>\n",
              "      <th>Property_Area_0</th>\n",
              "      <th>Property_Area_1</th>\n",
              "      <th>Property_Area_2</th>\n",
              "      <th>Dependents_0</th>\n",
              "      <th>Dependents_1</th>\n",
              "      <th>Dependents_2</th>\n",
              "      <th>Dependents_3</th>\n",
              "    </tr>\n",
              "  </thead>\n",
              "  <tbody>\n",
              "    <tr>\n",
              "      <th>ApplicantIncome</th>\n",
              "      <td>1.000000</td>\n",
              "      <td>-0.116605</td>\n",
              "      <td>0.565181</td>\n",
              "      <td>-0.046531</td>\n",
              "      <td>-0.018615</td>\n",
              "      <td>0.004710</td>\n",
              "      <td>-0.004710</td>\n",
              "      <td>-0.049052</td>\n",
              "      <td>0.049052</td>\n",
              "      <td>-0.046230</td>\n",
              "      <td>0.046230</td>\n",
              "      <td>-0.122728</td>\n",
              "      <td>0.122728</td>\n",
              "      <td>0.140760</td>\n",
              "      <td>-0.140760</td>\n",
              "      <td>0.015829</td>\n",
              "      <td>-0.014246</td>\n",
              "      <td>-0.000598</td>\n",
              "      <td>-0.089291</td>\n",
              "      <td>0.040412</td>\n",
              "      <td>-0.037928</td>\n",
              "      <td>0.156687</td>\n",
              "    </tr>\n",
              "    <tr>\n",
              "      <th>CoapplicantIncome</th>\n",
              "      <td>-0.116605</td>\n",
              "      <td>1.000000</td>\n",
              "      <td>0.189218</td>\n",
              "      <td>-0.059383</td>\n",
              "      <td>0.011134</td>\n",
              "      <td>0.059187</td>\n",
              "      <td>-0.059187</td>\n",
              "      <td>-0.077760</td>\n",
              "      <td>0.077760</td>\n",
              "      <td>-0.086991</td>\n",
              "      <td>0.086991</td>\n",
              "      <td>0.021807</td>\n",
              "      <td>-0.021807</td>\n",
              "      <td>0.062290</td>\n",
              "      <td>-0.062290</td>\n",
              "      <td>0.005329</td>\n",
              "      <td>-0.027044</td>\n",
              "      <td>0.022776</td>\n",
              "      <td>-0.006026</td>\n",
              "      <td>-0.025532</td>\n",
              "      <td>0.002931</td>\n",
              "      <td>0.041491</td>\n",
              "    </tr>\n",
              "    <tr>\n",
              "      <th>LoanAmount</th>\n",
              "      <td>0.565181</td>\n",
              "      <td>0.189218</td>\n",
              "      <td>1.000000</td>\n",
              "      <td>0.036960</td>\n",
              "      <td>-0.000607</td>\n",
              "      <td>0.033214</td>\n",
              "      <td>-0.033214</td>\n",
              "      <td>-0.147108</td>\n",
              "      <td>0.147108</td>\n",
              "      <td>-0.097577</td>\n",
              "      <td>0.097577</td>\n",
              "      <td>-0.111754</td>\n",
              "      <td>0.111754</td>\n",
              "      <td>0.168759</td>\n",
              "      <td>-0.168759</td>\n",
              "      <td>0.043467</td>\n",
              "      <td>-0.005804</td>\n",
              "      <td>-0.036050</td>\n",
              "      <td>-0.142156</td>\n",
              "      <td>0.058578</td>\n",
              "      <td>0.016162</td>\n",
              "      <td>0.152850</td>\n",
              "    </tr>\n",
              "    <tr>\n",
              "      <th>Loan_Amount_Term</th>\n",
              "      <td>-0.046531</td>\n",
              "      <td>-0.059383</td>\n",
              "      <td>0.036960</td>\n",
              "      <td>1.000000</td>\n",
              "      <td>-0.004705</td>\n",
              "      <td>0.022549</td>\n",
              "      <td>-0.022549</td>\n",
              "      <td>0.095364</td>\n",
              "      <td>-0.095364</td>\n",
              "      <td>0.075813</td>\n",
              "      <td>-0.075813</td>\n",
              "      <td>0.027941</td>\n",
              "      <td>-0.027941</td>\n",
              "      <td>0.073928</td>\n",
              "      <td>-0.073928</td>\n",
              "      <td>0.034321</td>\n",
              "      <td>0.059141</td>\n",
              "      <td>-0.094279</td>\n",
              "      <td>0.100085</td>\n",
              "      <td>-0.085436</td>\n",
              "      <td>0.010409</td>\n",
              "      <td>-0.077273</td>\n",
              "    </tr>\n",
              "    <tr>\n",
              "      <th>Credit_History</th>\n",
              "      <td>-0.018615</td>\n",
              "      <td>0.011134</td>\n",
              "      <td>-0.000607</td>\n",
              "      <td>-0.004705</td>\n",
              "      <td>1.000000</td>\n",
              "      <td>-0.540556</td>\n",
              "      <td>0.540556</td>\n",
              "      <td>-0.009519</td>\n",
              "      <td>0.009519</td>\n",
              "      <td>-0.005658</td>\n",
              "      <td>0.005658</td>\n",
              "      <td>-0.006209</td>\n",
              "      <td>0.006209</td>\n",
              "      <td>0.073658</td>\n",
              "      <td>-0.073658</td>\n",
              "      <td>-0.020906</td>\n",
              "      <td>0.035976</td>\n",
              "      <td>-0.016934</td>\n",
              "      <td>0.049742</td>\n",
              "      <td>0.000924</td>\n",
              "      <td>-0.021872</td>\n",
              "      <td>-0.060473</td>\n",
              "    </tr>\n",
              "  </tbody>\n",
              "</table>\n",
              "</div>"
            ],
            "text/plain": [
              "                   ApplicantIncome  ...  Dependents_3\n",
              "ApplicantIncome           1.000000  ...      0.156687\n",
              "CoapplicantIncome        -0.116605  ...      0.041491\n",
              "LoanAmount                0.565181  ...      0.152850\n",
              "Loan_Amount_Term         -0.046531  ...     -0.077273\n",
              "Credit_History           -0.018615  ...     -0.060473\n",
              "\n",
              "[5 rows x 22 columns]"
            ]
          },
          "metadata": {
            "tags": []
          },
          "execution_count": 47
        }
      ]
    },
    {
      "cell_type": "code",
      "metadata": {
        "id": "rngaY97M3HTe",
        "colab_type": "code",
        "colab": {
          "base_uri": "https://localhost:8080/",
          "height": 624
        },
        "outputId": "48e49fe6-4ab8-42de-d9c8-8576647b3ebd"
      },
      "source": [
        "mask = np.zeros_like(a, dtype=np.bool)\n",
        "mask[np.triu_indices_from(mask)] = True\n",
        "f, ax = plt.subplots(figsize=(11, 9))\n",
        "cmap = sns.diverging_palette(220, 10, as_cmap=True)\n",
        "svm = sns.heatmap(a, mask=mask, cmap=cmap, center=0,\n",
        "            square=True, linewidths=.5, cbar_kws={\"shrink\": .5})\n",
        "figure = svm.get_figure()"
      ],
      "execution_count": 48,
      "outputs": [
        {
          "output_type": "display_data",
          "data": {
            "image/png": "[encoded data removed]",
            "text/plain": [
              "<Figure size 792x648 with 2 Axes>"
            ]
          },
          "metadata": {
            "tags": [],
            "needs_background": "light"
          }
        }
      ]
    },
    {
      "cell_type": "markdown",
      "metadata": {
        "id": "_NYuDLqf4Aq0",
        "colab_type": "text"
      },
      "source": [
        "**Problem 4.4 - Identify the variables that have strong correlation using OHE ( Correlation Coefficient > 0.5 or <0.5)**"
      ]
    },
    {
      "cell_type": "markdown",
      "metadata": {
        "id": "BcRsc5Pc4Gc9",
        "colab_type": "text"
      },
      "source": [
        "**Variables That Have Strong Correlations Using OHE Are:-**\n",
        "- (LoanAmount , ApplicantIncome)\n",
        "- (Loan_Status_1 , Credit_History)\n",
        "- (Dependents_0 , Married_0)\n",
        "- (Gender_0 , Married_0)\n",
        "- (Gender_1 , Married_1)\n",
        "- (Dependents2 , Married_1)"
      ]
    }
  ]
}